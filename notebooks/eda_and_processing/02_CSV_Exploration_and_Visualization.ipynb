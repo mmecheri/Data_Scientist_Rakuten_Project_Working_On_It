{
 "cells": [
  {
   "cell_type": "markdown",
   "id": "8a80bda0",
   "metadata": {},
   "source": [
    "# CSV Data Exploration and and Visualization\n",
    "\n",
    "\n",
    "\n",
    "## 📌 Notebook Objective  \n",
    "This notebook focuses on **exploring and analyzing structured data (CSV files)**.  \n",
    "We will:  \n",
    "✔ Load and inspect the datasets.  \n",
    "✔ Perform exploratory data analysis (EDA) and visualize key insights.  \n",
    "✔ Assess data quality and consistency before further processing.  \n",
    "\n",
    "These insights will help us prepare for **data preprocessing and feature engineering** in the next steps.  \n"
   ]
  },
  {
   "cell_type": "markdown",
   "id": "90d5cd9a",
   "metadata": {},
   "source": [
    "## 1.  Data Loading & Overview "
   ]
  },
  {
   "cell_type": "markdown",
   "id": "25f1a98d",
   "metadata": {},
   "source": [
    "###  Import Required Libraries "
   ]
  },
  {
   "cell_type": "code",
   "execution_count": 1,
   "id": "1fcc6c96",
   "metadata": {},
   "outputs": [],
   "source": [
    "import warnings\n",
    "warnings.filterwarnings(\"ignore\", category=FutureWarning)\n",
    "\n",
    "import os\n",
    "import sys\n",
    "from pathlib import Path\n",
    "import importlib\n",
    "import pandas as pd"
   ]
  },
  {
   "cell_type": "markdown",
   "id": "05b7d44b",
   "metadata": {},
   "source": [
    "### Setting Up Project Paths and Configurations"
   ]
  },
  {
   "cell_type": "code",
   "execution_count": 2,
   "id": "77ae9308",
   "metadata": {},
   "outputs": [
    {
     "name": "stdout",
     "output_type": "stream",
     "text": [
      "Project Root Directory: Data_Scientist_Rakuten_Project-main\n"
     ]
    }
   ],
   "source": [
    "# Get the current notebook directory\n",
    "CURRENT_DIR = Path(os.getcwd()).resolve()\n",
    "\n",
    "# Automatically find the project root (go up 1 level)\n",
    "PROJECT_ROOT = CURRENT_DIR.parents[1]\n",
    "\n",
    "# Add project root to sys.path\n",
    "sys.path.append(str(PROJECT_ROOT))\n",
    "\n",
    "# Function to get relative paths from project root\n",
    "def get_relative_path(absolute_path):\n",
    "    return str(Path(absolute_path).relative_to(PROJECT_ROOT))\n",
    "\n",
    "# Print project root directory\n",
    "print(f\"Project Root Directory: {PROJECT_ROOT.name}\")  # Display only the root folder name\n",
    "\n",
    "import config  # Now Python can find config.py"
   ]
  },
  {
   "cell_type": "markdown",
   "id": "6087b2e2",
   "metadata": {},
   "source": [
    "### 1.2  Loading Training and Test Data \n",
    "\n",
    "In this section, we will load the **datasets** provided for the project.  \n",
    "The following files will be loaded:\n",
    "-  **X_train_update.csv** → Feature set for training\n",
    "-  **y_train_CVw08PX.csv** → Target labels for training\n",
    "-  **X_test_update.csv** → Feature set for testing "
   ]
  },
  {
   "cell_type": "code",
   "execution_count": 3,
   "id": "c7c25603",
   "metadata": {},
   "outputs": [
    {
     "name": "stdout",
     "output_type": "stream",
     "text": [
      "Successfully loaded X_train_update.csv | Shape: (84916, 4)\n",
      "Successfully loaded y_train_CVw08PX.csv | Shape: (84916, 1)\n",
      "Successfully loaded X_test_update.csv | Shape: (13812, 4)\n"
     ]
    }
   ],
   "source": [
    "# Reload config to ensure any updates are applied\n",
    "importlib.reload(config\n",
    "\n",
    "# # === 🔹 DEFINE DATA PATHS === #\n",
    "# DATA_PATH = \"../data/raw/text/\"  # Répertoire où se trouvent les fichiers CSV\n",
    "DATA_PATH = Path(config.RAW_CSV_DIR)\n",
    "TRAIN_FILE = \"X_train_update.csv\"\n",
    "TARGET_FILE = \"y_train_CVw08PX.csv\"\n",
    "TEST_FILE = \"X_test_update.csv\"\n",
    "\n",
    "# === 🔹 FUNCTION TO LOAD DATA === #\n",
    "def load_data(file_name, data_path=DATA_PATH):\n",
    "    \"\"\"\n",
    "    Load a dataset from the given file path.\n",
    "\n",
    "    Parameters:\n",
    "    - file_name (str): Name of the file to load.\n",
    "    - data_path (str): Path where the file is located.\n",
    "\n",
    "    Returns:\n",
    "    - pd.DataFrame: Loaded dataset as a pandas DataFrame.\n",
    "    \"\"\"\n",
    "    file_path = os.path.join(data_path, file_name)\n",
    "    \n",
    "    try:\n",
    "        df = pd.read_csv(file_path,index_col=0)\n",
    "        print(f\"Successfully loaded {file_name} | Shape: {df.shape}\")\n",
    "        return df\n",
    "    except FileNotFoundError:\n",
    "        print(f\"Error: The file {file_name} was not found in {data_path}\")\n",
    "        return None\n",
    "    except Exception as e:\n",
    "        print(f\"Error loading {file_name}: {e}\")\n",
    "        return None\n",
    "\n",
    "# === 🔹 LOAD DATASETS === #\n",
    "X_train  = load_data(TRAIN_FILE)\n",
    "y_train = load_data(TARGET_FILE)\n",
    "X_test_submission    = load_data(TEST_FILE)\n"
   ]
  },
  {
   "cell_type": "markdown",
   "id": "5d395344",
   "metadata": {},
   "source": [
    "### 1.3 Preview of the Data \n",
    "\n",
    "Before proceeding, we will display key dataset information to verify the loading process:\n",
    "- A preview of the first rows\n",
    "- Dataset shapes\n",
    "- Consistency check between `X_train` and `y_train'"
   ]
  },
  {
   "cell_type": "code",
   "execution_count": 5,
   "id": "e15bbf0e",
   "metadata": {},
   "outputs": [
    {
     "name": "stdout",
     "output_type": "stream",
     "text": [
      "\n",
      " Sample Training Features (X_train):\n"
     ]
    },
    {
     "data": {
      "text/html": [
       "<div>\n",
       "<style scoped>\n",
       "    .dataframe tbody tr th:only-of-type {\n",
       "        vertical-align: middle;\n",
       "    }\n",
       "\n",
       "    .dataframe tbody tr th {\n",
       "        vertical-align: top;\n",
       "    }\n",
       "\n",
       "    .dataframe thead th {\n",
       "        text-align: right;\n",
       "    }\n",
       "</style>\n",
       "<table border=\"1\" class=\"dataframe\">\n",
       "  <thead>\n",
       "    <tr style=\"text-align: right;\">\n",
       "      <th></th>\n",
       "      <th>designation</th>\n",
       "      <th>description</th>\n",
       "      <th>productid</th>\n",
       "      <th>imageid</th>\n",
       "    </tr>\n",
       "  </thead>\n",
       "  <tbody>\n",
       "    <tr>\n",
       "      <th>0</th>\n",
       "      <td>Olivia: Personalisiertes Notizbuch / 150 Seite...</td>\n",
       "      <td>NaN</td>\n",
       "      <td>3804725264</td>\n",
       "      <td>1263597046</td>\n",
       "    </tr>\n",
       "    <tr>\n",
       "      <th>1</th>\n",
       "      <td>Journal Des Arts (Le) N° 133 Du 28/09/2001 - L...</td>\n",
       "      <td>NaN</td>\n",
       "      <td>436067568</td>\n",
       "      <td>1008141237</td>\n",
       "    </tr>\n",
       "    <tr>\n",
       "      <th>2</th>\n",
       "      <td>Grand Stylet Ergonomique Bleu Gamepad Nintendo...</td>\n",
       "      <td>PILOT STYLE Touch Pen de marque Speedlink est ...</td>\n",
       "      <td>201115110</td>\n",
       "      <td>938777978</td>\n",
       "    </tr>\n",
       "    <tr>\n",
       "      <th>3</th>\n",
       "      <td>Peluche Donald - Europe - Disneyland 2000 (Mar...</td>\n",
       "      <td>NaN</td>\n",
       "      <td>50418756</td>\n",
       "      <td>457047496</td>\n",
       "    </tr>\n",
       "    <tr>\n",
       "      <th>4</th>\n",
       "      <td>La Guerre Des Tuques</td>\n",
       "      <td>Luc a des id&amp;eacute;es de grandeur. Il veut or...</td>\n",
       "      <td>278535884</td>\n",
       "      <td>1077757786</td>\n",
       "    </tr>\n",
       "  </tbody>\n",
       "</table>\n",
       "</div>"
      ],
      "text/plain": [
       "                                         designation  \\\n",
       "0  Olivia: Personalisiertes Notizbuch / 150 Seite...   \n",
       "1  Journal Des Arts (Le) N° 133 Du 28/09/2001 - L...   \n",
       "2  Grand Stylet Ergonomique Bleu Gamepad Nintendo...   \n",
       "3  Peluche Donald - Europe - Disneyland 2000 (Mar...   \n",
       "4                               La Guerre Des Tuques   \n",
       "\n",
       "                                         description   productid     imageid  \n",
       "0                                                NaN  3804725264  1263597046  \n",
       "1                                                NaN   436067568  1008141237  \n",
       "2  PILOT STYLE Touch Pen de marque Speedlink est ...   201115110   938777978  \n",
       "3                                                NaN    50418756   457047496  \n",
       "4  Luc a des id&eacute;es de grandeur. Il veut or...   278535884  1077757786  "
      ]
     },
     "metadata": {},
     "output_type": "display_data"
    },
    {
     "name": "stdout",
     "output_type": "stream",
     "text": [
      "\n",
      " Sample Training Targets (y_train):\n"
     ]
    },
    {
     "data": {
      "text/html": [
       "<div>\n",
       "<style scoped>\n",
       "    .dataframe tbody tr th:only-of-type {\n",
       "        vertical-align: middle;\n",
       "    }\n",
       "\n",
       "    .dataframe tbody tr th {\n",
       "        vertical-align: top;\n",
       "    }\n",
       "\n",
       "    .dataframe thead th {\n",
       "        text-align: right;\n",
       "    }\n",
       "</style>\n",
       "<table border=\"1\" class=\"dataframe\">\n",
       "  <thead>\n",
       "    <tr style=\"text-align: right;\">\n",
       "      <th></th>\n",
       "      <th>prdtypecode</th>\n",
       "    </tr>\n",
       "  </thead>\n",
       "  <tbody>\n",
       "    <tr>\n",
       "      <th>0</th>\n",
       "      <td>10</td>\n",
       "    </tr>\n",
       "    <tr>\n",
       "      <th>1</th>\n",
       "      <td>2280</td>\n",
       "    </tr>\n",
       "    <tr>\n",
       "      <th>2</th>\n",
       "      <td>50</td>\n",
       "    </tr>\n",
       "    <tr>\n",
       "      <th>3</th>\n",
       "      <td>1280</td>\n",
       "    </tr>\n",
       "    <tr>\n",
       "      <th>4</th>\n",
       "      <td>2705</td>\n",
       "    </tr>\n",
       "  </tbody>\n",
       "</table>\n",
       "</div>"
      ],
      "text/plain": [
       "   prdtypecode\n",
       "0           10\n",
       "1         2280\n",
       "2           50\n",
       "3         1280\n",
       "4         2705"
      ]
     },
     "metadata": {},
     "output_type": "display_data"
    },
    {
     "name": "stdout",
     "output_type": "stream",
     "text": [
      "\n",
      " Sample Submission Features (X_test_submission):\n"
     ]
    },
    {
     "data": {
      "text/html": [
       "<div>\n",
       "<style scoped>\n",
       "    .dataframe tbody tr th:only-of-type {\n",
       "        vertical-align: middle;\n",
       "    }\n",
       "\n",
       "    .dataframe tbody tr th {\n",
       "        vertical-align: top;\n",
       "    }\n",
       "\n",
       "    .dataframe thead th {\n",
       "        text-align: right;\n",
       "    }\n",
       "</style>\n",
       "<table border=\"1\" class=\"dataframe\">\n",
       "  <thead>\n",
       "    <tr style=\"text-align: right;\">\n",
       "      <th></th>\n",
       "      <th>designation</th>\n",
       "      <th>description</th>\n",
       "      <th>productid</th>\n",
       "      <th>imageid</th>\n",
       "    </tr>\n",
       "  </thead>\n",
       "  <tbody>\n",
       "    <tr>\n",
       "      <th>84916</th>\n",
       "      <td>Folkmanis Puppets - 2732 - Marionnette Et Théâ...</td>\n",
       "      <td>NaN</td>\n",
       "      <td>516376098</td>\n",
       "      <td>1019294171</td>\n",
       "    </tr>\n",
       "    <tr>\n",
       "      <th>84917</th>\n",
       "      <td>Porte Flamme Gaxix - Flamebringer Gaxix - 136/...</td>\n",
       "      <td>NaN</td>\n",
       "      <td>133389013</td>\n",
       "      <td>1274228667</td>\n",
       "    </tr>\n",
       "    <tr>\n",
       "      <th>84918</th>\n",
       "      <td>Pompe de filtration Speck Badu 95</td>\n",
       "      <td>NaN</td>\n",
       "      <td>4128438366</td>\n",
       "      <td>1295960357</td>\n",
       "    </tr>\n",
       "    <tr>\n",
       "      <th>84919</th>\n",
       "      <td>Robot de piscine électrique</td>\n",
       "      <td>&lt;p&gt;Ce robot de piscine d&amp;#39;un design innovan...</td>\n",
       "      <td>3929899732</td>\n",
       "      <td>1265224052</td>\n",
       "    </tr>\n",
       "    <tr>\n",
       "      <th>84920</th>\n",
       "      <td>Hsm Destructeur Securio C16 Coupe Crois¿E: 4 X...</td>\n",
       "      <td>NaN</td>\n",
       "      <td>152993898</td>\n",
       "      <td>940543690</td>\n",
       "    </tr>\n",
       "  </tbody>\n",
       "</table>\n",
       "</div>"
      ],
      "text/plain": [
       "                                             designation  \\\n",
       "84916  Folkmanis Puppets - 2732 - Marionnette Et Théâ...   \n",
       "84917  Porte Flamme Gaxix - Flamebringer Gaxix - 136/...   \n",
       "84918                  Pompe de filtration Speck Badu 95   \n",
       "84919                        Robot de piscine électrique   \n",
       "84920  Hsm Destructeur Securio C16 Coupe Crois¿E: 4 X...   \n",
       "\n",
       "                                             description   productid  \\\n",
       "84916                                                NaN   516376098   \n",
       "84917                                                NaN   133389013   \n",
       "84918                                                NaN  4128438366   \n",
       "84919  <p>Ce robot de piscine d&#39;un design innovan...  3929899732   \n",
       "84920                                                NaN   152993898   \n",
       "\n",
       "          imageid  \n",
       "84916  1019294171  \n",
       "84917  1274228667  \n",
       "84918  1295960357  \n",
       "84919  1265224052  \n",
       "84920   940543690  "
      ]
     },
     "metadata": {},
     "output_type": "display_data"
    }
   ],
   "source": [
    "# === PREVIEW DATA === #\n",
    "if X_train is not None:\n",
    "    print(\"\\n Sample Training Features (X_train):\")\n",
    "    display(X_train.head())\n",
    "\n",
    "if y_train is not None:\n",
    "    print(\"\\n Sample Training Targets (y_train):\")\n",
    "    display(y_train.head())\n",
    "\n",
    "if X_test_submission is not None:\n",
    "    print(\"\\n Sample Submission Features (X_test_submission):\")\n",
    "    display(X_test_submission.head())\n"
   ]
  },
  {
   "cell_type": "code",
   "execution_count": 7,
   "id": "a0b70780",
   "metadata": {},
   "outputs": [
    {
     "name": "stdout",
     "output_type": "stream",
     "text": [
      "X_train Shape: (84916, 4)\n",
      "y_train Shape: (84916, 1)\n",
      "X_train and y_train are aligned\n",
      "X_test_submission Shape: (13812, 4)\n"
     ]
    }
   ],
   "source": [
    "# === DATA SHAPE CHECK === #\n",
    "if X_train is not None and y_train is not None:\n",
    "    print(f\"X_train Shape: {X_train.shape}\")\n",
    "    print(f\"y_train Shape: {y_train.shape}\")\n",
    "\n",
    "    # Check if X_train and y_train have matching sample counts\n",
    "    if X_train.shape[0] == y_train.shape[0]:\n",
    "        print(\"X_train and y_train are aligned\")\n",
    "    else:\n",
    "        print(\"/!\\ Mismatch between X_train and y_train!\")\n",
    "\n",
    "if X_test_submission is not None:\n",
    "    print(f\"X_test_submission Shape: {X_test_submission.shape}\")\n"
   ]
  },
  {
   "cell_type": "markdown",
   "id": "dd2c264f",
   "metadata": {},
   "source": [
    "## 2. Data Quality & Consistency Checks"
   ]
  },
  {
   "cell_type": "markdown",
   "id": "82f2d66c",
   "metadata": {},
   "source": [
    "\n",
    "\n",
    "Before moving forward, we need to check the **quality and consistency** of our datasets. This involves identifying missing values, verifying data types, detecting duplicates, ensuring consistency between training and test sets, and analyzing the class distribution.\n",
    "\n",
    "### Key Aspects to Check:\n",
    "\n",
    "We will examine:  \n",
    "  **1. Missing values analysis**  \n",
    "  **2. Data types (`info()`)**  \n",
    "  **3. Duplicate detection (`duplicated()`)**  \n",
    "  **4. Consistency between `X_train` and `X_test_submission`**  \n",
    "  **5. Class distribution analysis (`prdtypecode`)**  \n"
   ]
  },
  {
   "cell_type": "markdown",
   "id": "8e006edb",
   "metadata": {},
   "source": [
    "### 2.1 Missing values analysis"
   ]
  },
  {
   "cell_type": "code",
   "execution_count": 8,
   "id": "b39447db",
   "metadata": {},
   "outputs": [
    {
     "name": "stdout",
     "output_type": "stream",
     "text": [
      "Checking missing values:\n",
      "Missing values detected in X_train:\n"
     ]
    },
    {
     "data": {
      "text/html": [
       "<div>\n",
       "<style scoped>\n",
       "    .dataframe tbody tr th:only-of-type {\n",
       "        vertical-align: middle;\n",
       "    }\n",
       "\n",
       "    .dataframe tbody tr th {\n",
       "        vertical-align: top;\n",
       "    }\n",
       "\n",
       "    .dataframe thead th {\n",
       "        text-align: right;\n",
       "    }\n",
       "</style>\n",
       "<table border=\"1\" class=\"dataframe\">\n",
       "  <thead>\n",
       "    <tr style=\"text-align: right;\">\n",
       "      <th></th>\n",
       "      <th>Missing Count</th>\n",
       "      <th>Missing %</th>\n",
       "    </tr>\n",
       "  </thead>\n",
       "  <tbody>\n",
       "    <tr>\n",
       "      <th>description</th>\n",
       "      <td>29800</td>\n",
       "      <td>35.093504</td>\n",
       "    </tr>\n",
       "  </tbody>\n",
       "</table>\n",
       "</div>"
      ],
      "text/plain": [
       "             Missing Count  Missing %\n",
       "description          29800  35.093504"
      ]
     },
     "metadata": {},
     "output_type": "display_data"
    },
    {
     "name": "stdout",
     "output_type": "stream",
     "text": [
      "Missing values detected in X_test_submission:\n"
     ]
    },
    {
     "data": {
      "text/html": [
       "<div>\n",
       "<style scoped>\n",
       "    .dataframe tbody tr th:only-of-type {\n",
       "        vertical-align: middle;\n",
       "    }\n",
       "\n",
       "    .dataframe tbody tr th {\n",
       "        vertical-align: top;\n",
       "    }\n",
       "\n",
       "    .dataframe thead th {\n",
       "        text-align: right;\n",
       "    }\n",
       "</style>\n",
       "<table border=\"1\" class=\"dataframe\">\n",
       "  <thead>\n",
       "    <tr style=\"text-align: right;\">\n",
       "      <th></th>\n",
       "      <th>Missing Count</th>\n",
       "      <th>Missing %</th>\n",
       "    </tr>\n",
       "  </thead>\n",
       "  <tbody>\n",
       "    <tr>\n",
       "      <th>description</th>\n",
       "      <td>4886</td>\n",
       "      <td>35.375036</td>\n",
       "    </tr>\n",
       "  </tbody>\n",
       "</table>\n",
       "</div>"
      ],
      "text/plain": [
       "             Missing Count  Missing %\n",
       "description           4886  35.375036"
      ]
     },
     "metadata": {},
     "output_type": "display_data"
    },
    {
     "name": "stdout",
     "output_type": "stream",
     "text": [
      "No missing values in y_train.\n"
     ]
    }
   ],
   "source": [
    "# === CHECK MISSING VALUES IN ALL DATASETS === #\n",
    "\n",
    "def check_missing_values(df, df_name):\n",
    "    \"\"\"\n",
    "    Check for missing values in a DataFrame and display appropriate message.\n",
    "\n",
    "    Parameters:\n",
    "    - df (pd.DataFrame): The dataset to check\n",
    "    - df_name (str): Name of the dataset (for logging purposes)\n",
    "\n",
    "    Returns:\n",
    "    - None (Displays information about missing values)\n",
    "    \"\"\"\n",
    "    missing_df = df.isna().sum().to_frame(name=\"Missing Count\")\n",
    "    missing_df[\"Missing %\"] = (missing_df[\"Missing Count\"] / len(df)) * 100\n",
    "    missing_df = missing_df[missing_df[\"Missing Count\"] > 0]\n",
    "\n",
    "    if missing_df.empty:\n",
    "        print(f\"No missing values in {df_name}.\")\n",
    "    else:\n",
    "        print(f\"Missing values detected in {df_name}:\")\n",
    "        display(missing_df)\n",
    "\n",
    "# Checking missing values in all datasets\n",
    "print(\"Checking missing values:\")\n",
    "check_missing_values(X_train, \"X_train\")\n",
    "check_missing_values(X_test_submission, \"X_test_submission\")\n",
    "check_missing_values(y_train, \"y_train\")\n"
   ]
  },
  {
   "cell_type": "markdown",
   "id": "0d00da34",
   "metadata": {},
   "source": [
    "### 2.2 Data Types & General Info"
   ]
  },
  {
   "cell_type": "code",
   "execution_count": 9,
   "id": "61d155d2",
   "metadata": {},
   "outputs": [
    {
     "name": "stdout",
     "output_type": "stream",
     "text": [
      "\n",
      "Dataset Information for X_train:\n",
      "<class 'pandas.core.frame.DataFrame'>\n",
      "Int64Index: 84916 entries, 0 to 84915\n",
      "Data columns (total 4 columns):\n",
      " #   Column       Non-Null Count  Dtype \n",
      "---  ------       --------------  ----- \n",
      " 0   designation  84916 non-null  object\n",
      " 1   description  55116 non-null  object\n",
      " 2   productid    84916 non-null  int64 \n",
      " 3   imageid      84916 non-null  int64 \n",
      "dtypes: int64(2), object(2)\n",
      "memory usage: 3.2+ MB\n",
      "\n",
      "--------------------------------------------------\n",
      "\n",
      "Dataset Information for X_test_submission:\n",
      "<class 'pandas.core.frame.DataFrame'>\n",
      "Int64Index: 13812 entries, 84916 to 98727\n",
      "Data columns (total 4 columns):\n",
      " #   Column       Non-Null Count  Dtype \n",
      "---  ------       --------------  ----- \n",
      " 0   designation  13812 non-null  object\n",
      " 1   description  8926 non-null   object\n",
      " 2   productid    13812 non-null  int64 \n",
      " 3   imageid      13812 non-null  int64 \n",
      "dtypes: int64(2), object(2)\n",
      "memory usage: 539.5+ KB\n",
      "\n",
      "--------------------------------------------------\n",
      "\n",
      "Dataset Information for y_train:\n",
      "<class 'pandas.core.frame.DataFrame'>\n",
      "Int64Index: 84916 entries, 0 to 84915\n",
      "Data columns (total 1 columns):\n",
      " #   Column       Non-Null Count  Dtype\n",
      "---  ------       --------------  -----\n",
      " 0   prdtypecode  84916 non-null  int64\n",
      "dtypes: int64(1)\n",
      "memory usage: 1.3 MB\n"
     ]
    }
   ],
   "source": [
    "# Display general information for all datasets\n",
    "print(\"\\nDataset Information for X_train:\")\n",
    "X_train.info()\n",
    "print(\"\\n\" + \"-\"*50)\n",
    "print(\"\\nDataset Information for X_test_submission:\")\n",
    "X_test_submission.info()\n",
    "print(\"\\n\" + \"-\"*50)\n",
    "print(\"\\nDataset Information for y_train:\")\n",
    "y_train.info()"
   ]
  },
  {
   "cell_type": "markdown",
   "id": "bc5007a3",
   "metadata": {},
   "source": [
    "### 2.3. Duplicate Detection (duplicated())"
   ]
  },
  {
   "cell_type": "code",
   "execution_count": 13,
   "id": "020795dd",
   "metadata": {},
   "outputs": [
    {
     "name": "stdout",
     "output_type": "stream",
     "text": [
      "\n",
      "Duplicate rows in X_train: 0\n",
      "Duplicate rows in X_test_submission: 0\n",
      "Duplicate rows in y_train: 84889\n"
     ]
    }
   ],
   "source": [
    "# Check for duplicate rows in each dataset\n",
    "print(f\"\\nDuplicate rows in X_train: {X_train.duplicated().sum()}\")\n",
    "print(f\"Duplicate rows in X_test_submission: {X_test_submission.duplicated().sum()}\")\n",
    "print(f\"Duplicate rows in y_train: {y_train.duplicated().sum()}\")"
   ]
  },
  {
   "cell_type": "markdown",
   "id": "ffccc28b",
   "metadata": {},
   "source": [
    "### 2.4. Consistency Between X_train and X_test_submission\n",
    "Ensuring that the train and test datasets share the same structure."
   ]
  },
  {
   "cell_type": "code",
   "execution_count": 14,
   "id": "27f46941",
   "metadata": {},
   "outputs": [
    {
     "name": "stdout",
     "output_type": "stream",
     "text": [
      "Train and Test datasets have matching columns.\n"
     ]
    }
   ],
   "source": [
    "# Checking structure consistency\n",
    "if list(X_train.columns) == list(X_test_submission.columns):\n",
    "    print(\"Train and Test datasets have matching columns.\")\n",
    "else:\n",
    "    print(\"⚠ WARNING: The Train and X_test_submission datasets have different column structures!\")\n",
    "    print(\"Train Columns:\", X_train.columns)\n",
    "    print(\"Test Columns:\", X_test_submission.columns)\n"
   ]
  },
  {
   "cell_type": "markdown",
   "id": "59c11695",
   "metadata": {},
   "source": [
    "### 2.5. Class Distribution Analysis (prdtypecode)\n",
    "\n",
    "We will first display the exact count of unique values in `y_train`.  \n",
    "Then, we will visualize the distribution of product type codes (`prdtypecode`) using both **bar chart** and **pie chart** to better understand the class distribution."
   ]
  },
  {
   "cell_type": "markdown",
   "id": "ddb010e8",
   "metadata": {},
   "source": [
    "#### Count unique product code values"
   ]
  },
  {
   "cell_type": "code",
   "execution_count": 15,
   "id": "7bdc6b7b",
   "metadata": {},
   "outputs": [
    {
     "name": "stdout",
     "output_type": "stream",
     "text": [
      "Unique Product Codes:\n",
      "[  10   40   50   60 1140 1160 1180 1280 1281 1300 1301 1302 1320 1560\n",
      " 1920 1940 2060 2220 2280 2403 2462 2522 2582 2583 2585 2705 2905]\n"
     ]
    }
   ],
   "source": [
    "import numpy as np\n",
    "\n",
    "# === Get unique product codes === #\n",
    "unique_product_codes = np.unique(y_train[\"prdtypecode\"])\n",
    "\n",
    "# Display unique values\n",
    "print(\"Unique Product Codes:\")\n",
    "print(unique_product_codes)"
   ]
  },
  {
   "cell_type": "markdown",
   "id": "9747f96e",
   "metadata": {},
   "source": [
    " #### Bar Chart: Class Distribution"
   ]
  },
  {
   "cell_type": "code",
   "execution_count": 16,
   "id": "5f5ed493",
   "metadata": {
    "scrolled": true
   },
   "outputs": [
    {
     "data": {
      "image/png": "[encoded data removed]",
      "text/plain": [
       "<Figure size 1296x576 with 1 Axes>"
      ]
     },
     "metadata": {
      "needs_background": "light"
     },
     "output_type": "display_data"
    }
   ],
   "source": [
    "import matplotlib.pyplot as plt\n",
    "import seaborn as sns\n",
    "\n",
    "\n",
    "plt.figure(figsize=(18,8))\n",
    "large_to_small = y_train.groupby('prdtypecode').size().sort_values().index[::-1]\n",
    "sns.countplot(data=y_train, x=\"prdtypecode\",order=large_to_small)\n",
    "plt.title(\"Class Distribution in y_train\")\n",
    "plt.xticks(rotation=45)\n",
    "plt.show()"
   ]
  },
  {
   "cell_type": "markdown",
   "id": "11f39a23",
   "metadata": {},
   "source": [
    "#### Pie Chart: Percentage of Each Class"
   ]
  },
  {
   "cell_type": "code",
   "execution_count": 17,
   "id": "c3a820cc",
   "metadata": {},
   "outputs": [
    {
     "data": {
      "image/png": "[encoded data removed]",
      "text/plain": [
       "<Figure size 1440x1008 with 1 Axes>"
      ]
     },
     "metadata": {},
     "output_type": "display_data"
    }
   ],
   "source": [
    "# === Pie Chart: Percentage of Each Class === #\n",
    "typecodes = y_train[\"prdtypecode\"].value_counts(normalize=True)  # Normalize to get percentages\n",
    "explode = np.zeros(len(typecodes))\n",
    "explode[typecodes.argmax()] = 0.2  # Highlight the most frequent class\n",
    "\n",
    "plt.figure(figsize=(20,14))\n",
    "plt.pie(\n",
    "    x=typecodes,\n",
    "    labels=typecodes.index,\n",
    "    explode=explode,\n",
    "    shadow=True, \n",
    "    autopct=lambda x: f\"{x:.2f}%\",\n",
    "    pctdistance=0.7, \n",
    "    labeldistance=1.05\n",
    ")\n",
    "plt.title(\"Percentage of Product Type Classes\")\n",
    "plt.show()\n"
   ]
  },
  {
   "cell_type": "markdown",
   "id": "a5ec84a2",
   "metadata": {},
   "source": [
    "### 2.6. Language Detection"
   ]
  },
  {
   "cell_type": "code",
   "execution_count": 18,
   "id": "6106026c",
   "metadata": {},
   "outputs": [],
   "source": [
    "# from langdetect import detect\n",
    "\n",
    "# # Function to detect the language of a given text\n",
    "# def detect_language(text):\n",
    "#     try:\n",
    "#         return detect(text)  # Returns the detected language (e.g., 'en' for English, 'fr' for French)\n",
    "#     except:\n",
    "#         return \"unknown\"  # In case the text cannot be detected properly\n",
    "\n",
    "# # # Apply the function to detect the language for each entry in 'text' column\n",
    "# # df_train['language'] = df_train['text'].apply(detect_language)\n",
    "# # X_test_submission['language'] = X_test_submission['text'].apply(detect_language)\n",
    "\n",
    "\n",
    "\n",
    "# # # Sample 1000 rows for faster testing\n",
    "# # sample_train = X_train.sample(1000, random_state=42)\n",
    "# # sample_train['language'] = sample_train['designation'].apply(detect_language)\n",
    "\n",
    "# X_train['language'] = X_train['designation'].apply(detect_language)\n",
    "\n",
    "# # Inspect sample results\n",
    "# print(X_train[['designation', 'language']].head())\n"
   ]
  },
  {
   "cell_type": "code",
   "execution_count": 19,
   "id": "9529e49d",
   "metadata": {},
   "outputs": [],
   "source": [
    "# # Get unique languages detected\n",
    "# unique_languages = X_train['language'].unique()\n",
    "\n",
    "# # Print the total number of unique languages\n",
    "# print(f\"Total number of unique detected languages: {len(unique_languages)}\\n\")\n",
    "\n",
    "# # Display one example row for each language\n",
    "# examples = {}\n",
    "# for lang in unique_languages:\n",
    "#     example_row = X_train[X_train['language'] == lang].iloc[0]  # Get the first occurrence of the language\n",
    "#     examples[lang] = example_row['designation']  # Store the example text\n",
    "\n",
    "# # Display results\n",
    "# for lang, text in examples.items():\n",
    "#     print(f\"Language: {lang}\")\n",
    "#     print(f\"Example: {text}\")\n",
    "#     print(\"-\" * 50)  # Separator for readability\n"
   ]
  },
  {
   "cell_type": "code",
   "execution_count": 20,
   "id": "cd4b7237",
   "metadata": {},
   "outputs": [],
   "source": [
    "# pip install fasttext-wheel\n"
   ]
  },
  {
   "cell_type": "code",
   "execution_count": 21,
   "id": "d3bc3c13",
   "metadata": {},
   "outputs": [],
   "source": [
    "# !pip install fasttext\n",
    "# import fasttext"
   ]
  },
  {
   "cell_type": "code",
   "execution_count": 22,
   "id": "da27ac06",
   "metadata": {},
   "outputs": [],
   "source": [
    "# pip install pybind11"
   ]
  },
  {
   "cell_type": "code",
   "execution_count": 23,
   "id": "35fc8f6e",
   "metadata": {},
   "outputs": [],
   "source": [
    "# pip install git+https://github.com/facebookresearch/fastText.git"
   ]
  },
  {
   "cell_type": "code",
   "execution_count": 24,
   "id": "ea288658",
   "metadata": {},
   "outputs": [],
   "source": [
    "# import fasttext\n",
    "\n",
    "# model = fasttext.load_model('lid.176.bin')\n",
    "# print(model.predict(\"La Guerre Des Tuques\"))"
   ]
  },
  {
   "cell_type": "code",
   "execution_count": 25,
   "id": "654faebb",
   "metadata": {},
   "outputs": [],
   "source": [
    "# from langdetect import detect_langs\n",
    "# print(detect_langs(\"La Guerre Des Tuques\"))  \n"
   ]
  },
  {
   "cell_type": "code",
   "execution_count": 26,
   "id": "068ea87b",
   "metadata": {},
   "outputs": [],
   "source": [
    "# import matplotlib.pyplot as plt\n",
    "\n",
    "# # Count the number of unique languages detected\n",
    "# language_counts = X_train['language'].value_counts()\n",
    "\n",
    "# # Print the total number of unique languages detected\n",
    "# print(f\"Total number of detected languages: {language_counts.shape[0]}\")\n",
    "\n",
    "# # Display the distribution of detected languages\n",
    "# print(\"Detected language distribution:\")\n",
    "# print(language_counts)\n",
    "\n",
    "# # Create a horizontal bar chart for better readability\n",
    "# plt.figure(figsize=(16,6))\n",
    "# language_counts.sort_values().plot(kind='barh', color='cornflowerblue')  # Horizontal bar chart\n",
    "# plt.xlabel(\"Number of occurrences\")  # Label for x-axis\n",
    "# plt.ylabel(\"Languages\")  # Label for y-axis\n",
    "# plt.title(\"Distribution of Detected Languages\")  # Title of the plot\n",
    "# plt.grid(axis='x', linestyle='--', alpha=0.7)  # Add grid for better readability\n",
    "# plt.show()  # Show the plot\n",
    "\n",
    "# # # Create a pie chart for language distribution\n",
    "# # plt.figure(figsize=(8, 8))\n",
    "# # language_counts.plot(kind='pie', autopct='%1.1f%%', colors=plt.cm.Paired.colors, startangle=140)\n",
    "# # plt.ylabel(\"\")  #\n"
   ]
  },
  {
   "cell_type": "markdown",
   "id": "01661028",
   "metadata": {},
   "source": [
    "## 3. Observations from CSV Data \n",
    "\n",
    "\n",
    "\n",
    "### 3.1 Structure of the CSV Files\n",
    "- **`X_train`** contains product features:\n",
    "  - `designation` (product title) and `description` (optional product details).\n",
    "  - `productid` (product identifier, used in the image file naming).\n",
    "  - `imageid` (image identifier, also used in the image file naming).\n",
    "- **`y_train`** contains the **target variable**:\n",
    "  - `prdtypecode` (product category label for classification).\n",
    "- **`X_test_submission`** follows the same structure as `X_train`, but without `prdtypecode`.\n",
    "\n",
    " **Image Naming Convention**  \n",
    "Images are stored separately, and their filenames follow this format:  \n",
    "`image_<imageid>_product_<productid>.jpg`  \n",
    "This means that **both `imageid` and `productid` are needed** to correctly map an image to its corresponding product.\n",
    "\n",
    "### 3.2 Missing Values\n",
    "- **35.1%** of `description` is missing in `X_train`, and **35.4%** in `X_test_submission`.\n",
    "- No missing values in `y_train`.  \n",
    "-  **Action:** We need to decide whether to:  \n",
    "  - **Remove rows with missing descriptions** if they are not useful.  \n",
    "  - **Combine `designation` and `description`** into a single column to enrich product information.  \n",
    "  - **Handle missing values** (e.g., replacing with placeholders like \"No description available\").\n",
    "\n",
    "\n",
    "### 3.3 Data Types\n",
    "- All columns have **appropriate data types**:\n",
    "  - `productid` and `imageid` are **int64**.\n",
    "  - `designation` and `description` are **object** (text fields).\n",
    "  - `prdtypecode` in `y_train` is **int64** (correct for classification).\n",
    "-  **No immediate action needed**, but text fields may require cleaning and preprocessing (e.g., lowercasing, removing special characters, tokenization, vectorization).\n",
    "\n",
    "---\n",
    "\n",
    "### 3.4 Duplicate Detection\n",
    "- **No duplicate rows** detected in `X_train` and `X_test_submission`. \n",
    "- **Duplicate rows in `y_train`: 84,889** (expected, as it represents class labels).  \n",
    "-  **No action required** for `y_train` as repeated labels are expected.\n",
    "\n",
    "---\n",
    "\n",
    "### 3.5 Consistency Between `X_train` and `X_test_submission`\n",
    "- The **train and test datasets have matching columns** and **identical structure**.\n",
    "- **No inconsistencies detected**, so the test dataset can be used directly in model evaluation.\n",
    "\n",
    "---\n",
    "\n",
    "### 3.6 Class Distribution in `prdtypecode`\n",
    "- **27 unique product categories** (`prdtypecode`).  \n",
    "- **Imbalance detected**:  \n",
    "  - The **most frequent class (`2583`) represents 12.02%** of the dataset.  \n",
    "  - Some **less frequent classes (`60`, `2220`, `1301`, `1940`, `1180`)** have less than **1%** representation.  \n",
    "- **Possible actions**:\n",
    "  - If class imbalance is significant, consider **oversampling or undersampling** techniques.\n",
    "  - Investigate whether **merging underrepresented classes** is a viable option.\n",
    "\n",
    "\n",
    "### 3.7 Language Detection \n",
    "\n",
    "The text data (product designation) is in three languages:**French**, **English** and **German**.\n",
    "Knowing this is useful because:\n",
    "- Different languages have different stopwords, so we need to handle them separately.\n",
    "- Some cleaning techniques, like stemming or lemmatization, work better if we know the language.\n",
    "- It helps ensure that special characters (accents, etc.) are correctly handle\n",
    "\n",
    "---\n",
    "\n",
    "###  **Building a Complete Training Dataset (`X_full_train`)**  \n",
    "\n",
    "Now that we have analyzed the CSV data, we need to **combine product metadata (`X_train`) with target labels (`y_train`)** to create a **single structured dataset**:  \n",
    "\n",
    "📌 **`X_full_train` = `X_train` + `y_train`**  \n",
    "\n",
    "This step is crucial because:  \n",
    "- It **links each product's features to its target category (`prdtypecode`)** for supervised learning.  \n",
    "- It **ensures a unified dataset** before applying text/image processing.  \n",
    "- It **facilitates the integration of image features** in later stages.  \n"
   ]
  },
  {
   "cell_type": "markdown",
   "id": "6ceef4b8",
   "metadata": {},
   "source": [
    "## 4. Building a Complete Training Dataset (`X_full_train`)"
   ]
  },
  {
   "cell_type": "code",
   "execution_count": 27,
   "id": "e7cb5f8a",
   "metadata": {},
   "outputs": [
    {
     "name": "stdout",
     "output_type": "stream",
     "text": [
      "Dataset `X_full_train` created with shape: (84916, 5)\n"
     ]
    },
    {
     "data": {
      "text/html": [
       "<div>\n",
       "<style scoped>\n",
       "    .dataframe tbody tr th:only-of-type {\n",
       "        vertical-align: middle;\n",
       "    }\n",
       "\n",
       "    .dataframe tbody tr th {\n",
       "        vertical-align: top;\n",
       "    }\n",
       "\n",
       "    .dataframe thead th {\n",
       "        text-align: right;\n",
       "    }\n",
       "</style>\n",
       "<table border=\"1\" class=\"dataframe\">\n",
       "  <thead>\n",
       "    <tr style=\"text-align: right;\">\n",
       "      <th></th>\n",
       "      <th>designation</th>\n",
       "      <th>description</th>\n",
       "      <th>productid</th>\n",
       "      <th>imageid</th>\n",
       "      <th>prdtypecode</th>\n",
       "    </tr>\n",
       "  </thead>\n",
       "  <tbody>\n",
       "    <tr>\n",
       "      <th>0</th>\n",
       "      <td>Olivia: Personalisiertes Notizbuch / 150 Seite...</td>\n",
       "      <td>NaN</td>\n",
       "      <td>3804725264</td>\n",
       "      <td>1263597046</td>\n",
       "      <td>10</td>\n",
       "    </tr>\n",
       "    <tr>\n",
       "      <th>1</th>\n",
       "      <td>Journal Des Arts (Le) N° 133 Du 28/09/2001 - L...</td>\n",
       "      <td>NaN</td>\n",
       "      <td>436067568</td>\n",
       "      <td>1008141237</td>\n",
       "      <td>2280</td>\n",
       "    </tr>\n",
       "    <tr>\n",
       "      <th>2</th>\n",
       "      <td>Grand Stylet Ergonomique Bleu Gamepad Nintendo...</td>\n",
       "      <td>PILOT STYLE Touch Pen de marque Speedlink est ...</td>\n",
       "      <td>201115110</td>\n",
       "      <td>938777978</td>\n",
       "      <td>50</td>\n",
       "    </tr>\n",
       "    <tr>\n",
       "      <th>3</th>\n",
       "      <td>Peluche Donald - Europe - Disneyland 2000 (Mar...</td>\n",
       "      <td>NaN</td>\n",
       "      <td>50418756</td>\n",
       "      <td>457047496</td>\n",
       "      <td>1280</td>\n",
       "    </tr>\n",
       "    <tr>\n",
       "      <th>4</th>\n",
       "      <td>La Guerre Des Tuques</td>\n",
       "      <td>Luc a des id&amp;eacute;es de grandeur. Il veut or...</td>\n",
       "      <td>278535884</td>\n",
       "      <td>1077757786</td>\n",
       "      <td>2705</td>\n",
       "    </tr>\n",
       "  </tbody>\n",
       "</table>\n",
       "</div>"
      ],
      "text/plain": [
       "                                         designation  \\\n",
       "0  Olivia: Personalisiertes Notizbuch / 150 Seite...   \n",
       "1  Journal Des Arts (Le) N° 133 Du 28/09/2001 - L...   \n",
       "2  Grand Stylet Ergonomique Bleu Gamepad Nintendo...   \n",
       "3  Peluche Donald - Europe - Disneyland 2000 (Mar...   \n",
       "4                               La Guerre Des Tuques   \n",
       "\n",
       "                                         description   productid     imageid  \\\n",
       "0                                                NaN  3804725264  1263597046   \n",
       "1                                                NaN   436067568  1008141237   \n",
       "2  PILOT STYLE Touch Pen de marque Speedlink est ...   201115110   938777978   \n",
       "3                                                NaN    50418756   457047496   \n",
       "4  Luc a des id&eacute;es de grandeur. Il veut or...   278535884  1077757786   \n",
       "\n",
       "   prdtypecode  \n",
       "0           10  \n",
       "1         2280  \n",
       "2           50  \n",
       "3         1280  \n",
       "4         2705  "
      ]
     },
     "metadata": {},
     "output_type": "display_data"
    },
    {
     "name": "stdout",
     "output_type": "stream",
     "text": [
      "\n",
      "--------------------------------------------------\n",
      "\n",
      "Dataset Information for X_full_train:\n",
      "<class 'pandas.core.frame.DataFrame'>\n",
      "Int64Index: 84916 entries, 0 to 84915\n",
      "Data columns (total 5 columns):\n",
      " #   Column       Non-Null Count  Dtype \n",
      "---  ------       --------------  ----- \n",
      " 0   designation  84916 non-null  object\n",
      " 1   description  55116 non-null  object\n",
      " 2   productid    84916 non-null  int64 \n",
      " 3   imageid      84916 non-null  int64 \n",
      " 4   prdtypecode  84916 non-null  int64 \n",
      "dtypes: int64(3), object(2)\n",
      "memory usage: 3.9+ MB\n",
      "\n",
      "--------------------------------------------------\n",
      "\n",
      "Duplicate rows in X_full_train: 0\n"
     ]
    }
   ],
   "source": [
    "# Merge training features and target labels\n",
    "X_full_train  = X_train.copy()\n",
    "X_full_train [\"prdtypecode\"] = y_train[\"prdtypecode\"]\n",
    "\n",
    "\n",
    "# Display basic information\n",
    "print(f\"Dataset `X_full_train` created with shape: {X_full_train.shape}\")\n",
    "display(X_full_train.head())\n",
    "\n",
    "print(\"\\n\" + \"-\"*50)\n",
    "# Display dataset information\n",
    "print(\"\\nDataset Information for X_full_train:\")\n",
    "X_full_train.info()\n",
    "\n",
    "print(\"\\n\" + \"-\"*50)\n",
    "# Check for duplicate rows\n",
    "print(f\"\\nDuplicate rows in X_full_train: {X_full_train.duplicated().sum()}\")\n"
   ]
  },
  {
   "cell_type": "markdown",
   "id": "55b6e98e",
   "metadata": {},
   "source": [
    "## 5. Save Datasets for Future Use  \n",
    "\n",
    "To avoid reloading and recomputing the datasets in every notebook, we save them as **Pickle files**.  \n",
    "\n",
    "We will store:  \n",
    "- **`X_full_train.pkl`** → Contains the **training features (`X_train`) and labels (`y_train`)**.  \n",
    "- **`X_test_submission.pkl`** → Contains the **test dataset (`X_test`)**, which will be used for final submission.  \n",
    "- **`y_train.pkl`** → Stores the **target labels (`y_train`) separately**, in case we need them later.  \n",
    "\n",
    "This allows us to **reuse these datasets** in later notebooks, including **image exploration and model training**.\n"
   ]
  },
  {
   "cell_type": "code",
   "execution_count": 34,
   "id": "b0688fc7",
   "metadata": {},
   "outputs": [
    {
     "name": "stdout",
     "output_type": "stream",
     "text": [
      "\n",
      "Successfully saved `X_full_train.pkl` at D:\\Data_Science\\Append_Data_Engineer_AWS_MLOPS\\Data_Scientist_Rakuten_Project-main\\data\\interim\\X_full_train.pkl\n",
      "\n",
      "Successfully saved `X_test_submission.pkl` at D:\\Data_Science\\Append_Data_Engineer_AWS_MLOPS\\Data_Scientist_Rakuten_Project-main\\data\\interim\\X_test_submission.pkl\n",
      "\n",
      "Successfully saved `y_train.pkl` at D:\\Data_Science\\Append_Data_Engineer_AWS_MLOPS\\Data_Scientist_Rakuten_Project-main\\data\\interim\\y_train.pkl\n"
     ]
    }
   ],
   "source": [
    "# Reload config to ensure any updates are applied\n",
    "importlib.reload(config)\n",
    "\n",
    "\n",
    "\n",
    "# Define the directory where Pickle files will be stored\n",
    "PICKLE_DIR = Path(config.INTERIM_DIR)\n",
    "os.makedirs(PICKLE_DIR, exist_ok=True)  # Ensure the directory exists\n",
    "\n",
    "# Define file paths (using uppercase for constants)\n",
    "TRAIN_PICKLE_PATH = PICKLE_DIR / \"X_full_train.pkl\"\n",
    "TEST_SUB_PICKLE_PATH = PICKLE_DIR / \"X_test_submission.pkl\"\n",
    "Y_TRAIN_PICKLE_PATH = PICKLE_DIR / \"y_train.pkl\"  # Saving target labels separately\n",
    "\n",
    "\n",
    "\n",
    "try:\n",
    "    # Save X_full_train\n",
    "    X_full_train.to_pickle(TRAIN_PICKLE_PATH)\n",
    "    print(f\"\\nSuccessfully saved `X_full_train.pkl` at {TRAIN_PICKLE_PATH}\")\n",
    "except Exception as e:\n",
    "    print(f\"\\nError saving `X_full_train.pkl`: {e}\")\n",
    "\n",
    "try:\n",
    "    # Save X_test_submission separately for future inference\n",
    "    X_test_submission.to_pickle(TEST_SUB_PICKLE_PATH)\n",
    "    print(f\"\\nSuccessfully saved `X_test_submission.pkl` at {TEST_SUB_PICKLE_PATH}\")\n",
    "except Exception as e:\n",
    "    print(f\"\\nError saving `X_test.pkl`: {e}\")\n",
    "\n",
    "try:\n",
    "    # Save y_train separately in case it's needed later\n",
    "    y_train.to_pickle(Y_TRAIN_PICKLE_PATH)\n",
    "    print(f\"\\nSuccessfully saved `y_train.pkl` at {Y_TRAIN_PICKLE_PATH}\")\n",
    "except Exception as e:\n",
    "    print(f\"\\nError saving `y_train.pkl`: {e}\")\n"
   ]
  },
  {
   "cell_type": "markdown",
   "id": "cedba7b1",
   "metadata": {},
   "source": [
    "## 6. 🔄 Next Steps\n",
    "\n",
    "We have commpleted the **exploration of structured data (CSV files)** and built `X_full_train`, which contains:  \n",
    "**Product metadata** (`designation`, `description`, `productid`, `imageid`).  \n",
    "**Target labels** (`prdtypecode`).  \n",
    "\n",
    "Since our dataset also includes **product images**, the next step is to analyze them.  \n",
    "In **`2_Image_Exploration_and_Visualization.ipynb`**, we will:  \n",
    "\n",
    "### **What’s Next?**  \n",
    "\n",
    "✔ **1. Verify image availability**  \n",
    "   → Check if each `(imageid, productid)` pair in `X_full_train` has a corresponding image file.  \n",
    "\n",
    "✔ **2. Analyze image properties (size, format, color mode, brightness & contrast)**  \n",
    "   → Check for consistency across images and detect any irregularities that may impact model performance. \n",
    "\n",
    "✔**3. Visualize a random sample of images**  \n",
    "   → Understand image quality and variability.  \n",
    "\n",
    "➡️ **Proceed to `3_Image_Exploration_and_Visualization.ipynb` for image analysis.**  \n"
   ]
  },
  {
   "cell_type": "code",
   "execution_count": null,
   "id": "54f4a651",
   "metadata": {},
   "outputs": [],
   "source": []
  }
 ],
 "metadata": {
  "kernelspec": {
   "display_name": "Python 3 (ipykernel)",
   "language": "python",
   "name": "python3"
  },
  "language_info": {
   "codemirror_mode": {
    "name": "ipython",
    "version": 3
   },
   "file_extension": ".py",
   "mimetype": "text/x-python",
   "name": "python",
   "nbconvert_exporter": "python",
   "pygments_lexer": "ipython3",
   "version": "3.8.13"
  }
 },
 "nbformat": 4,
 "nbformat_minor": 5
}
