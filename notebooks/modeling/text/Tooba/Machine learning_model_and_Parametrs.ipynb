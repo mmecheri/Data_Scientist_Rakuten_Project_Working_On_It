{
 "cells": [
  {
   "cell_type": "markdown",
   "id": "d0c07570",
   "metadata": {},
   "source": [
    "| **Modèle**                  | **Paramètres ML utilisés** |\n",
    "|-----------------------------|-------------------------------------------------------------|\n",
    "| **LOGISTIC REGRESSION**      | `multi_class='multinomial', class_weight=\"balanced\", max_iter=1000` |\n",
    "| **SVM**                      | `gamma=0.01, kernel='poly'` |\n",
    "| **RANDOM FOREST CLASSIFIER**  | `max_features='sqrt', min_samples_split=4` |\n",
    "| **VOTING CLASSIFIER**         | `KNeighborsClassifier(n_neighbors=27)`, `RandomForestClassifier`, `LogisticRegression`, `Voting='hard'` |\n",
    "| **XGBOOST**                  | `XGBClassifier(use_label_encoder=False)` |\n",
    "| **LINEAR SVC**               | `penalty=\"l2\", dual=True, C=0.8, tol=1e-5, max_iter=4000` |\n"
   ]
  },
  {
   "cell_type": "code",
   "execution_count": null,
   "id": "7777f6bb",
   "metadata": {},
   "outputs": [],
   "source": []
  }
 ],
 "metadata": {
  "kernelspec": {
   "display_name": "Python 3 (ipykernel)",
   "language": "python",
   "name": "python3"
  },
  "language_info": {
   "codemirror_mode": {
    "name": "ipython",
    "version": 3
   },
   "file_extension": ".py",
   "mimetype": "text/x-python",
   "name": "python",
   "nbconvert_exporter": "python",
   "pygments_lexer": "ipython3",
   "version": "3.8.13"
  }
 },
 "nbformat": 4,
 "nbformat_minor": 5
}
