{
 "cells": [
  {
   "cell_type": "code",
   "execution_count": 7,
   "id": "9091f502",
   "metadata": {},
   "outputs": [],
   "source": [
    "import pandas as pd\n",
    "import re\n",
    "# import spacy\n",
    "import numpy as np\n",
    "import pickle\n",
    "from pathlib import Path\n",
    "import sys\n",
    "import os"
   ]
  },
  {
   "cell_type": "code",
   "execution_count": 3,
   "id": "9ba0af51",
   "metadata": {},
   "outputs": [],
   "source": []
  },
  {
   "cell_type": "code",
   "execution_count": 12,
   "id": "6279ede1",
   "metadata": {},
   "outputs": [
    {
     "name": "stdout",
     "output_type": "stream",
     "text": [
      "Project Root Directory: Data_Scientist_Rakuten_Project-main\n",
      "Using Config File from: config.py\n"
     ]
    },
    {
     "ename": "ValueError",
     "evalue": "'notebooks\\\\modeling\\text' does not start with 'D:\\\\Data_Science\\\\Append_Data_Engineer_AWS_MLOPS\\\\Data_Scientist_Rakuten_Project-main'",
     "output_type": "error",
     "traceback": [
      "\u001b[1;31m---------------------------------------------------------------------------\u001b[0m",
      "\u001b[1;31mValueError\u001b[0m                                Traceback (most recent call last)",
      "\u001b[1;32m~\\AppData\\Local\\Temp\\ipykernel_23116\\1653069898.py\u001b[0m in \u001b[0;36m<cell line: 26>\u001b[1;34m()\u001b[0m\n\u001b[0;32m     24\u001b[0m \u001b[1;31m# Print paths being used (relative to project root)\u001b[0m\u001b[1;33m\u001b[0m\u001b[1;33m\u001b[0m\u001b[1;33m\u001b[0m\u001b[0m\n\u001b[0;32m     25\u001b[0m \u001b[0mprint\u001b[0m\u001b[1;33m(\u001b[0m\u001b[1;34mf\"Using Config File from: {get_relative_path(config.__file__)}\"\u001b[0m\u001b[1;33m)\u001b[0m\u001b[1;33m\u001b[0m\u001b[1;33m\u001b[0m\u001b[0m\n\u001b[1;32m---> 26\u001b[1;33m \u001b[0mprint\u001b[0m\u001b[1;33m(\u001b[0m\u001b[1;34mf\"Loading TF-IDF matrix from: {get_relative_path(tfidf_path)}\"\u001b[0m\u001b[1;33m)\u001b[0m\u001b[1;33m\u001b[0m\u001b[1;33m\u001b[0m\u001b[0m\n\u001b[0m\u001b[0;32m     27\u001b[0m \u001b[0mprint\u001b[0m\u001b[1;33m(\u001b[0m\u001b[1;34mf\"Loading encoded labels from: {get_relative_path(labels_path)}\"\u001b[0m\u001b[1;33m)\u001b[0m\u001b[1;33m\u001b[0m\u001b[1;33m\u001b[0m\u001b[0m\n\u001b[0;32m     28\u001b[0m \u001b[1;33m\u001b[0m\u001b[0m\n",
      "\u001b[1;32m~\\AppData\\Local\\Temp\\ipykernel_23116\\1653069898.py\u001b[0m in \u001b[0;36mget_relative_path\u001b[1;34m(absolute_path)\u001b[0m\n\u001b[0;32m     10\u001b[0m \u001b[1;31m# Function to get relative paths from project root\u001b[0m\u001b[1;33m\u001b[0m\u001b[1;33m\u001b[0m\u001b[1;33m\u001b[0m\u001b[0m\n\u001b[0;32m     11\u001b[0m \u001b[1;32mdef\u001b[0m \u001b[0mget_relative_path\u001b[0m\u001b[1;33m(\u001b[0m\u001b[0mabsolute_path\u001b[0m\u001b[1;33m)\u001b[0m\u001b[1;33m:\u001b[0m\u001b[1;33m\u001b[0m\u001b[1;33m\u001b[0m\u001b[0m\n\u001b[1;32m---> 12\u001b[1;33m     \u001b[1;32mreturn\u001b[0m \u001b[0mstr\u001b[0m\u001b[1;33m(\u001b[0m\u001b[0mPath\u001b[0m\u001b[1;33m(\u001b[0m\u001b[0mabsolute_path\u001b[0m\u001b[1;33m)\u001b[0m\u001b[1;33m.\u001b[0m\u001b[0mrelative_to\u001b[0m\u001b[1;33m(\u001b[0m\u001b[0mPROJECT_ROOT\u001b[0m\u001b[1;33m)\u001b[0m\u001b[1;33m)\u001b[0m\u001b[1;33m\u001b[0m\u001b[1;33m\u001b[0m\u001b[0m\n\u001b[0m\u001b[0;32m     13\u001b[0m \u001b[1;33m\u001b[0m\u001b[0m\n\u001b[0;32m     14\u001b[0m \u001b[1;31m# Print project root directory\u001b[0m\u001b[1;33m\u001b[0m\u001b[1;33m\u001b[0m\u001b[1;33m\u001b[0m\u001b[0m\n",
      "\u001b[1;32mC:\\anaconda_install\\envs\\data_science\\lib\\pathlib.py\u001b[0m in \u001b[0;36mrelative_to\u001b[1;34m(self, *other)\u001b[0m\n\u001b[0;32m    906\u001b[0m         \u001b[1;32mif\u001b[0m \u001b[1;33m(\u001b[0m\u001b[0mroot\u001b[0m \u001b[1;32mor\u001b[0m \u001b[0mdrv\u001b[0m\u001b[1;33m)\u001b[0m \u001b[1;32mif\u001b[0m \u001b[0mn\u001b[0m \u001b[1;33m==\u001b[0m \u001b[1;36m0\u001b[0m \u001b[1;32melse\u001b[0m \u001b[0mcf\u001b[0m\u001b[1;33m(\u001b[0m\u001b[0mabs_parts\u001b[0m\u001b[1;33m[\u001b[0m\u001b[1;33m:\u001b[0m\u001b[0mn\u001b[0m\u001b[1;33m]\u001b[0m\u001b[1;33m)\u001b[0m \u001b[1;33m!=\u001b[0m \u001b[0mcf\u001b[0m\u001b[1;33m(\u001b[0m\u001b[0mto_abs_parts\u001b[0m\u001b[1;33m)\u001b[0m\u001b[1;33m:\u001b[0m\u001b[1;33m\u001b[0m\u001b[1;33m\u001b[0m\u001b[0m\n\u001b[0;32m    907\u001b[0m             \u001b[0mformatted\u001b[0m \u001b[1;33m=\u001b[0m \u001b[0mself\u001b[0m\u001b[1;33m.\u001b[0m\u001b[0m_format_parsed_parts\u001b[0m\u001b[1;33m(\u001b[0m\u001b[0mto_drv\u001b[0m\u001b[1;33m,\u001b[0m \u001b[0mto_root\u001b[0m\u001b[1;33m,\u001b[0m \u001b[0mto_parts\u001b[0m\u001b[1;33m)\u001b[0m\u001b[1;33m\u001b[0m\u001b[1;33m\u001b[0m\u001b[0m\n\u001b[1;32m--> 908\u001b[1;33m             raise ValueError(\"{!r} does not start with {!r}\"\n\u001b[0m\u001b[0;32m    909\u001b[0m                              .format(str(self), str(formatted)))\n\u001b[0;32m    910\u001b[0m         return self._from_parsed_parts('', root if n == 1 else '',\n",
      "\u001b[1;31mValueError\u001b[0m: 'notebooks\\\\modeling\\text' does not start with 'D:\\\\Data_Science\\\\Append_Data_Engineer_AWS_MLOPS\\\\Data_Scientist_Rakuten_Project-main'"
     ]
    }
   ],
   "source": [
    "# Get the current notebook directory\n",
    "CURRENT_DIR = Path(os.getcwd()).resolve()\n",
    "\n",
    "# Automatically find the project root (go up 3 levels)\n",
    "PROJECT_ROOT = CURRENT_DIR.parents[2]\n",
    "\n",
    "# Add project root to sys.path\n",
    "sys.path.append(str(PROJECT_ROOT))\n",
    "\n",
    "# Function to get relative paths from project root\n",
    "def get_relative_path(absolute_path):\n",
    "    return str(Path(absolute_path).relative_to(PROJECT_ROOT))\n",
    "\n",
    "# Print project root directory\n",
    "print(f\"Project Root Directory: {PROJECT_ROOT.name}\")  # Display only the root folder name\n",
    "\n",
    "import config  # Now Python can find config.py\n",
    "\n",
    "# Paths to load\n",
    "# tfidf_path = Path(config.XTRAIN_MATRIX_PATH)\n",
    "tfidf_path = './notebooks\\modeling\\text'\n",
    "labels_path = Path(config.YTRAIN_ENCODED_PATH)\n",
    "\n",
    "# Print paths being used (relative to project root)\n",
    "print(f\"Using Config File from: {get_relative_path(config.__file__)}\")\n",
    "print(f\"Loading TF-IDF matrix from: {get_relative_path(tfidf_path)}\")\n",
    "print(f\"Loading encoded labels from: {get_relative_path(labels_path)}\")\n",
    "\n",
    "# Check if files exist before loading\n",
    "if not tfidf_path.exists():\n",
    "    raise FileNotFoundError(f\"Error: TF-IDF matrix file not found at {get_relative_path(tfidf_path)}\")\n",
    "\n",
    "if not labels_path.exists():\n",
    "    raise FileNotFoundError(f\"Error: Encoded labels file not found at {get_relative_path(labels_path)}\")\n",
    "\n",
    "# Load the TF-IDF matrix\n",
    "X = pickle.load(open(tfidf_path, \"rb\"))\n",
    "\n",
    "# Load the classification labels\n",
    "y = pd.read_pickle(labels_path)\n",
    "\n",
    "# Print confirmation\n",
    "print(\"Data Successfully Loaded!\")\n",
    "print(f\"X shape: {X.shape}\")\n",
    "print(f\"y shape: {y.shape}\")\n"
   ]
  },
  {
   "cell_type": "code",
   "execution_count": 3,
   "id": "ec681a91",
   "metadata": {},
   "outputs": [],
   "source": [
    "X = pickle.load(open(\"Xtrain_matrix.pkl\", 'rb'))"
   ]
  },
  {
   "cell_type": "code",
   "execution_count": 4,
   "id": "58960b96",
   "metadata": {},
   "outputs": [],
   "source": [
    "y = pd.read_pickle('ytrain.pkl')"
   ]
  },
  {
   "cell_type": "code",
   "execution_count": 5,
   "id": "17d12caf",
   "metadata": {},
   "outputs": [],
   "source": [
    "from sklearn.model_selection import train_test_split"
   ]
  },
  {
   "cell_type": "code",
   "execution_count": 6,
   "id": "5084c2ab",
   "metadata": {},
   "outputs": [],
   "source": [
    "X_train, X_test, y_train, y_test = train_test_split(X, y, test_size=0.2)"
   ]
  },
  {
   "cell_type": "markdown",
   "id": "ff08ad7d",
   "metadata": {},
   "source": [
    "# LOGISTIC REGRESSION"
   ]
  },
  {
   "cell_type": "code",
   "execution_count": 7,
   "id": "47f564ce",
   "metadata": {},
   "outputs": [],
   "source": [
    "from sklearn import linear_model"
   ]
  },
  {
   "cell_type": "code",
   "execution_count": 8,
   "id": "831b3a08",
   "metadata": {},
   "outputs": [],
   "source": [
    "clf_lr = linear_model.LogisticRegression(multi_class='multinomial',class_weight= \"balanced\", max_iter=1000)"
   ]
  },
  {
   "cell_type": "code",
   "execution_count": 9,
   "id": "d46a09d6",
   "metadata": {},
   "outputs": [
    {
     "data": {
      "text/plain": [
       "LogisticRegression(class_weight='balanced', max_iter=1000,\n",
       "                   multi_class='multinomial')"
      ]
     },
     "execution_count": 9,
     "metadata": {},
     "output_type": "execute_result"
    }
   ],
   "source": [
    "clf_lr.fit(X_train, y_train.values.ravel())"
   ]
  },
  {
   "cell_type": "code",
   "execution_count": 11,
   "id": "5049cfa3",
   "metadata": {},
   "outputs": [],
   "source": [
    "y_pred = clf_lr.predict(X_test)"
   ]
  },
  {
   "cell_type": "code",
   "execution_count": 12,
   "id": "19a47785",
   "metadata": {},
   "outputs": [
    {
     "name": "stdout",
     "output_type": "stream",
     "text": [
      "              precision    recall  f1-score   support\n",
      "\n",
      "           0       0.35      0.67      0.46       629\n",
      "           1       0.66      0.76      0.70       941\n",
      "           2       0.78      0.84      0.81       377\n",
      "           3       0.74      0.48      0.59       975\n",
      "           4       0.67      0.69      0.68       532\n",
      "           5       0.93      0.88      0.91       998\n",
      "           6       0.74      0.77      0.76       514\n",
      "           7       0.83      0.81      0.82      1036\n",
      "           8       0.58      0.57      0.57       403\n",
      "           9       0.89      0.90      0.90       851\n",
      "          10       0.85      0.63      0.73       931\n",
      "          11       0.74      0.81      0.77       547\n",
      "          12       0.98      0.93      0.95      2008\n",
      "          13       0.56      0.65      0.60       144\n",
      "          14       0.85      0.91      0.88      1052\n",
      "          15       0.76      0.73      0.74       270\n",
      "          16       0.90      0.85      0.87       806\n",
      "          17       0.80      0.72      0.76       985\n",
      "          18       0.75      0.63      0.68       482\n",
      "          19       0.88      0.85      0.86       162\n",
      "          20       0.80      0.76      0.78       623\n",
      "          21       0.75      0.79      0.77       507\n",
      "          22       0.83      0.86      0.85       161\n",
      "          23       0.96      0.98      0.97       173\n",
      "          24       0.79      0.84      0.81       509\n",
      "          25       0.81      0.89      0.85       184\n",
      "          26       0.96      0.96      0.96       184\n",
      "\n",
      "    accuracy                           0.79     16984\n",
      "   macro avg       0.78      0.78      0.78     16984\n",
      "weighted avg       0.80      0.79      0.79     16984\n",
      "\n"
     ]
    }
   ],
   "source": [
    "#  Importer la classe classification_report\n",
    "from sklearn.metrics import classification_report\n",
    "\n",
    "# Calcul et affichage de classification_report\n",
    "print( classification_report(y_test, y_pred) )"
   ]
  },
  {
   "cell_type": "code",
   "execution_count": 13,
   "id": "5a9a7e38",
   "metadata": {},
   "outputs": [
    {
     "data": {
      "text/plain": [
       "0.7853273669335845"
      ]
     },
     "execution_count": 13,
     "metadata": {},
     "output_type": "execute_result"
    }
   ],
   "source": [
    "clf_lr.score(X_test, y_test)"
   ]
  },
  {
   "cell_type": "markdown",
   "id": "47688a51",
   "metadata": {},
   "source": [
    "# SVM (SUPPORT VECTOR MACHINE)"
   ]
  },
  {
   "cell_type": "code",
   "execution_count": 14,
   "id": "a65b6dea",
   "metadata": {},
   "outputs": [],
   "source": [
    "from sklearn import svm\n",
    "from sklearn import model_selection"
   ]
  },
  {
   "cell_type": "code",
   "execution_count": 15,
   "id": "58270772",
   "metadata": {},
   "outputs": [],
   "source": [
    "# Insérez votre code ici\n",
    "\n",
    "clf_svm = svm.SVC( gamma = 0.01, kernel = 'poly')"
   ]
  },
  {
   "cell_type": "code",
   "execution_count": 16,
   "id": "b19cd7a9",
   "metadata": {},
   "outputs": [
    {
     "data": {
      "text/plain": [
       "SVC(gamma=0.01, kernel='poly')"
      ]
     },
     "execution_count": 16,
     "metadata": {},
     "output_type": "execute_result"
    }
   ],
   "source": [
    "clf_svm.fit(X_train, y_train.values.ravel())\n"
   ]
  },
  {
   "cell_type": "code",
   "execution_count": 17,
   "id": "cd8e0069",
   "metadata": {},
   "outputs": [],
   "source": [
    "y_pred = clf_svm.predict(X_test)"
   ]
  },
  {
   "cell_type": "code",
   "execution_count": 18,
   "id": "7c437ae1",
   "metadata": {},
   "outputs": [
    {
     "name": "stdout",
     "output_type": "stream",
     "text": [
      "              precision    recall  f1-score   support\n",
      "\n",
      "           0       0.00      0.00      0.00       629\n",
      "           1       0.00      0.00      0.00       941\n",
      "           2       0.00      0.00      0.00       377\n",
      "           3       0.00      0.00      0.00       975\n",
      "           4       0.00      0.00      0.00       532\n",
      "           5       0.00      0.00      0.00       998\n",
      "           6       0.00      0.00      0.00       514\n",
      "           7       0.00      0.00      0.00      1036\n",
      "           8       0.00      0.00      0.00       403\n",
      "           9       0.00      0.00      0.00       851\n",
      "          10       0.00      0.00      0.00       931\n",
      "          11       0.00      0.00      0.00       547\n",
      "          12       0.12      1.00      0.21      2008\n",
      "          13       0.00      0.00      0.00       144\n",
      "          14       0.00      0.00      0.00      1052\n",
      "          15       0.00      0.00      0.00       270\n",
      "          16       0.00      0.00      0.00       806\n",
      "          17       0.00      0.00      0.00       985\n",
      "          18       0.00      0.00      0.00       482\n",
      "          19       0.00      0.00      0.00       162\n",
      "          20       0.00      0.00      0.00       623\n",
      "          21       0.00      0.00      0.00       507\n",
      "          22       0.00      0.00      0.00       161\n",
      "          23       0.00      0.00      0.00       173\n",
      "          24       0.00      0.00      0.00       509\n",
      "          25       0.00      0.00      0.00       184\n",
      "          26       0.00      0.00      0.00       184\n",
      "\n",
      "    accuracy                           0.12     16984\n",
      "   macro avg       0.00      0.04      0.01     16984\n",
      "weighted avg       0.01      0.12      0.03     16984\n",
      "\n"
     ]
    },
    {
     "name": "stderr",
     "output_type": "stream",
     "text": [
      "C:\\ProgramData\\Anaconda3\\lib\\site-packages\\sklearn\\metrics\\_classification.py:1245: UndefinedMetricWarning: Precision and F-score are ill-defined and being set to 0.0 in labels with no predicted samples. Use `zero_division` parameter to control this behavior.\n",
      "  _warn_prf(average, modifier, msg_start, len(result))\n",
      "C:\\ProgramData\\Anaconda3\\lib\\site-packages\\sklearn\\metrics\\_classification.py:1245: UndefinedMetricWarning: Precision and F-score are ill-defined and being set to 0.0 in labels with no predicted samples. Use `zero_division` parameter to control this behavior.\n",
      "  _warn_prf(average, modifier, msg_start, len(result))\n",
      "C:\\ProgramData\\Anaconda3\\lib\\site-packages\\sklearn\\metrics\\_classification.py:1245: UndefinedMetricWarning: Precision and F-score are ill-defined and being set to 0.0 in labels with no predicted samples. Use `zero_division` parameter to control this behavior.\n",
      "  _warn_prf(average, modifier, msg_start, len(result))\n"
     ]
    }
   ],
   "source": [
    "# Calcul et affichage de classification_report\n",
    "print( classification_report(y_test, y_pred) )"
   ]
  },
  {
   "cell_type": "code",
   "execution_count": 19,
   "id": "5e17e020",
   "metadata": {},
   "outputs": [
    {
     "data": {
      "text/plain": [
       "0.11822892133772962"
      ]
     },
     "execution_count": 19,
     "metadata": {},
     "output_type": "execute_result"
    }
   ],
   "source": [
    "clf_svm.score(X_test, y_test)"
   ]
  },
  {
   "cell_type": "markdown",
   "id": "fe443360",
   "metadata": {},
   "source": [
    "# RANDOM FOREST CLASSIFIER"
   ]
  },
  {
   "cell_type": "code",
   "execution_count": 8,
   "id": "2047ce99",
   "metadata": {},
   "outputs": [],
   "source": [
    "from sklearn import ensemble"
   ]
  },
  {
   "cell_type": "code",
   "execution_count": 11,
   "id": "15d5ca16",
   "metadata": {},
   "outputs": [],
   "source": [
    "clf_rf = ensemble.RandomForestClassifier(n_jobs = -1, random_state=321)"
   ]
  },
  {
   "cell_type": "code",
   "execution_count": 12,
   "id": "2904883e",
   "metadata": {},
   "outputs": [
    {
     "data": {
      "text/plain": [
       "RandomForestClassifier(n_jobs=-1, random_state=321)"
      ]
     },
     "execution_count": 12,
     "metadata": {},
     "output_type": "execute_result"
    }
   ],
   "source": [
    "clf_rf.fit(X_train, y_train.values.ravel())"
   ]
  },
  {
   "cell_type": "code",
   "execution_count": 14,
   "id": "ec58554b",
   "metadata": {},
   "outputs": [],
   "source": [
    "y_pred = clf_rf.predict(X_test)"
   ]
  },
  {
   "cell_type": "code",
   "execution_count": 16,
   "id": "7e94fd4d",
   "metadata": {},
   "outputs": [
    {
     "name": "stdout",
     "output_type": "stream",
     "text": [
      "              precision    recall  f1-score   support\n",
      "\n",
      "           0       0.47      0.41      0.44       612\n",
      "           1       0.66      0.76      0.71       958\n",
      "           2       0.86      0.75      0.80       351\n",
      "           3       0.69      0.59      0.64      1012\n",
      "           4       0.44      0.72      0.55       590\n",
      "           5       0.86      0.89      0.88       990\n",
      "           6       0.81      0.69      0.75       513\n",
      "           7       0.73      0.80      0.77      1022\n",
      "           8       0.65      0.53      0.58       399\n",
      "           9       0.90      0.90      0.90       887\n",
      "          10       0.75      0.72      0.74       971\n",
      "          11       0.74      0.77      0.76       509\n",
      "          12       0.91      0.99      0.95      2062\n",
      "          13       0.83      0.53      0.65       153\n",
      "          14       0.78      0.91      0.84       954\n",
      "          15       0.74      0.77      0.76       250\n",
      "          16       0.84      0.85      0.85       794\n",
      "          17       0.74      0.76      0.75       973\n",
      "          18       0.74      0.62      0.67       523\n",
      "          19       0.91      0.86      0.88       187\n",
      "          20       0.80      0.75      0.77       628\n",
      "          21       0.85      0.62      0.72       473\n",
      "          22       0.88      0.65      0.74       142\n",
      "          23       0.99      0.95      0.97       176\n",
      "          24       0.90      0.62      0.73       520\n",
      "          25       0.95      0.81      0.87       171\n",
      "          26       0.97      0.88      0.93       164\n",
      "\n",
      "    accuracy                           0.77     16984\n",
      "   macro avg       0.79      0.74      0.76     16984\n",
      "weighted avg       0.78      0.77      0.77     16984\n",
      "\n"
     ]
    }
   ],
   "source": [
    "from sklearn.metrics import classification_report\n",
    "print( classification_report(y_test, y_pred) )"
   ]
  },
  {
   "cell_type": "code",
   "execution_count": 17,
   "id": "3628da8e",
   "metadata": {},
   "outputs": [
    {
     "data": {
      "text/plain": [
       "0.77296278850683"
      ]
     },
     "execution_count": 17,
     "metadata": {},
     "output_type": "execute_result"
    }
   ],
   "source": [
    "clf_rf.score(X_test, y_test)"
   ]
  },
  {
   "cell_type": "code",
   "execution_count": 8,
   "id": "730f9d5d",
   "metadata": {},
   "outputs": [],
   "source": [
    "from sklearn import ensemble\n",
    "clf_rf = ensemble.RandomForestClassifier(n_jobs = -1, max_features= 'sqrt', min_samples_split= 4)"
   ]
  },
  {
   "cell_type": "code",
   "execution_count": 9,
   "id": "da19be01",
   "metadata": {},
   "outputs": [
    {
     "data": {
      "text/plain": [
       "RandomForestClassifier(max_features='sqrt', min_samples_split=4, n_jobs=-1)"
      ]
     },
     "execution_count": 9,
     "metadata": {},
     "output_type": "execute_result"
    }
   ],
   "source": [
    "clf_rf.fit(X_train, y_train.values.ravel())"
   ]
  },
  {
   "cell_type": "code",
   "execution_count": 10,
   "id": "896aaff1",
   "metadata": {},
   "outputs": [],
   "source": [
    "y_pred = clf_rf.predict(X_test)"
   ]
  },
  {
   "cell_type": "code",
   "execution_count": 11,
   "id": "ecb27f89",
   "metadata": {},
   "outputs": [
    {
     "name": "stdout",
     "output_type": "stream",
     "text": [
      "              precision    recall  f1-score   support\n",
      "\n",
      "           0       0.54      0.41      0.47       621\n",
      "           1       0.51      0.81      0.63       995\n",
      "           2       0.83      0.72      0.77       350\n",
      "           3       0.69      0.61      0.64       969\n",
      "           4       0.73      0.65      0.69       547\n",
      "           5       0.87      0.91      0.89      1005\n",
      "           6       0.81      0.66      0.73       521\n",
      "           7       0.73      0.82      0.77       989\n",
      "           8       0.66      0.54      0.59       410\n",
      "           9       0.90      0.90      0.90       873\n",
      "          10       0.75      0.76      0.75       969\n",
      "          11       0.79      0.81      0.80       550\n",
      "          12       0.90      0.99      0.94      2013\n",
      "          13       0.79      0.58      0.67       144\n",
      "          14       0.80      0.93      0.86       990\n",
      "          15       0.78      0.79      0.79       296\n",
      "          16       0.85      0.89      0.87       769\n",
      "          17       0.72      0.76      0.74       965\n",
      "          18       0.75      0.61      0.67       496\n",
      "          19       0.97      0.80      0.88       173\n",
      "          20       0.84      0.74      0.79       652\n",
      "          21       0.91      0.63      0.74       535\n",
      "          22       0.93      0.66      0.77       155\n",
      "          23       0.99      0.96      0.98       170\n",
      "          24       0.86      0.61      0.71       491\n",
      "          25       0.92      0.79      0.85       177\n",
      "          26       0.99      0.84      0.91       159\n",
      "\n",
      "    accuracy                           0.78     16984\n",
      "   macro avg       0.81      0.75      0.77     16984\n",
      "weighted avg       0.79      0.78      0.78     16984\n",
      "\n"
     ]
    }
   ],
   "source": [
    "from sklearn.metrics import classification_report\n",
    "print( classification_report(y_test, y_pred) )"
   ]
  },
  {
   "cell_type": "code",
   "execution_count": 12,
   "id": "26ee270f",
   "metadata": {},
   "outputs": [
    {
     "data": {
      "text/plain": [
       "0.7799105040037683"
      ]
     },
     "execution_count": 12,
     "metadata": {},
     "output_type": "execute_result"
    }
   ],
   "source": [
    "clf_rf.score(X_test, y_test)"
   ]
  },
  {
   "cell_type": "code",
   "execution_count": 70,
   "id": "e6449c74",
   "metadata": {},
   "outputs": [],
   "source": [
    "from sklearn import ensemble\n",
    "clf_rf = ensemble.RandomForestClassifier(n_jobs = -1, max_features= 'log2', min_samples_split= 27)"
   ]
  },
  {
   "cell_type": "code",
   "execution_count": 71,
   "id": "f2752de2",
   "metadata": {},
   "outputs": [
    {
     "data": {
      "text/plain": [
       "RandomForestClassifier(max_features='log2', min_samples_split=27, n_jobs=-1)"
      ]
     },
     "execution_count": 71,
     "metadata": {},
     "output_type": "execute_result"
    }
   ],
   "source": [
    "clf_rf.fit(X_train, y_train.values.ravel())"
   ]
  },
  {
   "cell_type": "code",
   "execution_count": 72,
   "id": "5b1b3f79",
   "metadata": {},
   "outputs": [],
   "source": [
    "y_pred = clf_rf.predict(X_test)"
   ]
  },
  {
   "cell_type": "code",
   "execution_count": 73,
   "id": "dde01a4e",
   "metadata": {},
   "outputs": [
    {
     "name": "stdout",
     "output_type": "stream",
     "text": [
      "              precision    recall  f1-score   support\n",
      "\n",
      "           0       0.63      0.44      0.52       621\n",
      "           1       0.60      0.82      0.69       995\n",
      "           2       0.85      0.71      0.77       350\n",
      "           3       0.69      0.60      0.64       969\n",
      "           4       0.77      0.65      0.70       547\n",
      "           5       0.89      0.93      0.91      1005\n",
      "           6       0.83      0.60      0.70       521\n",
      "           7       0.71      0.83      0.76       989\n",
      "           8       0.75      0.47      0.58       410\n",
      "           9       0.90      0.89      0.90       873\n",
      "          10       0.70      0.78      0.74       969\n",
      "          11       0.77      0.81      0.79       550\n",
      "          12       0.82      1.00      0.90      2013\n",
      "          13       0.83      0.59      0.69       144\n",
      "          14       0.77      0.94      0.85       990\n",
      "          15       0.75      0.80      0.77       296\n",
      "          16       0.84      0.94      0.89       769\n",
      "          17       0.73      0.76      0.75       965\n",
      "          18       0.77      0.61      0.68       496\n",
      "          19       0.97      0.77      0.86       173\n",
      "          20       0.87      0.71      0.78       652\n",
      "          21       0.91      0.64      0.75       535\n",
      "          22       0.96      0.63      0.76       155\n",
      "          23       0.96      0.93      0.95       170\n",
      "          24       0.95      0.59      0.73       491\n",
      "          25       0.96      0.82      0.89       177\n",
      "          26       0.98      0.84      0.91       159\n",
      "\n",
      "    accuracy                           0.78     16984\n",
      "   macro avg       0.82      0.74      0.77     16984\n",
      "weighted avg       0.79      0.78      0.78     16984\n",
      "\n"
     ]
    }
   ],
   "source": [
    "print( classification_report(y_test, y_pred) )"
   ]
  },
  {
   "cell_type": "code",
   "execution_count": 74,
   "id": "65d75ff7",
   "metadata": {},
   "outputs": [
    {
     "data": {
      "text/plain": [
       "0.7827955723033443"
      ]
     },
     "execution_count": 74,
     "metadata": {},
     "output_type": "execute_result"
    }
   ],
   "source": [
    "clf_rf.score(X_test, y_test)"
   ]
  },
  {
   "cell_type": "markdown",
   "id": "8fde113c",
   "metadata": {},
   "source": [
    "# K NEIGHBORS CLASSIFIER"
   ]
  },
  {
   "cell_type": "code",
   "execution_count": 13,
   "id": "daefb40e",
   "metadata": {},
   "outputs": [],
   "source": [
    "from sklearn import neighbors"
   ]
  },
  {
   "cell_type": "code",
   "execution_count": 14,
   "id": "f705281b",
   "metadata": {},
   "outputs": [],
   "source": [
    "knn = neighbors.KNeighborsClassifier(n_neighbors=2)"
   ]
  },
  {
   "cell_type": "code",
   "execution_count": 15,
   "id": "17431137",
   "metadata": {},
   "outputs": [
    {
     "data": {
      "text/plain": [
       "KNeighborsClassifier(n_neighbors=2)"
      ]
     },
     "execution_count": 15,
     "metadata": {},
     "output_type": "execute_result"
    }
   ],
   "source": [
    "knn.fit(X_train, y_train.values.ravel())"
   ]
  },
  {
   "cell_type": "code",
   "execution_count": 16,
   "id": "be4fc5c6",
   "metadata": {},
   "outputs": [],
   "source": [
    "y_pred = knn.predict(X_test)"
   ]
  },
  {
   "cell_type": "code",
   "execution_count": 17,
   "id": "8f25b3c7",
   "metadata": {},
   "outputs": [
    {
     "name": "stdout",
     "output_type": "stream",
     "text": [
      "              precision    recall  f1-score   support\n",
      "\n",
      "           0       0.06      0.99      0.11       621\n",
      "           1       0.51      0.09      0.16       995\n",
      "           2       0.70      0.27      0.39       350\n",
      "           3       0.55      0.21      0.31       969\n",
      "           4       0.57      0.02      0.04       547\n",
      "           5       0.98      0.47      0.63      1005\n",
      "           6       0.85      0.29      0.43       521\n",
      "           7       0.79      0.32      0.46       989\n",
      "           8       0.59      0.10      0.17       410\n",
      "           9       0.93      0.72      0.81       873\n",
      "          10       0.78      0.18      0.30       969\n",
      "          11       0.86      0.18      0.30       550\n",
      "          12       1.00      0.66      0.80      2013\n",
      "          13       0.90      0.25      0.39       144\n",
      "          14       0.88      0.34      0.49       990\n",
      "          15       0.72      0.49      0.58       296\n",
      "          16       0.92      0.25      0.40       769\n",
      "          17       0.91      0.34      0.50       965\n",
      "          18       0.80      0.18      0.29       496\n",
      "          19       0.95      0.35      0.51       173\n",
      "          20       0.95      0.28      0.43       652\n",
      "          21       0.92      0.30      0.45       535\n",
      "          22       1.00      0.15      0.27       155\n",
      "          23       1.00      0.02      0.05       170\n",
      "          24       0.99      0.24      0.38       491\n",
      "          25       1.00      0.12      0.22       177\n",
      "          26       0.99      0.66      0.79       159\n",
      "\n",
      "    accuracy                           0.36     16984\n",
      "   macro avg       0.82      0.31      0.39     16984\n",
      "weighted avg       0.81      0.36      0.44     16984\n",
      "\n"
     ]
    }
   ],
   "source": [
    "print( classification_report(y_test, y_pred) )"
   ]
  },
  {
   "cell_type": "code",
   "execution_count": 19,
   "id": "621cb3a7",
   "metadata": {},
   "outputs": [
    {
     "data": {
      "text/plain": [
       "0.355864342910975"
      ]
     },
     "execution_count": 19,
     "metadata": {},
     "output_type": "execute_result"
    }
   ],
   "source": [
    "knn.score(X_test, y_test)"
   ]
  },
  {
   "cell_type": "code",
   "execution_count": null,
   "id": "9a113872",
   "metadata": {},
   "outputs": [],
   "source": []
  },
  {
   "cell_type": "code",
   "execution_count": 20,
   "id": "68597672",
   "metadata": {},
   "outputs": [],
   "source": [
    "parametres = {'n_neighbors': np.arange(2,28)}"
   ]
  },
  {
   "cell_type": "code",
   "execution_count": 22,
   "id": "3508ec9c",
   "metadata": {},
   "outputs": [],
   "source": [
    "from sklearn import model_selection"
   ]
  },
  {
   "cell_type": "code",
   "execution_count": 23,
   "id": "08b26d57",
   "metadata": {},
   "outputs": [],
   "source": [
    "grid_knn = model_selection.GridSearchCV(estimator = knn, param_grid = parametres )"
   ]
  },
  {
   "cell_type": "code",
   "execution_count": 25,
   "id": "3c89f091",
   "metadata": {},
   "outputs": [],
   "source": [
    "grille = grid_knn.fit(X_train, y_train.values.ravel())"
   ]
  },
  {
   "cell_type": "code",
   "execution_count": 26,
   "id": "df6384c7",
   "metadata": {},
   "outputs": [
    {
     "name": "stdout",
     "output_type": "stream",
     "text": [
      "{'n_neighbors': 27}\n"
     ]
    }
   ],
   "source": [
    "print(grid_knn.best_params_)"
   ]
  },
  {
   "cell_type": "code",
   "execution_count": 27,
   "id": "dcfeb432",
   "metadata": {},
   "outputs": [],
   "source": [
    "knn = neighbors.KNeighborsClassifier(n_neighbors=27)"
   ]
  },
  {
   "cell_type": "code",
   "execution_count": 29,
   "id": "f13da092",
   "metadata": {},
   "outputs": [
    {
     "data": {
      "text/plain": [
       "KNeighborsClassifier(n_neighbors=27)"
      ]
     },
     "execution_count": 29,
     "metadata": {},
     "output_type": "execute_result"
    }
   ],
   "source": [
    "knn.fit(X_train, y_train.values.ravel())"
   ]
  },
  {
   "cell_type": "code",
   "execution_count": 30,
   "id": "b1d38196",
   "metadata": {},
   "outputs": [],
   "source": [
    "y_pred = knn.predict(X_test)"
   ]
  },
  {
   "cell_type": "code",
   "execution_count": 31,
   "id": "5cba4189",
   "metadata": {},
   "outputs": [
    {
     "name": "stdout",
     "output_type": "stream",
     "text": [
      "              precision    recall  f1-score   support\n",
      "\n",
      "           0       0.56      0.31      0.40       621\n",
      "           1       0.35      0.84      0.50       995\n",
      "           2       0.75      0.60      0.67       350\n",
      "           3       0.71      0.51      0.60       969\n",
      "           4       0.56      0.22      0.32       547\n",
      "           5       0.89      0.88      0.88      1005\n",
      "           6       0.80      0.64      0.71       521\n",
      "           7       0.76      0.77      0.77       989\n",
      "           8       0.69      0.34      0.46       410\n",
      "           9       0.83      0.91      0.87       873\n",
      "          10       0.64      0.69      0.66       969\n",
      "          11       0.73      0.62      0.67       550\n",
      "          12       0.91      0.97      0.94      2013\n",
      "          13       0.70      0.53      0.60       144\n",
      "          14       0.78      0.93      0.85       990\n",
      "          15       0.50      0.81      0.62       296\n",
      "          16       0.82      0.86      0.84       769\n",
      "          17       0.76      0.70      0.73       965\n",
      "          18       0.74      0.50      0.60       496\n",
      "          19       0.90      0.77      0.83       173\n",
      "          20       0.84      0.71      0.77       652\n",
      "          21       0.81      0.69      0.74       535\n",
      "          22       0.89      0.74      0.81       155\n",
      "          23       0.87      0.80      0.83       170\n",
      "          24       0.88      0.60      0.72       491\n",
      "          25       0.96      0.72      0.82       177\n",
      "          26       0.88      0.89      0.88       159\n",
      "\n",
      "    accuracy                           0.73     16984\n",
      "   macro avg       0.76      0.69      0.71     16984\n",
      "weighted avg       0.75      0.73      0.72     16984\n",
      "\n"
     ]
    }
   ],
   "source": [
    "print( classification_report(y_test, y_pred) )"
   ]
  },
  {
   "cell_type": "code",
   "execution_count": 32,
   "id": "6ffbfa4b",
   "metadata": {},
   "outputs": [
    {
     "data": {
      "text/plain": [
       "0.7259185115402732"
      ]
     },
     "execution_count": 32,
     "metadata": {},
     "output_type": "execute_result"
    }
   ],
   "source": [
    "knn.score(X_test, y_test)"
   ]
  },
  {
   "cell_type": "markdown",
   "id": "5016a05f",
   "metadata": {},
   "source": [
    "# DECISION TREE CLASSIFIER"
   ]
  },
  {
   "cell_type": "code",
   "execution_count": 33,
   "id": "7d901543",
   "metadata": {},
   "outputs": [],
   "source": [
    "from sklearn.tree import DecisionTreeClassifier"
   ]
  },
  {
   "cell_type": "code",
   "execution_count": 34,
   "id": "138669cb",
   "metadata": {},
   "outputs": [],
   "source": [
    "dt_clf = DecisionTreeClassifier(criterion='entropy', max_depth=4, random_state=123)"
   ]
  },
  {
   "cell_type": "code",
   "execution_count": 35,
   "id": "c8696c1c",
   "metadata": {},
   "outputs": [
    {
     "data": {
      "text/plain": [
       "DecisionTreeClassifier(criterion='entropy', max_depth=4, random_state=123)"
      ]
     },
     "execution_count": 35,
     "metadata": {},
     "output_type": "execute_result"
    }
   ],
   "source": [
    "dt_clf.fit(X_train, y_train)"
   ]
  },
  {
   "cell_type": "code",
   "execution_count": 36,
   "id": "3557facf",
   "metadata": {},
   "outputs": [],
   "source": [
    "y_pred = dt_clf.predict(X_test)"
   ]
  },
  {
   "cell_type": "code",
   "execution_count": 37,
   "id": "4f2fc48a",
   "metadata": {},
   "outputs": [
    {
     "name": "stdout",
     "output_type": "stream",
     "text": [
      "              precision    recall  f1-score   support\n",
      "\n",
      "           0       0.00      0.00      0.00       621\n",
      "           1       0.09      0.99      0.16       995\n",
      "           2       0.00      0.00      0.00       350\n",
      "           3       0.13      0.27      0.18       969\n",
      "           4       0.00      0.00      0.00       547\n",
      "           5       0.00      0.00      0.00      1005\n",
      "           6       0.38      0.01      0.01       521\n",
      "           7       0.00      0.00      0.00       989\n",
      "           8       0.00      0.00      0.00       410\n",
      "           9       0.96      0.57      0.71       873\n",
      "          10       0.47      0.40      0.43       969\n",
      "          11       0.00      0.00      0.00       550\n",
      "          12       0.98      0.59      0.74      2013\n",
      "          13       0.00      0.00      0.00       144\n",
      "          14       0.00      0.00      0.00       990\n",
      "          15       0.00      0.00      0.00       296\n",
      "          16       0.00      0.00      0.00       769\n",
      "          17       0.64      0.27      0.38       965\n",
      "          18       0.00      0.00      0.00       496\n",
      "          19       0.16      0.66      0.25       173\n",
      "          20       0.00      0.00      0.00       652\n",
      "          21       0.00      0.00      0.00       535\n",
      "          22       0.00      0.00      0.00       155\n",
      "          23       0.97      0.75      0.84       170\n",
      "          24       0.00      0.00      0.00       491\n",
      "          25       0.00      0.00      0.00       177\n",
      "          26       0.00      0.00      0.00       159\n",
      "\n",
      "    accuracy                           0.23     16984\n",
      "   macro avg       0.18      0.17      0.14     16984\n",
      "weighted avg       0.26      0.23      0.20     16984\n",
      "\n"
     ]
    },
    {
     "name": "stderr",
     "output_type": "stream",
     "text": [
      "C:\\ProgramData\\Anaconda3\\lib\\site-packages\\sklearn\\metrics\\_classification.py:1245: UndefinedMetricWarning: Precision and F-score are ill-defined and being set to 0.0 in labels with no predicted samples. Use `zero_division` parameter to control this behavior.\n",
      "  _warn_prf(average, modifier, msg_start, len(result))\n",
      "C:\\ProgramData\\Anaconda3\\lib\\site-packages\\sklearn\\metrics\\_classification.py:1245: UndefinedMetricWarning: Precision and F-score are ill-defined and being set to 0.0 in labels with no predicted samples. Use `zero_division` parameter to control this behavior.\n",
      "  _warn_prf(average, modifier, msg_start, len(result))\n",
      "C:\\ProgramData\\Anaconda3\\lib\\site-packages\\sklearn\\metrics\\_classification.py:1245: UndefinedMetricWarning: Precision and F-score are ill-defined and being set to 0.0 in labels with no predicted samples. Use `zero_division` parameter to control this behavior.\n",
      "  _warn_prf(average, modifier, msg_start, len(result))\n"
     ]
    }
   ],
   "source": [
    "print( classification_report(y_test, y_pred) )"
   ]
  },
  {
   "cell_type": "code",
   "execution_count": 38,
   "id": "9cbc69c6",
   "metadata": {},
   "outputs": [
    {
     "data": {
      "text/plain": [
       "0.22562411681582667"
      ]
     },
     "execution_count": 38,
     "metadata": {},
     "output_type": "execute_result"
    }
   ],
   "source": [
    "dt_clf.score(X_test, y_test)"
   ]
  },
  {
   "cell_type": "code",
   "execution_count": 39,
   "id": "63dcb13a",
   "metadata": {},
   "outputs": [],
   "source": [
    "dt_clf_gini = DecisionTreeClassifier(criterion = 'gini', max_depth=4, random_state=321)"
   ]
  },
  {
   "cell_type": "code",
   "execution_count": 40,
   "id": "2c4fe7ff",
   "metadata": {},
   "outputs": [
    {
     "data": {
      "text/plain": [
       "DecisionTreeClassifier(max_depth=4, random_state=321)"
      ]
     },
     "execution_count": 40,
     "metadata": {},
     "output_type": "execute_result"
    }
   ],
   "source": [
    "dt_clf_gini.fit(X_train, y_train)"
   ]
  },
  {
   "cell_type": "code",
   "execution_count": 41,
   "id": "bb0d555a",
   "metadata": {},
   "outputs": [],
   "source": [
    "y_pred = dt_clf_gini.predict(X_test)"
   ]
  },
  {
   "cell_type": "code",
   "execution_count": null,
   "id": "ddc94d18",
   "metadata": {},
   "outputs": [],
   "source": [
    "#import warnings\n",
    "#warnings.filterwarnings('ignore')"
   ]
  },
  {
   "cell_type": "code",
   "execution_count": 42,
   "id": "e4278118",
   "metadata": {},
   "outputs": [
    {
     "name": "stdout",
     "output_type": "stream",
     "text": [
      "              precision    recall  f1-score   support\n",
      "\n",
      "           0       0.00      0.00      0.00       621\n",
      "           1       0.00      0.00      0.00       995\n",
      "           2       0.00      0.00      0.00       350\n",
      "           3       0.51      0.02      0.05       969\n",
      "           4       0.00      0.00      0.00       547\n",
      "           5       0.07      0.99      0.13      1005\n",
      "           6       0.38      0.01      0.01       521\n",
      "           7       0.00      0.00      0.00       989\n",
      "           8       0.00      0.00      0.00       410\n",
      "           9       0.95      0.61      0.74       873\n",
      "          10       0.00      0.00      0.00       969\n",
      "          11       0.00      0.00      0.00       550\n",
      "          12       0.98      0.59      0.74      2013\n",
      "          13       0.00      0.00      0.00       144\n",
      "          14       0.88      0.36      0.51       990\n",
      "          15       0.00      0.00      0.00       296\n",
      "          16       0.00      0.00      0.00       769\n",
      "          17       0.52      0.40      0.45       965\n",
      "          18       0.00      0.00      0.00       496\n",
      "          19       0.00      0.00      0.00       173\n",
      "          20       0.00      0.00      0.00       652\n",
      "          21       0.00      0.00      0.00       535\n",
      "          22       0.00      0.00      0.00       155\n",
      "          23       0.00      0.00      0.00       170\n",
      "          24       0.00      0.00      0.00       491\n",
      "          25       0.00      0.00      0.00       177\n",
      "          26       0.00      0.00      0.00       159\n",
      "\n",
      "    accuracy                           0.21     16984\n",
      "   macro avg       0.16      0.11      0.10     16984\n",
      "weighted avg       0.29      0.21      0.19     16984\n",
      "\n"
     ]
    },
    {
     "name": "stderr",
     "output_type": "stream",
     "text": [
      "C:\\ProgramData\\Anaconda3\\lib\\site-packages\\sklearn\\metrics\\_classification.py:1245: UndefinedMetricWarning: Precision and F-score are ill-defined and being set to 0.0 in labels with no predicted samples. Use `zero_division` parameter to control this behavior.\n",
      "  _warn_prf(average, modifier, msg_start, len(result))\n",
      "C:\\ProgramData\\Anaconda3\\lib\\site-packages\\sklearn\\metrics\\_classification.py:1245: UndefinedMetricWarning: Precision and F-score are ill-defined and being set to 0.0 in labels with no predicted samples. Use `zero_division` parameter to control this behavior.\n",
      "  _warn_prf(average, modifier, msg_start, len(result))\n",
      "C:\\ProgramData\\Anaconda3\\lib\\site-packages\\sklearn\\metrics\\_classification.py:1245: UndefinedMetricWarning: Precision and F-score are ill-defined and being set to 0.0 in labels with no predicted samples. Use `zero_division` parameter to control this behavior.\n",
      "  _warn_prf(average, modifier, msg_start, len(result))\n"
     ]
    }
   ],
   "source": [
    "print( classification_report(y_test, y_pred) )"
   ]
  },
  {
   "cell_type": "code",
   "execution_count": 43,
   "id": "b4d3cf31",
   "metadata": {},
   "outputs": [
    {
     "data": {
      "text/plain": [
       "0.20548751766368348"
      ]
     },
     "execution_count": 43,
     "metadata": {},
     "output_type": "execute_result"
    }
   ],
   "source": [
    "dt_clf_gini.score(X_test, y_test)"
   ]
  },
  {
   "cell_type": "markdown",
   "id": "e5fe6335",
   "metadata": {},
   "source": [
    "# VOTING CLASSIFIER"
   ]
  },
  {
   "cell_type": "code",
   "execution_count": null,
   "id": "bde6d51b",
   "metadata": {
    "collapsed": true
   },
   "outputs": [],
   "source": []
  },
  {
   "cell_type": "code",
   "execution_count": 44,
   "id": "9058c458",
   "metadata": {},
   "outputs": [],
   "source": [
    "from sklearn.ensemble import VotingClassifier\n",
    "from sklearn.linear_model import LogisticRegression\n",
    "from sklearn.ensemble import RandomForestClassifier\n",
    "from sklearn.neighbors import KNeighborsClassifier"
   ]
  },
  {
   "cell_type": "code",
   "execution_count": 45,
   "id": "f8e8cbdb",
   "metadata": {},
   "outputs": [],
   "source": [
    "clf1 = KNeighborsClassifier(n_neighbors=27)\n",
    "clf2 = RandomForestClassifier(n_jobs = -1,max_features= 'sqrt', min_samples_split= 4)\n",
    "clf3 = LogisticRegression(multi_class='multinomial',class_weight= \"balanced\", max_iter=1000)\n",
    "vc = VotingClassifier(estimators=[('knn', clf1), ('rf', clf2), ('lr', clf3)], voting='hard')"
   ]
  },
  {
   "cell_type": "code",
   "execution_count": 47,
   "id": "1035b9a6",
   "metadata": {},
   "outputs": [
    {
     "data": {
      "text/plain": [
       "VotingClassifier(estimators=[('knn', KNeighborsClassifier(n_neighbors=27)),\n",
       "                             ('rf',\n",
       "                              RandomForestClassifier(max_features='sqrt',\n",
       "                                                     min_samples_split=4,\n",
       "                                                     n_jobs=-1)),\n",
       "                             ('lr',\n",
       "                              LogisticRegression(class_weight='balanced',\n",
       "                                                 max_iter=1000,\n",
       "                                                 multi_class='multinomial'))])"
      ]
     },
     "execution_count": 47,
     "metadata": {},
     "output_type": "execute_result"
    }
   ],
   "source": [
    "vc.fit(X_train, y_train.values.ravel())"
   ]
  },
  {
   "cell_type": "code",
   "execution_count": 48,
   "id": "d4158e49",
   "metadata": {},
   "outputs": [],
   "source": [
    "y_pred = vc.predict(X_test)"
   ]
  },
  {
   "cell_type": "code",
   "execution_count": 50,
   "id": "c75b86ad",
   "metadata": {},
   "outputs": [
    {
     "name": "stdout",
     "output_type": "stream",
     "text": [
      "              precision    recall  f1-score   support\n",
      "\n",
      "           0       0.39      0.56      0.46       621\n",
      "           1       0.50      0.85      0.63       995\n",
      "           2       0.81      0.79      0.80       350\n",
      "           3       0.72      0.57      0.64       969\n",
      "           4       0.76      0.63      0.68       547\n",
      "           5       0.91      0.91      0.91      1005\n",
      "           6       0.78      0.71      0.74       521\n",
      "           7       0.78      0.80      0.79       989\n",
      "           8       0.72      0.55      0.62       410\n",
      "           9       0.89      0.90      0.90       873\n",
      "          10       0.81      0.71      0.76       969\n",
      "          11       0.78      0.81      0.79       550\n",
      "          12       0.95      0.98      0.96      2013\n",
      "          13       0.74      0.62      0.68       144\n",
      "          14       0.82      0.94      0.88       990\n",
      "          15       0.73      0.79      0.76       296\n",
      "          16       0.89      0.88      0.89       769\n",
      "          17       0.81      0.74      0.78       965\n",
      "          18       0.82      0.60      0.69       496\n",
      "          19       0.97      0.82      0.89       173\n",
      "          20       0.89      0.75      0.81       652\n",
      "          21       0.88      0.73      0.79       535\n",
      "          22       0.88      0.79      0.84       155\n",
      "          23       0.99      0.96      0.98       170\n",
      "          24       0.89      0.71      0.79       491\n",
      "          25       0.94      0.84      0.89       177\n",
      "          26       0.97      0.91      0.94       159\n",
      "\n",
      "    accuracy                           0.79     16984\n",
      "   macro avg       0.82      0.77      0.79     16984\n",
      "weighted avg       0.81      0.79      0.79     16984\n",
      "\n"
     ]
    }
   ],
   "source": [
    "print( classification_report(y_test, y_pred) )"
   ]
  },
  {
   "cell_type": "code",
   "execution_count": 51,
   "id": "edb10006",
   "metadata": {},
   "outputs": [
    {
     "data": {
      "text/plain": [
       "0.7910975035327367"
      ]
     },
     "execution_count": 51,
     "metadata": {},
     "output_type": "execute_result"
    }
   ],
   "source": [
    "vc.score(X_test, y_test)"
   ]
  },
  {
   "cell_type": "markdown",
   "id": "e58653b3",
   "metadata": {},
   "source": [
    "#  XGBOOST CLASSIFIER"
   ]
  },
  {
   "cell_type": "code",
   "execution_count": 63,
   "id": "a2a8e2a9",
   "metadata": {},
   "outputs": [
    {
     "name": "stdout",
     "output_type": "stream",
     "text": [
      "Collecting xgboost\n",
      "  Downloading xgboost-1.5.0-py3-none-win_amd64.whl (106.6 MB)\n",
      "Requirement already satisfied: scipy in c:\\programdata\\anaconda3\\lib\\site-packages (from xgboost) (1.6.2)\n",
      "Requirement already satisfied: numpy in c:\\programdata\\anaconda3\\lib\\site-packages (from xgboost) (1.20.1)\n",
      "Installing collected packages: xgboost\n",
      "Successfully installed xgboost-1.5.0\n"
     ]
    }
   ],
   "source": [
    "!pip install xgboost"
   ]
  },
  {
   "cell_type": "code",
   "execution_count": 64,
   "id": "554cb970",
   "metadata": {},
   "outputs": [],
   "source": [
    "import xgboost"
   ]
  },
  {
   "cell_type": "code",
   "execution_count": 65,
   "id": "deafa0da",
   "metadata": {},
   "outputs": [],
   "source": [
    "from xgboost import XGBClassifier\n",
    "\n",
    "xgb_clf = XGBClassifier(use_label_encoder=False)"
   ]
  },
  {
   "cell_type": "code",
   "execution_count": 66,
   "id": "cf913c75",
   "metadata": {},
   "outputs": [
    {
     "name": "stdout",
     "output_type": "stream",
     "text": [
      "[22:21:26] WARNING: C:/Users/Administrator/workspace/xgboost-win64_release_1.5.0/src/learner.cc:1115: Starting in XGBoost 1.3.0, the default evaluation metric used with the objective 'multi:softprob' was changed from 'merror' to 'mlogloss'. Explicitly set eval_metric if you'd like to restore the old behavior.\n"
     ]
    },
    {
     "data": {
      "text/plain": [
       "XGBClassifier(base_score=0.5, booster='gbtree', colsample_bylevel=1,\n",
       "              colsample_bynode=1, colsample_bytree=1, enable_categorical=False,\n",
       "              gamma=0, gpu_id=-1, importance_type=None,\n",
       "              interaction_constraints='', learning_rate=0.300000012,\n",
       "              max_delta_step=0, max_depth=6, min_child_weight=1, missing=nan,\n",
       "              monotone_constraints='()', n_estimators=100, n_jobs=8,\n",
       "              num_parallel_tree=1, objective='multi:softprob', predictor='auto',\n",
       "              random_state=0, reg_alpha=0, reg_lambda=1, scale_pos_weight=None,\n",
       "              subsample=1, tree_method='exact', use_label_encoder=False,\n",
       "              validate_parameters=1, verbosity=None)"
      ]
     },
     "execution_count": 66,
     "metadata": {},
     "output_type": "execute_result"
    }
   ],
   "source": [
    "xgb_clf.fit(X_train, y_train.values.ravel())"
   ]
  },
  {
   "cell_type": "code",
   "execution_count": 67,
   "id": "9d22702a",
   "metadata": {},
   "outputs": [],
   "source": [
    "y_pred = xgb_clf.predict(X_test)"
   ]
  },
  {
   "cell_type": "code",
   "execution_count": 68,
   "id": "cb43534d",
   "metadata": {},
   "outputs": [
    {
     "name": "stdout",
     "output_type": "stream",
     "text": [
      "              precision    recall  f1-score   support\n",
      "\n",
      "           0       0.30      0.72      0.43       621\n",
      "           1       0.64      0.71      0.67       995\n",
      "           2       0.79      0.75      0.77       350\n",
      "           3       0.71      0.66      0.68       969\n",
      "           4       0.79      0.60      0.68       547\n",
      "           5       0.89      0.89      0.89      1005\n",
      "           6       0.75      0.69      0.72       521\n",
      "           7       0.82      0.83      0.83       989\n",
      "           8       0.67      0.56      0.61       410\n",
      "           9       0.89      0.91      0.90       873\n",
      "          10       0.78      0.71      0.74       969\n",
      "          11       0.80      0.75      0.78       550\n",
      "          12       0.96      0.96      0.96      2013\n",
      "          13       0.78      0.58      0.67       144\n",
      "          14       0.88      0.88      0.88       990\n",
      "          15       0.79      0.75      0.77       296\n",
      "          16       0.89      0.82      0.85       769\n",
      "          17       0.79      0.78      0.78       965\n",
      "          18       0.76      0.53      0.63       496\n",
      "          19       0.94      0.84      0.89       173\n",
      "          20       0.83      0.74      0.78       652\n",
      "          21       0.84      0.71      0.77       535\n",
      "          22       0.84      0.79      0.82       155\n",
      "          23       0.96      0.97      0.97       170\n",
      "          24       0.85      0.75      0.79       491\n",
      "          25       0.90      0.79      0.84       177\n",
      "          26       0.93      0.91      0.92       159\n",
      "\n",
      "    accuracy                           0.78     16984\n",
      "   macro avg       0.81      0.76      0.78     16984\n",
      "weighted avg       0.81      0.78      0.79     16984\n",
      "\n"
     ]
    }
   ],
   "source": [
    "print( classification_report(y_test, y_pred) )"
   ]
  },
  {
   "cell_type": "code",
   "execution_count": 69,
   "id": "24e1aa9f",
   "metadata": {},
   "outputs": [
    {
     "data": {
      "text/plain": [
       "0.7826778144135657"
      ]
     },
     "execution_count": 69,
     "metadata": {},
     "output_type": "execute_result"
    }
   ],
   "source": [
    "xgb_clf.score(X_test, y_test)"
   ]
  }
 ],
 "metadata": {
  "kernelspec": {
   "display_name": "Python 3 (ipykernel)",
   "language": "python",
   "name": "python3"
  },
  "language_info": {
   "codemirror_mode": {
    "name": "ipython",
    "version": 3
   },
   "file_extension": ".py",
   "mimetype": "text/x-python",
   "name": "python",
   "nbconvert_exporter": "python",
   "pygments_lexer": "ipython3",
   "version": "3.8.13"
  }
 },
 "nbformat": 4,
 "nbformat_minor": 5
}
