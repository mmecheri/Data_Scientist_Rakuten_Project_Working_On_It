{
 "cells": [
  {
   "cell_type": "code",
   "execution_count": 1,
   "id": "d7186a18",
   "metadata": {},
   "outputs": [],
   "source": [
    "import pandas as pd\n",
    "import numpy as np"
   ]
  },
  {
   "cell_type": "code",
   "execution_count": 5,
   "id": "69670cc3",
   "metadata": {},
   "outputs": [],
   "source": [
    "y = pd.read_pickle('ytrain.pkl')"
   ]
  },
  {
   "cell_type": "code",
   "execution_count": 6,
   "id": "a9c1bdb5",
   "metadata": {},
   "outputs": [
    {
     "data": {
      "text/html": [
       "<div>\n",
       "<style scoped>\n",
       "    .dataframe tbody tr th:only-of-type {\n",
       "        vertical-align: middle;\n",
       "    }\n",
       "\n",
       "    .dataframe tbody tr th {\n",
       "        vertical-align: top;\n",
       "    }\n",
       "\n",
       "    .dataframe thead th {\n",
       "        text-align: right;\n",
       "    }\n",
       "</style>\n",
       "<table border=\"1\" class=\"dataframe\">\n",
       "  <thead>\n",
       "    <tr style=\"text-align: right;\">\n",
       "      <th></th>\n",
       "      <th>target</th>\n",
       "    </tr>\n",
       "  </thead>\n",
       "  <tbody>\n",
       "    <tr>\n",
       "      <th>0</th>\n",
       "      <td>0</td>\n",
       "    </tr>\n",
       "    <tr>\n",
       "      <th>1</th>\n",
       "      <td>1</td>\n",
       "    </tr>\n",
       "    <tr>\n",
       "      <th>2</th>\n",
       "      <td>2</td>\n",
       "    </tr>\n",
       "    <tr>\n",
       "      <th>3</th>\n",
       "      <td>3</td>\n",
       "    </tr>\n",
       "    <tr>\n",
       "      <th>4</th>\n",
       "      <td>4</td>\n",
       "    </tr>\n",
       "    <tr>\n",
       "      <th>...</th>\n",
       "      <td>...</td>\n",
       "    </tr>\n",
       "    <tr>\n",
       "      <th>84911</th>\n",
       "      <td>18</td>\n",
       "    </tr>\n",
       "    <tr>\n",
       "      <th>84912</th>\n",
       "      <td>12</td>\n",
       "    </tr>\n",
       "    <tr>\n",
       "      <th>84913</th>\n",
       "      <td>1</td>\n",
       "    </tr>\n",
       "    <tr>\n",
       "      <th>84914</th>\n",
       "      <td>7</td>\n",
       "    </tr>\n",
       "    <tr>\n",
       "      <th>84915</th>\n",
       "      <td>5</td>\n",
       "    </tr>\n",
       "  </tbody>\n",
       "</table>\n",
       "<p>84916 rows × 1 columns</p>\n",
       "</div>"
      ],
      "text/plain": [
       "       target\n",
       "0           0\n",
       "1           1\n",
       "2           2\n",
       "3           3\n",
       "4           4\n",
       "...       ...\n",
       "84911      18\n",
       "84912      12\n",
       "84913       1\n",
       "84914       7\n",
       "84915       5\n",
       "\n",
       "[84916 rows x 1 columns]"
      ]
     },
     "execution_count": 6,
     "metadata": {},
     "output_type": "execute_result"
    }
   ],
   "source": [
    "y"
   ]
  },
  {
   "cell_type": "code",
   "execution_count": 10,
   "id": "63e49458",
   "metadata": {},
   "outputs": [],
   "source": [
    "X = pd.read_pickle('x_train_new.pkl')"
   ]
  },
  {
   "cell_type": "code",
   "execution_count": 11,
   "id": "ce0ef5ee",
   "metadata": {},
   "outputs": [
    {
     "data": {
      "text/html": [
       "<div>\n",
       "<style scoped>\n",
       "    .dataframe tbody tr th:only-of-type {\n",
       "        vertical-align: middle;\n",
       "    }\n",
       "\n",
       "    .dataframe tbody tr th {\n",
       "        vertical-align: top;\n",
       "    }\n",
       "\n",
       "    .dataframe thead th {\n",
       "        text-align: right;\n",
       "    }\n",
       "</style>\n",
       "<table border=\"1\" class=\"dataframe\">\n",
       "  <thead>\n",
       "    <tr style=\"text-align: right;\">\n",
       "      <th></th>\n",
       "      <th>designation</th>\n",
       "      <th>description</th>\n",
       "      <th>productid</th>\n",
       "      <th>imageid</th>\n",
       "      <th>text</th>\n",
       "    </tr>\n",
       "  </thead>\n",
       "  <tbody>\n",
       "    <tr>\n",
       "      <th>0</th>\n",
       "      <td>Olivia: Personalisiertes Notizbuch / 150 Seite...</td>\n",
       "      <td>&lt;NA&gt;</td>\n",
       "      <td>3804725264</td>\n",
       "      <td>1263597046</td>\n",
       "      <td>Olivia: Personalisiertes Notizbuch / 150 Seite...</td>\n",
       "    </tr>\n",
       "    <tr>\n",
       "      <th>1</th>\n",
       "      <td>Journal Des Arts (Le) N° 133 Du 28/09/2001 - L...</td>\n",
       "      <td>&lt;NA&gt;</td>\n",
       "      <td>436067568</td>\n",
       "      <td>1008141237</td>\n",
       "      <td>Journal Des Arts (Le) N° 133 Du 28/09/2001 - L...</td>\n",
       "    </tr>\n",
       "    <tr>\n",
       "      <th>2</th>\n",
       "      <td>Grand Stylet Ergonomique Bleu Gamepad Nintendo...</td>\n",
       "      <td>PILOT STYLE Touch Pen de marque Speedlink est ...</td>\n",
       "      <td>201115110</td>\n",
       "      <td>938777978</td>\n",
       "      <td>Grand Stylet Ergonomique Bleu Gamepad Nintendo...</td>\n",
       "    </tr>\n",
       "    <tr>\n",
       "      <th>3</th>\n",
       "      <td>Peluche Donald - Europe - Disneyland 2000 (Mar...</td>\n",
       "      <td>&lt;NA&gt;</td>\n",
       "      <td>50418756</td>\n",
       "      <td>457047496</td>\n",
       "      <td>Peluche Donald - Europe Disneyland 2000 (Mario...</td>\n",
       "    </tr>\n",
       "    <tr>\n",
       "      <th>4</th>\n",
       "      <td>La Guerre Des Tuques</td>\n",
       "      <td>Luc a des id&amp;eacute;es de grandeur. Il veut or...</td>\n",
       "      <td>278535884</td>\n",
       "      <td>1077757786</td>\n",
       "      <td>La Guerre Des TuquesLuc a des id&amp;eacute;es de ...</td>\n",
       "    </tr>\n",
       "  </tbody>\n",
       "</table>\n",
       "</div>"
      ],
      "text/plain": [
       "                                         designation  \\\n",
       "0  Olivia: Personalisiertes Notizbuch / 150 Seite...   \n",
       "1  Journal Des Arts (Le) N° 133 Du 28/09/2001 - L...   \n",
       "2  Grand Stylet Ergonomique Bleu Gamepad Nintendo...   \n",
       "3  Peluche Donald - Europe - Disneyland 2000 (Mar...   \n",
       "4                               La Guerre Des Tuques   \n",
       "\n",
       "                                         description   productid     imageid  \\\n",
       "0                                               <NA>  3804725264  1263597046   \n",
       "1                                               <NA>   436067568  1008141237   \n",
       "2  PILOT STYLE Touch Pen de marque Speedlink est ...   201115110   938777978   \n",
       "3                                               <NA>    50418756   457047496   \n",
       "4  Luc a des id&eacute;es de grandeur. Il veut or...   278535884  1077757786   \n",
       "\n",
       "                                                text  \n",
       "0  Olivia: Personalisiertes Notizbuch / 150 Seite...  \n",
       "1  Journal Des Arts (Le) N° 133 Du 28/09/2001 - L...  \n",
       "2  Grand Stylet Ergonomique Bleu Gamepad Nintendo...  \n",
       "3  Peluche Donald - Europe Disneyland 2000 (Mario...  \n",
       "4  La Guerre Des TuquesLuc a des id&eacute;es de ...  "
      ]
     },
     "execution_count": 11,
     "metadata": {},
     "output_type": "execute_result"
    }
   ],
   "source": [
    "X.head()"
   ]
  },
  {
   "cell_type": "code",
   "execution_count": 32,
   "id": "a68bf991",
   "metadata": {},
   "outputs": [],
   "source": [
    "#!pip install swifter"
   ]
  },
  {
   "cell_type": "code",
   "execution_count": 14,
   "id": "d2634262",
   "metadata": {},
   "outputs": [
    {
     "data": {
      "application/vnd.jupyter.widget-view+json": {
       "model_id": "e9903a6e3cd5423db1472c142d1bf955",
       "version_major": 2,
       "version_minor": 0
      },
      "text/plain": [
       "Pandas Apply:   0%|          | 0/84916 [00:00<?, ?it/s]"
      ]
     },
     "metadata": {},
     "output_type": "display_data"
    },
    {
     "data": {
      "text/html": [
       "<div>\n",
       "<style scoped>\n",
       "    .dataframe tbody tr th:only-of-type {\n",
       "        vertical-align: middle;\n",
       "    }\n",
       "\n",
       "    .dataframe tbody tr th {\n",
       "        vertical-align: top;\n",
       "    }\n",
       "\n",
       "    .dataframe thead th {\n",
       "        text-align: right;\n",
       "    }\n",
       "</style>\n",
       "<table border=\"1\" class=\"dataframe\">\n",
       "  <thead>\n",
       "    <tr style=\"text-align: right;\">\n",
       "      <th></th>\n",
       "      <th>designation</th>\n",
       "      <th>description</th>\n",
       "      <th>productid</th>\n",
       "      <th>imageid</th>\n",
       "      <th>text</th>\n",
       "    </tr>\n",
       "  </thead>\n",
       "  <tbody>\n",
       "    <tr>\n",
       "      <th>0</th>\n",
       "      <td>Olivia: Personalisiertes Notizbuch / 150 Seite...</td>\n",
       "      <td>&lt;NA&gt;</td>\n",
       "      <td>3804725264</td>\n",
       "      <td>1263597046</td>\n",
       "      <td>olivia personalisiertes notizbuch seiten punkt...</td>\n",
       "    </tr>\n",
       "    <tr>\n",
       "      <th>1</th>\n",
       "      <td>Journal Des Arts (Le) N° 133 Du 28/09/2001 - L...</td>\n",
       "      <td>&lt;NA&gt;</td>\n",
       "      <td>436067568</td>\n",
       "      <td>1008141237</td>\n",
       "      <td>journal arts art marche salon art asiatique pa...</td>\n",
       "    </tr>\n",
       "    <tr>\n",
       "      <th>2</th>\n",
       "      <td>Grand Stylet Ergonomique Bleu Gamepad Nintendo...</td>\n",
       "      <td>PILOT STYLE Touch Pen de marque Speedlink est ...</td>\n",
       "      <td>201115110</td>\n",
       "      <td>938777978</td>\n",
       "      <td>grand stylet ergonomique bleu gamepad nintendo...</td>\n",
       "    </tr>\n",
       "    <tr>\n",
       "      <th>3</th>\n",
       "      <td>Peluche Donald - Europe - Disneyland 2000 (Mar...</td>\n",
       "      <td>&lt;NA&gt;</td>\n",
       "      <td>50418756</td>\n",
       "      <td>457047496</td>\n",
       "      <td>peluche donald europe disneyland marionnette d...</td>\n",
       "    </tr>\n",
       "    <tr>\n",
       "      <th>4</th>\n",
       "      <td>La Guerre Des Tuques</td>\n",
       "      <td>Luc a des id&amp;eacute;es de grandeur. Il veut or...</td>\n",
       "      <td>278535884</td>\n",
       "      <td>1077757786</td>\n",
       "      <td>guerre tuquesluc grandeur . veut organiser jeu...</td>\n",
       "    </tr>\n",
       "  </tbody>\n",
       "</table>\n",
       "</div>"
      ],
      "text/plain": [
       "                                         designation  \\\n",
       "0  Olivia: Personalisiertes Notizbuch / 150 Seite...   \n",
       "1  Journal Des Arts (Le) N° 133 Du 28/09/2001 - L...   \n",
       "2  Grand Stylet Ergonomique Bleu Gamepad Nintendo...   \n",
       "3  Peluche Donald - Europe - Disneyland 2000 (Mar...   \n",
       "4                               La Guerre Des Tuques   \n",
       "\n",
       "                                         description   productid     imageid  \\\n",
       "0                                               <NA>  3804725264  1263597046   \n",
       "1                                               <NA>   436067568  1008141237   \n",
       "2  PILOT STYLE Touch Pen de marque Speedlink est ...   201115110   938777978   \n",
       "3                                               <NA>    50418756   457047496   \n",
       "4  Luc a des id&eacute;es de grandeur. Il veut or...   278535884  1077757786   \n",
       "\n",
       "                                                text  \n",
       "0  olivia personalisiertes notizbuch seiten punkt...  \n",
       "1  journal arts art marche salon art asiatique pa...  \n",
       "2  grand stylet ergonomique bleu gamepad nintendo...  \n",
       "3  peluche donald europe disneyland marionnette d...  \n",
       "4  guerre tuquesluc grandeur . veut organiser jeu...  "
      ]
     },
     "execution_count": 14,
     "metadata": {},
     "output_type": "execute_result"
    }
   ],
   "source": [
    "import re\n",
    "import unicodedata\n",
    "from nltk.corpus import stopwords\n",
    "from nltk.tokenize import word_tokenize\n",
    "import swifter\n",
    "\n",
    "stop_words = stopwords.words('french') + stopwords.words('english') + stopwords.words('german') +['plus', 'peut', 'tout', 'etre', 'sans', 'dont', 'aussi', 'comme', 'meme', 'bien','leurs', 'elles', 'cette','celui', 'ainsi', 'encore', 'alors', 'toujours', 'toute','deux', 'nouveau', 'peu', 'car', 'autre', 'jusqu', 'quand', 'ici', 'ceux', 'enfin', 'jamais', 'autant', 'tant', 'avoir', 'moin', 'celle', 'tous', 'contre', 'pourtant', 'quelque', 'toutes', 'surtout', 'cet', 'comment', 'rien', 'avant', 'doit', 'autre', 'depuis', 'moins', 'tre', 'souvent', 'etait', 'pouvoir', 'apre', 'non', 'ver', 'quel', 'pourquoi', 'certain', 'fait', 'faire', 'sou', 'donc', 'trop', 'quelques', 'parfois', 'tres', 'donc', 'dire', 'eacute', 'egrave', 'rsquo', 'agrave', 'ecirc', 'nbsp', 'acirc', 'apres', 'autres', 'ocirc', 'entre', 'sous', 'quelle']\n",
    "\n",
    "# Converts the unicode file to ascii\n",
    "def unicode_to_ascii(s):\n",
    "    return ''.join(c for c in unicodedata.normalize('NFD', s)\n",
    "        if unicodedata.category(c) != 'Mn')\n",
    "\n",
    "def preprocess_sentence(w):\n",
    "    w = unicode_to_ascii(w.lower().strip())\n",
    "    # creating a space between a word and the punctuation following it\n",
    "    # eg: \"he is a boy.\" => \"he is a boy .\"\n",
    "    w = re.sub(r\"([?.!,¿])\", r\" \\1 \", w)\n",
    "    w = re.sub(r'[\" \"]+', \" \", w)\n",
    "    # replacing everything with space except (a-z, A-Z, \".\", \"?\", \"!\", \",\")\n",
    "    w = re.sub(r\"[^a-zA-Z?.!]+\", \" \", w)\n",
    "    w = re.sub(r'\\b\\w{0,2}\\b', '', w)\n",
    "\n",
    "    # remove stopword\n",
    "    mots = word_tokenize(w.strip())\n",
    "    mots = [mot for mot in mots if mot not in stop_words]\n",
    "    return ' '.join(mots).strip()\n",
    "\n",
    "X.text = X.text.swifter.apply(lambda x :preprocess_sentence(x))\n",
    "X.head()"
   ]
  },
  {
   "cell_type": "code",
   "execution_count": 15,
   "id": "bb0b3a6d",
   "metadata": {},
   "outputs": [],
   "source": [
    "from sklearn.model_selection import train_test_split\n",
    "X_text_train, X_text_test, y_train, y_test = train_test_split(X.text, y, test_size=0.2, random_state=1234)"
   ]
  },
  {
   "cell_type": "code",
   "execution_count": 31,
   "id": "4c7fdf93",
   "metadata": {},
   "outputs": [],
   "source": [
    "#!pip install tensorflow"
   ]
  },
  {
   "cell_type": "code",
   "execution_count": 18,
   "id": "5b99770d",
   "metadata": {},
   "outputs": [],
   "source": [
    "import tensorflow as tf\n",
    "# Définition du tokenizer\n",
    "tokenizer = tf.keras.preprocessing.text.Tokenizer(num_words=10000)\n",
    "# Mettre à jour le dictionnaire du tokenizer\n",
    "tokenizer.fit_on_texts(X_text_train)"
   ]
  },
  {
   "cell_type": "code",
   "execution_count": 19,
   "id": "233a112d",
   "metadata": {},
   "outputs": [],
   "source": [
    "# Définition des dictionnaires\n",
    "word2idx = tokenizer.word_index\n",
    "idx2word = tokenizer.index_word\n",
    "vocab_size = tokenizer.num_words"
   ]
  },
  {
   "cell_type": "code",
   "execution_count": 20,
   "id": "0451a63e",
   "metadata": {},
   "outputs": [],
   "source": [
    "X_train = tokenizer.texts_to_sequences(X_text_train)"
   ]
  },
  {
   "cell_type": "code",
   "execution_count": 21,
   "id": "0adba004",
   "metadata": {},
   "outputs": [],
   "source": [
    "X_test = tokenizer.texts_to_sequences(X_text_test)"
   ]
  },
  {
   "cell_type": "code",
   "execution_count": 22,
   "id": "7021b7e7",
   "metadata": {},
   "outputs": [],
   "source": [
    "maxlen = 500\n",
    "X_train = tf.keras.preprocessing.sequence.pad_sequences(X_train, maxlen=maxlen, padding='post')"
   ]
  },
  {
   "cell_type": "code",
   "execution_count": 23,
   "id": "1c66b594",
   "metadata": {},
   "outputs": [],
   "source": [
    "X_test = tf.keras.preprocessing.sequence.pad_sequences(X_test, maxlen=maxlen, padding='post')"
   ]
  },
  {
   "cell_type": "markdown",
   "id": "6424319e",
   "metadata": {},
   "source": [
    "# Modèle : RNN GRUCELL"
   ]
  },
  {
   "cell_type": "code",
   "execution_count": 28,
   "id": "7408d8be",
   "metadata": {},
   "outputs": [
    {
     "name": "stdout",
     "output_type": "stream",
     "text": [
      "Model: \"sequential_2\"\n",
      "_________________________________________________________________\n",
      " Layer (type)                Output Shape              Param #   \n",
      "=================================================================\n",
      " embedding_2 (Embedding)     (None, None, 200)         2000000   \n",
      "                                                                 \n",
      " rnn_2 (RNN)                 (None, None, 128)         126720    \n",
      "                                                                 \n",
      " dropout_4 (Dropout)         (None, None, 128)         0         \n",
      "                                                                 \n",
      " global_average_pooling1d_2   (None, 128)              0         \n",
      " (GlobalAveragePooling1D)                                        \n",
      "                                                                 \n",
      " dense_4 (Dense)             (None, 256)               33024     \n",
      "                                                                 \n",
      " dropout_5 (Dropout)         (None, 256)               0         \n",
      "                                                                 \n",
      " dense_5 (Dense)             (None, 27)                6939      \n",
      "                                                                 \n",
      "=================================================================\n",
      "Total params: 2,166,683\n",
      "Trainable params: 2,166,683\n",
      "Non-trainable params: 0\n",
      "_________________________________________________________________\n"
     ]
    }
   ],
   "source": [
    "from tensorflow.keras import Sequential\n",
    "from tensorflow.keras.layers import Embedding, Dense, GlobalAveragePooling1D, RNN, GRUCell, Dropout\n",
    "embedding_dim = 200\n",
    "\n",
    "model = Sequential()\n",
    "model.add(Embedding(10000, embedding_dim))\n",
    "model.add(RNN(GRUCell(128), return_sequences=True))\n",
    "model.add(Dropout(0.3))\n",
    "model.add(GlobalAveragePooling1D())\n",
    "model.add(Dense(256, activation='relu'))\n",
    "model.add(Dropout(0.3))\n",
    "model.add(Dense(27, activation='softmax'))\n",
    "\n",
    "model.summary()"
   ]
  },
  {
   "cell_type": "code",
   "execution_count": 29,
   "id": "818a672c",
   "metadata": {},
   "outputs": [
    {
     "name": "stdout",
     "output_type": "stream",
     "text": [
      "Epoch 1/10\n",
      "1062/1062 [==============================] - 1377s 1s/step - loss: 1.8048 - accuracy: 0.4549 - val_loss: 1.0505 - val_accuracy: 0.6843\n",
      "Epoch 2/10\n",
      "1062/1062 [==============================] - 947s 892ms/step - loss: 0.8713 - accuracy: 0.7405 - val_loss: 0.8307 - val_accuracy: 0.7476\n",
      "Epoch 3/10\n",
      "1062/1062 [==============================] - 837s 788ms/step - loss: 0.6567 - accuracy: 0.8033 - val_loss: 0.8038 - val_accuracy: 0.7639\n",
      "Epoch 4/10\n",
      "1062/1062 [==============================] - 796s 749ms/step - loss: 0.5378 - accuracy: 0.8355 - val_loss: 0.8149 - val_accuracy: 0.7684\n",
      "Epoch 5/10\n",
      "1062/1062 [==============================] - 810s 763ms/step - loss: 0.4552 - accuracy: 0.8600 - val_loss: 0.8216 - val_accuracy: 0.7695\n",
      "Epoch 6/10\n",
      "1062/1062 [==============================] - 817s 769ms/step - loss: 0.3844 - accuracy: 0.8789 - val_loss: 0.9217 - val_accuracy: 0.7668\n",
      "Epoch 7/10\n",
      "1062/1062 [==============================] - 799s 752ms/step - loss: 0.3309 - accuracy: 0.8960 - val_loss: 0.9968 - val_accuracy: 0.7663\n",
      "Epoch 8/10\n",
      "1062/1062 [==============================] - 805s 758ms/step - loss: 0.2873 - accuracy: 0.9096 - val_loss: 1.0741 - val_accuracy: 0.7670\n",
      "Epoch 9/10\n",
      "1062/1062 [==============================] - 808s 760ms/step - loss: 0.2509 - accuracy: 0.9200 - val_loss: 1.2144 - val_accuracy: 0.7611\n",
      "Epoch 10/10\n",
      "1062/1062 [==============================] - 964s 908ms/step - loss: 0.2211 - accuracy: 0.9292 - val_loss: 1.2312 - val_accuracy: 0.7696\n"
     ]
    }
   ],
   "source": [
    "model.compile(optimizer='adam',\n",
    "              loss='sparse_categorical_crossentropy',\n",
    "              metrics=['accuracy'])\n",
    "\n",
    "\n",
    "history = model.fit(X_train, y_train.values,\n",
    "    batch_size = 64,\n",
    "    epochs=10,\n",
    "    validation_data = [X_test, y_test.values])"
   ]
  },
  {
   "cell_type": "code",
   "execution_count": 30,
   "id": "154d9c35",
   "metadata": {},
   "outputs": [
    {
     "name": "stdout",
     "output_type": "stream",
     "text": [
      "133/133 [==============================] - 33s 245ms/step - loss: 1.2312 - accuracy: 0.7696\n"
     ]
    },
    {
     "data": {
      "text/plain": [
       "[1.231240153312683, 0.7696067094802856]"
      ]
     },
     "execution_count": 30,
     "metadata": {},
     "output_type": "execute_result"
    }
   ],
   "source": [
    "model.evaluate(X_test, y_test.values, batch_size=128)"
   ]
  },
  {
   "cell_type": "markdown",
   "id": "372406d4",
   "metadata": {},
   "source": [
    "# Modèle : RNN LSTM CELL"
   ]
  },
  {
   "cell_type": "code",
   "execution_count": 34,
   "id": "01755020",
   "metadata": {},
   "outputs": [],
   "source": [
    "from tensorflow.keras.layers import LSTMCell"
   ]
  },
  {
   "cell_type": "code",
   "execution_count": 35,
   "id": "074eff45",
   "metadata": {},
   "outputs": [
    {
     "name": "stdout",
     "output_type": "stream",
     "text": [
      "Model: \"sequential_4\"\n",
      "_________________________________________________________________\n",
      " Layer (type)                Output Shape              Param #   \n",
      "=================================================================\n",
      " embedding_4 (Embedding)     (None, None, 200)         2000000   \n",
      "                                                                 \n",
      " rnn_3 (RNN)                 (None, None, 128)         168448    \n",
      "                                                                 \n",
      " dropout_6 (Dropout)         (None, None, 128)         0         \n",
      "                                                                 \n",
      " global_average_pooling1d_3   (None, 128)              0         \n",
      " (GlobalAveragePooling1D)                                        \n",
      "                                                                 \n",
      " dense_6 (Dense)             (None, 256)               33024     \n",
      "                                                                 \n",
      " dropout_7 (Dropout)         (None, 256)               0         \n",
      "                                                                 \n",
      " dense_7 (Dense)             (None, 27)                6939      \n",
      "                                                                 \n",
      "=================================================================\n",
      "Total params: 2,208,411\n",
      "Trainable params: 2,208,411\n",
      "Non-trainable params: 0\n",
      "_________________________________________________________________\n"
     ]
    }
   ],
   "source": [
    "embedding_dim = 200\n",
    "\n",
    "model = Sequential()\n",
    "model.add(Embedding(10000, embedding_dim))\n",
    "model.add(RNN(LSTMCell(128), return_sequences=True))\n",
    "model.add(Dropout(0.3))\n",
    "model.add(GlobalAveragePooling1D())\n",
    "model.add(Dense(256, activation='relu'))\n",
    "model.add(Dropout(0.3))\n",
    "model.add(Dense(27, activation='softmax'))\n",
    "\n",
    "model.summary()"
   ]
  },
  {
   "cell_type": "code",
   "execution_count": 36,
   "id": "f90fbf65",
   "metadata": {},
   "outputs": [
    {
     "name": "stdout",
     "output_type": "stream",
     "text": [
      "Epoch 1/10\n",
      "1062/1062 [==============================] - 803s 755ms/step - loss: 2.6560 - accuracy: 0.2028 - val_loss: 2.1729 - val_accuracy: 0.2916\n",
      "Epoch 2/10\n",
      "1062/1062 [==============================] - 939s 884ms/step - loss: 1.9471 - accuracy: 0.3648 - val_loss: 1.6845 - val_accuracy: 0.4548\n",
      "Epoch 3/10\n",
      "1062/1062 [==============================] - 1042s 981ms/step - loss: 1.3541 - accuracy: 0.5614 - val_loss: 1.2129 - val_accuracy: 0.6236\n",
      "Epoch 4/10\n",
      "1062/1062 [==============================] - 1256s 1s/step - loss: 0.9921 - accuracy: 0.6914 - val_loss: 0.9991 - val_accuracy: 0.7083\n",
      "Epoch 5/10\n",
      "1062/1062 [==============================] - 1022s 962ms/step - loss: 0.7839 - accuracy: 0.7672 - val_loss: 0.9327 - val_accuracy: 0.7358\n",
      "Epoch 6/10\n",
      "1062/1062 [==============================] - 1012s 953ms/step - loss: 0.6590 - accuracy: 0.8048 - val_loss: 0.9338 - val_accuracy: 0.7412\n",
      "Epoch 7/10\n",
      "1062/1062 [==============================] - 1034s 974ms/step - loss: 0.5692 - accuracy: 0.8318 - val_loss: 0.9287 - val_accuracy: 0.7480\n",
      "Epoch 8/10\n",
      "1062/1062 [==============================] - 1012s 953ms/step - loss: 0.4981 - accuracy: 0.8539 - val_loss: 0.9779 - val_accuracy: 0.7526\n",
      "Epoch 9/10\n",
      "1062/1062 [==============================] - 1041s 981ms/step - loss: 0.4416 - accuracy: 0.8702 - val_loss: 0.9646 - val_accuracy: 0.7511\n",
      "Epoch 10/10\n",
      "1062/1062 [==============================] - 977s 920ms/step - loss: 0.3937 - accuracy: 0.8838 - val_loss: 1.0030 - val_accuracy: 0.7531\n"
     ]
    }
   ],
   "source": [
    "model.compile(optimizer='adam',\n",
    "              loss='sparse_categorical_crossentropy',\n",
    "              metrics=['accuracy'])\n",
    "\n",
    "\n",
    "history = model.fit(X_train, y_train.values,\n",
    "    batch_size = 64,\n",
    "    epochs=10,\n",
    "    validation_data = [X_test, y_test.values])"
   ]
  },
  {
   "cell_type": "code",
   "execution_count": 37,
   "id": "77eb175d",
   "metadata": {},
   "outputs": [
    {
     "name": "stdout",
     "output_type": "stream",
     "text": [
      "133/133 [==============================] - 43s 320ms/step - loss: 1.0030 - accuracy: 0.7531\n"
     ]
    },
    {
     "data": {
      "text/plain": [
       "[1.002968192100525, 0.7531206011772156]"
      ]
     },
     "execution_count": 37,
     "metadata": {},
     "output_type": "execute_result"
    }
   ],
   "source": [
    "model.evaluate(X_test, y_test.values, batch_size=128)"
   ]
  },
  {
   "cell_type": "markdown",
   "id": "0377fd45",
   "metadata": {},
   "source": [
    "# Modèle : RNN (SIMPLE RNN CELL)"
   ]
  },
  {
   "cell_type": "code",
   "execution_count": 38,
   "id": "38147641",
   "metadata": {},
   "outputs": [],
   "source": [
    "from tensorflow.keras.layers import SimpleRNNCell"
   ]
  },
  {
   "cell_type": "code",
   "execution_count": 39,
   "id": "b33ad290",
   "metadata": {},
   "outputs": [
    {
     "name": "stdout",
     "output_type": "stream",
     "text": [
      "Model: \"sequential_5\"\n",
      "_________________________________________________________________\n",
      " Layer (type)                Output Shape              Param #   \n",
      "=================================================================\n",
      " embedding_5 (Embedding)     (None, None, 200)         2000000   \n",
      "                                                                 \n",
      " rnn_4 (RNN)                 (None, None, 128)         42112     \n",
      "                                                                 \n",
      " dropout_8 (Dropout)         (None, None, 128)         0         \n",
      "                                                                 \n",
      " global_average_pooling1d_4   (None, 128)              0         \n",
      " (GlobalAveragePooling1D)                                        \n",
      "                                                                 \n",
      " dense_8 (Dense)             (None, 256)               33024     \n",
      "                                                                 \n",
      " dropout_9 (Dropout)         (None, 256)               0         \n",
      "                                                                 \n",
      " dense_9 (Dense)             (None, 27)                6939      \n",
      "                                                                 \n",
      "=================================================================\n",
      "Total params: 2,082,075\n",
      "Trainable params: 2,082,075\n",
      "Non-trainable params: 0\n",
      "_________________________________________________________________\n"
     ]
    }
   ],
   "source": [
    "embedding_dim = 200\n",
    "\n",
    "model = Sequential()\n",
    "model.add(Embedding(10000, embedding_dim))\n",
    "model.add(RNN(SimpleRNNCell(128), return_sequences=True))\n",
    "model.add(Dropout(0.3))\n",
    "model.add(GlobalAveragePooling1D())\n",
    "model.add(Dense(256, activation='relu'))\n",
    "model.add(Dropout(0.3))\n",
    "model.add(Dense(27, activation='softmax'))\n",
    "\n",
    "model.summary()"
   ]
  },
  {
   "cell_type": "code",
   "execution_count": 40,
   "id": "16e7569e",
   "metadata": {},
   "outputs": [
    {
     "name": "stdout",
     "output_type": "stream",
     "text": [
      "Epoch 1/10\n",
      "1062/1062 [==============================] - 313s 294ms/step - loss: 2.8420 - accuracy: 0.1679 - val_loss: 2.4863 - val_accuracy: 0.1949\n",
      "Epoch 2/10\n",
      "1062/1062 [==============================] - 336s 317ms/step - loss: 2.2756 - accuracy: 0.2876 - val_loss: 2.5540 - val_accuracy: 0.2209\n",
      "Epoch 3/10\n",
      "1062/1062 [==============================] - 334s 315ms/step - loss: 1.9782 - accuracy: 0.3667 - val_loss: 1.7750 - val_accuracy: 0.4189\n",
      "Epoch 4/10\n",
      "1062/1062 [==============================] - 327s 308ms/step - loss: 1.7092 - accuracy: 0.4442 - val_loss: 1.6238 - val_accuracy: 0.4832\n",
      "Epoch 5/10\n",
      "1062/1062 [==============================] - 323s 304ms/step - loss: 1.6295 - accuracy: 0.4805 - val_loss: 1.6560 - val_accuracy: 0.4813\n",
      "Epoch 6/10\n",
      "1062/1062 [==============================] - 344s 324ms/step - loss: 1.5480 - accuracy: 0.5112 - val_loss: 1.4823 - val_accuracy: 0.5377\n",
      "Epoch 7/10\n",
      "1062/1062 [==============================] - 329s 310ms/step - loss: 1.4782 - accuracy: 0.5367 - val_loss: 1.3972 - val_accuracy: 0.5715\n",
      "Epoch 8/10\n",
      "1062/1062 [==============================] - 286s 269ms/step - loss: 1.4987 - accuracy: 0.5477 - val_loss: 1.8388 - val_accuracy: 0.4559\n",
      "Epoch 9/10\n",
      "1062/1062 [==============================] - 288s 271ms/step - loss: 1.4584 - accuracy: 0.5449 - val_loss: 1.3865 - val_accuracy: 0.5793\n",
      "Epoch 10/10\n",
      "1062/1062 [==============================] - 290s 273ms/step - loss: 1.7577 - accuracy: 0.4796 - val_loss: 1.6185 - val_accuracy: 0.4832\n"
     ]
    }
   ],
   "source": [
    "model.compile(optimizer='adam',\n",
    "              loss='sparse_categorical_crossentropy',\n",
    "              metrics=['accuracy'])\n",
    "\n",
    "\n",
    "history = model.fit(X_train, y_train.values,\n",
    "    batch_size = 64,\n",
    "    epochs=10,\n",
    "    validation_data = [X_test, y_test.values])"
   ]
  },
  {
   "cell_type": "code",
   "execution_count": 41,
   "id": "4412900e",
   "metadata": {},
   "outputs": [
    {
     "name": "stdout",
     "output_type": "stream",
     "text": [
      "133/133 [==============================] - 22s 162ms/step - loss: 1.6185 - accuracy: 0.4832\n"
     ]
    },
    {
     "data": {
      "text/plain": [
       "[1.6185097694396973, 0.4832195043563843]"
      ]
     },
     "execution_count": 41,
     "metadata": {},
     "output_type": "execute_result"
    }
   ],
   "source": [
    "model.evaluate(X_test, y_test.values, batch_size=128)"
   ]
  }
 ],
 "metadata": {
  "kernelspec": {
   "display_name": "Python 3 (ipykernel)",
   "language": "python",
   "name": "python3"
  },
  "language_info": {
   "codemirror_mode": {
    "name": "ipython",
    "version": 3
   },
   "file_extension": ".py",
   "mimetype": "text/x-python",
   "name": "python",
   "nbconvert_exporter": "python",
   "pygments_lexer": "ipython3",
   "version": "3.8.13"
  }
 },
 "nbformat": 4,
 "nbformat_minor": 5
}
