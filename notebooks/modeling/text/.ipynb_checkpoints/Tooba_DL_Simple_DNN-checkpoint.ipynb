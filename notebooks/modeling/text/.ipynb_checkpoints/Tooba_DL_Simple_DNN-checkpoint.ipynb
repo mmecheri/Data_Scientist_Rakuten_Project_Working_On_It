{
 "cells": [
  {
   "cell_type": "code",
   "execution_count": 3,
   "id": "be41c24a",
   "metadata": {},
   "outputs": [],
   "source": [
    "from rackuten_project_lib import *"
   ]
  },
  {
   "cell_type": "code",
   "execution_count": 6,
   "id": "e22be5b9",
   "metadata": {},
   "outputs": [],
   "source": [
    "# path : directory où se trouve les DF Final cleand containing Labels , classes number changed , image_name\n",
    "path= 'D:/DataScienTest_WorkSpace/WS/Travail_Final/Datasets/'\n",
    "\n",
    "# Callback outputs , hdf5 files \n",
    "path_output_models = 'D:/DataScienTest_WorkSpace/WS/Travail_Final/Trained_models/SimpleDNN/'"
   ]
  },
  {
   "cell_type": "code",
   "execution_count": 13,
   "id": "b282d92e",
   "metadata": {},
   "outputs": [
    {
     "data": {
      "text/html": [
       "<div>\n",
       "<style scoped>\n",
       "    .dataframe tbody tr th:only-of-type {\n",
       "        vertical-align: middle;\n",
       "    }\n",
       "\n",
       "    .dataframe tbody tr th {\n",
       "        vertical-align: top;\n",
       "    }\n",
       "\n",
       "    .dataframe thead th {\n",
       "        text-align: right;\n",
       "    }\n",
       "</style>\n",
       "<table border=\"1\" class=\"dataframe\">\n",
       "  <thead>\n",
       "    <tr style=\"text-align: right;\">\n",
       "      <th></th>\n",
       "      <th>designation</th>\n",
       "      <th>description</th>\n",
       "      <th>productid</th>\n",
       "      <th>imageid</th>\n",
       "      <th>text</th>\n",
       "      <th>prdtypecode</th>\n",
       "      <th>labels</th>\n",
       "      <th>image_name</th>\n",
       "    </tr>\n",
       "  </thead>\n",
       "  <tbody>\n",
       "    <tr>\n",
       "      <th>0</th>\n",
       "      <td>Olivia: Personalisiertes Notizbuch / 150 Seite...</td>\n",
       "      <td>&lt;NA&gt;</td>\n",
       "      <td>3804725264</td>\n",
       "      <td>1263597046</td>\n",
       "      <td>olivia personalisiertes notizbuch seiten punkt...</td>\n",
       "      <td>0</td>\n",
       "      <td>adult books</td>\n",
       "      <td>image_1263597046_product_3804725264.jpg</td>\n",
       "    </tr>\n",
       "    <tr>\n",
       "      <th>1</th>\n",
       "      <td>Journal Des Arts (Le) N° 133 Du 28/09/2001 - L...</td>\n",
       "      <td>&lt;NA&gt;</td>\n",
       "      <td>436067568</td>\n",
       "      <td>1008141237</td>\n",
       "      <td>journal arts art marche salon art asiatique pa...</td>\n",
       "      <td>18</td>\n",
       "      <td>magazines</td>\n",
       "      <td>image_1008141237_product_436067568.jpg</td>\n",
       "    </tr>\n",
       "    <tr>\n",
       "      <th>2</th>\n",
       "      <td>Grand Stylet Ergonomique Bleu Gamepad Nintendo...</td>\n",
       "      <td>PILOT STYLE Touch Pen de marque Speedlink est ...</td>\n",
       "      <td>201115110</td>\n",
       "      <td>938777978</td>\n",
       "      <td>grand stylet ergonomique bleu gamepad nintendo...</td>\n",
       "      <td>2</td>\n",
       "      <td>video games accessories</td>\n",
       "      <td>image_938777978_product_201115110.jpg</td>\n",
       "    </tr>\n",
       "    <tr>\n",
       "      <th>3</th>\n",
       "      <td>Peluche Donald - Europe - Disneyland 2000 (Mar...</td>\n",
       "      <td>&lt;NA&gt;</td>\n",
       "      <td>50418756</td>\n",
       "      <td>457047496</td>\n",
       "      <td>peluche donald europe disneyland marionnette d...</td>\n",
       "      <td>7</td>\n",
       "      <td>toys for children</td>\n",
       "      <td>image_457047496_product_50418756.jpg</td>\n",
       "    </tr>\n",
       "    <tr>\n",
       "      <th>4</th>\n",
       "      <td>La Guerre Des Tuques</td>\n",
       "      <td>Luc a des id&amp;eacute;es de grandeur. Il veut or...</td>\n",
       "      <td>278535884</td>\n",
       "      <td>1077757786</td>\n",
       "      <td>guerre tuques luc grandeur veut organiser jeu ...</td>\n",
       "      <td>25</td>\n",
       "      <td>books</td>\n",
       "      <td>image_1077757786_product_278535884.jpg</td>\n",
       "    </tr>\n",
       "    <tr>\n",
       "      <th>...</th>\n",
       "      <td>...</td>\n",
       "      <td>...</td>\n",
       "      <td>...</td>\n",
       "      <td>...</td>\n",
       "      <td>...</td>\n",
       "      <td>...</td>\n",
       "      <td>...</td>\n",
       "      <td>...</td>\n",
       "    </tr>\n",
       "    <tr>\n",
       "      <th>84911</th>\n",
       "      <td>The Sims [ Import Anglais ]</td>\n",
       "      <td>&lt;NA&gt;</td>\n",
       "      <td>206719094</td>\n",
       "      <td>941495734</td>\n",
       "      <td>sims import anglais</td>\n",
       "      <td>1</td>\n",
       "      <td>imported video games</td>\n",
       "      <td>image_941495734_product_206719094.jpg</td>\n",
       "    </tr>\n",
       "    <tr>\n",
       "      <th>84912</th>\n",
       "      <td>Kit piscine acier NEVADA déco pierre Ø 3.50m x...</td>\n",
       "      <td>&lt;b&gt;Description complète :&lt;/b&gt;&lt;br /&gt;Kit piscine...</td>\n",
       "      <td>3065095706</td>\n",
       "      <td>1188462883</td>\n",
       "      <td>kit piscine acier nevada deco pierre descripti...</td>\n",
       "      <td>23</td>\n",
       "      <td>piscine spa</td>\n",
       "      <td>image_1188462883_product_3065095706.jpg</td>\n",
       "    </tr>\n",
       "    <tr>\n",
       "      <th>84913</th>\n",
       "      <td>Journal Officiel De La Republique Francaise N°...</td>\n",
       "      <td>&lt;NA&gt;</td>\n",
       "      <td>440707564</td>\n",
       "      <td>1009325617</td>\n",
       "      <td>journal officiel republique francaise changeme...</td>\n",
       "      <td>18</td>\n",
       "      <td>magazines</td>\n",
       "      <td>image_1009325617_product_440707564.jpg</td>\n",
       "    </tr>\n",
       "    <tr>\n",
       "      <th>84914</th>\n",
       "      <td>Table Basse Bois De Récupération Massif Base B...</td>\n",
       "      <td>&lt;p&gt;Cette table basse a un design unique et con...</td>\n",
       "      <td>3942400296</td>\n",
       "      <td>1267353403</td>\n",
       "      <td>table basse bois recuperation massif base blan...</td>\n",
       "      <td>13</td>\n",
       "      <td>interior furniture and bedding</td>\n",
       "      <td>image_1267353403_product_3942400296.jpg</td>\n",
       "    </tr>\n",
       "    <tr>\n",
       "      <th>84915</th>\n",
       "      <td>Gomme De Collection 2 Gommes Pinguin Glace Ver...</td>\n",
       "      <td>&lt;NA&gt;</td>\n",
       "      <td>57203227</td>\n",
       "      <td>684671297</td>\n",
       "      <td>gomme collection gommes pinguin glace vert orange</td>\n",
       "      <td>21</td>\n",
       "      <td>stationery</td>\n",
       "      <td>image_684671297_product_57203227.jpg</td>\n",
       "    </tr>\n",
       "  </tbody>\n",
       "</table>\n",
       "<p>84916 rows × 8 columns</p>\n",
       "</div>"
      ],
      "text/plain": [
       "                                             designation  \\\n",
       "0      Olivia: Personalisiertes Notizbuch / 150 Seite...   \n",
       "1      Journal Des Arts (Le) N° 133 Du 28/09/2001 - L...   \n",
       "2      Grand Stylet Ergonomique Bleu Gamepad Nintendo...   \n",
       "3      Peluche Donald - Europe - Disneyland 2000 (Mar...   \n",
       "4                                   La Guerre Des Tuques   \n",
       "...                                                  ...   \n",
       "84911                        The Sims [ Import Anglais ]   \n",
       "84912  Kit piscine acier NEVADA déco pierre Ø 3.50m x...   \n",
       "84913  Journal Officiel De La Republique Francaise N°...   \n",
       "84914  Table Basse Bois De Récupération Massif Base B...   \n",
       "84915  Gomme De Collection 2 Gommes Pinguin Glace Ver...   \n",
       "\n",
       "                                             description   productid  \\\n",
       "0                                                   <NA>  3804725264   \n",
       "1                                                   <NA>   436067568   \n",
       "2      PILOT STYLE Touch Pen de marque Speedlink est ...   201115110   \n",
       "3                                                   <NA>    50418756   \n",
       "4      Luc a des id&eacute;es de grandeur. Il veut or...   278535884   \n",
       "...                                                  ...         ...   \n",
       "84911                                               <NA>   206719094   \n",
       "84912  <b>Description complète :</b><br />Kit piscine...  3065095706   \n",
       "84913                                               <NA>   440707564   \n",
       "84914  <p>Cette table basse a un design unique et con...  3942400296   \n",
       "84915                                               <NA>    57203227   \n",
       "\n",
       "          imageid                                               text  \\\n",
       "0      1263597046  olivia personalisiertes notizbuch seiten punkt...   \n",
       "1      1008141237  journal arts art marche salon art asiatique pa...   \n",
       "2       938777978  grand stylet ergonomique bleu gamepad nintendo...   \n",
       "3       457047496  peluche donald europe disneyland marionnette d...   \n",
       "4      1077757786  guerre tuques luc grandeur veut organiser jeu ...   \n",
       "...           ...                                                ...   \n",
       "84911   941495734                                sims import anglais   \n",
       "84912  1188462883  kit piscine acier nevada deco pierre descripti...   \n",
       "84913  1009325617  journal officiel republique francaise changeme...   \n",
       "84914  1267353403  table basse bois recuperation massif base blan...   \n",
       "84915   684671297  gomme collection gommes pinguin glace vert orange   \n",
       "\n",
       "       prdtypecode                          labels  \\\n",
       "0                0                     adult books   \n",
       "1               18                       magazines   \n",
       "2                2         video games accessories   \n",
       "3                7               toys for children   \n",
       "4               25                           books   \n",
       "...            ...                             ...   \n",
       "84911            1            imported video games   \n",
       "84912           23                     piscine spa   \n",
       "84913           18                       magazines   \n",
       "84914           13  interior furniture and bedding   \n",
       "84915           21                      stationery   \n",
       "\n",
       "                                    image_name  \n",
       "0      image_1263597046_product_3804725264.jpg  \n",
       "1       image_1008141237_product_436067568.jpg  \n",
       "2        image_938777978_product_201115110.jpg  \n",
       "3         image_457047496_product_50418756.jpg  \n",
       "4       image_1077757786_product_278535884.jpg  \n",
       "...                                        ...  \n",
       "84911    image_941495734_product_206719094.jpg  \n",
       "84912  image_1188462883_product_3065095706.jpg  \n",
       "84913   image_1009325617_product_440707564.jpg  \n",
       "84914  image_1267353403_product_3942400296.jpg  \n",
       "84915     image_684671297_product_57203227.jpg  \n",
       "\n",
       "[84916 rows x 8 columns]"
      ]
     },
     "execution_count": 13,
     "metadata": {},
     "output_type": "execute_result"
    }
   ],
   "source": [
    "xtrain = pd.read_pickle(path + 'df_train_final.pkl')\n",
    "xtrain"
   ]
  },
  {
   "cell_type": "code",
   "execution_count": 14,
   "id": "73eedfa5",
   "metadata": {},
   "outputs": [],
   "source": [
    "ytrain = pd.DataFrame(xtrain['prdtypecode']).astype('int64')\n"
   ]
  },
  {
   "cell_type": "code",
   "execution_count": 15,
   "id": "55e4cf1e",
   "metadata": {},
   "outputs": [
    {
     "data": {
      "text/plain": [
       "{0: 3116,\n",
       " 1: 2508,\n",
       " 2: 1681,\n",
       " 3: 832,\n",
       " 4: 2671,\n",
       " 5: 3953,\n",
       " 6: 764,\n",
       " 7: 4870,\n",
       " 8: 2070,\n",
       " 9: 5045,\n",
       " 10: 807,\n",
       " 11: 2491,\n",
       " 12: 3241,\n",
       " 13: 5073,\n",
       " 14: 4303,\n",
       " 15: 803,\n",
       " 16: 4993,\n",
       " 17: 824,\n",
       " 18: 4760,\n",
       " 19: 4774,\n",
       " 20: 1421,\n",
       " 21: 4989,\n",
       " 22: 2589,\n",
       " 23: 10209,\n",
       " 24: 2496,\n",
       " 25: 2761,\n",
       " 26: 872}"
      ]
     },
     "execution_count": 15,
     "metadata": {},
     "output_type": "execute_result"
    }
   ],
   "source": [
    "unique, counts = np.unique(ytrain, return_counts=True)\n",
    "dict(zip(unique, counts))"
   ]
  },
  {
   "cell_type": "code",
   "execution_count": 16,
   "id": "a6659caa",
   "metadata": {},
   "outputs": [],
   "source": [
    "y = ytrain\n",
    "#y"
   ]
  },
  {
   "cell_type": "code",
   "execution_count": 17,
   "id": "19c26035",
   "metadata": {},
   "outputs": [],
   "source": [
    "from sklearn.model_selection import train_test_split"
   ]
  },
  {
   "cell_type": "code",
   "execution_count": 18,
   "id": "94b937ec",
   "metadata": {},
   "outputs": [],
   "source": [
    "text_train, text_test, y_train, y_test = train_test_split(xtrain['text'], y, test_size=0.2, random_state=1234)  "
   ]
  },
  {
   "cell_type": "code",
   "execution_count": 19,
   "id": "7a3e2a35",
   "metadata": {},
   "outputs": [],
   "source": [
    "from keras.preprocessing.text import Tokenizer\n",
    "\n",
    "tokenizer = Tokenizer(num_words=20000)#default was 10000/best 20000\n",
    "\n",
    "tokenizer.fit_on_texts(text_train)\n",
    "\n",
    "X_train = tokenizer.texts_to_sequences(text_train)\n",
    "\n",
    "X_test = tokenizer.texts_to_sequences(text_test)\n",
    "\n",
    "vocab_size = len(tokenizer.word_index) + 1  # Adding 1 because of reserved 0 index\n",
    "\n",
    "#print(text_train.shape)\n",
    "#print(len(X_train))"
   ]
  },
  {
   "cell_type": "code",
   "execution_count": 20,
   "id": "34f96d24",
   "metadata": {},
   "outputs": [],
   "source": [
    "from keras.preprocessing.sequence import pad_sequences\n",
    "\n",
    "maxlen = 400 #defautl was 250, best 400\n",
    "\n",
    "X_train = pad_sequences(X_train, padding='post', maxlen=maxlen)\n",
    "\n",
    "X_test = pad_sequences(X_test, padding='post', maxlen=maxlen)\n",
    "\n",
    "#print(\"X_train\", len(X_train))\n",
    "#print(\"X_test\", len(X_test))"
   ]
  },
  {
   "cell_type": "code",
   "execution_count": 21,
   "id": "bd51cad9",
   "metadata": {},
   "outputs": [],
   "source": [
    "embedding_dim = 100"
   ]
  },
  {
   "cell_type": "code",
   "execution_count": 22,
   "id": "9ededfc1",
   "metadata": {},
   "outputs": [],
   "source": [
    "from tensorflow.keras.layers import LSTMCell\n",
    "from tensorflow.keras import Sequential, layers\n",
    "from tensorflow.keras.layers import Embedding, Dense, GlobalAveragePooling1D, GlobalMaxPooling1D, RNN, GRUCell, Dropout, concatenate, SpatialDropout1D, Conv1D"
   ]
  },
  {
   "cell_type": "code",
   "execution_count": 23,
   "id": "264bc127",
   "metadata": {},
   "outputs": [],
   "source": [
    "# For saving Callbacks and history results\n",
    "path = 'D:/DataScienTest_WorkSpace/WS/Rackupy_WS/Travail_Final/Trained_models/'\n",
    "date_result = '13022022'\n",
    "nbr_Epochs = 100\n",
    "batch_size = 200"
   ]
  },
  {
   "cell_type": "markdown",
   "id": "edc0e361",
   "metadata": {},
   "source": [
    "#                                SIMPLE DNN "
   ]
  },
  {
   "cell_type": "code",
   "execution_count": 58,
   "id": "b87bac30",
   "metadata": {},
   "outputs": [
    {
     "name": "stdout",
     "output_type": "stream",
     "text": [
      "Model: \"sequential_2\"\n",
      "_________________________________________________________________\n",
      " Layer (type)                Output Shape              Param #   \n",
      "=================================================================\n",
      " embedding_2 (Embedding)     (None, 400, 100)          12494000  \n",
      "                                                                 \n",
      " flatten_2 (Flatten)         (None, 40000)             0         \n",
      "                                                                 \n",
      " dense_4 (Dense)             (None, 100)               4000100   \n",
      "                                                                 \n",
      " dropout_2 (Dropout)         (None, 100)               0         \n",
      "                                                                 \n",
      " dense_5 (Dense)             (None, 27)                2727      \n",
      "                                                                 \n",
      "=================================================================\n",
      "Total params: 16,496,827\n",
      "Trainable params: 16,496,827\n",
      "Non-trainable params: 0\n",
      "_________________________________________________________________\n"
     ]
    }
   ],
   "source": [
    "model1 = Sequential()\n",
    "model1.add(layers.Embedding(input_dim=vocab_size, \n",
    "                           output_dim=embedding_dim, \n",
    "                           input_length=maxlen))\n",
    "model1.add(layers.Flatten())\n",
    "model1.add(layers.Dense(100, activation='relu'))\n",
    "model1.add(layers.Dropout(0.5)) \n",
    "model1.add(layers.Dense(27, activation='softmax'))\n",
    "\n",
    "model1.compile(optimizer='adam',\n",
    "              loss='categorical_crossentropy',\n",
    "              metrics=['accuracy'])\n",
    "\n",
    "\n",
    "learning_rate =  0.001\n",
    "\n",
    "model1.compile(optimizer= Adam(learning_rate= learning_rate), #  0.001 , default LR\n",
    "              loss='sparse_categorical_crossentropy',\n",
    "              metrics=['accuracy'])\n",
    "model1.summary()"
   ]
  },
  {
   "cell_type": "markdown",
   "id": "cf9089f2",
   "metadata": {},
   "source": [
    "***Callback***"
   ]
  },
  {
   "cell_type": "code",
   "execution_count": 30,
   "id": "33299f44",
   "metadata": {},
   "outputs": [],
   "source": [
    "dir_out1 = 'Simple_DNN_by_Tooba/'"
   ]
  },
  {
   "cell_type": "code",
   "execution_count": 71,
   "id": "ebf602ea",
   "metadata": {},
   "outputs": [
    {
     "name": "stdout",
     "output_type": "stream",
     "text": [
      "Wall time: 0 ns\n"
     ]
    }
   ],
   "source": [
    "%%time\n",
    "\n",
    "file_name_checkpnt1 = 'checkpoint_SimpleDNN_' + date_result +  \\\n",
    "                                       '_LR_'+str(learning_rate) + '_' + str(nbr_Epochs)+ 'Epochs.h5'\n",
    "\n",
    "#Sauvegarder les meilleurs poids du modèle au cours de l'entraînement :\n",
    "checkpoint1 = ModelCheckpoint(filepath = path_output_models + dir_out1 + file_name_checkpnt1 , \n",
    "                             monitor ='val_accuracy',\n",
    "                             verbose = 1,\n",
    "                             save_best_only = True, # (pour que le meilleur modèle ne soit pas écrasé)\n",
    "                             save_weights_only = False,\n",
    "                             mode ='max', #(permet de préciser si la métrique doit croître ou décroitre : ici on choisit 'min'\n",
    "                                           #car la métrique est une perte à minimiser)\n",
    "                             save_freq='epoch')\n",
    "#Arrêter l'entraînement si le modèle n'évolue plus (très pratique pour ne pas gérer le\n",
    "#nombre d'epoch) :\n",
    "# A modifier pour avoir des \n",
    "early1 = EarlyStopping(monitor='val_loss',                    \n",
    "                      min_delta = 0,\n",
    "                      patience =10, #(nombre d'epochs à attendre avant d'arrêter l'entraînement\n",
    "                      restore_best_weights = True,\n",
    "                      verbose = 1,\n",
    "                      mode = 'min')\n",
    "\n",
    "#lr_reduce = ReduceLROnPlateau(patience=2,\n",
    "  #                             verbose=1)\n",
    "\n",
    "callbacks1 = [checkpoint1, early1]"
   ]
  },
  {
   "cell_type": "code",
   "execution_count": 72,
   "id": "0e501a20",
   "metadata": {},
   "outputs": [
    {
     "data": {
      "text/plain": [
       "'D:/DataScienTest_WorkSpace/WS/Travail_Final/Trained_models/SimpleDNN/Simple_DNN_by_Tooba/checkpoint_SimpleDNN_13022022_LR_0.001_100Epochs.h5'"
      ]
     },
     "execution_count": 72,
     "metadata": {},
     "output_type": "execute_result"
    }
   ],
   "source": [
    "path_output_models + dir_out1 + file_name_checkpnt1"
   ]
  },
  {
   "cell_type": "code",
   "execution_count": 61,
   "id": "8c9bdc13",
   "metadata": {},
   "outputs": [
    {
     "name": "stdout",
     "output_type": "stream",
     "text": [
      "Epoch 1/100\n",
      "338/340 [============================>.] - ETA: 0s - loss: 2.0397 - accuracy: 0.4166\n",
      "Epoch 00001: val_accuracy improved from -inf to 0.74152, saving model to D:/DataScienTest_WorkSpace/WS/Travail_Final/Trained_models/SimpleDNN/Simple_DNN_by_Tooba\\checkpoint_SimpleDNN_13022022_LR_Defaut_0.001_100_Epochs.h5\n",
      "340/340 [==============================] - 4s 10ms/step - loss: 2.0352 - accuracy: 0.4179 - val_loss: 0.9344 - val_accuracy: 0.7415\n",
      "Epoch 2/100\n",
      "335/340 [============================>.] - ETA: 0s - loss: 0.7721 - accuracy: 0.7799\n",
      "Epoch 00002: val_accuracy improved from 0.74152 to 0.80252, saving model to D:/DataScienTest_WorkSpace/WS/Travail_Final/Trained_models/SimpleDNN/Simple_DNN_by_Tooba\\checkpoint_SimpleDNN_13022022_LR_Defaut_0.001_100_Epochs.h5\n",
      "340/340 [==============================] - 3s 10ms/step - loss: 0.7711 - accuracy: 0.7802 - val_loss: 0.6762 - val_accuracy: 0.8025\n",
      "Epoch 3/100\n",
      "338/340 [============================>.] - ETA: 0s - loss: 0.4843 - accuracy: 0.8621\n",
      "Epoch 00003: val_accuracy improved from 0.80252 to 0.81141, saving model to D:/DataScienTest_WorkSpace/WS/Travail_Final/Trained_models/SimpleDNN/Simple_DNN_by_Tooba\\checkpoint_SimpleDNN_13022022_LR_Defaut_0.001_100_Epochs.h5\n",
      "340/340 [==============================] - 3s 10ms/step - loss: 0.4841 - accuracy: 0.8622 - val_loss: 0.6544 - val_accuracy: 0.8114\n",
      "Epoch 4/100\n",
      "335/340 [============================>.] - ETA: 0s - loss: 0.3383 - accuracy: 0.9048\n",
      "Epoch 00004: val_accuracy improved from 0.81141 to 0.81388, saving model to D:/DataScienTest_WorkSpace/WS/Travail_Final/Trained_models/SimpleDNN/Simple_DNN_by_Tooba\\checkpoint_SimpleDNN_13022022_LR_Defaut_0.001_100_Epochs.h5\n",
      "340/340 [==============================] - 3s 9ms/step - loss: 0.3391 - accuracy: 0.9046 - val_loss: 0.6674 - val_accuracy: 0.8139\n",
      "Epoch 5/100\n",
      "339/340 [============================>.] - ETA: 0s - loss: 0.2539 - accuracy: 0.9306\n",
      "Epoch 00005: val_accuracy did not improve from 0.81388\n",
      "340/340 [==============================] - 3s 9ms/step - loss: 0.2538 - accuracy: 0.9306 - val_loss: 0.7228 - val_accuracy: 0.8137\n",
      "Epoch 6/100\n",
      "335/340 [============================>.] - ETA: 0s - loss: 0.1962 - accuracy: 0.9463\n",
      "Epoch 00006: val_accuracy did not improve from 0.81388\n",
      "340/340 [==============================] - 3s 9ms/step - loss: 0.1964 - accuracy: 0.9461 - val_loss: 0.7703 - val_accuracy: 0.8111\n",
      "Epoch 7/100\n",
      "334/340 [============================>.] - ETA: 0s - loss: 0.1567 - accuracy: 0.9575\n",
      "Epoch 00007: val_accuracy did not improve from 0.81388\n",
      "340/340 [==============================] - 3s 9ms/step - loss: 0.1566 - accuracy: 0.9577 - val_loss: 0.8303 - val_accuracy: 0.8109\n",
      "Epoch 8/100\n",
      "339/340 [============================>.] - ETA: 0s - loss: 0.1307 - accuracy: 0.9654\n",
      "Epoch 00008: val_accuracy did not improve from 0.81388\n",
      "340/340 [==============================] - 3s 9ms/step - loss: 0.1308 - accuracy: 0.9653 - val_loss: 0.8771 - val_accuracy: 0.8085\n",
      "Epoch 9/100\n",
      "336/340 [============================>.] - ETA: 0s - loss: 0.1120 - accuracy: 0.9699\n",
      "Epoch 00009: val_accuracy did not improve from 0.81388\n",
      "340/340 [==============================] - 3s 9ms/step - loss: 0.1119 - accuracy: 0.9700 - val_loss: 0.9442 - val_accuracy: 0.8082\n",
      "Epoch 10/100\n",
      "334/340 [============================>.] - ETA: 0s - loss: 0.0963 - accuracy: 0.9743\n",
      "Epoch 00010: val_accuracy did not improve from 0.81388\n",
      "340/340 [==============================] - 3s 9ms/step - loss: 0.0968 - accuracy: 0.9742 - val_loss: 0.9699 - val_accuracy: 0.8055\n",
      "Epoch 11/100\n",
      "339/340 [============================>.] - ETA: 0s - loss: 0.0863 - accuracy: 0.9765\n",
      "Epoch 00011: val_accuracy did not improve from 0.81388\n",
      "340/340 [==============================] - 3s 9ms/step - loss: 0.0864 - accuracy: 0.9764 - val_loss: 0.9984 - val_accuracy: 0.8059\n",
      "Epoch 12/100\n",
      "339/340 [============================>.] - ETA: 0s - loss: 0.0812 - accuracy: 0.9777\n",
      "Epoch 00012: val_accuracy did not improve from 0.81388\n",
      "340/340 [==============================] - 3s 9ms/step - loss: 0.0812 - accuracy: 0.9777 - val_loss: 1.0644 - val_accuracy: 0.8052\n",
      "Epoch 13/100\n",
      "339/340 [============================>.] - ETA: 0s - loss: 0.0741 - accuracy: 0.9796\n",
      "Epoch 00013: val_accuracy did not improve from 0.81388\n",
      "Restoring model weights from the end of the best epoch: 3.\n",
      "340/340 [==============================] - 3s 9ms/step - loss: 0.0740 - accuracy: 0.9796 - val_loss: 1.1157 - val_accuracy: 0.8035\n",
      "Epoch 00013: early stopping\n"
     ]
    }
   ],
   "source": [
    "history_model1 = model1.fit(X_train, y_train.values,\n",
    "                            batch_size = 200,\n",
    "                            epochs = nbr_Epochs,\n",
    "                            validation_data = [X_test, y_test.values],\n",
    "                            callbacks = callbacks1\n",
    "                           )"
   ]
  },
  {
   "cell_type": "code",
   "execution_count": 62,
   "id": "77a6262e",
   "metadata": {},
   "outputs": [
    {
     "name": "stdout",
     "output_type": "stream",
     "text": [
      "85/85 [==============================] - 0s 2ms/step - loss: 0.6544 - accuracy: 0.8114\n"
     ]
    }
   ],
   "source": [
    "valid_score_model1 = model1.evaluate(X_test, y_test.values, batch_size=batch_size)"
   ]
  },
  {
   "cell_type": "code",
   "execution_count": 33,
   "id": "01436dcb",
   "metadata": {},
   "outputs": [],
   "source": [
    "y_pred_model1 = model1.predict(X_test)\n",
    "#Appliquer la méthode argmax du tableau y_pred pour obtenir les classes les plus probable\n",
    "\n",
    "y_pred_class_model1 = y_pred_model1.argmax(axis = 1)"
   ]
  },
  {
   "cell_type": "code",
   "execution_count": 34,
   "id": "42956c32",
   "metadata": {},
   "outputs": [
    {
     "name": "stdout",
     "output_type": "stream",
     "text": [
      "85/85 [==============================] - 0s 2ms/step - loss: 0.6544 - accuracy: 0.8114\n",
      "Accuracy: 81.14%\n",
      "Loss:  0.6543752551078796\n",
      "Wall time: 365 ms\n"
     ]
    }
   ],
   "source": [
    "%%time\n",
    "#Get the accuracy score\n",
    "valid_score_model1 = model1.evaluate(X_test, y_test, batch_size=batch_size)\n",
    "\n",
    "print(\"Accuracy: {:.2f}%\".format(valid_score_model1[1] * 100)) \n",
    "print(\"Loss: \",valid_score_model1[0])\n",
    "simpDNN_SC_model1 = np.round((valid_score_model1[1] * 100), 2)"
   ]
  },
  {
   "cell_type": "code",
   "execution_count": 35,
   "id": "8a5dafd7",
   "metadata": {},
   "outputs": [
    {
     "name": "stdout",
     "output_type": "stream",
     "text": [
      "              precision    recall  f1-score   support\n",
      "\n",
      "           0       0.40      0.62      0.49       643\n",
      "           1       0.75      0.62      0.68       503\n",
      "           2       0.77      0.86      0.81       319\n",
      "           3       0.97      0.82      0.89       179\n",
      "           4       0.77      0.80      0.79       545\n",
      "           5       0.87      0.90      0.88       793\n",
      "           6       0.75      0.47      0.58       144\n",
      "           7       0.72      0.73      0.73      1002\n",
      "           8       0.68      0.54      0.60       408\n",
      "           9       0.94      0.94      0.94       993\n",
      "          10       0.97      0.88      0.92       162\n",
      "          11       0.84      0.77      0.80       514\n",
      "          12       0.79      0.78      0.79       664\n",
      "          13       0.80      0.86      0.83       993\n",
      "          14       0.86      0.95      0.90       832\n",
      "          15       0.85      0.80      0.82       159\n",
      "          16       0.83      0.78      0.80       970\n",
      "          17       0.93      0.73      0.82       190\n",
      "          18       0.71      0.73      0.72       911\n",
      "          19       0.75      0.76      0.76       961\n",
      "          20       0.81      0.78      0.80       301\n",
      "          21       0.92      0.92      0.92      1011\n",
      "          22       0.80      0.71      0.75       533\n",
      "          23       0.96      0.97      0.97      2083\n",
      "          24       0.78      0.80      0.79       468\n",
      "          25       0.87      0.60      0.71       557\n",
      "          26       0.99      1.00      1.00       146\n",
      "\n",
      "    accuracy                           0.81     16984\n",
      "   macro avg       0.82      0.78      0.80     16984\n",
      "weighted avg       0.82      0.81      0.81     16984\n",
      "\n"
     ]
    }
   ],
   "source": [
    "print(metrics.classification_report( y_test.values, y_pred_class_model1))"
   ]
  },
  {
   "cell_type": "markdown",
   "id": "62e01df0",
   "metadata": {},
   "source": [
    "***Save  results***"
   ]
  },
  {
   "cell_type": "code",
   "execution_count": 78,
   "id": "dcfb1cf8",
   "metadata": {},
   "outputs": [],
   "source": [
    "file_history1 = 'history_SimpleDNN_' + date_result +  \\\n",
    "                                       '_LR_'+str(learning_rate) + '_SC_' + str(simpDNN_SC_model1) + '%_' \\\n",
    "                                    + str(nbr_Epochs)+ 'Epochs.h5'                                                 "
   ]
  },
  {
   "cell_type": "code",
   "execution_count": 79,
   "id": "88ebf466",
   "metadata": {},
   "outputs": [],
   "source": [
    "#convert the history.history dict to a pandas DataFrame:     \n",
    "hist_df = pd.DataFrame(history_model1.history) \n",
    "\n",
    "# history to json:  \n",
    "hist_json_file = path_output_models + dir_out1 +  file_history1 + '.json'\n",
    "with open(hist_json_file, mode='w') as f:\n",
    "    hist_df.to_json(f)\n",
    "\n",
    "# history to csv: \n",
    "hist_csv_file = path_output_models +  dir_out1 +  file_history1 +'.csv'\n",
    "with open(hist_csv_file, mode='w') as f:\n",
    "    hist_df.to_csv(f)\n",
    "\n",
    "# history to pickle file\n",
    "hist_df.to_pickle(path_output_models + dir_out1 +  file_history1 +'.pkl')"
   ]
  },
  {
   "cell_type": "markdown",
   "id": "ad056d12",
   "metadata": {},
   "source": [
    "***Display Model loss , accuracy per epoch***"
   ]
  },
  {
   "cell_type": "code",
   "execution_count": 80,
   "id": "7685c74d",
   "metadata": {},
   "outputs": [
    {
     "data": {
      "image/png": "[encoded data removed]",
      "text/plain": [
       "<Figure size 864x288 with 2 Axes>"
      ]
     },
     "metadata": {
      "needs_background": "light"
     },
     "output_type": "display_data"
    }
   ],
   "source": [
    "plt.figure(figsize=(12,4))\n",
    "plt.subplot(121)\n",
    "plt.plot(history_model1.history['loss'])\n",
    "plt.plot(history_model1.history['val_loss'])\n",
    "plt.title('Model loss by epoch')\n",
    "plt.ylabel('loss')\n",
    "plt.xlabel('epoch')\n",
    "plt.legend(['train', 'valid'], loc='right')\n",
    "\n",
    "plt.subplot(122)\n",
    "plt.plot(history_model1.history['accuracy'])\n",
    "plt.plot(history_model1.history['val_accuracy'])\n",
    "plt.title('Model acc by epoch')\n",
    "plt.ylabel('acc')\n",
    "plt.xlabel('epoch')\n",
    "plt.legend(['train', 'valid'], loc='right')\n",
    "plt.show()"
   ]
  },
  {
   "cell_type": "markdown",
   "id": "2472f8df",
   "metadata": {},
   "source": [
    "***Save trained model***"
   ]
  },
  {
   "cell_type": "code",
   "execution_count": 81,
   "id": "72d8b514",
   "metadata": {},
   "outputs": [],
   "source": [
    "file_mod_name = 'Model_SimpleDNN_' + date_result +  \\\n",
    "                                       '_LR_'+str(learning_rate) + '_SC_' + str(simpDNN_SC_model1) + '%_' \\\n",
    "                                    + str(nbr_Epochs)+ 'Epochs.hdf5'"
   ]
  }
 ],
 "metadata": {
  "kernelspec": {
   "display_name": "Python 3 (ipykernel)",
   "language": "python",
   "name": "python3"
  },
  "language_info": {
   "codemirror_mode": {
    "name": "ipython",
    "version": 3
   },
   "file_extension": ".py",
   "mimetype": "text/x-python",
   "name": "python",
   "nbconvert_exporter": "python",
   "pygments_lexer": "ipython3",
   "version": "3.8.13"
  }
 },
 "nbformat": 4,
 "nbformat_minor": 5
}
