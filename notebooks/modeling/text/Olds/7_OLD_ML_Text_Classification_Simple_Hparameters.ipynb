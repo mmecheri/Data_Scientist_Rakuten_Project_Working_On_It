{
 "cells": [
  {
   "cell_type": "markdown",
   "id": "bc871794",
   "metadata": {},
   "source": [
    "# Machine Learning Models for Text Classification  \n",
    "\n",
    "In this notebook, we will train and evaluate different **Machine Learning models** for **text classification** using the **TF-IDF features** extracted in the previous steps.  \n",
    "\n",
    "We will use the **TF-IDF matrix (`Xtrain_matrix.pkl`)** as input features and the **target labels (`y_train_encoded.pkl`)** for supervised learning.  \n",
    "The **test dataset (`Xtest_matrix.pkl`)** will not be used at this stage, as it is reserved for **final result submission**.  \n",
    "\n",
    "We will start by experimenting with the following models:  \n",
    "- **Logistic Regression**  \n",
    "- **Support Vector Machines (SVM)**  \n",
    "- **Random Forest Classifier**  \n",
    "- **K-Neighbors Classifier**  \n",
    "- **Decision Tree Classifier**\n",
    "- **XGBoost**  \n",
    "- **Linear SVC** \n",
    "- **Voting Classifier**  \n",
    "\n",
    "📌 **These models have been selected based on standard text classification approaches, but we may adjust our choices depending on their performance.**  \n",
    "\n",
    "We will perform a **simple hyperparameter search** for all models, optimizing for the **weighted F1-score**, as this metric is required to evaluate the classification performance in the context of the project and challenge.  \n",
    "\n",
    "By the end of this notebook, we will:  \n",
    "✔ Compare the performance of different models  \n",
    "✔ Optimize hyperparameters if necessary  \n",
    "✔ Select and save the best-performing model for future use  \n"
   ]
  },
  {
   "cell_type": "markdown",
   "id": "56eeb791",
   "metadata": {},
   "source": [
    "## 2. Import Required Libraries "
   ]
  },
  {
   "cell_type": "code",
   "execution_count": 1,
   "id": "f39986f9",
   "metadata": {},
   "outputs": [],
   "source": [
    "import warnings\n",
    "warnings.filterwarnings(\"ignore\", category=FutureWarning)\n",
    "\n",
    "\n",
    "import sys\n",
    "import os\n",
    "from pathlib import Path\n",
    "import pickle\n",
    "import pandas as pd\n",
    "\n",
    "# Machine Learning models\n",
    "from sklearn.linear_model import LogisticRegression\n",
    "from sklearn.svm import SVC\n",
    "from sklearn.ensemble import RandomForestClassifier, VotingClassifier\n",
    "from sklearn.tree import DecisionTreeClassifier\n",
    "from sklearn.neighbors import KNeighborsClassifier\n",
    "from xgboost import XGBClassifier\n",
    "\n",
    "# Model selection and hyperparameter tuning\n",
    "from sklearn.model_selection import train_test_split, GridSearchCV\n",
    "# Evaluation metrics\n",
    "from sklearn.metrics import classification_report, confusion_matrix, f1_score, accuracy_score\n",
    "# Visualization\n",
    "import matplotlib.pyplot as plt\n",
    "import seaborn as sns"
   ]
  },
  {
   "cell_type": "markdown",
   "id": "de86810c",
   "metadata": {},
   "source": [
    "## 1. Loading Preprocessed Data  \n",
    "\n",
    "Before training our Machine Learning models, we need to load the **TF-IDF matrix (`Xtrain_matrix.pkl`)** and the **target labels (`ytrain.pkl`)**.  \n"
   ]
  },
  {
   "cell_type": "code",
   "execution_count": 2,
   "id": "f7c1cbf7",
   "metadata": {},
   "outputs": [
    {
     "name": "stdout",
     "output_type": "stream",
     "text": [
      "Project Root Directory: Data_Scientist_Rakuten_Project-main\n",
      "Using Config File from: config.py\n",
      "Loading TF-IDF matrix from: data\\processed\\text\\Xtrain_matrix.pkl\n",
      "Loading encoded labels from: data\\processed\\text\\y_train_encoded.pkl\n",
      "Data Successfully Loaded!\n",
      "X shape: (84916, 5000)\n",
      "y shape: (84916,)\n"
     ]
    }
   ],
   "source": [
    "# Get the current notebook directory\n",
    "CURRENT_DIR = Path(os.getcwd()).resolve()\n",
    "\n",
    "# Automatically find the project root (go up 3 levels)\n",
    "PROJECT_ROOT = CURRENT_DIR.parents[2]\n",
    "\n",
    "# Add project root to sys.path\n",
    "sys.path.append(str(PROJECT_ROOT))\n",
    "\n",
    "# Function to get relative paths from project root\n",
    "def get_relative_path(absolute_path):\n",
    "    return str(Path(absolute_path).relative_to(PROJECT_ROOT))\n",
    "\n",
    "# Print project root directory\n",
    "print(f\"Project Root Directory: {PROJECT_ROOT.name}\")  # Display only the root folder name\n",
    "\n",
    "import config  # Now Python can find config.py\n",
    "\n",
    "# Paths to load\n",
    "tfidf_path = Path(config.XTRAIN_MATRIX_PATH)\n",
    "labels_path = Path(config.YTRAIN_ENCODED_PATH)\n",
    "\n",
    "# Print paths being used (relative to project root)\n",
    "print(f\"Using Config File from: {get_relative_path(config.__file__)}\")\n",
    "print(f\"Loading TF-IDF matrix from: {get_relative_path(tfidf_path)}\")\n",
    "print(f\"Loading encoded labels from: {get_relative_path(labels_path)}\")\n",
    "\n",
    "# Check if files exist before loading\n",
    "if not tfidf_path.exists():\n",
    "    raise FileNotFoundError(f\"Error: TF-IDF matrix file not found at {get_relative_path(tfidf_path)}\")\n",
    "\n",
    "if not labels_path.exists():\n",
    "    raise FileNotFoundError(f\"Error: Encoded labels file not found at {get_relative_path(labels_path)}\")\n",
    "\n",
    "# Load the TF-IDF matrix\n",
    "X = pickle.load(open(tfidf_path, \"rb\"))\n",
    "\n",
    "# Load the classification labels\n",
    "y = pd.read_pickle(labels_path)\n",
    "\n",
    "# Print confirmation\n",
    "print(\"Data Successfully Loaded!\")\n",
    "print(f\"X shape: {X.shape}\")\n",
    "print(f\"y shape: {y.shape}\")\n"
   ]
  },
  {
   "cell_type": "markdown",
   "id": "a54da959",
   "metadata": {},
   "source": [
    "## 2. Splitting Data into Training and Validation Sets"
   ]
  },
  {
   "cell_type": "code",
   "execution_count": 3,
   "id": "47cb3322",
   "metadata": {},
   "outputs": [
    {
     "name": "stdout",
     "output_type": "stream",
     "text": [
      "Split Completed:\n",
      "X_train shape: (67932, 5000), y_train shape: (67932,)\n",
      "X_test shape: (16984, 5000), y_test shape: (16984,)\n"
     ]
    }
   ],
   "source": [
    "# Split data into training and validation sets\n",
    "X_train, X_test, y_train, y_test = train_test_split(X, y, test_size=0.2)\n",
    "\n",
    "print(f\"Split Completed:\")\n",
    "print(f\"X_train shape: {X_train.shape}, y_train shape: {y_train.shape}\")\n",
    "print(f\"X_test shape: {X_test.shape}, y_test shape: {y_test.shape}\")\n"
   ]
  },
  {
   "cell_type": "markdown",
   "id": "2210c5c3",
   "metadata": {},
   "source": [
    "## 3. Training Machine Learning Models  "
   ]
  },
  {
   "cell_type": "markdown",
   "id": "3632613b",
   "metadata": {},
   "source": [
    "### 3.1 Logistic Regression\n",
    "\n",
    "To optimize the **Logistic Regression** model, we perform a **GridSearchCV** on key hyperparameters, aiming to maximize the **weighted F1-score** to handle class imbalances effectively:\n",
    "\n",
    "- `multi_class`: Defines the type of classification (`multinomial` for multi-class problems).\n",
    "- `class_weight`: Balances classes for imbalanced data (`balanced`, `None`, or custom dictionaries).\n",
    "- `max_iter`: Controls the number of iterations for convergence.\n",
    "- `C`: Regularization strength, which can impact model performance.\n",
    "- `solver`: Specifies the algorithm for optimization (e.g., `lbfgs`, `saga`, `liblinear`)."
   ]
  },
  {
   "cell_type": "markdown",
   "id": "85099888",
   "metadata": {},
   "source": [
    "- **GridSearchCV** for Logistic Regression"
   ]
  },
  {
   "cell_type": "code",
   "execution_count": 4,
   "id": "3c7b9a9b",
   "metadata": {},
   "outputs": [
    {
     "name": "stdout",
     "output_type": "stream",
     "text": [
      "Best Hyperparameters for Logistic Regression: {'class_weight': None, 'max_iter': 500, 'multi_class': 'multinomial'}\n"
     ]
    }
   ],
   "source": [
    "# Define a simplified parameter grid\n",
    "param_grid = {\n",
    "    'multi_class': ['multinomial'],  # Utilisation de 'multinomial' pour la classification multiclasse\n",
    "    'class_weight': ['balanced', None],  # Class weights équilibrés ou pas\n",
    "    'max_iter': [500, 1000, 1500],  # Valeurs d'itérations pour la convergence\n",
    "}\n",
    "\n",
    "# Initialize Logistic Regression model\n",
    "log_reg = LogisticRegression()\n",
    "\n",
    "# Perform GridSearchCV based on 'weighted F1-score'\n",
    "grid_search = GridSearchCV(log_reg, param_grid, cv=3, scoring='f1_weighted', n_jobs=-1)\n",
    "grid_search.fit(X_train, y_train)\n",
    "\n",
    "# Extract best model\n",
    "best_log_reg = grid_search.best_estimator_\n",
    "\n",
    "# Display best hyperparameters\n",
    "print(f\"Best Hyperparameters for Logistic Regression: {grid_search.best_params_}\")"
   ]
  },
  {
   "cell_type": "markdown",
   "id": "f670e3e2",
   "metadata": {},
   "source": [
    "- **Re-train** Logistic Regression with the best hyperparameters."
   ]
  },
  {
   "cell_type": "code",
   "execution_count": 5,
   "id": "c3417c13",
   "metadata": {},
   "outputs": [
    {
     "name": "stdout",
     "output_type": "stream",
     "text": [
      "Model retrained with the following best hyperparameters:\n",
      "multi_class: multinomial\n",
      "class_weight: None\n",
      "max_iter: 500\n"
     ]
    }
   ],
   "source": [
    "# After GridSearchCV has finished\n",
    "# Retrain Logistic Regression with the best hyperparameters\n",
    "clf_lr = LogisticRegression(\n",
    "    multi_class=grid_search.best_params_['multi_class'],  # Best 'multi_class' parameter\n",
    "    class_weight=grid_search.best_params_['class_weight'],  # Best 'class_weight' parameter\n",
    "    max_iter=grid_search.best_params_['max_iter'],  # Best 'max_iter' parameter\n",
    "    # Removing 'C' and 'solver' as we're not using them in the simplified grid\n",
    ")\n",
    "clf_lr.fit(X_train, y_train)\n",
    "\n",
    "# Print the best hyperparameters used for retraining\n",
    "print(f\"Model retrained with the following best hyperparameters:\\n\"\n",
    "      f\"multi_class: {grid_search.best_params_['multi_class']}\\n\"\n",
    "      f\"class_weight: {grid_search.best_params_['class_weight']}\\n\"\n",
    "      f\"max_iter: {grid_search.best_params_['max_iter']}\")\n"
   ]
  },
  {
   "cell_type": "markdown",
   "id": "c6e09980",
   "metadata": {},
   "source": [
    "- **Evaluate** Logistic Regression with the best hyperparameters."
   ]
  },
  {
   "cell_type": "code",
   "execution_count": 6,
   "id": "10907ff6",
   "metadata": {},
   "outputs": [
    {
     "name": "stdout",
     "output_type": "stream",
     "text": [
      "Classification Report for Logistic Regression:\n",
      "              precision    recall  f1-score   support\n",
      "\n",
      "           0       0.34      0.56      0.42       624\n",
      "           1       0.59      0.74      0.65       998\n",
      "           2       0.75      0.80      0.77       318\n",
      "           3       0.67      0.64      0.66       963\n",
      "           4       0.71      0.61      0.65       555\n",
      "           5       0.88      0.88      0.88       982\n",
      "           6       0.80      0.67      0.73       526\n",
      "           7       0.80      0.84      0.82       996\n",
      "           8       0.64      0.46      0.54       391\n",
      "           9       0.88      0.91      0.90       854\n",
      "          10       0.75      0.68      0.72       951\n",
      "          11       0.74      0.72      0.73       558\n",
      "          12       0.95      0.97      0.96      2034\n",
      "          13       0.77      0.45      0.56       155\n",
      "          14       0.87      0.90      0.88       998\n",
      "          15       0.80      0.66      0.72       283\n",
      "          16       0.80      0.79      0.80       764\n",
      "          17       0.79      0.79      0.79      1060\n",
      "          18       0.70      0.55      0.62       496\n",
      "          19       0.98      0.81      0.89       183\n",
      "          20       0.76      0.72      0.74       640\n",
      "          21       0.84      0.79      0.82       493\n",
      "          22       0.87      0.69      0.77       185\n",
      "          23       0.99      0.95      0.97       175\n",
      "          24       0.78      0.74      0.76       504\n",
      "          25       0.84      0.72      0.77       136\n",
      "          26       0.96      0.88      0.92       162\n",
      "\n",
      "    accuracy                           0.77     16984\n",
      "   macro avg       0.79      0.74      0.76     16984\n",
      "weighted avg       0.78      0.77      0.77     16984\n",
      "\n",
      "Weighted F1-Score: 0.7739\n",
      "Accuracy: 0.7714\n",
      "Confusion Matrix for Logistic Regression:\n"
     ]
    },
    {
     "data": {
      "image/png": "[encoded data removed]",
      "text/plain": [
       "<Figure size 1152x864 with 2 Axes>"
      ]
     },
     "metadata": {
      "needs_background": "light"
     },
     "output_type": "display_data"
    }
   ],
   "source": [
    "# Evaluate Logistic Regression model\n",
    "y_pred = clf_lr.predict(X_test)  # Make predictions on the test set\n",
    "\n",
    "# Print the classification report\n",
    "print(\"Classification Report for Logistic Regression:\")\n",
    "print(classification_report(y_test, y_pred))\n",
    "\n",
    "# Optionally, calculate other evaluation metrics like F1-Score, Accuracy\n",
    "f1 = f1_score(y_test, y_pred, average='weighted')\n",
    "accuracy = clf_lr.score(X_test, y_test)\n",
    "\n",
    "# Display the evaluation metrics\n",
    "print(f\"Weighted F1-Score: {f1:.4f}\")\n",
    "print(f\"Accuracy: {accuracy:.4f}\")\n",
    "\n",
    "# Confusion Matrix\n",
    "print(\"Confusion Matrix for Logistic Regression:\")\n",
    "cm = confusion_matrix(y_test, y_pred)\n",
    "\n",
    "# Plot the confusion matrix\n",
    "plt.figure(figsize=(16,12))\n",
    "sns.heatmap(cm, annot=True, fmt=\"d\", cmap=\"Blues\", xticklabels=range(len(cm)), yticklabels=range(len(cm)))\n",
    "plt.xlabel(\"Predicted\")\n",
    "plt.ylabel(\"True\")\n",
    "plt.title(\"Confusion Matrix for Logistic Regression\")\n",
    "plt.show()\n",
    "\n"
   ]
  },
  {
   "cell_type": "markdown",
   "id": "0eba1ef2",
   "metadata": {},
   "source": [
    "- **Save** the best Logistic Regression model."
   ]
  },
  {
   "cell_type": "code",
   "execution_count": 7,
   "id": "9a8eca25",
   "metadata": {},
   "outputs": [
    {
     "name": "stdout",
     "output_type": "stream",
     "text": [
      "Saving the model to: D:\\Data_Science\\Append_Data_Engineer_AWS_MLOPS\\Data_Scientist_Rakuten_Project-main\\models\\text\\classical\n",
      "\n",
      " Best Logistic Regression model saved successfully.\n"
     ]
    }
   ],
   "source": [
    "# Print the path where the  best Logistic Regression model will be saved\n",
    "print(f\"Saving the model to: {config.CLASSICAL_MODELS_DIR}\")\n",
    "\n",
    "try:\n",
    "    # Try to save the trained Logistic Regression model\n",
    "    with open(os.path.join(config.CLASSICAL_MODELS_DIR, \"best_lr_model.pkl\"), \"wb\") as f:\n",
    "        pickle.dump(best_log_reg, f)\n",
    "    print(\"\\n Best Logistic Regression model saved successfully.\")\n",
    "except Exception as e:\n",
    "    # In case of an error, print the error message\n",
    "    print(f\"\\nError occurred while saving the model: {e}\")\n"
   ]
  },
  {
   "cell_type": "markdown",
   "id": "f0d26a3a",
   "metadata": {},
   "source": [
    "### 3.2 Support Vector Machines (SVM)\n",
    "\n",
    "To optimize the **Support Vector Machines (SVM)** model, we perform a **GridSearchCV** on key hyperparameters, aiming to maximize the **weighted F1-score** to effectively handle class imbalances:\n",
    "\n",
    "- `C`: Regularization parameter, controlling the trade-off between achieving a low error on the training set and minimizing the model complexity.\n",
    "- `kernel`: Specifies the kernel type to use in the algorithm (e.g., `linear`, `rbf`, `poly`, or `sigmoid`).\n",
    "- `class_weight`: Balances the classes for imbalanced data (`balanced`, `None`).\n",
    "- `max_iter`: Controls the maximum number of iterations for convergence.\n",
    "- `gamma`: Defines the kernel coefficient for `rbf`, `poly`, and `sigmoid` kernels. It can impact model flexibility and performance.\n",
    "- `degree`: Defines the degree of the polynomial kernel function (relevant only if `kernel='poly'`).\n"
   ]
  },
  {
   "cell_type": "markdown",
   "id": "0ab49565",
   "metadata": {},
   "source": [
    "- **GridSearchCV** for SVM"
   ]
  },
  {
   "cell_type": "code",
   "execution_count": 8,
   "id": "8c78ab29",
   "metadata": {},
   "outputs": [
    {
     "ename": "KeyboardInterrupt",
     "evalue": "",
     "output_type": "error",
     "traceback": [
      "\u001b[1;31m---------------------------------------------------------------------------\u001b[0m",
      "\u001b[1;31mKeyboardInterrupt\u001b[0m                         Traceback (most recent call last)",
      "\u001b[1;32m~\\AppData\\Local\\Temp\\ipykernel_28600\\3860019262.py\u001b[0m in \u001b[0;36m<cell line: 16>\u001b[1;34m()\u001b[0m\n\u001b[0;32m     14\u001b[0m \u001b[1;31m# Perform GridSearchCV based on 'weighted F1-score'\u001b[0m\u001b[1;33m\u001b[0m\u001b[1;33m\u001b[0m\u001b[1;33m\u001b[0m\u001b[0m\n\u001b[0;32m     15\u001b[0m \u001b[0mgrid_search\u001b[0m \u001b[1;33m=\u001b[0m \u001b[0mGridSearchCV\u001b[0m\u001b[1;33m(\u001b[0m\u001b[0msvm\u001b[0m\u001b[1;33m,\u001b[0m \u001b[0mparam_grid\u001b[0m\u001b[1;33m,\u001b[0m \u001b[0mcv\u001b[0m\u001b[1;33m=\u001b[0m\u001b[1;36m3\u001b[0m\u001b[1;33m,\u001b[0m \u001b[0mscoring\u001b[0m\u001b[1;33m=\u001b[0m\u001b[1;34m'f1_weighted'\u001b[0m\u001b[1;33m,\u001b[0m \u001b[0mn_jobs\u001b[0m\u001b[1;33m=\u001b[0m\u001b[1;33m-\u001b[0m\u001b[1;36m1\u001b[0m\u001b[1;33m)\u001b[0m\u001b[1;33m\u001b[0m\u001b[1;33m\u001b[0m\u001b[0m\n\u001b[1;32m---> 16\u001b[1;33m \u001b[0mgrid_search\u001b[0m\u001b[1;33m.\u001b[0m\u001b[0mfit\u001b[0m\u001b[1;33m(\u001b[0m\u001b[0mX_train\u001b[0m\u001b[1;33m,\u001b[0m \u001b[0my_train\u001b[0m\u001b[1;33m)\u001b[0m\u001b[1;33m\u001b[0m\u001b[1;33m\u001b[0m\u001b[0m\n\u001b[0m\u001b[0;32m     17\u001b[0m \u001b[1;33m\u001b[0m\u001b[0m\n\u001b[0;32m     18\u001b[0m \u001b[1;31m# Extract best model\u001b[0m\u001b[1;33m\u001b[0m\u001b[1;33m\u001b[0m\u001b[1;33m\u001b[0m\u001b[0m\n",
      "\u001b[1;32mC:\\anaconda_install\\envs\\data_science\\lib\\site-packages\\sklearn\\model_selection\\_search.py\u001b[0m in \u001b[0;36mfit\u001b[1;34m(self, X, y, groups, **fit_params)\u001b[0m\n\u001b[0;32m    889\u001b[0m                 \u001b[1;32mreturn\u001b[0m \u001b[0mresults\u001b[0m\u001b[1;33m\u001b[0m\u001b[1;33m\u001b[0m\u001b[0m\n\u001b[0;32m    890\u001b[0m \u001b[1;33m\u001b[0m\u001b[0m\n\u001b[1;32m--> 891\u001b[1;33m             \u001b[0mself\u001b[0m\u001b[1;33m.\u001b[0m\u001b[0m_run_search\u001b[0m\u001b[1;33m(\u001b[0m\u001b[0mevaluate_candidates\u001b[0m\u001b[1;33m)\u001b[0m\u001b[1;33m\u001b[0m\u001b[1;33m\u001b[0m\u001b[0m\n\u001b[0m\u001b[0;32m    892\u001b[0m \u001b[1;33m\u001b[0m\u001b[0m\n\u001b[0;32m    893\u001b[0m             \u001b[1;31m# multimetric is determined here because in the case of a callable\u001b[0m\u001b[1;33m\u001b[0m\u001b[1;33m\u001b[0m\u001b[1;33m\u001b[0m\u001b[0m\n",
      "\u001b[1;32mC:\\anaconda_install\\envs\\data_science\\lib\\site-packages\\sklearn\\model_selection\\_search.py\u001b[0m in \u001b[0;36m_run_search\u001b[1;34m(self, evaluate_candidates)\u001b[0m\n\u001b[0;32m   1390\u001b[0m     \u001b[1;32mdef\u001b[0m \u001b[0m_run_search\u001b[0m\u001b[1;33m(\u001b[0m\u001b[0mself\u001b[0m\u001b[1;33m,\u001b[0m \u001b[0mevaluate_candidates\u001b[0m\u001b[1;33m)\u001b[0m\u001b[1;33m:\u001b[0m\u001b[1;33m\u001b[0m\u001b[1;33m\u001b[0m\u001b[0m\n\u001b[0;32m   1391\u001b[0m         \u001b[1;34m\"\"\"Search all candidates in param_grid\"\"\"\u001b[0m\u001b[1;33m\u001b[0m\u001b[1;33m\u001b[0m\u001b[0m\n\u001b[1;32m-> 1392\u001b[1;33m         \u001b[0mevaluate_candidates\u001b[0m\u001b[1;33m(\u001b[0m\u001b[0mParameterGrid\u001b[0m\u001b[1;33m(\u001b[0m\u001b[0mself\u001b[0m\u001b[1;33m.\u001b[0m\u001b[0mparam_grid\u001b[0m\u001b[1;33m)\u001b[0m\u001b[1;33m)\u001b[0m\u001b[1;33m\u001b[0m\u001b[1;33m\u001b[0m\u001b[0m\n\u001b[0m\u001b[0;32m   1393\u001b[0m \u001b[1;33m\u001b[0m\u001b[0m\n\u001b[0;32m   1394\u001b[0m \u001b[1;33m\u001b[0m\u001b[0m\n",
      "\u001b[1;32mC:\\anaconda_install\\envs\\data_science\\lib\\site-packages\\sklearn\\model_selection\\_search.py\u001b[0m in \u001b[0;36mevaluate_candidates\u001b[1;34m(candidate_params, cv, more_results)\u001b[0m\n\u001b[0;32m    836\u001b[0m                     )\n\u001b[0;32m    837\u001b[0m \u001b[1;33m\u001b[0m\u001b[0m\n\u001b[1;32m--> 838\u001b[1;33m                 out = parallel(\n\u001b[0m\u001b[0;32m    839\u001b[0m                     delayed(_fit_and_score)(\n\u001b[0;32m    840\u001b[0m                         \u001b[0mclone\u001b[0m\u001b[1;33m(\u001b[0m\u001b[0mbase_estimator\u001b[0m\u001b[1;33m)\u001b[0m\u001b[1;33m,\u001b[0m\u001b[1;33m\u001b[0m\u001b[1;33m\u001b[0m\u001b[0m\n",
      "\u001b[1;32mC:\\anaconda_install\\envs\\data_science\\lib\\site-packages\\joblib\\parallel.py\u001b[0m in \u001b[0;36m__call__\u001b[1;34m(self, iterable)\u001b[0m\n\u001b[0;32m   1054\u001b[0m \u001b[1;33m\u001b[0m\u001b[0m\n\u001b[0;32m   1055\u001b[0m             \u001b[1;32mwith\u001b[0m \u001b[0mself\u001b[0m\u001b[1;33m.\u001b[0m\u001b[0m_backend\u001b[0m\u001b[1;33m.\u001b[0m\u001b[0mretrieval_context\u001b[0m\u001b[1;33m(\u001b[0m\u001b[1;33m)\u001b[0m\u001b[1;33m:\u001b[0m\u001b[1;33m\u001b[0m\u001b[1;33m\u001b[0m\u001b[0m\n\u001b[1;32m-> 1056\u001b[1;33m                 \u001b[0mself\u001b[0m\u001b[1;33m.\u001b[0m\u001b[0mretrieve\u001b[0m\u001b[1;33m(\u001b[0m\u001b[1;33m)\u001b[0m\u001b[1;33m\u001b[0m\u001b[1;33m\u001b[0m\u001b[0m\n\u001b[0m\u001b[0;32m   1057\u001b[0m             \u001b[1;31m# Make sure that we get a last message telling us we are done\u001b[0m\u001b[1;33m\u001b[0m\u001b[1;33m\u001b[0m\u001b[1;33m\u001b[0m\u001b[0m\n\u001b[0;32m   1058\u001b[0m             \u001b[0melapsed_time\u001b[0m \u001b[1;33m=\u001b[0m \u001b[0mtime\u001b[0m\u001b[1;33m.\u001b[0m\u001b[0mtime\u001b[0m\u001b[1;33m(\u001b[0m\u001b[1;33m)\u001b[0m \u001b[1;33m-\u001b[0m \u001b[0mself\u001b[0m\u001b[1;33m.\u001b[0m\u001b[0m_start_time\u001b[0m\u001b[1;33m\u001b[0m\u001b[1;33m\u001b[0m\u001b[0m\n",
      "\u001b[1;32mC:\\anaconda_install\\envs\\data_science\\lib\\site-packages\\joblib\\parallel.py\u001b[0m in \u001b[0;36mretrieve\u001b[1;34m(self)\u001b[0m\n\u001b[0;32m    933\u001b[0m             \u001b[1;32mtry\u001b[0m\u001b[1;33m:\u001b[0m\u001b[1;33m\u001b[0m\u001b[1;33m\u001b[0m\u001b[0m\n\u001b[0;32m    934\u001b[0m                 \u001b[1;32mif\u001b[0m \u001b[0mgetattr\u001b[0m\u001b[1;33m(\u001b[0m\u001b[0mself\u001b[0m\u001b[1;33m.\u001b[0m\u001b[0m_backend\u001b[0m\u001b[1;33m,\u001b[0m \u001b[1;34m'supports_timeout'\u001b[0m\u001b[1;33m,\u001b[0m \u001b[1;32mFalse\u001b[0m\u001b[1;33m)\u001b[0m\u001b[1;33m:\u001b[0m\u001b[1;33m\u001b[0m\u001b[1;33m\u001b[0m\u001b[0m\n\u001b[1;32m--> 935\u001b[1;33m                     \u001b[0mself\u001b[0m\u001b[1;33m.\u001b[0m\u001b[0m_output\u001b[0m\u001b[1;33m.\u001b[0m\u001b[0mextend\u001b[0m\u001b[1;33m(\u001b[0m\u001b[0mjob\u001b[0m\u001b[1;33m.\u001b[0m\u001b[0mget\u001b[0m\u001b[1;33m(\u001b[0m\u001b[0mtimeout\u001b[0m\u001b[1;33m=\u001b[0m\u001b[0mself\u001b[0m\u001b[1;33m.\u001b[0m\u001b[0mtimeout\u001b[0m\u001b[1;33m)\u001b[0m\u001b[1;33m)\u001b[0m\u001b[1;33m\u001b[0m\u001b[1;33m\u001b[0m\u001b[0m\n\u001b[0m\u001b[0;32m    936\u001b[0m                 \u001b[1;32melse\u001b[0m\u001b[1;33m:\u001b[0m\u001b[1;33m\u001b[0m\u001b[1;33m\u001b[0m\u001b[0m\n\u001b[0;32m    937\u001b[0m                     \u001b[0mself\u001b[0m\u001b[1;33m.\u001b[0m\u001b[0m_output\u001b[0m\u001b[1;33m.\u001b[0m\u001b[0mextend\u001b[0m\u001b[1;33m(\u001b[0m\u001b[0mjob\u001b[0m\u001b[1;33m.\u001b[0m\u001b[0mget\u001b[0m\u001b[1;33m(\u001b[0m\u001b[1;33m)\u001b[0m\u001b[1;33m)\u001b[0m\u001b[1;33m\u001b[0m\u001b[1;33m\u001b[0m\u001b[0m\n",
      "\u001b[1;32mC:\\anaconda_install\\envs\\data_science\\lib\\site-packages\\joblib\\_parallel_backends.py\u001b[0m in \u001b[0;36mwrap_future_result\u001b[1;34m(future, timeout)\u001b[0m\n\u001b[0;32m    540\u001b[0m         AsyncResults.get from multiprocessing.\"\"\"\n\u001b[0;32m    541\u001b[0m         \u001b[1;32mtry\u001b[0m\u001b[1;33m:\u001b[0m\u001b[1;33m\u001b[0m\u001b[1;33m\u001b[0m\u001b[0m\n\u001b[1;32m--> 542\u001b[1;33m             \u001b[1;32mreturn\u001b[0m \u001b[0mfuture\u001b[0m\u001b[1;33m.\u001b[0m\u001b[0mresult\u001b[0m\u001b[1;33m(\u001b[0m\u001b[0mtimeout\u001b[0m\u001b[1;33m=\u001b[0m\u001b[0mtimeout\u001b[0m\u001b[1;33m)\u001b[0m\u001b[1;33m\u001b[0m\u001b[1;33m\u001b[0m\u001b[0m\n\u001b[0m\u001b[0;32m    543\u001b[0m         \u001b[1;32mexcept\u001b[0m \u001b[0mCfTimeoutError\u001b[0m \u001b[1;32mas\u001b[0m \u001b[0me\u001b[0m\u001b[1;33m:\u001b[0m\u001b[1;33m\u001b[0m\u001b[1;33m\u001b[0m\u001b[0m\n\u001b[0;32m    544\u001b[0m             \u001b[1;32mraise\u001b[0m \u001b[0mTimeoutError\u001b[0m \u001b[1;32mfrom\u001b[0m \u001b[0me\u001b[0m\u001b[1;33m\u001b[0m\u001b[1;33m\u001b[0m\u001b[0m\n",
      "\u001b[1;32mC:\\anaconda_install\\envs\\data_science\\lib\\concurrent\\futures\\_base.py\u001b[0m in \u001b[0;36mresult\u001b[1;34m(self, timeout)\u001b[0m\n\u001b[0;32m    437\u001b[0m                     \u001b[1;32mreturn\u001b[0m \u001b[0mself\u001b[0m\u001b[1;33m.\u001b[0m\u001b[0m__get_result\u001b[0m\u001b[1;33m(\u001b[0m\u001b[1;33m)\u001b[0m\u001b[1;33m\u001b[0m\u001b[1;33m\u001b[0m\u001b[0m\n\u001b[0;32m    438\u001b[0m \u001b[1;33m\u001b[0m\u001b[0m\n\u001b[1;32m--> 439\u001b[1;33m                 \u001b[0mself\u001b[0m\u001b[1;33m.\u001b[0m\u001b[0m_condition\u001b[0m\u001b[1;33m.\u001b[0m\u001b[0mwait\u001b[0m\u001b[1;33m(\u001b[0m\u001b[0mtimeout\u001b[0m\u001b[1;33m)\u001b[0m\u001b[1;33m\u001b[0m\u001b[1;33m\u001b[0m\u001b[0m\n\u001b[0m\u001b[0;32m    440\u001b[0m \u001b[1;33m\u001b[0m\u001b[0m\n\u001b[0;32m    441\u001b[0m                 \u001b[1;32mif\u001b[0m \u001b[0mself\u001b[0m\u001b[1;33m.\u001b[0m\u001b[0m_state\u001b[0m \u001b[1;32min\u001b[0m \u001b[1;33m[\u001b[0m\u001b[0mCANCELLED\u001b[0m\u001b[1;33m,\u001b[0m \u001b[0mCANCELLED_AND_NOTIFIED\u001b[0m\u001b[1;33m]\u001b[0m\u001b[1;33m:\u001b[0m\u001b[1;33m\u001b[0m\u001b[1;33m\u001b[0m\u001b[0m\n",
      "\u001b[1;32mC:\\anaconda_install\\envs\\data_science\\lib\\threading.py\u001b[0m in \u001b[0;36mwait\u001b[1;34m(self, timeout)\u001b[0m\n\u001b[0;32m    300\u001b[0m         \u001b[1;32mtry\u001b[0m\u001b[1;33m:\u001b[0m    \u001b[1;31m# restore state no matter what (e.g., KeyboardInterrupt)\u001b[0m\u001b[1;33m\u001b[0m\u001b[1;33m\u001b[0m\u001b[0m\n\u001b[0;32m    301\u001b[0m             \u001b[1;32mif\u001b[0m \u001b[0mtimeout\u001b[0m \u001b[1;32mis\u001b[0m \u001b[1;32mNone\u001b[0m\u001b[1;33m:\u001b[0m\u001b[1;33m\u001b[0m\u001b[1;33m\u001b[0m\u001b[0m\n\u001b[1;32m--> 302\u001b[1;33m                 \u001b[0mwaiter\u001b[0m\u001b[1;33m.\u001b[0m\u001b[0macquire\u001b[0m\u001b[1;33m(\u001b[0m\u001b[1;33m)\u001b[0m\u001b[1;33m\u001b[0m\u001b[1;33m\u001b[0m\u001b[0m\n\u001b[0m\u001b[0;32m    303\u001b[0m                 \u001b[0mgotit\u001b[0m \u001b[1;33m=\u001b[0m \u001b[1;32mTrue\u001b[0m\u001b[1;33m\u001b[0m\u001b[1;33m\u001b[0m\u001b[0m\n\u001b[0;32m    304\u001b[0m             \u001b[1;32melse\u001b[0m\u001b[1;33m:\u001b[0m\u001b[1;33m\u001b[0m\u001b[1;33m\u001b[0m\u001b[0m\n",
      "\u001b[1;31mKeyboardInterrupt\u001b[0m: "
     ]
    }
   ],
   "source": [
    "# Define parameter grid for SVM\n",
    "param_grid = {\n",
    "    'C': [0.1, 1, 10, 100],  # Regularization parameter\n",
    "    'kernel': ['linear', 'rbf', 'poly', 'sigmoid'],  # Kernel types to test\n",
    "    'class_weight': ['balanced', None],  # To handle class imbalance\n",
    "    'max_iter': [1000, 1500, 2000],  # Maximum iterations for convergence\n",
    "    'gamma': ['scale', 'auto'],  # Kernel coefficient for 'rbf', 'poly', 'sigmoid'\n",
    "    'degree': [3, 4, 5]  # Degree for 'poly' kernel (relevant only for 'poly')\n",
    "}\n",
    "\n",
    "# Initialize the SVM model\n",
    "svm = SVC()\n",
    "\n",
    "# Perform GridSearchCV based on 'weighted F1-score'\n",
    "grid_search = GridSearchCV(svm, param_grid, cv=3, scoring='f1_weighted', n_jobs=-1)\n",
    "grid_search.fit(X_train, y_train)\n",
    "\n",
    "# Extract best model\n",
    "best_svm = grid_search.best_estimator_\n",
    "\n",
    "# Display best hyperparameters\n",
    "print(f\"Best Hyperparameters for SVM: {grid_search.best_params_}\")\n"
   ]
  },
  {
   "cell_type": "markdown",
   "id": "4e5ca1b9",
   "metadata": {},
   "source": [
    "- **Re-train** SVM with the best hyperparameters."
   ]
  },
  {
   "cell_type": "code",
   "execution_count": null,
   "id": "64c695b4",
   "metadata": {},
   "outputs": [],
   "source": [
    "# After GridSearchCV has finished\n",
    "\n",
    "# Retrain SVM with the best hyperparameters\n",
    "best_svm = SVC(\n",
    "    C=grid_search.best_params_['C'],\n",
    "    kernel=grid_search.best_params_['kernel'],\n",
    "    class_weight=grid_search.best_params_['class_weight'],\n",
    "    max_iter=grid_search.best_params_['max_iter'],\n",
    "    gamma=grid_search.best_params_['gamma'],\n",
    "    degree=grid_search.best_params_['degree']\n",
    ")\n",
    "best_svm.fit(X_train, y_train)\n",
    "\n",
    "# Print the best hyperparameters used for retraining\n",
    "print(f\"Model retrained with the following best hyperparameters:\\n\"\n",
    "      f\"C: {grid_search.best_params_['C']}\\n\"\n",
    "      f\"kernel: {grid_search.best_params_['kernel']}\\n\"\n",
    "      f\"class_weight: {grid_search.best_params_['class_weight']}\\n\"\n",
    "      f\"max_iter: {grid_search.best_params_['max_iter']}\\n\"\n",
    "      f\"gamma: {grid_search.best_params_['gamma']}\\n\"\n",
    "      f\"degree: {grid_search.best_params_['degree']}\")\n"
   ]
  },
  {
   "cell_type": "markdown",
   "id": "ce50254e",
   "metadata": {},
   "source": [
    "- **Evaluate** SVM with the best hyperparameters."
   ]
  },
  {
   "cell_type": "code",
   "execution_count": null,
   "id": "cea6abaa",
   "metadata": {},
   "outputs": [],
   "source": [
    "# Evaluate SVM model\n",
    "y_pred = best_svm.predict(X_test)  # Make predictions on the test set\n",
    "\n",
    "# Print the classification report\n",
    "print(\"Classification Report for SVM:\")\n",
    "print(classification_report(y_test, y_pred))\n",
    "\n",
    "# Optionally, calculate other evaluation metrics like F1-Score, Accuracy\n",
    "f1 = f1_score(y_test, y_pred, average='weighted')\n",
    "accuracy = best_svm.score(X_test, y_test)\n",
    "\n",
    "# Display the evaluation metrics\n",
    "print(f\"Weighted F1-Score: {f1:.4f}\")\n",
    "print(f\"Accuracy: {accuracy:.4f}\")\n",
    "\n",
    "# Confusion Matrix\n",
    "print(\"Confusion Matrix for SVM:\")\n",
    "cm = confusion_matrix(y_test, y_pred)\n",
    "\n",
    "# Plot the confusion matrix with a larger figure\n",
    "plt.figure(figsize=(16,12))  # Adjust the size of the figure\n",
    "sns.heatmap(cm, annot=True, fmt=\"d\", cmap=\"Blues\", xticklabels=range(len(cm)), yticklabels=range(len(cm)))\n",
    "plt.xlabel(\"Predicted\")\n",
    "plt.ylabel(\"True\")\n",
    "plt.title(\"Confusion Matrix for SVM\")\n",
    "plt.show()\n"
   ]
  },
  {
   "cell_type": "markdown",
   "id": "5d89813d",
   "metadata": {},
   "source": [
    "- **Save** the best SVM model."
   ]
  },
  {
   "cell_type": "code",
   "execution_count": null,
   "id": "32691637",
   "metadata": {},
   "outputs": [],
   "source": [
    "# Print the path where the best SVM model will be saved\n",
    "print(f\"Saving the model to: {config.CLASSICAL_MODELS_DIR}\")\n",
    "\n",
    "try:\n",
    "    # Try to save the trained SVM model\n",
    "    with open(os.path.join(config.CLASSICAL_MODELS_DIR, \"best_svm_model.pkl\"), \"wb\") as f:\n",
    "        pickle.dump(best_svm, f)\n",
    "    print(\"\\nBest SVM model saved successfully.\")\n",
    "except Exception as e:\n",
    "    # In case of an error, print the error message\n",
    "    print(f\"\\nError occurred while saving the model: {e}\")\n"
   ]
  },
  {
   "cell_type": "markdown",
   "id": "8e908440",
   "metadata": {},
   "source": [
    "### 3.3 Random Forest Classifier\n",
    "\n",
    "To optimize the **Random Forest Classifier** model, we perform a **GridSearchCV** on key hyperparameters, aiming to maximize the **weighted F1-score** to effectively handle class imbalances:\n",
    "\n",
    "- `n_estimators`: The number of trees in the forest. More trees usually improve model performance, but also increase computation time.\n",
    "- `max_depth`: The maximum depth of the trees. Limiting the depth can prevent overfitting.\n",
    "- `min_samples_split`: The minimum number of samples required to split an internal node. This can control overfitting by setting higher values.\n",
    "- `min_samples_leaf`: The minimum number of samples required to be at a leaf node. A higher value can smooth the model.\n",
    "- `class_weight`: Balances the classes for imbalanced data (`balanced`, `None`).\n",
    "- `max_features`: The number of features to consider when looking for the best split. This can impact model performance and speed.\n",
    "- `bootstrap`: Whether bootstrap samples are used when building trees."
   ]
  },
  {
   "cell_type": "markdown",
   "id": "8c4433ca",
   "metadata": {},
   "source": [
    "- **GridSearchCV** for Random Forest"
   ]
  },
  {
   "cell_type": "code",
   "execution_count": null,
   "id": "38fc5eda",
   "metadata": {},
   "outputs": [],
   "source": [
    "# Define parameter grid for Random Forest\n",
    "param_grid = {\n",
    "    'n_estimators': [100, 200, 300, 400],  # Number of trees in the forest\n",
    "    'max_depth': [None, 10, 20, 30],  # Maximum depth of the tree\n",
    "    'min_samples_split': [2, 5, 10],  # Minimum samples required to split a node\n",
    "    'min_samples_leaf': [1, 2, 4],  # Minimum samples required at a leaf node\n",
    "    'class_weight': ['balanced', None],  # Handle class imbalance\n",
    "    'max_features': ['auto', 'sqrt', 'log2'],  # Number of features to consider at each split\n",
    "    'bootstrap': [True, False]  # Whether to use bootstrap samples\n",
    "}\n",
    "\n",
    "# Initialize the Random Forest model\n",
    "rf = RandomForestClassifier()\n",
    "\n",
    "# Perform GridSearchCV based on 'weighted F1-score'\n",
    "grid_search = GridSearchCV(rf, param_grid, cv=3, scoring='f1_weighted', n_jobs=-1)\n",
    "grid_search.fit(X_train, y_train)\n",
    "\n",
    "# Extract best model\n",
    "best_rf = grid_search.best_estimator_\n",
    "\n",
    "# Display best hyperparameters\n",
    "print(f\"Best Hyperparameters for Random Forest: {grid_search.best_params_}\")\n"
   ]
  },
  {
   "cell_type": "markdown",
   "id": "00af9dc7",
   "metadata": {},
   "source": [
    "- **Re-train** Random Forest with the best hyperparameters."
   ]
  },
  {
   "cell_type": "code",
   "execution_count": null,
   "id": "babe2db2",
   "metadata": {},
   "outputs": [],
   "source": [
    "# After GridSearchCV has finished\n",
    "\n",
    "# Retrain Random Forest with the best hyperparameters\n",
    "best_rf = RandomForestClassifier(\n",
    "    n_estimators=grid_search.best_params_['n_estimators'],\n",
    "    max_depth=grid_search.best_params_['max_depth'],\n",
    "    min_samples_split=grid_search.best_params_['min_samples_split'],\n",
    "    min_samples_leaf=grid_search.best_params_['min_samples_leaf'],\n",
    "    class_weight=grid_search.best_params_['class_weight'],\n",
    "    max_features=grid_search.best_params_['max_features'],\n",
    "    bootstrap=grid_search.best_params_['bootstrap']\n",
    ")\n",
    "best_rf.fit(X_train, y_train)\n",
    "\n",
    "# Print the best hyperparameters used for retraining\n",
    "print(f\"Model retrained with the following best hyperparameters:\\n\"\n",
    "      f\"n_estimators: {grid_search.best_params_['n_estimators']}\\n\"\n",
    "      f\"max_depth: {grid_search.best_params_['max_depth']}\\n\"\n",
    "      f\"min_samples_split: {grid_search.best_params_['min_samples_split']}\\n\"\n",
    "      f\"min_samples_leaf: {grid_search.best_params_['min_samples_leaf']}\\n\"\n",
    "      f\"class_weight: {grid_search.best_params_['class_weight']}\\n\"\n",
    "      f\"max_features: {grid_search.best_params_['max_features']}\\n\"\n",
    "      f\"bootstrap: {grid_search.best_params_['bootstrap']}\")\n"
   ]
  },
  {
   "cell_type": "markdown",
   "id": "2369ae54",
   "metadata": {},
   "source": [
    "- **Evaluate** Random Forest with the best hyperparameters."
   ]
  },
  {
   "cell_type": "code",
   "execution_count": null,
   "id": "dd907e5e",
   "metadata": {},
   "outputs": [],
   "source": [
    "# Evaluate Random Forest model\n",
    "y_pred = best_rf.predict(X_test)  # Make predictions on the test set\n",
    "\n",
    "# Print the classification report\n",
    "print(\"Classification Report for Random Forest:\")\n",
    "print(classification_report(y_test, y_pred))\n",
    "\n",
    "# Optionally, calculate other evaluation metrics like F1-Score, Accuracy\n",
    "f1 = f1_score(y_test, y_pred, average='weighted')\n",
    "accuracy = best_rf.score(X_test, y_test)\n",
    "\n",
    "# Display the evaluation metrics\n",
    "print(f\"Weighted F1-Score: {f1:.4f}\")\n",
    "print(f\"Accuracy: {accuracy:.4f}\")\n",
    "\n",
    "# Confusion Matrix\n",
    "print(\"Confusion Matrix for Random Forest:\")\n",
    "cm = confusion_matrix(y_test, y_pred)\n",
    "\n",
    "# Plot the confusion matrix with a larger figure\n",
    "plt.figure(figsize=(16,12))  # Adjust the size of the figure\n",
    "sns.heatmap(cm, annot=True, fmt=\"d\", cmap=\"Blues\", xticklabels=range(len(cm)), yticklabels=range(len(cm)))\n",
    "plt.xlabel(\"Predicted\")\n",
    "plt.ylabel(\"True\")\n",
    "plt.title(\"Confusion Matrix for Random Forest\")\n",
    "plt.show()\n"
   ]
  },
  {
   "cell_type": "markdown",
   "id": "1fd4cf3f",
   "metadata": {},
   "source": [
    "- **Save** the best Random Forest model."
   ]
  },
  {
   "cell_type": "code",
   "execution_count": null,
   "id": "a4543c62",
   "metadata": {},
   "outputs": [],
   "source": [
    "# Print the path where the best Random Forest model will be saved\n",
    "print(f\"Saving the model to: {config.CLASSICAL_MODELS_DIR}\")\n",
    "\n",
    "try:\n",
    "    # Try to save the trained Random Forest model\n",
    "    with open(os.path.join(config.CLASSICAL_MODELS_DIR, \"best_rf_model.pkl\"), \"wb\") as f:\n",
    "        pickle.dump(best_rf, f)\n",
    "    print(\"\\nBest Random Forest model saved successfully.\")\n",
    "except Exception as e:\n",
    "    # In case of an error, print the error message\n",
    "    print(f\"\\nError occurred while saving the model: {e}\")\n"
   ]
  },
  {
   "cell_type": "markdown",
   "id": "434488c1",
   "metadata": {},
   "source": [
    "### 3.4 K-Neighbors Classifier\n",
    "\n",
    "To optimize the **K-Neighbors Classifier** model, we perform a **GridSearchCV** on key hyperparameters, aiming to maximize the **weighted F1-score** to effectively handle class imbalances:\n",
    "\n",
    "- `n_neighbors`: The number of neighbors to use for knearest neighbors classification. Increasing this value makes the model more general and reduces overfitting.\n",
    "- `weights`: Function used to weight the points in the neighborhood. Options include `uniform` (all points are weighted equally) or `distance` (closer points have more influence).\n",
    "- `algorithm`: The algorithm used to compute the nearest neighbors (`auto`, `ball_tree`, `kd_tree`, `brute`).\n",
    "- `leaf_size`: The leaf size for the `ball_tree` and `kd_tree` algorithms. A smaller leaf size can improve search time.\n",
    "- `p`: The power parameter for the Minkowski distance. When `p=2`, this corresponds to the Euclidean distance.\n",
    "- `metric`: The distance metric to use. Can be `minkowski`, `manhattan`, `chebyshev`, or `cosine`.\n"
   ]
  },
  {
   "cell_type": "markdown",
   "id": "b629b454",
   "metadata": {},
   "source": [
    "- **GridSearchCV** for K-Neighbors"
   ]
  },
  {
   "cell_type": "code",
   "execution_count": null,
   "id": "03373068",
   "metadata": {},
   "outputs": [],
   "source": [
    "# Define parameter grid for K-Neighbors Classifier\n",
    "param_grid = {\n",
    "    'n_neighbors': [3, 5, 7, 9],  # Number of neighbors\n",
    "    'weights': ['uniform', 'distance'],  # Weight function for neighbors\n",
    "    'algorithm': ['auto', 'ball_tree', 'kd_tree', 'brute'],  # Algorithm to compute nearest neighbors\n",
    "    'leaf_size': [20, 30, 40],  # Leaf size for 'ball_tree' and 'kd_tree'\n",
    "    'p': [1, 2],  # Power parameter for Minkowski distance (1 = Manhattan, 2 = Euclidean)\n",
    "    'metric': ['minkowski', 'manhattan', 'chebyshev', 'cosine']  # Distance metric\n",
    "}\n",
    "\n",
    "# Initialize the K-Neighbors Classifier\n",
    "knn = KNeighborsClassifier()\n",
    "\n",
    "# Perform GridSearchCV based on 'weighted F1-score'\n",
    "grid_search = GridSearchCV(knn, param_grid, cv=3, scoring='f1_weighted', n_jobs=-1)\n",
    "grid_search.fit(X_train, y_train)\n",
    "\n",
    "# Extract best model\n",
    "best_knn = grid_search.best_estimator_\n",
    "\n",
    "# Display best hyperparameters\n",
    "print(f\"Best Hyperparameters for K-Neighbors Classifier: {grid_search.best_params_}\")\n"
   ]
  },
  {
   "cell_type": "markdown",
   "id": "767b84a3",
   "metadata": {},
   "source": [
    "- **Re-train** K-Neighbors Classifier with the best hyperparameters."
   ]
  },
  {
   "cell_type": "code",
   "execution_count": null,
   "id": "dea1da26",
   "metadata": {},
   "outputs": [],
   "source": [
    "# After GridSearchCV has finished\n",
    "\n",
    "# Retrain K-Neighbors Classifier with the best hyperparameters\n",
    "best_knn = KNeighborsClassifier(\n",
    "    n_neighbors=grid_search.best_params_['n_neighbors'],\n",
    "    weights=grid_search.best_params_['weights'],\n",
    "    algorithm=grid_search.best_params_['algorithm'],\n",
    "    leaf_size=grid_search.best_params_['leaf_size'],\n",
    "    p=grid_search.best_params_['p'],\n",
    "    metric=grid_search.best_params_['metric']\n",
    ")\n",
    "best_knn.fit(X_train, y_train)\n",
    "\n",
    "# Print the best hyperparameters used for retraining\n",
    "print(f\"Model retrained with the following best hyperparameters:\\n\"\n",
    "      f\"n_neighbors: {grid_search.best_params_['n_neighbors']}\\n\"\n",
    "      f\"weights: {grid_search.best_params_['weights']}\\n\"\n",
    "      f\"algorithm: {grid_search.best_params_['algorithm']}\\n\"\n",
    "      f\"leaf_size: {grid_search.best_params_['leaf_size']}\\n\"\n",
    "      f\"p: {grid_search.best_params_['p']}\\n\"\n",
    "      f\"metric: {grid_search.best_params_['metric']}\")\n"
   ]
  },
  {
   "cell_type": "markdown",
   "id": "790e9f85",
   "metadata": {},
   "source": [
    "- **Evaluate** K-Neighbors Classifier with the best hyperparameters."
   ]
  },
  {
   "cell_type": "code",
   "execution_count": null,
   "id": "4bc5eb8e",
   "metadata": {},
   "outputs": [],
   "source": [
    "# Evaluate K-Neighbors Classifier model\n",
    "y_pred = best_knn.predict(X_test)  # Make predictions on the test set\n",
    "\n",
    "# Print the classification report\n",
    "print(\"Classification Report for K-Neighbors Classifier:\")\n",
    "print(classification_report(y_test, y_pred))\n",
    "\n",
    "# Optionally, calculate other evaluation metrics like F1-Score, Accuracy\n",
    "f1 = f1_score(y_test, y_pred, average='weighted')\n",
    "accuracy = best_knn.score(X_test, y_test)\n",
    "\n",
    "# Display the evaluation metrics\n",
    "print(f\"Weighted F1-Score: {f1:.4f}\")\n",
    "print(f\"Accuracy: {accuracy:.4f}\")\n",
    "\n",
    "# Confusion Matrix\n",
    "print(\"Confusion Matrix for K-Neighbors Classifier:\")\n",
    "cm = confusion_matrix(y_test, y_pred)\n",
    "\n",
    "# Plot the confusion matrix with a larger figure\n",
    "plt.figure(figsize=(16,12))  # Adjust the size of the figure\n",
    "sns.heatmap(cm, annot=True, fmt=\"d\", cmap=\"Blues\", xticklabels=range(len(cm)), yticklabels=range(len(cm)))\n",
    "plt.xlabel(\"Predicted\")\n",
    "plt.ylabel(\"True\")\n",
    "plt.title(\"Confusion Matrix for K-Neighbors Classifier\")\n",
    "plt.show()"
   ]
  },
  {
   "cell_type": "markdown",
   "id": "915eb3ae",
   "metadata": {},
   "source": [
    "- **Save** the best K-Neighbors model."
   ]
  },
  {
   "cell_type": "code",
   "execution_count": null,
   "id": "7c6f84b2",
   "metadata": {},
   "outputs": [],
   "source": [
    "# Print the path where the best K-Neighbors model will be saved\n",
    "print(f\"Saving the model to: {config.CLASSICAL_MODELS_DIR}\")\n",
    "\n",
    "try:\n",
    "    # Try to save the trained K-Neighbors model\n",
    "    with open(os.path.join(config.CLASSICAL_MODELS_DIR, \"best_knn_model.pkl\"), \"wb\") as f:\n",
    "        pickle.dump(best_knn, f)\n",
    "    print(\"\\nBest K-Neighbors model saved successfully.\")\n",
    "except Exception as e:\n",
    "    # In case of an error, print the error message\n",
    "    print(f\"\\nError occurred while saving the model: {e}\")\n",
    "\n"
   ]
  },
  {
   "cell_type": "markdown",
   "id": "4df84a5d",
   "metadata": {},
   "source": [
    "### 3.5 Decision Tree Classifier\n",
    "\n",
    "To optimize the **Decision Tree Classifier** model, we perform a **GridSearchCV** on key hyperparameters, aiming to maximize the **weighted F1-score** to effectively handle class imbalances:\n",
    "\n",
    "- `max_depth`: The maximum depth of the tree. Limiting the depth helps to prevent overfitting.\n",
    "- `min_samples_split`: The minimum number of samples required to split an internal node. This can control overfitting.\n",
    "- `min_samples_leaf`: The minimum number of samples required to be at a leaf node. A higher value can smooth the model.\n",
    "- `max_features`: The number of features to consider when looking for the best split. This can impact model performance and speed.\n",
    "- `criterion`: The function to measure the quality of a split. Common options include `gini` (Gini impurity) and `entropy` (information gain).\n",
    "- `class_weight`: Balances the classes for imbalanced data (`balanced`, `None`).\n",
    "- `splitter`: The strategy used to split at each node. Options include `best` (best split) or `random` (random split)."
   ]
  },
  {
   "cell_type": "markdown",
   "id": "7a8a7d8c",
   "metadata": {},
   "source": [
    "- **GridSearchCV** for Decision Tree"
   ]
  },
  {
   "cell_type": "code",
   "execution_count": null,
   "id": "05e762c7",
   "metadata": {},
   "outputs": [],
   "source": [
    "# Define parameter grid for Decision Tree Classifier\n",
    "param_grid = {\n",
    "    'max_depth': [None, 10, 20, 30],  # Maximum depth of the tree\n",
    "    'min_samples_split': [2, 5, 10],  # Minimum samples required to split a node\n",
    "    'min_samples_leaf': [1, 2, 4],  # Minimum samples required at a leaf node\n",
    "    'max_features': ['auto', 'sqrt', 'log2'],  # Number of features to consider at each split\n",
    "    'criterion': ['gini', 'entropy'],  # Quality of a split\n",
    "    'class_weight': ['balanced', None],  # Handle class imbalance\n",
    "    'splitter': ['best', 'random']  # Strategy for splitting nodes\n",
    "}\n",
    "\n",
    "# Initialize the Decision Tree model\n",
    "dt = DecisionTreeClassifier()\n",
    "\n",
    "# Perform GridSearchCV based on 'weighted F1-score'\n",
    "grid_search = GridSearchCV(dt, param_grid, cv=3, scoring='f1_weighted', n_jobs=-1)\n",
    "grid_search.fit(X_train, y_train)\n",
    "\n",
    "# Extract best model\n",
    "best_dt = grid_search.best_estimator_\n",
    "\n",
    "# Display best hyperparameters\n",
    "print(f\"Best Hyperparameters for Decision Tree: {grid_search.best_params_}\")\n"
   ]
  },
  {
   "cell_type": "markdown",
   "id": "95feb475",
   "metadata": {},
   "source": [
    "- **Re-train** Decision Tree with the best hyperparameters."
   ]
  },
  {
   "cell_type": "code",
   "execution_count": null,
   "id": "57f22c45",
   "metadata": {},
   "outputs": [],
   "source": [
    "# After GridSearchCV has finished\n",
    "\n",
    "# Retrain Decision Tree with the best hyperparameters\n",
    "best_dt = DecisionTreeClassifier(\n",
    "    max_depth=grid_search.best_params_['max_depth'],\n",
    "    min_samples_split=grid_search.best_params_['min_samples_split'],\n",
    "    min_samples_leaf=grid_search.best_params_['min_samples_leaf'],\n",
    "    max_features=grid_search.best_params_['max_features'],\n",
    "    criterion=grid_search.best_params_['criterion'],\n",
    "    class_weight=grid_search.best_params_['class_weight'],\n",
    "    splitter=grid_search.best_params_['splitter']\n",
    ")\n",
    "best_dt.fit(X_train, y_train)\n",
    "\n",
    "# Print the best hyperparameters used for retraining\n",
    "print(f\"Model retrained with the following best hyperparameters:\\n\"\n",
    "      f\"max_depth: {grid_search.best_params_['max_depth']}\\n\"\n",
    "      f\"min_samples_split: {grid_search.best_params_['min_samples_split']}\\n\"\n",
    "      f\"min_samples_leaf: {grid_search.best_params_['min_samples_leaf']}\\n\"\n",
    "      f\"max_features: {grid_search.best_params_['max_features']}\\n\"\n",
    "      f\"criterion: {grid_search.best_params_['criterion']}\\n\"\n",
    "      f\"class_weight: {grid_search.best_params_['class_weight']}\\n\"\n",
    "      f\"splitter: {grid_search.best_params_['splitter']}\")\n"
   ]
  },
  {
   "cell_type": "markdown",
   "id": "68fe4fcc",
   "metadata": {},
   "source": [
    "- **Evaluate** Decision Tree with the best hyperparameters."
   ]
  },
  {
   "cell_type": "code",
   "execution_count": null,
   "id": "42c119eb",
   "metadata": {},
   "outputs": [],
   "source": [
    "# Evaluate Decision Tree model\n",
    "y_pred = best_dt.predict(X_test)  # Make predictions on the test set\n",
    "\n",
    "# Print the classification report\n",
    "print(\"Classification Report for Decision Tree:\")\n",
    "print(classification_report(y_test, y_pred))\n",
    "\n",
    "# Optionally, calculate other evaluation metrics like F1-Score, Accuracy\n",
    "f1 = f1_score(y_test, y_pred, average='weighted')\n",
    "accuracy = best_dt.score(X_test, y_test)\n",
    "\n",
    "# Display the evaluation metrics\n",
    "print(f\"Weighted F1-Score: {f1:.4f}\")\n",
    "print(f\"Accuracy: {accuracy:.4f}\")\n",
    "\n",
    "# Confusion Matrix\n",
    "print(\"Confusion Matrix for Decision Tree:\")\n",
    "cm = confusion_matrix(y_test, y_pred)\n",
    "\n",
    "# Plot the confusion matrix with a larger figure\n",
    "plt.figure(figsize=(16,12))  # Adjust the size of the figure\n",
    "sns.heatmap(cm, annot=True, fmt=\"d\", cmap=\"Blues\", xticklabels=range(len(cm)), yticklabels=range(len(cm)))\n",
    "plt.xlabel(\"Predicted\")\n",
    "plt.ylabel(\"True\")\n",
    "plt.title(\"Confusion Matrix for Decision Tree\")\n",
    "plt.show()"
   ]
  },
  {
   "cell_type": "markdown",
   "id": "3fe5c7e9",
   "metadata": {},
   "source": [
    "- **Save** the best Decision Tree model."
   ]
  },
  {
   "cell_type": "code",
   "execution_count": null,
   "id": "2ab47fd1",
   "metadata": {},
   "outputs": [],
   "source": [
    "# Print the path where the best Decision Tree model will be saved\n",
    "print(f\"Saving the model to: {config.CLASSICAL_MODELS_DIR}\")\n",
    "\n",
    "try:\n",
    "    # Try to save the trained Decision Tree model\n",
    "    with open(os.path.join(config.CLASSICAL_MODELS_DIR, \"best_dt_model.pkl\"), \"wb\") as f:\n",
    "        pickle.dump(best_dt, f)\n",
    "    print(\"\\nBest Decision Tree model saved successfully.\")\n",
    "except Exception as e:\n",
    "    # In case of an error, print the error message\n",
    "    print(f\"\\nError occurred while saving the model: {e}\")\n"
   ]
  },
  {
   "cell_type": "markdown",
   "id": "570f5be7",
   "metadata": {},
   "source": [
    "### 3.6 XGBoost\n",
    "\n",
    "To optimize the **XGBoost** model, we perform a **GridSearchCV** on key hyperparameters, aiming to maximize the **weighted F1-score** to effectively handle class imbalances:\n",
    "\n",
    "- `n_estimators`: The number of boosting rounds (trees) to build. More trees usually improve performance but increase computation time.\n",
    "- `learning_rate`: The rate at which the model learns. Smaller values make the model more robust but require more trees.\n",
    "- `max_depth`: The maximum depth of the decision trees. Increasing this can make the model more complex, potentially leading to overfitting.\n",
    "- `min_child_weight`: The minimum sum of instance weight (hessian) needed in a child. It can help control overfitting.\n",
    "- `subsample`: The fraction of samples used for fitting each tree. A lower value can help reduce overfitting.\n",
    "- `colsample_bytree`: The fraction of features to use for building each tree. It can help control overfitting.\n",
    "- `gamma`: The minimum loss reduction required to make a further partition. It helps control the complexity of the model."
   ]
  },
  {
   "cell_type": "markdown",
   "id": "b95043e2",
   "metadata": {},
   "source": [
    "- **GridSearchCV** for XGBoost"
   ]
  },
  {
   "cell_type": "code",
   "execution_count": null,
   "id": "84d9d81d",
   "metadata": {},
   "outputs": [],
   "source": [
    "# Define parameter grid for XGBoost\n",
    "param_grid = {\n",
    "    'n_estimators': [100, 200, 300, 400],  # Number of boosting rounds (trees)\n",
    "    'learning_rate': [0.01, 0.05, 0.1, 0.2],  # Learning rate (step size)\n",
    "    'max_depth': [3, 5, 7, 10],  # Maximum depth of the trees\n",
    "    'min_child_weight': [1, 3, 5],  # Minimum sum of instance weight (hessian) needed in a child\n",
    "    'subsample': [0.8, 0.9, 1.0],  # Fraction of samples to use for fitting each tree\n",
    "    'colsample_bytree': [0.8, 0.9, 1.0],  # Fraction of features to use for building each tree\n",
    "    'gamma': [0, 0.1, 0.2, 0.5],  # Minimum loss reduction required to make a further partition\n",
    "}\n",
    "\n",
    "# Initialize the XGBoost model\n",
    "xgb = XGBClassifier()\n",
    "\n",
    "# Perform GridSearchCV based on 'weighted F1-score'\n",
    "grid_search = GridSearchCV(xgb, param_grid, cv=3, scoring='f1_weighted', n_jobs=-1)\n",
    "grid_search.fit(X_train, y_train)\n",
    "\n",
    "# Extract best model\n",
    "best_xgb = grid_search.best_estimator_\n",
    "\n",
    "# Display best hyperparameters\n",
    "print(f\"Best Hyperparameters for XGBoost: {grid_search.best_params_}\")\n"
   ]
  },
  {
   "cell_type": "markdown",
   "id": "5d32a3e1",
   "metadata": {},
   "source": [
    "- **Re-train** XGBoost with the best hyperparameters."
   ]
  },
  {
   "cell_type": "code",
   "execution_count": null,
   "id": "f3de4715",
   "metadata": {},
   "outputs": [],
   "source": [
    "# After GridSearchCV has finished\n",
    "# Retrain XGBoost with the best hyperparameters\n",
    "best_xgb = XGBClassifier(\n",
    "    n_estimators=grid_search.best_params_['n_estimators'],\n",
    "    learning_rate=grid_search.best_params_['learning_rate'],\n",
    "    max_depth=grid_search.best_params_['max_depth'],\n",
    "    min_child_weight=grid_search.best_params_['min_child_weight'],\n",
    "    subsample=grid_search.best_params_['subsample'],\n",
    "    colsample_bytree=grid_search.best_params_['colsample_bytree'],\n",
    "    gamma=grid_search.best_params_['gamma']\n",
    ")\n",
    "\n",
    "# Fit the model\n",
    "best_xgb.fit(X_train, y_train)\n",
    "\n",
    "# Print the best hyperparameters used for retraining\n",
    "print(f\"Model retrained with the following best hyperparameters:\\n\"\n",
    "      f\"n_estimators: {grid_search.best_params_['n_estimators']}\\n\"\n",
    "      f\"learning_rate: {grid_search.best_params_['learning_rate']}\\n\"\n",
    "      f\"max_depth: {grid_search.best_params_['max_depth']}\\n\"\n",
    "      f\"min_child_weight: {grid_search.best_params_['min_child_weight']}\\n\"\n",
    "      f\"subsample: {grid_search.best_params_['subsample']}\\n\"\n",
    "      f\"colsample_bytree: {grid_search.best_params_['colsample_bytree']}\\n\"\n",
    "      f\"gamma: {grid_search.best_params_['gamma']}\")\n"
   ]
  },
  {
   "cell_type": "markdown",
   "id": "8bb2cba4",
   "metadata": {},
   "source": [
    "- **Evaluate** XGBoost with the best hyperparameters."
   ]
  },
  {
   "cell_type": "code",
   "execution_count": null,
   "id": "6eb73907",
   "metadata": {},
   "outputs": [],
   "source": [
    "# Evaluate XGBoost model\n",
    "y_pred = best_xgb.predict(X_test)  # Make predictions on the test set\n",
    "\n",
    "# Print the classification report\n",
    "print(\"Classification Report for XGBoost:\")\n",
    "print(classification_report(y_test, y_pred))\n",
    "\n",
    "# Optionally, calculate other evaluation metrics like F1-Score, Accuracy\n",
    "f1 = f1_score(y_test, y_pred, average='weighted')\n",
    "accuracy = best_xgb.score(X_test, y_test)\n",
    "\n",
    "# Display the evaluation metrics\n",
    "print(f\"Weighted F1-Score: {f1:.4f}\")\n",
    "print(f\"Accuracy: {accuracy:.4f}\")\n",
    "\n",
    "# Confusion Matrix\n",
    "print(\"Confusion Matrix for XGBoost:\")\n",
    "cm = confusion_matrix(y_test, y_pred)\n",
    "\n",
    "# Plot the confusion matrix with a larger figure\n",
    "plt.figure(figsize=(16,12))  # Adjust the size of the figure\n",
    "sns.heatmap(cm, annot=True, fmt=\"d\", cmap=\"Blues\", xticklabels=range(len(cm)), yticklabels=range(len(cm)))\n",
    "plt.xlabel(\"Predicted\")\n",
    "plt.ylabel(\"True\")\n",
    "plt.title(\"Confusion Matrix for XGBoost\")\n",
    "plt.show()"
   ]
  },
  {
   "cell_type": "markdown",
   "id": "e64f37db",
   "metadata": {},
   "source": [
    "- **Save** the best XGBoost model."
   ]
  },
  {
   "cell_type": "code",
   "execution_count": null,
   "id": "9a2cfe6c",
   "metadata": {},
   "outputs": [],
   "source": [
    "# Print the path where the best XGBoost model will be saved\n",
    "print(f\"Saving the model to: {config.CLASSICAL_MODELS_DIR}\")\n",
    "\n",
    "try:\n",
    "    # Try to save the trained XGBoost model\n",
    "    with open(os.path.join(config.CLASSICAL_MODELS_DIR, \"best_xgb_model.pkl\"), \"wb\") as f:\n",
    "        pickle.dump(best_xgb, f)\n",
    "    print(\"\\nBest XGBoost model saved successfully.\")\n",
    "except Exception as e:\n",
    "    # In case of an error, print the error message\n",
    "    print(f\"\\nError occurred while saving the model: {e}\")\n",
    "\n"
   ]
  },
  {
   "cell_type": "markdown",
   "id": "9c31fcc7",
   "metadata": {},
   "source": [
    "### 3.7 Linear SVC\n",
    "\n",
    "To optimize the **Linear SVC** model, we perform a **GridSearchCV** on key hyperparameters, aiming to maximize the **weighted F1-score** to effectively handle class imbalances:\n",
    "\n",
    "- `C`: Regularization parameter. It controls the trade-off between achieving a low error on the training data and minimizing the model complexity. A lower `C` encourages a simpler model.\n",
    "- `max_iter`: The maximum number of iterations for the solver to converge. Higher values allow the model to converge better, especially for complex data.\n",
    "- `class_weight`: Balances the classes for imbalanced data (`balanced`, `None`).\n",
    "- `penalty`: Specifies the norm used in the penalization. Can be `'l1'` or `'l2'`. `l2` is the default and commonly used for Linear SVC.\n",
    "- `dual`: A boolean flag to choose between the primal or dual formulation. Typically, use `dual=True` for sparse data and `dual=False` for dense data.\n",
    "- `tol`: The tolerance for stopping criteria. Lower values result in higher precision but longer computation time."
   ]
  },
  {
   "cell_type": "markdown",
   "id": "bfa460d6",
   "metadata": {},
   "source": [
    "- **GridSearchCV** for Linear SVC"
   ]
  },
  {
   "cell_type": "code",
   "execution_count": null,
   "id": "601d6971",
   "metadata": {},
   "outputs": [],
   "source": [
    "# Define parameter grid for Linear SVC\n",
    "param_grid = {\n",
    "    'C': [0.1, 1, 10, 100],  # Regularization parameter\n",
    "    'max_iter': [1000, 2000, 3000],  # Maximum number of iterations for solver to converge\n",
    "    'class_weight': ['balanced', None],  # Handle class imbalance\n",
    "    'penalty': ['l2'],  # Penalty type (l1 or l2; l2 is commonly used)\n",
    "    'dual': [False],  # Typically use dual=False for dense data\n",
    "    'tol': [1e-4, 1e-3, 1e-2]  # Tolerance for stopping criteria\n",
    "}\n",
    "\n",
    "# Initialize the Linear SVC model\n",
    "linear_svc = LinearSVC()\n",
    "\n",
    "# Perform GridSearchCV based on 'weighted F1-score'\n",
    "grid_search = GridSearchCV(linear_svc, param_grid, cv=3, scoring='f1_weighted', n_jobs=-1)\n",
    "grid_search.fit(X_train, y_train)\n",
    "\n",
    "# Extract best model\n",
    "best_lsvc = grid_search.best_estimator_\n",
    "\n",
    "# Display best hyperparameters\n",
    "print(f\"Best Hyperparameters for Linear SVC: {grid_search.best_params_}\")\n"
   ]
  },
  {
   "cell_type": "markdown",
   "id": "8f918c6a",
   "metadata": {},
   "source": [
    "- **Re-train** Linear SVC with the best hyperparameters."
   ]
  },
  {
   "cell_type": "code",
   "execution_count": null,
   "id": "3b5d4729",
   "metadata": {},
   "outputs": [],
   "source": [
    "# After GridSearchCV has finished\n",
    "\n",
    "# Retrain Linear SVC with the best hyperparameters\n",
    "best_lsvc = LinearSVC(\n",
    "    C=grid_search.best_params_['C'],\n",
    "    max_iter=grid_search.best_params_['max_iter'],\n",
    "    class_weight=grid_search.best_params_['class_weight'],\n",
    "    penalty=grid_search.best_params_['penalty'],\n",
    "    dual=grid_search.best_params_['dual'],\n",
    "    tol=grid_search.best_params_['tol']\n",
    ")\n",
    "best_lsvc.fit(X_train, y_train)\n",
    "\n",
    "# Print the best hyperparameters used for retraining\n",
    "print(f\"Model retrained with the following best hyperparameters:\\n\"\n",
    "      f\"C: {grid_search.best_params_['C']}\\n\"\n",
    "      f\"max_iter: {grid_search.best_params_['max_iter']}\\n\"\n",
    "      f\"class_weight: {grid_search.best_params_['class_weight']}\\n\"\n",
    "      f\"penalty: {grid_search.best_params_['penalty']}\\n\"\n",
    "      f\"dual: {grid_search.best_params_['dual']}\\n\"\n",
    "      f\"tol: {grid_search.best_params_['tol']}\")"
   ]
  },
  {
   "cell_type": "markdown",
   "id": "67236422",
   "metadata": {},
   "source": [
    "- **Evaluate** Linear SVC with the best hyperparameters."
   ]
  },
  {
   "cell_type": "code",
   "execution_count": null,
   "id": "82384b3e",
   "metadata": {},
   "outputs": [],
   "source": [
    "# Evaluate Linear SVC model\n",
    "y_pred = best_lsvc.predict(X_test)  # Make predictions on the test set\n",
    "\n",
    "# Print the classification report\n",
    "print(\"Classification Report for Linear SVC:\")\n",
    "print(classification_report(y_test, y_pred))\n",
    "\n",
    "# Optionally, calculate other evaluation metrics like F1-Score, Accuracy\n",
    "f1 = f1_score(y_test, y_pred, average='weighted')\n",
    "accuracy = best_lsvc.score(X_test, y_test)\n",
    "\n",
    "# Display the evaluation metrics\n",
    "print(f\"Weighted F1-Score: {f1:.4f}\")\n",
    "print(f\"Accuracy: {accuracy:.4f}\")\n",
    "\n",
    "# Confusion Matrix\n",
    "print(\"Confusion Matrix for Linear SVC:\")\n",
    "cm = confusion_matrix(y_test, y_pred)\n",
    "\n",
    "# Plot the confusion matrix with a larger figure\n",
    "plt.figure(figsize=(16,12))  # Adjust the size of the figure\n",
    "sns.heatmap(cm, annot=True, fmt=\"d\", cmap=\"Blues\", xticklabels=range(len(cm)), yticklabels=range(len(cm)))\n",
    "plt.xlabel(\"Predicted\")\n",
    "plt.ylabel(\"True\")\n",
    "plt.title(\"Confusion Matrix for Linear SVC\")\n",
    "plt.show()"
   ]
  },
  {
   "cell_type": "markdown",
   "id": "28d0654e",
   "metadata": {},
   "source": [
    "- **Save** the best Linear SVC model."
   ]
  },
  {
   "cell_type": "code",
   "execution_count": null,
   "id": "fd08caa1",
   "metadata": {},
   "outputs": [],
   "source": [
    "# Print the path where the best Linear SVC model will be saved\n",
    "print(f\"Saving the model to: {config.CLASSICAL_MODELS_DIR}\")\n",
    "\n",
    "try:\n",
    "    # Try to save the trained Linear SVC model\n",
    "    with open(os.path.join(config.CLASSICAL_MODELS_DIR, \"best_lsvc_model.pkl\"), \"wb\") as f:\n",
    "        pickle.dump(best_lsvc, f)\n",
    "    print(\"\\nBest Linear SVC model saved successfully.\")\n",
    "except Exception as e:\n",
    "    # In case of an error, print the error message\n",
    "    print(f\"\\nError occurred while saving the model: {e}\")\n"
   ]
  },
  {
   "cell_type": "markdown",
   "id": "c78dbb24",
   "metadata": {},
   "source": [
    "## 4. Creating a Voting Classifier\n",
    "- **Combine** all the best models trained in the previous steps using a **Voting Classifier**.\n",
    "- Create a **hard voting** or **soft voting** strategy depending on the models' compatibility with `predict_proba()`."
   ]
  },
  {
   "cell_type": "code",
   "execution_count": null,
   "id": "515e4ac8",
   "metadata": {},
   "outputs": [],
   "source": [
    "# List of the best models from the previous steps\n",
    "models = [\n",
    "    ('lr', best_lr),  # Logistic Regression\n",
    "    ('svm', best_svm),  # Support Vector Machine\n",
    "    ('rf', best_rf),  # Random Forest\n",
    "    ('knn', best_knn),  # K-Neighbors Classifier\n",
    "    ('dt', best_dt),  # Decision Tree\n",
    "    ('xgb', best_xgb),  # XGBoost\n",
    "    ('lsvc', best_lsvc)  # Linear SVC\n",
    "]\n",
    "\n",
    "# Check if any model supports predict_proba(), which is required for soft voting\n",
    "if any([hasattr(model[1], 'predict_proba') for model in models]):\n",
    "    voting_clf = VotingClassifier(estimators=models, voting='soft')  # Soft voting\n",
    "else:\n",
    "    voting_clf = VotingClassifier(estimators=models, voting='hard')  # Hard voting\n",
    "\n",
    "# Train the Voting Classifier\n",
    "voting_clf.fit(X_train, y_train)\n",
    "\n",
    "# Optionally, save the Voting Classifier\n",
    "with open(os.path.join(config.MODELS_DIR, \"voting_clf_model.pkl\"), \"wb\") as f:\n",
    "    pickle.dump(voting_clf, f)\n",
    "\n",
    "print(f\"Voting Classifier trained with {'soft' if voting_clf.voting == 'soft' else 'hard'} voting and saved.\")\n"
   ]
  },
  {
   "cell_type": "markdown",
   "id": "b67f7b15",
   "metadata": {},
   "source": [
    "- **Evaluate** Voting Classifier with the best models."
   ]
  },
  {
   "cell_type": "code",
   "execution_count": null,
   "id": "51996cd2",
   "metadata": {},
   "outputs": [],
   "source": [
    "# Evaluate Voting Classifier model\n",
    "y_pred = voting_clf.predict(X_test)  # Make predictions on the test set\n",
    "\n",
    "# Print the classification report\n",
    "print(\"Classification Report for Voting Classifier:\")\n",
    "print(classification_report(y_test, y_pred))\n",
    "\n",
    "# Optionally, calculate other evaluation metrics like F1-Score, Accuracy\n",
    "f1 = f1_score(y_test, y_pred, average='weighted')\n",
    "accuracy = voting_clf.score(X_test, y_test)\n",
    "\n",
    "# Display the evaluation metrics\n",
    "print(f\"Weighted F1-Score: {f1:.4f}\")\n",
    "print(f\"Accuracy: {accuracy:.4f}\")\n",
    "\n",
    "# Confusion Matrix\n",
    "print(\"Confusion Matrix for Voting Classifier:\")\n",
    "cm = confusion_matrix(y_test, y_pred)\n",
    "\n",
    "# Plot the confusion matrix with a larger figure\n",
    "plt.figure(figsize=(16,12))  # Adjust the size of the figure\n",
    "sns.heatmap(cm, annot=True, fmt=\"d\", cmap=\"Blues\", xticklabels=range(len(cm)), yticklabels=range(len(cm)))\n",
    "plt.xlabel(\"Predicted\")\n",
    "plt.ylabel(\"True\")\n",
    "plt.title(\"Confusion Matrix for Voting Classifier\")\n",
    "plt.show()"
   ]
  },
  {
   "cell_type": "markdown",
   "id": "623768dd",
   "metadata": {},
   "source": [
    "## 5. Model Comparison and Selection\n",
    "- **Compare** the performance of each individual model and the **Voting Classifier** using metrics like the **weighted F1-score**.\n",
    "- Select the best-performing model for further use or future deployment."
   ]
  },
  {
   "cell_type": "code",
   "execution_count": null,
   "id": "cff325f8",
   "metadata": {},
   "outputs": [],
   "source": [
    "from sklearn.metrics import classification_report, f1_score\n",
    "\n",
    "# Create a dictionary to store the models and their respective predictions\n",
    "models = {\n",
    "    'Logistic Regression': best_lr,\n",
    "    'SVM': best_svm,\n",
    "    'Random Forest': best_rf,\n",
    "    'K-Neighbors': best_knn,\n",
    "    'Decision Tree': best_dt,\n",
    "    'XGBoost': best_xgb,\n",
    "    'Linear SVC': best_lsvc,\n",
    "    'Voting Classifier': voting_clf  # The Voting Classifier\n",
    "}\n",
    "\n",
    "# Initialize an empty dictionary to store the weighted F1 scores\n",
    "f1_scores = {}\n",
    "\n",
    "# Compare the performance of each model on the test set\n",
    "for model_name, model in models.items():\n",
    "    # Make predictions using the model\n",
    "    y_pred = model.predict(X_test)\n",
    "    \n",
    "    # Calculate the weighted F1-score for the model\n",
    "    f1 = f1_score(y_test, y_pred, average='weighted')\n",
    "    f1_scores[model_name] = f1\n",
    "\n",
    "    # Print the classification report for each model\n",
    "    print(f\"Classification Report for {model_name}:\\n\")\n",
    "    print(classification_report(y_test, y_pred))\n",
    "\n",
    "# Select the best-performing model based on the weighted F1-score\n",
    "best_model_name = max(f1_scores, key=f1_scores.get)\n",
    "best_model = models[best_model_name]\n",
    "\n",
    "print(f\"\\nBest model based on weighted F1-score: {best_model_name} with a score of {f1_scores[best_model_name]:.4f}\")\n"
   ]
  },
  {
   "cell_type": "markdown",
   "id": "18d4b10d",
   "metadata": {},
   "source": [
    "### Display the Mapping Between Encoded Labels and Original Classes\n",
    "Before saving the best model, let's display the correspondence between the **encoded labels** (0-26) and their **original classes**. This will help us understand the mapping of the product categories in the context of our model's predictions."
   ]
  },
  {
   "cell_type": "code",
   "execution_count": null,
   "id": "e7e764b6",
   "metadata": {},
   "outputs": [],
   "source": [
    "# Print the path where the label mapping file will be loaded from\n",
    "print(f\"Loading the label mapping from: {config.PRDTYPECODE_MAPPING_PATH}\")\n",
    "\n",
    "try:\n",
    "    # Load the label mapping from the pickle file (Encoded Label → Original Class)\n",
    "    with open(config.PRDTYPECODE_MAPPING_PATH, 'rb') as f:\n",
    "        prdtypecode_mapping = pickle.load(f)\n",
    "\n",
    "    # The DataFrame has already the three columns: \"Original prdtypecode\", \"Encoded target\", and \"Label\"\n",
    "    mapping_df = prdtypecode_mapping  # Since it's already a DataFrame\n",
    "\n",
    "    # Display the first 5 rows of the DataFrame after loading\n",
    "    print(\"Label mapping loaded from pickle file:\")\n",
    "    print(mapping_df.head())\n",
    "\n",
    "    # Predict using the best model (selected based on weighted F1-score)\n",
    "    y_pred_best_model = best_model.predict(X_test)  # Make predictions with the best model\n",
    "\n",
    "    # Create a DataFrame to display the classification report and results for each class\n",
    "    classification_results = classification_report(y_test, y_pred_best_model, output_dict=True)\n",
    "    classification_results_df = pd.DataFrame(classification_results).transpose()\n",
    "\n",
    "    # Merge the classification results with the mapping\n",
    "    classification_results_with_mapping = pd.merge(classification_results_df, mapping_df, \n",
    "                                                   left_index=True, right_on=\"Encoded target\", how=\"left\")\n",
    "\n",
    "    # Display the table showing classification results and the corresponding classes\n",
    "    print(\"Classification Report with Encoded Labels and Their Original Classes:\\n\")\n",
    "    print(classification_results_with_mapping)\n",
    "\n",
    "except Exception as e:\n",
    "    # In case of an error, print the error message\n",
    "    print(f\"\\nError occurred while loading the label mapping: {e}\")\n"
   ]
  },
  {
   "cell_type": "markdown",
   "id": "afab8b72",
   "metadata": {},
   "source": [
    "## 6. Saving the Best Model \n",
    "- **Save** the best model (Voting Classifier or other) for future use and potential deployment."
   ]
  },
  {
   "cell_type": "code",
   "execution_count": null,
   "id": "794ce850",
   "metadata": {},
   "outputs": [],
   "source": [
    "# Print the path where the best model will be saved\n",
    "best_model_path = os.path.join(config.CLASSICAL_MODELS_DIR, \"best_model.pkl\")\n",
    "print(f\"Saving the best model to: {best_model_path}\")\n",
    "\n",
    "try:\n",
    "    # Try to save the best model (Voting Classifier or another model)\n",
    "    with open(best_model_path, \"wb\") as f:\n",
    "        pickle.dump(best_model, f)\n",
    "    print(f\"\\nThe best model has been saved successfully at: {best_model_path}\")\n",
    "except Exception as e:\n",
    "    # In case of an error, print the error message\n",
    "    print(f\"\\nError occurred while saving the best model: {e}\")\n"
   ]
  },
  {
   "cell_type": "markdown",
   "id": "c9c65f92",
   "metadata": {},
   "source": [
    "## 7. 🔄 Next Steps"
   ]
  },
  {
   "cell_type": "code",
   "execution_count": null,
   "id": "3056a37f",
   "metadata": {},
   "outputs": [],
   "source": []
  }
 ],
 "metadata": {
  "kernelspec": {
   "display_name": "Python 3 (ipykernel)",
   "language": "python",
   "name": "python3"
  },
  "language_info": {
   "codemirror_mode": {
    "name": "ipython",
    "version": 3
   },
   "file_extension": ".py",
   "mimetype": "text/x-python",
   "name": "python",
   "nbconvert_exporter": "python",
   "pygments_lexer": "ipython3",
   "version": "3.8.13"
  }
 },
 "nbformat": 4,
 "nbformat_minor": 5
}
