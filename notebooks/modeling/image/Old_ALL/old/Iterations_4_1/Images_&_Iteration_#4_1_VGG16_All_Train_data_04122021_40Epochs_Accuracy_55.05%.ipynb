{
 "cells": [
  {
   "cell_type": "markdown",
   "id": "52297852",
   "metadata": {
    "id": "52297852"
   },
   "source": [
    "# VGG16 : Images - Iteration #4_1(Augementation)"
   ]
  },
  {
   "cell_type": "markdown",
   "id": "de8ac5e3-868d-4b28-aa90-b48782e8228b",
   "metadata": {
    "colab": {
     "base_uri": "https://localhost:8080/"
    },
    "executionInfo": {
     "elapsed": 36601,
     "status": "ok",
     "timestamp": 1634378528407,
     "user": {
      "displayName": "Mourad Mecheri",
      "photoUrl": "https://lh3.googleusercontent.com/a/default-user=s64",
      "userId": "08453845245011476141"
     },
     "user_tz": -120
    },
    "id": "1e9b5add",
    "outputId": "d60de11d-99b4-4e1d-8bc9-dcbf79ea2a8a"
   },
   "source": [
    "img_rows = 224 <br>\n",
    "img_cols = 224 <br>\n",
    "batch_size =  64 <br>\n",
    "epochs = 40 <br>\n",
    "Train set size = 67933 <br>\n",
    "Valid set size = 16983 <br>\n",
    "Data augmentation <br>\n",
    "No unfreezing of base model layers <br>"
   ]
  },
  {
   "cell_type": "markdown",
   "id": "ab9bd483-9e64-4f8d-ae07-852775986467",
   "metadata": {
    "colab": {
     "base_uri": "https://localhost:8080/"
    },
    "executionInfo": {
     "elapsed": 260,
     "status": "ok",
     "timestamp": 1634378530664,
     "user": {
      "displayName": "Mourad Mecheri",
      "photoUrl": "https://lh3.googleusercontent.com/a/default-user=s64",
      "userId": "08453845245011476141"
     },
     "user_tz": -120
    },
    "id": "e73203dd",
    "outputId": "280340aa-ec7d-4a46-957a-2bc8a930dd27"
   },
   "source": [
    "**<u>Results</u>**"
   ]
  },
  {
   "cell_type": "markdown",
   "id": "f083ab52-c7ea-42ce-84ee-5c940b163853",
   "metadata": {},
   "source": [
    "Accuracy : 0.55 <br>\n",
    "F1 score weighted : 0.54"
   ]
  },
  {
   "cell_type": "markdown",
   "id": "27545775",
   "metadata": {
    "id": "27545775"
   },
   "source": [
    "**Import packages**"
   ]
  },
  {
   "cell_type": "code",
   "execution_count": 1,
   "id": "19034d01",
   "metadata": {},
   "outputs": [],
   "source": [
    "import os\n",
    "import glob\n",
    "import pandas as pd\n",
    "import numpy as np\n",
    "import cv2\n",
    "import matplotlib\n",
    "%matplotlib inline\n",
    "import matplotlib.pyplot as plt\n",
    "import seaborn as sns\n",
    "from tqdm import tqdm\n",
    "from tqdm.notebook import tqdm_notebook\n",
    "import re\n",
    "tqdm_notebook.pandas()\n",
    "import tensorflow as tf\n",
    "#from tensorflow import keras\n",
    "from tensorflow.keras.models import load_model\n",
    "from tensorflow.keras.models import Sequential\n",
    "from tensorflow.keras.layers import Dense, Activation\n",
    "from tensorflow.keras.layers import Dropout\n",
    "from tensorflow.keras.layers import Flatten\n",
    "from tensorflow.keras.layers import GlobalAveragePooling2D\n",
    "from tensorflow.keras.layers import Conv2D\n",
    "from tensorflow.keras.layers import MaxPooling2D\n",
    "from tensorflow.keras.callbacks import ModelCheckpoint, EarlyStopping\n",
    "from tensorflow.keras.applications.vgg16 import VGG16\n",
    "from tensorflow.keras.applications.resnet50 import ResNet50\n",
    "from tensorflow.keras.models import Model\n",
    "from tensorflow.keras.applications.vgg16 import preprocess_input\n",
    "from tensorflow.keras.applications.vgg16 import decode_predictions\n",
    "from tensorflow.keras.preprocessing.image import ImageDataGenerator\n",
    "from tensorflow.keras.preprocessing import image\n",
    "from keras.utils import np_utils\n",
    "from sklearn.model_selection import train_test_split\n",
    "from sklearn import metrics\n",
    "import itertools\n",
    "import pickle\n",
    "from joblib import dump, load"
   ]
  },
  {
   "cell_type": "markdown",
   "id": "d7a3fcab",
   "metadata": {
    "id": "d7a3fcab"
   },
   "source": [
    "# Iteration #4 -  VGG16"
   ]
  },
  {
   "cell_type": "markdown",
   "id": "1f1a3dea",
   "metadata": {
    "id": "1f1a3dea"
   },
   "source": [
    "***Read DataFrame from saved pickele file - image Train set***"
   ]
  },
  {
   "cell_type": "code",
   "execution_count": 2,
   "id": "8ef548a9",
   "metadata": {
    "executionInfo": {
     "elapsed": 2626,
     "status": "ok",
     "timestamp": 1634378559079,
     "user": {
      "displayName": "Mourad Mecheri",
      "photoUrl": "https://lh3.googleusercontent.com/a/default-user=s64",
      "userId": "08453845245011476141"
     },
     "user_tz": -120
    },
    "id": "8ef548a9"
   },
   "outputs": [],
   "source": [
    "#Load df of images already resized on 256 x 256 \n",
    "df_train_im = pd.read_pickle(\"./saves/df_save/df_train_combined_19102021.pkl\")\n",
    "\n",
    "#Load df of images with org size 500 x 500\n",
    "#df_train_im = pd.read_pickle(\"./saves/df_save/df_train_combined_ORG_im_size_23112021.pkl\")"
   ]
  },
  {
   "cell_type": "code",
   "execution_count": 3,
   "id": "d271de78",
   "metadata": {
    "colab": {
     "base_uri": "https://localhost:8080/",
     "height": 555
    },
    "executionInfo": {
     "elapsed": 215,
     "status": "ok",
     "timestamp": 1634378561433,
     "user": {
      "displayName": "Mourad Mecheri",
      "photoUrl": "https://lh3.googleusercontent.com/a/default-user=s64",
      "userId": "08453845245011476141"
     },
     "user_tz": -120
    },
    "id": "d271de78",
    "outputId": "b2453020-a8b0-4923-c3d2-d20479365c7a"
   },
   "outputs": [
    {
     "data": {
      "text/html": [
       "<div>\n",
       "<style scoped>\n",
       "    .dataframe tbody tr th:only-of-type {\n",
       "        vertical-align: middle;\n",
       "    }\n",
       "\n",
       "    .dataframe tbody tr th {\n",
       "        vertical-align: top;\n",
       "    }\n",
       "\n",
       "    .dataframe thead th {\n",
       "        text-align: right;\n",
       "    }\n",
       "</style>\n",
       "<table border=\"1\" class=\"dataframe\">\n",
       "  <thead>\n",
       "    <tr style=\"text-align: right;\">\n",
       "      <th></th>\n",
       "      <th>designation</th>\n",
       "      <th>description</th>\n",
       "      <th>productid</th>\n",
       "      <th>imageid</th>\n",
       "      <th>prdtypecode</th>\n",
       "      <th>imagePath</th>\n",
       "    </tr>\n",
       "  </thead>\n",
       "  <tbody>\n",
       "    <tr>\n",
       "      <th>0</th>\n",
       "      <td>Olivia: Personalisiertes Notizbuch / 150 Seite...</td>\n",
       "      <td>NaN</td>\n",
       "      <td>3804725264</td>\n",
       "      <td>1263597046</td>\n",
       "      <td>10</td>\n",
       "      <td>resized_image_1263597046_product_3804725264.jpg</td>\n",
       "    </tr>\n",
       "    <tr>\n",
       "      <th>1</th>\n",
       "      <td>Journal Des Arts (Le) N° 133 Du 28/09/2001 - L...</td>\n",
       "      <td>NaN</td>\n",
       "      <td>436067568</td>\n",
       "      <td>1008141237</td>\n",
       "      <td>2280</td>\n",
       "      <td>resized_image_1008141237_product_436067568.jpg</td>\n",
       "    </tr>\n",
       "    <tr>\n",
       "      <th>2</th>\n",
       "      <td>Grand Stylet Ergonomique Bleu Gamepad Nintendo...</td>\n",
       "      <td>PILOT STYLE Touch Pen de marque Speedlink est ...</td>\n",
       "      <td>201115110</td>\n",
       "      <td>938777978</td>\n",
       "      <td>50</td>\n",
       "      <td>resized_image_938777978_product_201115110.jpg</td>\n",
       "    </tr>\n",
       "    <tr>\n",
       "      <th>3</th>\n",
       "      <td>Peluche Donald - Europe - Disneyland 2000 (Mar...</td>\n",
       "      <td>NaN</td>\n",
       "      <td>50418756</td>\n",
       "      <td>457047496</td>\n",
       "      <td>1280</td>\n",
       "      <td>resized_image_457047496_product_50418756.jpg</td>\n",
       "    </tr>\n",
       "    <tr>\n",
       "      <th>4</th>\n",
       "      <td>La Guerre Des Tuques</td>\n",
       "      <td>Luc a des id&amp;eacute;es de grandeur. Il veut or...</td>\n",
       "      <td>278535884</td>\n",
       "      <td>1077757786</td>\n",
       "      <td>2705</td>\n",
       "      <td>resized_image_1077757786_product_278535884.jpg</td>\n",
       "    </tr>\n",
       "    <tr>\n",
       "      <th>...</th>\n",
       "      <td>...</td>\n",
       "      <td>...</td>\n",
       "      <td>...</td>\n",
       "      <td>...</td>\n",
       "      <td>...</td>\n",
       "      <td>...</td>\n",
       "    </tr>\n",
       "    <tr>\n",
       "      <th>84911</th>\n",
       "      <td>The Sims [ Import Anglais ]</td>\n",
       "      <td>NaN</td>\n",
       "      <td>206719094</td>\n",
       "      <td>941495734</td>\n",
       "      <td>40</td>\n",
       "      <td>resized_image_941495734_product_206719094.jpg</td>\n",
       "    </tr>\n",
       "    <tr>\n",
       "      <th>84912</th>\n",
       "      <td>Kit piscine acier NEVADA déco pierre Ø 3.50m x...</td>\n",
       "      <td>&lt;b&gt;Description complète :&lt;/b&gt;&lt;br /&gt;Kit piscine...</td>\n",
       "      <td>3065095706</td>\n",
       "      <td>1188462883</td>\n",
       "      <td>2583</td>\n",
       "      <td>resized_image_1188462883_product_3065095706.jpg</td>\n",
       "    </tr>\n",
       "    <tr>\n",
       "      <th>84913</th>\n",
       "      <td>Journal Officiel De La Republique Francaise N°...</td>\n",
       "      <td>NaN</td>\n",
       "      <td>440707564</td>\n",
       "      <td>1009325617</td>\n",
       "      <td>2280</td>\n",
       "      <td>resized_image_1009325617_product_440707564.jpg</td>\n",
       "    </tr>\n",
       "    <tr>\n",
       "      <th>84914</th>\n",
       "      <td>Table Basse Bois De Récupération Massif Base B...</td>\n",
       "      <td>&lt;p&gt;Cette table basse a un design unique et con...</td>\n",
       "      <td>3942400296</td>\n",
       "      <td>1267353403</td>\n",
       "      <td>1560</td>\n",
       "      <td>resized_image_1267353403_product_3942400296.jpg</td>\n",
       "    </tr>\n",
       "    <tr>\n",
       "      <th>84915</th>\n",
       "      <td>Gomme De Collection 2 Gommes Pinguin Glace Ver...</td>\n",
       "      <td>NaN</td>\n",
       "      <td>57203227</td>\n",
       "      <td>684671297</td>\n",
       "      <td>2522</td>\n",
       "      <td>resized_image_684671297_product_57203227.jpg</td>\n",
       "    </tr>\n",
       "  </tbody>\n",
       "</table>\n",
       "<p>84916 rows × 6 columns</p>\n",
       "</div>"
      ],
      "text/plain": [
       "                                             designation  \\\n",
       "0      Olivia: Personalisiertes Notizbuch / 150 Seite...   \n",
       "1      Journal Des Arts (Le) N° 133 Du 28/09/2001 - L...   \n",
       "2      Grand Stylet Ergonomique Bleu Gamepad Nintendo...   \n",
       "3      Peluche Donald - Europe - Disneyland 2000 (Mar...   \n",
       "4                                   La Guerre Des Tuques   \n",
       "...                                                  ...   \n",
       "84911                        The Sims [ Import Anglais ]   \n",
       "84912  Kit piscine acier NEVADA déco pierre Ø 3.50m x...   \n",
       "84913  Journal Officiel De La Republique Francaise N°...   \n",
       "84914  Table Basse Bois De Récupération Massif Base B...   \n",
       "84915  Gomme De Collection 2 Gommes Pinguin Glace Ver...   \n",
       "\n",
       "                                             description   productid  \\\n",
       "0                                                    NaN  3804725264   \n",
       "1                                                    NaN   436067568   \n",
       "2      PILOT STYLE Touch Pen de marque Speedlink est ...   201115110   \n",
       "3                                                    NaN    50418756   \n",
       "4      Luc a des id&eacute;es de grandeur. Il veut or...   278535884   \n",
       "...                                                  ...         ...   \n",
       "84911                                                NaN   206719094   \n",
       "84912  <b>Description complète :</b><br />Kit piscine...  3065095706   \n",
       "84913                                                NaN   440707564   \n",
       "84914  <p>Cette table basse a un design unique et con...  3942400296   \n",
       "84915                                                NaN    57203227   \n",
       "\n",
       "          imageid  prdtypecode  \\\n",
       "0      1263597046           10   \n",
       "1      1008141237         2280   \n",
       "2       938777978           50   \n",
       "3       457047496         1280   \n",
       "4      1077757786         2705   \n",
       "...           ...          ...   \n",
       "84911   941495734           40   \n",
       "84912  1188462883         2583   \n",
       "84913  1009325617         2280   \n",
       "84914  1267353403         1560   \n",
       "84915   684671297         2522   \n",
       "\n",
       "                                             imagePath  \n",
       "0      resized_image_1263597046_product_3804725264.jpg  \n",
       "1       resized_image_1008141237_product_436067568.jpg  \n",
       "2        resized_image_938777978_product_201115110.jpg  \n",
       "3         resized_image_457047496_product_50418756.jpg  \n",
       "4       resized_image_1077757786_product_278535884.jpg  \n",
       "...                                                ...  \n",
       "84911    resized_image_941495734_product_206719094.jpg  \n",
       "84912  resized_image_1188462883_product_3065095706.jpg  \n",
       "84913   resized_image_1009325617_product_440707564.jpg  \n",
       "84914  resized_image_1267353403_product_3942400296.jpg  \n",
       "84915     resized_image_684671297_product_57203227.jpg  \n",
       "\n",
       "[84916 rows x 6 columns]"
      ]
     },
     "execution_count": 3,
     "metadata": {},
     "output_type": "execute_result"
    }
   ],
   "source": [
    "df_train_im"
   ]
  },
  {
   "cell_type": "code",
   "execution_count": 4,
   "id": "d43d8189",
   "metadata": {
    "colab": {
     "base_uri": "https://localhost:8080/",
     "height": 34
    },
    "executionInfo": {
     "elapsed": 365,
     "status": "ok",
     "timestamp": 1633375281687,
     "user": {
      "displayName": "Mourad Mecheri",
      "photoUrl": "https://lh3.googleusercontent.com/a/default-user=s64",
      "userId": "08453845245011476141"
     },
     "user_tz": -120
    },
    "id": "d43d8189",
    "outputId": "cd6e3476-38e6-487b-9f0f-e2ed5db1538f"
   },
   "outputs": [
    {
     "data": {
      "text/plain": [
       "(84916, 6)"
      ]
     },
     "metadata": {},
     "output_type": "display_data"
    }
   ],
   "source": [
    "display(df_train_im.shape)"
   ]
  },
  {
   "cell_type": "markdown",
   "id": "4b280c4e-c103-4c03-9a6b-e95df66f39d2",
   "metadata": {},
   "source": [
    "***Create Dataframe containing  product classes and their associated labels***"
   ]
  },
  {
   "cell_type": "code",
   "execution_count": 6,
   "id": "409045cd",
   "metadata": {},
   "outputs": [
    {
     "data": {
      "text/html": [
       "<div>\n",
       "<style scoped>\n",
       "    .dataframe tbody tr th:only-of-type {\n",
       "        vertical-align: middle;\n",
       "    }\n",
       "\n",
       "    .dataframe tbody tr th {\n",
       "        vertical-align: top;\n",
       "    }\n",
       "\n",
       "    .dataframe thead th {\n",
       "        text-align: right;\n",
       "    }\n",
       "</style>\n",
       "<table border=\"1\" class=\"dataframe\">\n",
       "  <thead>\n",
       "    <tr style=\"text-align: right;\">\n",
       "      <th></th>\n",
       "      <th>prdtypecode</th>\n",
       "      <th>Label</th>\n",
       "    </tr>\n",
       "  </thead>\n",
       "  <tbody>\n",
       "    <tr>\n",
       "      <th>0</th>\n",
       "      <td>50</td>\n",
       "      <td>video games accessories</td>\n",
       "    </tr>\n",
       "    <tr>\n",
       "      <th>1</th>\n",
       "      <td>2705</td>\n",
       "      <td>books</td>\n",
       "    </tr>\n",
       "    <tr>\n",
       "      <th>2</th>\n",
       "      <td>2522</td>\n",
       "      <td>stationery</td>\n",
       "    </tr>\n",
       "    <tr>\n",
       "      <th>3</th>\n",
       "      <td>2582</td>\n",
       "      <td>kitchen and garden</td>\n",
       "    </tr>\n",
       "    <tr>\n",
       "      <th>4</th>\n",
       "      <td>1560</td>\n",
       "      <td>interior furniture and bedding</td>\n",
       "    </tr>\n",
       "    <tr>\n",
       "      <th>5</th>\n",
       "      <td>1281</td>\n",
       "      <td>board games</td>\n",
       "    </tr>\n",
       "    <tr>\n",
       "      <th>6</th>\n",
       "      <td>1920</td>\n",
       "      <td>interior accessories</td>\n",
       "    </tr>\n",
       "    <tr>\n",
       "      <th>7</th>\n",
       "      <td>1280</td>\n",
       "      <td>toys for children</td>\n",
       "    </tr>\n",
       "    <tr>\n",
       "      <th>8</th>\n",
       "      <td>1140</td>\n",
       "      <td>goodies</td>\n",
       "    </tr>\n",
       "    <tr>\n",
       "      <th>9</th>\n",
       "      <td>1300</td>\n",
       "      <td>remote controlled models</td>\n",
       "    </tr>\n",
       "    <tr>\n",
       "      <th>10</th>\n",
       "      <td>2060</td>\n",
       "      <td>decoration interior</td>\n",
       "    </tr>\n",
       "    <tr>\n",
       "      <th>11</th>\n",
       "      <td>2583</td>\n",
       "      <td>piscine spa</td>\n",
       "    </tr>\n",
       "    <tr>\n",
       "      <th>12</th>\n",
       "      <td>60</td>\n",
       "      <td>games and consoles</td>\n",
       "    </tr>\n",
       "    <tr>\n",
       "      <th>13</th>\n",
       "      <td>1320</td>\n",
       "      <td>early childhood</td>\n",
       "    </tr>\n",
       "    <tr>\n",
       "      <th>14</th>\n",
       "      <td>2280</td>\n",
       "      <td>magazines</td>\n",
       "    </tr>\n",
       "    <tr>\n",
       "      <th>15</th>\n",
       "      <td>1302</td>\n",
       "      <td>kids toys</td>\n",
       "    </tr>\n",
       "    <tr>\n",
       "      <th>16</th>\n",
       "      <td>2220</td>\n",
       "      <td>supplies for domestic animals</td>\n",
       "    </tr>\n",
       "    <tr>\n",
       "      <th>17</th>\n",
       "      <td>40</td>\n",
       "      <td>imported video games</td>\n",
       "    </tr>\n",
       "    <tr>\n",
       "      <th>18</th>\n",
       "      <td>2905</td>\n",
       "      <td>online distribution of video games</td>\n",
       "    </tr>\n",
       "    <tr>\n",
       "      <th>19</th>\n",
       "      <td>2585</td>\n",
       "      <td>gardening and DIY</td>\n",
       "    </tr>\n",
       "    <tr>\n",
       "      <th>20</th>\n",
       "      <td>1940</td>\n",
       "      <td>Food</td>\n",
       "    </tr>\n",
       "    <tr>\n",
       "      <th>21</th>\n",
       "      <td>1160</td>\n",
       "      <td>playing cards</td>\n",
       "    </tr>\n",
       "    <tr>\n",
       "      <th>22</th>\n",
       "      <td>1301</td>\n",
       "      <td>accessories children</td>\n",
       "    </tr>\n",
       "    <tr>\n",
       "      <th>23</th>\n",
       "      <td>10</td>\n",
       "      <td>adult books</td>\n",
       "    </tr>\n",
       "    <tr>\n",
       "      <th>24</th>\n",
       "      <td>1180</td>\n",
       "      <td>figurines_wargames</td>\n",
       "    </tr>\n",
       "    <tr>\n",
       "      <th>25</th>\n",
       "      <td>2403</td>\n",
       "      <td>children books</td>\n",
       "    </tr>\n",
       "    <tr>\n",
       "      <th>26</th>\n",
       "      <td>2462</td>\n",
       "      <td>games</td>\n",
       "    </tr>\n",
       "  </tbody>\n",
       "</table>\n",
       "</div>"
      ],
      "text/plain": [
       "    prdtypecode                               Label\n",
       "0            50             video games accessories\n",
       "1          2705                               books\n",
       "2          2522                          stationery\n",
       "3          2582                  kitchen and garden\n",
       "4          1560      interior furniture and bedding\n",
       "5          1281                         board games\n",
       "6          1920                interior accessories\n",
       "7          1280                   toys for children\n",
       "8          1140                             goodies\n",
       "9          1300            remote controlled models\n",
       "10         2060                 decoration interior\n",
       "11         2583                         piscine spa\n",
       "12           60                  games and consoles\n",
       "13         1320                     early childhood\n",
       "14         2280                           magazines\n",
       "15         1302                           kids toys\n",
       "16         2220       supplies for domestic animals\n",
       "17           40                imported video games\n",
       "18         2905  online distribution of video games\n",
       "19         2585                   gardening and DIY\n",
       "20         1940                                Food\n",
       "21         1160                       playing cards\n",
       "22         1301                accessories children\n",
       "23           10                         adult books\n",
       "24         1180                  figurines_wargames\n",
       "25         2403                      children books\n",
       "26         2462                               games"
      ]
     },
     "execution_count": 6,
     "metadata": {},
     "output_type": "execute_result"
    }
   ],
   "source": [
    "#Dictionary of prdtypecode and their corresponding categories\n",
    "dict_prdtypecode = {\"prdtypecode\" : [50, 2705, 2522, 2582, 1560, 1281, 1920, 1280, 1140, 1300, 2060, 2583,\n",
    "                                     60, 1320, 2280, 1302, 2220, 40, 2905, 2585, 1940, 1160, 1301, 10, 1180,\n",
    "                                     2403, 2462],                 \n",
    "            \n",
    "                    \"Label\" : [\"video games accessories\", \"books\", \"stationery\", \"kitchen and garden\", \n",
    "                               \"interior furniture and bedding\", \"board games\", \"interior accessories\",\n",
    "                               \"toys for children\",\"goodies\", \"remote controlled models\", \"decoration interior\",\n",
    "                               \"piscine spa\",\"games and consoles\", \"early childhood\", \"magazines\", \"kids toys\",\n",
    "                               \"supplies for domestic animals\", \"imported video games\", \"online distribution of video games\",\n",
    "                               \"gardening and DIY\",\"Food\",\"playing cards\", \"accessories children\", \"adult books\",\n",
    "                               \"figurines_wargames\", \"children books\",\n",
    "                                \"games\"]\n",
    "                   }\n",
    "df_class = pd.DataFrame(data=dict_prdtypecode)\n",
    "df_class"
   ]
  },
  {
   "cell_type": "code",
   "execution_count": 7,
   "id": "eb145fc7",
   "metadata": {},
   "outputs": [
    {
     "data": {
      "text/html": [
       "<div>\n",
       "<style scoped>\n",
       "    .dataframe tbody tr th:only-of-type {\n",
       "        vertical-align: middle;\n",
       "    }\n",
       "\n",
       "    .dataframe tbody tr th {\n",
       "        vertical-align: top;\n",
       "    }\n",
       "\n",
       "    .dataframe thead th {\n",
       "        text-align: right;\n",
       "    }\n",
       "</style>\n",
       "<table border=\"1\" class=\"dataframe\">\n",
       "  <thead>\n",
       "    <tr style=\"text-align: right;\">\n",
       "      <th></th>\n",
       "      <th>prdtypecode</th>\n",
       "      <th>Label</th>\n",
       "      <th>target_prdtypecode</th>\n",
       "    </tr>\n",
       "  </thead>\n",
       "  <tbody>\n",
       "    <tr>\n",
       "      <th>23</th>\n",
       "      <td>10</td>\n",
       "      <td>adult books</td>\n",
       "      <td>0</td>\n",
       "    </tr>\n",
       "    <tr>\n",
       "      <th>17</th>\n",
       "      <td>40</td>\n",
       "      <td>imported video games</td>\n",
       "      <td>1</td>\n",
       "    </tr>\n",
       "    <tr>\n",
       "      <th>0</th>\n",
       "      <td>50</td>\n",
       "      <td>video games accessories</td>\n",
       "      <td>2</td>\n",
       "    </tr>\n",
       "    <tr>\n",
       "      <th>12</th>\n",
       "      <td>60</td>\n",
       "      <td>games and consoles</td>\n",
       "      <td>3</td>\n",
       "    </tr>\n",
       "    <tr>\n",
       "      <th>8</th>\n",
       "      <td>1140</td>\n",
       "      <td>goodies</td>\n",
       "      <td>4</td>\n",
       "    </tr>\n",
       "    <tr>\n",
       "      <th>21</th>\n",
       "      <td>1160</td>\n",
       "      <td>playing cards</td>\n",
       "      <td>5</td>\n",
       "    </tr>\n",
       "    <tr>\n",
       "      <th>24</th>\n",
       "      <td>1180</td>\n",
       "      <td>figurines_wargames</td>\n",
       "      <td>6</td>\n",
       "    </tr>\n",
       "    <tr>\n",
       "      <th>7</th>\n",
       "      <td>1280</td>\n",
       "      <td>toys for children</td>\n",
       "      <td>7</td>\n",
       "    </tr>\n",
       "    <tr>\n",
       "      <th>5</th>\n",
       "      <td>1281</td>\n",
       "      <td>board games</td>\n",
       "      <td>8</td>\n",
       "    </tr>\n",
       "    <tr>\n",
       "      <th>9</th>\n",
       "      <td>1300</td>\n",
       "      <td>remote controlled models</td>\n",
       "      <td>9</td>\n",
       "    </tr>\n",
       "    <tr>\n",
       "      <th>22</th>\n",
       "      <td>1301</td>\n",
       "      <td>accessories children</td>\n",
       "      <td>10</td>\n",
       "    </tr>\n",
       "    <tr>\n",
       "      <th>15</th>\n",
       "      <td>1302</td>\n",
       "      <td>kids toys</td>\n",
       "      <td>11</td>\n",
       "    </tr>\n",
       "    <tr>\n",
       "      <th>13</th>\n",
       "      <td>1320</td>\n",
       "      <td>early childhood</td>\n",
       "      <td>12</td>\n",
       "    </tr>\n",
       "    <tr>\n",
       "      <th>4</th>\n",
       "      <td>1560</td>\n",
       "      <td>interior furniture and bedding</td>\n",
       "      <td>13</td>\n",
       "    </tr>\n",
       "    <tr>\n",
       "      <th>6</th>\n",
       "      <td>1920</td>\n",
       "      <td>interior accessories</td>\n",
       "      <td>14</td>\n",
       "    </tr>\n",
       "    <tr>\n",
       "      <th>20</th>\n",
       "      <td>1940</td>\n",
       "      <td>Food</td>\n",
       "      <td>15</td>\n",
       "    </tr>\n",
       "    <tr>\n",
       "      <th>10</th>\n",
       "      <td>2060</td>\n",
       "      <td>decoration interior</td>\n",
       "      <td>16</td>\n",
       "    </tr>\n",
       "    <tr>\n",
       "      <th>16</th>\n",
       "      <td>2220</td>\n",
       "      <td>supplies for domestic animals</td>\n",
       "      <td>17</td>\n",
       "    </tr>\n",
       "    <tr>\n",
       "      <th>14</th>\n",
       "      <td>2280</td>\n",
       "      <td>magazines</td>\n",
       "      <td>18</td>\n",
       "    </tr>\n",
       "    <tr>\n",
       "      <th>25</th>\n",
       "      <td>2403</td>\n",
       "      <td>children books</td>\n",
       "      <td>19</td>\n",
       "    </tr>\n",
       "    <tr>\n",
       "      <th>26</th>\n",
       "      <td>2462</td>\n",
       "      <td>games</td>\n",
       "      <td>20</td>\n",
       "    </tr>\n",
       "    <tr>\n",
       "      <th>2</th>\n",
       "      <td>2522</td>\n",
       "      <td>stationery</td>\n",
       "      <td>21</td>\n",
       "    </tr>\n",
       "    <tr>\n",
       "      <th>3</th>\n",
       "      <td>2582</td>\n",
       "      <td>kitchen and garden</td>\n",
       "      <td>22</td>\n",
       "    </tr>\n",
       "    <tr>\n",
       "      <th>11</th>\n",
       "      <td>2583</td>\n",
       "      <td>piscine spa</td>\n",
       "      <td>23</td>\n",
       "    </tr>\n",
       "    <tr>\n",
       "      <th>19</th>\n",
       "      <td>2585</td>\n",
       "      <td>gardening and DIY</td>\n",
       "      <td>24</td>\n",
       "    </tr>\n",
       "    <tr>\n",
       "      <th>1</th>\n",
       "      <td>2705</td>\n",
       "      <td>books</td>\n",
       "      <td>25</td>\n",
       "    </tr>\n",
       "    <tr>\n",
       "      <th>18</th>\n",
       "      <td>2905</td>\n",
       "      <td>online distribution of video games</td>\n",
       "      <td>26</td>\n",
       "    </tr>\n",
       "  </tbody>\n",
       "</table>\n",
       "</div>"
      ],
      "text/plain": [
       "    prdtypecode                               Label  target_prdtypecode\n",
       "23           10                         adult books                   0\n",
       "17           40                imported video games                   1\n",
       "0            50             video games accessories                   2\n",
       "12           60                  games and consoles                   3\n",
       "8          1140                             goodies                   4\n",
       "21         1160                       playing cards                   5\n",
       "24         1180                  figurines_wargames                   6\n",
       "7          1280                   toys for children                   7\n",
       "5          1281                         board games                   8\n",
       "9          1300            remote controlled models                   9\n",
       "22         1301                accessories children                  10\n",
       "15         1302                           kids toys                  11\n",
       "13         1320                     early childhood                  12\n",
       "4          1560      interior furniture and bedding                  13\n",
       "6          1920                interior accessories                  14\n",
       "20         1940                                Food                  15\n",
       "10         2060                 decoration interior                  16\n",
       "16         2220       supplies for domestic animals                  17\n",
       "14         2280                           magazines                  18\n",
       "25         2403                      children books                  19\n",
       "26         2462                               games                  20\n",
       "2          2522                          stationery                  21\n",
       "3          2582                  kitchen and garden                  22\n",
       "11         2583                         piscine spa                  23\n",
       "19         2585                   gardening and DIY                  24\n",
       "1          2705                               books                  25\n",
       "18         2905  online distribution of video games                  26"
      ]
     },
     "execution_count": 7,
     "metadata": {},
     "output_type": "execute_result"
    }
   ],
   "source": [
    "# Crate DF containing prdtypecode , categories and corresponding class used by model\n",
    "df_class = df_class.sort_values(by = 'prdtypecode', ascending = True)\n",
    "df_class['target_prdtypecode'] = [i for i in range(27)]\n",
    "df_class"
   ]
  },
  {
   "cell_type": "markdown",
   "id": "cb4bd64a",
   "metadata": {
    "id": "cb4bd64a"
   },
   "source": [
    "***Change the 27 product codes to 0 to 26***"
   ]
  },
  {
   "cell_type": "code",
   "execution_count": 8,
   "id": "719237a0",
   "metadata": {
    "colab": {
     "base_uri": "https://localhost:8080/"
    },
    "executionInfo": {
     "elapsed": 174,
     "status": "ok",
     "timestamp": 1634378607014,
     "user": {
      "displayName": "Mourad Mecheri",
      "photoUrl": "https://lh3.googleusercontent.com/a/default-user=s64",
      "userId": "08453845245011476141"
     },
     "user_tz": -120
    },
    "id": "719237a0",
    "outputId": "07fdc79a-e32c-400c-9027-0449ef25eb24"
   },
   "outputs": [],
   "source": [
    "df_train_im.replace({'prdtypecode':{10:0,\n",
    "                                    40:1,\n",
    "                                    50:2,\n",
    "                                    60:3,\n",
    "                                    1140:4,\n",
    "                                    1160:5,\n",
    "                                    1180:6,\n",
    "                                    1280:7,\n",
    "                                    1281:8,\n",
    "                                    1300:9                                    \n",
    "                                    }}, inplace = True)\n",
    "\n",
    "df_train_im.replace({'prdtypecode':{1301:10,\n",
    "                                    1302:11,\n",
    "                                    1320:12,\n",
    "                                    1560:13,\n",
    "                                    1920:14,\n",
    "                                    1940:15,\n",
    "                                    2060:16,\n",
    "                                    2220:17,\n",
    "                                    2280:18,\n",
    "                                    2403:19,\n",
    "                                    2462:20,\n",
    "                                    2522:21,\n",
    "                                    2582:22,\n",
    "                                    2583:23,\n",
    "                                    2585:24,\n",
    "                                    2705:25,\n",
    "                                    2905:26\n",
    "                                    }}, inplace = True)"
   ]
  },
  {
   "cell_type": "code",
   "execution_count": 9,
   "id": "87efd019",
   "metadata": {
    "colab": {
     "base_uri": "https://localhost:8080/",
     "height": 51
    },
    "executionInfo": {
     "elapsed": 209,
     "status": "ok",
     "timestamp": 1634378610252,
     "user": {
      "displayName": "Mourad Mecheri",
      "photoUrl": "https://lh3.googleusercontent.com/a/default-user=s64",
      "userId": "08453845245011476141"
     },
     "user_tz": -120
    },
    "id": "87efd019",
    "outputId": "02d9ecb6-3f5d-4aa8-ba98-36c3fb00b61e"
   },
   "outputs": [
    {
     "data": {
      "text/plain": [
       "array([ 0, 18,  2,  7, 25, 21, 22, 13,  8, 14, 19,  4, 23,  6,  9, 20,  5,\n",
       "       16,  1,  3, 12, 11, 17, 26, 24, 15, 10], dtype=int64)"
      ]
     },
     "metadata": {},
     "output_type": "display_data"
    }
   ],
   "source": [
    "display(df_train_im[\"prdtypecode\"].unique())"
   ]
  },
  {
   "cell_type": "markdown",
   "id": "78117caa-0ca5-45c6-ae87-7855d446420b",
   "metadata": {
    "colab": {
     "base_uri": "https://localhost:8080/",
     "height": 572
    },
    "executionInfo": {
     "elapsed": 199,
     "status": "ok",
     "timestamp": 1634378613548,
     "user": {
      "displayName": "Mourad Mecheri",
      "photoUrl": "https://lh3.googleusercontent.com/a/default-user=s64",
      "userId": "08453845245011476141"
     },
     "user_tz": -120
    },
    "id": "55e12af1",
    "outputId": "99ab9d62-4665-4b85-8e28-97f573ed0ddc"
   },
   "source": [
    " ***Convert product code to string type***"
   ]
  },
  {
   "cell_type": "code",
   "execution_count": 5,
   "id": "33f61d5a",
   "metadata": {},
   "outputs": [],
   "source": [
    "df_train_im[\"prdtypecode\"] = df_train_im[\"prdtypecode\"].astype(str)"
   ]
  },
  {
   "cell_type": "code",
   "execution_count": 6,
   "id": "a68902e6-d855-4596-bc15-cbc14a33dda3",
   "metadata": {},
   "outputs": [
    {
     "data": {
      "text/plain": [
       "{'10': 3116,\n",
       " '1140': 2671,\n",
       " '1160': 3953,\n",
       " '1180': 764,\n",
       " '1280': 4870,\n",
       " '1281': 2070,\n",
       " '1300': 5045,\n",
       " '1301': 807,\n",
       " '1302': 2491,\n",
       " '1320': 3241,\n",
       " '1560': 5073,\n",
       " '1920': 4303,\n",
       " '1940': 803,\n",
       " '2060': 4993,\n",
       " '2220': 824,\n",
       " '2280': 4760,\n",
       " '2403': 4774,\n",
       " '2462': 1421,\n",
       " '2522': 4989,\n",
       " '2582': 2589,\n",
       " '2583': 10209,\n",
       " '2585': 2496,\n",
       " '2705': 2761,\n",
       " '2905': 872,\n",
       " '40': 2508,\n",
       " '50': 1681,\n",
       " '60': 832}"
      ]
     },
     "execution_count": 6,
     "metadata": {},
     "output_type": "execute_result"
    }
   ],
   "source": [
    "unique, counts = np.unique(df_train_im[\"prdtypecode\"], return_counts=True)\n",
    "dict(zip(unique, counts))"
   ]
  },
  {
   "cell_type": "markdown",
   "id": "b38c105e",
   "metadata": {
    "id": "b38c105e"
   },
   "source": [
    " ***Split Train Set***"
   ]
  },
  {
   "cell_type": "code",
   "execution_count": 12,
   "id": "1874a9b3",
   "metadata": {
    "executionInfo": {
     "elapsed": 195,
     "status": "ok",
     "timestamp": 1634380006273,
     "user": {
      "displayName": "Mourad Mecheri",
      "photoUrl": "https://lh3.googleusercontent.com/a/default-user=s64",
      "userId": "08453845245011476141"
     },
     "user_tz": -120
    },
    "id": "1874a9b3"
   },
   "outputs": [],
   "source": [
    "# Split Train set \n",
    "X_train_im, X_test_im = train_test_split(df_train_im, train_size=0.8, random_state=1234)"
   ]
  },
  {
   "cell_type": "code",
   "execution_count": 13,
   "id": "6bf6f3cc",
   "metadata": {
    "colab": {
     "base_uri": "https://localhost:8080/",
     "height": 51
    },
    "executionInfo": {
     "elapsed": 178,
     "status": "ok",
     "timestamp": 1634380010322,
     "user": {
      "displayName": "Mourad Mecheri",
      "photoUrl": "https://lh3.googleusercontent.com/a/default-user=s64",
      "userId": "08453845245011476141"
     },
     "user_tz": -120
    },
    "id": "6bf6f3cc",
    "outputId": "817ddff9-4f5b-418e-e9c9-bce75d5c6430"
   },
   "outputs": [
    {
     "data": {
      "text/plain": [
       "(67932, 6)"
      ]
     },
     "metadata": {},
     "output_type": "display_data"
    },
    {
     "data": {
      "text/plain": [
       "(16984, 6)"
      ]
     },
     "metadata": {},
     "output_type": "display_data"
    }
   ],
   "source": [
    "display(X_train_im.shape)\n",
    "display(X_test_im.shape)"
   ]
  },
  {
   "cell_type": "markdown",
   "id": "0dc304a2",
   "metadata": {
    "id": "0dc304a2"
   },
   "source": [
    "***Data Generator***"
   ]
  },
  {
   "cell_type": "code",
   "execution_count": 14,
   "id": "3cf7aaf0",
   "metadata": {},
   "outputs": [],
   "source": [
    "img_rows = 224\n",
    "img_cols = 224\n",
    "batch_size = 64\n",
    "epochs = 40\n",
    "images_dir_train = './data/images/all/image_train_resized/'\n",
    "#images_dir_test = './data/images/all/image_test_resized/'"
   ]
  },
  {
   "cell_type": "code",
   "execution_count": 15,
   "id": "37985788",
   "metadata": {},
   "outputs": [
    {
     "name": "stdout",
     "output_type": "stream",
     "text": [
      "Wall time: 0 ns\n"
     ]
    }
   ],
   "source": [
    "%%time\n",
    "#Générateur de données\n",
    "train_datagen = ImageDataGenerator(rescale = 1/255,\n",
    "                                  shear_range=0.2,\n",
    "                                  rotation_range = 45,\n",
    "                                  width_shift_range = 0.1,\n",
    "                                  height_shift_range = 0.1,\n",
    "                                  zoom_range = 0.2,\n",
    "                                  horizontal_flip = True,\n",
    "                                  vertical_flip = True\n",
    "                                  #validation_split = 0.2\n",
    "                                )"
   ]
  },
  {
   "cell_type": "code",
   "execution_count": 16,
   "id": "491a5ab9",
   "metadata": {},
   "outputs": [
    {
     "name": "stdout",
     "output_type": "stream",
     "text": [
      "Wall time: 0 ns\n"
     ]
    }
   ],
   "source": [
    "%%time\n",
    "valid_datagen = ImageDataGenerator(rescale=1./255)"
   ]
  },
  {
   "cell_type": "code",
   "execution_count": 17,
   "id": "54cd2cf6",
   "metadata": {},
   "outputs": [
    {
     "name": "stdout",
     "output_type": "stream",
     "text": [
      "Found 67932 validated image filenames belonging to 27 classes.\n",
      "Wall time: 2.93 s\n"
     ]
    }
   ],
   "source": [
    "%%time\n",
    "\n",
    "#Itérateur \n",
    "train_generator = train_datagen.flow_from_dataframe(dataframe = X_train_im,\n",
    "                                              directory = images_dir_train,\n",
    "                                              as_ext = True,\n",
    "                                              x_col = 'imagePath',\n",
    "                                              y_col = 'prdtypecode',  #target data                                            \n",
    "                                              class_mode = 'sparse',                                             \n",
    "                                              target_size = (img_rows , img_cols), # default 256 x 256                                             \n",
    "                                              batch_size = batch_size,                                             \n",
    "                                              shuffle = True  # défault\n",
    "                                              #subset = 'training'\n",
    "                                             )"
   ]
  },
  {
   "cell_type": "code",
   "execution_count": 18,
   "id": "97b80ae7",
   "metadata": {},
   "outputs": [
    {
     "name": "stdout",
     "output_type": "stream",
     "text": [
      "Found 16984 validated image filenames belonging to 27 classes.\n",
      "Wall time: 745 ms\n"
     ]
    }
   ],
   "source": [
    "%%time\n",
    "# validation_split the validation batches ca be retrieved by specifying the subset as validation.\n",
    "valid_generator = valid_datagen.flow_from_dataframe(dataframe = X_test_im, \n",
    "                                              directory = images_dir_train,\n",
    "                                              as_ext = True,\n",
    "                                              x_col = 'imagePath',\n",
    "                                              y_col = 'prdtypecode',  #target data                                            \n",
    "                                              class_mode = 'sparse',                                        \n",
    "                                              target_size = (img_rows , img_cols), # default 256 x 256                                         \n",
    "                                              batch_size = batch_size, \n",
    "                                              shuffle = False\n",
    "                                              #subset  = 'validation'\n",
    "                                             )"
   ]
  },
  {
   "cell_type": "code",
   "execution_count": 19,
   "id": "fd8ba6bc",
   "metadata": {
    "colab": {
     "base_uri": "https://localhost:8080/"
    },
    "executionInfo": {
     "elapsed": 241,
     "status": "ok",
     "timestamp": 1634379680015,
     "user": {
      "displayName": "Mourad Mecheri",
      "photoUrl": "https://lh3.googleusercontent.com/a/default-user=s64",
      "userId": "08453845245011476141"
     },
     "user_tz": -120
    },
    "id": "fd8ba6bc",
    "outputId": "3903b71d-7e38-46aa-d179-7b9f6b0a3900"
   },
   "outputs": [
    {
     "name": "stdout",
     "output_type": "stream",
     "text": [
      "Wall time: 0 ns\n"
     ]
    }
   ],
   "source": [
    "%%time\n",
    "#Générateur de données\n",
    "img_gen = ImageDataGenerator(rescale = 1/255, \n",
    "                             validation_split = 0.2)"
   ]
  },
  {
   "cell_type": "markdown",
   "id": "3241b27e",
   "metadata": {
    "id": "3241b27e"
   },
   "source": [
    " ***VGG16 Implementation***"
   ]
  },
  {
   "cell_type": "code",
   "execution_count": 20,
   "id": "1a56928f",
   "metadata": {
    "colab": {
     "base_uri": "https://localhost:8080/"
    },
    "executionInfo": {
     "elapsed": 6752,
     "status": "ok",
     "timestamp": 1634380551756,
     "user": {
      "displayName": "Mourad Mecheri",
      "photoUrl": "https://lh3.googleusercontent.com/a/default-user=s64",
      "userId": "08453845245011476141"
     },
     "user_tz": -120
    },
    "id": "1a56928f",
    "outputId": "fefdf3b7-8985-4a6f-e8c4-c6d8c07edbaa"
   },
   "outputs": [
    {
     "name": "stdout",
     "output_type": "stream",
     "text": [
      "Wall time: 3.05 s\n"
     ]
    }
   ],
   "source": [
    "%%time\n",
    "# Freez des chouche pré_entrainées d'Extraction de Features\n",
    "base_model = VGG16(weights='imagenet', include_top = False, input_shape = (img_rows,img_rows,3))\n",
    "for layer in base_model.layers:\n",
    "    layer.trainable = False"
   ]
  },
  {
   "cell_type": "code",
   "execution_count": 21,
   "id": "9af04c84",
   "metadata": {
    "colab": {
     "base_uri": "https://localhost:8080/"
    },
    "executionInfo": {
     "elapsed": 191,
     "status": "ok",
     "timestamp": 1634380559405,
     "user": {
      "displayName": "Mourad Mecheri",
      "photoUrl": "https://lh3.googleusercontent.com/a/default-user=s64",
      "userId": "08453845245011476141"
     },
     "user_tz": -120
    },
    "id": "9af04c84",
    "outputId": "fe055232-63a9-4d00-b07f-4ba7464f4544"
   },
   "outputs": [
    {
     "name": "stdout",
     "output_type": "stream",
     "text": [
      "Model: \"sequential\"\n",
      "_________________________________________________________________\n",
      "Layer (type)                 Output Shape              Param #   \n",
      "=================================================================\n",
      "vgg16 (Functional)           (None, 7, 7, 512)         14714688  \n",
      "_________________________________________________________________\n",
      "global_average_pooling2d (Gl (None, 512)               0         \n",
      "_________________________________________________________________\n",
      "dense (Dense)                (None, 1024)              525312    \n",
      "_________________________________________________________________\n",
      "dropout (Dropout)            (None, 1024)              0         \n",
      "_________________________________________________________________\n",
      "dense_1 (Dense)              (None, 512)               524800    \n",
      "_________________________________________________________________\n",
      "dropout_1 (Dropout)          (None, 512)               0         \n",
      "_________________________________________________________________\n",
      "dense_2 (Dense)              (None, 27)                13851     \n",
      "=================================================================\n",
      "Total params: 15,778,651\n",
      "Trainable params: 1,063,963\n",
      "Non-trainable params: 14,714,688\n",
      "_________________________________________________________________\n"
     ]
    }
   ],
   "source": [
    "# Architecture VGG16\n",
    "model = Sequential()\n",
    "\n",
    "# Ajout du modèle VGG16\n",
    "model.add(base_model) \n",
    "\n",
    "# Ajout des couche de classification\n",
    "model.add(GlobalAveragePooling2D()) \n",
    "model.add(Dense(units = 1024,activation='relu'))\n",
    "\n",
    "model.add(Dropout(rate = 0.2))\n",
    "model.add(Dense(units = 512, activation='relu'))\n",
    "\n",
    "model.add(Dropout(rate = 0.2))\n",
    "model.add(Dense(units = 27, activation='softmax'))\n",
    "\n",
    "model.summary()"
   ]
  },
  {
   "cell_type": "markdown",
   "id": "650c8075",
   "metadata": {
    "id": "650c8075"
   },
   "source": [
    "***Callbacks***"
   ]
  },
  {
   "cell_type": "code",
   "execution_count": 22,
   "id": "cd04edfd",
   "metadata": {
    "colab": {
     "base_uri": "https://localhost:8080/"
    },
    "executionInfo": {
     "elapsed": 180,
     "status": "ok",
     "timestamp": 1634380599536,
     "user": {
      "displayName": "Mourad Mecheri",
      "photoUrl": "https://lh3.googleusercontent.com/a/default-user=s64",
      "userId": "08453845245011476141"
     },
     "user_tz": -120
    },
    "id": "cd04edfd",
    "outputId": "f49f76a3-cc19-496a-faac-b3db9e7a8579"
   },
   "outputs": [
    {
     "name": "stdout",
     "output_type": "stream",
     "text": [
      "Wall time: 0 ns\n"
     ]
    }
   ],
   "source": [
    "%%time\n",
    "path = './saves/VGG16/Iteration_4/'\n",
    "file_name = 'checkpoint_VGG16_04122021-40Epochs.h5'\n",
    "\n",
    "#Sauvegarder les meilleurs poids du modèle au cours de l'entraînement :\n",
    "checkpoint = ModelCheckpoint(filepath = path + file_name , \n",
    "                             monitor ='val_accuracy',\n",
    "                             verbose = 1,\n",
    "                             save_best_only = True, # (pour que le meilleur modèle ne soit pas écrasé)\n",
    "                             save_weights_only = False,\n",
    "                             mode ='max', #(permet de préciser si la métrique doit croître ou décroitre : ici on choisit 'min'\n",
    "                                           #car la métrique est une perte à minimiser)\n",
    "                             save_freq='epoch')\n",
    "#Arrêter l'entraînement si le modèle n'évolue plus (très pratique pour ne pas gérer le\n",
    "#nombre d'epoch) :\n",
    "early = EarlyStopping(monitor='val_loss',\n",
    "                      min_delta = 0,\n",
    "                      patience = 10, #(nombre d'epochs à attendre avant d'arrêter l'entraînement\n",
    "                      restore_best_weights = True,\n",
    "                      verbose = 1,\n",
    "                      mode = 'min')"
   ]
  },
  {
   "cell_type": "markdown",
   "id": "63ae829d",
   "metadata": {
    "id": "63ae829d"
   },
   "source": [
    " ***Modèle Compilation***"
   ]
  },
  {
   "cell_type": "code",
   "execution_count": 23,
   "id": "03b94ced",
   "metadata": {
    "colab": {
     "base_uri": "https://localhost:8080/"
    },
    "executionInfo": {
     "elapsed": 197,
     "status": "ok",
     "timestamp": 1634380606266,
     "user": {
      "displayName": "Mourad Mecheri",
      "photoUrl": "https://lh3.googleusercontent.com/a/default-user=s64",
      "userId": "08453845245011476141"
     },
     "user_tz": -120
    },
    "id": "03b94ced",
    "outputId": "3bef4dd4-2c2d-4773-b132-5b9f6d24dfe9"
   },
   "outputs": [
    {
     "name": "stdout",
     "output_type": "stream",
     "text": [
      "Wall time: 7.98 ms\n"
     ]
    }
   ],
   "source": [
    "%%time\n",
    "# Compilation\n",
    "model.compile(loss='sparse_categorical_crossentropy',  # fonction de perte\n",
    "              optimizer='adam',                 # algorithme de descente de gradient\n",
    "              metrics=['accuracy'])             # métrique d'évaluation\n"
   ]
  },
  {
   "cell_type": "markdown",
   "id": "b46ca980",
   "metadata": {
    "id": "b46ca980"
   },
   "source": [
    " ***Fit - train_generator***"
   ]
  },
  {
   "cell_type": "code",
   "execution_count": 25,
   "id": "58f9abb4",
   "metadata": {},
   "outputs": [
    {
     "name": "stdout",
     "output_type": "stream",
     "text": [
      "step_size_Train :  1061\n",
      "step_size_Valid  :  265\n"
     ]
    }
   ],
   "source": [
    "step_size_Train = train_generator.n//train_generator.batch_size\n",
    "step_size_Valid = valid_generator.n//valid_generator.batch_size\n",
    "print('step_size_Train : ' , step_size_Train)\n",
    "print('step_size_Valid  : ' , step_size_Valid)"
   ]
  },
  {
   "cell_type": "code",
   "execution_count": 26,
   "id": "8196cb05",
   "metadata": {
    "colab": {
     "base_uri": "https://localhost:8080/"
    },
    "id": "6099def0",
    "outputId": "2948cbea-6d0a-4cab-cef9-08948c1b7d97"
   },
   "outputs": [
    {
     "name": "stdout",
     "output_type": "stream",
     "text": [
      "Epoch 1/40\n",
      "1061/1061 [==============================] - 583s 533ms/step - loss: 2.1982 - accuracy: 0.3555 - val_loss: 1.9126 - val_accuracy: 0.4352\n",
      "\n",
      "Epoch 00001: val_accuracy improved from -inf to 0.43520, saving model to ./saves/VGG16/Iteration_4\\checkpoint_VGG16_04122021-40Epochs.h5\n",
      "Epoch 2/40\n",
      "1061/1061 [==============================] - 522s 492ms/step - loss: 1.9651 - accuracy: 0.4168 - val_loss: 1.8333 - val_accuracy: 0.4479\n",
      "\n",
      "Epoch 00002: val_accuracy improved from 0.43520 to 0.44788, saving model to ./saves/VGG16/Iteration_4\\checkpoint_VGG16_04122021-40Epochs.h5\n",
      "Epoch 3/40\n",
      "1061/1061 [==============================] - 529s 498ms/step - loss: 1.8905 - accuracy: 0.4382 - val_loss: 1.7831 - val_accuracy: 0.4705\n",
      "\n",
      "Epoch 00003: val_accuracy improved from 0.44788 to 0.47046, saving model to ./saves/VGG16/Iteration_4\\checkpoint_VGG16_04122021-40Epochs.h5\n",
      "Epoch 4/40\n",
      "1061/1061 [==============================] - 524s 494ms/step - loss: 1.8391 - accuracy: 0.4516 - val_loss: 1.7411 - val_accuracy: 0.4767\n",
      "\n",
      "Epoch 00004: val_accuracy improved from 0.47046 to 0.47665, saving model to ./saves/VGG16/Iteration_4\\checkpoint_VGG16_04122021-40Epochs.h5\n",
      "Epoch 5/40\n",
      "1061/1061 [==============================] - 523s 492ms/step - loss: 1.8004 - accuracy: 0.4619 - val_loss: 1.7095 - val_accuracy: 0.4874\n",
      "\n",
      "Epoch 00005: val_accuracy improved from 0.47665 to 0.48744, saving model to ./saves/VGG16/Iteration_4\\checkpoint_VGG16_04122021-40Epochs.h5\n",
      "Epoch 6/40\n",
      "1061/1061 [==============================] - 524s 494ms/step - loss: 1.7680 - accuracy: 0.4725 - val_loss: 1.6943 - val_accuracy: 0.4923\n",
      "\n",
      "Epoch 00006: val_accuracy improved from 0.48744 to 0.49228, saving model to ./saves/VGG16/Iteration_4\\checkpoint_VGG16_04122021-40Epochs.h5\n",
      "Epoch 7/40\n",
      "1061/1061 [==============================] - 528s 498ms/step - loss: 1.7426 - accuracy: 0.4800 - val_loss: 1.6732 - val_accuracy: 0.5018\n",
      "\n",
      "Epoch 00007: val_accuracy improved from 0.49228 to 0.50183, saving model to ./saves/VGG16/Iteration_4\\checkpoint_VGG16_04122021-40Epochs.h5\n",
      "Epoch 8/40\n",
      "1061/1061 [==============================] - 521s 491ms/step - loss: 1.7251 - accuracy: 0.4824 - val_loss: 1.6501 - val_accuracy: 0.5009\n",
      "\n",
      "Epoch 00008: val_accuracy did not improve from 0.50183\n",
      "Epoch 9/40\n",
      "1061/1061 [==============================] - 527s 496ms/step - loss: 1.7017 - accuracy: 0.4900 - val_loss: 1.6322 - val_accuracy: 0.5107\n",
      "\n",
      "Epoch 00009: val_accuracy improved from 0.50183 to 0.51073, saving model to ./saves/VGG16/Iteration_4\\checkpoint_VGG16_04122021-40Epochs.h5\n",
      "Epoch 10/40\n",
      "1061/1061 [==============================] - 531s 500ms/step - loss: 1.6850 - accuracy: 0.4919 - val_loss: 1.6226 - val_accuracy: 0.5139\n",
      "\n",
      "Epoch 00010: val_accuracy improved from 0.51073 to 0.51392, saving model to ./saves/VGG16/Iteration_4\\checkpoint_VGG16_04122021-40Epochs.h5\n",
      "Epoch 11/40\n",
      "1061/1061 [==============================] - 521s 491ms/step - loss: 1.6638 - accuracy: 0.4977 - val_loss: 1.6101 - val_accuracy: 0.5236\n",
      "\n",
      "Epoch 00011: val_accuracy improved from 0.51392 to 0.52358, saving model to ./saves/VGG16/Iteration_4\\checkpoint_VGG16_04122021-40Epochs.h5\n",
      "Epoch 12/40\n",
      "1061/1061 [==============================] - 526s 496ms/step - loss: 1.6515 - accuracy: 0.5008 - val_loss: 1.6301 - val_accuracy: 0.5119\n",
      "\n",
      "Epoch 00012: val_accuracy did not improve from 0.52358\n",
      "Epoch 13/40\n",
      "1061/1061 [==============================] - 527s 497ms/step - loss: 1.6373 - accuracy: 0.5039 - val_loss: 1.6027 - val_accuracy: 0.5223\n",
      "\n",
      "Epoch 00013: val_accuracy did not improve from 0.52358\n",
      "Epoch 14/40\n",
      "1061/1061 [==============================] - 523s 493ms/step - loss: 1.6243 - accuracy: 0.5084 - val_loss: 1.6036 - val_accuracy: 0.5249\n",
      "\n",
      "Epoch 00014: val_accuracy improved from 0.52358 to 0.52494, saving model to ./saves/VGG16/Iteration_4\\checkpoint_VGG16_04122021-40Epochs.h5\n",
      "Epoch 15/40\n",
      "1061/1061 [==============================] - 525s 494ms/step - loss: 1.6112 - accuracy: 0.5109 - val_loss: 1.5773 - val_accuracy: 0.5274\n",
      "\n",
      "Epoch 00015: val_accuracy improved from 0.52494 to 0.52742, saving model to ./saves/VGG16/Iteration_4\\checkpoint_VGG16_04122021-40Epochs.h5\n",
      "Epoch 16/40\n",
      "1061/1061 [==============================] - 526s 496ms/step - loss: 1.5986 - accuracy: 0.5140 - val_loss: 1.5832 - val_accuracy: 0.5292\n",
      "\n",
      "Epoch 00016: val_accuracy improved from 0.52742 to 0.52919, saving model to ./saves/VGG16/Iteration_4\\checkpoint_VGG16_04122021-40Epochs.h5\n",
      "Epoch 17/40\n",
      "1061/1061 [==============================] - 519s 489ms/step - loss: 1.5865 - accuracy: 0.5178 - val_loss: 1.5693 - val_accuracy: 0.5346\n",
      "\n",
      "Epoch 00017: val_accuracy improved from 0.52919 to 0.53461, saving model to ./saves/VGG16/Iteration_4\\checkpoint_VGG16_04122021-40Epochs.h5\n",
      "Epoch 18/40\n",
      "1061/1061 [==============================] - 524s 494ms/step - loss: 1.5790 - accuracy: 0.5201 - val_loss: 1.5757 - val_accuracy: 0.5285\n",
      "\n",
      "Epoch 00018: val_accuracy did not improve from 0.53461\n",
      "Epoch 19/40\n",
      "1061/1061 [==============================] - 521s 491ms/step - loss: 1.5725 - accuracy: 0.5219 - val_loss: 1.5624 - val_accuracy: 0.5354\n",
      "\n",
      "Epoch 00019: val_accuracy improved from 0.53461 to 0.53538, saving model to ./saves/VGG16/Iteration_4\\checkpoint_VGG16_04122021-40Epochs.h5\n",
      "Epoch 20/40\n",
      "1061/1061 [==============================] - 522s 492ms/step - loss: 1.5623 - accuracy: 0.5239 - val_loss: 1.5542 - val_accuracy: 0.5397\n",
      "\n",
      "Epoch 00020: val_accuracy improved from 0.53538 to 0.53974, saving model to ./saves/VGG16/Iteration_4\\checkpoint_VGG16_04122021-40Epochs.h5\n",
      "Epoch 21/40\n",
      "1061/1061 [==============================] - 527s 496ms/step - loss: 1.5512 - accuracy: 0.5266 - val_loss: 1.5741 - val_accuracy: 0.5335\n",
      "\n",
      "Epoch 00021: val_accuracy did not improve from 0.53974\n",
      "Epoch 22/40\n",
      "1061/1061 [==============================] - 526s 495ms/step - loss: 1.5432 - accuracy: 0.5282 - val_loss: 1.5500 - val_accuracy: 0.5371\n",
      "\n",
      "Epoch 00022: val_accuracy did not improve from 0.53974\n",
      "Epoch 23/40\n",
      "1061/1061 [==============================] - 523s 493ms/step - loss: 1.5359 - accuracy: 0.5316 - val_loss: 1.5476 - val_accuracy: 0.5432\n",
      "\n",
      "Epoch 00023: val_accuracy improved from 0.53974 to 0.54316, saving model to ./saves/VGG16/Iteration_4\\checkpoint_VGG16_04122021-40Epochs.h5\n",
      "Epoch 24/40\n",
      "1061/1061 [==============================] - 525s 495ms/step - loss: 1.5254 - accuracy: 0.5351 - val_loss: 1.5532 - val_accuracy: 0.5400\n",
      "\n",
      "Epoch 00024: val_accuracy did not improve from 0.54316\n",
      "Epoch 25/40\n",
      "1061/1061 [==============================] - 524s 494ms/step - loss: 1.5204 - accuracy: 0.5346 - val_loss: 1.5392 - val_accuracy: 0.5395\n",
      "\n",
      "Epoch 00025: val_accuracy did not improve from 0.54316\n",
      "Epoch 26/40\n",
      "1061/1061 [==============================] - 521s 491ms/step - loss: 1.5151 - accuracy: 0.5359 - val_loss: 1.5457 - val_accuracy: 0.5424\n",
      "\n",
      "Epoch 00026: val_accuracy did not improve from 0.54316\n",
      "Epoch 27/40\n",
      "1061/1061 [==============================] - 525s 495ms/step - loss: 1.5109 - accuracy: 0.5375 - val_loss: 1.5359 - val_accuracy: 0.5456\n",
      "\n",
      "Epoch 00027: val_accuracy improved from 0.54316 to 0.54558, saving model to ./saves/VGG16/Iteration_4\\checkpoint_VGG16_04122021-40Epochs.h5\n",
      "Epoch 28/40\n",
      "1061/1061 [==============================] - 523s 493ms/step - loss: 1.4956 - accuracy: 0.5419 - val_loss: 1.5471 - val_accuracy: 0.5406\n",
      "\n",
      "Epoch 00028: val_accuracy did not improve from 0.54558\n",
      "Epoch 29/40\n",
      "1061/1061 [==============================] - 523s 493ms/step - loss: 1.4912 - accuracy: 0.5418 - val_loss: 1.5372 - val_accuracy: 0.5453\n",
      "\n",
      "Epoch 00029: val_accuracy did not improve from 0.54558\n",
      "Epoch 30/40\n",
      "1061/1061 [==============================] - 521s 491ms/step - loss: 1.4887 - accuracy: 0.5409 - val_loss: 1.5409 - val_accuracy: 0.5390\n",
      "\n",
      "Epoch 00030: val_accuracy did not improve from 0.54558\n",
      "Epoch 31/40\n",
      "1061/1061 [==============================] - 522s 492ms/step - loss: 1.4804 - accuracy: 0.5445 - val_loss: 1.5396 - val_accuracy: 0.5432\n",
      "\n",
      "Epoch 00031: val_accuracy did not improve from 0.54558\n",
      "Epoch 32/40\n",
      "1061/1061 [==============================] - 519s 489ms/step - loss: 1.4717 - accuracy: 0.5459 - val_loss: 1.5274 - val_accuracy: 0.5446\n",
      "\n",
      "Epoch 00032: val_accuracy did not improve from 0.54558\n",
      "Epoch 33/40\n",
      "1061/1061 [==============================] - 521s 491ms/step - loss: 1.4708 - accuracy: 0.5476 - val_loss: 1.5456 - val_accuracy: 0.5421\n",
      "\n",
      "Epoch 00033: val_accuracy did not improve from 0.54558\n",
      "Epoch 34/40\n",
      "1061/1061 [==============================] - 522s 491ms/step - loss: 1.4633 - accuracy: 0.5507 - val_loss: 1.5253 - val_accuracy: 0.5506\n",
      "\n",
      "Epoch 00034: val_accuracy improved from 0.54558 to 0.55059, saving model to ./saves/VGG16/Iteration_4\\checkpoint_VGG16_04122021-40Epochs.h5\n",
      "Epoch 35/40\n",
      "1061/1061 [==============================] - 518s 488ms/step - loss: 1.4579 - accuracy: 0.5491 - val_loss: 1.5444 - val_accuracy: 0.5395\n",
      "\n",
      "Epoch 00035: val_accuracy did not improve from 0.55059\n",
      "Epoch 36/40\n",
      "1061/1061 [==============================] - 520s 490ms/step - loss: 1.4494 - accuracy: 0.5523 - val_loss: 1.5280 - val_accuracy: 0.5445\n",
      "\n",
      "Epoch 00036: val_accuracy did not improve from 0.55059\n",
      "Epoch 37/40\n",
      "1061/1061 [==============================] - 521s 491ms/step - loss: 1.4524 - accuracy: 0.5514 - val_loss: 1.5382 - val_accuracy: 0.5421\n",
      "\n",
      "Epoch 00037: val_accuracy did not improve from 0.55059\n",
      "Epoch 38/40\n",
      "1061/1061 [==============================] - 519s 489ms/step - loss: 1.4422 - accuracy: 0.5552 - val_loss: 1.5286 - val_accuracy: 0.5460\n",
      "\n",
      "Epoch 00038: val_accuracy did not improve from 0.55059\n",
      "Epoch 39/40\n",
      "1061/1061 [==============================] - 521s 491ms/step - loss: 1.4373 - accuracy: 0.5567 - val_loss: 1.5600 - val_accuracy: 0.5394\n",
      "\n",
      "Epoch 00039: val_accuracy did not improve from 0.55059\n",
      "Epoch 40/40\n",
      "1061/1061 [==============================] - 521s 491ms/step - loss: 1.4321 - accuracy: 0.5564 - val_loss: 1.5308 - val_accuracy: 0.5506\n",
      "\n",
      "Epoch 00040: val_accuracy did not improve from 0.55059\n",
      "Wall time: 5h 49min 51s\n"
     ]
    }
   ],
   "source": [
    "%%time\n",
    "# Fit Train generator\n",
    "history = model.fit(train_generator,                    \n",
    "                    epochs = epochs,                   \n",
    "                    steps_per_epoch = step_size_Train,\n",
    "                    validation_data = valid_generator,\n",
    "                    validation_steps = step_size_Valid,\n",
    "                    callbacks=[checkpoint,early]                    \n",
    "                    )"
   ]
  },
  {
   "cell_type": "markdown",
   "id": "6534acf5",
   "metadata": {},
   "source": [
    "\n",
    "\n",
    "***Save History results***"
   ]
  },
  {
   "cell_type": "code",
   "execution_count": 27,
   "id": "cc9ecbc0",
   "metadata": {},
   "outputs": [],
   "source": [
    "# Save History results\n",
    "path = './saves/VGG16/Iteration_4/'\n",
    "filename = 'history_VGG16_all_train_04122021_40Epoch'"
   ]
  },
  {
   "cell_type": "code",
   "execution_count": 29,
   "id": "44bc80f3",
   "metadata": {},
   "outputs": [],
   "source": [
    "#convert the history.history dict to a pandas DataFrame:     \n",
    "hist_df = pd.DataFrame(history.history) \n",
    "\n",
    "# history to json:  \n",
    "hist_json_file = path + filename + '.json'\n",
    "with open(hist_json_file, mode='w') as f:\n",
    "    hist_df.to_json(f)\n",
    "\n",
    "# history to csv: \n",
    "hist_csv_file = path + filename +'.csv'\n",
    "with open(hist_csv_file, mode='w') as f:\n",
    "    hist_df.to_csv(f)\n",
    "\n",
    "# history to pickle file\n",
    "hist_df.to_pickle(path + filename +'.pkl')"
   ]
  },
  {
   "cell_type": "markdown",
   "id": "0c9a39d7",
   "metadata": {},
   "source": [
    "***Display Model loss , accuracy per epoch***"
   ]
  },
  {
   "cell_type": "code",
   "execution_count": 30,
   "id": "ad9193ed",
   "metadata": {},
   "outputs": [
    {
     "data": {
      "image/png": "[encoded data removed]",
      "text/plain": [
       "<Figure size 864x288 with 2 Axes>"
      ]
     },
     "metadata": {
      "needs_background": "light"
     },
     "output_type": "display_data"
    }
   ],
   "source": [
    "plt.figure(figsize=(12,4))\n",
    "plt.subplot(121)\n",
    "plt.plot(history.history['loss'])\n",
    "plt.plot(history.history['val_loss'])\n",
    "plt.title('Model loss by epoch')\n",
    "plt.ylabel('loss')\n",
    "plt.xlabel('epoch')\n",
    "plt.legend(['train', 'valid'], loc='right')\n",
    "\n",
    "plt.subplot(122)\n",
    "plt.plot(history.history['accuracy'])\n",
    "plt.plot(history.history['val_accuracy'])\n",
    "plt.title('Model acc by epoch')\n",
    "plt.ylabel('acc')\n",
    "plt.xlabel('epoch')\n",
    "plt.legend(['train', 'valid'], loc='right')\n",
    "plt.show()"
   ]
  },
  {
   "cell_type": "markdown",
   "id": "27887ca1",
   "metadata": {
    "id": "27887ca1"
   },
   "source": [
    " ***Prediction - valid_generator***"
   ]
  },
  {
   "cell_type": "code",
   "execution_count": 31,
   "id": "7ce3d3d8",
   "metadata": {
    "id": "7ce3d3d8"
   },
   "outputs": [
    {
     "name": "stdout",
     "output_type": "stream",
     "text": [
      "Wall time: 31.2 s\n"
     ]
    }
   ],
   "source": [
    "%%time\n",
    "#Prediction - Valid set\n",
    "y_pred_proba = model.predict(valid_generator)\n",
    "\n",
    "# l'argmax pour obtenir les classes prédites\n",
    "y_pred_class = np.argmax(y_pred_proba,axis = 1).astype(int)\n",
    "\n",
    "# To get classes from valid generator\n",
    "y_true = valid_generator.classes"
   ]
  },
  {
   "cell_type": "markdown",
   "id": "bfc13084",
   "metadata": {
    "id": "bfc13084"
   },
   "source": [
    " ***Evaluation - valid_generator***"
   ]
  },
  {
   "cell_type": "code",
   "execution_count": 32,
   "id": "a1f0707f",
   "metadata": {
    "id": "a1f0707f"
   },
   "outputs": [
    {
     "name": "stdout",
     "output_type": "stream",
     "text": [
      "266/266 [==============================] - 28s 105ms/step - loss: 1.5307 - accuracy: 0.5505\n",
      "Accuracy: 55.05%\n",
      "Loss:  1.5306870937347412\n",
      "Wall time: 28.3 s\n"
     ]
    }
   ],
   "source": [
    "%%time\n",
    "#Get the accuracy score\n",
    "valid_score = model.evaluate(valid_generator)\n",
    "\n",
    "print(\"Accuracy: {:.2f}%\".format(valid_score[1] * 100)) \n",
    "print(\"Loss: \",valid_score[0])"
   ]
  },
  {
   "cell_type": "code",
   "execution_count": null,
   "id": "dc47d005-8d8e-4cd0-9787-53e0bc54d9df",
   "metadata": {},
   "outputs": [],
   "source": [
    "#f1_macro = f1_score(y_true, y_pred_class, average='macro')\n",
    "#print(\"[INFO] f1 score macro average: \",f1_macro)\n",
    "\n",
    "#f1_micro = f1_score(y_true, y_pred_class, average='micro')\n",
    "#print(\"[INFO] f1 score micro average: \",f1_micro)\n",
    "\n",
    "#f1_weighted = f1_score(y_true, y_pred_class, average='weighted')\n",
    "#print(\"[INFO] f1 score weighted average: \",f1_weighted)"
   ]
  },
  {
   "cell_type": "code",
   "execution_count": null,
   "id": "abb576f2-6c80-4ab7-a4cf-4149c6310c55",
   "metadata": {},
   "outputs": [],
   "source": [
    "#Confusion matrix\n",
    "#matrix = confusion_matrix(y_true, y_pred_class)\n",
    "#fig , ax = plt.subplots(figsize = (24,20))\n",
    "#ax.matshow(matrix, cmap = plt.cm.Oranges , alpha = 0.3)\n",
    "#for i in range(matrix.shape[0]):\n",
    "#    for j in range (matrix.shape[1]):\n",
    "#        ax.text (x = j , y= i, s= matrix[i,j], va = 'center', ha = 'center', size = 'xx-large')\n",
    "#        \n",
    "#plt.xlabel('predicted', fontsize = 18)\n",
    "#plt.ylabel('Acutals', fontsize = 18)\n",
    "#plt.title('Confusion Matrix', fontsize = 18)\n",
    "#plt.show()\n",
    "#print(matrix)"
   ]
  },
  {
   "cell_type": "code",
   "execution_count": 33,
   "id": "03279ddb",
   "metadata": {
    "id": "03279ddb"
   },
   "outputs": [
    {
     "name": "stdout",
     "output_type": "stream",
     "text": [
      "              precision    recall  f1-score   support\n",
      "\n",
      "           0       0.44      0.60      0.50       643\n",
      "           1       0.38      0.55      0.45       503\n",
      "           2       0.57      0.41      0.48       162\n",
      "           3       0.48      0.29      0.36       514\n",
      "           4       0.41      0.38      0.39       664\n",
      "           5       0.56      0.47      0.51       993\n",
      "           6       0.70      0.77      0.74       832\n",
      "           7       0.56      0.31      0.40       159\n",
      "           8       0.45      0.41      0.43       970\n",
      "           9       0.42      0.16      0.23       190\n",
      "          10       0.59      0.66      0.62       911\n",
      "          11       0.61      0.52      0.56       961\n",
      "          12       0.34      0.24      0.28       319\n",
      "          13       0.45      0.32      0.37       301\n",
      "          14       0.57      0.57      0.57      1011\n",
      "          15       0.48      0.31      0.38       533\n",
      "          16       0.67      0.82      0.74      2083\n",
      "          17       0.36      0.31      0.33       468\n",
      "          18       0.58      0.72      0.64       557\n",
      "          19       0.52      0.68      0.59       146\n",
      "          20       0.58      0.66      0.62       179\n",
      "          21       0.55      0.52      0.53       545\n",
      "          22       0.79      0.87      0.82       793\n",
      "          23       0.42      0.15      0.22       144\n",
      "          24       0.40      0.39      0.39      1002\n",
      "          25       0.35      0.17      0.23       408\n",
      "          26       0.55      0.71      0.62       993\n",
      "\n",
      "    accuracy                           0.55     16984\n",
      "   macro avg       0.51      0.48      0.48     16984\n",
      "weighted avg       0.54      0.55      0.54     16984\n",
      "\n"
     ]
    }
   ],
   "source": [
    "print(metrics.classification_report(y_true, y_pred_class))"
   ]
  },
  {
   "cell_type": "markdown",
   "id": "90484101",
   "metadata": {},
   "source": [
    " ***Predict input image using trained model***"
   ]
  },
  {
   "cell_type": "code",
   "execution_count": 34,
   "id": "906ccc5f",
   "metadata": {},
   "outputs": [
    {
     "data": {
      "image/png": "[encoded data removed]",
      "text/plain": [
       "<Figure size 432x288 with 1 Axes>"
      ]
     },
     "metadata": {},
     "output_type": "display_data"
    }
   ],
   "source": [
    "# Predict With Pre Trained\n",
    "\n",
    "# Load an image\n",
    "im_id = 30\n",
    "img_path ='./data/images/all/image_train_resized/'+ df_train_im['imagePath'][im_id]\n",
    "\n",
    "img = image.load_img(img_path,target_size=(128, 128))\n",
    "plt.figure(figsize=(6,4))\n",
    "plt.imshow(img)\n",
    "plt.title(\"class: \" + str(df_train_im['prdtypecode'][im_id]))\n",
    "plt.xticks([])\n",
    "plt.yticks([])\n",
    "#plt.axis('off')\n",
    "plt.show();"
   ]
  },
  {
   "cell_type": "code",
   "execution_count": 35,
   "id": "96dd799f",
   "metadata": {},
   "outputs": [],
   "source": [
    "im = cv2.resize(cv2.imread(img_path), (224, 224))\n",
    "im = np.expand_dims(im, axis=0)"
   ]
  },
  {
   "cell_type": "code",
   "execution_count": 36,
   "id": "fe5ed456",
   "metadata": {},
   "outputs": [
    {
     "name": "stdout",
     "output_type": "stream",
     "text": [
      "------------------Predicted Class and Label ------------------------------\n",
      "target class(used by model) : 26\n",
      "\n",
      "  prdtypecode                              Label\n",
      "        2905 online distribution of video games\n",
      "\n",
      "\n",
      "------------------Real Class and Label ------------------------------\n",
      "target class(used by model):  16\n",
      "\n",
      "  prdtypecode               Label\n",
      "        2060 decoration interior\n"
     ]
    }
   ],
   "source": [
    "out = model.predict(im)\n",
    "print(\"------------------Predicted Class and Label ------------------------------\")\n",
    "print(\"target class(used by model) :\", np.argmax(out))\n",
    "print(\"\\n\"  ,df_class[df_class['target_prdtypecode'] == np.argmax(out)][['prdtypecode', 'Label']].to_string(index=False)) \n",
    "\n",
    "prd_code = df_train_im['prdtypecode'][im_id]\n",
    "\n",
    "print(\"\\n\\n------------------Real Class and Label ------------------------------\")\n",
    "print(\"target class(used by model): \" ,  df_class[df_class['target_prdtypecode'] == int(prd_code)]['target_prdtypecode'].to_string(index=False))\n",
    "print(\"\\n\"  ,df_class[df_class['target_prdtypecode'] == int(prd_code)][['prdtypecode', 'Label']].to_string(index=False))  \n"
   ]
  },
  {
   "cell_type": "markdown",
   "id": "d6094084",
   "metadata": {
    "id": "d6094084"
   },
   "source": [
    " ***Save VGG16 Model***"
   ]
  },
  {
   "cell_type": "code",
   "execution_count": 37,
   "id": "2756f2e9",
   "metadata": {
    "id": "2756f2e9"
   },
   "outputs": [],
   "source": [
    "#Enregistrement du modèle :\n",
    "model.save(\"./saves/VGG16/Iteration_4/Model_VGG16_All_Train_data_0412021_40Epochs.hdf5\")\n",
    "#The SavedModel and HDF5 file contains:\n",
    "#the model's configuration (topology)\n",
    "#the model's weights\n",
    "#the model's optimizer's state (if any)"
   ]
  },
  {
   "cell_type": "markdown",
   "id": "2c39b4e3",
   "metadata": {
    "id": "2c39b4e3"
   },
   "source": [
    " ***Load VGG16 Model***"
   ]
  },
  {
   "cell_type": "code",
   "execution_count": null,
   "id": "9ee47aed",
   "metadata": {
    "id": "9ee47aed"
   },
   "outputs": [],
   "source": [
    "#Rechargement du modèle :\n",
    "model = load_model('./saves/VGG16/Iteration_4/Model_VGG16_All_Train_data_0412021_40Epochs.hdf5')"
   ]
  }
 ],
 "metadata": {
  "accelerator": "GPU",
  "colab": {
   "collapsed_sections": [],
   "name": "Images_&_Iteration_#1_VGG16_Without_image_Preprocesing.ipynb",
   "provenance": [
    {
     "file_id": "17N2ubF_zjn2M-2g3bJ0lXH7vsD0mgLMb",
     "timestamp": 1629109577507
    }
   ]
  },
  "kernelspec": {
   "display_name": "Python 3 (ipykernel)",
   "language": "python",
   "name": "python3"
  },
  "language_info": {
   "codemirror_mode": {
    "name": "ipython",
    "version": 3
   },
   "file_extension": ".py",
   "mimetype": "text/x-python",
   "name": "python",
   "nbconvert_exporter": "python",
   "pygments_lexer": "ipython3",
   "version": "3.9.7"
  }
 },
 "nbformat": 4,
 "nbformat_minor": 5
}
