{
 "cells": [
  {
   "cell_type": "markdown",
   "id": "ba0641ee",
   "metadata": {
    "id": "ba0641ee"
   },
   "source": [
    "#  Xception : Images - Iteration #4_3(Without Data Augementation)"
   ]
  },
  {
   "cell_type": "markdown",
   "id": "33473556-2984-4671-af34-d107b3e650ae",
   "metadata": {},
   "source": [
    "img_rows = 299 <br>\n",
    "img_cols = 299 <br>\n",
    "batch_size = 64 <br>\n",
    "epochs = 50 <br>\n",
    "Train set size = 67933 <br>\n",
    "Valid set size = 16983 <br>\n",
    "<font color = 'red'> Without Fine tuning , just LR 0.001 to 1e-5 </font>"
   ]
  },
  {
   "cell_type": "markdown",
   "id": "dbf4b4b5-a1a1-47d6-a7d4-2cb839b5251a",
   "metadata": {},
   "source": [
    "**<u>Results</u>**"
   ]
  },
  {
   "cell_type": "markdown",
   "id": "0532c12d-0a1b-487b-b938-e578625c2df2",
   "metadata": {},
   "source": [
    "Accuracy : 0.62 <br>\n",
    "F1 score weighted : 0.61"
   ]
  },
  {
   "cell_type": "markdown",
   "id": "27545775",
   "metadata": {
    "id": "27545775"
   },
   "source": [
    "**Import packages**"
   ]
  },
  {
   "cell_type": "code",
   "execution_count": 1,
   "id": "92150877",
   "metadata": {
    "executionInfo": {
     "elapsed": 784,
     "status": "ok",
     "timestamp": 1634134527958,
     "user": {
      "displayName": "Mourad Mecheri",
      "photoUrl": "https://lh3.googleusercontent.com/a/default-user=s64",
      "userId": "08453845245011476141"
     },
     "user_tz": -120
    },
    "id": "92150877"
   },
   "outputs": [],
   "source": [
    "import os\n",
    "import glob\n",
    "import pandas as pd\n",
    "import numpy as np\n",
    "import cv2\n",
    "import matplotlib\n",
    "%matplotlib inline\n",
    "import matplotlib.pyplot as plt\n",
    "import seaborn as sns\n",
    "from tqdm import tqdm\n",
    "from tqdm.notebook import tqdm_notebook\n",
    "import re\n",
    "tqdm_notebook.pandas()\n",
    "import tensorflow as tf\n",
    "#from tensorflow import keras\n",
    "from tensorflow.keras.models import load_model\n",
    "from tensorflow.keras.models import Sequential\n",
    "from tensorflow.keras.layers import Dense, Activation\n",
    "from tensorflow.keras.layers import Dropout\n",
    "from tensorflow.keras.layers import Flatten\n",
    "from tensorflow.keras.layers import GlobalAveragePooling2D\n",
    "from tensorflow.keras.layers import Conv2D\n",
    "from tensorflow.keras.layers import MaxPooling2D\n",
    "from tensorflow.keras.callbacks import ModelCheckpoint, EarlyStopping, ReduceLROnPlateau\n",
    "from tensorflow.keras.applications.vgg16 import VGG16\n",
    "from tensorflow.keras.applications.efficientnet import EfficientNetB7\n",
    "from tensorflow.keras.applications.mobilenet_v2 import MobileNetV2\n",
    "from tensorflow.keras.applications.densenet import DenseNet121\n",
    "from tensorflow.keras.applications.vgg16 import preprocess_input\n",
    "from tensorflow.keras.applications.xception import Xception\n",
    "from tensorflow.keras.preprocessing.image import ImageDataGenerator\n",
    "from tensorflow.keras.preprocessing import image\n",
    "from tensorflow.keras.optimizers import Adam\n",
    "from sklearn.metrics import f1_score , recall_score, accuracy_score, precision_score, confusion_matrix\n",
    "from keras.utils import np_utils\n",
    "from sklearn.model_selection import train_test_split\n",
    "from sklearn import metrics\n",
    "import itertools\n",
    "import pickle\n",
    "from joblib import dump, load"
   ]
  },
  {
   "cell_type": "markdown",
   "id": "d7a3fcab",
   "metadata": {
    "id": "d7a3fcab"
   },
   "source": [
    "# Iteration #4_3 - Xception"
   ]
  },
  {
   "cell_type": "markdown",
   "id": "a1224583",
   "metadata": {
    "id": "a1224583"
   },
   "source": [
    "***Read DataFrame from saved pickele file - image Train set***"
   ]
  },
  {
   "cell_type": "code",
   "execution_count": 2,
   "id": "8ef548a9",
   "metadata": {
    "executionInfo": {
     "elapsed": 2592,
     "status": "ok",
     "timestamp": 1634134546598,
     "user": {
      "displayName": "Mourad Mecheri",
      "photoUrl": "https://lh3.googleusercontent.com/a/default-user=s64",
      "userId": "08453845245011476141"
     },
     "user_tz": -120
    },
    "id": "8ef548a9"
   },
   "outputs": [],
   "source": [
    "#Load df of images already resized on 256 x 256 \n",
    "#df_train_im = pd.read_pickle(\"./saves/df_save/df_train_combined_19102021.pkl\")\n",
    "\n",
    "#Load df of images with org size 500 x 500\n",
    "df_train_im = pd.read_pickle(\"./saves/df_save/df_train_combined_ORG_im_size_02122021.pkl\")"
   ]
  },
  {
   "cell_type": "code",
   "execution_count": 3,
   "id": "d271de78",
   "metadata": {
    "colab": {
     "base_uri": "https://localhost:8080/",
     "height": 238
    },
    "executionInfo": {
     "elapsed": 198,
     "status": "ok",
     "timestamp": 1634134561983,
     "user": {
      "displayName": "Mourad Mecheri",
      "photoUrl": "https://lh3.googleusercontent.com/a/default-user=s64",
      "userId": "08453845245011476141"
     },
     "user_tz": -120
    },
    "id": "d271de78",
    "outputId": "7c8fd8a1-e44a-4948-cfc7-f477aa1daaa6"
   },
   "outputs": [
    {
     "data": {
      "text/html": [
       "<div>\n",
       "<style scoped>\n",
       "    .dataframe tbody tr th:only-of-type {\n",
       "        vertical-align: middle;\n",
       "    }\n",
       "\n",
       "    .dataframe tbody tr th {\n",
       "        vertical-align: top;\n",
       "    }\n",
       "\n",
       "    .dataframe thead th {\n",
       "        text-align: right;\n",
       "    }\n",
       "</style>\n",
       "<table border=\"1\" class=\"dataframe\">\n",
       "  <thead>\n",
       "    <tr style=\"text-align: right;\">\n",
       "      <th></th>\n",
       "      <th>designation</th>\n",
       "      <th>description</th>\n",
       "      <th>productid</th>\n",
       "      <th>imageid</th>\n",
       "      <th>prdtypecode</th>\n",
       "      <th>imagePath</th>\n",
       "    </tr>\n",
       "  </thead>\n",
       "  <tbody>\n",
       "    <tr>\n",
       "      <th>0</th>\n",
       "      <td>Olivia: Personalisiertes Notizbuch / 150 Seite...</td>\n",
       "      <td>NaN</td>\n",
       "      <td>3804725264</td>\n",
       "      <td>1263597046</td>\n",
       "      <td>10</td>\n",
       "      <td>image_1263597046_product_3804725264.jpg</td>\n",
       "    </tr>\n",
       "    <tr>\n",
       "      <th>1</th>\n",
       "      <td>Journal Des Arts (Le) N° 133 Du 28/09/2001 - L...</td>\n",
       "      <td>NaN</td>\n",
       "      <td>436067568</td>\n",
       "      <td>1008141237</td>\n",
       "      <td>2280</td>\n",
       "      <td>image_1008141237_product_436067568.jpg</td>\n",
       "    </tr>\n",
       "    <tr>\n",
       "      <th>2</th>\n",
       "      <td>Grand Stylet Ergonomique Bleu Gamepad Nintendo...</td>\n",
       "      <td>PILOT STYLE Touch Pen de marque Speedlink est ...</td>\n",
       "      <td>201115110</td>\n",
       "      <td>938777978</td>\n",
       "      <td>50</td>\n",
       "      <td>image_938777978_product_201115110.jpg</td>\n",
       "    </tr>\n",
       "    <tr>\n",
       "      <th>3</th>\n",
       "      <td>Peluche Donald - Europe - Disneyland 2000 (Mar...</td>\n",
       "      <td>NaN</td>\n",
       "      <td>50418756</td>\n",
       "      <td>457047496</td>\n",
       "      <td>1280</td>\n",
       "      <td>image_457047496_product_50418756.jpg</td>\n",
       "    </tr>\n",
       "    <tr>\n",
       "      <th>4</th>\n",
       "      <td>La Guerre Des Tuques</td>\n",
       "      <td>Luc a des id&amp;eacute;es de grandeur. Il veut or...</td>\n",
       "      <td>278535884</td>\n",
       "      <td>1077757786</td>\n",
       "      <td>2705</td>\n",
       "      <td>image_1077757786_product_278535884.jpg</td>\n",
       "    </tr>\n",
       "  </tbody>\n",
       "</table>\n",
       "</div>"
      ],
      "text/plain": [
       "                                         designation  \\\n",
       "0  Olivia: Personalisiertes Notizbuch / 150 Seite...   \n",
       "1  Journal Des Arts (Le) N° 133 Du 28/09/2001 - L...   \n",
       "2  Grand Stylet Ergonomique Bleu Gamepad Nintendo...   \n",
       "3  Peluche Donald - Europe - Disneyland 2000 (Mar...   \n",
       "4                               La Guerre Des Tuques   \n",
       "\n",
       "                                         description   productid     imageid  \\\n",
       "0                                                NaN  3804725264  1263597046   \n",
       "1                                                NaN   436067568  1008141237   \n",
       "2  PILOT STYLE Touch Pen de marque Speedlink est ...   201115110   938777978   \n",
       "3                                                NaN    50418756   457047496   \n",
       "4  Luc a des id&eacute;es de grandeur. Il veut or...   278535884  1077757786   \n",
       "\n",
       "   prdtypecode                                imagePath  \n",
       "0           10  image_1263597046_product_3804725264.jpg  \n",
       "1         2280   image_1008141237_product_436067568.jpg  \n",
       "2           50    image_938777978_product_201115110.jpg  \n",
       "3         1280     image_457047496_product_50418756.jpg  \n",
       "4         2705   image_1077757786_product_278535884.jpg  "
      ]
     },
     "execution_count": 3,
     "metadata": {},
     "output_type": "execute_result"
    }
   ],
   "source": [
    "df_train_im.head()"
   ]
  },
  {
   "cell_type": "code",
   "execution_count": 4,
   "id": "d43d8189",
   "metadata": {
    "colab": {
     "base_uri": "https://localhost:8080/",
     "height": 34
    },
    "executionInfo": {
     "elapsed": 11,
     "status": "ok",
     "timestamp": 1634134564801,
     "user": {
      "displayName": "Mourad Mecheri",
      "photoUrl": "https://lh3.googleusercontent.com/a/default-user=s64",
      "userId": "08453845245011476141"
     },
     "user_tz": -120
    },
    "id": "d43d8189",
    "outputId": "2df9d40d-1f91-4eb1-af2e-61fb2a206a2d"
   },
   "outputs": [
    {
     "data": {
      "text/plain": [
       "(84916, 6)"
      ]
     },
     "metadata": {},
     "output_type": "display_data"
    }
   ],
   "source": [
    "display(df_train_im.shape)"
   ]
  },
  {
   "cell_type": "markdown",
   "id": "380b8623",
   "metadata": {
    "id": "380b8623"
   },
   "source": [
    "***Create Dataframe containing  product classes and their associated labels***"
   ]
  },
  {
   "cell_type": "code",
   "execution_count": 5,
   "id": "c65eaf07",
   "metadata": {},
   "outputs": [
    {
     "data": {
      "text/html": [
       "<div>\n",
       "<style scoped>\n",
       "    .dataframe tbody tr th:only-of-type {\n",
       "        vertical-align: middle;\n",
       "    }\n",
       "\n",
       "    .dataframe tbody tr th {\n",
       "        vertical-align: top;\n",
       "    }\n",
       "\n",
       "    .dataframe thead th {\n",
       "        text-align: right;\n",
       "    }\n",
       "</style>\n",
       "<table border=\"1\" class=\"dataframe\">\n",
       "  <thead>\n",
       "    <tr style=\"text-align: right;\">\n",
       "      <th></th>\n",
       "      <th>prdtypecode</th>\n",
       "      <th>Label</th>\n",
       "    </tr>\n",
       "  </thead>\n",
       "  <tbody>\n",
       "    <tr>\n",
       "      <th>0</th>\n",
       "      <td>50</td>\n",
       "      <td>video games accessories</td>\n",
       "    </tr>\n",
       "    <tr>\n",
       "      <th>1</th>\n",
       "      <td>2705</td>\n",
       "      <td>books</td>\n",
       "    </tr>\n",
       "    <tr>\n",
       "      <th>2</th>\n",
       "      <td>2522</td>\n",
       "      <td>stationery</td>\n",
       "    </tr>\n",
       "    <tr>\n",
       "      <th>3</th>\n",
       "      <td>2582</td>\n",
       "      <td>kitchen and garden</td>\n",
       "    </tr>\n",
       "    <tr>\n",
       "      <th>4</th>\n",
       "      <td>1560</td>\n",
       "      <td>interior furniture and bedding</td>\n",
       "    </tr>\n",
       "    <tr>\n",
       "      <th>5</th>\n",
       "      <td>1281</td>\n",
       "      <td>board games</td>\n",
       "    </tr>\n",
       "    <tr>\n",
       "      <th>6</th>\n",
       "      <td>1920</td>\n",
       "      <td>interior accessories</td>\n",
       "    </tr>\n",
       "    <tr>\n",
       "      <th>7</th>\n",
       "      <td>1280</td>\n",
       "      <td>toys for children</td>\n",
       "    </tr>\n",
       "    <tr>\n",
       "      <th>8</th>\n",
       "      <td>1140</td>\n",
       "      <td>goodies</td>\n",
       "    </tr>\n",
       "    <tr>\n",
       "      <th>9</th>\n",
       "      <td>1300</td>\n",
       "      <td>remote controlled models</td>\n",
       "    </tr>\n",
       "    <tr>\n",
       "      <th>10</th>\n",
       "      <td>2060</td>\n",
       "      <td>decoration interior</td>\n",
       "    </tr>\n",
       "    <tr>\n",
       "      <th>11</th>\n",
       "      <td>2583</td>\n",
       "      <td>piscine spa</td>\n",
       "    </tr>\n",
       "    <tr>\n",
       "      <th>12</th>\n",
       "      <td>60</td>\n",
       "      <td>games and consoles</td>\n",
       "    </tr>\n",
       "    <tr>\n",
       "      <th>13</th>\n",
       "      <td>1320</td>\n",
       "      <td>early childhood</td>\n",
       "    </tr>\n",
       "    <tr>\n",
       "      <th>14</th>\n",
       "      <td>2280</td>\n",
       "      <td>magazines</td>\n",
       "    </tr>\n",
       "    <tr>\n",
       "      <th>15</th>\n",
       "      <td>1302</td>\n",
       "      <td>kids toys</td>\n",
       "    </tr>\n",
       "    <tr>\n",
       "      <th>16</th>\n",
       "      <td>2220</td>\n",
       "      <td>supplies for domestic animals</td>\n",
       "    </tr>\n",
       "    <tr>\n",
       "      <th>17</th>\n",
       "      <td>40</td>\n",
       "      <td>imported video games</td>\n",
       "    </tr>\n",
       "    <tr>\n",
       "      <th>18</th>\n",
       "      <td>2905</td>\n",
       "      <td>online distribution of video games</td>\n",
       "    </tr>\n",
       "    <tr>\n",
       "      <th>19</th>\n",
       "      <td>2585</td>\n",
       "      <td>gardening and DIY</td>\n",
       "    </tr>\n",
       "    <tr>\n",
       "      <th>20</th>\n",
       "      <td>1940</td>\n",
       "      <td>Food</td>\n",
       "    </tr>\n",
       "    <tr>\n",
       "      <th>21</th>\n",
       "      <td>1160</td>\n",
       "      <td>playing cards</td>\n",
       "    </tr>\n",
       "    <tr>\n",
       "      <th>22</th>\n",
       "      <td>1301</td>\n",
       "      <td>accessories children</td>\n",
       "    </tr>\n",
       "    <tr>\n",
       "      <th>23</th>\n",
       "      <td>10</td>\n",
       "      <td>adult books</td>\n",
       "    </tr>\n",
       "    <tr>\n",
       "      <th>24</th>\n",
       "      <td>1180</td>\n",
       "      <td>figurines_wargames</td>\n",
       "    </tr>\n",
       "    <tr>\n",
       "      <th>25</th>\n",
       "      <td>2403</td>\n",
       "      <td>children books</td>\n",
       "    </tr>\n",
       "    <tr>\n",
       "      <th>26</th>\n",
       "      <td>2462</td>\n",
       "      <td>games</td>\n",
       "    </tr>\n",
       "  </tbody>\n",
       "</table>\n",
       "</div>"
      ],
      "text/plain": [
       "    prdtypecode                               Label\n",
       "0            50             video games accessories\n",
       "1          2705                               books\n",
       "2          2522                          stationery\n",
       "3          2582                  kitchen and garden\n",
       "4          1560      interior furniture and bedding\n",
       "5          1281                         board games\n",
       "6          1920                interior accessories\n",
       "7          1280                   toys for children\n",
       "8          1140                             goodies\n",
       "9          1300            remote controlled models\n",
       "10         2060                 decoration interior\n",
       "11         2583                         piscine spa\n",
       "12           60                  games and consoles\n",
       "13         1320                     early childhood\n",
       "14         2280                           magazines\n",
       "15         1302                           kids toys\n",
       "16         2220       supplies for domestic animals\n",
       "17           40                imported video games\n",
       "18         2905  online distribution of video games\n",
       "19         2585                   gardening and DIY\n",
       "20         1940                                Food\n",
       "21         1160                       playing cards\n",
       "22         1301                accessories children\n",
       "23           10                         adult books\n",
       "24         1180                  figurines_wargames\n",
       "25         2403                      children books\n",
       "26         2462                               games"
      ]
     },
     "execution_count": 5,
     "metadata": {},
     "output_type": "execute_result"
    }
   ],
   "source": [
    "#Dictionary of prdtypecode and their corresponding categories\n",
    "dict_prdtypecode = {\"prdtypecode\" : [50, 2705, 2522, 2582, 1560, 1281, 1920, 1280, 1140, 1300, 2060, 2583,\n",
    "                                     60, 1320, 2280, 1302, 2220, 40, 2905, 2585, 1940, 1160, 1301, 10, 1180,\n",
    "                                     2403, 2462],                 \n",
    "            \n",
    "                    \"Label\" : [\"video games accessories\", \"books\", \"stationery\", \"kitchen and garden\", \n",
    "                               \"interior furniture and bedding\", \"board games\", \"interior accessories\",\n",
    "                               \"toys for children\",\"goodies\", \"remote controlled models\", \"decoration interior\",\n",
    "                               \"piscine spa\",\"games and consoles\", \"early childhood\", \"magazines\", \"kids toys\",\n",
    "                               \"supplies for domestic animals\", \"imported video games\", \"online distribution of video games\",\n",
    "                               \"gardening and DIY\",\"Food\",\"playing cards\", \"accessories children\", \"adult books\",\n",
    "                               \"figurines_wargames\", \"children books\",\n",
    "                                \"games\"]\n",
    "                   }\n",
    "df_class = pd.DataFrame(data=dict_prdtypecode)\n",
    "df_class"
   ]
  },
  {
   "cell_type": "code",
   "execution_count": 6,
   "id": "92a6002b",
   "metadata": {},
   "outputs": [
    {
     "data": {
      "text/html": [
       "<div>\n",
       "<style scoped>\n",
       "    .dataframe tbody tr th:only-of-type {\n",
       "        vertical-align: middle;\n",
       "    }\n",
       "\n",
       "    .dataframe tbody tr th {\n",
       "        vertical-align: top;\n",
       "    }\n",
       "\n",
       "    .dataframe thead th {\n",
       "        text-align: right;\n",
       "    }\n",
       "</style>\n",
       "<table border=\"1\" class=\"dataframe\">\n",
       "  <thead>\n",
       "    <tr style=\"text-align: right;\">\n",
       "      <th></th>\n",
       "      <th>prdtypecode</th>\n",
       "      <th>Label</th>\n",
       "      <th>target_prdtypecode</th>\n",
       "    </tr>\n",
       "  </thead>\n",
       "  <tbody>\n",
       "    <tr>\n",
       "      <th>23</th>\n",
       "      <td>10</td>\n",
       "      <td>adult books</td>\n",
       "      <td>0</td>\n",
       "    </tr>\n",
       "    <tr>\n",
       "      <th>17</th>\n",
       "      <td>40</td>\n",
       "      <td>imported video games</td>\n",
       "      <td>1</td>\n",
       "    </tr>\n",
       "    <tr>\n",
       "      <th>0</th>\n",
       "      <td>50</td>\n",
       "      <td>video games accessories</td>\n",
       "      <td>2</td>\n",
       "    </tr>\n",
       "    <tr>\n",
       "      <th>12</th>\n",
       "      <td>60</td>\n",
       "      <td>games and consoles</td>\n",
       "      <td>3</td>\n",
       "    </tr>\n",
       "    <tr>\n",
       "      <th>8</th>\n",
       "      <td>1140</td>\n",
       "      <td>goodies</td>\n",
       "      <td>4</td>\n",
       "    </tr>\n",
       "    <tr>\n",
       "      <th>21</th>\n",
       "      <td>1160</td>\n",
       "      <td>playing cards</td>\n",
       "      <td>5</td>\n",
       "    </tr>\n",
       "    <tr>\n",
       "      <th>24</th>\n",
       "      <td>1180</td>\n",
       "      <td>figurines_wargames</td>\n",
       "      <td>6</td>\n",
       "    </tr>\n",
       "    <tr>\n",
       "      <th>7</th>\n",
       "      <td>1280</td>\n",
       "      <td>toys for children</td>\n",
       "      <td>7</td>\n",
       "    </tr>\n",
       "    <tr>\n",
       "      <th>5</th>\n",
       "      <td>1281</td>\n",
       "      <td>board games</td>\n",
       "      <td>8</td>\n",
       "    </tr>\n",
       "    <tr>\n",
       "      <th>9</th>\n",
       "      <td>1300</td>\n",
       "      <td>remote controlled models</td>\n",
       "      <td>9</td>\n",
       "    </tr>\n",
       "    <tr>\n",
       "      <th>22</th>\n",
       "      <td>1301</td>\n",
       "      <td>accessories children</td>\n",
       "      <td>10</td>\n",
       "    </tr>\n",
       "    <tr>\n",
       "      <th>15</th>\n",
       "      <td>1302</td>\n",
       "      <td>kids toys</td>\n",
       "      <td>11</td>\n",
       "    </tr>\n",
       "    <tr>\n",
       "      <th>13</th>\n",
       "      <td>1320</td>\n",
       "      <td>early childhood</td>\n",
       "      <td>12</td>\n",
       "    </tr>\n",
       "    <tr>\n",
       "      <th>4</th>\n",
       "      <td>1560</td>\n",
       "      <td>interior furniture and bedding</td>\n",
       "      <td>13</td>\n",
       "    </tr>\n",
       "    <tr>\n",
       "      <th>6</th>\n",
       "      <td>1920</td>\n",
       "      <td>interior accessories</td>\n",
       "      <td>14</td>\n",
       "    </tr>\n",
       "    <tr>\n",
       "      <th>20</th>\n",
       "      <td>1940</td>\n",
       "      <td>Food</td>\n",
       "      <td>15</td>\n",
       "    </tr>\n",
       "    <tr>\n",
       "      <th>10</th>\n",
       "      <td>2060</td>\n",
       "      <td>decoration interior</td>\n",
       "      <td>16</td>\n",
       "    </tr>\n",
       "    <tr>\n",
       "      <th>16</th>\n",
       "      <td>2220</td>\n",
       "      <td>supplies for domestic animals</td>\n",
       "      <td>17</td>\n",
       "    </tr>\n",
       "    <tr>\n",
       "      <th>14</th>\n",
       "      <td>2280</td>\n",
       "      <td>magazines</td>\n",
       "      <td>18</td>\n",
       "    </tr>\n",
       "    <tr>\n",
       "      <th>25</th>\n",
       "      <td>2403</td>\n",
       "      <td>children books</td>\n",
       "      <td>19</td>\n",
       "    </tr>\n",
       "    <tr>\n",
       "      <th>26</th>\n",
       "      <td>2462</td>\n",
       "      <td>games</td>\n",
       "      <td>20</td>\n",
       "    </tr>\n",
       "    <tr>\n",
       "      <th>2</th>\n",
       "      <td>2522</td>\n",
       "      <td>stationery</td>\n",
       "      <td>21</td>\n",
       "    </tr>\n",
       "    <tr>\n",
       "      <th>3</th>\n",
       "      <td>2582</td>\n",
       "      <td>kitchen and garden</td>\n",
       "      <td>22</td>\n",
       "    </tr>\n",
       "    <tr>\n",
       "      <th>11</th>\n",
       "      <td>2583</td>\n",
       "      <td>piscine spa</td>\n",
       "      <td>23</td>\n",
       "    </tr>\n",
       "    <tr>\n",
       "      <th>19</th>\n",
       "      <td>2585</td>\n",
       "      <td>gardening and DIY</td>\n",
       "      <td>24</td>\n",
       "    </tr>\n",
       "    <tr>\n",
       "      <th>1</th>\n",
       "      <td>2705</td>\n",
       "      <td>books</td>\n",
       "      <td>25</td>\n",
       "    </tr>\n",
       "    <tr>\n",
       "      <th>18</th>\n",
       "      <td>2905</td>\n",
       "      <td>online distribution of video games</td>\n",
       "      <td>26</td>\n",
       "    </tr>\n",
       "  </tbody>\n",
       "</table>\n",
       "</div>"
      ],
      "text/plain": [
       "    prdtypecode                               Label  target_prdtypecode\n",
       "23           10                         adult books                   0\n",
       "17           40                imported video games                   1\n",
       "0            50             video games accessories                   2\n",
       "12           60                  games and consoles                   3\n",
       "8          1140                             goodies                   4\n",
       "21         1160                       playing cards                   5\n",
       "24         1180                  figurines_wargames                   6\n",
       "7          1280                   toys for children                   7\n",
       "5          1281                         board games                   8\n",
       "9          1300            remote controlled models                   9\n",
       "22         1301                accessories children                  10\n",
       "15         1302                           kids toys                  11\n",
       "13         1320                     early childhood                  12\n",
       "4          1560      interior furniture and bedding                  13\n",
       "6          1920                interior accessories                  14\n",
       "20         1940                                Food                  15\n",
       "10         2060                 decoration interior                  16\n",
       "16         2220       supplies for domestic animals                  17\n",
       "14         2280                           magazines                  18\n",
       "25         2403                      children books                  19\n",
       "26         2462                               games                  20\n",
       "2          2522                          stationery                  21\n",
       "3          2582                  kitchen and garden                  22\n",
       "11         2583                         piscine spa                  23\n",
       "19         2585                   gardening and DIY                  24\n",
       "1          2705                               books                  25\n",
       "18         2905  online distribution of video games                  26"
      ]
     },
     "execution_count": 6,
     "metadata": {},
     "output_type": "execute_result"
    }
   ],
   "source": [
    "# Crate DF containing prdtypecode , categories and corresponding class used by model\n",
    "df_class = df_class.sort_values(by = 'prdtypecode', ascending = True)\n",
    "df_class['target_prdtypecode'] = [i for i in range(27)]\n",
    "df_class"
   ]
  },
  {
   "cell_type": "markdown",
   "id": "ffbe1b7c-735b-479d-8eb0-295a1cf6077c",
   "metadata": {},
   "source": [
    "***Change the 27 product codes to 0 to 26***"
   ]
  },
  {
   "cell_type": "code",
   "execution_count": 7,
   "id": "56ea410b",
   "metadata": {
    "executionInfo": {
     "elapsed": 191,
     "status": "ok",
     "timestamp": 1634134621597,
     "user": {
      "displayName": "Mourad Mecheri",
      "photoUrl": "https://lh3.googleusercontent.com/a/default-user=s64",
      "userId": "08453845245011476141"
     },
     "user_tz": -120
    },
    "id": "56ea410b"
   },
   "outputs": [],
   "source": [
    "df_train_im.replace({'prdtypecode':{10:0,\n",
    "                                    40:1,\n",
    "                                    50:2,\n",
    "                                    60:3,\n",
    "                                    1140:4,\n",
    "                                    1160:5,\n",
    "                                    1180:6,\n",
    "                                    1280:7,\n",
    "                                    1281:8,\n",
    "                                    1300:9                                    \n",
    "                                    }}, inplace = True)\n",
    "\n",
    "df_train_im.replace({'prdtypecode':{1301:10,\n",
    "                                    1302:11,\n",
    "                                    1320:12,\n",
    "                                    1560:13,\n",
    "                                    1920:14,\n",
    "                                    1940:15,\n",
    "                                    2060:16,\n",
    "                                    2220:17,\n",
    "                                    2280:18,\n",
    "                                    2403:19,\n",
    "                                    2462:20,\n",
    "                                    2522:21,\n",
    "                                    2582:22,\n",
    "                                    2583:23,\n",
    "                                    2585:24,\n",
    "                                    2705:25,\n",
    "                                    2905:26\n",
    "                                    }}, inplace = True)"
   ]
  },
  {
   "cell_type": "code",
   "execution_count": 8,
   "id": "4eafb15b",
   "metadata": {
    "colab": {
     "base_uri": "https://localhost:8080/",
     "height": 51
    },
    "executionInfo": {
     "elapsed": 220,
     "status": "ok",
     "timestamp": 1634134626306,
     "user": {
      "displayName": "Mourad Mecheri",
      "photoUrl": "https://lh3.googleusercontent.com/a/default-user=s64",
      "userId": "08453845245011476141"
     },
     "user_tz": -120
    },
    "id": "4eafb15b",
    "outputId": "d58b0b3b-65ac-4f95-ed66-7abb38c14a57"
   },
   "outputs": [
    {
     "data": {
      "text/plain": [
       "array([ 0, 18,  2,  7, 25, 21, 22, 13,  8, 14, 19,  4, 23,  6,  9, 20,  5,\n",
       "       16,  1,  3, 12, 11, 17, 26, 24, 15, 10], dtype=int64)"
      ]
     },
     "metadata": {},
     "output_type": "display_data"
    }
   ],
   "source": [
    "display(df_train_im[\"prdtypecode\"].unique())"
   ]
  },
  {
   "cell_type": "markdown",
   "id": "48d5c521-fa0d-4531-8b13-99dfe103d351",
   "metadata": {},
   "source": [
    " ***Convert product code to string type***"
   ]
  },
  {
   "cell_type": "code",
   "execution_count": 9,
   "id": "b625d98f-9d71-46a6-b646-4d899e3da9f6",
   "metadata": {},
   "outputs": [],
   "source": [
    "df_train_im[\"prdtypecode\"] = df_train_im[\"prdtypecode\"].astype(str)"
   ]
  },
  {
   "cell_type": "code",
   "execution_count": 10,
   "id": "e2c1f1ef",
   "metadata": {
    "colab": {
     "base_uri": "https://localhost:8080/"
    },
    "executionInfo": {
     "elapsed": 215,
     "status": "ok",
     "timestamp": 1634134641759,
     "user": {
      "displayName": "Mourad Mecheri",
      "photoUrl": "https://lh3.googleusercontent.com/a/default-user=s64",
      "userId": "08453845245011476141"
     },
     "user_tz": -120
    },
    "id": "e2c1f1ef",
    "outputId": "11940c5a-39fe-4b68-b766-528d372d90ec"
   },
   "outputs": [
    {
     "data": {
      "text/plain": [
       "{'0': 3116,\n",
       " '1': 2508,\n",
       " '10': 807,\n",
       " '11': 2491,\n",
       " '12': 3241,\n",
       " '13': 5073,\n",
       " '14': 4303,\n",
       " '15': 803,\n",
       " '16': 4993,\n",
       " '17': 824,\n",
       " '18': 4760,\n",
       " '19': 4774,\n",
       " '2': 1681,\n",
       " '20': 1421,\n",
       " '21': 4989,\n",
       " '22': 2589,\n",
       " '23': 10209,\n",
       " '24': 2496,\n",
       " '25': 2761,\n",
       " '26': 872,\n",
       " '3': 832,\n",
       " '4': 2671,\n",
       " '5': 3953,\n",
       " '6': 764,\n",
       " '7': 4870,\n",
       " '8': 2070,\n",
       " '9': 5045}"
      ]
     },
     "execution_count": 10,
     "metadata": {},
     "output_type": "execute_result"
    }
   ],
   "source": [
    "unique, counts = np.unique(df_train_im[\"prdtypecode\"], return_counts=True)\n",
    "dict(zip(unique, counts))"
   ]
  },
  {
   "cell_type": "markdown",
   "id": "483d6b34-79a6-4d68-a809-1f0a3823ed28",
   "metadata": {},
   "source": [
    " ***Split Train Set***"
   ]
  },
  {
   "cell_type": "code",
   "execution_count": 11,
   "id": "228d8239-fa89-4a6a-bf6e-61b791873269",
   "metadata": {},
   "outputs": [],
   "source": [
    "# Split Train set \n",
    "#X_train_im, X_test_im = train_test_split(df_train_im, train_size=0.8, random_state=1234)"
   ]
  },
  {
   "cell_type": "code",
   "execution_count": 12,
   "id": "291376a2-92a7-496c-b169-6da42f782393",
   "metadata": {},
   "outputs": [],
   "source": [
    "#display(X_train_im.shape)\n",
    "#display(X_test_im.shape)"
   ]
  },
  {
   "cell_type": "markdown",
   "id": "f21164b7-f9cd-4fa5-885d-ad7aaecf3a12",
   "metadata": {},
   "source": [
    "***Data Generator***"
   ]
  },
  {
   "cell_type": "code",
   "execution_count": 13,
   "id": "17b3712d",
   "metadata": {},
   "outputs": [
    {
     "name": "stdout",
     "output_type": "stream",
     "text": [
      "Wall time: 0 ns\n"
     ]
    }
   ],
   "source": [
    "%%time\n",
    "#Générateur de données\n",
    "img_gen = ImageDataGenerator(rescale = 1/255, \n",
    "                             validation_split = 0.2)"
   ]
  },
  {
   "cell_type": "code",
   "execution_count": 14,
   "id": "16aa7587",
   "metadata": {},
   "outputs": [],
   "source": [
    "img_rows = 299\n",
    "img_cols = 299\n",
    "batch_size = 64\n",
    "epochs = 50\n",
    "\n",
    "# Directory of images already resized on 256 x 256 \n",
    "#images_dir_train = './data/images/all/image_train_resized/'\n",
    "#images_dir_train = 'E:/WorkSpace_DataScience_E/Rakuten_Projet_Local/My_WS/data/images/all/image_train_resized/'\n",
    "\n",
    "# Directory of images org resize 500 x 500\n",
    "images_dir_train = './data/images/all/image_train/'\n",
    "#images_dir_train = 'E:/WorkSpace_DataScience_E/Rakuten_Projet_Local/My_WS/data/images/all/image_train/'"
   ]
  },
  {
   "cell_type": "code",
   "execution_count": 15,
   "id": "fd8ba6bc",
   "metadata": {
    "colab": {
     "base_uri": "https://localhost:8080/"
    },
    "executionInfo": {
     "elapsed": 167,
     "status": "ok",
     "timestamp": 1634134679437,
     "user": {
      "displayName": "Mourad Mecheri",
      "photoUrl": "https://lh3.googleusercontent.com/a/default-user=s64",
      "userId": "08453845245011476141"
     },
     "user_tz": -120
    },
    "id": "fd8ba6bc",
    "outputId": "b76fb8f3-9044-4993-ad24-e652a6878d50"
   },
   "outputs": [
    {
     "name": "stdout",
     "output_type": "stream",
     "text": [
      "Found 67933 validated image filenames belonging to 27 classes.\n",
      "Wall time: 6.82 s\n"
     ]
    }
   ],
   "source": [
    "%%time\n",
    "\n",
    "#Itérateur \n",
    "train_generator = img_gen.flow_from_dataframe(dataframe = df_train_im,\n",
    "                                              directory = images_dir_train,\n",
    "                                              as_ext = True,\n",
    "                                              x_col = 'imagePath',\n",
    "                                              y_col = 'prdtypecode',  #target data                                            \n",
    "                                              class_mode = 'sparse',                                             \n",
    "                                              target_size = (img_rows , img_cols), # default 256 x 256                                             \n",
    "                                              batch_size = batch_size,                                             \n",
    "                                              shuffle = True, # défault\n",
    "                                              subset = 'training'\n",
    "                                             )"
   ]
  },
  {
   "cell_type": "code",
   "execution_count": 16,
   "id": "5108cec9",
   "metadata": {
    "colab": {
     "base_uri": "https://localhost:8080/"
    },
    "executionInfo": {
     "elapsed": 628791,
     "status": "ok",
     "timestamp": 1634135310666,
     "user": {
      "displayName": "Mourad Mecheri",
      "photoUrl": "https://lh3.googleusercontent.com/a/default-user=s64",
      "userId": "08453845245011476141"
     },
     "user_tz": -120
    },
    "id": "5108cec9",
    "outputId": "ed853466-d8b5-4f0d-bfbd-b5c18a8b7bc3"
   },
   "outputs": [
    {
     "name": "stdout",
     "output_type": "stream",
     "text": [
      "Found 16983 validated image filenames belonging to 27 classes.\n",
      "Wall time: 5.72 s\n"
     ]
    }
   ],
   "source": [
    "%%time\n",
    "# validation_split the validation batches ca be retrieved by specifying the subset as validation.\n",
    "valid_generator = img_gen.flow_from_dataframe(dataframe = df_train_im, \n",
    "                                              directory = images_dir_train,\n",
    "                                              as_ext = True,\n",
    "                                              x_col = 'imagePath',\n",
    "                                              y_col = 'prdtypecode',  #target data                                            \n",
    "                                              class_mode = 'sparse',                                        \n",
    "                                              target_size = (img_rows , img_cols), # default 256 x 256                                         \n",
    "                                              batch_size = batch_size, \n",
    "                                              shuffle = False,\n",
    "                                              subset  = 'validation'\n",
    "                                             )"
   ]
  },
  {
   "cell_type": "markdown",
   "id": "3241b27e",
   "metadata": {
    "id": "3241b27e"
   },
   "source": [
    " ***Xception Implementation***"
   ]
  },
  {
   "cell_type": "code",
   "execution_count": 17,
   "id": "1a56928f",
   "metadata": {
    "id": "1a56928f",
    "outputId": "3309c8d0-8391-4e65-82b1-1a57b201c975"
   },
   "outputs": [
    {
     "name": "stdout",
     "output_type": "stream",
     "text": [
      "Model: \"sequential\"\n",
      "_________________________________________________________________\n",
      "Layer (type)                 Output Shape              Param #   \n",
      "=================================================================\n",
      "xception (Functional)        (None, 10, 10, 2048)      20861480  \n",
      "_________________________________________________________________\n",
      "global_average_pooling2d (Gl (None, 2048)              0         \n",
      "_________________________________________________________________\n",
      "dense (Dense)                (None, 1024)              2098176   \n",
      "_________________________________________________________________\n",
      "dropout (Dropout)            (None, 1024)              0         \n",
      "_________________________________________________________________\n",
      "dense_1 (Dense)              (None, 512)               524800    \n",
      "_________________________________________________________________\n",
      "dropout_1 (Dropout)          (None, 512)               0         \n",
      "_________________________________________________________________\n",
      "dense_2 (Dense)              (None, 27)                13851     \n",
      "=================================================================\n",
      "Total params: 23,498,307\n",
      "Trainable params: 2,636,827\n",
      "Non-trainable params: 20,861,480\n",
      "_________________________________________________________________\n",
      "Wall time: 1.9 s\n"
     ]
    }
   ],
   "source": [
    "%%time\n",
    "# Chargement du modèle Xception\n",
    "xception = Xception(weights='imagenet', include_top = False, input_shape=(img_rows,img_rows,3))\n",
    "\n",
    "# Bloquage du blackbone\n",
    "for layer in xception.layers:\n",
    "    layer.trainable = False\n",
    "    \n",
    "model = Sequential()\n",
    "model.add(xception)\n",
    "# Ajout des couche de classification\n",
    "model.add(GlobalAveragePooling2D()) \n",
    "model.add(Dense(units = 1024,activation='relu'))\n",
    "\n",
    "model.add(Dropout(rate = 0.2))\n",
    "model.add(Dense(units = 512, activation='relu'))\n",
    "\n",
    "model.add(Dropout(rate = 0.2))\n",
    "model.add(Dense(units = 27, activation='softmax'))\n",
    "model.summary()"
   ]
  },
  {
   "cell_type": "markdown",
   "id": "233e26ad",
   "metadata": {},
   "source": [
    " ***Compilation***"
   ]
  },
  {
   "cell_type": "code",
   "execution_count": 19,
   "id": "9caba2fb",
   "metadata": {},
   "outputs": [
    {
     "name": "stdout",
     "output_type": "stream",
     "text": [
      "Wall time: 5 ms\n"
     ]
    }
   ],
   "source": [
    "%%time\n",
    "# Compilation\n",
    "model.compile(loss='sparse_categorical_crossentropy',  # fonction de perte\n",
    "              optimizer= Adam(learning_rate= 1e-5) ,   #default lr = 0.001 # algorithme de descente de gradient\n",
    "              metrics=['accuracy'])                    # métrique d'évaluation"
   ]
  },
  {
   "cell_type": "markdown",
   "id": "6266d9a2",
   "metadata": {
    "id": "6266d9a2"
   },
   "source": [
    "***Callbacks***"
   ]
  },
  {
   "cell_type": "code",
   "execution_count": 20,
   "id": "cd04edfd",
   "metadata": {
    "id": "cd04edfd",
    "outputId": "19043533-d360-4dfb-d821-8c8f39ea073b"
   },
   "outputs": [
    {
     "name": "stdout",
     "output_type": "stream",
     "text": [
      "Wall time: 0 ns\n"
     ]
    }
   ],
   "source": [
    "%%time\n",
    "path = './saves/Xception/Iteration_4_3/'\n",
    "file_name = 'checkpoint_Xception_21122021_299x299_50Epochs.h5'\n",
    "\n",
    "#Sauvegarder les meilleurs poids du modèle au cours de l'entraînement :\n",
    "checkpoint = ModelCheckpoint(filepath = path + file_name , \n",
    "                             monitor ='val_accuracy',\n",
    "                             verbose = 1,\n",
    "                             save_best_only = True, # (pour que le meilleur modèle ne soit pas écrasé)\n",
    "                             save_weights_only = False,\n",
    "                             mode ='max', #(permet de préciser si la métrique doit croître ou décroitre : ici on choisit 'min'\n",
    "                                           #car la métrique est une perte à minimiser)\n",
    "                             save_freq='epoch')\n",
    "#Arrêter l'entraînement si le modèle n'évolue plus (très pratique pour ne pas gérer le\n",
    "#nombre d'epoch) :\n",
    "early = EarlyStopping(monitor='val_loss',\n",
    "                      min_delta = 0,\n",
    "                      patience = 10, #(nombre d'epochs à attendre avant d'arrêter l'entraînement\n",
    "                      restore_best_weights = True,\n",
    "                      verbose = 1,\n",
    "                      mode = 'min')\n",
    "\n",
    "#Réduire automatiquement le learning rate :\n",
    "lr_plateau = ReduceLROnPlateau(monitor = 'val_loss',\n",
    "                               patience = 10,\n",
    "                               verbose = 1,\n",
    "                                mode='min'\n",
    "                               )"
   ]
  },
  {
   "cell_type": "markdown",
   "id": "5ab7aa20",
   "metadata": {
    "id": "5ab7aa20"
   },
   "source": [
    " ***Fit - train_generator***"
   ]
  },
  {
   "cell_type": "code",
   "execution_count": 21,
   "id": "95bc66c7",
   "metadata": {},
   "outputs": [
    {
     "name": "stdout",
     "output_type": "stream",
     "text": [
      "step_size_Train :  1061\n",
      "step_size_Valid  :  265\n"
     ]
    }
   ],
   "source": [
    "step_size_Train = train_generator.n//train_generator.batch_size\n",
    "step_size_Valid = valid_generator.n//valid_generator.batch_size\n",
    "print('step_size_Train : ' , step_size_Train)\n",
    "print('step_size_Valid  : ' , step_size_Valid)"
   ]
  },
  {
   "cell_type": "code",
   "execution_count": 23,
   "id": "6099def0",
   "metadata": {
    "id": "6099def0",
    "outputId": "7aa5fc74-d64e-47c2-dde0-0270be09fc24"
   },
   "outputs": [
    {
     "name": "stdout",
     "output_type": "stream",
     "text": [
      "Epoch 1/50\n",
      "1061/1061 [==============================] - 305s 287ms/step - loss: 1.4379 - accuracy: 0.5686 - val_loss: 1.4576 - val_accuracy: 0.5642\n",
      "\n",
      "Epoch 00001: val_accuracy improved from 0.55820 to 0.56415, saving model to ./saves/Xception/Iteration_4_3\\checkpoint_Xception_21122021_299x299_50Epochs.h5\n",
      "Epoch 2/50\n",
      "1061/1061 [==============================] - 304s 286ms/step - loss: 1.4213 - accuracy: 0.5740 - val_loss: 1.4465 - val_accuracy: 0.5655\n",
      "\n",
      "Epoch 00002: val_accuracy improved from 0.56415 to 0.56551, saving model to ./saves/Xception/Iteration_4_3\\checkpoint_Xception_21122021_299x299_50Epochs.h5\n",
      "Epoch 3/50\n",
      "1061/1061 [==============================] - 304s 287ms/step - loss: 1.4033 - accuracy: 0.5779 - val_loss: 1.4390 - val_accuracy: 0.5680\n",
      "\n",
      "Epoch 00003: val_accuracy improved from 0.56551 to 0.56798, saving model to ./saves/Xception/Iteration_4_3\\checkpoint_Xception_21122021_299x299_50Epochs.h5\n",
      "Epoch 4/50\n",
      "1061/1061 [==============================] - 304s 286ms/step - loss: 1.3881 - accuracy: 0.5816 - val_loss: 1.4312 - val_accuracy: 0.5683\n",
      "\n",
      "Epoch 00004: val_accuracy improved from 0.56798 to 0.56834, saving model to ./saves/Xception/Iteration_4_3\\checkpoint_Xception_21122021_299x299_50Epochs.h5\n",
      "Epoch 5/50\n",
      "1061/1061 [==============================] - 304s 287ms/step - loss: 1.3741 - accuracy: 0.5856 - val_loss: 1.4219 - val_accuracy: 0.5736\n",
      "\n",
      "Epoch 00005: val_accuracy improved from 0.56834 to 0.57358, saving model to ./saves/Xception/Iteration_4_3\\checkpoint_Xception_21122021_299x299_50Epochs.h5\n",
      "Epoch 6/50\n",
      "1061/1061 [==============================] - 304s 286ms/step - loss: 1.3575 - accuracy: 0.5918 - val_loss: 1.4150 - val_accuracy: 0.5749\n",
      "\n",
      "Epoch 00006: val_accuracy improved from 0.57358 to 0.57494, saving model to ./saves/Xception/Iteration_4_3\\checkpoint_Xception_21122021_299x299_50Epochs.h5\n",
      "Epoch 7/50\n",
      "1061/1061 [==============================] - 305s 287ms/step - loss: 1.3470 - accuracy: 0.5931 - val_loss: 1.4094 - val_accuracy: 0.5775\n",
      "\n",
      "Epoch 00007: val_accuracy improved from 0.57494 to 0.57754, saving model to ./saves/Xception/Iteration_4_3\\checkpoint_Xception_21122021_299x299_50Epochs.h5\n",
      "Epoch 8/50\n",
      "1061/1061 [==============================] - 304s 286ms/step - loss: 1.3309 - accuracy: 0.5989 - val_loss: 1.4021 - val_accuracy: 0.5794\n",
      "\n",
      "Epoch 00008: val_accuracy improved from 0.57754 to 0.57936, saving model to ./saves/Xception/Iteration_4_3\\checkpoint_Xception_21122021_299x299_50Epochs.h5\n",
      "Epoch 9/50\n",
      "1061/1061 [==============================] - 306s 288ms/step - loss: 1.3194 - accuracy: 0.6028 - val_loss: 1.3950 - val_accuracy: 0.5805\n",
      "\n",
      "Epoch 00009: val_accuracy improved from 0.57936 to 0.58054, saving model to ./saves/Xception/Iteration_4_3\\checkpoint_Xception_21122021_299x299_50Epochs.h5\n",
      "Epoch 10/50\n",
      "1061/1061 [==============================] - 304s 287ms/step - loss: 1.3092 - accuracy: 0.6041 - val_loss: 1.3908 - val_accuracy: 0.5818\n",
      "\n",
      "Epoch 00010: val_accuracy improved from 0.58054 to 0.58178, saving model to ./saves/Xception/Iteration_4_3\\checkpoint_Xception_21122021_299x299_50Epochs.h5\n",
      "Epoch 11/50\n",
      "1061/1061 [==============================] - 305s 287ms/step - loss: 1.2946 - accuracy: 0.6090 - val_loss: 1.3854 - val_accuracy: 0.5825\n",
      "\n",
      "Epoch 00011: val_accuracy improved from 0.58178 to 0.58249, saving model to ./saves/Xception/Iteration_4_3\\checkpoint_Xception_21122021_299x299_50Epochs.h5\n",
      "Epoch 12/50\n",
      "1061/1061 [==============================] - 305s 287ms/step - loss: 1.2818 - accuracy: 0.6123 - val_loss: 1.3811 - val_accuracy: 0.5844\n",
      "\n",
      "Epoch 00012: val_accuracy improved from 0.58249 to 0.58438, saving model to ./saves/Xception/Iteration_4_3\\checkpoint_Xception_21122021_299x299_50Epochs.h5\n",
      "Epoch 13/50\n",
      "1061/1061 [==============================] - 306s 288ms/step - loss: 1.2735 - accuracy: 0.6153 - val_loss: 1.3740 - val_accuracy: 0.5860\n",
      "\n",
      "Epoch 00013: val_accuracy improved from 0.58438 to 0.58603, saving model to ./saves/Xception/Iteration_4_3\\checkpoint_Xception_21122021_299x299_50Epochs.h5\n",
      "Epoch 14/50\n",
      "1061/1061 [==============================] - 305s 287ms/step - loss: 1.2626 - accuracy: 0.6189 - val_loss: 1.3698 - val_accuracy: 0.5878\n",
      "\n",
      "Epoch 00014: val_accuracy improved from 0.58603 to 0.58779, saving model to ./saves/Xception/Iteration_4_3\\checkpoint_Xception_21122021_299x299_50Epochs.h5\n",
      "Epoch 15/50\n",
      "1061/1061 [==============================] - 304s 286ms/step - loss: 1.2501 - accuracy: 0.6226 - val_loss: 1.3673 - val_accuracy: 0.5900\n",
      "\n",
      "Epoch 00015: val_accuracy improved from 0.58779 to 0.59004, saving model to ./saves/Xception/Iteration_4_3\\checkpoint_Xception_21122021_299x299_50Epochs.h5\n",
      "Epoch 16/50\n",
      "1061/1061 [==============================] - 304s 286ms/step - loss: 1.2432 - accuracy: 0.6230 - val_loss: 1.3613 - val_accuracy: 0.5909\n",
      "\n",
      "Epoch 00016: val_accuracy improved from 0.59004 to 0.59092, saving model to ./saves/Xception/Iteration_4_3\\checkpoint_Xception_21122021_299x299_50Epochs.h5\n",
      "Epoch 17/50\n",
      "1061/1061 [==============================] - 303s 286ms/step - loss: 1.2287 - accuracy: 0.6291 - val_loss: 1.3572 - val_accuracy: 0.5911\n",
      "\n",
      "Epoch 00017: val_accuracy improved from 0.59092 to 0.59110, saving model to ./saves/Xception/Iteration_4_3\\checkpoint_Xception_21122021_299x299_50Epochs.h5\n",
      "Epoch 18/50\n",
      "1061/1061 [==============================] - 302s 284ms/step - loss: 1.2190 - accuracy: 0.6311 - val_loss: 1.3524 - val_accuracy: 0.5950\n",
      "\n",
      "Epoch 00018: val_accuracy improved from 0.59110 to 0.59499, saving model to ./saves/Xception/Iteration_4_3\\checkpoint_Xception_21122021_299x299_50Epochs.h5\n",
      "Epoch 19/50\n",
      "1061/1061 [==============================] - 302s 285ms/step - loss: 1.2082 - accuracy: 0.6321 - val_loss: 1.3491 - val_accuracy: 0.5927\n",
      "\n",
      "Epoch 00019: val_accuracy did not improve from 0.59499\n",
      "Epoch 20/50\n",
      "1061/1061 [==============================] - 303s 285ms/step - loss: 1.1989 - accuracy: 0.6359 - val_loss: 1.3470 - val_accuracy: 0.5956\n",
      "\n",
      "Epoch 00020: val_accuracy improved from 0.59499 to 0.59558, saving model to ./saves/Xception/Iteration_4_3\\checkpoint_Xception_21122021_299x299_50Epochs.h5\n",
      "Epoch 21/50\n",
      "1061/1061 [==============================] - 306s 288ms/step - loss: 1.1921 - accuracy: 0.6390 - val_loss: 1.3424 - val_accuracy: 0.5968\n",
      "\n",
      "Epoch 00021: val_accuracy improved from 0.59558 to 0.59676, saving model to ./saves/Xception/Iteration_4_3\\checkpoint_Xception_21122021_299x299_50Epochs.h5\n",
      "Epoch 22/50\n",
      "1061/1061 [==============================] - 306s 288ms/step - loss: 1.1804 - accuracy: 0.6422 - val_loss: 1.3385 - val_accuracy: 0.5975\n",
      "\n",
      "Epoch 00022: val_accuracy improved from 0.59676 to 0.59752, saving model to ./saves/Xception/Iteration_4_3\\checkpoint_Xception_21122021_299x299_50Epochs.h5\n",
      "Epoch 23/50\n",
      "1061/1061 [==============================] - 306s 288ms/step - loss: 1.1695 - accuracy: 0.6438 - val_loss: 1.3347 - val_accuracy: 0.5989\n",
      "\n",
      "Epoch 00023: val_accuracy improved from 0.59752 to 0.59894, saving model to ./saves/Xception/Iteration_4_3\\checkpoint_Xception_21122021_299x299_50Epochs.h5\n",
      "Epoch 24/50\n",
      "1061/1061 [==============================] - 306s 288ms/step - loss: 1.1597 - accuracy: 0.6464 - val_loss: 1.3324 - val_accuracy: 0.5991\n",
      "\n",
      "Epoch 00024: val_accuracy improved from 0.59894 to 0.59912, saving model to ./saves/Xception/Iteration_4_3\\checkpoint_Xception_21122021_299x299_50Epochs.h5\n",
      "Epoch 25/50\n",
      "1061/1061 [==============================] - 304s 287ms/step - loss: 1.1507 - accuracy: 0.6487 - val_loss: 1.3301 - val_accuracy: 0.5998\n",
      "\n",
      "Epoch 00025: val_accuracy improved from 0.59912 to 0.59982, saving model to ./saves/Xception/Iteration_4_3\\checkpoint_Xception_21122021_299x299_50Epochs.h5\n",
      "Epoch 26/50\n",
      "1061/1061 [==============================] - 305s 287ms/step - loss: 1.1407 - accuracy: 0.6531 - val_loss: 1.3265 - val_accuracy: 0.6010\n",
      "\n",
      "Epoch 00026: val_accuracy improved from 0.59982 to 0.60100, saving model to ./saves/Xception/Iteration_4_3\\checkpoint_Xception_21122021_299x299_50Epochs.h5\n",
      "Epoch 27/50\n",
      "1061/1061 [==============================] - 305s 287ms/step - loss: 1.1356 - accuracy: 0.6543 - val_loss: 1.3225 - val_accuracy: 0.6025\n",
      "\n",
      "Epoch 00027: val_accuracy improved from 0.60100 to 0.60254, saving model to ./saves/Xception/Iteration_4_3\\checkpoint_Xception_21122021_299x299_50Epochs.h5\n",
      "Epoch 28/50\n"
     ]
    },
    {
     "name": "stdout",
     "output_type": "stream",
     "text": [
      "1061/1061 [==============================] - 305s 287ms/step - loss: 1.1234 - accuracy: 0.6589 - val_loss: 1.3225 - val_accuracy: 0.6028\n",
      "\n",
      "Epoch 00028: val_accuracy improved from 0.60254 to 0.60277, saving model to ./saves/Xception/Iteration_4_3\\checkpoint_Xception_21122021_299x299_50Epochs.h5\n",
      "Epoch 29/50\n",
      "1061/1061 [==============================] - 304s 287ms/step - loss: 1.1144 - accuracy: 0.6610 - val_loss: 1.3183 - val_accuracy: 0.6051\n",
      "\n",
      "Epoch 00029: val_accuracy improved from 0.60277 to 0.60507, saving model to ./saves/Xception/Iteration_4_3\\checkpoint_Xception_21122021_299x299_50Epochs.h5\n",
      "Epoch 30/50\n",
      "1061/1061 [==============================] - 305s 287ms/step - loss: 1.1030 - accuracy: 0.6636 - val_loss: 1.3176 - val_accuracy: 0.6045\n",
      "\n",
      "Epoch 00030: val_accuracy did not improve from 0.60507\n",
      "Epoch 31/50\n",
      "1061/1061 [==============================] - 304s 287ms/step - loss: 1.0971 - accuracy: 0.6643 - val_loss: 1.3164 - val_accuracy: 0.6050\n",
      "\n",
      "Epoch 00031: val_accuracy did not improve from 0.60507\n",
      "Epoch 32/50\n",
      "1061/1061 [==============================] - 304s 287ms/step - loss: 1.0877 - accuracy: 0.6672 - val_loss: 1.3128 - val_accuracy: 0.6066\n",
      "\n",
      "Epoch 00032: val_accuracy improved from 0.60507 to 0.60660, saving model to ./saves/Xception/Iteration_4_3\\checkpoint_Xception_21122021_299x299_50Epochs.h5\n",
      "Epoch 33/50\n",
      "1061/1061 [==============================] - 305s 287ms/step - loss: 1.0781 - accuracy: 0.6715 - val_loss: 1.3100 - val_accuracy: 0.6085\n",
      "\n",
      "Epoch 00033: val_accuracy improved from 0.60660 to 0.60855, saving model to ./saves/Xception/Iteration_4_3\\checkpoint_Xception_21122021_299x299_50Epochs.h5\n",
      "Epoch 34/50\n",
      "1061/1061 [==============================] - 304s 287ms/step - loss: 1.0684 - accuracy: 0.6713 - val_loss: 1.3086 - val_accuracy: 0.6085\n",
      "\n",
      "Epoch 00034: val_accuracy did not improve from 0.60855\n",
      "Epoch 35/50\n",
      "1061/1061 [==============================] - 304s 287ms/step - loss: 1.0619 - accuracy: 0.6763 - val_loss: 1.3059 - val_accuracy: 0.6097\n",
      "\n",
      "Epoch 00035: val_accuracy improved from 0.60855 to 0.60967, saving model to ./saves/Xception/Iteration_4_3\\checkpoint_Xception_21122021_299x299_50Epochs.h5\n",
      "Epoch 36/50\n",
      "1061/1061 [==============================] - 305s 287ms/step - loss: 1.0546 - accuracy: 0.6772 - val_loss: 1.3054 - val_accuracy: 0.6092\n",
      "\n",
      "Epoch 00036: val_accuracy did not improve from 0.60967\n",
      "Epoch 37/50\n",
      "1061/1061 [==============================] - 304s 287ms/step - loss: 1.0450 - accuracy: 0.6803 - val_loss: 1.3049 - val_accuracy: 0.6093\n",
      "\n",
      "Epoch 00037: val_accuracy did not improve from 0.60967\n",
      "Epoch 38/50\n",
      "1061/1061 [==============================] - 304s 287ms/step - loss: 1.0332 - accuracy: 0.6839 - val_loss: 1.3030 - val_accuracy: 0.6105\n",
      "\n",
      "Epoch 00038: val_accuracy improved from 0.60967 to 0.61050, saving model to ./saves/Xception/Iteration_4_3\\checkpoint_Xception_21122021_299x299_50Epochs.h5\n",
      "Epoch 39/50\n",
      "1061/1061 [==============================] - 305s 287ms/step - loss: 1.0270 - accuracy: 0.6875 - val_loss: 1.2996 - val_accuracy: 0.6111\n",
      "\n",
      "Epoch 00039: val_accuracy improved from 0.61050 to 0.61108, saving model to ./saves/Xception/Iteration_4_3\\checkpoint_Xception_21122021_299x299_50Epochs.h5\n",
      "Epoch 40/50\n",
      "1061/1061 [==============================] - 305s 288ms/step - loss: 1.0197 - accuracy: 0.6879 - val_loss: 1.2995 - val_accuracy: 0.6127\n",
      "\n",
      "Epoch 00040: val_accuracy improved from 0.61108 to 0.61268, saving model to ./saves/Xception/Iteration_4_3\\checkpoint_Xception_21122021_299x299_50Epochs.h5\n",
      "Epoch 41/50\n",
      "1061/1061 [==============================] - 304s 287ms/step - loss: 1.0087 - accuracy: 0.6916 - val_loss: 1.2976 - val_accuracy: 0.6138\n",
      "\n",
      "Epoch 00041: val_accuracy improved from 0.61268 to 0.61380, saving model to ./saves/Xception/Iteration_4_3\\checkpoint_Xception_21122021_299x299_50Epochs.h5\n",
      "Epoch 42/50\n",
      "1061/1061 [==============================] - 305s 287ms/step - loss: 1.0025 - accuracy: 0.6924 - val_loss: 1.2996 - val_accuracy: 0.6129\n",
      "\n",
      "Epoch 00042: val_accuracy did not improve from 0.61380\n",
      "Epoch 43/50\n",
      "1061/1061 [==============================] - 305s 287ms/step - loss: 0.9930 - accuracy: 0.6954 - val_loss: 1.2948 - val_accuracy: 0.6136\n",
      "\n",
      "Epoch 00043: val_accuracy did not improve from 0.61380\n",
      "Epoch 44/50\n",
      "1061/1061 [==============================] - 305s 287ms/step - loss: 0.9864 - accuracy: 0.6981 - val_loss: 1.2937 - val_accuracy: 0.6143\n",
      "\n",
      "Epoch 00044: val_accuracy improved from 0.61380 to 0.61433, saving model to ./saves/Xception/Iteration_4_3\\checkpoint_Xception_21122021_299x299_50Epochs.h5\n",
      "Epoch 45/50\n",
      "1061/1061 [==============================] - 305s 287ms/step - loss: 0.9767 - accuracy: 0.7008 - val_loss: 1.2921 - val_accuracy: 0.6156\n",
      "\n",
      "Epoch 00045: val_accuracy improved from 0.61433 to 0.61563, saving model to ./saves/Xception/Iteration_4_3\\checkpoint_Xception_21122021_299x299_50Epochs.h5\n",
      "Epoch 46/50\n",
      "1061/1061 [==============================] - 304s 286ms/step - loss: 0.9711 - accuracy: 0.7037 - val_loss: 1.2922 - val_accuracy: 0.6160\n",
      "\n",
      "Epoch 00046: val_accuracy improved from 0.61563 to 0.61604, saving model to ./saves/Xception/Iteration_4_3\\checkpoint_Xception_21122021_299x299_50Epochs.h5\n",
      "Epoch 47/50\n",
      "1061/1061 [==============================] - 304s 286ms/step - loss: 0.9588 - accuracy: 0.7058 - val_loss: 1.2913 - val_accuracy: 0.6146\n",
      "\n",
      "Epoch 00047: val_accuracy did not improve from 0.61604\n",
      "Epoch 48/50\n",
      "1061/1061 [==============================] - 304s 287ms/step - loss: 0.9528 - accuracy: 0.7075 - val_loss: 1.2899 - val_accuracy: 0.6168\n",
      "\n",
      "Epoch 00048: val_accuracy improved from 0.61604 to 0.61680, saving model to ./saves/Xception/Iteration_4_3\\checkpoint_Xception_21122021_299x299_50Epochs.h5\n",
      "Epoch 49/50\n",
      "1061/1061 [==============================] - 304s 286ms/step - loss: 0.9445 - accuracy: 0.7113 - val_loss: 1.2910 - val_accuracy: 0.6165\n",
      "\n",
      "Epoch 00049: val_accuracy did not improve from 0.61680\n",
      "Epoch 50/50\n",
      "1061/1061 [==============================] - 304s 287ms/step - loss: 0.9377 - accuracy: 0.7123 - val_loss: 1.2911 - val_accuracy: 0.6154\n",
      "\n",
      "Epoch 00050: val_accuracy did not improve from 0.61680\n",
      "Wall time: 4h 13min 56s\n"
     ]
    }
   ],
   "source": [
    "%%time\n",
    "# Fit Train generator\n",
    "history = model.fit(train_generator,                    \n",
    "                    epochs = epochs,                   \n",
    "                    steps_per_epoch = step_size_Train,\n",
    "                    validation_data = valid_generator,\n",
    "                    validation_steps = step_size_Valid,\n",
    "                    callbacks=[checkpoint, early, lr_plateau]                    \n",
    "                    )"
   ]
  },
  {
   "cell_type": "markdown",
   "id": "479d4c18",
   "metadata": {},
   "source": [
    "***Save History results***"
   ]
  },
  {
   "cell_type": "code",
   "execution_count": 24,
   "id": "aa9d47d5",
   "metadata": {},
   "outputs": [],
   "source": [
    "# Save History results\n",
    "path = './saves/Xception/Iteration_4_3/'\n",
    "filename = 'history_Xception_all_train_21122021_299x299_50Epochs'"
   ]
  },
  {
   "cell_type": "code",
   "execution_count": 25,
   "id": "8944dcc5",
   "metadata": {},
   "outputs": [],
   "source": [
    "#convert the history.history dict to a pandas DataFrame:     \n",
    "hist_df = pd.DataFrame(history.history) \n",
    "\n",
    "# history to json:  \n",
    "hist_json_file = path + filename + '.json'\n",
    "with open(hist_json_file, mode='w') as f:\n",
    "    hist_df.to_json(f)\n",
    "\n",
    "# history to csv: \n",
    "hist_csv_file = path + filename +'.csv'\n",
    "with open(hist_csv_file, mode='w') as f:\n",
    "    hist_df.to_csv(f)\n",
    "\n",
    "# history to pickle file\n",
    "hist_df.to_pickle(path + filename +'.pkl')"
   ]
  },
  {
   "cell_type": "markdown",
   "id": "437e2b15",
   "metadata": {},
   "source": [
    "***Display Model loss , accuracy per epoch***"
   ]
  },
  {
   "cell_type": "code",
   "execution_count": 26,
   "id": "7e148e9a",
   "metadata": {},
   "outputs": [
    {
     "data": {
      "image/png": "[encoded data removed]",
      "text/plain": [
       "<Figure size 864x288 with 2 Axes>"
      ]
     },
     "metadata": {
      "needs_background": "light"
     },
     "output_type": "display_data"
    }
   ],
   "source": [
    "plt.figure(figsize=(12,4))\n",
    "plt.subplot(121)\n",
    "plt.plot(history.history['loss'])\n",
    "plt.plot(history.history['val_loss'])\n",
    "plt.title('Model loss by epoch')\n",
    "plt.ylabel('loss')\n",
    "plt.xlabel('epoch')\n",
    "plt.legend(['train', 'valid'], loc='right')\n",
    "\n",
    "plt.subplot(122)\n",
    "plt.plot(history.history['accuracy'])\n",
    "plt.plot(history.history['val_accuracy'])\n",
    "plt.title('Model acc by epoch')\n",
    "plt.ylabel('acc')\n",
    "plt.xlabel('epoch')\n",
    "plt.legend(['train', 'valid'], loc='right')\n",
    "plt.show()"
   ]
  },
  {
   "cell_type": "markdown",
   "id": "7e64f5a7",
   "metadata": {
    "id": "7e64f5a7"
   },
   "source": [
    " ***Prediction - test_generator***"
   ]
  },
  {
   "cell_type": "code",
   "execution_count": 27,
   "id": "13bf0290",
   "metadata": {
    "id": "13bf0290"
   },
   "outputs": [
    {
     "name": "stdout",
     "output_type": "stream",
     "text": [
      "Wall time: 56.7 s\n"
     ]
    }
   ],
   "source": [
    "%%time\n",
    "#Prediction - Valid set\n",
    "y_pred_proba = model.predict(valid_generator)\n",
    "\n",
    "# l'argmax pour obtenir les classes prédites\n",
    "y_pred_class = np.argmax(y_pred_proba,axis = 1).astype(int)\n",
    "\n",
    "# To get classes from test generator\n",
    "y_true = valid_generator.classes"
   ]
  },
  {
   "cell_type": "markdown",
   "id": "e199b13a",
   "metadata": {
    "id": "e199b13a"
   },
   "source": [
    " ***Evaluation - test_generator***"
   ]
  },
  {
   "cell_type": "code",
   "execution_count": 28,
   "id": "a149ee6a",
   "metadata": {
    "id": "a149ee6a"
   },
   "outputs": [
    {
     "name": "stdout",
     "output_type": "stream",
     "text": [
      "266/266 [==============================] - 58s 218ms/step - loss: 1.2906 - accuracy: 0.6156\n",
      "[INFO] Model metrics names: ['loss', 'accuracy']\n",
      "[INFO] Accuracy: 61.56%\n",
      "[INFO] Loss:  1.2906032800674438\n",
      "Wall time: 58.6 s\n"
     ]
    }
   ],
   "source": [
    "%%time\n",
    "#Get the accuracy score\n",
    "valid_score = model.evaluate(valid_generator)\n",
    "print(\"[INFO] Model metrics names:\", model.metrics_names)\n",
    "print(\"[INFO] Accuracy: {:.2f}%\".format(valid_score[1] * 100)) \n",
    "print(\"[INFO] Loss: \",valid_score[0])"
   ]
  },
  {
   "cell_type": "code",
   "execution_count": 29,
   "id": "a67c8f8e",
   "metadata": {},
   "outputs": [
    {
     "name": "stdout",
     "output_type": "stream",
     "text": [
      "[INFO] f1 score macro average:  0.5603031236882271\n",
      "[INFO] f1 score micro average:  0.6156156156156156\n",
      "[INFO] f1 score weighted average:  0.6068650324594033\n"
     ]
    }
   ],
   "source": [
    "f1_macro = f1_score(y_true, y_pred_class, average='macro')\n",
    "print(\"[INFO] f1 score macro average: \",f1_macro)\n",
    "\n",
    "f1_micro = f1_score(y_true, y_pred_class, average='micro')\n",
    "print(\"[INFO] f1 score micro average: \",f1_micro)\n",
    "\n",
    "f1_weighted = f1_score(y_true, y_pred_class, average='weighted')\n",
    "print(\"[INFO] f1 score weighted average: \",f1_weighted)"
   ]
  },
  {
   "cell_type": "code",
   "execution_count": 30,
   "id": "e956f70d",
   "metadata": {},
   "outputs": [
    {
     "data": {
      "image/png": "[encoded data removed]",
      "text/plain": [
       "<Figure size 1728x1440 with 1 Axes>"
      ]
     },
     "metadata": {
      "needs_background": "light"
     },
     "output_type": "display_data"
    }
   ],
   "source": [
    "#Confusion matrix\n",
    "matrix = confusion_matrix(y_true, y_pred_class)\n",
    "fig , ax = plt.subplots(figsize = (24,20))\n",
    "ax.matshow(matrix, cmap = plt.cm.Oranges , alpha = 0.3)\n",
    "for i in range(matrix.shape[0]):\n",
    "    for j in range (matrix.shape[1]):\n",
    "        ax.text (x = j , y= i, s= matrix[i,j], va = 'center', ha = 'center', size = 'xx-large')\n",
    "        \n",
    "plt.xlabel('predicted', fontsize = 18)\n",
    "plt.ylabel('Acutals', fontsize = 18)\n",
    "plt.title('Confusion Matrix', fontsize = 18)\n",
    "plt.show()\n",
    "#print(matrix)"
   ]
  },
  {
   "cell_type": "code",
   "execution_count": 31,
   "id": "f9af2dc6",
   "metadata": {
    "id": "f9af2dc6"
   },
   "outputs": [
    {
     "name": "stdout",
     "output_type": "stream",
     "text": [
      "              precision    recall  f1-score   support\n",
      "\n",
      "           0       0.50      0.43      0.46       621\n",
      "           1       0.53      0.47      0.50       483\n",
      "           2       0.59      0.62      0.61       154\n",
      "           3       0.51      0.39      0.44       508\n",
      "           4       0.54      0.43      0.48       656\n",
      "           5       0.61      0.58      0.60      1038\n",
      "           6       0.79      0.80      0.79       848\n",
      "           7       0.63      0.68      0.65       152\n",
      "           8       0.46      0.56      0.50      1021\n",
      "           9       0.58      0.34      0.43       168\n",
      "          10       0.65      0.71      0.68       956\n",
      "          11       0.60      0.62      0.61       939\n",
      "          12       0.49      0.29      0.37       375\n",
      "          13       0.55      0.46      0.50       290\n",
      "          14       0.68      0.70      0.69       949\n",
      "          15       0.49      0.40      0.44       508\n",
      "          16       0.76      0.88      0.81      2061\n",
      "          17       0.45      0.43      0.44       493\n",
      "          18       0.61      0.74      0.67       548\n",
      "          19       0.51      0.55      0.53       173\n",
      "          20       0.68      0.76      0.72       163\n",
      "          21       0.61      0.62      0.61       546\n",
      "          22       0.86      0.90      0.88       791\n",
      "          23       0.50      0.21      0.30       154\n",
      "          24       0.43      0.42      0.43       963\n",
      "          25       0.37      0.22      0.28       405\n",
      "          26       0.65      0.76      0.70      1020\n",
      "\n",
      "    accuracy                           0.62     16983\n",
      "   macro avg       0.58      0.56      0.56     16983\n",
      "weighted avg       0.61      0.62      0.61     16983\n",
      "\n"
     ]
    }
   ],
   "source": [
    "print(metrics.classification_report(y_true, y_pred_class))"
   ]
  },
  {
   "cell_type": "markdown",
   "id": "9af02844",
   "metadata": {},
   "source": [
    " ***Predict input image using trained model***"
   ]
  },
  {
   "cell_type": "code",
   "execution_count": 32,
   "id": "f7fbf10a",
   "metadata": {},
   "outputs": [
    {
     "data": {
      "image/png": "[encoded data removed]",
      "text/plain": [
       "<Figure size 432x288 with 1 Axes>"
      ]
     },
     "metadata": {},
     "output_type": "display_data"
    }
   ],
   "source": [
    "# Predict With Pre Trained\n",
    "\n",
    "# Load an image\n",
    "im_id = 124\n",
    "img_path ='./data/images/all/image_train/'+ df_train_im['imagePath'][im_id]\n",
    "\n",
    "img = image.load_img(img_path,target_size=(299, 299))\n",
    "plt.figure(figsize=(6,4))\n",
    "plt.imshow(img)\n",
    "plt.title(\"class: \" + str(df_train_im['prdtypecode'][im_id]))\n",
    "plt.xticks([])\n",
    "plt.yticks([])\n",
    "#plt.axis('off')\n",
    "plt.show();"
   ]
  },
  {
   "cell_type": "code",
   "execution_count": 33,
   "id": "d6021667",
   "metadata": {},
   "outputs": [],
   "source": [
    "im = cv2.resize(cv2.imread(img_path), (299, 299))\n",
    "im = np.expand_dims(im, axis=0)"
   ]
  },
  {
   "cell_type": "code",
   "execution_count": 34,
   "id": "2ed5439b",
   "metadata": {},
   "outputs": [
    {
     "name": "stdout",
     "output_type": "stream",
     "text": [
      "------------------Predicted Class and Label ------------------------------\n",
      "target class(used by model) : 14\n",
      "\n",
      "  prdtypecode                Label\n",
      "        1920 interior accessories\n",
      "\n",
      "\n",
      "------------------Real Class and Label ------------------------------\n",
      "target class(used by model):  12\n",
      "\n",
      "  prdtypecode           Label\n",
      "        1320 early childhood\n"
     ]
    }
   ],
   "source": [
    "out = model.predict(im)\n",
    "print(\"------------------Predicted Class and Label ------------------------------\")\n",
    "print(\"target class(used by model) :\", np.argmax(out))\n",
    "print(\"\\n\"  ,df_class[df_class['target_prdtypecode'] == np.argmax(out)][['prdtypecode', 'Label']].to_string(index=False)) \n",
    "\n",
    "prd_code = df_train_im['prdtypecode'][im_id]\n",
    "\n",
    "print(\"\\n\\n------------------Real Class and Label ------------------------------\")\n",
    "print(\"target class(used by model): \" ,  df_class[df_class['target_prdtypecode'] == int(prd_code)]['target_prdtypecode'].to_string(index=False))\n",
    "print(\"\\n\"  ,df_class[df_class['target_prdtypecode'] == int(prd_code)][['prdtypecode', 'Label']].to_string(index=False))"
   ]
  },
  {
   "cell_type": "markdown",
   "id": "ba25e415",
   "metadata": {
    "id": "ba25e415"
   },
   "source": [
    " ***Save Xception Model***"
   ]
  },
  {
   "cell_type": "code",
   "execution_count": 36,
   "id": "2756f2e9",
   "metadata": {
    "id": "2756f2e9"
   },
   "outputs": [],
   "source": [
    "#Enregistrement du modèle\n",
    "model.save(\"./saves/Xception/Iteration_4_3/Model_xception_All_train_data_21122021_299x299_50Epochs.hdf5\")\n",
    "#The SavedModel and HDF5 file contains:\n",
    "#the model's configuration (topology)\n",
    "#the model's weights\n",
    "#the model's optimizer's state (if any)"
   ]
  },
  {
   "cell_type": "markdown",
   "id": "636fb9cf",
   "metadata": {
    "id": "636fb9cf"
   },
   "source": [
    " ***Load Xception Model***"
   ]
  },
  {
   "cell_type": "code",
   "execution_count": null,
   "id": "9ee47aed",
   "metadata": {
    "id": "9ee47aed"
   },
   "outputs": [],
   "source": [
    "#Rechargement du modèle :\n",
    "model = load_model('/saves/Xception/Iteration_4_3/Model_xception_All_train_data_21122021_299x299_50Epochs.hdf5')"
   ]
  }
 ],
 "metadata": {
  "accelerator": "GPU",
  "colab": {
   "collapsed_sections": [
    "X4gG6_IvrZ10"
   ],
   "name": "Images_&_Iteration_#1_ResNet50_Without_image_Preprocesing.ipynb",
   "provenance": [
    {
     "file_id": "17N2ubF_zjn2M-2g3bJ0lXH7vsD0mgLMb",
     "timestamp": 1629109577507
    }
   ]
  },
  "kernelspec": {
   "display_name": "Python 3 (ipykernel)",
   "language": "python",
   "name": "python3"
  },
  "language_info": {
   "codemirror_mode": {
    "name": "ipython",
    "version": 3
   },
   "file_extension": ".py",
   "mimetype": "text/x-python",
   "name": "python",
   "nbconvert_exporter": "python",
   "pygments_lexer": "ipython3",
   "version": "3.9.7"
  }
 },
 "nbformat": 4,
 "nbformat_minor": 5
}
