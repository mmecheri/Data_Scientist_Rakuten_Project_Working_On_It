{
 "cells": [
  {
   "cell_type": "markdown",
   "id": "27545775",
   "metadata": {},
   "source": [
    "**Import packages**"
   ]
  },
  {
   "cell_type": "code",
   "execution_count": 1,
   "id": "92150877",
   "metadata": {
    "executionInfo": {
     "elapsed": 249,
     "status": "ok",
     "timestamp": 1629120795617,
     "user": {
      "displayName": "Mourad Mecheri",
      "photoUrl": "",
      "userId": "08453845245011476141"
     },
     "user_tz": -120
    },
    "id": "92150877"
   },
   "outputs": [],
   "source": [
    "import os\n",
    "import glob\n",
    "import pandas as pd\n",
    "import numpy as np\n",
    "import cv2\n",
    "import matplotlib\n",
    "%matplotlib inline\n",
    "import matplotlib.pyplot as plt\n",
    "import seaborn as sns\n",
    "from tqdm import tqdm\n",
    "from tqdm.notebook import tqdm_notebook\n",
    "import re\n",
    "tqdm_notebook.pandas()\n",
    "import tensorflow as tf\n",
    "from tensorflow import keras\n",
    "from keras.models import load_model\n",
    "from keras.models import Sequential\n",
    "from keras.layers import Dense, Activation\n",
    "from keras.layers import Dropout\n",
    "from keras.layers import Flatten\n",
    "from keras.layers.convolutional import Conv2D\n",
    "from keras.layers.convolutional import MaxPooling2D\n",
    "from keras.utils import np_utils\n",
    "from sklearn.model_selection import train_test_split\n",
    "from keras.preprocessing.image import ImageDataGenerator\n",
    "from sklearn import metrics\n",
    "import itertools\n",
    "import pickle\n",
    "from joblib import dump, load"
   ]
  },
  {
   "cell_type": "markdown",
   "id": "666f9304",
   "metadata": {},
   "source": [
    "# Identification of product classes"
   ]
  },
  {
   "cell_type": "markdown",
   "id": "953271c8",
   "metadata": {},
   "source": [
    " ***Création de DataFrames à partir des csv Textes***"
   ]
  },
  {
   "cell_type": "code",
   "execution_count": 2,
   "id": "484f6998",
   "metadata": {},
   "outputs": [],
   "source": [
    "df_xtrain = pd.read_csv('./data/texts/X_train_update.csv') "
   ]
  },
  {
   "cell_type": "code",
   "execution_count": 3,
   "id": "f984e475",
   "metadata": {},
   "outputs": [],
   "source": [
    "df_xtest = pd.read_csv('./data/texts/X_test_update.csv') "
   ]
  },
  {
   "cell_type": "code",
   "execution_count": 4,
   "id": "ec149e54",
   "metadata": {},
   "outputs": [],
   "source": [
    "df_ytrain = pd.read_csv('./data/texts/Y_train_CVw08PX.csv') "
   ]
  },
  {
   "cell_type": "code",
   "execution_count": 5,
   "id": "21f1ae9b",
   "metadata": {},
   "outputs": [],
   "source": [
    "#print(\"df_xtrain shape: \", df_xtrain.shape)\n",
    "#print(\"df_xtest shape: \", df_xtest.shape)\n",
    "#print(\"df_ytrain shape: \", df_ytrain.shape)"
   ]
  },
  {
   "cell_type": "code",
   "execution_count": 6,
   "id": "e11bb0da",
   "metadata": {},
   "outputs": [
    {
     "data": {
      "text/html": [
       "<div>\n",
       "<style scoped>\n",
       "    .dataframe tbody tr th:only-of-type {\n",
       "        vertical-align: middle;\n",
       "    }\n",
       "\n",
       "    .dataframe tbody tr th {\n",
       "        vertical-align: top;\n",
       "    }\n",
       "\n",
       "    .dataframe thead th {\n",
       "        text-align: right;\n",
       "    }\n",
       "</style>\n",
       "<table border=\"1\" class=\"dataframe\">\n",
       "  <thead>\n",
       "    <tr style=\"text-align: right;\">\n",
       "      <th></th>\n",
       "      <th>Unnamed: 0</th>\n",
       "      <th>designation</th>\n",
       "      <th>description</th>\n",
       "      <th>productid</th>\n",
       "      <th>imageid</th>\n",
       "    </tr>\n",
       "  </thead>\n",
       "  <tbody>\n",
       "    <tr>\n",
       "      <th>0</th>\n",
       "      <td>0</td>\n",
       "      <td>Olivia: Personalisiertes Notizbuch / 150 Seite...</td>\n",
       "      <td>NaN</td>\n",
       "      <td>3804725264</td>\n",
       "      <td>1263597046</td>\n",
       "    </tr>\n",
       "    <tr>\n",
       "      <th>1</th>\n",
       "      <td>1</td>\n",
       "      <td>Journal Des Arts (Le) N° 133 Du 28/09/2001 - L...</td>\n",
       "      <td>NaN</td>\n",
       "      <td>436067568</td>\n",
       "      <td>1008141237</td>\n",
       "    </tr>\n",
       "    <tr>\n",
       "      <th>2</th>\n",
       "      <td>2</td>\n",
       "      <td>Grand Stylet Ergonomique Bleu Gamepad Nintendo...</td>\n",
       "      <td>PILOT STYLE Touch Pen de marque Speedlink est ...</td>\n",
       "      <td>201115110</td>\n",
       "      <td>938777978</td>\n",
       "    </tr>\n",
       "    <tr>\n",
       "      <th>3</th>\n",
       "      <td>3</td>\n",
       "      <td>Peluche Donald - Europe - Disneyland 2000 (Mar...</td>\n",
       "      <td>NaN</td>\n",
       "      <td>50418756</td>\n",
       "      <td>457047496</td>\n",
       "    </tr>\n",
       "    <tr>\n",
       "      <th>4</th>\n",
       "      <td>4</td>\n",
       "      <td>La Guerre Des Tuques</td>\n",
       "      <td>Luc a des id&amp;eacute;es de grandeur. Il veut or...</td>\n",
       "      <td>278535884</td>\n",
       "      <td>1077757786</td>\n",
       "    </tr>\n",
       "  </tbody>\n",
       "</table>\n",
       "</div>"
      ],
      "text/plain": [
       "   Unnamed: 0                                        designation  \\\n",
       "0           0  Olivia: Personalisiertes Notizbuch / 150 Seite...   \n",
       "1           1  Journal Des Arts (Le) N° 133 Du 28/09/2001 - L...   \n",
       "2           2  Grand Stylet Ergonomique Bleu Gamepad Nintendo...   \n",
       "3           3  Peluche Donald - Europe - Disneyland 2000 (Mar...   \n",
       "4           4                               La Guerre Des Tuques   \n",
       "\n",
       "                                         description   productid     imageid  \n",
       "0                                                NaN  3804725264  1263597046  \n",
       "1                                                NaN   436067568  1008141237  \n",
       "2  PILOT STYLE Touch Pen de marque Speedlink est ...   201115110   938777978  \n",
       "3                                                NaN    50418756   457047496  \n",
       "4  Luc a des id&eacute;es de grandeur. Il veut or...   278535884  1077757786  "
      ]
     },
     "execution_count": 6,
     "metadata": {},
     "output_type": "execute_result"
    }
   ],
   "source": [
    "df_xtrain.head()"
   ]
  },
  {
   "cell_type": "code",
   "execution_count": 7,
   "id": "7a660928",
   "metadata": {
    "scrolled": true
   },
   "outputs": [
    {
     "data": {
      "text/html": [
       "<div>\n",
       "<style scoped>\n",
       "    .dataframe tbody tr th:only-of-type {\n",
       "        vertical-align: middle;\n",
       "    }\n",
       "\n",
       "    .dataframe tbody tr th {\n",
       "        vertical-align: top;\n",
       "    }\n",
       "\n",
       "    .dataframe thead th {\n",
       "        text-align: right;\n",
       "    }\n",
       "</style>\n",
       "<table border=\"1\" class=\"dataframe\">\n",
       "  <thead>\n",
       "    <tr style=\"text-align: right;\">\n",
       "      <th></th>\n",
       "      <th>Unnamed: 0</th>\n",
       "      <th>designation</th>\n",
       "      <th>description</th>\n",
       "      <th>productid</th>\n",
       "      <th>imageid</th>\n",
       "    </tr>\n",
       "  </thead>\n",
       "  <tbody>\n",
       "    <tr>\n",
       "      <th>0</th>\n",
       "      <td>84916</td>\n",
       "      <td>Folkmanis Puppets - 2732 - Marionnette Et Théâ...</td>\n",
       "      <td>NaN</td>\n",
       "      <td>516376098</td>\n",
       "      <td>1019294171</td>\n",
       "    </tr>\n",
       "    <tr>\n",
       "      <th>1</th>\n",
       "      <td>84917</td>\n",
       "      <td>Porte Flamme Gaxix - Flamebringer Gaxix - 136/...</td>\n",
       "      <td>NaN</td>\n",
       "      <td>133389013</td>\n",
       "      <td>1274228667</td>\n",
       "    </tr>\n",
       "    <tr>\n",
       "      <th>2</th>\n",
       "      <td>84918</td>\n",
       "      <td>Pompe de filtration Speck Badu 95</td>\n",
       "      <td>NaN</td>\n",
       "      <td>4128438366</td>\n",
       "      <td>1295960357</td>\n",
       "    </tr>\n",
       "    <tr>\n",
       "      <th>3</th>\n",
       "      <td>84919</td>\n",
       "      <td>Robot de piscine électrique</td>\n",
       "      <td>&lt;p&gt;Ce robot de piscine d&amp;#39;un design innovan...</td>\n",
       "      <td>3929899732</td>\n",
       "      <td>1265224052</td>\n",
       "    </tr>\n",
       "    <tr>\n",
       "      <th>4</th>\n",
       "      <td>84920</td>\n",
       "      <td>Hsm Destructeur Securio C16 Coupe Crois¿E: 4 X...</td>\n",
       "      <td>NaN</td>\n",
       "      <td>152993898</td>\n",
       "      <td>940543690</td>\n",
       "    </tr>\n",
       "  </tbody>\n",
       "</table>\n",
       "</div>"
      ],
      "text/plain": [
       "   Unnamed: 0                                        designation  \\\n",
       "0       84916  Folkmanis Puppets - 2732 - Marionnette Et Théâ...   \n",
       "1       84917  Porte Flamme Gaxix - Flamebringer Gaxix - 136/...   \n",
       "2       84918                  Pompe de filtration Speck Badu 95   \n",
       "3       84919                        Robot de piscine électrique   \n",
       "4       84920  Hsm Destructeur Securio C16 Coupe Crois¿E: 4 X...   \n",
       "\n",
       "                                         description   productid     imageid  \n",
       "0                                                NaN   516376098  1019294171  \n",
       "1                                                NaN   133389013  1274228667  \n",
       "2                                                NaN  4128438366  1295960357  \n",
       "3  <p>Ce robot de piscine d&#39;un design innovan...  3929899732  1265224052  \n",
       "4                                                NaN   152993898   940543690  "
      ]
     },
     "execution_count": 7,
     "metadata": {},
     "output_type": "execute_result"
    }
   ],
   "source": [
    "df_xtest.head()"
   ]
  },
  {
   "cell_type": "code",
   "execution_count": 8,
   "id": "5076df95",
   "metadata": {},
   "outputs": [
    {
     "data": {
      "text/html": [
       "<div>\n",
       "<style scoped>\n",
       "    .dataframe tbody tr th:only-of-type {\n",
       "        vertical-align: middle;\n",
       "    }\n",
       "\n",
       "    .dataframe tbody tr th {\n",
       "        vertical-align: top;\n",
       "    }\n",
       "\n",
       "    .dataframe thead th {\n",
       "        text-align: right;\n",
       "    }\n",
       "</style>\n",
       "<table border=\"1\" class=\"dataframe\">\n",
       "  <thead>\n",
       "    <tr style=\"text-align: right;\">\n",
       "      <th></th>\n",
       "      <th>Unnamed: 0</th>\n",
       "      <th>prdtypecode</th>\n",
       "    </tr>\n",
       "  </thead>\n",
       "  <tbody>\n",
       "    <tr>\n",
       "      <th>0</th>\n",
       "      <td>0</td>\n",
       "      <td>10</td>\n",
       "    </tr>\n",
       "    <tr>\n",
       "      <th>1</th>\n",
       "      <td>1</td>\n",
       "      <td>2280</td>\n",
       "    </tr>\n",
       "    <tr>\n",
       "      <th>2</th>\n",
       "      <td>2</td>\n",
       "      <td>50</td>\n",
       "    </tr>\n",
       "    <tr>\n",
       "      <th>3</th>\n",
       "      <td>3</td>\n",
       "      <td>1280</td>\n",
       "    </tr>\n",
       "    <tr>\n",
       "      <th>4</th>\n",
       "      <td>4</td>\n",
       "      <td>2705</td>\n",
       "    </tr>\n",
       "  </tbody>\n",
       "</table>\n",
       "</div>"
      ],
      "text/plain": [
       "   Unnamed: 0  prdtypecode\n",
       "0           0           10\n",
       "1           1         2280\n",
       "2           2           50\n",
       "3           3         1280\n",
       "4           4         2705"
      ]
     },
     "execution_count": 8,
     "metadata": {},
     "output_type": "execute_result"
    }
   ],
   "source": [
    "df_ytrain.head()"
   ]
  },
  {
   "cell_type": "code",
   "execution_count": 9,
   "id": "a97f5a81",
   "metadata": {},
   "outputs": [
    {
     "name": "stdout",
     "output_type": "stream",
     "text": [
      "df_xtrain: \n",
      " description    29800\n",
      "dtype: int64\n",
      " \n",
      " df_xtest: \n",
      " description    4886\n",
      "dtype: int64\n",
      " \n",
      "df_ytrain: \n",
      " Series([], dtype: int64)\n"
     ]
    }
   ],
   "source": [
    "# Nan values\n",
    "null_counts = df_xtrain.isnull().sum().sort_values(ascending=False)\n",
    "print('df_xtrain: \\n', null_counts[null_counts > 0])\n",
    "\n",
    "null_counts = df_xtest.isnull().sum().sort_values(ascending=False)\n",
    "print(' \\n df_xtest: \\n',null_counts[null_counts > 0])\n",
    "\n",
    "null_counts = df_ytrain.isnull().sum().sort_values(ascending=False)\n",
    "print(' \\ndf_ytrain: \\n',null_counts[null_counts > 0])"
   ]
  },
  {
   "cell_type": "code",
   "execution_count": 12,
   "id": "fe4f6929",
   "metadata": {},
   "outputs": [
    {
     "data": {
      "text/plain": [
       "array([  10, 2280,   50, 1280, 2705, 2522, 2582, 1560, 1281, 1920, 2403,\n",
       "       1140, 2583, 1180, 1300, 2462, 1160, 2060,   40,   60, 1320, 1302,\n",
       "       2220, 2905, 2585, 1940, 1301], dtype=int64)"
      ]
     },
     "metadata": {},
     "output_type": "display_data"
    },
    {
     "data": {
      "text/plain": [
       "{10: 3116,\n",
       " 40: 2508,\n",
       " 50: 1681,\n",
       " 60: 832,\n",
       " 1140: 2671,\n",
       " 1160: 3953,\n",
       " 1180: 764,\n",
       " 1280: 4870,\n",
       " 1281: 2070,\n",
       " 1300: 5045,\n",
       " 1301: 807,\n",
       " 1302: 2491,\n",
       " 1320: 3241,\n",
       " 1560: 5073,\n",
       " 1920: 4303,\n",
       " 1940: 803,\n",
       " 2060: 4993,\n",
       " 2220: 824,\n",
       " 2280: 4760,\n",
       " 2403: 4774,\n",
       " 2462: 1421,\n",
       " 2522: 4989,\n",
       " 2582: 2589,\n",
       " 2583: 10209,\n",
       " 2585: 2496,\n",
       " 2705: 2761,\n",
       " 2905: 872}"
      ]
     },
     "execution_count": 12,
     "metadata": {},
     "output_type": "execute_result"
    }
   ],
   "source": [
    "display(df_ytrain[\"prdtypecode\"].unique())\n",
    "\n",
    "unique, counts = np.unique(df_ytrain[\"prdtypecode\"], return_counts=True)\n",
    "dict(zip(unique, counts))"
   ]
  },
  {
   "cell_type": "code",
   "execution_count": 13,
   "id": "4868df59",
   "metadata": {},
   "outputs": [
    {
     "data": {
      "text/plain": [
       "2583    12.02%\n",
       "1560     5.97%\n",
       "1300     5.94%\n",
       "2060     5.88%\n",
       "2522     5.88%\n",
       "1280     5.74%\n",
       "2403     5.62%\n",
       "2280     5.61%\n",
       "1920     5.07%\n",
       "1160     4.66%\n",
       "1320     3.82%\n",
       "10       3.67%\n",
       "2705     3.25%\n",
       "1140     3.15%\n",
       "2582     3.05%\n",
       "40       2.95%\n",
       "2585     2.94%\n",
       "1302     2.93%\n",
       "1281     2.44%\n",
       "50       1.98%\n",
       "2462     1.67%\n",
       "2905     1.03%\n",
       "60       0.98%\n",
       "2220     0.97%\n",
       "1301     0.95%\n",
       "1940     0.95%\n",
       "1180      0.9%\n",
       "Name: prdtypecode, dtype: object"
      ]
     },
     "execution_count": 13,
     "metadata": {},
     "output_type": "execute_result"
    }
   ],
   "source": [
    "df_ytrain[\"prdtypecode\"].value_counts(normalize=True).mul(100).round(2).astype(str) + '%'"
   ]
  },
  {
   "cell_type": "markdown",
   "id": "9557f5af",
   "metadata": {},
   "source": [
    " *** Concaténation df_xtrain et df_ytrain(Retrouver les product codes) ***"
   ]
  },
  {
   "cell_type": "code",
   "execution_count": 14,
   "id": "efb0fee0",
   "metadata": {},
   "outputs": [],
   "source": [
    "# Sort des deux DF avant de faire la concaténation\n",
    "df_xtrain = df_xtrain.sort_values(by = 'Unnamed: 0', ascending = True)\n",
    "df_ytrain = df_ytrain.sort_values(by = 'Unnamed: 0', ascending = True)"
   ]
  },
  {
   "cell_type": "code",
   "execution_count": 15,
   "id": "5d8ee7f2",
   "metadata": {},
   "outputs": [
    {
     "data": {
      "text/plain": [
       "True    84916\n",
       "Name: Unnamed: 0, dtype: int64"
      ]
     },
     "execution_count": 15,
     "metadata": {},
     "output_type": "execute_result"
    }
   ],
   "source": [
    "# Comparaison des deux colonnes 'Unnamed: 0' des deux DF df_xtrain et  df_ytrain\n",
    "df_xtrain['Unnamed: 0'].isin(df_ytrain['Unnamed: 0']).value_counts()"
   ]
  },
  {
   "cell_type": "code",
   "execution_count": 16,
   "id": "d7dc0338",
   "metadata": {},
   "outputs": [],
   "source": [
    "# Concaténation des deux DF - Train\n",
    "df_combined = pd.concat([df_xtrain, df_ytrain['prdtypecode'] ], axis = 1)\n",
    "df_combined.drop('Unnamed: 0', axis =1 , inplace = True)"
   ]
  },
  {
   "cell_type": "code",
   "execution_count": 17,
   "id": "1b930af9",
   "metadata": {},
   "outputs": [
    {
     "data": {
      "text/html": [
       "<div>\n",
       "<style scoped>\n",
       "    .dataframe tbody tr th:only-of-type {\n",
       "        vertical-align: middle;\n",
       "    }\n",
       "\n",
       "    .dataframe tbody tr th {\n",
       "        vertical-align: top;\n",
       "    }\n",
       "\n",
       "    .dataframe thead th {\n",
       "        text-align: right;\n",
       "    }\n",
       "</style>\n",
       "<table border=\"1\" class=\"dataframe\">\n",
       "  <thead>\n",
       "    <tr style=\"text-align: right;\">\n",
       "      <th></th>\n",
       "      <th>designation</th>\n",
       "      <th>description</th>\n",
       "      <th>productid</th>\n",
       "      <th>imageid</th>\n",
       "      <th>prdtypecode</th>\n",
       "    </tr>\n",
       "  </thead>\n",
       "  <tbody>\n",
       "    <tr>\n",
       "      <th>0</th>\n",
       "      <td>Olivia: Personalisiertes Notizbuch / 150 Seite...</td>\n",
       "      <td>NaN</td>\n",
       "      <td>3804725264</td>\n",
       "      <td>1263597046</td>\n",
       "      <td>10</td>\n",
       "    </tr>\n",
       "    <tr>\n",
       "      <th>1</th>\n",
       "      <td>Journal Des Arts (Le) N° 133 Du 28/09/2001 - L...</td>\n",
       "      <td>NaN</td>\n",
       "      <td>436067568</td>\n",
       "      <td>1008141237</td>\n",
       "      <td>2280</td>\n",
       "    </tr>\n",
       "    <tr>\n",
       "      <th>2</th>\n",
       "      <td>Grand Stylet Ergonomique Bleu Gamepad Nintendo...</td>\n",
       "      <td>PILOT STYLE Touch Pen de marque Speedlink est ...</td>\n",
       "      <td>201115110</td>\n",
       "      <td>938777978</td>\n",
       "      <td>50</td>\n",
       "    </tr>\n",
       "    <tr>\n",
       "      <th>3</th>\n",
       "      <td>Peluche Donald - Europe - Disneyland 2000 (Mar...</td>\n",
       "      <td>NaN</td>\n",
       "      <td>50418756</td>\n",
       "      <td>457047496</td>\n",
       "      <td>1280</td>\n",
       "    </tr>\n",
       "    <tr>\n",
       "      <th>4</th>\n",
       "      <td>La Guerre Des Tuques</td>\n",
       "      <td>Luc a des id&amp;eacute;es de grandeur. Il veut or...</td>\n",
       "      <td>278535884</td>\n",
       "      <td>1077757786</td>\n",
       "      <td>2705</td>\n",
       "    </tr>\n",
       "    <tr>\n",
       "      <th>...</th>\n",
       "      <td>...</td>\n",
       "      <td>...</td>\n",
       "      <td>...</td>\n",
       "      <td>...</td>\n",
       "      <td>...</td>\n",
       "    </tr>\n",
       "    <tr>\n",
       "      <th>84911</th>\n",
       "      <td>The Sims [ Import Anglais ]</td>\n",
       "      <td>NaN</td>\n",
       "      <td>206719094</td>\n",
       "      <td>941495734</td>\n",
       "      <td>40</td>\n",
       "    </tr>\n",
       "    <tr>\n",
       "      <th>84912</th>\n",
       "      <td>Kit piscine acier NEVADA déco pierre Ø 3.50m x...</td>\n",
       "      <td>&lt;b&gt;Description complète :&lt;/b&gt;&lt;br /&gt;Kit piscine...</td>\n",
       "      <td>3065095706</td>\n",
       "      <td>1188462883</td>\n",
       "      <td>2583</td>\n",
       "    </tr>\n",
       "    <tr>\n",
       "      <th>84913</th>\n",
       "      <td>Journal Officiel De La Republique Francaise N°...</td>\n",
       "      <td>NaN</td>\n",
       "      <td>440707564</td>\n",
       "      <td>1009325617</td>\n",
       "      <td>2280</td>\n",
       "    </tr>\n",
       "    <tr>\n",
       "      <th>84914</th>\n",
       "      <td>Table Basse Bois De Récupération Massif Base B...</td>\n",
       "      <td>&lt;p&gt;Cette table basse a un design unique et con...</td>\n",
       "      <td>3942400296</td>\n",
       "      <td>1267353403</td>\n",
       "      <td>1560</td>\n",
       "    </tr>\n",
       "    <tr>\n",
       "      <th>84915</th>\n",
       "      <td>Gomme De Collection 2 Gommes Pinguin Glace Ver...</td>\n",
       "      <td>NaN</td>\n",
       "      <td>57203227</td>\n",
       "      <td>684671297</td>\n",
       "      <td>2522</td>\n",
       "    </tr>\n",
       "  </tbody>\n",
       "</table>\n",
       "<p>84916 rows × 5 columns</p>\n",
       "</div>"
      ],
      "text/plain": [
       "                                             designation  \\\n",
       "0      Olivia: Personalisiertes Notizbuch / 150 Seite...   \n",
       "1      Journal Des Arts (Le) N° 133 Du 28/09/2001 - L...   \n",
       "2      Grand Stylet Ergonomique Bleu Gamepad Nintendo...   \n",
       "3      Peluche Donald - Europe - Disneyland 2000 (Mar...   \n",
       "4                                   La Guerre Des Tuques   \n",
       "...                                                  ...   \n",
       "84911                        The Sims [ Import Anglais ]   \n",
       "84912  Kit piscine acier NEVADA déco pierre Ø 3.50m x...   \n",
       "84913  Journal Officiel De La Republique Francaise N°...   \n",
       "84914  Table Basse Bois De Récupération Massif Base B...   \n",
       "84915  Gomme De Collection 2 Gommes Pinguin Glace Ver...   \n",
       "\n",
       "                                             description   productid  \\\n",
       "0                                                    NaN  3804725264   \n",
       "1                                                    NaN   436067568   \n",
       "2      PILOT STYLE Touch Pen de marque Speedlink est ...   201115110   \n",
       "3                                                    NaN    50418756   \n",
       "4      Luc a des id&eacute;es de grandeur. Il veut or...   278535884   \n",
       "...                                                  ...         ...   \n",
       "84911                                                NaN   206719094   \n",
       "84912  <b>Description complète :</b><br />Kit piscine...  3065095706   \n",
       "84913                                                NaN   440707564   \n",
       "84914  <p>Cette table basse a un design unique et con...  3942400296   \n",
       "84915                                                NaN    57203227   \n",
       "\n",
       "          imageid  prdtypecode  \n",
       "0      1263597046           10  \n",
       "1      1008141237         2280  \n",
       "2       938777978           50  \n",
       "3       457047496         1280  \n",
       "4      1077757786         2705  \n",
       "...           ...          ...  \n",
       "84911   941495734           40  \n",
       "84912  1188462883         2583  \n",
       "84913  1009325617         2280  \n",
       "84914  1267353403         1560  \n",
       "84915   684671297         2522  \n",
       "\n",
       "[84916 rows x 5 columns]"
      ]
     },
     "execution_count": 17,
     "metadata": {},
     "output_type": "execute_result"
    }
   ],
   "source": [
    "df_combined"
   ]
  },
  {
   "cell_type": "code",
   "execution_count": 18,
   "id": "fbbee803",
   "metadata": {},
   "outputs": [
    {
     "name": "stdout",
     "output_type": "stream",
     "text": [
      "<class 'pandas.core.frame.DataFrame'>\n",
      "Int64Index: 84916 entries, 0 to 84915\n",
      "Data columns (total 5 columns):\n",
      " #   Column       Non-Null Count  Dtype \n",
      "---  ------       --------------  ----- \n",
      " 0   designation  84916 non-null  object\n",
      " 1   description  55116 non-null  object\n",
      " 2   productid    84916 non-null  int64 \n",
      " 3   imageid      84916 non-null  int64 \n",
      " 4   prdtypecode  84916 non-null  int64 \n",
      "dtypes: int64(3), object(2)\n",
      "memory usage: 3.9+ MB\n"
     ]
    }
   ],
   "source": [
    "df_combined.info()"
   ]
  },
  {
   "cell_type": "code",
   "execution_count": 16,
   "id": "b5e107fd",
   "metadata": {},
   "outputs": [
    {
     "data": {
      "text/plain": [
       "(84916, 5)"
      ]
     },
     "execution_count": 16,
     "metadata": {},
     "output_type": "execute_result"
    }
   ],
   "source": [
    "df_combined.shape"
   ]
  },
  {
   "cell_type": "code",
   "execution_count": 19,
   "id": "20eb7df4",
   "metadata": {},
   "outputs": [],
   "source": [
    "#path_im = \"./data/images/all/image_train/\"  # Train folder containing org image  500 x 500 \n",
    "path_im = \"./data/images/all/image_train_resized/\"  # Train folder containing resized  256 x 256 \n",
    "#im_prfix = \"image_\"\n",
    "im_prfix = \"resized_image_\"\n",
    "\n",
    "#df_combined[\"filePath\"] =  path_im +\"image_\" + df_combined.imageid.astype(str)+ \"_product_\" + df_combined.productid.astype(str) + \".jpg\"\n",
    "df_combined[\"filePath\"] =  path_im  + im_prfix  + df_combined.imageid.astype(str)+ \"_product_\" + df_combined.productid.astype(str) + \".jpg\""
   ]
  },
  {
   "cell_type": "code",
   "execution_count": 18,
   "id": "9ec01e29",
   "metadata": {},
   "outputs": [
    {
     "data": {
      "text/html": [
       "<div>\n",
       "<style scoped>\n",
       "    .dataframe tbody tr th:only-of-type {\n",
       "        vertical-align: middle;\n",
       "    }\n",
       "\n",
       "    .dataframe tbody tr th {\n",
       "        vertical-align: top;\n",
       "    }\n",
       "\n",
       "    .dataframe thead th {\n",
       "        text-align: right;\n",
       "    }\n",
       "</style>\n",
       "<table border=\"1\" class=\"dataframe\">\n",
       "  <thead>\n",
       "    <tr style=\"text-align: right;\">\n",
       "      <th></th>\n",
       "      <th>designation</th>\n",
       "      <th>description</th>\n",
       "      <th>productid</th>\n",
       "      <th>imageid</th>\n",
       "      <th>prdtypecode</th>\n",
       "      <th>filePath</th>\n",
       "    </tr>\n",
       "  </thead>\n",
       "  <tbody>\n",
       "    <tr>\n",
       "      <th>0</th>\n",
       "      <td>Olivia: Personalisiertes Notizbuch / 150 Seite...</td>\n",
       "      <td>NaN</td>\n",
       "      <td>3804725264</td>\n",
       "      <td>1263597046</td>\n",
       "      <td>10</td>\n",
       "      <td>./data/images/all/image_train_resized/resized_...</td>\n",
       "    </tr>\n",
       "    <tr>\n",
       "      <th>1</th>\n",
       "      <td>Journal Des Arts (Le) N° 133 Du 28/09/2001 - L...</td>\n",
       "      <td>NaN</td>\n",
       "      <td>436067568</td>\n",
       "      <td>1008141237</td>\n",
       "      <td>2280</td>\n",
       "      <td>./data/images/all/image_train_resized/resized_...</td>\n",
       "    </tr>\n",
       "    <tr>\n",
       "      <th>2</th>\n",
       "      <td>Grand Stylet Ergonomique Bleu Gamepad Nintendo...</td>\n",
       "      <td>PILOT STYLE Touch Pen de marque Speedlink est ...</td>\n",
       "      <td>201115110</td>\n",
       "      <td>938777978</td>\n",
       "      <td>50</td>\n",
       "      <td>./data/images/all/image_train_resized/resized_...</td>\n",
       "    </tr>\n",
       "    <tr>\n",
       "      <th>3</th>\n",
       "      <td>Peluche Donald - Europe - Disneyland 2000 (Mar...</td>\n",
       "      <td>NaN</td>\n",
       "      <td>50418756</td>\n",
       "      <td>457047496</td>\n",
       "      <td>1280</td>\n",
       "      <td>./data/images/all/image_train_resized/resized_...</td>\n",
       "    </tr>\n",
       "    <tr>\n",
       "      <th>4</th>\n",
       "      <td>La Guerre Des Tuques</td>\n",
       "      <td>Luc a des id&amp;eacute;es de grandeur. Il veut or...</td>\n",
       "      <td>278535884</td>\n",
       "      <td>1077757786</td>\n",
       "      <td>2705</td>\n",
       "      <td>./data/images/all/image_train_resized/resized_...</td>\n",
       "    </tr>\n",
       "    <tr>\n",
       "      <th>...</th>\n",
       "      <td>...</td>\n",
       "      <td>...</td>\n",
       "      <td>...</td>\n",
       "      <td>...</td>\n",
       "      <td>...</td>\n",
       "      <td>...</td>\n",
       "    </tr>\n",
       "    <tr>\n",
       "      <th>84911</th>\n",
       "      <td>The Sims [ Import Anglais ]</td>\n",
       "      <td>NaN</td>\n",
       "      <td>206719094</td>\n",
       "      <td>941495734</td>\n",
       "      <td>40</td>\n",
       "      <td>./data/images/all/image_train_resized/resized_...</td>\n",
       "    </tr>\n",
       "    <tr>\n",
       "      <th>84912</th>\n",
       "      <td>Kit piscine acier NEVADA déco pierre Ø 3.50m x...</td>\n",
       "      <td>&lt;b&gt;Description complète :&lt;/b&gt;&lt;br /&gt;Kit piscine...</td>\n",
       "      <td>3065095706</td>\n",
       "      <td>1188462883</td>\n",
       "      <td>2583</td>\n",
       "      <td>./data/images/all/image_train_resized/resized_...</td>\n",
       "    </tr>\n",
       "    <tr>\n",
       "      <th>84913</th>\n",
       "      <td>Journal Officiel De La Republique Francaise N°...</td>\n",
       "      <td>NaN</td>\n",
       "      <td>440707564</td>\n",
       "      <td>1009325617</td>\n",
       "      <td>2280</td>\n",
       "      <td>./data/images/all/image_train_resized/resized_...</td>\n",
       "    </tr>\n",
       "    <tr>\n",
       "      <th>84914</th>\n",
       "      <td>Table Basse Bois De Récupération Massif Base B...</td>\n",
       "      <td>&lt;p&gt;Cette table basse a un design unique et con...</td>\n",
       "      <td>3942400296</td>\n",
       "      <td>1267353403</td>\n",
       "      <td>1560</td>\n",
       "      <td>./data/images/all/image_train_resized/resized_...</td>\n",
       "    </tr>\n",
       "    <tr>\n",
       "      <th>84915</th>\n",
       "      <td>Gomme De Collection 2 Gommes Pinguin Glace Ver...</td>\n",
       "      <td>NaN</td>\n",
       "      <td>57203227</td>\n",
       "      <td>684671297</td>\n",
       "      <td>2522</td>\n",
       "      <td>./data/images/all/image_train_resized/resized_...</td>\n",
       "    </tr>\n",
       "  </tbody>\n",
       "</table>\n",
       "<p>84916 rows × 6 columns</p>\n",
       "</div>"
      ],
      "text/plain": [
       "                                             designation  \\\n",
       "0      Olivia: Personalisiertes Notizbuch / 150 Seite...   \n",
       "1      Journal Des Arts (Le) N° 133 Du 28/09/2001 - L...   \n",
       "2      Grand Stylet Ergonomique Bleu Gamepad Nintendo...   \n",
       "3      Peluche Donald - Europe - Disneyland 2000 (Mar...   \n",
       "4                                   La Guerre Des Tuques   \n",
       "...                                                  ...   \n",
       "84911                        The Sims [ Import Anglais ]   \n",
       "84912  Kit piscine acier NEVADA déco pierre Ø 3.50m x...   \n",
       "84913  Journal Officiel De La Republique Francaise N°...   \n",
       "84914  Table Basse Bois De Récupération Massif Base B...   \n",
       "84915  Gomme De Collection 2 Gommes Pinguin Glace Ver...   \n",
       "\n",
       "                                             description   productid  \\\n",
       "0                                                    NaN  3804725264   \n",
       "1                                                    NaN   436067568   \n",
       "2      PILOT STYLE Touch Pen de marque Speedlink est ...   201115110   \n",
       "3                                                    NaN    50418756   \n",
       "4      Luc a des id&eacute;es de grandeur. Il veut or...   278535884   \n",
       "...                                                  ...         ...   \n",
       "84911                                                NaN   206719094   \n",
       "84912  <b>Description complète :</b><br />Kit piscine...  3065095706   \n",
       "84913                                                NaN   440707564   \n",
       "84914  <p>Cette table basse a un design unique et con...  3942400296   \n",
       "84915                                                NaN    57203227   \n",
       "\n",
       "          imageid  prdtypecode  \\\n",
       "0      1263597046           10   \n",
       "1      1008141237         2280   \n",
       "2       938777978           50   \n",
       "3       457047496         1280   \n",
       "4      1077757786         2705   \n",
       "...           ...          ...   \n",
       "84911   941495734           40   \n",
       "84912  1188462883         2583   \n",
       "84913  1009325617         2280   \n",
       "84914  1267353403         1560   \n",
       "84915   684671297         2522   \n",
       "\n",
       "                                                filePath  \n",
       "0      ./data/images/all/image_train_resized/resized_...  \n",
       "1      ./data/images/all/image_train_resized/resized_...  \n",
       "2      ./data/images/all/image_train_resized/resized_...  \n",
       "3      ./data/images/all/image_train_resized/resized_...  \n",
       "4      ./data/images/all/image_train_resized/resized_...  \n",
       "...                                                  ...  \n",
       "84911  ./data/images/all/image_train_resized/resized_...  \n",
       "84912  ./data/images/all/image_train_resized/resized_...  \n",
       "84913  ./data/images/all/image_train_resized/resized_...  \n",
       "84914  ./data/images/all/image_train_resized/resized_...  \n",
       "84915  ./data/images/all/image_train_resized/resized_...  \n",
       "\n",
       "[84916 rows x 6 columns]"
      ]
     },
     "execution_count": 18,
     "metadata": {},
     "output_type": "execute_result"
    }
   ],
   "source": [
    "df_combined"
   ]
  },
  {
   "cell_type": "markdown",
   "id": "4n8xqqBzpEX7",
   "metadata": {
    "id": "4n8xqqBzpEX7"
   },
   "source": [
    "# Dataframe saving to CSV"
   ]
  },
  {
   "cell_type": "code",
   "execution_count": 20,
   "id": "2jZY6gG0pJbN",
   "metadata": {
    "id": "2jZY6gG0pJbN"
   },
   "outputs": [],
   "source": [
    "import xlwt\n",
    "import openpyxl\n",
    "pathSave = './saves'\n",
    "date = '27092021'\n",
    "version = '_V0'\n",
    "\n",
    "# To pickle file\n",
    "df_combined.to_pickle(f\"{pathSave}/df_combined.pkl\")\n",
    "\n",
    "# To CSV file\n",
    "df_combined.to_csv(f\"{pathSave}/df_combined_xtrain_ytrain_{date}{version}.csv\")\n",
    "\n"
   ]
  },
  {
   "cell_type": "markdown",
   "id": "d7a3fcab",
   "metadata": {},
   "source": [
    "# Iteration #1 - Architecture LeNet"
   ]
  },
  {
   "cell_type": "code",
   "execution_count": null,
   "id": "4fed4ec9",
   "metadata": {},
   "outputs": [],
   "source": [
    "# read saved DF - Combined  for train images"
   ]
  },
  {
   "cell_type": "code",
   "execution_count": 10,
   "id": "8ef548a9",
   "metadata": {},
   "outputs": [],
   "source": [
    "#df_train_im = pd.read_csv('./df_saves/df_combined_xtrain_ytrain_27092021_V0.csv', index_col=0) \n",
    "df_train_im = pd.read_pickle(\"./saves/df_combined.pkl\")"
   ]
  },
  {
   "cell_type": "code",
   "execution_count": 11,
   "id": "d43d8189",
   "metadata": {},
   "outputs": [
    {
     "data": {
      "text/plain": [
       "(84916, 6)"
      ]
     },
     "metadata": {},
     "output_type": "display_data"
    }
   ],
   "source": [
    "display(df_train_im.shape)"
   ]
  },
  {
   "cell_type": "code",
   "execution_count": 12,
   "id": "e928d91e",
   "metadata": {},
   "outputs": [
    {
     "data": {
      "text/plain": [
       "(84916, 6)"
      ]
     },
     "metadata": {},
     "output_type": "display_data"
    }
   ],
   "source": [
    "display(df_train_im.shape)"
   ]
  },
  {
   "cell_type": "code",
   "execution_count": 14,
   "id": "1874a9b3",
   "metadata": {},
   "outputs": [],
   "source": [
    "#df_train_im, data_test = train_test_split(df_train['filePath'], test_size=0.2, random_state=123)\n",
    "X_train_im, X_test_im = train_test_split(df_train_im, train_size=0.8, random_state=1234)"
   ]
  },
  {
   "cell_type": "code",
   "execution_count": 15,
   "id": "6bf6f3cc",
   "metadata": {},
   "outputs": [
    {
     "data": {
      "text/plain": [
       "(67932, 6)"
      ]
     },
     "metadata": {},
     "output_type": "display_data"
    },
    {
     "data": {
      "text/plain": [
       "(16984, 6)"
      ]
     },
     "metadata": {},
     "output_type": "display_data"
    }
   ],
   "source": [
    "display(X_train_im.shape)\n",
    "display(X_test_im.shape)"
   ]
  },
  {
   "cell_type": "markdown",
   "id": "0dc304a2",
   "metadata": {},
   "source": [
    "*** Générateur de données images ***"
   ]
  },
  {
   "cell_type": "code",
   "execution_count": 16,
   "id": "28240a75",
   "metadata": {},
   "outputs": [
    {
     "name": "stderr",
     "output_type": "stream",
     "text": [
      "<ipython-input-16-cc2b03634478>:1: SettingWithCopyWarning: \n",
      "A value is trying to be set on a copy of a slice from a DataFrame.\n",
      "Try using .loc[row_indexer,col_indexer] = value instead\n",
      "\n",
      "See the caveats in the documentation: https://pandas.pydata.org/pandas-docs/stable/user_guide/indexing.html#returning-a-view-versus-a-copy\n",
      "  X_train_im[\"prdtypecode\"] = X_train_im[\"prdtypecode\"].astype(str)\n",
      "<ipython-input-16-cc2b03634478>:2: SettingWithCopyWarning: \n",
      "A value is trying to be set on a copy of a slice from a DataFrame.\n",
      "Try using .loc[row_indexer,col_indexer] = value instead\n",
      "\n",
      "See the caveats in the documentation: https://pandas.pydata.org/pandas-docs/stable/user_guide/indexing.html#returning-a-view-versus-a-copy\n",
      "  X_test_im[\"prdtypecode\"] = X_test_im[\"prdtypecode\"].astype(str)\n"
     ]
    }
   ],
   "source": [
    "X_train_im[\"prdtypecode\"] = X_train_im[\"prdtypecode\"].astype(str)\n",
    "X_test_im[\"prdtypecode\"] = X_test_im[\"prdtypecode\"].astype(str)\n"
   ]
  },
  {
   "cell_type": "code",
   "execution_count": 54,
   "id": "e2c1f1ef",
   "metadata": {},
   "outputs": [
    {
     "data": {
      "text/plain": [
       "{'10': 838,\n",
       " '1140': 741,\n",
       " '1160': 1079,\n",
       " '1180': 213,\n",
       " '1280': 1379,\n",
       " '1281': 564,\n",
       " '1300': 1434,\n",
       " '1301': 218,\n",
       " '1302': 739,\n",
       " '1320': 924,\n",
       " '1560': 1427,\n",
       " '1920': 1249,\n",
       " '1940': 207,\n",
       " '2060': 1485,\n",
       " '2220': 230,\n",
       " '2280': 1398,\n",
       " '2403': 1349,\n",
       " '2462': 419,\n",
       " '2522': 1361,\n",
       " '2582': 719,\n",
       " '2583': 2837,\n",
       " '2585': 727,\n",
       " '2705': 752,\n",
       " '2905': 263,\n",
       " '40': 724,\n",
       " '50': 483,\n",
       " '60': 241}"
      ]
     },
     "execution_count": 54,
     "metadata": {},
     "output_type": "execute_result"
    }
   ],
   "source": [
    "unique, counts = np.unique(X_train_im[\"prdtypecode\"], return_counts=True)\n",
    "dict(zip(unique, counts))"
   ]
  },
  {
   "cell_type": "code",
   "execution_count": 19,
   "id": "fd8ba6bc",
   "metadata": {},
   "outputs": [],
   "source": [
    "#Générateur de données\n",
    "datagen = ImageDataGenerator(rotation_range = 10,\n",
    "                                width_shift_range = 0.1, # Translation horizontale\n",
    "                                height_shift_range= 0.1, # Translation verticale\n",
    "                                zoom_range = 0.1,\n",
    "                                horizontal_flip=True,\n",
    "                                validation_split = 0.2)"
   ]
  },
  {
   "cell_type": "code",
   "execution_count": 20,
   "id": "5108cec9",
   "metadata": {},
   "outputs": [
    {
     "name": "stdout",
     "output_type": "stream",
     "text": [
      "Found 54346 validated image filenames belonging to 27 classes.\n",
      "Found 3396 validated image filenames belonging to 27 classes.\n"
     ]
    }
   ],
   "source": [
    "#Itérateur \n",
    "train_generator = datagen.flow_from_dataframe(dataframe = X_train_im,                                           \n",
    "                                            x_col = \"filePath\",\n",
    "                                            y_col = 'prdtypecode',  #target data                                            \n",
    "                                            class_mode = 'sparse',\n",
    "                                            subset = 'training',\n",
    "                                            # target_size = (256 , 256) - default\n",
    "                                            #color_mode = 'rgb'- default\n",
    "                                            batch_size = 32 # default\n",
    "                                           )\n",
    "\n",
    "test_generator = datagen.flow_from_dataframe(dataframe = X_test_im,                                            \n",
    "                                            x_col = \"filePath\",\n",
    "                                            y_col ='prdtypecode', \n",
    "                                            class_mode = 'sparse',\n",
    "                                            subset = 'validation', \n",
    "                                            #target_size = (256 , 256)-default\n",
    "                                            #color_mode = 'rgb'- default\n",
    "                                            batch_size = 32 # default\n",
    "                                   )"
   ]
  },
  {
   "cell_type": "code",
   "execution_count": 70,
   "id": "9af04c84",
   "metadata": {},
   "outputs": [
    {
     "name": "stdout",
     "output_type": "stream",
     "text": [
      "Model: \"sequential_5\"\n",
      "_________________________________________________________________\n",
      "Layer (type)                 Output Shape              Param #   \n",
      "=================================================================\n",
      "conv2d_10 (Conv2D)           (None, 252, 252, 30)      2280      \n",
      "_________________________________________________________________\n",
      "max_pooling2d_10 (MaxPooling (None, 126, 126, 30)      0         \n",
      "_________________________________________________________________\n",
      "conv2d_11 (Conv2D)           (None, 124, 124, 16)      4336      \n",
      "_________________________________________________________________\n",
      "max_pooling2d_11 (MaxPooling (None, 62, 62, 16)        0         \n",
      "_________________________________________________________________\n",
      "dropout_5 (Dropout)          (None, 62, 62, 16)        0         \n",
      "_________________________________________________________________\n",
      "flatten_5 (Flatten)          (None, 61504)             0         \n",
      "_________________________________________________________________\n",
      "dense_10 (Dense)             (None, 128)               7872640   \n",
      "_________________________________________________________________\n",
      "dense_11 (Dense)             (None, 27)                3483      \n",
      "=================================================================\n",
      "Total params: 7,882,739\n",
      "Trainable params: 7,882,739\n",
      "Non-trainable params: 0\n",
      "_________________________________________________________________\n"
     ]
    }
   ],
   "source": [
    "# Architecture du modèle\n",
    "lenet = Sequential()\n",
    "\n",
    "conv_1 = Conv2D(filters = 30,                     # Nombre de filtres\n",
    "                kernel_size = (5, 5),            # Dimensions du noyau\n",
    "                padding = 'valid',               # Mode de Dépassement\n",
    "                input_shape = (256, 256, 3),       # Dimensions de l'image en entrée 256 x 256 !!!!!!!!\n",
    "                activation = 'relu')             # Fonction d'activation\n",
    "\n",
    "max_pool_1 = MaxPooling2D(pool_size = (2, 2))\n",
    "\n",
    "conv_2 = Conv2D(filters = 16,                    \n",
    "                kernel_size = (3, 3),          \n",
    "                padding = 'valid',             \n",
    "                activation = 'relu')\n",
    "\n",
    "max_pool_2 = MaxPooling2D(pool_size = (2, 2))\n",
    "\n",
    "flatten = Flatten()\n",
    "\n",
    "dropout = Dropout(rate = 0.2)\n",
    "\n",
    "dense_1 = Dense(units = 128,\n",
    "                activation = 'relu')\n",
    "\n",
    "dense_2 = Dense(units = 27,              # changer le nombre de units pour coller au nombre de classe!!!!!!\n",
    "                activation = 'softmax')\n",
    "\n",
    "lenet.add(conv_1)\n",
    "lenet.add(max_pool_1)\n",
    "lenet.add(conv_2)\n",
    "lenet.add(max_pool_2)\n",
    "\n",
    "lenet.add(dropout)\n",
    "lenet.add(flatten)\n",
    "lenet.add(dense_1)\n",
    "lenet.add(dense_2)\n",
    "\n",
    "lenet.summary()"
   ]
  },
  {
   "cell_type": "code",
   "execution_count": 71,
   "id": "03b94ced",
   "metadata": {},
   "outputs": [],
   "source": [
    "# Compilation\n",
    "lenet.compile(loss='sparse_categorical_crossentropy',  # fonction de perte\n",
    "              optimizer='adam',                 # algorithme de descente de gradient\n",
    "              metrics=['accuracy'])             # métrique d'évaluation\n"
   ]
  },
  {
   "cell_type": "code",
   "execution_count": null,
   "id": "6099def0",
   "metadata": {},
   "outputs": [],
   "source": [
    "#batch_size = 32\n",
    "history = lenet.fit_generator(generator = train_generator, \n",
    "                              ##steps_per_epoch = len(X_train_im)//batch_size,\n",
    "                              epochs = 5,                            \n",
    "                              validation_data = test_generator,\n",
    "                              #validation_steps = len(X_test_im)//batch_size\n",
    "                             )\n"
   ]
  },
  {
   "cell_type": "code",
   "execution_count": 72,
   "id": "c3ab8263",
   "metadata": {},
   "outputs": [
    {
     "name": "stdout",
     "output_type": "stream",
     "text": [
      "Epoch 1/10\n",
      "1699/1699 [==============================] - 4575s 3s/step - loss: 5.0419 - accuracy: 0.1177\n",
      "Epoch 2/10\n",
      "1699/1699 [==============================] - 4541s 3s/step - loss: 3.0896 - accuracy: 0.1213\n",
      "Epoch 3/10\n",
      "1699/1699 [==============================] - 4856s 3s/step - loss: 3.0857 - accuracy: 0.1226\n",
      "Epoch 4/10\n",
      "1699/1699 [==============================] - 5271s 3s/step - loss: 3.0847 - accuracy: 0.1224\n",
      "Epoch 5/10\n",
      "1699/1699 [==============================] - 5263s 3s/step - loss: 3.0836 - accuracy: 0.1230\n",
      "Epoch 6/10\n",
      "1699/1699 [==============================] - 5264s 3s/step - loss: 3.0830 - accuracy: 0.1235\n",
      "Epoch 7/10\n",
      "1699/1699 [==============================] - 5187s 3s/step - loss: 3.0842 - accuracy: 0.1227\n",
      "Epoch 8/10\n",
      "1699/1699 [==============================] - 4541s 3s/step - loss: 3.0837 - accuracy: 0.1234\n",
      "Epoch 9/10\n",
      "1699/1699 [==============================] - 4956s 3s/step - loss: 3.0824 - accuracy: 0.1231\n",
      "Epoch 10/10\n",
      "1699/1699 [==============================] - 5088s 3s/step - loss: 3.0852 - accuracy: 0.1226\n",
      "Wall time: 13h 46min 21s\n"
     ]
    }
   ],
   "source": [
    "%%time\n",
    "batch_size = 32\n",
    "\n",
    "# Train Train generator\n",
    "history = lenet.fit(train_generator,                    \n",
    "                     epochs = 10,\n",
    "                    )\n",
    "\n",
    "#batch_size = 32\n",
    "#history = lenet.fit_generator(generator = train_generator, \n",
    "                              ##steps_per_epoch = len(X_train_im)//batch_size,\n",
    "                              #epochs = 5,                            \n",
    "                              #validation_data = test_generator,\n",
    "                              #validation_steps = len(X_test_im)//batch_size\n",
    "                            # )"
   ]
  },
  {
   "cell_type": "code",
   "execution_count": 22,
   "id": "7ce3d3d8",
   "metadata": {},
   "outputs": [
    {
     "name": "stdout",
     "output_type": "stream",
     "text": [
      "WARNING:tensorflow:From <ipython-input-22-99950d9ce7c3>:2: Model.predict_generator (from tensorflow.python.keras.engine.training) is deprecated and will be removed in a future version.\n",
      "Instructions for updating:\n",
      "Please use Model.predict, which supports generators.\n"
     ]
    }
   ],
   "source": [
    "#Prediction - Test set\n",
    "y_pred_proba = lenet.predict_generator(generator = test_generator)\n",
    "\n",
    "# l'argmax pour obtenir les classes prédites\n",
    "y_pred_class = np.argmax(y_pred_proba,axis = 1).astype(int)\n",
    "\n",
    "# To get classes fro test generator\n",
    "y_true = test_generator.classes\n"
   ]
  },
  {
   "cell_type": "code",
   "execution_count": 23,
   "id": "7fe7def6",
   "metadata": {},
   "outputs": [
    {
     "data": {
      "text/plain": [
       "{0: 1, 4: 1, 8: 1, 9: 3257, 11: 1, 12: 2, 13: 4, 16: 1, 18: 1, 24: 1, 25: 126}"
      ]
     },
     "execution_count": 23,
     "metadata": {},
     "output_type": "execute_result"
    }
   ],
   "source": [
    "unique, counts = np.unique(y_pred_class, return_counts=True)\n",
    "dict(zip(unique, counts))"
   ]
  },
  {
   "cell_type": "code",
   "execution_count": 89,
   "id": "a1f0707f",
   "metadata": {},
   "outputs": [
    {
     "name": "stdout",
     "output_type": "stream",
     "text": [
      "WARNING:tensorflow:From <ipython-input-89-63cf82e311f3>:2: Model.evaluate_generator (from tensorflow.python.keras.engine.training) is deprecated and will be removed in a future version.\n",
      "Instructions for updating:\n",
      "Please use Model.evaluate, which supports generators.\n",
      "[INFO] accuracy: 0.00%\n",
      "[INFO] Loss:  294.4401550292969\n"
     ]
    }
   ],
   "source": [
    "#Get the accuracy score\n",
    "test_score = lenet.evaluate_generator(test_generator)\n",
    "\n",
    "print(\"[INFO] accuracy: {:.2f}%\".format(test_score[1] * 100)) \n",
    "print(\"[INFO] Loss: \",test_score[0])"
   ]
  },
  {
   "cell_type": "code",
   "execution_count": 24,
   "id": "03279ddb",
   "metadata": {},
   "outputs": [
    {
     "name": "stdout",
     "output_type": "stream",
     "text": [
      "              precision    recall  f1-score   support\n",
      "\n",
      "           0       0.00      0.00      0.00       137\n",
      "           1       0.00      0.00      0.00       112\n",
      "           2       0.00      0.00      0.00       161\n",
      "           3       0.00      0.00      0.00        31\n",
      "           4       0.00      0.00      0.00       217\n",
      "           5       0.00      0.00      0.00        85\n",
      "           6       0.00      0.00      0.00       198\n",
      "           7       0.00      0.00      0.00        34\n",
      "           8       0.00      0.00      0.00        84\n",
      "           9       0.04      0.95      0.08       137\n",
      "          10       0.00      0.00      0.00       168\n",
      "          11       0.00      0.00      0.00       170\n",
      "          12       0.00      0.00      0.00        31\n",
      "          13       0.00      0.00      0.00       219\n",
      "          14       0.00      0.00      0.00        34\n",
      "          15       0.00      0.00      0.00       160\n",
      "          16       0.00      0.00      0.00       182\n",
      "          17       0.00      0.00      0.00        60\n",
      "          18       0.00      0.00      0.00       209\n",
      "          19       0.00      0.00      0.00       127\n",
      "          20       0.00      0.00      0.00       404\n",
      "          21       0.00      0.00      0.00        97\n",
      "          22       0.00      0.00      0.00       133\n",
      "          23       0.00      0.00      0.00        24\n",
      "          24       0.00      0.00      0.00        93\n",
      "          25       0.03      0.07      0.04        60\n",
      "          26       0.00      0.00      0.00        29\n",
      "\n",
      "    accuracy                           0.04      3396\n",
      "   macro avg       0.00      0.04      0.00      3396\n",
      "weighted avg       0.00      0.04      0.00      3396\n",
      "\n"
     ]
    },
    {
     "name": "stderr",
     "output_type": "stream",
     "text": [
      "C:\\Users\\O2P\\anaconda3\\envs\\Mon_env_DataScienTest\\lib\\site-packages\\sklearn\\metrics\\_classification.py:1248: UndefinedMetricWarning: Precision and F-score are ill-defined and being set to 0.0 in labels with no predicted samples. Use `zero_division` parameter to control this behavior.\n",
      "  _warn_prf(average, modifier, msg_start, len(result))\n",
      "C:\\Users\\O2P\\anaconda3\\envs\\Mon_env_DataScienTest\\lib\\site-packages\\sklearn\\metrics\\_classification.py:1248: UndefinedMetricWarning: Precision and F-score are ill-defined and being set to 0.0 in labels with no predicted samples. Use `zero_division` parameter to control this behavior.\n",
      "  _warn_prf(average, modifier, msg_start, len(result))\n",
      "C:\\Users\\O2P\\anaconda3\\envs\\Mon_env_DataScienTest\\lib\\site-packages\\sklearn\\metrics\\_classification.py:1248: UndefinedMetricWarning: Precision and F-score are ill-defined and being set to 0.0 in labels with no predicted samples. Use `zero_division` parameter to control this behavior.\n",
      "  _warn_prf(average, modifier, msg_start, len(result))\n"
     ]
    }
   ],
   "source": [
    "print(metrics.classification_report(y_true, y_pred_class))"
   ]
  },
  {
   "cell_type": "code",
   "execution_count": null,
   "id": "657238cb",
   "metadata": {},
   "outputs": [],
   "source": []
  },
  {
   "cell_type": "code",
   "execution_count": 76,
   "id": "2756f2e9",
   "metadata": {},
   "outputs": [],
   "source": [
    "#Enregistrement d'un modèle Keras :\n",
    "lenet.save(\"./saves/lenet_train_im_all_28082021_10_epoch.hdf5\")\n",
    "#The SavedModel and HDF5 file contains:\n",
    "#the model's configuration (topology)\n",
    "#the model's weights\n",
    "#the model's optimizer's state (if any)"
   ]
  },
  {
   "cell_type": "code",
   "execution_count": 21,
   "id": "9ee47aed",
   "metadata": {},
   "outputs": [],
   "source": [
    "#Rechargement du modèle :\n",
    "lenet = load_model('./saves/lenet_train_im_all_28082021_10_epoch.h5')"
   ]
  },
  {
   "cell_type": "code",
   "execution_count": null,
   "id": "275047d1",
   "metadata": {},
   "outputs": [],
   "source": []
  }
 ],
 "metadata": {
  "accelerator": "GPU",
  "colab": {
   "collapsed_sections": [
    "X4gG6_IvrZ10"
   ],
   "name": "Images_Exploration_16082021.ipynb",
   "provenance": [
    {
     "file_id": "17N2ubF_zjn2M-2g3bJ0lXH7vsD0mgLMb",
     "timestamp": 1629109577507
    }
   ]
  },
  "kernelspec": {
   "display_name": "Python 3 (ipykernel)",
   "language": "python",
   "name": "python3"
  },
  "language_info": {
   "codemirror_mode": {
    "name": "ipython",
    "version": 3
   },
   "file_extension": ".py",
   "mimetype": "text/x-python",
   "name": "python",
   "nbconvert_exporter": "python",
   "pygments_lexer": "ipython3",
   "version": "3.8.13"
  },
  "widgets": {
   "application/vnd.jupyter.widget-state+json": {
    "0055230cdd98442abbcbb56ab3f54ece": {
     "model_module": "@jupyter-widgets/controls",
     "model_module_version": "1.5.0",
     "model_name": "HTMLModel",
     "state": {
      "_dom_classes": [],
      "_model_module": "@jupyter-widgets/controls",
      "_model_module_version": "1.5.0",
      "_model_name": "HTMLModel",
      "_view_count": null,
      "_view_module": "@jupyter-widgets/controls",
      "_view_module_version": "1.5.0",
      "_view_name": "HTMLView",
      "description": "",
      "description_tooltip": null,
      "layout": "IPY_MODEL_b195e01875fc49809d7e8a3c78e26755",
      "placeholder": "​",
      "style": "IPY_MODEL_4b802d9462e94fde9deeeece88382bba",
      "value": " 2384/13812 [11:48&lt;1:05:25,  2.91it/s]"
     }
    },
    "04fa37156f3247e7956216b1fc99ae14": {
     "model_module": "@jupyter-widgets/base",
     "model_module_version": "1.2.0",
     "model_name": "LayoutModel",
     "state": {
      "_model_module": "@jupyter-widgets/base",
      "_model_module_version": "1.2.0",
      "_model_name": "LayoutModel",
      "_view_count": null,
      "_view_module": "@jupyter-widgets/base",
      "_view_module_version": "1.2.0",
      "_view_name": "LayoutView",
      "align_content": null,
      "align_items": null,
      "align_self": null,
      "border": null,
      "bottom": null,
      "display": null,
      "flex": null,
      "flex_flow": null,
      "grid_area": null,
      "grid_auto_columns": null,
      "grid_auto_flow": null,
      "grid_auto_rows": null,
      "grid_column": null,
      "grid_gap": null,
      "grid_row": null,
      "grid_template_areas": null,
      "grid_template_columns": null,
      "grid_template_rows": null,
      "height": null,
      "justify_content": null,
      "justify_items": null,
      "left": null,
      "margin": null,
      "max_height": null,
      "max_width": null,
      "min_height": null,
      "min_width": null,
      "object_fit": null,
      "object_position": null,
      "order": null,
      "overflow": null,
      "overflow_x": null,
      "overflow_y": null,
      "padding": null,
      "right": null,
      "top": null,
      "visibility": null,
      "width": null
     }
    },
    "0c0c1867393d4c48842531400a478b72": {
     "model_module": "@jupyter-widgets/base",
     "model_module_version": "1.2.0",
     "model_name": "LayoutModel",
     "state": {
      "_model_module": "@jupyter-widgets/base",
      "_model_module_version": "1.2.0",
      "_model_name": "LayoutModel",
      "_view_count": null,
      "_view_module": "@jupyter-widgets/base",
      "_view_module_version": "1.2.0",
      "_view_name": "LayoutView",
      "align_content": null,
      "align_items": null,
      "align_self": null,
      "border": null,
      "bottom": null,
      "display": null,
      "flex": null,
      "flex_flow": null,
      "grid_area": null,
      "grid_auto_columns": null,
      "grid_auto_flow": null,
      "grid_auto_rows": null,
      "grid_column": null,
      "grid_gap": null,
      "grid_row": null,
      "grid_template_areas": null,
      "grid_template_columns": null,
      "grid_template_rows": null,
      "height": null,
      "justify_content": null,
      "justify_items": null,
      "left": null,
      "margin": null,
      "max_height": null,
      "max_width": null,
      "min_height": null,
      "min_width": null,
      "object_fit": null,
      "object_position": null,
      "order": null,
      "overflow": null,
      "overflow_x": null,
      "overflow_y": null,
      "padding": null,
      "right": null,
      "top": null,
      "visibility": null,
      "width": null
     }
    },
    "43e3e57bf0c94b1fb381bcff62cf9019": {
     "model_module": "@jupyter-widgets/controls",
     "model_module_version": "1.5.0",
     "model_name": "ProgressStyleModel",
     "state": {
      "_model_module": "@jupyter-widgets/controls",
      "_model_module_version": "1.5.0",
      "_model_name": "ProgressStyleModel",
      "_view_count": null,
      "_view_module": "@jupyter-widgets/base",
      "_view_module_version": "1.2.0",
      "_view_name": "StyleView",
      "bar_color": null,
      "description_width": ""
     }
    },
    "4b802d9462e94fde9deeeece88382bba": {
     "model_module": "@jupyter-widgets/controls",
     "model_module_version": "1.5.0",
     "model_name": "DescriptionStyleModel",
     "state": {
      "_model_module": "@jupyter-widgets/controls",
      "_model_module_version": "1.5.0",
      "_model_name": "DescriptionStyleModel",
      "_view_count": null,
      "_view_module": "@jupyter-widgets/base",
      "_view_module_version": "1.2.0",
      "_view_name": "StyleView",
      "description_width": ""
     }
    },
    "5d9922197f0a4d9dadee273042a809f8": {
     "model_module": "@jupyter-widgets/controls",
     "model_module_version": "1.5.0",
     "model_name": "HTMLModel",
     "state": {
      "_dom_classes": [],
      "_model_module": "@jupyter-widgets/controls",
      "_model_module_version": "1.5.0",
      "_model_name": "HTMLModel",
      "_view_count": null,
      "_view_module": "@jupyter-widgets/controls",
      "_view_module_version": "1.5.0",
      "_view_name": "HTMLView",
      "description": "",
      "description_tooltip": null,
      "layout": "IPY_MODEL_04fa37156f3247e7956216b1fc99ae14",
      "placeholder": "​",
      "style": "IPY_MODEL_a6773964225b4540b7ce24a3a9bf4122",
      "value": " 17%"
     }
    },
    "a6773964225b4540b7ce24a3a9bf4122": {
     "model_module": "@jupyter-widgets/controls",
     "model_module_version": "1.5.0",
     "model_name": "DescriptionStyleModel",
     "state": {
      "_model_module": "@jupyter-widgets/controls",
      "_model_module_version": "1.5.0",
      "_model_name": "DescriptionStyleModel",
      "_view_count": null,
      "_view_module": "@jupyter-widgets/base",
      "_view_module_version": "1.2.0",
      "_view_name": "StyleView",
      "description_width": ""
     }
    },
    "b195e01875fc49809d7e8a3c78e26755": {
     "model_module": "@jupyter-widgets/base",
     "model_module_version": "1.2.0",
     "model_name": "LayoutModel",
     "state": {
      "_model_module": "@jupyter-widgets/base",
      "_model_module_version": "1.2.0",
      "_model_name": "LayoutModel",
      "_view_count": null,
      "_view_module": "@jupyter-widgets/base",
      "_view_module_version": "1.2.0",
      "_view_name": "LayoutView",
      "align_content": null,
      "align_items": null,
      "align_self": null,
      "border": null,
      "bottom": null,
      "display": null,
      "flex": null,
      "flex_flow": null,
      "grid_area": null,
      "grid_auto_columns": null,
      "grid_auto_flow": null,
      "grid_auto_rows": null,
      "grid_column": null,
      "grid_gap": null,
      "grid_row": null,
      "grid_template_areas": null,
      "grid_template_columns": null,
      "grid_template_rows": null,
      "height": null,
      "justify_content": null,
      "justify_items": null,
      "left": null,
      "margin": null,
      "max_height": null,
      "max_width": null,
      "min_height": null,
      "min_width": null,
      "object_fit": null,
      "object_position": null,
      "order": null,
      "overflow": null,
      "overflow_x": null,
      "overflow_y": null,
      "padding": null,
      "right": null,
      "top": null,
      "visibility": null,
      "width": null
     }
    },
    "b5e356af43da48c7b8a99669e743eb66": {
     "model_module": "@jupyter-widgets/controls",
     "model_module_version": "1.5.0",
     "model_name": "FloatProgressModel",
     "state": {
      "_dom_classes": [],
      "_model_module": "@jupyter-widgets/controls",
      "_model_module_version": "1.5.0",
      "_model_name": "FloatProgressModel",
      "_view_count": null,
      "_view_module": "@jupyter-widgets/controls",
      "_view_module_version": "1.5.0",
      "_view_name": "ProgressView",
      "bar_style": "",
      "description": "",
      "description_tooltip": null,
      "layout": "IPY_MODEL_f9d146e8ca854f9ca6efbf4a1c456e96",
      "max": 13812,
      "min": 0,
      "orientation": "horizontal",
      "style": "IPY_MODEL_43e3e57bf0c94b1fb381bcff62cf9019",
      "value": 2384
     }
    },
    "c205c7b6630940f7a53fb9d8862239d5": {
     "model_module": "@jupyter-widgets/controls",
     "model_module_version": "1.5.0",
     "model_name": "HBoxModel",
     "state": {
      "_dom_classes": [],
      "_model_module": "@jupyter-widgets/controls",
      "_model_module_version": "1.5.0",
      "_model_name": "HBoxModel",
      "_view_count": null,
      "_view_module": "@jupyter-widgets/controls",
      "_view_module_version": "1.5.0",
      "_view_name": "HBoxView",
      "box_style": "",
      "children": [
       "IPY_MODEL_5d9922197f0a4d9dadee273042a809f8",
       "IPY_MODEL_b5e356af43da48c7b8a99669e743eb66",
       "IPY_MODEL_0055230cdd98442abbcbb56ab3f54ece"
      ],
      "layout": "IPY_MODEL_0c0c1867393d4c48842531400a478b72"
     }
    },
    "f9d146e8ca854f9ca6efbf4a1c456e96": {
     "model_module": "@jupyter-widgets/base",
     "model_module_version": "1.2.0",
     "model_name": "LayoutModel",
     "state": {
      "_model_module": "@jupyter-widgets/base",
      "_model_module_version": "1.2.0",
      "_model_name": "LayoutModel",
      "_view_count": null,
      "_view_module": "@jupyter-widgets/base",
      "_view_module_version": "1.2.0",
      "_view_name": "LayoutView",
      "align_content": null,
      "align_items": null,
      "align_self": null,
      "border": null,
      "bottom": null,
      "display": null,
      "flex": null,
      "flex_flow": null,
      "grid_area": null,
      "grid_auto_columns": null,
      "grid_auto_flow": null,
      "grid_auto_rows": null,
      "grid_column": null,
      "grid_gap": null,
      "grid_row": null,
      "grid_template_areas": null,
      "grid_template_columns": null,
      "grid_template_rows": null,
      "height": null,
      "justify_content": null,
      "justify_items": null,
      "left": null,
      "margin": null,
      "max_height": null,
      "max_width": null,
      "min_height": null,
      "min_width": null,
      "object_fit": null,
      "object_position": null,
      "order": null,
      "overflow": null,
      "overflow_x": null,
      "overflow_y": null,
      "padding": null,
      "right": null,
      "top": null,
      "visibility": null,
      "width": null
     }
    }
   }
  }
 },
 "nbformat": 4,
 "nbformat_minor": 5
}
