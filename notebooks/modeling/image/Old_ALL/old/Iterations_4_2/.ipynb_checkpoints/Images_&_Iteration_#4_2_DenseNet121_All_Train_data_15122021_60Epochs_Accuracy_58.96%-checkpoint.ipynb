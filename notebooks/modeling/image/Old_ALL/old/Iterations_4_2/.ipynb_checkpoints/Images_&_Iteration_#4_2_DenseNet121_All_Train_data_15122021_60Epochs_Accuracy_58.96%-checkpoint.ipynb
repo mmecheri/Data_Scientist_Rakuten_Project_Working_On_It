{
 "cells": [
  {
   "cell_type": "markdown",
   "id": "ba0641ee",
   "metadata": {
    "id": "ba0641ee"
   },
   "source": [
    "# DenseNet121 : Images - Iteration #4_2(Data Augementation & Fine tuning)"
   ]
  },
  {
   "cell_type": "markdown",
   "id": "1628e521-769e-4826-845c-0bfb5836e028",
   "metadata": {
    "colab": {
     "base_uri": "https://localhost:8080/"
    },
    "executionInfo": {
     "elapsed": 28270,
     "status": "ok",
     "timestamp": 1634134469078,
     "user": {
      "displayName": "Mourad Mecheri",
      "photoUrl": "https://lh3.googleusercontent.com/a/default-user=s64",
      "userId": "08453845245011476141"
     },
     "user_tz": -120
    },
    "id": "b9037513",
    "outputId": "d8d06f9c-4db1-4106-c898-9f91fbecbb89"
   },
   "source": [
    "img_rows = 224  <br>\n",
    "img_cols = 224 <br>\n",
    "batch_size =  64 <br>\n",
    "epochs = 60 <br>\n",
    "Train set size = 67933 <br>\n",
    "Valid set size = 16983 <br>\n",
    "Data augmentation <br>\n",
    "unfreezing of the last 8 base model layers <br>\n",
    "optimizer= Adam(learning_rate= 1e-5)"
   ]
  },
  {
   "cell_type": "markdown",
   "id": "b5a90e74-5961-4bdf-bf80-f54d91bf1489",
   "metadata": {
    "colab": {
     "base_uri": "https://localhost:8080/"
    },
    "executionInfo": {
     "elapsed": 276,
     "status": "ok",
     "timestamp": 1634134474708,
     "user": {
      "displayName": "Mourad Mecheri",
      "photoUrl": "https://lh3.googleusercontent.com/a/default-user=s64",
      "userId": "08453845245011476141"
     },
     "user_tz": -120
    },
    "id": "2191e30e",
    "outputId": "99169808-7a30-4c91-f3e2-742ab235a6ac"
   },
   "source": [
    "**<u>Results</u>**"
   ]
  },
  {
   "cell_type": "markdown",
   "id": "1904a1f6-0066-4ccc-89b0-7ecf4755af77",
   "metadata": {},
   "source": [
    "Accuracy : 0.59 <br>\n",
    "F1 score weighted : 0.58"
   ]
  },
  {
   "cell_type": "markdown",
   "id": "27545775",
   "metadata": {
    "id": "27545775"
   },
   "source": [
    "**Import packages**"
   ]
  },
  {
   "cell_type": "code",
   "execution_count": 1,
   "id": "92150877",
   "metadata": {
    "executionInfo": {
     "elapsed": 784,
     "status": "ok",
     "timestamp": 1634134527958,
     "user": {
      "displayName": "Mourad Mecheri",
      "photoUrl": "https://lh3.googleusercontent.com/a/default-user=s64",
      "userId": "08453845245011476141"
     },
     "user_tz": -120
    },
    "id": "92150877"
   },
   "outputs": [],
   "source": [
    "import os\n",
    "import glob\n",
    "import pandas as pd\n",
    "import numpy as np\n",
    "import cv2\n",
    "import matplotlib\n",
    "%matplotlib inline\n",
    "import matplotlib.pyplot as plt\n",
    "import seaborn as sns\n",
    "from tqdm import tqdm\n",
    "from tqdm.notebook import tqdm_notebook\n",
    "import re\n",
    "tqdm_notebook.pandas()\n",
    "import tensorflow as tf\n",
    "#from tensorflow import keras\n",
    "from tensorflow.keras.models import load_model\n",
    "from tensorflow.keras.models import Sequential\n",
    "from tensorflow.keras.layers import Dense, Activation\n",
    "from tensorflow.keras.layers import Dropout\n",
    "from tensorflow.keras.layers import Flatten\n",
    "from tensorflow.keras.layers import GlobalAveragePooling2D\n",
    "from tensorflow.keras.layers import Conv2D\n",
    "from tensorflow.keras.layers import MaxPooling2D\n",
    "from tensorflow.keras.callbacks import ModelCheckpoint, EarlyStopping, ReduceLROnPlateau\n",
    "from tensorflow.keras.applications.vgg16 import VGG16\n",
    "from tensorflow.keras.applications.efficientnet import EfficientNetB7\n",
    "from tensorflow.keras.applications.mobilenet_v2 import MobileNetV2\n",
    "from tensorflow.keras.applications.densenet import DenseNet121\n",
    "from tensorflow.keras.applications.vgg16 import preprocess_input\n",
    "from tensorflow.keras.preprocessing.image import ImageDataGenerator\n",
    "from tensorflow.keras.preprocessing import image\n",
    "from tensorflow.keras.optimizers import Adam\n",
    "from sklearn.metrics import f1_score , recall_score, accuracy_score, precision_score, confusion_matrix\n",
    "from keras.utils import np_utils\n",
    "from sklearn.model_selection import train_test_split\n",
    "from sklearn import metrics\n",
    "import itertools\n",
    "import pickle\n",
    "from joblib import dump, load"
   ]
  },
  {
   "cell_type": "markdown",
   "id": "d7a3fcab",
   "metadata": {
    "id": "d7a3fcab"
   },
   "source": [
    "# Iteration #4_2 - DenseNet121"
   ]
  },
  {
   "cell_type": "markdown",
   "id": "a1224583",
   "metadata": {
    "id": "a1224583"
   },
   "source": [
    "***Read DataFrame from saved pickele file - image Train set***"
   ]
  },
  {
   "cell_type": "code",
   "execution_count": 2,
   "id": "8ef548a9",
   "metadata": {
    "executionInfo": {
     "elapsed": 2592,
     "status": "ok",
     "timestamp": 1634134546598,
     "user": {
      "displayName": "Mourad Mecheri",
      "photoUrl": "https://lh3.googleusercontent.com/a/default-user=s64",
      "userId": "08453845245011476141"
     },
     "user_tz": -120
    },
    "id": "8ef548a9"
   },
   "outputs": [],
   "source": [
    "#Load df of images already resized on 256 x 256 \n",
    "df_train_im = pd.read_pickle(\"./saves/df_save/df_train_combined_19102021.pkl\")\n",
    "\n",
    "#Load df of images with org size 500 x 500\n",
    "#df_train_im = pd.read_pickle(\"./saves/df_save/df_train_combined_ORG_im_size_23112021.pkl\")"
   ]
  },
  {
   "cell_type": "code",
   "execution_count": 3,
   "id": "d271de78",
   "metadata": {
    "colab": {
     "base_uri": "https://localhost:8080/",
     "height": 238
    },
    "executionInfo": {
     "elapsed": 198,
     "status": "ok",
     "timestamp": 1634134561983,
     "user": {
      "displayName": "Mourad Mecheri",
      "photoUrl": "https://lh3.googleusercontent.com/a/default-user=s64",
      "userId": "08453845245011476141"
     },
     "user_tz": -120
    },
    "id": "d271de78",
    "outputId": "7c8fd8a1-e44a-4948-cfc7-f477aa1daaa6"
   },
   "outputs": [
    {
     "data": {
      "text/html": [
       "<div>\n",
       "<style scoped>\n",
       "    .dataframe tbody tr th:only-of-type {\n",
       "        vertical-align: middle;\n",
       "    }\n",
       "\n",
       "    .dataframe tbody tr th {\n",
       "        vertical-align: top;\n",
       "    }\n",
       "\n",
       "    .dataframe thead th {\n",
       "        text-align: right;\n",
       "    }\n",
       "</style>\n",
       "<table border=\"1\" class=\"dataframe\">\n",
       "  <thead>\n",
       "    <tr style=\"text-align: right;\">\n",
       "      <th></th>\n",
       "      <th>designation</th>\n",
       "      <th>description</th>\n",
       "      <th>productid</th>\n",
       "      <th>imageid</th>\n",
       "      <th>prdtypecode</th>\n",
       "      <th>imagePath</th>\n",
       "    </tr>\n",
       "  </thead>\n",
       "  <tbody>\n",
       "    <tr>\n",
       "      <th>0</th>\n",
       "      <td>Olivia: Personalisiertes Notizbuch / 150 Seite...</td>\n",
       "      <td>NaN</td>\n",
       "      <td>3804725264</td>\n",
       "      <td>1263597046</td>\n",
       "      <td>10</td>\n",
       "      <td>resized_image_1263597046_product_3804725264.jpg</td>\n",
       "    </tr>\n",
       "    <tr>\n",
       "      <th>1</th>\n",
       "      <td>Journal Des Arts (Le) N° 133 Du 28/09/2001 - L...</td>\n",
       "      <td>NaN</td>\n",
       "      <td>436067568</td>\n",
       "      <td>1008141237</td>\n",
       "      <td>2280</td>\n",
       "      <td>resized_image_1008141237_product_436067568.jpg</td>\n",
       "    </tr>\n",
       "    <tr>\n",
       "      <th>2</th>\n",
       "      <td>Grand Stylet Ergonomique Bleu Gamepad Nintendo...</td>\n",
       "      <td>PILOT STYLE Touch Pen de marque Speedlink est ...</td>\n",
       "      <td>201115110</td>\n",
       "      <td>938777978</td>\n",
       "      <td>50</td>\n",
       "      <td>resized_image_938777978_product_201115110.jpg</td>\n",
       "    </tr>\n",
       "    <tr>\n",
       "      <th>3</th>\n",
       "      <td>Peluche Donald - Europe - Disneyland 2000 (Mar...</td>\n",
       "      <td>NaN</td>\n",
       "      <td>50418756</td>\n",
       "      <td>457047496</td>\n",
       "      <td>1280</td>\n",
       "      <td>resized_image_457047496_product_50418756.jpg</td>\n",
       "    </tr>\n",
       "    <tr>\n",
       "      <th>4</th>\n",
       "      <td>La Guerre Des Tuques</td>\n",
       "      <td>Luc a des id&amp;eacute;es de grandeur. Il veut or...</td>\n",
       "      <td>278535884</td>\n",
       "      <td>1077757786</td>\n",
       "      <td>2705</td>\n",
       "      <td>resized_image_1077757786_product_278535884.jpg</td>\n",
       "    </tr>\n",
       "  </tbody>\n",
       "</table>\n",
       "</div>"
      ],
      "text/plain": [
       "                                         designation  \\\n",
       "0  Olivia: Personalisiertes Notizbuch / 150 Seite...   \n",
       "1  Journal Des Arts (Le) N° 133 Du 28/09/2001 - L...   \n",
       "2  Grand Stylet Ergonomique Bleu Gamepad Nintendo...   \n",
       "3  Peluche Donald - Europe - Disneyland 2000 (Mar...   \n",
       "4                               La Guerre Des Tuques   \n",
       "\n",
       "                                         description   productid     imageid  \\\n",
       "0                                                NaN  3804725264  1263597046   \n",
       "1                                                NaN   436067568  1008141237   \n",
       "2  PILOT STYLE Touch Pen de marque Speedlink est ...   201115110   938777978   \n",
       "3                                                NaN    50418756   457047496   \n",
       "4  Luc a des id&eacute;es de grandeur. Il veut or...   278535884  1077757786   \n",
       "\n",
       "   prdtypecode                                        imagePath  \n",
       "0           10  resized_image_1263597046_product_3804725264.jpg  \n",
       "1         2280   resized_image_1008141237_product_436067568.jpg  \n",
       "2           50    resized_image_938777978_product_201115110.jpg  \n",
       "3         1280     resized_image_457047496_product_50418756.jpg  \n",
       "4         2705   resized_image_1077757786_product_278535884.jpg  "
      ]
     },
     "execution_count": 3,
     "metadata": {},
     "output_type": "execute_result"
    }
   ],
   "source": [
    "df_train_im.head()"
   ]
  },
  {
   "cell_type": "code",
   "execution_count": 4,
   "id": "d43d8189",
   "metadata": {
    "colab": {
     "base_uri": "https://localhost:8080/",
     "height": 34
    },
    "executionInfo": {
     "elapsed": 11,
     "status": "ok",
     "timestamp": 1634134564801,
     "user": {
      "displayName": "Mourad Mecheri",
      "photoUrl": "https://lh3.googleusercontent.com/a/default-user=s64",
      "userId": "08453845245011476141"
     },
     "user_tz": -120
    },
    "id": "d43d8189",
    "outputId": "2df9d40d-1f91-4eb1-af2e-61fb2a206a2d"
   },
   "outputs": [
    {
     "data": {
      "text/plain": [
       "(84916, 6)"
      ]
     },
     "metadata": {},
     "output_type": "display_data"
    }
   ],
   "source": [
    "display(df_train_im.shape)"
   ]
  },
  {
   "cell_type": "markdown",
   "id": "380b8623",
   "metadata": {
    "id": "380b8623"
   },
   "source": [
    "***Create Dataframe containing  product classes and their associated labels***"
   ]
  },
  {
   "cell_type": "code",
   "execution_count": 5,
   "id": "c65eaf07",
   "metadata": {},
   "outputs": [
    {
     "data": {
      "text/html": [
       "<div>\n",
       "<style scoped>\n",
       "    .dataframe tbody tr th:only-of-type {\n",
       "        vertical-align: middle;\n",
       "    }\n",
       "\n",
       "    .dataframe tbody tr th {\n",
       "        vertical-align: top;\n",
       "    }\n",
       "\n",
       "    .dataframe thead th {\n",
       "        text-align: right;\n",
       "    }\n",
       "</style>\n",
       "<table border=\"1\" class=\"dataframe\">\n",
       "  <thead>\n",
       "    <tr style=\"text-align: right;\">\n",
       "      <th></th>\n",
       "      <th>prdtypecode</th>\n",
       "      <th>Label</th>\n",
       "    </tr>\n",
       "  </thead>\n",
       "  <tbody>\n",
       "    <tr>\n",
       "      <th>0</th>\n",
       "      <td>50</td>\n",
       "      <td>video games accessories</td>\n",
       "    </tr>\n",
       "    <tr>\n",
       "      <th>1</th>\n",
       "      <td>2705</td>\n",
       "      <td>books</td>\n",
       "    </tr>\n",
       "    <tr>\n",
       "      <th>2</th>\n",
       "      <td>2522</td>\n",
       "      <td>stationery</td>\n",
       "    </tr>\n",
       "    <tr>\n",
       "      <th>3</th>\n",
       "      <td>2582</td>\n",
       "      <td>kitchen and garden</td>\n",
       "    </tr>\n",
       "    <tr>\n",
       "      <th>4</th>\n",
       "      <td>1560</td>\n",
       "      <td>interior furniture and bedding</td>\n",
       "    </tr>\n",
       "    <tr>\n",
       "      <th>5</th>\n",
       "      <td>1281</td>\n",
       "      <td>board games</td>\n",
       "    </tr>\n",
       "    <tr>\n",
       "      <th>6</th>\n",
       "      <td>1920</td>\n",
       "      <td>interior accessories</td>\n",
       "    </tr>\n",
       "    <tr>\n",
       "      <th>7</th>\n",
       "      <td>1280</td>\n",
       "      <td>toys for children</td>\n",
       "    </tr>\n",
       "    <tr>\n",
       "      <th>8</th>\n",
       "      <td>1140</td>\n",
       "      <td>goodies</td>\n",
       "    </tr>\n",
       "    <tr>\n",
       "      <th>9</th>\n",
       "      <td>1300</td>\n",
       "      <td>remote controlled models</td>\n",
       "    </tr>\n",
       "    <tr>\n",
       "      <th>10</th>\n",
       "      <td>2060</td>\n",
       "      <td>decoration interior</td>\n",
       "    </tr>\n",
       "    <tr>\n",
       "      <th>11</th>\n",
       "      <td>2583</td>\n",
       "      <td>piscine spa</td>\n",
       "    </tr>\n",
       "    <tr>\n",
       "      <th>12</th>\n",
       "      <td>60</td>\n",
       "      <td>games and consoles</td>\n",
       "    </tr>\n",
       "    <tr>\n",
       "      <th>13</th>\n",
       "      <td>1320</td>\n",
       "      <td>early childhood</td>\n",
       "    </tr>\n",
       "    <tr>\n",
       "      <th>14</th>\n",
       "      <td>2280</td>\n",
       "      <td>magazines</td>\n",
       "    </tr>\n",
       "    <tr>\n",
       "      <th>15</th>\n",
       "      <td>1302</td>\n",
       "      <td>kids toys</td>\n",
       "    </tr>\n",
       "    <tr>\n",
       "      <th>16</th>\n",
       "      <td>2220</td>\n",
       "      <td>supplies for domestic animals</td>\n",
       "    </tr>\n",
       "    <tr>\n",
       "      <th>17</th>\n",
       "      <td>40</td>\n",
       "      <td>imported video games</td>\n",
       "    </tr>\n",
       "    <tr>\n",
       "      <th>18</th>\n",
       "      <td>2905</td>\n",
       "      <td>online distribution of video games</td>\n",
       "    </tr>\n",
       "    <tr>\n",
       "      <th>19</th>\n",
       "      <td>2585</td>\n",
       "      <td>gardening and DIY</td>\n",
       "    </tr>\n",
       "    <tr>\n",
       "      <th>20</th>\n",
       "      <td>1940</td>\n",
       "      <td>Food</td>\n",
       "    </tr>\n",
       "    <tr>\n",
       "      <th>21</th>\n",
       "      <td>1160</td>\n",
       "      <td>playing cards</td>\n",
       "    </tr>\n",
       "    <tr>\n",
       "      <th>22</th>\n",
       "      <td>1301</td>\n",
       "      <td>accessories children</td>\n",
       "    </tr>\n",
       "    <tr>\n",
       "      <th>23</th>\n",
       "      <td>10</td>\n",
       "      <td>adult books</td>\n",
       "    </tr>\n",
       "    <tr>\n",
       "      <th>24</th>\n",
       "      <td>1180</td>\n",
       "      <td>figurines_wargames</td>\n",
       "    </tr>\n",
       "    <tr>\n",
       "      <th>25</th>\n",
       "      <td>2403</td>\n",
       "      <td>children books</td>\n",
       "    </tr>\n",
       "    <tr>\n",
       "      <th>26</th>\n",
       "      <td>2462</td>\n",
       "      <td>games</td>\n",
       "    </tr>\n",
       "  </tbody>\n",
       "</table>\n",
       "</div>"
      ],
      "text/plain": [
       "    prdtypecode                               Label\n",
       "0            50             video games accessories\n",
       "1          2705                               books\n",
       "2          2522                          stationery\n",
       "3          2582                  kitchen and garden\n",
       "4          1560      interior furniture and bedding\n",
       "5          1281                         board games\n",
       "6          1920                interior accessories\n",
       "7          1280                   toys for children\n",
       "8          1140                             goodies\n",
       "9          1300            remote controlled models\n",
       "10         2060                 decoration interior\n",
       "11         2583                         piscine spa\n",
       "12           60                  games and consoles\n",
       "13         1320                     early childhood\n",
       "14         2280                           magazines\n",
       "15         1302                           kids toys\n",
       "16         2220       supplies for domestic animals\n",
       "17           40                imported video games\n",
       "18         2905  online distribution of video games\n",
       "19         2585                   gardening and DIY\n",
       "20         1940                                Food\n",
       "21         1160                       playing cards\n",
       "22         1301                accessories children\n",
       "23           10                         adult books\n",
       "24         1180                  figurines_wargames\n",
       "25         2403                      children books\n",
       "26         2462                               games"
      ]
     },
     "execution_count": 5,
     "metadata": {},
     "output_type": "execute_result"
    }
   ],
   "source": [
    "#Dictionary of prdtypecode and their corresponding categories\n",
    "dict_prdtypecode = {\"prdtypecode\" : [50, 2705, 2522, 2582, 1560, 1281, 1920, 1280, 1140, 1300, 2060, 2583,\n",
    "                                     60, 1320, 2280, 1302, 2220, 40, 2905, 2585, 1940, 1160, 1301, 10, 1180,\n",
    "                                     2403, 2462],                 \n",
    "            \n",
    "                    \"Label\" : [\"video games accessories\", \"books\", \"stationery\", \"kitchen and garden\", \n",
    "                               \"interior furniture and bedding\", \"board games\", \"interior accessories\",\n",
    "                               \"toys for children\",\"goodies\", \"remote controlled models\", \"decoration interior\",\n",
    "                               \"piscine spa\",\"games and consoles\", \"early childhood\", \"magazines\", \"kids toys\",\n",
    "                               \"supplies for domestic animals\", \"imported video games\", \"online distribution of video games\",\n",
    "                               \"gardening and DIY\",\"Food\",\"playing cards\", \"accessories children\", \"adult books\",\n",
    "                               \"figurines_wargames\", \"children books\",\n",
    "                                \"games\"]\n",
    "                   }\n",
    "df_class = pd.DataFrame(data=dict_prdtypecode)\n",
    "df_class"
   ]
  },
  {
   "cell_type": "code",
   "execution_count": 6,
   "id": "92a6002b",
   "metadata": {},
   "outputs": [
    {
     "data": {
      "text/html": [
       "<div>\n",
       "<style scoped>\n",
       "    .dataframe tbody tr th:only-of-type {\n",
       "        vertical-align: middle;\n",
       "    }\n",
       "\n",
       "    .dataframe tbody tr th {\n",
       "        vertical-align: top;\n",
       "    }\n",
       "\n",
       "    .dataframe thead th {\n",
       "        text-align: right;\n",
       "    }\n",
       "</style>\n",
       "<table border=\"1\" class=\"dataframe\">\n",
       "  <thead>\n",
       "    <tr style=\"text-align: right;\">\n",
       "      <th></th>\n",
       "      <th>prdtypecode</th>\n",
       "      <th>Label</th>\n",
       "      <th>target_prdtypecode</th>\n",
       "    </tr>\n",
       "  </thead>\n",
       "  <tbody>\n",
       "    <tr>\n",
       "      <th>23</th>\n",
       "      <td>10</td>\n",
       "      <td>adult books</td>\n",
       "      <td>0</td>\n",
       "    </tr>\n",
       "    <tr>\n",
       "      <th>17</th>\n",
       "      <td>40</td>\n",
       "      <td>imported video games</td>\n",
       "      <td>1</td>\n",
       "    </tr>\n",
       "    <tr>\n",
       "      <th>0</th>\n",
       "      <td>50</td>\n",
       "      <td>video games accessories</td>\n",
       "      <td>2</td>\n",
       "    </tr>\n",
       "    <tr>\n",
       "      <th>12</th>\n",
       "      <td>60</td>\n",
       "      <td>games and consoles</td>\n",
       "      <td>3</td>\n",
       "    </tr>\n",
       "    <tr>\n",
       "      <th>8</th>\n",
       "      <td>1140</td>\n",
       "      <td>goodies</td>\n",
       "      <td>4</td>\n",
       "    </tr>\n",
       "    <tr>\n",
       "      <th>21</th>\n",
       "      <td>1160</td>\n",
       "      <td>playing cards</td>\n",
       "      <td>5</td>\n",
       "    </tr>\n",
       "    <tr>\n",
       "      <th>24</th>\n",
       "      <td>1180</td>\n",
       "      <td>figurines_wargames</td>\n",
       "      <td>6</td>\n",
       "    </tr>\n",
       "    <tr>\n",
       "      <th>7</th>\n",
       "      <td>1280</td>\n",
       "      <td>toys for children</td>\n",
       "      <td>7</td>\n",
       "    </tr>\n",
       "    <tr>\n",
       "      <th>5</th>\n",
       "      <td>1281</td>\n",
       "      <td>board games</td>\n",
       "      <td>8</td>\n",
       "    </tr>\n",
       "    <tr>\n",
       "      <th>9</th>\n",
       "      <td>1300</td>\n",
       "      <td>remote controlled models</td>\n",
       "      <td>9</td>\n",
       "    </tr>\n",
       "    <tr>\n",
       "      <th>22</th>\n",
       "      <td>1301</td>\n",
       "      <td>accessories children</td>\n",
       "      <td>10</td>\n",
       "    </tr>\n",
       "    <tr>\n",
       "      <th>15</th>\n",
       "      <td>1302</td>\n",
       "      <td>kids toys</td>\n",
       "      <td>11</td>\n",
       "    </tr>\n",
       "    <tr>\n",
       "      <th>13</th>\n",
       "      <td>1320</td>\n",
       "      <td>early childhood</td>\n",
       "      <td>12</td>\n",
       "    </tr>\n",
       "    <tr>\n",
       "      <th>4</th>\n",
       "      <td>1560</td>\n",
       "      <td>interior furniture and bedding</td>\n",
       "      <td>13</td>\n",
       "    </tr>\n",
       "    <tr>\n",
       "      <th>6</th>\n",
       "      <td>1920</td>\n",
       "      <td>interior accessories</td>\n",
       "      <td>14</td>\n",
       "    </tr>\n",
       "    <tr>\n",
       "      <th>20</th>\n",
       "      <td>1940</td>\n",
       "      <td>Food</td>\n",
       "      <td>15</td>\n",
       "    </tr>\n",
       "    <tr>\n",
       "      <th>10</th>\n",
       "      <td>2060</td>\n",
       "      <td>decoration interior</td>\n",
       "      <td>16</td>\n",
       "    </tr>\n",
       "    <tr>\n",
       "      <th>16</th>\n",
       "      <td>2220</td>\n",
       "      <td>supplies for domestic animals</td>\n",
       "      <td>17</td>\n",
       "    </tr>\n",
       "    <tr>\n",
       "      <th>14</th>\n",
       "      <td>2280</td>\n",
       "      <td>magazines</td>\n",
       "      <td>18</td>\n",
       "    </tr>\n",
       "    <tr>\n",
       "      <th>25</th>\n",
       "      <td>2403</td>\n",
       "      <td>children books</td>\n",
       "      <td>19</td>\n",
       "    </tr>\n",
       "    <tr>\n",
       "      <th>26</th>\n",
       "      <td>2462</td>\n",
       "      <td>games</td>\n",
       "      <td>20</td>\n",
       "    </tr>\n",
       "    <tr>\n",
       "      <th>2</th>\n",
       "      <td>2522</td>\n",
       "      <td>stationery</td>\n",
       "      <td>21</td>\n",
       "    </tr>\n",
       "    <tr>\n",
       "      <th>3</th>\n",
       "      <td>2582</td>\n",
       "      <td>kitchen and garden</td>\n",
       "      <td>22</td>\n",
       "    </tr>\n",
       "    <tr>\n",
       "      <th>11</th>\n",
       "      <td>2583</td>\n",
       "      <td>piscine spa</td>\n",
       "      <td>23</td>\n",
       "    </tr>\n",
       "    <tr>\n",
       "      <th>19</th>\n",
       "      <td>2585</td>\n",
       "      <td>gardening and DIY</td>\n",
       "      <td>24</td>\n",
       "    </tr>\n",
       "    <tr>\n",
       "      <th>1</th>\n",
       "      <td>2705</td>\n",
       "      <td>books</td>\n",
       "      <td>25</td>\n",
       "    </tr>\n",
       "    <tr>\n",
       "      <th>18</th>\n",
       "      <td>2905</td>\n",
       "      <td>online distribution of video games</td>\n",
       "      <td>26</td>\n",
       "    </tr>\n",
       "  </tbody>\n",
       "</table>\n",
       "</div>"
      ],
      "text/plain": [
       "    prdtypecode                               Label  target_prdtypecode\n",
       "23           10                         adult books                   0\n",
       "17           40                imported video games                   1\n",
       "0            50             video games accessories                   2\n",
       "12           60                  games and consoles                   3\n",
       "8          1140                             goodies                   4\n",
       "21         1160                       playing cards                   5\n",
       "24         1180                  figurines_wargames                   6\n",
       "7          1280                   toys for children                   7\n",
       "5          1281                         board games                   8\n",
       "9          1300            remote controlled models                   9\n",
       "22         1301                accessories children                  10\n",
       "15         1302                           kids toys                  11\n",
       "13         1320                     early childhood                  12\n",
       "4          1560      interior furniture and bedding                  13\n",
       "6          1920                interior accessories                  14\n",
       "20         1940                                Food                  15\n",
       "10         2060                 decoration interior                  16\n",
       "16         2220       supplies for domestic animals                  17\n",
       "14         2280                           magazines                  18\n",
       "25         2403                      children books                  19\n",
       "26         2462                               games                  20\n",
       "2          2522                          stationery                  21\n",
       "3          2582                  kitchen and garden                  22\n",
       "11         2583                         piscine spa                  23\n",
       "19         2585                   gardening and DIY                  24\n",
       "1          2705                               books                  25\n",
       "18         2905  online distribution of video games                  26"
      ]
     },
     "execution_count": 6,
     "metadata": {},
     "output_type": "execute_result"
    }
   ],
   "source": [
    "# Crate DF containing prdtypecode , categories and corresponding class used by model\n",
    "df_class = df_class.sort_values(by = 'prdtypecode', ascending = True)\n",
    "df_class['target_prdtypecode'] = [i for i in range(27)]\n",
    "df_class"
   ]
  },
  {
   "cell_type": "markdown",
   "id": "030b352e-12d5-461c-9c54-99b1a019c41d",
   "metadata": {},
   "source": [
    "***Change the 27 product codes to 0 to 26***"
   ]
  },
  {
   "cell_type": "code",
   "execution_count": 7,
   "id": "56ea410b",
   "metadata": {
    "executionInfo": {
     "elapsed": 191,
     "status": "ok",
     "timestamp": 1634134621597,
     "user": {
      "displayName": "Mourad Mecheri",
      "photoUrl": "https://lh3.googleusercontent.com/a/default-user=s64",
      "userId": "08453845245011476141"
     },
     "user_tz": -120
    },
    "id": "56ea410b"
   },
   "outputs": [],
   "source": [
    "df_train_im.replace({'prdtypecode':{10:0,\n",
    "                                    40:1,\n",
    "                                    50:2,\n",
    "                                    60:3,\n",
    "                                    1140:4,\n",
    "                                    1160:5,\n",
    "                                    1180:6,\n",
    "                                    1280:7,\n",
    "                                    1281:8,\n",
    "                                    1300:9                                    \n",
    "                                    }}, inplace = True)\n",
    "\n",
    "df_train_im.replace({'prdtypecode':{1301:10,\n",
    "                                    1302:11,\n",
    "                                    1320:12,\n",
    "                                    1560:13,\n",
    "                                    1920:14,\n",
    "                                    1940:15,\n",
    "                                    2060:16,\n",
    "                                    2220:17,\n",
    "                                    2280:18,\n",
    "                                    2403:19,\n",
    "                                    2462:20,\n",
    "                                    2522:21,\n",
    "                                    2582:22,\n",
    "                                    2583:23,\n",
    "                                    2585:24,\n",
    "                                    2705:25,\n",
    "                                    2905:26\n",
    "                                    }}, inplace = True)"
   ]
  },
  {
   "cell_type": "code",
   "execution_count": 8,
   "id": "4eafb15b",
   "metadata": {
    "colab": {
     "base_uri": "https://localhost:8080/",
     "height": 51
    },
    "executionInfo": {
     "elapsed": 220,
     "status": "ok",
     "timestamp": 1634134626306,
     "user": {
      "displayName": "Mourad Mecheri",
      "photoUrl": "https://lh3.googleusercontent.com/a/default-user=s64",
      "userId": "08453845245011476141"
     },
     "user_tz": -120
    },
    "id": "4eafb15b",
    "outputId": "d58b0b3b-65ac-4f95-ed66-7abb38c14a57"
   },
   "outputs": [
    {
     "data": {
      "text/plain": [
       "array([ 0, 18,  2,  7, 25, 21, 22, 13,  8, 14, 19,  4, 23,  6,  9, 20,  5,\n",
       "       16,  1,  3, 12, 11, 17, 26, 24, 15, 10], dtype=int64)"
      ]
     },
     "metadata": {},
     "output_type": "display_data"
    }
   ],
   "source": [
    "display(df_train_im[\"prdtypecode\"].unique())"
   ]
  },
  {
   "cell_type": "markdown",
   "id": "394e36bb-006f-4f59-8940-9dbd10e26e8f",
   "metadata": {},
   "source": [
    " ***Convert product code to string type***"
   ]
  },
  {
   "cell_type": "code",
   "execution_count": 9,
   "id": "cdfcd48f",
   "metadata": {},
   "outputs": [],
   "source": [
    "df_train_im[\"prdtypecode\"] = df_train_im[\"prdtypecode\"].astype(str)"
   ]
  },
  {
   "cell_type": "code",
   "execution_count": 10,
   "id": "dcafeac2-b364-4a35-8ad0-a59fb5773ce3",
   "metadata": {},
   "outputs": [
    {
     "data": {
      "text/plain": [
       "{'0': 3116,\n",
       " '1': 2508,\n",
       " '10': 807,\n",
       " '11': 2491,\n",
       " '12': 3241,\n",
       " '13': 5073,\n",
       " '14': 4303,\n",
       " '15': 803,\n",
       " '16': 4993,\n",
       " '17': 824,\n",
       " '18': 4760,\n",
       " '19': 4774,\n",
       " '2': 1681,\n",
       " '20': 1421,\n",
       " '21': 4989,\n",
       " '22': 2589,\n",
       " '23': 10209,\n",
       " '24': 2496,\n",
       " '25': 2761,\n",
       " '26': 872,\n",
       " '3': 832,\n",
       " '4': 2671,\n",
       " '5': 3953,\n",
       " '6': 764,\n",
       " '7': 4870,\n",
       " '8': 2070,\n",
       " '9': 5045}"
      ]
     },
     "execution_count": 10,
     "metadata": {},
     "output_type": "execute_result"
    }
   ],
   "source": [
    "unique, counts = np.unique(df_train_im[\"prdtypecode\"], return_counts=True)\n",
    "dict(zip(unique, counts))"
   ]
  },
  {
   "cell_type": "markdown",
   "id": "cc7a0800",
   "metadata": {},
   "source": [
    " ***Split Train Set***"
   ]
  },
  {
   "cell_type": "code",
   "execution_count": 11,
   "id": "bae69aaa",
   "metadata": {},
   "outputs": [],
   "source": [
    "# Split Train set \n",
    "X_train_im, X_test_im = train_test_split(df_train_im, train_size=0.8, random_state=1234)"
   ]
  },
  {
   "cell_type": "code",
   "execution_count": 12,
   "id": "bbd667ff",
   "metadata": {},
   "outputs": [
    {
     "data": {
      "text/plain": [
       "(67932, 6)"
      ]
     },
     "metadata": {},
     "output_type": "display_data"
    },
    {
     "data": {
      "text/plain": [
       "(16984, 6)"
      ]
     },
     "metadata": {},
     "output_type": "display_data"
    }
   ],
   "source": [
    "display(X_train_im.shape)\n",
    "display(X_test_im.shape)"
   ]
  },
  {
   "cell_type": "markdown",
   "id": "c668fb6e",
   "metadata": {},
   "source": [
    "***Data Generator***"
   ]
  },
  {
   "cell_type": "code",
   "execution_count": 13,
   "id": "7859007e",
   "metadata": {},
   "outputs": [],
   "source": [
    "img_rows = 224\n",
    "img_cols = 224\n",
    "batch_size = 64\n",
    "epochs = 60\n",
    "\n",
    "# Directory of images already resized on 256 x 256 \n",
    "images_dir_train = './data/images/all/image_train_resized/'\n",
    "#images_dir_train = 'E:/WorkSpace_DataScience_E/Rakuten_Projet_Local/My_WS/data/images/all/image_train_resized/'\n",
    "\n",
    "# Directory of images org resize 500 x 500\n",
    "#images_dir_train = './data/images/all/image_train/'\n",
    "#images_dir_train = 'E:/WorkSpace_DataScience_E/Rakuten_Projet_Local/My_WS/data/images/all/image_train/'"
   ]
  },
  {
   "cell_type": "code",
   "execution_count": 14,
   "id": "17b3712d",
   "metadata": {},
   "outputs": [
    {
     "name": "stdout",
     "output_type": "stream",
     "text": [
      "Wall time: 0 ns\n"
     ]
    }
   ],
   "source": [
    "%%time\n",
    "#Générateur de données\n",
    "train_datagen = ImageDataGenerator(rescale = 1/255,\n",
    "                                  shear_range=0.2,\n",
    "                                  rotation_range = 45,\n",
    "                                  width_shift_range = 0.1,\n",
    "                                  height_shift_range = 0.1,\n",
    "                                  zoom_range = 0.2,\n",
    "                                  horizontal_flip = True,\n",
    "                                  vertical_flip = True\n",
    "                                  #validation_split = 0.2\n",
    "                                )"
   ]
  },
  {
   "cell_type": "code",
   "execution_count": 15,
   "id": "279f5cae",
   "metadata": {},
   "outputs": [
    {
     "name": "stdout",
     "output_type": "stream",
     "text": [
      "Wall time: 0 ns\n"
     ]
    }
   ],
   "source": [
    "%%time\n",
    "valid_datagen = ImageDataGenerator(rescale=1./255)"
   ]
  },
  {
   "cell_type": "code",
   "execution_count": 16,
   "id": "efc7a20c",
   "metadata": {},
   "outputs": [
    {
     "name": "stdout",
     "output_type": "stream",
     "text": [
      "Found 67932 validated image filenames belonging to 27 classes.\n",
      "Wall time: 7.87 s\n"
     ]
    }
   ],
   "source": [
    "%%time\n",
    "\n",
    "#Itérateur \n",
    "train_generator = train_datagen.flow_from_dataframe(dataframe = X_train_im,\n",
    "                                              directory = images_dir_train,\n",
    "                                              as_ext = True,\n",
    "                                              x_col = 'imagePath',\n",
    "                                              y_col = 'prdtypecode',  #target data                                            \n",
    "                                              class_mode = 'sparse',                                             \n",
    "                                              target_size = (img_rows , img_cols), # default 256 x 256                                             \n",
    "                                              batch_size = batch_size,                                             \n",
    "                                              shuffle = True  # défault\n",
    "                                              #subset = 'training'\n",
    "                                             )"
   ]
  },
  {
   "cell_type": "code",
   "execution_count": 17,
   "id": "5108cec9",
   "metadata": {
    "colab": {
     "base_uri": "https://localhost:8080/"
    },
    "executionInfo": {
     "elapsed": 628791,
     "status": "ok",
     "timestamp": 1634135310666,
     "user": {
      "displayName": "Mourad Mecheri",
      "photoUrl": "https://lh3.googleusercontent.com/a/default-user=s64",
      "userId": "08453845245011476141"
     },
     "user_tz": -120
    },
    "id": "5108cec9",
    "outputId": "ed853466-d8b5-4f0d-bfbd-b5c18a8b7bc3"
   },
   "outputs": [
    {
     "name": "stdout",
     "output_type": "stream",
     "text": [
      "Found 16984 validated image filenames belonging to 27 classes.\n",
      "Wall time: 1.31 s\n"
     ]
    }
   ],
   "source": [
    "%%time\n",
    "# validation_split the validation batches ca be retrieved by specifying the subset as validation.\n",
    "valid_generator = valid_datagen.flow_from_dataframe(dataframe = X_test_im, \n",
    "                                              directory = images_dir_train,\n",
    "                                              as_ext = True,\n",
    "                                              x_col = 'imagePath',\n",
    "                                              y_col = 'prdtypecode',  #target data                                            \n",
    "                                              class_mode = 'sparse',                                        \n",
    "                                              target_size = (img_rows , img_cols), # default 256 x 256                                         \n",
    "                                              batch_size = batch_size, \n",
    "                                              shuffle = False\n",
    "                                              #subset  = 'validation'\n",
    "                                             )"
   ]
  },
  {
   "cell_type": "markdown",
   "id": "3241b27e",
   "metadata": {
    "id": "3241b27e"
   },
   "source": [
    " ***DenseNet121 Implementation***"
   ]
  },
  {
   "cell_type": "code",
   "execution_count": 18,
   "id": "1a56928f",
   "metadata": {
    "id": "1a56928f",
    "outputId": "3309c8d0-8391-4e65-82b1-1a57b201c975"
   },
   "outputs": [
    {
     "name": "stdout",
     "output_type": "stream",
     "text": [
      "Wall time: 3.31 s\n"
     ]
    }
   ],
   "source": [
    "%%time\n",
    "# Chargement du modèle DenseNet121\n",
    "denseNet121 = DenseNet121(weights='imagenet', include_top = False, input_shape=(img_rows,img_rows,3))\n",
    "\n",
    "# Bloquage du blackbone\n",
    "for layer in denseNet121.layers:\n",
    "    layer.trainable = False"
   ]
  },
  {
   "cell_type": "markdown",
   "id": "f018098f",
   "metadata": {},
   "source": [
    "***Unfreeze the last 8 layers of the base_model***"
   ]
  },
  {
   "cell_type": "code",
   "execution_count": 19,
   "id": "e89ee255",
   "metadata": {},
   "outputs": [],
   "source": [
    "for layer in denseNet121.layers[-8:]:\n",
    "    layer.trainable = True"
   ]
  },
  {
   "cell_type": "code",
   "execution_count": 20,
   "id": "3cc015cd",
   "metadata": {},
   "outputs": [
    {
     "name": "stdout",
     "output_type": "stream",
     "text": [
      "Model: \"sequential\"\n",
      "_________________________________________________________________\n",
      "Layer (type)                 Output Shape              Param #   \n",
      "=================================================================\n",
      "densenet121 (Functional)     (None, 7, 7, 1024)        7037504   \n",
      "_________________________________________________________________\n",
      "global_average_pooling2d (Gl (None, 1024)              0         \n",
      "_________________________________________________________________\n",
      "dense (Dense)                (None, 1024)              1049600   \n",
      "_________________________________________________________________\n",
      "dropout (Dropout)            (None, 1024)              0         \n",
      "_________________________________________________________________\n",
      "dense_1 (Dense)              (None, 512)               524800    \n",
      "_________________________________________________________________\n",
      "dropout_1 (Dropout)          (None, 512)               0         \n",
      "_________________________________________________________________\n",
      "dense_2 (Dense)              (None, 27)                13851     \n",
      "=================================================================\n",
      "Total params: 8,625,755\n",
      "Trainable params: 1,754,395\n",
      "Non-trainable params: 6,871,360\n",
      "_________________________________________________________________\n"
     ]
    }
   ],
   "source": [
    "model = Sequential()\n",
    "model.add(denseNet121)\n",
    "# Ajout des couche de classification as VGG16 efficientNet , ResNet different!\n",
    "model.add(GlobalAveragePooling2D()) \n",
    "model.add(Dense(units = 1024,activation='relu'))\n",
    "\n",
    "model.add(Dropout(rate = 0.2))\n",
    "model.add(Dense(units = 512, activation='relu'))\n",
    "\n",
    "model.add(Dropout(rate = 0.2))\n",
    "model.add(Dense(units = 27, activation='softmax'))\n",
    "model.summary()"
   ]
  },
  {
   "cell_type": "code",
   "execution_count": 21,
   "id": "53e53652",
   "metadata": {},
   "outputs": [
    {
     "name": "stdout",
     "output_type": "stream",
     "text": [
      "Last the last ten layers base model - denseNet121: \n",
      " \n",
      "                  conv5_block15_concat    False\n",
      "                  conv5_block16_0_bn    False\n",
      "                  conv5_block16_0_relu    True\n",
      "                  conv5_block16_1_conv    True\n",
      "                  conv5_block16_1_bn    True\n",
      "                  conv5_block16_1_relu    True\n",
      "                  conv5_block16_2_conv    True\n",
      "                  conv5_block16_concat    True\n",
      "                  bn    True\n",
      "                  relu    True\n",
      "\n",
      " Layers of built model: \n",
      "\n",
      "                  densenet121    True\n",
      "                  global_average_pooling2d    True\n",
      "                  dense    True\n",
      "                  dropout    True\n",
      "                  dense_1    True\n",
      "                  dropout_1    True\n",
      "                  dense_2    True\n"
     ]
    }
   ],
   "source": [
    "#print(len(denseNet121.layers))\n",
    "#print(len(model.layers))\n",
    "print('Last the last ten layers base model - denseNet121: \\n ')  \n",
    "for layer in denseNet121.layers[-10:]:\n",
    "    print(\"                 \", layer.name, \"  \" , layer.trainable)\n",
    "    \n",
    "print('\\n Layers of built model: \\n')  \n",
    "\n",
    "for layer in model.layers:\n",
    "    print(\"                 \", layer.name, \"  \" , layer.trainable)"
   ]
  },
  {
   "cell_type": "markdown",
   "id": "233e26ad",
   "metadata": {},
   "source": [
    " ***Compilation***"
   ]
  },
  {
   "cell_type": "code",
   "execution_count": 22,
   "id": "9caba2fb",
   "metadata": {},
   "outputs": [
    {
     "name": "stdout",
     "output_type": "stream",
     "text": [
      "Wall time: 8.98 ms\n"
     ]
    }
   ],
   "source": [
    "%%time\n",
    "# Compilation\n",
    "model.compile(loss='sparse_categorical_crossentropy',  # fonction de perte\n",
    "              optimizer= Adam(learning_rate= 1e-5) ,  # algorithme de descente de gradient\n",
    "              metrics=['accuracy'])                    # métrique d'évaluation\n"
   ]
  },
  {
   "cell_type": "markdown",
   "id": "6266d9a2",
   "metadata": {
    "id": "6266d9a2"
   },
   "source": [
    "***Callbacks***"
   ]
  },
  {
   "cell_type": "code",
   "execution_count": 23,
   "id": "cd04edfd",
   "metadata": {
    "id": "cd04edfd",
    "outputId": "19043533-d360-4dfb-d821-8c8f39ea073b"
   },
   "outputs": [
    {
     "name": "stdout",
     "output_type": "stream",
     "text": [
      "Wall time: 0 ns\n"
     ]
    }
   ],
   "source": [
    "%%time\n",
    "path = './saves/DenseNet121/Iteration_4_2/'\n",
    "file_name = 'checkpoint_DenseNet121_15122021-60Epochs.h5'\n",
    "\n",
    "#Sauvegarder les meilleurs poids du modèle au cours de l'entraînement :\n",
    "checkpoint = ModelCheckpoint(filepath = path + file_name , \n",
    "                             monitor ='val_accuracy',\n",
    "                             verbose = 1,\n",
    "                             save_best_only = True, # (pour que le meilleur modèle ne soit pas écrasé)\n",
    "                             save_weights_only = False,\n",
    "                             mode ='max', #(permet de préciser si la métrique doit croître ou décroitre : ici on choisit 'min'\n",
    "                                           #car la métrique est une perte à minimiser)\n",
    "                             save_freq='epoch')\n",
    "#Arrêter l'entraînement si le modèle n'évolue plus (très pratique pour ne pas gérer le\n",
    "#nombre d'epoch) :\n",
    "early = EarlyStopping(monitor='val_loss',\n",
    "                      min_delta = 0,\n",
    "                      patience = 6, #(nombre d'epochs à attendre avant d'arrêter l'entraînement\n",
    "                      restore_best_weights = True,\n",
    "                      verbose = 1,\n",
    "                      mode = 'min')\n",
    "\n",
    "lr_plateau = ReduceLROnPlateau(monitor = 'val_loss',\n",
    "                               patience = 10,\n",
    "                               verbose = 1,\n",
    "                               mode='min'\n",
    "                                )"
   ]
  },
  {
   "cell_type": "markdown",
   "id": "5ab7aa20",
   "metadata": {
    "id": "5ab7aa20"
   },
   "source": [
    " ***Fit - train_generator***"
   ]
  },
  {
   "cell_type": "code",
   "execution_count": 24,
   "id": "95bc66c7",
   "metadata": {},
   "outputs": [
    {
     "name": "stdout",
     "output_type": "stream",
     "text": [
      "step_size_Train :  1061\n",
      "step_size_Valid  :  265\n"
     ]
    }
   ],
   "source": [
    "step_size_Train = train_generator.n//train_generator.batch_size\n",
    "step_size_Valid = valid_generator.n//valid_generator.batch_size\n",
    "print('step_size_Train : ' , step_size_Train)\n",
    "print('step_size_Valid  : ' , step_size_Valid)"
   ]
  },
  {
   "cell_type": "code",
   "execution_count": 25,
   "id": "6099def0",
   "metadata": {
    "id": "6099def0",
    "outputId": "7aa5fc74-d64e-47c2-dde0-0270be09fc24"
   },
   "outputs": [
    {
     "name": "stdout",
     "output_type": "stream",
     "text": [
      "Epoch 1/60\n",
      "1061/1061 [==============================] - 589s 543ms/step - loss: 2.7271 - accuracy: 0.2405 - val_loss: 2.2835 - val_accuracy: 0.3582\n",
      "\n",
      "Epoch 00001: val_accuracy improved from -inf to 0.35820, saving model to ./saves/DenseNet121/Iteration_4_2\\checkpoint_DenseNet121_15122021-60Epochs.h5\n",
      "Epoch 2/60\n",
      "1061/1061 [==============================] - 523s 493ms/step - loss: 2.2572 - accuracy: 0.3540 - val_loss: 2.0339 - val_accuracy: 0.4152\n",
      "\n",
      "Epoch 00002: val_accuracy improved from 0.35820 to 0.41515, saving model to ./saves/DenseNet121/Iteration_4_2\\checkpoint_DenseNet121_15122021-60Epochs.h5\n",
      "Epoch 3/60\n",
      "1061/1061 [==============================] - 525s 495ms/step - loss: 2.0840 - accuracy: 0.3974 - val_loss: 1.9131 - val_accuracy: 0.4424\n",
      "\n",
      "Epoch 00003: val_accuracy improved from 0.41515 to 0.44239, saving model to ./saves/DenseNet121/Iteration_4_2\\checkpoint_DenseNet121_15122021-60Epochs.h5\n",
      "Epoch 4/60\n",
      "1061/1061 [==============================] - 528s 497ms/step - loss: 1.9922 - accuracy: 0.4190 - val_loss: 1.8485 - val_accuracy: 0.4530\n",
      "\n",
      "Epoch 00004: val_accuracy improved from 0.44239 to 0.45301, saving model to ./saves/DenseNet121/Iteration_4_2\\checkpoint_DenseNet121_15122021-60Epochs.h5\n",
      "Epoch 5/60\n",
      "1061/1061 [==============================] - 523s 492ms/step - loss: 1.9258 - accuracy: 0.4364 - val_loss: 1.7974 - val_accuracy: 0.4664\n",
      "\n",
      "Epoch 00005: val_accuracy improved from 0.45301 to 0.46639, saving model to ./saves/DenseNet121/Iteration_4_2\\checkpoint_DenseNet121_15122021-60Epochs.h5\n",
      "Epoch 6/60\n",
      "1061/1061 [==============================] - 522s 492ms/step - loss: 1.8750 - accuracy: 0.4481 - val_loss: 1.7568 - val_accuracy: 0.4775\n",
      "\n",
      "Epoch 00006: val_accuracy improved from 0.46639 to 0.47748, saving model to ./saves/DenseNet121/Iteration_4_2\\checkpoint_DenseNet121_15122021-60Epochs.h5\n",
      "Epoch 7/60\n",
      "1061/1061 [==============================] - 522s 492ms/step - loss: 1.8375 - accuracy: 0.4607 - val_loss: 1.7291 - val_accuracy: 0.4857\n",
      "\n",
      "Epoch 00007: val_accuracy improved from 0.47748 to 0.48573, saving model to ./saves/DenseNet121/Iteration_4_2\\checkpoint_DenseNet121_15122021-60Epochs.h5\n",
      "Epoch 8/60\n",
      "1061/1061 [==============================] - 527s 497ms/step - loss: 1.7991 - accuracy: 0.4688 - val_loss: 1.6949 - val_accuracy: 0.4970\n",
      "\n",
      "Epoch 00008: val_accuracy improved from 0.48573 to 0.49699, saving model to ./saves/DenseNet121/Iteration_4_2\\checkpoint_DenseNet121_15122021-60Epochs.h5\n",
      "Epoch 9/60\n",
      "1061/1061 [==============================] - 522s 492ms/step - loss: 1.7696 - accuracy: 0.4748 - val_loss: 1.6680 - val_accuracy: 0.5034\n",
      "\n",
      "Epoch 00009: val_accuracy improved from 0.49699 to 0.50336, saving model to ./saves/DenseNet121/Iteration_4_2\\checkpoint_DenseNet121_15122021-60Epochs.h5\n",
      "Epoch 10/60\n",
      "1061/1061 [==============================] - 520s 490ms/step - loss: 1.7467 - accuracy: 0.4821 - val_loss: 1.6512 - val_accuracy: 0.5075\n",
      "\n",
      "Epoch 00010: val_accuracy improved from 0.50336 to 0.50755, saving model to ./saves/DenseNet121/Iteration_4_2\\checkpoint_DenseNet121_15122021-60Epochs.h5\n",
      "Epoch 11/60\n",
      "1061/1061 [==============================] - 520s 490ms/step - loss: 1.7217 - accuracy: 0.4876 - val_loss: 1.6376 - val_accuracy: 0.5100\n",
      "\n",
      "Epoch 00011: val_accuracy improved from 0.50755 to 0.50996, saving model to ./saves/DenseNet121/Iteration_4_2\\checkpoint_DenseNet121_15122021-60Epochs.h5\n",
      "Epoch 12/60\n",
      "1061/1061 [==============================] - 524s 494ms/step - loss: 1.6974 - accuracy: 0.4941 - val_loss: 1.6196 - val_accuracy: 0.5166\n",
      "\n",
      "Epoch 00012: val_accuracy improved from 0.50996 to 0.51657, saving model to ./saves/DenseNet121/Iteration_4_2\\checkpoint_DenseNet121_15122021-60Epochs.h5\n",
      "Epoch 13/60\n",
      "1061/1061 [==============================] - 519s 489ms/step - loss: 1.6777 - accuracy: 0.5015 - val_loss: 1.5994 - val_accuracy: 0.5240\n",
      "\n",
      "Epoch 00013: val_accuracy improved from 0.51657 to 0.52400, saving model to ./saves/DenseNet121/Iteration_4_2\\checkpoint_DenseNet121_15122021-60Epochs.h5\n",
      "Epoch 14/60\n",
      "1061/1061 [==============================] - 520s 490ms/step - loss: 1.6637 - accuracy: 0.5039 - val_loss: 1.5886 - val_accuracy: 0.5261\n",
      "\n",
      "Epoch 00014: val_accuracy improved from 0.52400 to 0.52606, saving model to ./saves/DenseNet121/Iteration_4_2\\checkpoint_DenseNet121_15122021-60Epochs.h5\n",
      "Epoch 15/60\n",
      "1061/1061 [==============================] - 520s 490ms/step - loss: 1.6542 - accuracy: 0.5074 - val_loss: 1.5762 - val_accuracy: 0.5276\n",
      "\n",
      "Epoch 00015: val_accuracy improved from 0.52606 to 0.52759, saving model to ./saves/DenseNet121/Iteration_4_2\\checkpoint_DenseNet121_15122021-60Epochs.h5\n",
      "Epoch 16/60\n",
      "1061/1061 [==============================] - 520s 490ms/step - loss: 1.6298 - accuracy: 0.5107 - val_loss: 1.5689 - val_accuracy: 0.5325\n",
      "\n",
      "Epoch 00016: val_accuracy improved from 0.52759 to 0.53249, saving model to ./saves/DenseNet121/Iteration_4_2\\checkpoint_DenseNet121_15122021-60Epochs.h5\n",
      "Epoch 17/60\n",
      "1061/1061 [==============================] - 520s 490ms/step - loss: 1.6194 - accuracy: 0.5154 - val_loss: 1.5528 - val_accuracy: 0.5358\n",
      "\n",
      "Epoch 00017: val_accuracy improved from 0.53249 to 0.53585, saving model to ./saves/DenseNet121/Iteration_4_2\\checkpoint_DenseNet121_15122021-60Epochs.h5\n",
      "Epoch 18/60\n",
      "1061/1061 [==============================] - 521s 491ms/step - loss: 1.6037 - accuracy: 0.5206 - val_loss: 1.5438 - val_accuracy: 0.5370\n",
      "\n",
      "Epoch 00018: val_accuracy improved from 0.53585 to 0.53697, saving model to ./saves/DenseNet121/Iteration_4_2\\checkpoint_DenseNet121_15122021-60Epochs.h5\n",
      "Epoch 19/60\n",
      "1061/1061 [==============================] - 520s 490ms/step - loss: 1.5963 - accuracy: 0.5233 - val_loss: 1.5329 - val_accuracy: 0.5405\n",
      "\n",
      "Epoch 00019: val_accuracy improved from 0.53697 to 0.54051, saving model to ./saves/DenseNet121/Iteration_4_2\\checkpoint_DenseNet121_15122021-60Epochs.h5\n",
      "Epoch 20/60\n",
      "1061/1061 [==============================] - 518s 488ms/step - loss: 1.5826 - accuracy: 0.5251 - val_loss: 1.5231 - val_accuracy: 0.5422\n",
      "\n",
      "Epoch 00020: val_accuracy improved from 0.54051 to 0.54216, saving model to ./saves/DenseNet121/Iteration_4_2\\checkpoint_DenseNet121_15122021-60Epochs.h5\n",
      "Epoch 21/60\n",
      "1061/1061 [==============================] - 521s 491ms/step - loss: 1.5687 - accuracy: 0.5310 - val_loss: 1.5190 - val_accuracy: 0.5449\n",
      "\n",
      "Epoch 00021: val_accuracy improved from 0.54216 to 0.54487, saving model to ./saves/DenseNet121/Iteration_4_2\\checkpoint_DenseNet121_15122021-60Epochs.h5\n",
      "Epoch 22/60\n",
      "1061/1061 [==============================] - 520s 490ms/step - loss: 1.5622 - accuracy: 0.5327 - val_loss: 1.5136 - val_accuracy: 0.5487\n",
      "\n",
      "Epoch 00022: val_accuracy improved from 0.54487 to 0.54870, saving model to ./saves/DenseNet121/Iteration_4_2\\checkpoint_DenseNet121_15122021-60Epochs.h5\n",
      "Epoch 23/60\n",
      "1061/1061 [==============================] - 522s 492ms/step - loss: 1.5473 - accuracy: 0.5364 - val_loss: 1.5052 - val_accuracy: 0.5479\n",
      "\n",
      "Epoch 00023: val_accuracy did not improve from 0.54870\n",
      "Epoch 24/60\n",
      "1061/1061 [==============================] - 523s 493ms/step - loss: 1.5359 - accuracy: 0.5400 - val_loss: 1.5000 - val_accuracy: 0.5503\n",
      "\n",
      "Epoch 00024: val_accuracy improved from 0.54870 to 0.55029, saving model to ./saves/DenseNet121/Iteration_4_2\\checkpoint_DenseNet121_15122021-60Epochs.h5\n",
      "Epoch 25/60\n",
      "1061/1061 [==============================] - 525s 495ms/step - loss: 1.5300 - accuracy: 0.5403 - val_loss: 1.4895 - val_accuracy: 0.5538\n",
      "\n",
      "Epoch 00025: val_accuracy improved from 0.55029 to 0.55383, saving model to ./saves/DenseNet121/Iteration_4_2\\checkpoint_DenseNet121_15122021-60Epochs.h5\n",
      "Epoch 26/60\n",
      "1061/1061 [==============================] - 523s 493ms/step - loss: 1.5229 - accuracy: 0.5423 - val_loss: 1.4844 - val_accuracy: 0.5544\n",
      "\n",
      "Epoch 00026: val_accuracy improved from 0.55383 to 0.55442, saving model to ./saves/DenseNet121/Iteration_4_2\\checkpoint_DenseNet121_15122021-60Epochs.h5\n",
      "Epoch 27/60\n",
      "1061/1061 [==============================] - 576s 542ms/step - loss: 1.5098 - accuracy: 0.5467 - val_loss: 1.4755 - val_accuracy: 0.5557\n",
      "\n",
      "Epoch 00027: val_accuracy improved from 0.55442 to 0.55566, saving model to ./saves/DenseNet121/Iteration_4_2\\checkpoint_DenseNet121_15122021-60Epochs.h5\n",
      "Epoch 28/60\n",
      "1061/1061 [==============================] - 517s 487ms/step - loss: 1.5053 - accuracy: 0.5476 - val_loss: 1.4751 - val_accuracy: 0.5567\n",
      "\n",
      "Epoch 00028: val_accuracy improved from 0.55566 to 0.55672, saving model to ./saves/DenseNet121/Iteration_4_2\\checkpoint_DenseNet121_15122021-60Epochs.h5\n",
      "Epoch 29/60\n",
      "1061/1061 [==============================] - 517s 487ms/step - loss: 1.4949 - accuracy: 0.5498 - val_loss: 1.4689 - val_accuracy: 0.5596\n",
      "\n",
      "Epoch 00029: val_accuracy improved from 0.55672 to 0.55961, saving model to ./saves/DenseNet121/Iteration_4_2\\checkpoint_DenseNet121_15122021-60Epochs.h5\n",
      "Epoch 30/60\n",
      "1061/1061 [==============================] - 519s 490ms/step - loss: 1.4870 - accuracy: 0.5518 - val_loss: 1.4646 - val_accuracy: 0.5607\n",
      "\n",
      "Epoch 00030: val_accuracy improved from 0.55961 to 0.56073, saving model to ./saves/DenseNet121/Iteration_4_2\\checkpoint_DenseNet121_15122021-60Epochs.h5\n",
      "Epoch 31/60\n",
      "1061/1061 [==============================] - 518s 488ms/step - loss: 1.4797 - accuracy: 0.5541 - val_loss: 1.4586 - val_accuracy: 0.5616\n",
      "\n",
      "Epoch 00031: val_accuracy improved from 0.56073 to 0.56156, saving model to ./saves/DenseNet121/Iteration_4_2\\checkpoint_DenseNet121_15122021-60Epochs.h5\n",
      "Epoch 32/60\n",
      "1061/1061 [==============================] - 518s 488ms/step - loss: 1.4677 - accuracy: 0.5550 - val_loss: 1.4546 - val_accuracy: 0.5613\n",
      "\n",
      "Epoch 00032: val_accuracy did not improve from 0.56156\n",
      "Epoch 33/60\n",
      "1061/1061 [==============================] - 518s 488ms/step - loss: 1.4665 - accuracy: 0.5592 - val_loss: 1.4493 - val_accuracy: 0.5635\n",
      "\n",
      "Epoch 00033: val_accuracy improved from 0.56156 to 0.56350, saving model to ./saves/DenseNet121/Iteration_4_2\\checkpoint_DenseNet121_15122021-60Epochs.h5\n",
      "Epoch 34/60\n",
      "1061/1061 [==============================] - 517s 488ms/step - loss: 1.4543 - accuracy: 0.5631 - val_loss: 1.4462 - val_accuracy: 0.5656\n",
      "\n",
      "Epoch 00034: val_accuracy improved from 0.56350 to 0.56563, saving model to ./saves/DenseNet121/Iteration_4_2\\checkpoint_DenseNet121_15122021-60Epochs.h5\n",
      "Epoch 35/60\n",
      "1061/1061 [==============================] - 520s 490ms/step - loss: 1.4529 - accuracy: 0.5629 - val_loss: 1.4394 - val_accuracy: 0.5653\n",
      "\n",
      "Epoch 00035: val_accuracy did not improve from 0.56563\n",
      "Epoch 36/60\n",
      "1061/1061 [==============================] - 519s 489ms/step - loss: 1.4450 - accuracy: 0.5639 - val_loss: 1.4394 - val_accuracy: 0.5665\n",
      "\n",
      "Epoch 00036: val_accuracy improved from 0.56563 to 0.56645, saving model to ./saves/DenseNet121/Iteration_4_2\\checkpoint_DenseNet121_15122021-60Epochs.h5\n",
      "Epoch 37/60\n",
      "1061/1061 [==============================] - 519s 489ms/step - loss: 1.4397 - accuracy: 0.5656 - val_loss: 1.4306 - val_accuracy: 0.5688\n",
      "\n",
      "Epoch 00037: val_accuracy improved from 0.56645 to 0.56875, saving model to ./saves/DenseNet121/Iteration_4_2\\checkpoint_DenseNet121_15122021-60Epochs.h5\n",
      "Epoch 38/60\n",
      "1061/1061 [==============================] - 520s 490ms/step - loss: 1.4311 - accuracy: 0.5671 - val_loss: 1.4294 - val_accuracy: 0.5706\n",
      "\n",
      "Epoch 00038: val_accuracy improved from 0.56875 to 0.57064, saving model to ./saves/DenseNet121/Iteration_4_2\\checkpoint_DenseNet121_15122021-60Epochs.h5\n",
      "Epoch 39/60\n",
      "1061/1061 [==============================] - 520s 490ms/step - loss: 1.4258 - accuracy: 0.5681 - val_loss: 1.4229 - val_accuracy: 0.5728\n",
      "\n",
      "Epoch 00039: val_accuracy improved from 0.57064 to 0.57276, saving model to ./saves/DenseNet121/Iteration_4_2\\checkpoint_DenseNet121_15122021-60Epochs.h5\n",
      "Epoch 40/60\n",
      "1061/1061 [==============================] - 520s 490ms/step - loss: 1.4191 - accuracy: 0.5712 - val_loss: 1.4195 - val_accuracy: 0.5735\n",
      "\n",
      "Epoch 00040: val_accuracy improved from 0.57276 to 0.57353, saving model to ./saves/DenseNet121/Iteration_4_2\\checkpoint_DenseNet121_15122021-60Epochs.h5\n",
      "Epoch 41/60\n",
      "1061/1061 [==============================] - 519s 489ms/step - loss: 1.4144 - accuracy: 0.5707 - val_loss: 1.4170 - val_accuracy: 0.5748\n",
      "\n",
      "Epoch 00041: val_accuracy improved from 0.57353 to 0.57482, saving model to ./saves/DenseNet121/Iteration_4_2\\checkpoint_DenseNet121_15122021-60Epochs.h5\n",
      "Epoch 42/60\n",
      "1061/1061 [==============================] - 520s 490ms/step - loss: 1.4102 - accuracy: 0.5722 - val_loss: 1.4136 - val_accuracy: 0.5778\n",
      "\n",
      "Epoch 00042: val_accuracy improved from 0.57482 to 0.57783, saving model to ./saves/DenseNet121/Iteration_4_2\\checkpoint_DenseNet121_15122021-60Epochs.h5\n",
      "Epoch 43/60\n",
      "1061/1061 [==============================] - 519s 489ms/step - loss: 1.4048 - accuracy: 0.5744 - val_loss: 1.4066 - val_accuracy: 0.5772\n",
      "\n",
      "Epoch 00043: val_accuracy did not improve from 0.57783\n",
      "Epoch 44/60\n",
      "1061/1061 [==============================] - 521s 491ms/step - loss: 1.3925 - accuracy: 0.5775 - val_loss: 1.4135 - val_accuracy: 0.5760\n",
      "\n",
      "Epoch 00044: val_accuracy did not improve from 0.57783\n",
      "Epoch 45/60\n",
      "1061/1061 [==============================] - 519s 489ms/step - loss: 1.3877 - accuracy: 0.5791 - val_loss: 1.4032 - val_accuracy: 0.5794\n",
      "\n",
      "Epoch 00045: val_accuracy improved from 0.57783 to 0.57936, saving model to ./saves/DenseNet121/Iteration_4_2\\checkpoint_DenseNet121_15122021-60Epochs.h5\n",
      "Epoch 46/60\n",
      "1061/1061 [==============================] - 520s 490ms/step - loss: 1.3858 - accuracy: 0.5822 - val_loss: 1.4001 - val_accuracy: 0.5811\n",
      "\n",
      "Epoch 00046: val_accuracy improved from 0.57936 to 0.58113, saving model to ./saves/DenseNet121/Iteration_4_2\\checkpoint_DenseNet121_15122021-60Epochs.h5\n",
      "Epoch 47/60\n",
      "1061/1061 [==============================] - 523s 493ms/step - loss: 1.3820 - accuracy: 0.5795 - val_loss: 1.3984 - val_accuracy: 0.5785\n",
      "\n",
      "Epoch 00047: val_accuracy did not improve from 0.58113\n",
      "Epoch 48/60\n",
      "1061/1061 [==============================] - 519s 489ms/step - loss: 1.3777 - accuracy: 0.5825 - val_loss: 1.3982 - val_accuracy: 0.5800\n",
      "\n",
      "Epoch 00048: val_accuracy did not improve from 0.58113\n",
      "Epoch 49/60\n",
      "1061/1061 [==============================] - 519s 489ms/step - loss: 1.3711 - accuracy: 0.5839 - val_loss: 1.3912 - val_accuracy: 0.5849\n",
      "\n",
      "Epoch 00049: val_accuracy improved from 0.58113 to 0.58491, saving model to ./saves/DenseNet121/Iteration_4_2\\checkpoint_DenseNet121_15122021-60Epochs.h5\n",
      "Epoch 50/60\n",
      "1061/1061 [==============================] - 519s 489ms/step - loss: 1.3668 - accuracy: 0.5836 - val_loss: 1.3972 - val_accuracy: 0.5822\n",
      "\n",
      "Epoch 00050: val_accuracy did not improve from 0.58491\n",
      "Epoch 51/60\n",
      "1061/1061 [==============================] - 518s 488ms/step - loss: 1.3617 - accuracy: 0.5862 - val_loss: 1.3882 - val_accuracy: 0.5841\n",
      "\n",
      "Epoch 00051: val_accuracy did not improve from 0.58491\n",
      "Epoch 52/60\n",
      "1061/1061 [==============================] - 520s 490ms/step - loss: 1.3575 - accuracy: 0.5855 - val_loss: 1.3895 - val_accuracy: 0.5850\n",
      "\n",
      "Epoch 00052: val_accuracy improved from 0.58491 to 0.58496, saving model to ./saves/DenseNet121/Iteration_4_2\\checkpoint_DenseNet121_15122021-60Epochs.h5\n",
      "Epoch 53/60\n",
      "1061/1061 [==============================] - 520s 490ms/step - loss: 1.3520 - accuracy: 0.5896 - val_loss: 1.3898 - val_accuracy: 0.5831\n",
      "\n",
      "Epoch 00053: val_accuracy did not improve from 0.58496\n",
      "Epoch 54/60\n",
      "1061/1061 [==============================] - 520s 490ms/step - loss: 1.3444 - accuracy: 0.5890 - val_loss: 1.3840 - val_accuracy: 0.5844\n",
      "\n",
      "Epoch 00054: val_accuracy did not improve from 0.58496\n",
      "Epoch 55/60\n",
      "1061/1061 [==============================] - 522s 492ms/step - loss: 1.3423 - accuracy: 0.5908 - val_loss: 1.3825 - val_accuracy: 0.5876\n",
      "\n",
      "Epoch 00055: val_accuracy improved from 0.58496 to 0.58762, saving model to ./saves/DenseNet121/Iteration_4_2\\checkpoint_DenseNet121_15122021-60Epochs.h5\n",
      "Epoch 56/60\n",
      "1061/1061 [==============================] - 520s 490ms/step - loss: 1.3372 - accuracy: 0.5938 - val_loss: 1.3797 - val_accuracy: 0.5869\n",
      "\n",
      "Epoch 00056: val_accuracy did not improve from 0.58762\n",
      "Epoch 57/60\n",
      "1061/1061 [==============================] - 519s 489ms/step - loss: 1.3359 - accuracy: 0.5937 - val_loss: 1.3721 - val_accuracy: 0.5881\n",
      "\n",
      "Epoch 00057: val_accuracy improved from 0.58762 to 0.58809, saving model to ./saves/DenseNet121/Iteration_4_2\\checkpoint_DenseNet121_15122021-60Epochs.h5\n",
      "Epoch 58/60\n",
      "1061/1061 [==============================] - 520s 490ms/step - loss: 1.3248 - accuracy: 0.5969 - val_loss: 1.3731 - val_accuracy: 0.5891\n",
      "\n",
      "Epoch 00058: val_accuracy improved from 0.58809 to 0.58909, saving model to ./saves/DenseNet121/Iteration_4_2\\checkpoint_DenseNet121_15122021-60Epochs.h5\n"
     ]
    },
    {
     "name": "stdout",
     "output_type": "stream",
     "text": [
      "Epoch 59/60\n",
      "1061/1061 [==============================] - 519s 489ms/step - loss: 1.3248 - accuracy: 0.5963 - val_loss: 1.3706 - val_accuracy: 0.5905\n",
      "\n",
      "Epoch 00059: val_accuracy improved from 0.58909 to 0.59051, saving model to ./saves/DenseNet121/Iteration_4_2\\checkpoint_DenseNet121_15122021-60Epochs.h5\n",
      "Epoch 60/60\n",
      "1061/1061 [==============================] - 519s 489ms/step - loss: 1.3196 - accuracy: 0.5970 - val_loss: 1.3731 - val_accuracy: 0.5896\n",
      "\n",
      "Epoch 00060: val_accuracy did not improve from 0.59051\n",
      "Wall time: 8h 42min 55s\n"
     ]
    }
   ],
   "source": [
    "%%time\n",
    "# Fit Train generator\n",
    "history = model.fit(train_generator,                    \n",
    "                    epochs = epochs,                   \n",
    "                    steps_per_epoch = step_size_Train,\n",
    "                    validation_data = valid_generator,\n",
    "                    validation_steps = step_size_Valid,\n",
    "                    callbacks=[checkpoint, early ,lr_plateau]\n",
    "                    \n",
    "                    )"
   ]
  },
  {
   "cell_type": "markdown",
   "id": "479d4c18",
   "metadata": {},
   "source": [
    "***Save History results***"
   ]
  },
  {
   "cell_type": "code",
   "execution_count": 26,
   "id": "aa9d47d5",
   "metadata": {},
   "outputs": [],
   "source": [
    "# Save History results\n",
    "path = './saves/DenseNet121/Iteration_4_2/'\n",
    "filename = 'history_DenseNet121_all_train_15122021_60Epochs'"
   ]
  },
  {
   "cell_type": "code",
   "execution_count": 27,
   "id": "8944dcc5",
   "metadata": {},
   "outputs": [],
   "source": [
    "#convert the history.history dict to a pandas DataFrame:     \n",
    "hist_df = pd.DataFrame(history.history) \n",
    "\n",
    "# history to json:  \n",
    "hist_json_file = path + filename + '.json'\n",
    "with open(hist_json_file, mode='w') as f:\n",
    "    hist_df.to_json(f)\n",
    "\n",
    "# history to csv: \n",
    "hist_csv_file = path + filename +'.csv'\n",
    "with open(hist_csv_file, mode='w') as f:\n",
    "    hist_df.to_csv(f)\n",
    "\n",
    "# history to pickle file\n",
    "hist_df.to_pickle(path + filename +'.pkl')"
   ]
  },
  {
   "cell_type": "markdown",
   "id": "437e2b15",
   "metadata": {},
   "source": [
    "***Display Model loss , accuracy per epoch***"
   ]
  },
  {
   "cell_type": "code",
   "execution_count": 29,
   "id": "7e148e9a",
   "metadata": {},
   "outputs": [
    {
     "data": {
      "image/png": "[encoded data removed]",
      "text/plain": [
       "<Figure size 864x288 with 2 Axes>"
      ]
     },
     "metadata": {
      "needs_background": "light"
     },
     "output_type": "display_data"
    }
   ],
   "source": [
    "plt.figure(figsize=(12,4))\n",
    "plt.subplot(121)\n",
    "plt.plot(history.history['loss'])\n",
    "plt.plot(history.history['val_loss'])\n",
    "plt.title('Model loss by epoch')\n",
    "plt.ylabel('loss')\n",
    "plt.xlabel('epoch')\n",
    "plt.legend(['train', 'valid'], loc='right')\n",
    "\n",
    "plt.subplot(122)\n",
    "plt.plot(history.history['accuracy'])\n",
    "plt.plot(history.history['val_accuracy'])\n",
    "plt.title('Model acc by epoch')\n",
    "plt.ylabel('acc')\n",
    "plt.xlabel('epoch')\n",
    "plt.legend(['train', 'valid'], loc='right')\n",
    "plt.show()"
   ]
  },
  {
   "cell_type": "markdown",
   "id": "7e64f5a7",
   "metadata": {
    "id": "7e64f5a7"
   },
   "source": [
    " ***Prediction - test_generator***"
   ]
  },
  {
   "cell_type": "code",
   "execution_count": 30,
   "id": "13bf0290",
   "metadata": {
    "id": "13bf0290"
   },
   "outputs": [
    {
     "name": "stdout",
     "output_type": "stream",
     "text": [
      "Wall time: 25.6 s\n"
     ]
    }
   ],
   "source": [
    "%%time\n",
    "#Prediction - Valid set\n",
    "y_pred_proba = model.predict(valid_generator)\n",
    "\n",
    "# l'argmax pour obtenir les classes prédites\n",
    "y_pred_class = np.argmax(y_pred_proba,axis = 1).astype(int)\n",
    "\n",
    "# To get classes from test generator\n",
    "y_true = valid_generator.classes"
   ]
  },
  {
   "cell_type": "markdown",
   "id": "e199b13a",
   "metadata": {
    "id": "e199b13a"
   },
   "source": [
    " ***Evaluation - test_generator***"
   ]
  },
  {
   "cell_type": "code",
   "execution_count": 31,
   "id": "a149ee6a",
   "metadata": {
    "id": "a149ee6a"
   },
   "outputs": [
    {
     "name": "stdout",
     "output_type": "stream",
     "text": [
      "266/266 [==============================] - 26s 95ms/step - loss: 1.3733 - accuracy: 0.5896\n",
      "[INFO] Model metrics names: ['loss', 'accuracy']\n",
      "[INFO] Accuracy: 58.96%\n",
      "[INFO] Loss:  1.3732795715332031\n",
      "Wall time: 25.7 s\n"
     ]
    }
   ],
   "source": [
    "%%time\n",
    "#Get the accuracy score\n",
    "valid_score = model.evaluate(valid_generator)\n",
    "print(\"[INFO] Model metrics names:\", model.metrics_names)\n",
    "print(\"[INFO] Accuracy: {:.2f}%\".format(valid_score[1] * 100)) \n",
    "print(\"[INFO] Loss: \",valid_score[0])"
   ]
  },
  {
   "cell_type": "code",
   "execution_count": 32,
   "id": "a67c8f8e",
   "metadata": {},
   "outputs": [
    {
     "name": "stdout",
     "output_type": "stream",
     "text": [
      "[INFO] f1 score macro average:  0.5186743411824125\n",
      "[INFO] f1 score micro average:  0.5895548751766369\n",
      "[INFO] f1 score weighted average:  0.577352891491902\n"
     ]
    }
   ],
   "source": [
    "f1_macro = f1_score(y_true, y_pred_class, average='macro')\n",
    "print(\"[INFO] f1 score macro average: \",f1_macro)\n",
    "\n",
    "f1_micro = f1_score(y_true, y_pred_class, average='micro')\n",
    "print(\"[INFO] f1 score micro average: \",f1_micro)\n",
    "\n",
    "f1_weighted = f1_score(y_true, y_pred_class, average='weighted')\n",
    "print(\"[INFO] f1 score weighted average: \",f1_weighted)\n"
   ]
  },
  {
   "cell_type": "code",
   "execution_count": 33,
   "id": "e956f70d",
   "metadata": {},
   "outputs": [
    {
     "data": {
      "image/png": "[encoded data removed]",
      "text/plain": [
       "<Figure size 1728x1440 with 1 Axes>"
      ]
     },
     "metadata": {
      "needs_background": "light"
     },
     "output_type": "display_data"
    }
   ],
   "source": [
    "#Confusion matrix\n",
    "matrix = confusion_matrix(y_true, y_pred_class)\n",
    "fig , ax = plt.subplots(figsize = (24,20))\n",
    "ax.matshow(matrix, cmap = plt.cm.Oranges , alpha = 0.3)\n",
    "for i in range(matrix.shape[0]):\n",
    "    for j in range (matrix.shape[1]):\n",
    "        ax.text (x = j , y= i, s= matrix[i,j], va = 'center', ha = 'center', size = 'xx-large')\n",
    "        \n",
    "plt.xlabel('predicted', fontsize = 18)\n",
    "plt.ylabel('Acutals', fontsize = 18)\n",
    "plt.title('Confusion Matrix', fontsize = 18)\n",
    "plt.show()\n",
    "#print(matrix)"
   ]
  },
  {
   "cell_type": "code",
   "execution_count": 34,
   "id": "f9af2dc6",
   "metadata": {
    "id": "f9af2dc6"
   },
   "outputs": [
    {
     "name": "stdout",
     "output_type": "stream",
     "text": [
      "              precision    recall  f1-score   support\n",
      "\n",
      "           0       0.46      0.50      0.48       643\n",
      "           1       0.50      0.52      0.51       503\n",
      "           2       0.68      0.41      0.51       162\n",
      "           3       0.41      0.34      0.37       514\n",
      "           4       0.47      0.40      0.43       664\n",
      "           5       0.53      0.56      0.54       993\n",
      "           6       0.70      0.85      0.77       832\n",
      "           7       0.50      0.52      0.51       159\n",
      "           8       0.42      0.54      0.47       970\n",
      "           9       0.49      0.16      0.25       190\n",
      "          10       0.63      0.73      0.68       911\n",
      "          11       0.67      0.55      0.61       961\n",
      "          12       0.41      0.24      0.30       319\n",
      "          13       0.67      0.38      0.49       301\n",
      "          14       0.58      0.64      0.61      1011\n",
      "          15       0.49      0.34      0.40       533\n",
      "          16       0.76      0.83      0.80      2083\n",
      "          17       0.43      0.32      0.37       468\n",
      "          18       0.56      0.86      0.68       557\n",
      "          19       0.53      0.53      0.53       146\n",
      "          20       0.62      0.70      0.66       179\n",
      "          21       0.66      0.57      0.61       545\n",
      "          22       0.86      0.87      0.87       793\n",
      "          23       0.38      0.15      0.22       144\n",
      "          24       0.45      0.40      0.42      1002\n",
      "          25       0.47      0.18      0.26       408\n",
      "          26       0.58      0.75      0.66       993\n",
      "\n",
      "    accuracy                           0.59     16984\n",
      "   macro avg       0.55      0.51      0.52     16984\n",
      "weighted avg       0.58      0.59      0.58     16984\n",
      "\n"
     ]
    }
   ],
   "source": [
    "print(metrics.classification_report(y_true, y_pred_class))"
   ]
  },
  {
   "cell_type": "markdown",
   "id": "9af02844",
   "metadata": {},
   "source": [
    " ***Predict input image using trained model***"
   ]
  },
  {
   "cell_type": "code",
   "execution_count": 36,
   "id": "f7fbf10a",
   "metadata": {},
   "outputs": [
    {
     "data": {
      "image/png": "[encoded data removed]",
      "text/plain": [
       "<Figure size 432x288 with 1 Axes>"
      ]
     },
     "metadata": {},
     "output_type": "display_data"
    }
   ],
   "source": [
    "# Predict With Pre Trained\n",
    "\n",
    "# Load an image\n",
    "im_id = 104\n",
    "img_path ='./data/images/all/image_train_resized/'+ df_train_im['imagePath'][im_id]\n",
    "\n",
    "img = image.load_img(img_path,target_size=(224, 224))\n",
    "plt.figure(figsize=(6,4))\n",
    "plt.imshow(img)\n",
    "plt.title(\"class: \" + str(df_train_im['prdtypecode'][im_id]))\n",
    "plt.xticks([])\n",
    "plt.yticks([])\n",
    "#plt.axis('off')\n",
    "plt.show();"
   ]
  },
  {
   "cell_type": "code",
   "execution_count": 37,
   "id": "d6021667",
   "metadata": {},
   "outputs": [],
   "source": [
    "im = cv2.resize(cv2.imread(img_path), (224, 224))\n",
    "im = np.expand_dims(im, axis=0)"
   ]
  },
  {
   "cell_type": "code",
   "execution_count": 38,
   "id": "2ed5439b",
   "metadata": {},
   "outputs": [
    {
     "name": "stdout",
     "output_type": "stream",
     "text": [
      "------------------Predicted Class and Label ------------------------------\n",
      "target class(used by model) : 24\n",
      "\n",
      "  prdtypecode             Label\n",
      "        2585 gardening and DIY\n",
      "\n",
      "\n",
      "------------------Real Class and Label ------------------------------\n",
      "target class(used by model):  9\n",
      "\n",
      "  prdtypecode                    Label\n",
      "        1300 remote controlled models\n"
     ]
    }
   ],
   "source": [
    "out = model.predict(im)\n",
    "print(\"------------------Predicted Class and Label ------------------------------\")\n",
    "print(\"target class(used by model) :\", np.argmax(out))\n",
    "print(\"\\n\"  ,df_class[df_class['target_prdtypecode'] == np.argmax(out)][['prdtypecode', 'Label']].to_string(index=False)) \n",
    "\n",
    "prd_code = df_train_im['prdtypecode'][im_id]\n",
    "\n",
    "print(\"\\n\\n------------------Real Class and Label ------------------------------\")\n",
    "print(\"target class(used by model): \" ,  df_class[df_class['target_prdtypecode'] == int(prd_code)]['target_prdtypecode'].to_string(index=False))\n",
    "print(\"\\n\"  ,df_class[df_class['target_prdtypecode'] == int(prd_code)][['prdtypecode', 'Label']].to_string(index=False)) \n",
    "\n",
    "\n",
    " \n"
   ]
  },
  {
   "cell_type": "markdown",
   "id": "ba25e415",
   "metadata": {
    "id": "ba25e415"
   },
   "source": [
    " ***Save DenseNet121 Model***"
   ]
  },
  {
   "cell_type": "code",
   "execution_count": 39,
   "id": "2756f2e9",
   "metadata": {
    "id": "2756f2e9"
   },
   "outputs": [],
   "source": [
    "#Enregistrement du modèle\n",
    "model.save(\"./saves/DenseNet121/Iteration_4_2/Model_DenseNet121_All_train_data_15122021_60Epochs.hdf5\")\n",
    "#The SavedModel and HDF5 file contains:\n",
    "#the model's configuration (topology)\n",
    "#the model's weights\n",
    "#the model's optimizer's state (if any)"
   ]
  },
  {
   "cell_type": "markdown",
   "id": "636fb9cf",
   "metadata": {
    "id": "636fb9cf"
   },
   "source": [
    " ***Load DenseNet121 Model***"
   ]
  },
  {
   "cell_type": "code",
   "execution_count": null,
   "id": "9ee47aed",
   "metadata": {
    "id": "9ee47aed"
   },
   "outputs": [],
   "source": [
    "#Rechargement du modèle :\n",
    "model = load_model('./saves/DenseNet121/Iteration_4_2/Model_DenseNet121_All_train_data_15122021_60Epochs.hdf5')"
   ]
  }
 ],
 "metadata": {
  "accelerator": "GPU",
  "colab": {
   "collapsed_sections": [
    "X4gG6_IvrZ10"
   ],
   "name": "Images_&_Iteration_#1_ResNet50_Without_image_Preprocesing.ipynb",
   "provenance": [
    {
     "file_id": "17N2ubF_zjn2M-2g3bJ0lXH7vsD0mgLMb",
     "timestamp": 1629109577507
    }
   ]
  },
  "kernelspec": {
   "display_name": "Python 3 (ipykernel)",
   "language": "python",
   "name": "python3"
  },
  "language_info": {
   "codemirror_mode": {
    "name": "ipython",
    "version": 3
   },
   "file_extension": ".py",
   "mimetype": "text/x-python",
   "name": "python",
   "nbconvert_exporter": "python",
   "pygments_lexer": "ipython3",
   "version": "3.8.13"
  }
 },
 "nbformat": 4,
 "nbformat_minor": 5
}
