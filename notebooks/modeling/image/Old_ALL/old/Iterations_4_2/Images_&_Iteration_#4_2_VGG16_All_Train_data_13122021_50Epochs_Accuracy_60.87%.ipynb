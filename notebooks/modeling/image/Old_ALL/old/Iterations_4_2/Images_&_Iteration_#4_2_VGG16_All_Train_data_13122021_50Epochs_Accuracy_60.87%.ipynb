{
 "cells": [
  {
   "cell_type": "markdown",
   "id": "52297852",
   "metadata": {
    "id": "52297852"
   },
   "source": [
    "# VGG16 : Images - Iteration #4_2: Data Augementation & Fine Tuning"
   ]
  },
  {
   "cell_type": "markdown",
   "id": "3f25fced-8da9-42a5-b5c5-10f3b1bc222a",
   "metadata": {
    "colab": {
     "base_uri": "https://localhost:8080/"
    },
    "executionInfo": {
     "elapsed": 36601,
     "status": "ok",
     "timestamp": 1634378528407,
     "user": {
      "displayName": "Mourad Mecheri",
      "photoUrl": "https://lh3.googleusercontent.com/a/default-user=s64",
      "userId": "08453845245011476141"
     },
     "user_tz": -120
    },
    "id": "1e9b5add",
    "outputId": "d60de11d-99b4-4e1d-8bc9-dcbf79ea2a8a"
   },
   "source": [
    "img_rows = 224 <br>\n",
    "img_cols = 224 <br>\n",
    "batch_size =  64 <br>\n",
    "epochs = 50 <br>\n",
    "Train set size = 67933 <br>\n",
    "Valid set size = 16983 <br>\n",
    "Data augmentation <br>\n",
    "unfreezing of the last <font color='red'> 8 </font> base model layers <br> \n",
    "optimizer= Adam(learning_rate= 0.00001) <br>"
   ]
  },
  {
   "cell_type": "markdown",
   "id": "34453be7-c813-40bd-acd3-ec8ea4c6b5b9",
   "metadata": {
    "colab": {
     "base_uri": "https://localhost:8080/"
    },
    "executionInfo": {
     "elapsed": 260,
     "status": "ok",
     "timestamp": 1634378530664,
     "user": {
      "displayName": "Mourad Mecheri",
      "photoUrl": "https://lh3.googleusercontent.com/a/default-user=s64",
      "userId": "08453845245011476141"
     },
     "user_tz": -120
    },
    "id": "e73203dd",
    "outputId": "280340aa-ec7d-4a46-957a-2bc8a930dd27"
   },
   "source": [
    "**<u>Results</u>**"
   ]
  },
  {
   "cell_type": "markdown",
   "id": "a927c7d7-4440-4e2a-9cc8-2a9fada2b9b5",
   "metadata": {},
   "source": [
    "Accuracy : 0.61 <br>\n",
    "F1 score weighted : 0.60?"
   ]
  },
  {
   "cell_type": "markdown",
   "id": "27545775",
   "metadata": {
    "id": "27545775"
   },
   "source": [
    "**Import packages**"
   ]
  },
  {
   "cell_type": "code",
   "execution_count": 1,
   "id": "19034d01",
   "metadata": {},
   "outputs": [],
   "source": [
    "import os\n",
    "import glob\n",
    "import pandas as pd\n",
    "import numpy as np\n",
    "import cv2\n",
    "import matplotlib\n",
    "%matplotlib inline\n",
    "import matplotlib.pyplot as plt\n",
    "import seaborn as sns\n",
    "from tqdm import tqdm\n",
    "from tqdm.notebook import tqdm_notebook\n",
    "import re\n",
    "tqdm_notebook.pandas()\n",
    "import tensorflow as tf\n",
    "#from tensorflow import keras\n",
    "from tensorflow.keras.models import load_model\n",
    "from tensorflow.keras.models import Sequential\n",
    "from tensorflow.keras.layers import Dense, Activation\n",
    "from tensorflow.keras.layers import Dropout\n",
    "from tensorflow.keras.layers import Flatten\n",
    "from tensorflow.keras.layers import GlobalAveragePooling2D\n",
    "from tensorflow.keras.layers import Conv2D\n",
    "from tensorflow.keras.layers import MaxPooling2D\n",
    "from tensorflow.keras.callbacks import ModelCheckpoint, EarlyStopping, ReduceLROnPlateau\n",
    "from tensorflow.keras.applications.vgg16 import VGG16\n",
    "from tensorflow.keras.applications.resnet50 import ResNet50\n",
    "from tensorflow.keras.models import Model\n",
    "from tensorflow.keras.applications.vgg16 import preprocess_input\n",
    "from tensorflow.keras.applications.vgg16 import decode_predictions\n",
    "from tensorflow.keras.preprocessing.image import ImageDataGenerator\n",
    "from tensorflow.keras.preprocessing import image\n",
    "from tensorflow.keras.optimizers import Adam\n",
    "from sklearn.metrics import f1_score , recall_score, accuracy_score, precision_score, confusion_matrix\n",
    "from keras.utils import np_utils\n",
    "from sklearn.model_selection import train_test_split\n",
    "from sklearn import metrics\n",
    "import itertools\n",
    "import pickle\n",
    "from joblib import dump, load"
   ]
  },
  {
   "cell_type": "markdown",
   "id": "d7a3fcab",
   "metadata": {
    "id": "d7a3fcab"
   },
   "source": [
    "# Iteration #4 -  VGG16"
   ]
  },
  {
   "cell_type": "markdown",
   "id": "1f1a3dea",
   "metadata": {
    "id": "1f1a3dea"
   },
   "source": [
    "***Read DataFrame from saved pickele file - image Train set***"
   ]
  },
  {
   "cell_type": "code",
   "execution_count": 2,
   "id": "8ef548a9",
   "metadata": {
    "executionInfo": {
     "elapsed": 2626,
     "status": "ok",
     "timestamp": 1634378559079,
     "user": {
      "displayName": "Mourad Mecheri",
      "photoUrl": "https://lh3.googleusercontent.com/a/default-user=s64",
      "userId": "08453845245011476141"
     },
     "user_tz": -120
    },
    "id": "8ef548a9"
   },
   "outputs": [],
   "source": [
    "#Load df of images already resized on 256 x 256 \n",
    "df_train_im = pd.read_pickle(\"./saves/df_save/df_train_combined_19102021.pkl\")\n",
    "\n",
    "#Load df of images with org size 500 x 500\n",
    "#df_train_im = pd.read_pickle(\"./saves/df_save/df_train_combined_ORG_im_size_23112021.pkl\")"
   ]
  },
  {
   "cell_type": "code",
   "execution_count": 3,
   "id": "d271de78",
   "metadata": {
    "colab": {
     "base_uri": "https://localhost:8080/",
     "height": 555
    },
    "executionInfo": {
     "elapsed": 215,
     "status": "ok",
     "timestamp": 1634378561433,
     "user": {
      "displayName": "Mourad Mecheri",
      "photoUrl": "https://lh3.googleusercontent.com/a/default-user=s64",
      "userId": "08453845245011476141"
     },
     "user_tz": -120
    },
    "id": "d271de78",
    "outputId": "b2453020-a8b0-4923-c3d2-d20479365c7a"
   },
   "outputs": [
    {
     "data": {
      "text/html": [
       "<div>\n",
       "<style scoped>\n",
       "    .dataframe tbody tr th:only-of-type {\n",
       "        vertical-align: middle;\n",
       "    }\n",
       "\n",
       "    .dataframe tbody tr th {\n",
       "        vertical-align: top;\n",
       "    }\n",
       "\n",
       "    .dataframe thead th {\n",
       "        text-align: right;\n",
       "    }\n",
       "</style>\n",
       "<table border=\"1\" class=\"dataframe\">\n",
       "  <thead>\n",
       "    <tr style=\"text-align: right;\">\n",
       "      <th></th>\n",
       "      <th>designation</th>\n",
       "      <th>description</th>\n",
       "      <th>productid</th>\n",
       "      <th>imageid</th>\n",
       "      <th>prdtypecode</th>\n",
       "      <th>imagePath</th>\n",
       "    </tr>\n",
       "  </thead>\n",
       "  <tbody>\n",
       "    <tr>\n",
       "      <th>0</th>\n",
       "      <td>Olivia: Personalisiertes Notizbuch / 150 Seite...</td>\n",
       "      <td>NaN</td>\n",
       "      <td>3804725264</td>\n",
       "      <td>1263597046</td>\n",
       "      <td>10</td>\n",
       "      <td>resized_image_1263597046_product_3804725264.jpg</td>\n",
       "    </tr>\n",
       "    <tr>\n",
       "      <th>1</th>\n",
       "      <td>Journal Des Arts (Le) N° 133 Du 28/09/2001 - L...</td>\n",
       "      <td>NaN</td>\n",
       "      <td>436067568</td>\n",
       "      <td>1008141237</td>\n",
       "      <td>2280</td>\n",
       "      <td>resized_image_1008141237_product_436067568.jpg</td>\n",
       "    </tr>\n",
       "    <tr>\n",
       "      <th>2</th>\n",
       "      <td>Grand Stylet Ergonomique Bleu Gamepad Nintendo...</td>\n",
       "      <td>PILOT STYLE Touch Pen de marque Speedlink est ...</td>\n",
       "      <td>201115110</td>\n",
       "      <td>938777978</td>\n",
       "      <td>50</td>\n",
       "      <td>resized_image_938777978_product_201115110.jpg</td>\n",
       "    </tr>\n",
       "    <tr>\n",
       "      <th>3</th>\n",
       "      <td>Peluche Donald - Europe - Disneyland 2000 (Mar...</td>\n",
       "      <td>NaN</td>\n",
       "      <td>50418756</td>\n",
       "      <td>457047496</td>\n",
       "      <td>1280</td>\n",
       "      <td>resized_image_457047496_product_50418756.jpg</td>\n",
       "    </tr>\n",
       "    <tr>\n",
       "      <th>4</th>\n",
       "      <td>La Guerre Des Tuques</td>\n",
       "      <td>Luc a des id&amp;eacute;es de grandeur. Il veut or...</td>\n",
       "      <td>278535884</td>\n",
       "      <td>1077757786</td>\n",
       "      <td>2705</td>\n",
       "      <td>resized_image_1077757786_product_278535884.jpg</td>\n",
       "    </tr>\n",
       "    <tr>\n",
       "      <th>...</th>\n",
       "      <td>...</td>\n",
       "      <td>...</td>\n",
       "      <td>...</td>\n",
       "      <td>...</td>\n",
       "      <td>...</td>\n",
       "      <td>...</td>\n",
       "    </tr>\n",
       "    <tr>\n",
       "      <th>84911</th>\n",
       "      <td>The Sims [ Import Anglais ]</td>\n",
       "      <td>NaN</td>\n",
       "      <td>206719094</td>\n",
       "      <td>941495734</td>\n",
       "      <td>40</td>\n",
       "      <td>resized_image_941495734_product_206719094.jpg</td>\n",
       "    </tr>\n",
       "    <tr>\n",
       "      <th>84912</th>\n",
       "      <td>Kit piscine acier NEVADA déco pierre Ø 3.50m x...</td>\n",
       "      <td>&lt;b&gt;Description complète :&lt;/b&gt;&lt;br /&gt;Kit piscine...</td>\n",
       "      <td>3065095706</td>\n",
       "      <td>1188462883</td>\n",
       "      <td>2583</td>\n",
       "      <td>resized_image_1188462883_product_3065095706.jpg</td>\n",
       "    </tr>\n",
       "    <tr>\n",
       "      <th>84913</th>\n",
       "      <td>Journal Officiel De La Republique Francaise N°...</td>\n",
       "      <td>NaN</td>\n",
       "      <td>440707564</td>\n",
       "      <td>1009325617</td>\n",
       "      <td>2280</td>\n",
       "      <td>resized_image_1009325617_product_440707564.jpg</td>\n",
       "    </tr>\n",
       "    <tr>\n",
       "      <th>84914</th>\n",
       "      <td>Table Basse Bois De Récupération Massif Base B...</td>\n",
       "      <td>&lt;p&gt;Cette table basse a un design unique et con...</td>\n",
       "      <td>3942400296</td>\n",
       "      <td>1267353403</td>\n",
       "      <td>1560</td>\n",
       "      <td>resized_image_1267353403_product_3942400296.jpg</td>\n",
       "    </tr>\n",
       "    <tr>\n",
       "      <th>84915</th>\n",
       "      <td>Gomme De Collection 2 Gommes Pinguin Glace Ver...</td>\n",
       "      <td>NaN</td>\n",
       "      <td>57203227</td>\n",
       "      <td>684671297</td>\n",
       "      <td>2522</td>\n",
       "      <td>resized_image_684671297_product_57203227.jpg</td>\n",
       "    </tr>\n",
       "  </tbody>\n",
       "</table>\n",
       "<p>84916 rows × 6 columns</p>\n",
       "</div>"
      ],
      "text/plain": [
       "                                             designation  \\\n",
       "0      Olivia: Personalisiertes Notizbuch / 150 Seite...   \n",
       "1      Journal Des Arts (Le) N° 133 Du 28/09/2001 - L...   \n",
       "2      Grand Stylet Ergonomique Bleu Gamepad Nintendo...   \n",
       "3      Peluche Donald - Europe - Disneyland 2000 (Mar...   \n",
       "4                                   La Guerre Des Tuques   \n",
       "...                                                  ...   \n",
       "84911                        The Sims [ Import Anglais ]   \n",
       "84912  Kit piscine acier NEVADA déco pierre Ø 3.50m x...   \n",
       "84913  Journal Officiel De La Republique Francaise N°...   \n",
       "84914  Table Basse Bois De Récupération Massif Base B...   \n",
       "84915  Gomme De Collection 2 Gommes Pinguin Glace Ver...   \n",
       "\n",
       "                                             description   productid  \\\n",
       "0                                                    NaN  3804725264   \n",
       "1                                                    NaN   436067568   \n",
       "2      PILOT STYLE Touch Pen de marque Speedlink est ...   201115110   \n",
       "3                                                    NaN    50418756   \n",
       "4      Luc a des id&eacute;es de grandeur. Il veut or...   278535884   \n",
       "...                                                  ...         ...   \n",
       "84911                                                NaN   206719094   \n",
       "84912  <b>Description complète :</b><br />Kit piscine...  3065095706   \n",
       "84913                                                NaN   440707564   \n",
       "84914  <p>Cette table basse a un design unique et con...  3942400296   \n",
       "84915                                                NaN    57203227   \n",
       "\n",
       "          imageid  prdtypecode  \\\n",
       "0      1263597046           10   \n",
       "1      1008141237         2280   \n",
       "2       938777978           50   \n",
       "3       457047496         1280   \n",
       "4      1077757786         2705   \n",
       "...           ...          ...   \n",
       "84911   941495734           40   \n",
       "84912  1188462883         2583   \n",
       "84913  1009325617         2280   \n",
       "84914  1267353403         1560   \n",
       "84915   684671297         2522   \n",
       "\n",
       "                                             imagePath  \n",
       "0      resized_image_1263597046_product_3804725264.jpg  \n",
       "1       resized_image_1008141237_product_436067568.jpg  \n",
       "2        resized_image_938777978_product_201115110.jpg  \n",
       "3         resized_image_457047496_product_50418756.jpg  \n",
       "4       resized_image_1077757786_product_278535884.jpg  \n",
       "...                                                ...  \n",
       "84911    resized_image_941495734_product_206719094.jpg  \n",
       "84912  resized_image_1188462883_product_3065095706.jpg  \n",
       "84913   resized_image_1009325617_product_440707564.jpg  \n",
       "84914  resized_image_1267353403_product_3942400296.jpg  \n",
       "84915     resized_image_684671297_product_57203227.jpg  \n",
       "\n",
       "[84916 rows x 6 columns]"
      ]
     },
     "execution_count": 3,
     "metadata": {},
     "output_type": "execute_result"
    }
   ],
   "source": [
    "df_train_im"
   ]
  },
  {
   "cell_type": "code",
   "execution_count": 4,
   "id": "d43d8189",
   "metadata": {
    "colab": {
     "base_uri": "https://localhost:8080/",
     "height": 34
    },
    "executionInfo": {
     "elapsed": 365,
     "status": "ok",
     "timestamp": 1633375281687,
     "user": {
      "displayName": "Mourad Mecheri",
      "photoUrl": "https://lh3.googleusercontent.com/a/default-user=s64",
      "userId": "08453845245011476141"
     },
     "user_tz": -120
    },
    "id": "d43d8189",
    "outputId": "cd6e3476-38e6-487b-9f0f-e2ed5db1538f"
   },
   "outputs": [
    {
     "data": {
      "text/plain": [
       "(84916, 6)"
      ]
     },
     "metadata": {},
     "output_type": "display_data"
    }
   ],
   "source": [
    "display(df_train_im.shape)"
   ]
  },
  {
   "cell_type": "markdown",
   "id": "5a2a0389-a05a-468c-981f-7bb060e0a018",
   "metadata": {},
   "source": [
    "***Create Dataframe containing  product classes and their associated labels***"
   ]
  },
  {
   "cell_type": "code",
   "execution_count": 5,
   "id": "409045cd",
   "metadata": {},
   "outputs": [
    {
     "data": {
      "text/html": [
       "<div>\n",
       "<style scoped>\n",
       "    .dataframe tbody tr th:only-of-type {\n",
       "        vertical-align: middle;\n",
       "    }\n",
       "\n",
       "    .dataframe tbody tr th {\n",
       "        vertical-align: top;\n",
       "    }\n",
       "\n",
       "    .dataframe thead th {\n",
       "        text-align: right;\n",
       "    }\n",
       "</style>\n",
       "<table border=\"1\" class=\"dataframe\">\n",
       "  <thead>\n",
       "    <tr style=\"text-align: right;\">\n",
       "      <th></th>\n",
       "      <th>prdtypecode</th>\n",
       "      <th>Label</th>\n",
       "    </tr>\n",
       "  </thead>\n",
       "  <tbody>\n",
       "    <tr>\n",
       "      <th>0</th>\n",
       "      <td>50</td>\n",
       "      <td>video games accessories</td>\n",
       "    </tr>\n",
       "    <tr>\n",
       "      <th>1</th>\n",
       "      <td>2705</td>\n",
       "      <td>books</td>\n",
       "    </tr>\n",
       "    <tr>\n",
       "      <th>2</th>\n",
       "      <td>2522</td>\n",
       "      <td>stationery</td>\n",
       "    </tr>\n",
       "    <tr>\n",
       "      <th>3</th>\n",
       "      <td>2582</td>\n",
       "      <td>kitchen and garden</td>\n",
       "    </tr>\n",
       "    <tr>\n",
       "      <th>4</th>\n",
       "      <td>1560</td>\n",
       "      <td>interior furniture and bedding</td>\n",
       "    </tr>\n",
       "    <tr>\n",
       "      <th>5</th>\n",
       "      <td>1281</td>\n",
       "      <td>board games</td>\n",
       "    </tr>\n",
       "    <tr>\n",
       "      <th>6</th>\n",
       "      <td>1920</td>\n",
       "      <td>interior accessories</td>\n",
       "    </tr>\n",
       "    <tr>\n",
       "      <th>7</th>\n",
       "      <td>1280</td>\n",
       "      <td>toys for children</td>\n",
       "    </tr>\n",
       "    <tr>\n",
       "      <th>8</th>\n",
       "      <td>1140</td>\n",
       "      <td>goodies</td>\n",
       "    </tr>\n",
       "    <tr>\n",
       "      <th>9</th>\n",
       "      <td>1300</td>\n",
       "      <td>remote controlled models</td>\n",
       "    </tr>\n",
       "    <tr>\n",
       "      <th>10</th>\n",
       "      <td>2060</td>\n",
       "      <td>decoration interior</td>\n",
       "    </tr>\n",
       "    <tr>\n",
       "      <th>11</th>\n",
       "      <td>2583</td>\n",
       "      <td>piscine spa</td>\n",
       "    </tr>\n",
       "    <tr>\n",
       "      <th>12</th>\n",
       "      <td>60</td>\n",
       "      <td>games and consoles</td>\n",
       "    </tr>\n",
       "    <tr>\n",
       "      <th>13</th>\n",
       "      <td>1320</td>\n",
       "      <td>early childhood</td>\n",
       "    </tr>\n",
       "    <tr>\n",
       "      <th>14</th>\n",
       "      <td>2280</td>\n",
       "      <td>magazines</td>\n",
       "    </tr>\n",
       "    <tr>\n",
       "      <th>15</th>\n",
       "      <td>1302</td>\n",
       "      <td>kids toys</td>\n",
       "    </tr>\n",
       "    <tr>\n",
       "      <th>16</th>\n",
       "      <td>2220</td>\n",
       "      <td>supplies for domestic animals</td>\n",
       "    </tr>\n",
       "    <tr>\n",
       "      <th>17</th>\n",
       "      <td>40</td>\n",
       "      <td>imported video games</td>\n",
       "    </tr>\n",
       "    <tr>\n",
       "      <th>18</th>\n",
       "      <td>2905</td>\n",
       "      <td>online distribution of video games</td>\n",
       "    </tr>\n",
       "    <tr>\n",
       "      <th>19</th>\n",
       "      <td>2585</td>\n",
       "      <td>gardening and DIY</td>\n",
       "    </tr>\n",
       "    <tr>\n",
       "      <th>20</th>\n",
       "      <td>1940</td>\n",
       "      <td>Food</td>\n",
       "    </tr>\n",
       "    <tr>\n",
       "      <th>21</th>\n",
       "      <td>1160</td>\n",
       "      <td>playing cards</td>\n",
       "    </tr>\n",
       "    <tr>\n",
       "      <th>22</th>\n",
       "      <td>1301</td>\n",
       "      <td>accessories children</td>\n",
       "    </tr>\n",
       "    <tr>\n",
       "      <th>23</th>\n",
       "      <td>10</td>\n",
       "      <td>adult books</td>\n",
       "    </tr>\n",
       "    <tr>\n",
       "      <th>24</th>\n",
       "      <td>1180</td>\n",
       "      <td>figurines_wargames</td>\n",
       "    </tr>\n",
       "    <tr>\n",
       "      <th>25</th>\n",
       "      <td>2403</td>\n",
       "      <td>children books</td>\n",
       "    </tr>\n",
       "    <tr>\n",
       "      <th>26</th>\n",
       "      <td>2462</td>\n",
       "      <td>games</td>\n",
       "    </tr>\n",
       "  </tbody>\n",
       "</table>\n",
       "</div>"
      ],
      "text/plain": [
       "    prdtypecode                               Label\n",
       "0            50             video games accessories\n",
       "1          2705                               books\n",
       "2          2522                          stationery\n",
       "3          2582                  kitchen and garden\n",
       "4          1560      interior furniture and bedding\n",
       "5          1281                         board games\n",
       "6          1920                interior accessories\n",
       "7          1280                   toys for children\n",
       "8          1140                             goodies\n",
       "9          1300            remote controlled models\n",
       "10         2060                 decoration interior\n",
       "11         2583                         piscine spa\n",
       "12           60                  games and consoles\n",
       "13         1320                     early childhood\n",
       "14         2280                           magazines\n",
       "15         1302                           kids toys\n",
       "16         2220       supplies for domestic animals\n",
       "17           40                imported video games\n",
       "18         2905  online distribution of video games\n",
       "19         2585                   gardening and DIY\n",
       "20         1940                                Food\n",
       "21         1160                       playing cards\n",
       "22         1301                accessories children\n",
       "23           10                         adult books\n",
       "24         1180                  figurines_wargames\n",
       "25         2403                      children books\n",
       "26         2462                               games"
      ]
     },
     "execution_count": 5,
     "metadata": {},
     "output_type": "execute_result"
    }
   ],
   "source": [
    "#Dictionary of prdtypecode and their corresponding categories\n",
    "dict_prdtypecode = {\"prdtypecode\" : [50, 2705, 2522, 2582, 1560, 1281, 1920, 1280, 1140, 1300, 2060, 2583,\n",
    "                                     60, 1320, 2280, 1302, 2220, 40, 2905, 2585, 1940, 1160, 1301, 10, 1180,\n",
    "                                     2403, 2462],                 \n",
    "            \n",
    "                    \"Label\" : [\"video games accessories\", \"books\", \"stationery\", \"kitchen and garden\", \n",
    "                               \"interior furniture and bedding\", \"board games\", \"interior accessories\",\n",
    "                               \"toys for children\",\"goodies\", \"remote controlled models\", \"decoration interior\",\n",
    "                               \"piscine spa\",\"games and consoles\", \"early childhood\", \"magazines\", \"kids toys\",\n",
    "                               \"supplies for domestic animals\", \"imported video games\", \"online distribution of video games\",\n",
    "                               \"gardening and DIY\",\"Food\",\"playing cards\", \"accessories children\", \"adult books\",\n",
    "                               \"figurines_wargames\", \"children books\",\n",
    "                                \"games\"]\n",
    "                   }\n",
    "df_class = pd.DataFrame(data=dict_prdtypecode)\n",
    "df_class"
   ]
  },
  {
   "cell_type": "code",
   "execution_count": 6,
   "id": "eb145fc7",
   "metadata": {},
   "outputs": [
    {
     "data": {
      "text/html": [
       "<div>\n",
       "<style scoped>\n",
       "    .dataframe tbody tr th:only-of-type {\n",
       "        vertical-align: middle;\n",
       "    }\n",
       "\n",
       "    .dataframe tbody tr th {\n",
       "        vertical-align: top;\n",
       "    }\n",
       "\n",
       "    .dataframe thead th {\n",
       "        text-align: right;\n",
       "    }\n",
       "</style>\n",
       "<table border=\"1\" class=\"dataframe\">\n",
       "  <thead>\n",
       "    <tr style=\"text-align: right;\">\n",
       "      <th></th>\n",
       "      <th>prdtypecode</th>\n",
       "      <th>Label</th>\n",
       "      <th>target_prdtypecode</th>\n",
       "    </tr>\n",
       "  </thead>\n",
       "  <tbody>\n",
       "    <tr>\n",
       "      <th>23</th>\n",
       "      <td>10</td>\n",
       "      <td>adult books</td>\n",
       "      <td>0</td>\n",
       "    </tr>\n",
       "    <tr>\n",
       "      <th>17</th>\n",
       "      <td>40</td>\n",
       "      <td>imported video games</td>\n",
       "      <td>1</td>\n",
       "    </tr>\n",
       "    <tr>\n",
       "      <th>0</th>\n",
       "      <td>50</td>\n",
       "      <td>video games accessories</td>\n",
       "      <td>2</td>\n",
       "    </tr>\n",
       "    <tr>\n",
       "      <th>12</th>\n",
       "      <td>60</td>\n",
       "      <td>games and consoles</td>\n",
       "      <td>3</td>\n",
       "    </tr>\n",
       "    <tr>\n",
       "      <th>8</th>\n",
       "      <td>1140</td>\n",
       "      <td>goodies</td>\n",
       "      <td>4</td>\n",
       "    </tr>\n",
       "    <tr>\n",
       "      <th>21</th>\n",
       "      <td>1160</td>\n",
       "      <td>playing cards</td>\n",
       "      <td>5</td>\n",
       "    </tr>\n",
       "    <tr>\n",
       "      <th>24</th>\n",
       "      <td>1180</td>\n",
       "      <td>figurines_wargames</td>\n",
       "      <td>6</td>\n",
       "    </tr>\n",
       "    <tr>\n",
       "      <th>7</th>\n",
       "      <td>1280</td>\n",
       "      <td>toys for children</td>\n",
       "      <td>7</td>\n",
       "    </tr>\n",
       "    <tr>\n",
       "      <th>5</th>\n",
       "      <td>1281</td>\n",
       "      <td>board games</td>\n",
       "      <td>8</td>\n",
       "    </tr>\n",
       "    <tr>\n",
       "      <th>9</th>\n",
       "      <td>1300</td>\n",
       "      <td>remote controlled models</td>\n",
       "      <td>9</td>\n",
       "    </tr>\n",
       "    <tr>\n",
       "      <th>22</th>\n",
       "      <td>1301</td>\n",
       "      <td>accessories children</td>\n",
       "      <td>10</td>\n",
       "    </tr>\n",
       "    <tr>\n",
       "      <th>15</th>\n",
       "      <td>1302</td>\n",
       "      <td>kids toys</td>\n",
       "      <td>11</td>\n",
       "    </tr>\n",
       "    <tr>\n",
       "      <th>13</th>\n",
       "      <td>1320</td>\n",
       "      <td>early childhood</td>\n",
       "      <td>12</td>\n",
       "    </tr>\n",
       "    <tr>\n",
       "      <th>4</th>\n",
       "      <td>1560</td>\n",
       "      <td>interior furniture and bedding</td>\n",
       "      <td>13</td>\n",
       "    </tr>\n",
       "    <tr>\n",
       "      <th>6</th>\n",
       "      <td>1920</td>\n",
       "      <td>interior accessories</td>\n",
       "      <td>14</td>\n",
       "    </tr>\n",
       "    <tr>\n",
       "      <th>20</th>\n",
       "      <td>1940</td>\n",
       "      <td>Food</td>\n",
       "      <td>15</td>\n",
       "    </tr>\n",
       "    <tr>\n",
       "      <th>10</th>\n",
       "      <td>2060</td>\n",
       "      <td>decoration interior</td>\n",
       "      <td>16</td>\n",
       "    </tr>\n",
       "    <tr>\n",
       "      <th>16</th>\n",
       "      <td>2220</td>\n",
       "      <td>supplies for domestic animals</td>\n",
       "      <td>17</td>\n",
       "    </tr>\n",
       "    <tr>\n",
       "      <th>14</th>\n",
       "      <td>2280</td>\n",
       "      <td>magazines</td>\n",
       "      <td>18</td>\n",
       "    </tr>\n",
       "    <tr>\n",
       "      <th>25</th>\n",
       "      <td>2403</td>\n",
       "      <td>children books</td>\n",
       "      <td>19</td>\n",
       "    </tr>\n",
       "    <tr>\n",
       "      <th>26</th>\n",
       "      <td>2462</td>\n",
       "      <td>games</td>\n",
       "      <td>20</td>\n",
       "    </tr>\n",
       "    <tr>\n",
       "      <th>2</th>\n",
       "      <td>2522</td>\n",
       "      <td>stationery</td>\n",
       "      <td>21</td>\n",
       "    </tr>\n",
       "    <tr>\n",
       "      <th>3</th>\n",
       "      <td>2582</td>\n",
       "      <td>kitchen and garden</td>\n",
       "      <td>22</td>\n",
       "    </tr>\n",
       "    <tr>\n",
       "      <th>11</th>\n",
       "      <td>2583</td>\n",
       "      <td>piscine spa</td>\n",
       "      <td>23</td>\n",
       "    </tr>\n",
       "    <tr>\n",
       "      <th>19</th>\n",
       "      <td>2585</td>\n",
       "      <td>gardening and DIY</td>\n",
       "      <td>24</td>\n",
       "    </tr>\n",
       "    <tr>\n",
       "      <th>1</th>\n",
       "      <td>2705</td>\n",
       "      <td>books</td>\n",
       "      <td>25</td>\n",
       "    </tr>\n",
       "    <tr>\n",
       "      <th>18</th>\n",
       "      <td>2905</td>\n",
       "      <td>online distribution of video games</td>\n",
       "      <td>26</td>\n",
       "    </tr>\n",
       "  </tbody>\n",
       "</table>\n",
       "</div>"
      ],
      "text/plain": [
       "    prdtypecode                               Label  target_prdtypecode\n",
       "23           10                         adult books                   0\n",
       "17           40                imported video games                   1\n",
       "0            50             video games accessories                   2\n",
       "12           60                  games and consoles                   3\n",
       "8          1140                             goodies                   4\n",
       "21         1160                       playing cards                   5\n",
       "24         1180                  figurines_wargames                   6\n",
       "7          1280                   toys for children                   7\n",
       "5          1281                         board games                   8\n",
       "9          1300            remote controlled models                   9\n",
       "22         1301                accessories children                  10\n",
       "15         1302                           kids toys                  11\n",
       "13         1320                     early childhood                  12\n",
       "4          1560      interior furniture and bedding                  13\n",
       "6          1920                interior accessories                  14\n",
       "20         1940                                Food                  15\n",
       "10         2060                 decoration interior                  16\n",
       "16         2220       supplies for domestic animals                  17\n",
       "14         2280                           magazines                  18\n",
       "25         2403                      children books                  19\n",
       "26         2462                               games                  20\n",
       "2          2522                          stationery                  21\n",
       "3          2582                  kitchen and garden                  22\n",
       "11         2583                         piscine spa                  23\n",
       "19         2585                   gardening and DIY                  24\n",
       "1          2705                               books                  25\n",
       "18         2905  online distribution of video games                  26"
      ]
     },
     "execution_count": 6,
     "metadata": {},
     "output_type": "execute_result"
    }
   ],
   "source": [
    "# Crate DF containing prdtypecode , categories and corresponding class used by model\n",
    "df_class = df_class.sort_values(by = 'prdtypecode', ascending = True)\n",
    "df_class['target_prdtypecode'] = [i for i in range(27)]\n",
    "df_class"
   ]
  },
  {
   "cell_type": "markdown",
   "id": "cb4bd64a",
   "metadata": {
    "id": "cb4bd64a"
   },
   "source": [
    "***Change the 27 product codes to 0 to 26***"
   ]
  },
  {
   "cell_type": "code",
   "execution_count": 7,
   "id": "719237a0",
   "metadata": {
    "colab": {
     "base_uri": "https://localhost:8080/"
    },
    "executionInfo": {
     "elapsed": 174,
     "status": "ok",
     "timestamp": 1634378607014,
     "user": {
      "displayName": "Mourad Mecheri",
      "photoUrl": "https://lh3.googleusercontent.com/a/default-user=s64",
      "userId": "08453845245011476141"
     },
     "user_tz": -120
    },
    "id": "719237a0",
    "outputId": "07fdc79a-e32c-400c-9027-0449ef25eb24"
   },
   "outputs": [],
   "source": [
    "df_train_im.replace({'prdtypecode':{10:0,\n",
    "                                    40:1,\n",
    "                                    50:2,\n",
    "                                    60:3,\n",
    "                                    1140:4,\n",
    "                                    1160:5,\n",
    "                                    1180:6,\n",
    "                                    1280:7,\n",
    "                                    1281:8,\n",
    "                                    1300:9                                    \n",
    "                                    }}, inplace = True)\n",
    "\n",
    "df_train_im.replace({'prdtypecode':{1301:10,\n",
    "                                    1302:11,\n",
    "                                    1320:12,\n",
    "                                    1560:13,\n",
    "                                    1920:14,\n",
    "                                    1940:15,\n",
    "                                    2060:16,\n",
    "                                    2220:17,\n",
    "                                    2280:18,\n",
    "                                    2403:19,\n",
    "                                    2462:20,\n",
    "                                    2522:21,\n",
    "                                    2582:22,\n",
    "                                    2583:23,\n",
    "                                    2585:24,\n",
    "                                    2705:25,\n",
    "                                    2905:26\n",
    "                                    }}, inplace = True)"
   ]
  },
  {
   "cell_type": "code",
   "execution_count": 8,
   "id": "87efd019",
   "metadata": {
    "colab": {
     "base_uri": "https://localhost:8080/",
     "height": 51
    },
    "executionInfo": {
     "elapsed": 209,
     "status": "ok",
     "timestamp": 1634378610252,
     "user": {
      "displayName": "Mourad Mecheri",
      "photoUrl": "https://lh3.googleusercontent.com/a/default-user=s64",
      "userId": "08453845245011476141"
     },
     "user_tz": -120
    },
    "id": "87efd019",
    "outputId": "02d9ecb6-3f5d-4aa8-ba98-36c3fb00b61e"
   },
   "outputs": [
    {
     "data": {
      "text/plain": [
       "array([ 0, 18,  2,  7, 25, 21, 22, 13,  8, 14, 19,  4, 23,  6,  9, 20,  5,\n",
       "       16,  1,  3, 12, 11, 17, 26, 24, 15, 10], dtype=int64)"
      ]
     },
     "metadata": {},
     "output_type": "display_data"
    }
   ],
   "source": [
    "display(df_train_im[\"prdtypecode\"].unique())"
   ]
  },
  {
   "cell_type": "markdown",
   "id": "e1f39afc-d5e6-4fc1-a2da-8225a2ab140a",
   "metadata": {},
   "source": [
    " ***Convert product code to string type***"
   ]
  },
  {
   "cell_type": "code",
   "execution_count": 9,
   "id": "c51aaaf0-f4b3-4d71-9806-c72ab7c75657",
   "metadata": {},
   "outputs": [],
   "source": [
    "df_train_im[\"prdtypecode\"] = df_train_im[\"prdtypecode\"].astype(str)"
   ]
  },
  {
   "cell_type": "code",
   "execution_count": 10,
   "id": "55e12af1",
   "metadata": {
    "colab": {
     "base_uri": "https://localhost:8080/",
     "height": 572
    },
    "executionInfo": {
     "elapsed": 199,
     "status": "ok",
     "timestamp": 1634378613548,
     "user": {
      "displayName": "Mourad Mecheri",
      "photoUrl": "https://lh3.googleusercontent.com/a/default-user=s64",
      "userId": "08453845245011476141"
     },
     "user_tz": -120
    },
    "id": "55e12af1",
    "outputId": "99ab9d62-4665-4b85-8e28-97f573ed0ddc"
   },
   "outputs": [
    {
     "data": {
      "text/plain": [
       "{'0': 3116,\n",
       " '1': 2508,\n",
       " '10': 807,\n",
       " '11': 2491,\n",
       " '12': 3241,\n",
       " '13': 5073,\n",
       " '14': 4303,\n",
       " '15': 803,\n",
       " '16': 4993,\n",
       " '17': 824,\n",
       " '18': 4760,\n",
       " '19': 4774,\n",
       " '2': 1681,\n",
       " '20': 1421,\n",
       " '21': 4989,\n",
       " '22': 2589,\n",
       " '23': 10209,\n",
       " '24': 2496,\n",
       " '25': 2761,\n",
       " '26': 872,\n",
       " '3': 832,\n",
       " '4': 2671,\n",
       " '5': 3953,\n",
       " '6': 764,\n",
       " '7': 4870,\n",
       " '8': 2070,\n",
       " '9': 5045}"
      ]
     },
     "execution_count": 10,
     "metadata": {},
     "output_type": "execute_result"
    }
   ],
   "source": [
    "unique, counts = np.unique(df_train_im[\"prdtypecode\"], return_counts=True)\n",
    "dict(zip(unique, counts))"
   ]
  },
  {
   "cell_type": "markdown",
   "id": "b38c105e",
   "metadata": {
    "id": "b38c105e"
   },
   "source": [
    " ***Split Train Set***"
   ]
  },
  {
   "cell_type": "code",
   "execution_count": 11,
   "id": "1874a9b3",
   "metadata": {
    "executionInfo": {
     "elapsed": 195,
     "status": "ok",
     "timestamp": 1634380006273,
     "user": {
      "displayName": "Mourad Mecheri",
      "photoUrl": "https://lh3.googleusercontent.com/a/default-user=s64",
      "userId": "08453845245011476141"
     },
     "user_tz": -120
    },
    "id": "1874a9b3"
   },
   "outputs": [],
   "source": [
    "# Split Train set \n",
    "X_train_im, X_test_im = train_test_split(df_train_im, train_size=0.8, random_state=1234)"
   ]
  },
  {
   "cell_type": "code",
   "execution_count": 12,
   "id": "6bf6f3cc",
   "metadata": {
    "colab": {
     "base_uri": "https://localhost:8080/",
     "height": 51
    },
    "executionInfo": {
     "elapsed": 178,
     "status": "ok",
     "timestamp": 1634380010322,
     "user": {
      "displayName": "Mourad Mecheri",
      "photoUrl": "https://lh3.googleusercontent.com/a/default-user=s64",
      "userId": "08453845245011476141"
     },
     "user_tz": -120
    },
    "id": "6bf6f3cc",
    "outputId": "817ddff9-4f5b-418e-e9c9-bce75d5c6430"
   },
   "outputs": [
    {
     "data": {
      "text/plain": [
       "(67932, 6)"
      ]
     },
     "metadata": {},
     "output_type": "display_data"
    },
    {
     "data": {
      "text/plain": [
       "(16984, 6)"
      ]
     },
     "metadata": {},
     "output_type": "display_data"
    }
   ],
   "source": [
    "display(X_train_im.shape)\n",
    "display(X_test_im.shape)"
   ]
  },
  {
   "cell_type": "markdown",
   "id": "0dc304a2",
   "metadata": {
    "id": "0dc304a2"
   },
   "source": [
    "***Data Generator***"
   ]
  },
  {
   "cell_type": "code",
   "execution_count": 13,
   "id": "3cf7aaf0",
   "metadata": {},
   "outputs": [],
   "source": [
    "img_rows = 224\n",
    "img_cols = 224\n",
    "batch_size = 64\n",
    "epochs = 50\n",
    "images_dir_train = './data/images/all/image_train_resized/'\n",
    "#images_dir_test = './data/images/all/image_test_resized/'"
   ]
  },
  {
   "cell_type": "code",
   "execution_count": 14,
   "id": "37985788",
   "metadata": {},
   "outputs": [
    {
     "name": "stdout",
     "output_type": "stream",
     "text": [
      "Wall time: 0 ns\n"
     ]
    }
   ],
   "source": [
    "%%time\n",
    "#Générateur de données\n",
    "train_datagen = ImageDataGenerator(rescale = 1/255,\n",
    "                                  shear_range=0.2,\n",
    "                                  rotation_range = 45,\n",
    "                                  width_shift_range = 0.1,\n",
    "                                  height_shift_range = 0.1,\n",
    "                                  zoom_range = 0.2,\n",
    "                                  horizontal_flip = True,\n",
    "                                  vertical_flip = True\n",
    "                                  #validation_split = 0.2\n",
    "                                  )"
   ]
  },
  {
   "cell_type": "code",
   "execution_count": 15,
   "id": "491a5ab9",
   "metadata": {},
   "outputs": [
    {
     "name": "stdout",
     "output_type": "stream",
     "text": [
      "Wall time: 0 ns\n"
     ]
    }
   ],
   "source": [
    "%%time\n",
    "valid_datagen = ImageDataGenerator(rescale=1./255)"
   ]
  },
  {
   "cell_type": "code",
   "execution_count": 16,
   "id": "54cd2cf6",
   "metadata": {},
   "outputs": [
    {
     "name": "stdout",
     "output_type": "stream",
     "text": [
      "Found 67932 validated image filenames belonging to 27 classes.\n",
      "Wall time: 7.59 s\n"
     ]
    }
   ],
   "source": [
    "%%time\n",
    "\n",
    "#Itérateur \n",
    "train_generator = train_datagen.flow_from_dataframe(dataframe = X_train_im,\n",
    "                                              directory = images_dir_train,\n",
    "                                              as_ext = True,\n",
    "                                              x_col = 'imagePath',\n",
    "                                              y_col = 'prdtypecode',  #target data                                            \n",
    "                                              class_mode = 'sparse',                                             \n",
    "                                              target_size = (img_rows , img_cols), # default 256 x 256                                             \n",
    "                                              batch_size = batch_size,                                             \n",
    "                                              shuffle = True  # défault\n",
    "                                              #subset = 'training'\n",
    "                                             )"
   ]
  },
  {
   "cell_type": "code",
   "execution_count": 17,
   "id": "97b80ae7",
   "metadata": {},
   "outputs": [
    {
     "name": "stdout",
     "output_type": "stream",
     "text": [
      "Found 16984 validated image filenames belonging to 27 classes.\n",
      "Wall time: 1.5 s\n"
     ]
    }
   ],
   "source": [
    "%%time\n",
    "# validation_split the validation batches ca be retrieved by specifying the subset as validation.\n",
    "valid_generator = valid_datagen.flow_from_dataframe(dataframe = X_test_im, \n",
    "                                              directory = images_dir_train,\n",
    "                                              as_ext = True,\n",
    "                                              x_col = 'imagePath',\n",
    "                                              y_col = 'prdtypecode',  #target data                                            \n",
    "                                              class_mode = 'sparse',                                        \n",
    "                                              target_size = (img_rows , img_cols), # default 256 x 256                                         \n",
    "                                              batch_size = batch_size, \n",
    "                                              shuffle = False\n",
    "                                              #subset  = 'validation'\n",
    "                                             )"
   ]
  },
  {
   "cell_type": "markdown",
   "id": "3241b27e",
   "metadata": {
    "id": "3241b27e"
   },
   "source": [
    " ***VGG16 Implementation - with fine tuning***"
   ]
  },
  {
   "cell_type": "code",
   "execution_count": 18,
   "id": "1a56928f",
   "metadata": {
    "colab": {
     "base_uri": "https://localhost:8080/"
    },
    "executionInfo": {
     "elapsed": 6752,
     "status": "ok",
     "timestamp": 1634380551756,
     "user": {
      "displayName": "Mourad Mecheri",
      "photoUrl": "https://lh3.googleusercontent.com/a/default-user=s64",
      "userId": "08453845245011476141"
     },
     "user_tz": -120
    },
    "id": "1a56928f",
    "outputId": "fefdf3b7-8985-4a6f-e8c4-c6d8c07edbaa"
   },
   "outputs": [
    {
     "name": "stdout",
     "output_type": "stream",
     "text": [
      "Wall time: 1.6 s\n"
     ]
    }
   ],
   "source": [
    "%%time\n",
    "# Freez des chouche pré_entrainées d'Extraction de Features\n",
    "base_model = VGG16(weights='imagenet', include_top = False, input_shape = (img_rows,img_rows,3))\n",
    "for layer in base_model.layers:\n",
    "    layer.trainable = False"
   ]
  },
  {
   "cell_type": "markdown",
   "id": "0a597ae5",
   "metadata": {},
   "source": [
    "***Unfreeze the last 8 layers of the base_model***"
   ]
  },
  {
   "cell_type": "code",
   "execution_count": 19,
   "id": "72c47ba9",
   "metadata": {},
   "outputs": [],
   "source": [
    "for layer in base_model.layers[-8:]:\n",
    "    layer.trainable = True"
   ]
  },
  {
   "cell_type": "code",
   "execution_count": 20,
   "id": "9af04c84",
   "metadata": {
    "colab": {
     "base_uri": "https://localhost:8080/"
    },
    "executionInfo": {
     "elapsed": 191,
     "status": "ok",
     "timestamp": 1634380559405,
     "user": {
      "displayName": "Mourad Mecheri",
      "photoUrl": "https://lh3.googleusercontent.com/a/default-user=s64",
      "userId": "08453845245011476141"
     },
     "user_tz": -120
    },
    "id": "9af04c84",
    "outputId": "fe055232-63a9-4d00-b07f-4ba7464f4544"
   },
   "outputs": [
    {
     "name": "stdout",
     "output_type": "stream",
     "text": [
      "Model: \"sequential\"\n",
      "_________________________________________________________________\n",
      "Layer (type)                 Output Shape              Param #   \n",
      "=================================================================\n",
      "vgg16 (Functional)           (None, 7, 7, 512)         14714688  \n",
      "_________________________________________________________________\n",
      "global_average_pooling2d (Gl (None, 512)               0         \n",
      "_________________________________________________________________\n",
      "dense (Dense)                (None, 1024)              525312    \n",
      "_________________________________________________________________\n",
      "dropout (Dropout)            (None, 1024)              0         \n",
      "_________________________________________________________________\n",
      "dense_1 (Dense)              (None, 512)               524800    \n",
      "_________________________________________________________________\n",
      "dropout_1 (Dropout)          (None, 512)               0         \n",
      "_________________________________________________________________\n",
      "dense_2 (Dense)              (None, 27)                13851     \n",
      "=================================================================\n",
      "Total params: 15,778,651\n",
      "Trainable params: 14,043,163\n",
      "Non-trainable params: 1,735,488\n",
      "_________________________________________________________________\n"
     ]
    }
   ],
   "source": [
    "# Architecture VGG16\n",
    "model = Sequential()\n",
    "\n",
    "# Ajout du modèle VGG16\n",
    "model.add(base_model) \n",
    "\n",
    "# Ajout des couche de classification\n",
    "model.add(GlobalAveragePooling2D()) \n",
    "model.add(Dense(units = 1024,activation='relu'))\n",
    "\n",
    "model.add(Dropout(rate = 0.2))\n",
    "model.add(Dense(units = 512, activation='relu'))\n",
    "\n",
    "model.add(Dropout(rate = 0.2))\n",
    "model.add(Dense(units = 27, activation='softmax'))\n",
    "\n",
    "model.summary()"
   ]
  },
  {
   "cell_type": "code",
   "execution_count": null,
   "id": "8c6bd101",
   "metadata": {},
   "outputs": [],
   "source": [
    "#for layer in model.layers:\n",
    " #   print(layer.name, \"  \" , layer.trainable)"
   ]
  },
  {
   "cell_type": "code",
   "execution_count": 21,
   "id": "b25d9dd7",
   "metadata": {},
   "outputs": [
    {
     "name": "stdout",
     "output_type": "stream",
     "text": [
      "[INFO] VGG16 base model length :   19\n",
      "[INFO] Constructed model length :  7\n",
      "\n",
      "Last the last ten layers base model - VGG16: \n",
      " \n",
      "                  block3_conv3    False\n",
      "                  block3_pool    False\n",
      "                  block4_conv1    True\n",
      "                  block4_conv2    True\n",
      "                  block4_conv3    True\n",
      "                  block4_pool    True\n",
      "                  block5_conv1    True\n",
      "                  block5_conv2    True\n",
      "                  block5_conv3    True\n",
      "                  block5_pool    True\n",
      "\n",
      " Layers of built model: \n",
      "\n",
      "                  vgg16    True\n",
      "                  global_average_pooling2d    True\n",
      "                  dense    True\n",
      "                  dropout    True\n",
      "                  dense_1    True\n",
      "                  dropout_1    True\n",
      "                  dense_2    True\n"
     ]
    }
   ],
   "source": [
    "print(\"[INFO] VGG16 base model length :  \", len(base_model.layers))\n",
    "print(\"[INFO] Constructed model length : \", len(model.layers))\n",
    "\n",
    "print('\\nLast the last ten layers base model - VGG16: \\n ')  \n",
    "for layer in base_model.layers[-10:]:\n",
    "    print(\"                 \", layer.name, \"  \" , layer.trainable)\n",
    "    \n",
    "print('\\n Layers of built model: \\n')  \n",
    "for layer in model.layers:\n",
    "    print(\"                 \", layer.name, \"  \" , layer.trainable)"
   ]
  },
  {
   "cell_type": "markdown",
   "id": "650c8075",
   "metadata": {
    "id": "650c8075"
   },
   "source": [
    "***Callbacks***"
   ]
  },
  {
   "cell_type": "code",
   "execution_count": 22,
   "id": "cd04edfd",
   "metadata": {
    "colab": {
     "base_uri": "https://localhost:8080/"
    },
    "executionInfo": {
     "elapsed": 180,
     "status": "ok",
     "timestamp": 1634380599536,
     "user": {
      "displayName": "Mourad Mecheri",
      "photoUrl": "https://lh3.googleusercontent.com/a/default-user=s64",
      "userId": "08453845245011476141"
     },
     "user_tz": -120
    },
    "id": "cd04edfd",
    "outputId": "f49f76a3-cc19-496a-faac-b3db9e7a8579"
   },
   "outputs": [
    {
     "name": "stdout",
     "output_type": "stream",
     "text": [
      "Wall time: 0 ns\n"
     ]
    }
   ],
   "source": [
    "%%time\n",
    "path = './saves/VGG16/Iteration_4_2/'\n",
    "file_name = 'checkpoint_VGG16_09122021-50Epochs.h5'\n",
    "\n",
    "#Sauvegarder les meilleurs poids du modèle au cours de l'entraînement :\n",
    "checkpoint = ModelCheckpoint(filepath = path + file_name , \n",
    "                             monitor ='val_accuracy',\n",
    "                             verbose = 1,\n",
    "                             save_best_only = True, # (pour que le meilleur modèle ne soit pas écrasé)\n",
    "                             save_weights_only = False,\n",
    "                             mode ='max', #(permet de préciser si la métrique doit croître ou décroitre : ici on choisit 'min'\n",
    "                                           #car la métrique est une perte à minimiser)\n",
    "                             save_freq='epoch')\n",
    "#Arrêter l'entraînement si le modèle n'évolue plus (très pratique pour ne pas gérer le\n",
    "#nombre d'epoch) :\n",
    "early = EarlyStopping(monitor='val_loss',\n",
    "                      min_delta = 0,\n",
    "                      patience = 10, #(nombre d'epochs à attendre avant d'arrêter l'entraînement\n",
    "                      restore_best_weights = True,\n",
    "                      verbose = 1,\n",
    "                      mode = 'min')\n",
    "\n",
    "#Réduire automatiquement le learning rate :\n",
    "lr_plateau = ReduceLROnPlateau(monitor = 'val_loss',\n",
    "                               patience = 10,\n",
    "                               verbose = 1,\n",
    "                                mode='min'\n",
    "                               )"
   ]
  },
  {
   "cell_type": "markdown",
   "id": "63ae829d",
   "metadata": {
    "id": "63ae829d"
   },
   "source": [
    " ***Model Compilation***"
   ]
  },
  {
   "cell_type": "code",
   "execution_count": 23,
   "id": "03b94ced",
   "metadata": {
    "colab": {
     "base_uri": "https://localhost:8080/"
    },
    "executionInfo": {
     "elapsed": 197,
     "status": "ok",
     "timestamp": 1634380606266,
     "user": {
      "displayName": "Mourad Mecheri",
      "photoUrl": "https://lh3.googleusercontent.com/a/default-user=s64",
      "userId": "08453845245011476141"
     },
     "user_tz": -120
    },
    "id": "03b94ced",
    "outputId": "3bef4dd4-2c2d-4773-b132-5b9f6d24dfe9"
   },
   "outputs": [
    {
     "name": "stdout",
     "output_type": "stream",
     "text": [
      "Wall time: 5.98 ms\n"
     ]
    }
   ],
   "source": [
    "%%time\n",
    "# Compilation\n",
    "model.compile(loss='sparse_categorical_crossentropy',  # fonction de perte\n",
    "              optimizer= Adam(learning_rate= 1e-5) ,   #default lr = 0.001 # algorithme de descente de gradient\n",
    "              metrics=['accuracy'])                    # métrique d'évaluation"
   ]
  },
  {
   "cell_type": "markdown",
   "id": "b46ca980",
   "metadata": {
    "id": "b46ca980"
   },
   "source": [
    " ***Fit - train_generator***"
   ]
  },
  {
   "cell_type": "code",
   "execution_count": 24,
   "id": "58f9abb4",
   "metadata": {},
   "outputs": [
    {
     "name": "stdout",
     "output_type": "stream",
     "text": [
      "step_size_Train :  1061\n",
      "step_size_Valid  :  265\n"
     ]
    }
   ],
   "source": [
    "step_size_Train = train_generator.n//train_generator.batch_size\n",
    "step_size_Valid = valid_generator.n//valid_generator.batch_size\n",
    "print('step_size_Train : ' , step_size_Train)\n",
    "print('step_size_Valid  : ' , step_size_Valid)"
   ]
  },
  {
   "cell_type": "code",
   "execution_count": 25,
   "id": "8196cb05",
   "metadata": {
    "colab": {
     "base_uri": "https://localhost:8080/"
    },
    "id": "6099def0",
    "outputId": "2948cbea-6d0a-4cab-cef9-08948c1b7d97"
   },
   "outputs": [
    {
     "name": "stdout",
     "output_type": "stream",
     "text": [
      "Epoch 1/50\n",
      "1061/1061 [==============================] - 621s 573ms/step - loss: 2.4042 - accuracy: 0.3140 - val_loss: 1.9627 - val_accuracy: 0.4366\n",
      "\n",
      "Epoch 00001: val_accuracy improved from -inf to 0.43656, saving model to ./saves/VGG16/Iteration_4_2\\checkpoint_VGG16_09122021-50Epochs.h5\n",
      "Epoch 2/50\n",
      "1061/1061 [==============================] - 527s 497ms/step - loss: 2.0102 - accuracy: 0.4171 - val_loss: 1.7955 - val_accuracy: 0.4775\n",
      "\n",
      "Epoch 00002: val_accuracy improved from 0.43656 to 0.47748, saving model to ./saves/VGG16/Iteration_4_2\\checkpoint_VGG16_09122021-50Epochs.h5\n",
      "Epoch 3/50\n",
      "1061/1061 [==============================] - 560s 528ms/step - loss: 1.8779 - accuracy: 0.4491 - val_loss: 1.7202 - val_accuracy: 0.4938\n",
      "\n",
      "Epoch 00003: val_accuracy improved from 0.47748 to 0.49375, saving model to ./saves/VGG16/Iteration_4_2\\checkpoint_VGG16_09122021-50Epochs.h5\n",
      "Epoch 4/50\n",
      "1061/1061 [==============================] - 558s 526ms/step - loss: 1.7922 - accuracy: 0.4722 - val_loss: 1.6728 - val_accuracy: 0.5074\n",
      "\n",
      "Epoch 00004: val_accuracy improved from 0.49375 to 0.50737, saving model to ./saves/VGG16/Iteration_4_2\\checkpoint_VGG16_09122021-50Epochs.h5\n",
      "Epoch 5/50\n",
      "1061/1061 [==============================] - 534s 503ms/step - loss: 1.7267 - accuracy: 0.4912 - val_loss: 1.6160 - val_accuracy: 0.5235\n",
      "\n",
      "Epoch 00005: val_accuracy improved from 0.50737 to 0.52347, saving model to ./saves/VGG16/Iteration_4_2\\checkpoint_VGG16_09122021-50Epochs.h5\n",
      "Epoch 6/50\n",
      "1061/1061 [==============================] - 526s 495ms/step - loss: 1.6708 - accuracy: 0.5050 - val_loss: 1.5699 - val_accuracy: 0.5360\n",
      "\n",
      "Epoch 00006: val_accuracy improved from 0.52347 to 0.53597, saving model to ./saves/VGG16/Iteration_4_2\\checkpoint_VGG16_09122021-50Epochs.h5\n",
      "Epoch 7/50\n",
      "1061/1061 [==============================] - 530s 500ms/step - loss: 1.6308 - accuracy: 0.5148 - val_loss: 1.5421 - val_accuracy: 0.5431\n",
      "\n",
      "Epoch 00007: val_accuracy improved from 0.53597 to 0.54310, saving model to ./saves/VGG16/Iteration_4_2\\checkpoint_VGG16_09122021-50Epochs.h5\n",
      "Epoch 8/50\n",
      "1061/1061 [==============================] - 528s 497ms/step - loss: 1.5918 - accuracy: 0.5237 - val_loss: 1.5011 - val_accuracy: 0.5519\n",
      "\n",
      "Epoch 00008: val_accuracy improved from 0.54310 to 0.55189, saving model to ./saves/VGG16/Iteration_4_2\\checkpoint_VGG16_09122021-50Epochs.h5\n",
      "Epoch 9/50\n",
      "1061/1061 [==============================] - 527s 497ms/step - loss: 1.5592 - accuracy: 0.5339 - val_loss: 1.5163 - val_accuracy: 0.5510\n",
      "\n",
      "Epoch 00009: val_accuracy did not improve from 0.55189\n",
      "Epoch 10/50\n",
      "1061/1061 [==============================] - 528s 497ms/step - loss: 1.5283 - accuracy: 0.5410 - val_loss: 1.4998 - val_accuracy: 0.5534\n",
      "\n",
      "Epoch 00010: val_accuracy improved from 0.55189 to 0.55336, saving model to ./saves/VGG16/Iteration_4_2\\checkpoint_VGG16_09122021-50Epochs.h5\n",
      "Epoch 11/50\n",
      "1061/1061 [==============================] - 527s 496ms/step - loss: 1.5000 - accuracy: 0.5497 - val_loss: 1.4685 - val_accuracy: 0.5634\n",
      "\n",
      "Epoch 00011: val_accuracy improved from 0.55336 to 0.56338, saving model to ./saves/VGG16/Iteration_4_2\\checkpoint_VGG16_09122021-50Epochs.h5\n",
      "Epoch 12/50\n",
      "1061/1061 [==============================] - 526s 496ms/step - loss: 1.4739 - accuracy: 0.5575 - val_loss: 1.4806 - val_accuracy: 0.5580\n",
      "\n",
      "Epoch 00012: val_accuracy did not improve from 0.56338\n",
      "Epoch 13/50\n",
      "1061/1061 [==============================] - 529s 499ms/step - loss: 1.4502 - accuracy: 0.5629 - val_loss: 1.4878 - val_accuracy: 0.5569\n",
      "\n",
      "Epoch 00013: val_accuracy did not improve from 0.56338\n",
      "Epoch 14/50\n",
      "1061/1061 [==============================] - 530s 499ms/step - loss: 1.4282 - accuracy: 0.5700 - val_loss: 1.4122 - val_accuracy: 0.5821\n",
      "\n",
      "Epoch 00014: val_accuracy improved from 0.56338 to 0.58213, saving model to ./saves/VGG16/Iteration_4_2\\checkpoint_VGG16_09122021-50Epochs.h5\n",
      "Epoch 15/50\n",
      "1061/1061 [==============================] - 531s 501ms/step - loss: 1.4070 - accuracy: 0.5740 - val_loss: 1.4289 - val_accuracy: 0.5758\n",
      "\n",
      "Epoch 00015: val_accuracy did not improve from 0.58213\n",
      "Epoch 16/50\n",
      "1061/1061 [==============================] - 532s 501ms/step - loss: 1.3802 - accuracy: 0.5821 - val_loss: 1.4120 - val_accuracy: 0.5807\n",
      "\n",
      "Epoch 00016: val_accuracy did not improve from 0.58213\n",
      "Epoch 17/50\n",
      "1061/1061 [==============================] - 529s 498ms/step - loss: 1.3649 - accuracy: 0.5857 - val_loss: 1.3968 - val_accuracy: 0.5874\n",
      "\n",
      "Epoch 00017: val_accuracy improved from 0.58213 to 0.58738, saving model to ./saves/VGG16/Iteration_4_2\\checkpoint_VGG16_09122021-50Epochs.h5\n",
      "Epoch 18/50\n",
      "1061/1061 [==============================] - 529s 498ms/step - loss: 1.3510 - accuracy: 0.5905 - val_loss: 1.3825 - val_accuracy: 0.5910\n",
      "\n",
      "Epoch 00018: val_accuracy improved from 0.58738 to 0.59104, saving model to ./saves/VGG16/Iteration_4_2\\checkpoint_VGG16_09122021-50Epochs.h5\n",
      "Epoch 19/50\n",
      "1061/1061 [==============================] - 529s 499ms/step - loss: 1.3256 - accuracy: 0.5967 - val_loss: 1.4257 - val_accuracy: 0.5801\n",
      "\n",
      "Epoch 00019: val_accuracy did not improve from 0.59104\n",
      "Epoch 20/50\n",
      "1061/1061 [==============================] - 529s 499ms/step - loss: 1.3089 - accuracy: 0.6024 - val_loss: 1.3905 - val_accuracy: 0.5888\n",
      "\n",
      "Epoch 00020: val_accuracy did not improve from 0.59104\n",
      "Epoch 21/50\n",
      "1061/1061 [==============================] - 529s 499ms/step - loss: 1.2917 - accuracy: 0.6079 - val_loss: 1.3915 - val_accuracy: 0.5912\n",
      "\n",
      "Epoch 00021: val_accuracy improved from 0.59104 to 0.59116, saving model to ./saves/VGG16/Iteration_4_2\\checkpoint_VGG16_09122021-50Epochs.h5\n",
      "Epoch 22/50\n",
      "1061/1061 [==============================] - 530s 500ms/step - loss: 1.2735 - accuracy: 0.6123 - val_loss: 1.3711 - val_accuracy: 0.5936\n",
      "\n",
      "Epoch 00022: val_accuracy improved from 0.59116 to 0.59363, saving model to ./saves/VGG16/Iteration_4_2\\checkpoint_VGG16_09122021-50Epochs.h5\n",
      "Epoch 23/50\n",
      "1061/1061 [==============================] - 530s 500ms/step - loss: 1.2603 - accuracy: 0.6165 - val_loss: 1.3704 - val_accuracy: 0.5990\n",
      "\n",
      "Epoch 00023: val_accuracy improved from 0.59363 to 0.59900, saving model to ./saves/VGG16/Iteration_4_2\\checkpoint_VGG16_09122021-50Epochs.h5\n",
      "Epoch 24/50\n",
      "1061/1061 [==============================] - 530s 499ms/step - loss: 1.2411 - accuracy: 0.6216 - val_loss: 1.3716 - val_accuracy: 0.5927\n",
      "\n",
      "Epoch 00024: val_accuracy did not improve from 0.59900\n",
      "Epoch 25/50\n",
      "1061/1061 [==============================] - 531s 500ms/step - loss: 1.2268 - accuracy: 0.6226 - val_loss: 1.3804 - val_accuracy: 0.5890\n",
      "\n",
      "Epoch 00025: val_accuracy did not improve from 0.59900\n",
      "Epoch 26/50\n",
      "1061/1061 [==============================] - 530s 499ms/step - loss: 1.2207 - accuracy: 0.6242 - val_loss: 1.3451 - val_accuracy: 0.5986\n",
      "\n",
      "Epoch 00026: val_accuracy did not improve from 0.59900\n",
      "Epoch 27/50\n",
      "1061/1061 [==============================] - 530s 499ms/step - loss: 1.2000 - accuracy: 0.6310 - val_loss: 1.3401 - val_accuracy: 0.6032\n",
      "\n",
      "Epoch 00027: val_accuracy improved from 0.59900 to 0.60318, saving model to ./saves/VGG16/Iteration_4_2\\checkpoint_VGG16_09122021-50Epochs.h5\n",
      "Epoch 28/50\n",
      "1061/1061 [==============================] - 531s 501ms/step - loss: 1.1828 - accuracy: 0.6347 - val_loss: 1.3763 - val_accuracy: 0.5965\n",
      "\n",
      "Epoch 00028: val_accuracy did not improve from 0.60318\n",
      "Epoch 29/50\n",
      "1061/1061 [==============================] - 530s 500ms/step - loss: 1.1688 - accuracy: 0.6410 - val_loss: 1.3630 - val_accuracy: 0.6002\n",
      "\n",
      "Epoch 00029: val_accuracy did not improve from 0.60318\n",
      "Epoch 30/50\n",
      "1061/1061 [==============================] - 536s 505ms/step - loss: 1.1579 - accuracy: 0.6424 - val_loss: 1.3526 - val_accuracy: 0.6090\n",
      "\n",
      "Epoch 00030: val_accuracy improved from 0.60318 to 0.60896, saving model to ./saves/VGG16/Iteration_4_2\\checkpoint_VGG16_09122021-50Epochs.h5\n",
      "Epoch 31/50\n",
      "1061/1061 [==============================] - 535s 504ms/step - loss: 1.1445 - accuracy: 0.6441 - val_loss: 1.3283 - val_accuracy: 0.6088\n",
      "\n",
      "Epoch 00031: val_accuracy did not improve from 0.60896\n",
      "Epoch 32/50\n",
      "1061/1061 [==============================] - 529s 499ms/step - loss: 1.1351 - accuracy: 0.6491 - val_loss: 1.3340 - val_accuracy: 0.6083\n",
      "\n",
      "Epoch 00032: val_accuracy did not improve from 0.60896\n",
      "Epoch 33/50\n"
     ]
    },
    {
     "name": "stdout",
     "output_type": "stream",
     "text": [
      "1061/1061 [==============================] - 531s 501ms/step - loss: 1.1160 - accuracy: 0.6532 - val_loss: 1.3614 - val_accuracy: 0.6015\n",
      "\n",
      "Epoch 00033: val_accuracy did not improve from 0.60896\n",
      "Epoch 34/50\n",
      "1061/1061 [==============================] - 531s 501ms/step - loss: 1.1044 - accuracy: 0.6580 - val_loss: 1.3921 - val_accuracy: 0.5979\n",
      "\n",
      "Epoch 00034: val_accuracy did not improve from 0.60896\n",
      "Epoch 35/50\n",
      "1061/1061 [==============================] - 529s 499ms/step - loss: 1.0939 - accuracy: 0.6584 - val_loss: 1.3290 - val_accuracy: 0.6100\n",
      "\n",
      "Epoch 00035: val_accuracy improved from 0.60896 to 0.61002, saving model to ./saves/VGG16/Iteration_4_2\\checkpoint_VGG16_09122021-50Epochs.h5\n",
      "Epoch 36/50\n",
      "1061/1061 [==============================] - 530s 499ms/step - loss: 1.0826 - accuracy: 0.6639 - val_loss: 1.3839 - val_accuracy: 0.6035\n",
      "\n",
      "Epoch 00036: val_accuracy did not improve from 0.61002\n",
      "Epoch 37/50\n",
      "1061/1061 [==============================] - 534s 503ms/step - loss: 1.0652 - accuracy: 0.6670 - val_loss: 1.3361 - val_accuracy: 0.6116\n",
      "\n",
      "Epoch 00037: val_accuracy improved from 0.61002 to 0.61156, saving model to ./saves/VGG16/Iteration_4_2\\checkpoint_VGG16_09122021-50Epochs.h5\n",
      "Epoch 38/50\n",
      "1061/1061 [==============================] - 529s 499ms/step - loss: 1.0560 - accuracy: 0.6693 - val_loss: 1.3400 - val_accuracy: 0.6084\n",
      "\n",
      "Epoch 00038: val_accuracy did not improve from 0.61156\n",
      "Epoch 39/50\n",
      "1061/1061 [==============================] - 530s 499ms/step - loss: 1.0423 - accuracy: 0.6757 - val_loss: 1.3533 - val_accuracy: 0.6085\n",
      "\n",
      "Epoch 00039: val_accuracy did not improve from 0.61156\n",
      "Epoch 40/50\n",
      "1061/1061 [==============================] - 533s 502ms/step - loss: 1.0275 - accuracy: 0.6795 - val_loss: 1.3877 - val_accuracy: 0.5982\n",
      "\n",
      "Epoch 00040: val_accuracy did not improve from 0.61156\n",
      "Epoch 41/50\n",
      "1061/1061 [==============================] - 529s 498ms/step - loss: 1.0179 - accuracy: 0.6793 - val_loss: 1.3549 - val_accuracy: 0.6166\n",
      "\n",
      "Epoch 00041: val_accuracy improved from 0.61156 to 0.61657, saving model to ./saves/VGG16/Iteration_4_2\\checkpoint_VGG16_09122021-50Epochs.h5\n",
      "Restoring model weights from the end of the best epoch.\n",
      "\n",
      "Epoch 00041: ReduceLROnPlateau reducing learning rate to 9.999999747378752e-07.\n",
      "Epoch 00041: early stopping\n",
      "Wall time: 6h 4min 43s\n"
     ]
    }
   ],
   "source": [
    "%%time\n",
    "# Fit Train generator\n",
    "history = model.fit(train_generator,                    \n",
    "                    epochs = epochs,                   \n",
    "                    steps_per_epoch = step_size_Train,\n",
    "                    validation_data = valid_generator,\n",
    "                    validation_steps = step_size_Valid,\n",
    "                    callbacks=[checkpoint, early, lr_plateau]                    \n",
    "                    )"
   ]
  },
  {
   "cell_type": "markdown",
   "id": "6534acf5",
   "metadata": {},
   "source": [
    "\n",
    "\n",
    "***Save History results***"
   ]
  },
  {
   "cell_type": "code",
   "execution_count": 26,
   "id": "cc9ecbc0",
   "metadata": {},
   "outputs": [],
   "source": [
    "# Save History results\n",
    "path = './saves/VGG16/Iteration_4_2/'\n",
    "filename = 'history_VGG16_all_train_13122021_50Epoch'"
   ]
  },
  {
   "cell_type": "code",
   "execution_count": 27,
   "id": "44bc80f3",
   "metadata": {},
   "outputs": [],
   "source": [
    "#convert the history.history dict to a pandas DataFrame:     \n",
    "hist_df = pd.DataFrame(history.history) \n",
    "\n",
    "# history to json:  \n",
    "hist_json_file = path + filename + '.json'\n",
    "with open(hist_json_file, mode='w') as f:\n",
    "    hist_df.to_json(f)\n",
    "\n",
    "# history to csv: \n",
    "hist_csv_file = path + filename +'.csv'\n",
    "with open(hist_csv_file, mode='w') as f:\n",
    "    hist_df.to_csv(f)\n",
    "\n",
    "# history to pickle file\n",
    "hist_df.to_pickle(path + filename +'.pkl')"
   ]
  },
  {
   "cell_type": "markdown",
   "id": "0c9a39d7",
   "metadata": {},
   "source": [
    "***Display Model loss , accuracy per epoch***"
   ]
  },
  {
   "cell_type": "code",
   "execution_count": 28,
   "id": "ad9193ed",
   "metadata": {},
   "outputs": [
    {
     "data": {
      "image/png": "[encoded data removed]",
      "text/plain": [
       "<Figure size 864x288 with 2 Axes>"
      ]
     },
     "metadata": {
      "needs_background": "light"
     },
     "output_type": "display_data"
    }
   ],
   "source": [
    "plt.figure(figsize=(12,4))\n",
    "plt.subplot(121)\n",
    "plt.plot(history.history['loss'])\n",
    "plt.plot(history.history['val_loss'])\n",
    "plt.title('Model loss by epoch')\n",
    "plt.ylabel('loss')\n",
    "plt.xlabel('epoch')\n",
    "plt.legend(['train', 'valid'], loc='right')\n",
    "\n",
    "plt.subplot(122)\n",
    "plt.plot(history.history['accuracy'])\n",
    "plt.plot(history.history['val_accuracy'])\n",
    "plt.title('Model acc by epoch')\n",
    "plt.ylabel('acc')\n",
    "plt.xlabel('epoch')\n",
    "plt.legend(['train', 'valid'], loc='right')\n",
    "plt.show()"
   ]
  },
  {
   "cell_type": "markdown",
   "id": "27887ca1",
   "metadata": {
    "id": "27887ca1"
   },
   "source": [
    " ***Prediction - valid_generator***"
   ]
  },
  {
   "cell_type": "code",
   "execution_count": 29,
   "id": "7ce3d3d8",
   "metadata": {
    "id": "7ce3d3d8"
   },
   "outputs": [
    {
     "name": "stdout",
     "output_type": "stream",
     "text": [
      "Wall time: 29.3 s\n"
     ]
    }
   ],
   "source": [
    "%%time\n",
    "#Prediction - Valid set\n",
    "y_pred_proba = model.predict(valid_generator)\n",
    "\n",
    "# l'argmax pour obtenir les classes prédites\n",
    "y_pred_class = np.argmax(y_pred_proba,axis = 1).astype(int)\n",
    "\n",
    "# To get classes from valid generator\n",
    "y_true = valid_generator.classes"
   ]
  },
  {
   "cell_type": "markdown",
   "id": "bfc13084",
   "metadata": {
    "id": "bfc13084"
   },
   "source": [
    " ***Evaluation - valid_generator***"
   ]
  },
  {
   "cell_type": "code",
   "execution_count": 30,
   "id": "a1f0707f",
   "metadata": {
    "id": "a1f0707f"
   },
   "outputs": [
    {
     "name": "stdout",
     "output_type": "stream",
     "text": [
      "266/266 [==============================] - 29s 106ms/step - loss: 1.3283 - accuracy: 0.6087\n",
      "Accuracy: 60.87%\n",
      "Loss:  1.3283270597457886\n",
      "Wall time: 28.6 s\n"
     ]
    }
   ],
   "source": [
    "%%time\n",
    "#Get the accuracy score\n",
    "valid_score = model.evaluate(valid_generator)\n",
    "\n",
    "print(\"Accuracy: {:.2f}%\".format(valid_score[1] * 100)) \n",
    "print(\"Loss: \",valid_score[0])"
   ]
  },
  {
   "cell_type": "code",
   "execution_count": 31,
   "id": "a400ed07",
   "metadata": {},
   "outputs": [
    {
     "name": "stdout",
     "output_type": "stream",
     "text": [
      "[INFO] f1 score macro average:  0.547968495350642\n",
      "[INFO] f1 score micro average:  0.6087494112105512\n",
      "[INFO] f1 score weighted average:  0.6008387209001523\n"
     ]
    }
   ],
   "source": [
    "f1_macro = f1_score(y_true, y_pred_class, average='macro')\n",
    "print(\"[INFO] f1 score macro average: \",f1_macro)\n",
    "\n",
    "f1_micro = f1_score(y_true, y_pred_class, average='micro')\n",
    "print(\"[INFO] f1 score micro average: \",f1_micro)\n",
    "\n",
    "f1_weighted = f1_score(y_true, y_pred_class, average='weighted')\n",
    "print(\"[INFO] f1 score weighted average: \",f1_weighted)"
   ]
  },
  {
   "cell_type": "code",
   "execution_count": 32,
   "id": "7e2c1b04",
   "metadata": {},
   "outputs": [
    {
     "data": {
      "image/png": "[encoded data removed]",
      "text/plain": [
       "<Figure size 1728x1440 with 1 Axes>"
      ]
     },
     "metadata": {
      "needs_background": "light"
     },
     "output_type": "display_data"
    }
   ],
   "source": [
    "#Confusion matrix\n",
    "matrix = confusion_matrix(y_true, y_pred_class)\n",
    "fig , ax = plt.subplots(figsize = (24,20))\n",
    "ax.matshow(matrix, cmap = plt.cm.Oranges , alpha = 0.3)\n",
    "for i in range(matrix.shape[0]):\n",
    "    for j in range (matrix.shape[1]):\n",
    "        ax.text (x = j , y= i, s= matrix[i,j], va = 'center', ha = 'center', size = 'xx-large')\n",
    "        \n",
    "plt.xlabel('predicted', fontsize = 18)\n",
    "plt.ylabel('Acutals', fontsize = 18)\n",
    "plt.title('Confusion Matrix', fontsize = 18)\n",
    "plt.show()\n",
    "#print(matrix)"
   ]
  },
  {
   "cell_type": "code",
   "execution_count": 37,
   "id": "03279ddb",
   "metadata": {
    "id": "03279ddb"
   },
   "outputs": [
    {
     "name": "stdout",
     "output_type": "stream",
     "text": [
      "              precision    recall  f1-score   support\n",
      "\n",
      "           0       0.48      0.70      0.57       643\n",
      "           1       0.66      0.62      0.64       503\n",
      "           2       0.82      0.31      0.46       162\n",
      "           3       0.42      0.37      0.39       514\n",
      "           4       0.40      0.43      0.41       664\n",
      "           5       0.55      0.50      0.52       993\n",
      "           6       0.68      0.84      0.75       832\n",
      "           7       0.53      0.55      0.54       159\n",
      "           8       0.46      0.51      0.48       970\n",
      "           9       0.38      0.14      0.20       190\n",
      "          10       0.72      0.75      0.73       911\n",
      "          11       0.66      0.65      0.65       961\n",
      "          12       0.48      0.28      0.35       319\n",
      "          13       0.68      0.40      0.50       301\n",
      "          14       0.55      0.70      0.62      1011\n",
      "          15       0.48      0.37      0.42       533\n",
      "          16       0.80      0.82      0.81      2083\n",
      "          17       0.40      0.34      0.37       468\n",
      "          18       0.70      0.84      0.77       557\n",
      "          19       0.69      0.65      0.67       146\n",
      "          20       0.65      0.75      0.69       179\n",
      "          21       0.66      0.57      0.61       545\n",
      "          22       0.91      0.89      0.90       793\n",
      "          23       0.76      0.20      0.32       144\n",
      "          24       0.43      0.41      0.42      1002\n",
      "          25       0.35      0.28      0.31       408\n",
      "          26       0.67      0.70      0.68       993\n",
      "\n",
      "    accuracy                           0.61     16984\n",
      "   macro avg       0.59      0.54      0.55     16984\n",
      "weighted avg       0.61      0.61      0.60     16984\n",
      "\n"
     ]
    }
   ],
   "source": [
    "print(metrics.classification_report(y_true, y_pred_class))"
   ]
  },
  {
   "cell_type": "markdown",
   "id": "90484101",
   "metadata": {},
   "source": [
    " ***Predict input image using trained model***"
   ]
  },
  {
   "cell_type": "code",
   "execution_count": 33,
   "id": "906ccc5f",
   "metadata": {},
   "outputs": [
    {
     "data": {
      "image/png": "[encoded data removed]",
      "text/plain": [
       "<Figure size 432x288 with 1 Axes>"
      ]
     },
     "metadata": {},
     "output_type": "display_data"
    }
   ],
   "source": [
    "# Predict With Pre Trained\n",
    "\n",
    "# Load an image\n",
    "im_id = 27\n",
    "img_path ='./data/images/all/image_train_resized/'+ df_train_im['imagePath'][im_id]\n",
    "\n",
    "img = image.load_img(img_path,target_size=(128, 128))\n",
    "plt.figure(figsize=(6,4))\n",
    "plt.imshow(img)\n",
    "plt.title(\"class: \" + str(df_train_im['prdtypecode'][im_id]))\n",
    "plt.xticks([])\n",
    "plt.yticks([])\n",
    "#plt.axis('off')\n",
    "plt.show();"
   ]
  },
  {
   "cell_type": "code",
   "execution_count": 34,
   "id": "96dd799f",
   "metadata": {},
   "outputs": [],
   "source": [
    "im = cv2.resize(cv2.imread(img_path), (224, 224))\n",
    "im = np.expand_dims(im, axis=0)"
   ]
  },
  {
   "cell_type": "code",
   "execution_count": 35,
   "id": "fe5ed456",
   "metadata": {},
   "outputs": [
    {
     "name": "stdout",
     "output_type": "stream",
     "text": [
      "------------------Predicted Class and Label ------------------------------\n",
      "target class(used by model) : 17\n",
      "\n",
      "  prdtypecode                         Label\n",
      "        2220 supplies for domestic animals\n",
      "\n",
      "\n",
      "------------------Real Class and Label ------------------------------\n",
      "target class(used by model):  21\n",
      "\n",
      "  prdtypecode      Label\n",
      "        2522 stationery\n"
     ]
    }
   ],
   "source": [
    "out = model.predict(im)\n",
    "print(\"------------------Predicted Class and Label ------------------------------\")\n",
    "print(\"target class(used by model) :\", np.argmax(out))\n",
    "print(\"\\n\"  ,df_class[df_class['target_prdtypecode'] == np.argmax(out)][['prdtypecode', 'Label']].to_string(index=False)) \n",
    "\n",
    "prd_code = df_train_im['prdtypecode'][im_id]\n",
    "\n",
    "print(\"\\n\\n------------------Real Class and Label ------------------------------\")\n",
    "print(\"target class(used by model): \" ,  df_class[df_class['target_prdtypecode'] == int(prd_code)]['target_prdtypecode'].to_string(index=False))\n",
    "print(\"\\n\"  ,df_class[df_class['target_prdtypecode'] == int(prd_code)][['prdtypecode', 'Label']].to_string(index=False))\n"
   ]
  },
  {
   "cell_type": "markdown",
   "id": "d6094084",
   "metadata": {
    "id": "d6094084"
   },
   "source": [
    " ***Save VGG16 Model***"
   ]
  },
  {
   "cell_type": "code",
   "execution_count": 36,
   "id": "2756f2e9",
   "metadata": {
    "id": "2756f2e9"
   },
   "outputs": [],
   "source": [
    "#Enregistrement du modèle :\n",
    "model.save(\"./saves/VGG16/Iteration_4_2/Model_VGG16_All_Train_data_1312021_50Epochs.hdf5\")\n",
    "#The SavedModel and HDF5 file contains:\n",
    "#the model's configuration (topology)\n",
    "#the model's weights\n",
    "#the model's optimizer's state (if any)"
   ]
  },
  {
   "cell_type": "markdown",
   "id": "2c39b4e3",
   "metadata": {
    "id": "2c39b4e3"
   },
   "source": [
    " ***Load VGG16 Model***"
   ]
  },
  {
   "cell_type": "code",
   "execution_count": null,
   "id": "9ee47aed",
   "metadata": {
    "id": "9ee47aed"
   },
   "outputs": [],
   "source": [
    "#Rechargement du modèle :\n",
    "model = load_model(\"./saves/VGG16/Iteration_4_2/Model_VGG16_All_Train_data_1312021_50Epochs.hdf5\")"
   ]
  },
  {
   "cell_type": "code",
   "execution_count": null,
   "id": "a5dcdb91",
   "metadata": {},
   "outputs": [],
   "source": []
  }
 ],
 "metadata": {
  "accelerator": "GPU",
  "colab": {
   "collapsed_sections": [],
   "name": "Images_&_Iteration_#1_VGG16_Without_image_Preprocesing.ipynb",
   "provenance": [
    {
     "file_id": "17N2ubF_zjn2M-2g3bJ0lXH7vsD0mgLMb",
     "timestamp": 1629109577507
    }
   ]
  },
  "kernelspec": {
   "display_name": "Python 3 (ipykernel)",
   "language": "python",
   "name": "python3"
  },
  "language_info": {
   "codemirror_mode": {
    "name": "ipython",
    "version": 3
   },
   "file_extension": ".py",
   "mimetype": "text/x-python",
   "name": "python",
   "nbconvert_exporter": "python",
   "pygments_lexer": "ipython3",
   "version": "3.9.7"
  }
 },
 "nbformat": 4,
 "nbformat_minor": 5
}
