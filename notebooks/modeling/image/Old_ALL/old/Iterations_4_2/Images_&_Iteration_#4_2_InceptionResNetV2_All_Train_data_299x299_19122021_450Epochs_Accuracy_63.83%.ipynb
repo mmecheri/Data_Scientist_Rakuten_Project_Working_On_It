{
 "cells": [
  {
   "cell_type": "markdown",
   "id": "ba0641ee",
   "metadata": {
    "id": "ba0641ee"
   },
   "source": [
    "# InceptionResNetV2 : Images - Iteration #4_1(Data Augementation)"
   ]
  },
  {
   "cell_type": "markdown",
   "id": "0bd66e8a-5d8b-4838-8b0f-6f40e95d98c8",
   "metadata": {
    "colab": {
     "base_uri": "https://localhost:8080/"
    },
    "executionInfo": {
     "elapsed": 28270,
     "status": "ok",
     "timestamp": 1634134469078,
     "user": {
      "displayName": "Mourad Mecheri",
      "photoUrl": "https://lh3.googleusercontent.com/a/default-user=s64",
      "userId": "08453845245011476141"
     },
     "user_tz": -120
    },
    "id": "b9037513",
    "outputId": "d8d06f9c-4db1-4106-c898-9f91fbecbb89"
   },
   "source": [
    "img_rows = 299 <br>\n",
    "img_cols = 299 <br>\n",
    "batch_size = 64 <br>\n",
    "epochs = 50 <br>\n",
    "Train set size = 67933 <br>\n",
    "Valid set size = 16983 <br>\n",
    "Data augmentation  <br>\n",
    "unfreezing of the last ?? base model layers <br>\n",
    "optimizer= Adam(learning_rate= 1e-5) <br>"
   ]
  },
  {
   "cell_type": "markdown",
   "id": "cf025bf1-df4a-422b-86ef-1a14d569d10a",
   "metadata": {
    "colab": {
     "base_uri": "https://localhost:8080/"
    },
    "executionInfo": {
     "elapsed": 276,
     "status": "ok",
     "timestamp": 1634134474708,
     "user": {
      "displayName": "Mourad Mecheri",
      "photoUrl": "https://lh3.googleusercontent.com/a/default-user=s64",
      "userId": "08453845245011476141"
     },
     "user_tz": -120
    },
    "id": "2191e30e",
    "outputId": "99169808-7a30-4c91-f3e2-742ab235a6ac"
   },
   "source": [
    "**<u>Results</u>**"
   ]
  },
  {
   "cell_type": "markdown",
   "id": "75e641cb-0371-4933-9d66-039eff9e62e9",
   "metadata": {},
   "source": [
    "Accuracy : 0.64 <br>\n",
    "F1 score weighted : 0.63"
   ]
  },
  {
   "cell_type": "markdown",
   "id": "27545775",
   "metadata": {
    "id": "27545775"
   },
   "source": [
    "**Import packages**"
   ]
  },
  {
   "cell_type": "code",
   "execution_count": 52,
   "id": "92150877",
   "metadata": {
    "executionInfo": {
     "elapsed": 784,
     "status": "ok",
     "timestamp": 1634134527958,
     "user": {
      "displayName": "Mourad Mecheri",
      "photoUrl": "https://lh3.googleusercontent.com/a/default-user=s64",
      "userId": "08453845245011476141"
     },
     "user_tz": -120
    },
    "id": "92150877"
   },
   "outputs": [],
   "source": [
    "import os\n",
    "import glob\n",
    "import pandas as pd\n",
    "import numpy as np\n",
    "import cv2\n",
    "import matplotlib\n",
    "%matplotlib inline\n",
    "import matplotlib.pyplot as plt\n",
    "import seaborn as sns\n",
    "from tqdm import tqdm\n",
    "from tqdm.notebook import tqdm_notebook\n",
    "import re\n",
    "tqdm_notebook.pandas()\n",
    "import tensorflow as tf\n",
    "#from tensorflow import keras\n",
    "from tensorflow.keras.models import load_model\n",
    "from tensorflow.keras.models import Sequential\n",
    "from tensorflow.keras.layers import Dense, Activation\n",
    "from tensorflow.keras.layers import Dropout\n",
    "from tensorflow.keras.layers import Flatten\n",
    "from tensorflow.keras.layers import GlobalAveragePooling2D\n",
    "from tensorflow.keras.layers import Conv2D\n",
    "from tensorflow.keras.layers import MaxPooling2D\n",
    "from tensorflow.keras.callbacks import ModelCheckpoint, EarlyStopping, ReduceLROnPlateau\n",
    "from tensorflow.keras.applications.vgg16 import VGG16\n",
    "from tensorflow.keras.applications.efficientnet import EfficientNetB7\n",
    "from tensorflow.keras.applications.mobilenet_v2 import MobileNetV2\n",
    "from tensorflow.keras.applications.densenet import DenseNet121\n",
    "from tensorflow.keras.applications.vgg16 import preprocess_input\n",
    "from tensorflow.keras.applications.xception import Xception\n",
    "from tensorflow.keras.applications.inception_resnet_v2 import InceptionResNetV2\n",
    "from tensorflow.keras.preprocessing.image import ImageDataGenerator\n",
    "from tensorflow.keras.preprocessing import image\n",
    "from tensorflow.keras.optimizers import Adam\n",
    "from sklearn.metrics import f1_score , recall_score, accuracy_score, precision_score, confusion_matrix\n",
    "from keras.utils import np_utils\n",
    "from sklearn.model_selection import train_test_split\n",
    "from sklearn import metrics\n",
    "import itertools\n",
    "import pickle\n",
    "from joblib import dump, load"
   ]
  },
  {
   "cell_type": "markdown",
   "id": "d7a3fcab",
   "metadata": {
    "id": "d7a3fcab"
   },
   "source": [
    "# Iteration #4_2 - InceptionResNetV2"
   ]
  },
  {
   "cell_type": "markdown",
   "id": "a1224583",
   "metadata": {
    "id": "a1224583"
   },
   "source": [
    "***Read DataFrame from saved pickele file - image Train set***"
   ]
  },
  {
   "cell_type": "code",
   "execution_count": 2,
   "id": "8ef548a9",
   "metadata": {
    "executionInfo": {
     "elapsed": 2592,
     "status": "ok",
     "timestamp": 1634134546598,
     "user": {
      "displayName": "Mourad Mecheri",
      "photoUrl": "https://lh3.googleusercontent.com/a/default-user=s64",
      "userId": "08453845245011476141"
     },
     "user_tz": -120
    },
    "id": "8ef548a9"
   },
   "outputs": [],
   "source": [
    "#Load df of images already resized on 256 x 256 \n",
    "#df_train_im = pd.read_pickle(\"./saves/df_save/df_train_combined_19102021.pkl\")\n",
    "\n",
    "#Load df of images with org size 500 x 500\n",
    "df_train_im = pd.read_pickle(\"./saves/df_save/df_train_combined_ORG_im_size_02122021.pkl\")"
   ]
  },
  {
   "cell_type": "code",
   "execution_count": 3,
   "id": "d271de78",
   "metadata": {
    "colab": {
     "base_uri": "https://localhost:8080/",
     "height": 238
    },
    "executionInfo": {
     "elapsed": 198,
     "status": "ok",
     "timestamp": 1634134561983,
     "user": {
      "displayName": "Mourad Mecheri",
      "photoUrl": "https://lh3.googleusercontent.com/a/default-user=s64",
      "userId": "08453845245011476141"
     },
     "user_tz": -120
    },
    "id": "d271de78",
    "outputId": "7c8fd8a1-e44a-4948-cfc7-f477aa1daaa6"
   },
   "outputs": [
    {
     "data": {
      "text/html": [
       "<div>\n",
       "<style scoped>\n",
       "    .dataframe tbody tr th:only-of-type {\n",
       "        vertical-align: middle;\n",
       "    }\n",
       "\n",
       "    .dataframe tbody tr th {\n",
       "        vertical-align: top;\n",
       "    }\n",
       "\n",
       "    .dataframe thead th {\n",
       "        text-align: right;\n",
       "    }\n",
       "</style>\n",
       "<table border=\"1\" class=\"dataframe\">\n",
       "  <thead>\n",
       "    <tr style=\"text-align: right;\">\n",
       "      <th></th>\n",
       "      <th>designation</th>\n",
       "      <th>description</th>\n",
       "      <th>productid</th>\n",
       "      <th>imageid</th>\n",
       "      <th>prdtypecode</th>\n",
       "      <th>imagePath</th>\n",
       "    </tr>\n",
       "  </thead>\n",
       "  <tbody>\n",
       "    <tr>\n",
       "      <th>0</th>\n",
       "      <td>Olivia: Personalisiertes Notizbuch / 150 Seite...</td>\n",
       "      <td>NaN</td>\n",
       "      <td>3804725264</td>\n",
       "      <td>1263597046</td>\n",
       "      <td>10</td>\n",
       "      <td>image_1263597046_product_3804725264.jpg</td>\n",
       "    </tr>\n",
       "    <tr>\n",
       "      <th>1</th>\n",
       "      <td>Journal Des Arts (Le) N° 133 Du 28/09/2001 - L...</td>\n",
       "      <td>NaN</td>\n",
       "      <td>436067568</td>\n",
       "      <td>1008141237</td>\n",
       "      <td>2280</td>\n",
       "      <td>image_1008141237_product_436067568.jpg</td>\n",
       "    </tr>\n",
       "    <tr>\n",
       "      <th>2</th>\n",
       "      <td>Grand Stylet Ergonomique Bleu Gamepad Nintendo...</td>\n",
       "      <td>PILOT STYLE Touch Pen de marque Speedlink est ...</td>\n",
       "      <td>201115110</td>\n",
       "      <td>938777978</td>\n",
       "      <td>50</td>\n",
       "      <td>image_938777978_product_201115110.jpg</td>\n",
       "    </tr>\n",
       "    <tr>\n",
       "      <th>3</th>\n",
       "      <td>Peluche Donald - Europe - Disneyland 2000 (Mar...</td>\n",
       "      <td>NaN</td>\n",
       "      <td>50418756</td>\n",
       "      <td>457047496</td>\n",
       "      <td>1280</td>\n",
       "      <td>image_457047496_product_50418756.jpg</td>\n",
       "    </tr>\n",
       "    <tr>\n",
       "      <th>4</th>\n",
       "      <td>La Guerre Des Tuques</td>\n",
       "      <td>Luc a des id&amp;eacute;es de grandeur. Il veut or...</td>\n",
       "      <td>278535884</td>\n",
       "      <td>1077757786</td>\n",
       "      <td>2705</td>\n",
       "      <td>image_1077757786_product_278535884.jpg</td>\n",
       "    </tr>\n",
       "  </tbody>\n",
       "</table>\n",
       "</div>"
      ],
      "text/plain": [
       "                                         designation  \\\n",
       "0  Olivia: Personalisiertes Notizbuch / 150 Seite...   \n",
       "1  Journal Des Arts (Le) N° 133 Du 28/09/2001 - L...   \n",
       "2  Grand Stylet Ergonomique Bleu Gamepad Nintendo...   \n",
       "3  Peluche Donald - Europe - Disneyland 2000 (Mar...   \n",
       "4                               La Guerre Des Tuques   \n",
       "\n",
       "                                         description   productid     imageid  \\\n",
       "0                                                NaN  3804725264  1263597046   \n",
       "1                                                NaN   436067568  1008141237   \n",
       "2  PILOT STYLE Touch Pen de marque Speedlink est ...   201115110   938777978   \n",
       "3                                                NaN    50418756   457047496   \n",
       "4  Luc a des id&eacute;es de grandeur. Il veut or...   278535884  1077757786   \n",
       "\n",
       "   prdtypecode                                imagePath  \n",
       "0           10  image_1263597046_product_3804725264.jpg  \n",
       "1         2280   image_1008141237_product_436067568.jpg  \n",
       "2           50    image_938777978_product_201115110.jpg  \n",
       "3         1280     image_457047496_product_50418756.jpg  \n",
       "4         2705   image_1077757786_product_278535884.jpg  "
      ]
     },
     "execution_count": 3,
     "metadata": {},
     "output_type": "execute_result"
    }
   ],
   "source": [
    "df_train_im.head()"
   ]
  },
  {
   "cell_type": "code",
   "execution_count": 4,
   "id": "d43d8189",
   "metadata": {
    "colab": {
     "base_uri": "https://localhost:8080/",
     "height": 34
    },
    "executionInfo": {
     "elapsed": 11,
     "status": "ok",
     "timestamp": 1634134564801,
     "user": {
      "displayName": "Mourad Mecheri",
      "photoUrl": "https://lh3.googleusercontent.com/a/default-user=s64",
      "userId": "08453845245011476141"
     },
     "user_tz": -120
    },
    "id": "d43d8189",
    "outputId": "2df9d40d-1f91-4eb1-af2e-61fb2a206a2d"
   },
   "outputs": [
    {
     "data": {
      "text/plain": [
       "(84916, 6)"
      ]
     },
     "metadata": {},
     "output_type": "display_data"
    }
   ],
   "source": [
    "display(df_train_im.shape)"
   ]
  },
  {
   "cell_type": "markdown",
   "id": "380b8623",
   "metadata": {
    "id": "380b8623"
   },
   "source": [
    "***Create Dataframe containing  product classes and their associated labels***"
   ]
  },
  {
   "cell_type": "code",
   "execution_count": 5,
   "id": "c65eaf07",
   "metadata": {},
   "outputs": [
    {
     "data": {
      "text/html": [
       "<div>\n",
       "<style scoped>\n",
       "    .dataframe tbody tr th:only-of-type {\n",
       "        vertical-align: middle;\n",
       "    }\n",
       "\n",
       "    .dataframe tbody tr th {\n",
       "        vertical-align: top;\n",
       "    }\n",
       "\n",
       "    .dataframe thead th {\n",
       "        text-align: right;\n",
       "    }\n",
       "</style>\n",
       "<table border=\"1\" class=\"dataframe\">\n",
       "  <thead>\n",
       "    <tr style=\"text-align: right;\">\n",
       "      <th></th>\n",
       "      <th>prdtypecode</th>\n",
       "      <th>Label</th>\n",
       "    </tr>\n",
       "  </thead>\n",
       "  <tbody>\n",
       "    <tr>\n",
       "      <th>0</th>\n",
       "      <td>50</td>\n",
       "      <td>video games accessories</td>\n",
       "    </tr>\n",
       "    <tr>\n",
       "      <th>1</th>\n",
       "      <td>2705</td>\n",
       "      <td>books</td>\n",
       "    </tr>\n",
       "    <tr>\n",
       "      <th>2</th>\n",
       "      <td>2522</td>\n",
       "      <td>stationery</td>\n",
       "    </tr>\n",
       "    <tr>\n",
       "      <th>3</th>\n",
       "      <td>2582</td>\n",
       "      <td>kitchen and garden</td>\n",
       "    </tr>\n",
       "    <tr>\n",
       "      <th>4</th>\n",
       "      <td>1560</td>\n",
       "      <td>interior furniture and bedding</td>\n",
       "    </tr>\n",
       "    <tr>\n",
       "      <th>5</th>\n",
       "      <td>1281</td>\n",
       "      <td>board games</td>\n",
       "    </tr>\n",
       "    <tr>\n",
       "      <th>6</th>\n",
       "      <td>1920</td>\n",
       "      <td>interior accessories</td>\n",
       "    </tr>\n",
       "    <tr>\n",
       "      <th>7</th>\n",
       "      <td>1280</td>\n",
       "      <td>toys for children</td>\n",
       "    </tr>\n",
       "    <tr>\n",
       "      <th>8</th>\n",
       "      <td>1140</td>\n",
       "      <td>goodies</td>\n",
       "    </tr>\n",
       "    <tr>\n",
       "      <th>9</th>\n",
       "      <td>1300</td>\n",
       "      <td>remote controlled models</td>\n",
       "    </tr>\n",
       "    <tr>\n",
       "      <th>10</th>\n",
       "      <td>2060</td>\n",
       "      <td>decoration interior</td>\n",
       "    </tr>\n",
       "    <tr>\n",
       "      <th>11</th>\n",
       "      <td>2583</td>\n",
       "      <td>piscine spa</td>\n",
       "    </tr>\n",
       "    <tr>\n",
       "      <th>12</th>\n",
       "      <td>60</td>\n",
       "      <td>games and consoles</td>\n",
       "    </tr>\n",
       "    <tr>\n",
       "      <th>13</th>\n",
       "      <td>1320</td>\n",
       "      <td>early childhood</td>\n",
       "    </tr>\n",
       "    <tr>\n",
       "      <th>14</th>\n",
       "      <td>2280</td>\n",
       "      <td>magazines</td>\n",
       "    </tr>\n",
       "    <tr>\n",
       "      <th>15</th>\n",
       "      <td>1302</td>\n",
       "      <td>kids toys</td>\n",
       "    </tr>\n",
       "    <tr>\n",
       "      <th>16</th>\n",
       "      <td>2220</td>\n",
       "      <td>supplies for domestic animals</td>\n",
       "    </tr>\n",
       "    <tr>\n",
       "      <th>17</th>\n",
       "      <td>40</td>\n",
       "      <td>imported video games</td>\n",
       "    </tr>\n",
       "    <tr>\n",
       "      <th>18</th>\n",
       "      <td>2905</td>\n",
       "      <td>online distribution of video games</td>\n",
       "    </tr>\n",
       "    <tr>\n",
       "      <th>19</th>\n",
       "      <td>2585</td>\n",
       "      <td>gardening and DIY</td>\n",
       "    </tr>\n",
       "    <tr>\n",
       "      <th>20</th>\n",
       "      <td>1940</td>\n",
       "      <td>Food</td>\n",
       "    </tr>\n",
       "    <tr>\n",
       "      <th>21</th>\n",
       "      <td>1160</td>\n",
       "      <td>playing cards</td>\n",
       "    </tr>\n",
       "    <tr>\n",
       "      <th>22</th>\n",
       "      <td>1301</td>\n",
       "      <td>accessories children</td>\n",
       "    </tr>\n",
       "    <tr>\n",
       "      <th>23</th>\n",
       "      <td>10</td>\n",
       "      <td>adult books</td>\n",
       "    </tr>\n",
       "    <tr>\n",
       "      <th>24</th>\n",
       "      <td>1180</td>\n",
       "      <td>figurines_wargames</td>\n",
       "    </tr>\n",
       "    <tr>\n",
       "      <th>25</th>\n",
       "      <td>2403</td>\n",
       "      <td>children books</td>\n",
       "    </tr>\n",
       "    <tr>\n",
       "      <th>26</th>\n",
       "      <td>2462</td>\n",
       "      <td>games</td>\n",
       "    </tr>\n",
       "  </tbody>\n",
       "</table>\n",
       "</div>"
      ],
      "text/plain": [
       "    prdtypecode                               Label\n",
       "0            50             video games accessories\n",
       "1          2705                               books\n",
       "2          2522                          stationery\n",
       "3          2582                  kitchen and garden\n",
       "4          1560      interior furniture and bedding\n",
       "5          1281                         board games\n",
       "6          1920                interior accessories\n",
       "7          1280                   toys for children\n",
       "8          1140                             goodies\n",
       "9          1300            remote controlled models\n",
       "10         2060                 decoration interior\n",
       "11         2583                         piscine spa\n",
       "12           60                  games and consoles\n",
       "13         1320                     early childhood\n",
       "14         2280                           magazines\n",
       "15         1302                           kids toys\n",
       "16         2220       supplies for domestic animals\n",
       "17           40                imported video games\n",
       "18         2905  online distribution of video games\n",
       "19         2585                   gardening and DIY\n",
       "20         1940                                Food\n",
       "21         1160                       playing cards\n",
       "22         1301                accessories children\n",
       "23           10                         adult books\n",
       "24         1180                  figurines_wargames\n",
       "25         2403                      children books\n",
       "26         2462                               games"
      ]
     },
     "execution_count": 5,
     "metadata": {},
     "output_type": "execute_result"
    }
   ],
   "source": [
    "#Dictionary of prdtypecode and their corresponding categories\n",
    "dict_prdtypecode = {\"prdtypecode\" : [50, 2705, 2522, 2582, 1560, 1281, 1920, 1280, 1140, 1300, 2060, 2583,\n",
    "                                     60, 1320, 2280, 1302, 2220, 40, 2905, 2585, 1940, 1160, 1301, 10, 1180,\n",
    "                                     2403, 2462],                 \n",
    "            \n",
    "                    \"Label\" : [\"video games accessories\", \"books\", \"stationery\", \"kitchen and garden\", \n",
    "                               \"interior furniture and bedding\", \"board games\", \"interior accessories\",\n",
    "                               \"toys for children\",\"goodies\", \"remote controlled models\", \"decoration interior\",\n",
    "                               \"piscine spa\",\"games and consoles\", \"early childhood\", \"magazines\", \"kids toys\",\n",
    "                               \"supplies for domestic animals\", \"imported video games\", \"online distribution of video games\",\n",
    "                               \"gardening and DIY\",\"Food\",\"playing cards\", \"accessories children\", \"adult books\",\n",
    "                               \"figurines_wargames\", \"children books\",\n",
    "                                \"games\"]\n",
    "                   }\n",
    "df_class = pd.DataFrame(data=dict_prdtypecode)\n",
    "df_class"
   ]
  },
  {
   "cell_type": "code",
   "execution_count": 6,
   "id": "92a6002b",
   "metadata": {},
   "outputs": [
    {
     "data": {
      "text/html": [
       "<div>\n",
       "<style scoped>\n",
       "    .dataframe tbody tr th:only-of-type {\n",
       "        vertical-align: middle;\n",
       "    }\n",
       "\n",
       "    .dataframe tbody tr th {\n",
       "        vertical-align: top;\n",
       "    }\n",
       "\n",
       "    .dataframe thead th {\n",
       "        text-align: right;\n",
       "    }\n",
       "</style>\n",
       "<table border=\"1\" class=\"dataframe\">\n",
       "  <thead>\n",
       "    <tr style=\"text-align: right;\">\n",
       "      <th></th>\n",
       "      <th>prdtypecode</th>\n",
       "      <th>Label</th>\n",
       "      <th>target_prdtypecode</th>\n",
       "    </tr>\n",
       "  </thead>\n",
       "  <tbody>\n",
       "    <tr>\n",
       "      <th>23</th>\n",
       "      <td>10</td>\n",
       "      <td>adult books</td>\n",
       "      <td>0</td>\n",
       "    </tr>\n",
       "    <tr>\n",
       "      <th>17</th>\n",
       "      <td>40</td>\n",
       "      <td>imported video games</td>\n",
       "      <td>1</td>\n",
       "    </tr>\n",
       "    <tr>\n",
       "      <th>0</th>\n",
       "      <td>50</td>\n",
       "      <td>video games accessories</td>\n",
       "      <td>2</td>\n",
       "    </tr>\n",
       "    <tr>\n",
       "      <th>12</th>\n",
       "      <td>60</td>\n",
       "      <td>games and consoles</td>\n",
       "      <td>3</td>\n",
       "    </tr>\n",
       "    <tr>\n",
       "      <th>8</th>\n",
       "      <td>1140</td>\n",
       "      <td>goodies</td>\n",
       "      <td>4</td>\n",
       "    </tr>\n",
       "    <tr>\n",
       "      <th>21</th>\n",
       "      <td>1160</td>\n",
       "      <td>playing cards</td>\n",
       "      <td>5</td>\n",
       "    </tr>\n",
       "    <tr>\n",
       "      <th>24</th>\n",
       "      <td>1180</td>\n",
       "      <td>figurines_wargames</td>\n",
       "      <td>6</td>\n",
       "    </tr>\n",
       "    <tr>\n",
       "      <th>7</th>\n",
       "      <td>1280</td>\n",
       "      <td>toys for children</td>\n",
       "      <td>7</td>\n",
       "    </tr>\n",
       "    <tr>\n",
       "      <th>5</th>\n",
       "      <td>1281</td>\n",
       "      <td>board games</td>\n",
       "      <td>8</td>\n",
       "    </tr>\n",
       "    <tr>\n",
       "      <th>9</th>\n",
       "      <td>1300</td>\n",
       "      <td>remote controlled models</td>\n",
       "      <td>9</td>\n",
       "    </tr>\n",
       "    <tr>\n",
       "      <th>22</th>\n",
       "      <td>1301</td>\n",
       "      <td>accessories children</td>\n",
       "      <td>10</td>\n",
       "    </tr>\n",
       "    <tr>\n",
       "      <th>15</th>\n",
       "      <td>1302</td>\n",
       "      <td>kids toys</td>\n",
       "      <td>11</td>\n",
       "    </tr>\n",
       "    <tr>\n",
       "      <th>13</th>\n",
       "      <td>1320</td>\n",
       "      <td>early childhood</td>\n",
       "      <td>12</td>\n",
       "    </tr>\n",
       "    <tr>\n",
       "      <th>4</th>\n",
       "      <td>1560</td>\n",
       "      <td>interior furniture and bedding</td>\n",
       "      <td>13</td>\n",
       "    </tr>\n",
       "    <tr>\n",
       "      <th>6</th>\n",
       "      <td>1920</td>\n",
       "      <td>interior accessories</td>\n",
       "      <td>14</td>\n",
       "    </tr>\n",
       "    <tr>\n",
       "      <th>20</th>\n",
       "      <td>1940</td>\n",
       "      <td>Food</td>\n",
       "      <td>15</td>\n",
       "    </tr>\n",
       "    <tr>\n",
       "      <th>10</th>\n",
       "      <td>2060</td>\n",
       "      <td>decoration interior</td>\n",
       "      <td>16</td>\n",
       "    </tr>\n",
       "    <tr>\n",
       "      <th>16</th>\n",
       "      <td>2220</td>\n",
       "      <td>supplies for domestic animals</td>\n",
       "      <td>17</td>\n",
       "    </tr>\n",
       "    <tr>\n",
       "      <th>14</th>\n",
       "      <td>2280</td>\n",
       "      <td>magazines</td>\n",
       "      <td>18</td>\n",
       "    </tr>\n",
       "    <tr>\n",
       "      <th>25</th>\n",
       "      <td>2403</td>\n",
       "      <td>children books</td>\n",
       "      <td>19</td>\n",
       "    </tr>\n",
       "    <tr>\n",
       "      <th>26</th>\n",
       "      <td>2462</td>\n",
       "      <td>games</td>\n",
       "      <td>20</td>\n",
       "    </tr>\n",
       "    <tr>\n",
       "      <th>2</th>\n",
       "      <td>2522</td>\n",
       "      <td>stationery</td>\n",
       "      <td>21</td>\n",
       "    </tr>\n",
       "    <tr>\n",
       "      <th>3</th>\n",
       "      <td>2582</td>\n",
       "      <td>kitchen and garden</td>\n",
       "      <td>22</td>\n",
       "    </tr>\n",
       "    <tr>\n",
       "      <th>11</th>\n",
       "      <td>2583</td>\n",
       "      <td>piscine spa</td>\n",
       "      <td>23</td>\n",
       "    </tr>\n",
       "    <tr>\n",
       "      <th>19</th>\n",
       "      <td>2585</td>\n",
       "      <td>gardening and DIY</td>\n",
       "      <td>24</td>\n",
       "    </tr>\n",
       "    <tr>\n",
       "      <th>1</th>\n",
       "      <td>2705</td>\n",
       "      <td>books</td>\n",
       "      <td>25</td>\n",
       "    </tr>\n",
       "    <tr>\n",
       "      <th>18</th>\n",
       "      <td>2905</td>\n",
       "      <td>online distribution of video games</td>\n",
       "      <td>26</td>\n",
       "    </tr>\n",
       "  </tbody>\n",
       "</table>\n",
       "</div>"
      ],
      "text/plain": [
       "    prdtypecode                               Label  target_prdtypecode\n",
       "23           10                         adult books                   0\n",
       "17           40                imported video games                   1\n",
       "0            50             video games accessories                   2\n",
       "12           60                  games and consoles                   3\n",
       "8          1140                             goodies                   4\n",
       "21         1160                       playing cards                   5\n",
       "24         1180                  figurines_wargames                   6\n",
       "7          1280                   toys for children                   7\n",
       "5          1281                         board games                   8\n",
       "9          1300            remote controlled models                   9\n",
       "22         1301                accessories children                  10\n",
       "15         1302                           kids toys                  11\n",
       "13         1320                     early childhood                  12\n",
       "4          1560      interior furniture and bedding                  13\n",
       "6          1920                interior accessories                  14\n",
       "20         1940                                Food                  15\n",
       "10         2060                 decoration interior                  16\n",
       "16         2220       supplies for domestic animals                  17\n",
       "14         2280                           magazines                  18\n",
       "25         2403                      children books                  19\n",
       "26         2462                               games                  20\n",
       "2          2522                          stationery                  21\n",
       "3          2582                  kitchen and garden                  22\n",
       "11         2583                         piscine spa                  23\n",
       "19         2585                   gardening and DIY                  24\n",
       "1          2705                               books                  25\n",
       "18         2905  online distribution of video games                  26"
      ]
     },
     "execution_count": 6,
     "metadata": {},
     "output_type": "execute_result"
    }
   ],
   "source": [
    "# Crate DF containing prdtypecode , categories and corresponding class used by model\n",
    "df_class = df_class.sort_values(by = 'prdtypecode', ascending = True)\n",
    "df_class['target_prdtypecode'] = [i for i in range(27)]\n",
    "df_class"
   ]
  },
  {
   "cell_type": "markdown",
   "id": "4c818d53-2424-43b8-a60f-2bc59d03bc1d",
   "metadata": {},
   "source": [
    "***Change the 27 product codes to 0 to 26***"
   ]
  },
  {
   "cell_type": "code",
   "execution_count": 7,
   "id": "56ea410b",
   "metadata": {
    "executionInfo": {
     "elapsed": 191,
     "status": "ok",
     "timestamp": 1634134621597,
     "user": {
      "displayName": "Mourad Mecheri",
      "photoUrl": "https://lh3.googleusercontent.com/a/default-user=s64",
      "userId": "08453845245011476141"
     },
     "user_tz": -120
    },
    "id": "56ea410b"
   },
   "outputs": [],
   "source": [
    "df_train_im.replace({'prdtypecode':{10:0,\n",
    "                                    40:1,\n",
    "                                    50:2,\n",
    "                                    60:3,\n",
    "                                    1140:4,\n",
    "                                    1160:5,\n",
    "                                    1180:6,\n",
    "                                    1280:7,\n",
    "                                    1281:8,\n",
    "                                    1300:9                                    \n",
    "                                    }}, inplace = True)\n",
    "\n",
    "df_train_im.replace({'prdtypecode':{1301:10,\n",
    "                                    1302:11,\n",
    "                                    1320:12,\n",
    "                                    1560:13,\n",
    "                                    1920:14,\n",
    "                                    1940:15,\n",
    "                                    2060:16,\n",
    "                                    2220:17,\n",
    "                                    2280:18,\n",
    "                                    2403:19,\n",
    "                                    2462:20,\n",
    "                                    2522:21,\n",
    "                                    2582:22,\n",
    "                                    2583:23,\n",
    "                                    2585:24,\n",
    "                                    2705:25,\n",
    "                                    2905:26\n",
    "                                    }}, inplace = True)"
   ]
  },
  {
   "cell_type": "code",
   "execution_count": 8,
   "id": "4eafb15b",
   "metadata": {
    "colab": {
     "base_uri": "https://localhost:8080/",
     "height": 51
    },
    "executionInfo": {
     "elapsed": 220,
     "status": "ok",
     "timestamp": 1634134626306,
     "user": {
      "displayName": "Mourad Mecheri",
      "photoUrl": "https://lh3.googleusercontent.com/a/default-user=s64",
      "userId": "08453845245011476141"
     },
     "user_tz": -120
    },
    "id": "4eafb15b",
    "outputId": "d58b0b3b-65ac-4f95-ed66-7abb38c14a57"
   },
   "outputs": [
    {
     "data": {
      "text/plain": [
       "array([ 0, 18,  2,  7, 25, 21, 22, 13,  8, 14, 19,  4, 23,  6,  9, 20,  5,\n",
       "       16,  1,  3, 12, 11, 17, 26, 24, 15, 10], dtype=int64)"
      ]
     },
     "metadata": {},
     "output_type": "display_data"
    }
   ],
   "source": [
    "display(df_train_im[\"prdtypecode\"].unique())"
   ]
  },
  {
   "cell_type": "markdown",
   "id": "18e21067-7fd3-43df-b815-983af9df9eae",
   "metadata": {},
   "source": [
    " ***Convert product code to string type***"
   ]
  },
  {
   "cell_type": "code",
   "execution_count": 9,
   "id": "26db6db0",
   "metadata": {},
   "outputs": [],
   "source": [
    "df_train_im[\"prdtypecode\"] = df_train_im[\"prdtypecode\"].astype(str)"
   ]
  },
  {
   "cell_type": "code",
   "execution_count": 10,
   "id": "6c853f0c-ac56-4e18-adfc-12e7626bcc61",
   "metadata": {},
   "outputs": [
    {
     "data": {
      "text/plain": [
       "{'0': 3116,\n",
       " '1': 2508,\n",
       " '10': 807,\n",
       " '11': 2491,\n",
       " '12': 3241,\n",
       " '13': 5073,\n",
       " '14': 4303,\n",
       " '15': 803,\n",
       " '16': 4993,\n",
       " '17': 824,\n",
       " '18': 4760,\n",
       " '19': 4774,\n",
       " '2': 1681,\n",
       " '20': 1421,\n",
       " '21': 4989,\n",
       " '22': 2589,\n",
       " '23': 10209,\n",
       " '24': 2496,\n",
       " '25': 2761,\n",
       " '26': 872,\n",
       " '3': 832,\n",
       " '4': 2671,\n",
       " '5': 3953,\n",
       " '6': 764,\n",
       " '7': 4870,\n",
       " '8': 2070,\n",
       " '9': 5045}"
      ]
     },
     "execution_count": 10,
     "metadata": {},
     "output_type": "execute_result"
    }
   ],
   "source": [
    "unique, counts = np.unique(df_train_im[\"prdtypecode\"], return_counts=True)\n",
    "dict(zip(unique, counts))"
   ]
  },
  {
   "cell_type": "markdown",
   "id": "6e0304e8",
   "metadata": {},
   "source": [
    " ***Split Train Set***"
   ]
  },
  {
   "cell_type": "code",
   "execution_count": 11,
   "id": "8b18d8bb",
   "metadata": {},
   "outputs": [],
   "source": [
    "# Split Train set \n",
    "X_train_im, X_test_im = train_test_split(df_train_im, train_size=0.8, random_state=1234)"
   ]
  },
  {
   "cell_type": "code",
   "execution_count": 12,
   "id": "83a90b61",
   "metadata": {},
   "outputs": [
    {
     "data": {
      "text/plain": [
       "(67932, 6)"
      ]
     },
     "metadata": {},
     "output_type": "display_data"
    },
    {
     "data": {
      "text/plain": [
       "(16984, 6)"
      ]
     },
     "metadata": {},
     "output_type": "display_data"
    }
   ],
   "source": [
    "display(X_train_im.shape)\n",
    "display(X_test_im.shape)"
   ]
  },
  {
   "cell_type": "markdown",
   "id": "82625273",
   "metadata": {},
   "source": [
    "***Data Generator***"
   ]
  },
  {
   "cell_type": "code",
   "execution_count": 39,
   "id": "e2c1f1ef",
   "metadata": {
    "colab": {
     "base_uri": "https://localhost:8080/"
    },
    "executionInfo": {
     "elapsed": 215,
     "status": "ok",
     "timestamp": 1634134641759,
     "user": {
      "displayName": "Mourad Mecheri",
      "photoUrl": "https://lh3.googleusercontent.com/a/default-user=s64",
      "userId": "08453845245011476141"
     },
     "user_tz": -120
    },
    "id": "e2c1f1ef",
    "outputId": "11940c5a-39fe-4b68-b766-528d372d90ec"
   },
   "outputs": [],
   "source": [
    "img_rows = 299\n",
    "img_cols = 299\n",
    "batch_size = 64\n",
    "epochs = 50\n",
    "\n",
    "# Directory of images already resized on 256 x 256 \n",
    "#images_dir_train = './data/images/all/image_train_resized/'\n",
    "#images_dir_train = 'E:/WorkSpace_DataScience_E/Rakuten_Projet_Local/My_WS/data/images/all/image_train_resized/'\n",
    "\n",
    "# Directory of images org resize 500 x 500\n",
    "images_dir_train = './data/images/all/image_train/'\n",
    "#images_dir_train = 'E:/WorkSpace_DataScience_E/Rakuten_Projet_Local/My_WS/data/images/all/image_train/'"
   ]
  },
  {
   "cell_type": "code",
   "execution_count": 40,
   "id": "17b3712d",
   "metadata": {},
   "outputs": [
    {
     "name": "stdout",
     "output_type": "stream",
     "text": [
      "Wall time: 0 ns\n"
     ]
    }
   ],
   "source": [
    "%%time\n",
    "#Générateur de données\n",
    "train_datagen = ImageDataGenerator(rescale = 1/255,\n",
    "                                  shear_range=0.2,\n",
    "                                  rotation_range = 45,\n",
    "                                  width_shift_range = 0.1,\n",
    "                                  height_shift_range = 0.1,\n",
    "                                  zoom_range = 0.2,\n",
    "                                  horizontal_flip = True,\n",
    "                                  vertical_flip = True\n",
    "                                  #validation_split = 0.2\n",
    "                                )"
   ]
  },
  {
   "cell_type": "code",
   "execution_count": 41,
   "id": "c1555312",
   "metadata": {},
   "outputs": [
    {
     "name": "stdout",
     "output_type": "stream",
     "text": [
      "Wall time: 0 ns\n"
     ]
    }
   ],
   "source": [
    "%%time\n",
    "valid_datagen = ImageDataGenerator(rescale=1./255)"
   ]
  },
  {
   "cell_type": "code",
   "execution_count": 42,
   "id": "16aa7587",
   "metadata": {},
   "outputs": [
    {
     "name": "stdout",
     "output_type": "stream",
     "text": [
      "Found 67932 validated image filenames belonging to 27 classes.\n",
      "Wall time: 4.45 s\n"
     ]
    }
   ],
   "source": [
    "%%time\n",
    "\n",
    "#Itérateur \n",
    "train_generator = train_datagen.flow_from_dataframe(dataframe = X_train_im,\n",
    "                                              directory = images_dir_train,\n",
    "                                              as_ext = True,\n",
    "                                              x_col = 'imagePath',\n",
    "                                              y_col = 'prdtypecode',  #target data                                            \n",
    "                                              class_mode = 'sparse',                                             \n",
    "                                              target_size = (img_rows , img_cols), # default 256 x 256                                             \n",
    "                                              batch_size = batch_size,                                             \n",
    "                                              shuffle = True  # défault\n",
    "                                              #subset = 'training'\n",
    "                                             )"
   ]
  },
  {
   "cell_type": "code",
   "execution_count": 43,
   "id": "a35607a7",
   "metadata": {},
   "outputs": [
    {
     "name": "stdout",
     "output_type": "stream",
     "text": [
      "Found 16984 validated image filenames belonging to 27 classes.\n",
      "Wall time: 670 ms\n"
     ]
    }
   ],
   "source": [
    "%%time\n",
    "# validation_split the validation batches ca be retrieved by specifying the subset as validation.\n",
    "valid_generator = valid_datagen.flow_from_dataframe(dataframe = X_test_im, \n",
    "                                              directory = images_dir_train,\n",
    "                                              as_ext = True,\n",
    "                                              x_col = 'imagePath',\n",
    "                                              y_col = 'prdtypecode',  #target data                                            \n",
    "                                              class_mode = 'sparse',                                        \n",
    "                                              target_size = (img_rows , img_cols), # default 256 x 256                                         \n",
    "                                              batch_size = batch_size, \n",
    "                                              shuffle = False\n",
    "                                              #subset  = 'validation'\n",
    "                                             )"
   ]
  },
  {
   "cell_type": "markdown",
   "id": "3241b27e",
   "metadata": {
    "id": "3241b27e"
   },
   "source": [
    " ***InceptionResNetV2 Implementation***"
   ]
  },
  {
   "cell_type": "code",
   "execution_count": 44,
   "id": "1a56928f",
   "metadata": {
    "id": "1a56928f",
    "outputId": "3309c8d0-8391-4e65-82b1-1a57b201c975"
   },
   "outputs": [
    {
     "name": "stdout",
     "output_type": "stream",
     "text": [
      "Wall time: 3.94 s\n"
     ]
    }
   ],
   "source": [
    "%%time\n",
    "# Chargement du modèle InceptionResNetV2\n",
    "inceptionResNetV2 = InceptionResNetV2(weights='imagenet', include_top = False, input_shape=(img_rows,img_rows,3))\n",
    "\n",
    "# Bloquage du blackbone\n",
    "for layer in inceptionResNetV2.layers:\n",
    "    layer.trainable = False   "
   ]
  },
  {
   "cell_type": "markdown",
   "id": "dbe510d3",
   "metadata": {},
   "source": [
    " ***unfreeze last 8 layers base model model - fine tuning***"
   ]
  },
  {
   "cell_type": "code",
   "execution_count": 45,
   "id": "31bde30d",
   "metadata": {},
   "outputs": [],
   "source": [
    "# Débloquage du blackbone\n",
    "for layer in inceptionResNetV2.layers[-8:]:\n",
    "    layer.trainable = True"
   ]
  },
  {
   "cell_type": "code",
   "execution_count": 46,
   "id": "8144f107",
   "metadata": {},
   "outputs": [
    {
     "name": "stdout",
     "output_type": "stream",
     "text": [
      "Model: \"sequential_6\"\n",
      "_________________________________________________________________\n",
      "Layer (type)                 Output Shape              Param #   \n",
      "=================================================================\n",
      "inception_resnet_v2 (Functio (None, 8, 8, 1536)        54336736  \n",
      "_________________________________________________________________\n",
      "global_average_pooling2d_6 ( (None, 1536)              0         \n",
      "_________________________________________________________________\n",
      "dense_18 (Dense)             (None, 1024)              1573888   \n",
      "_________________________________________________________________\n",
      "dropout_12 (Dropout)         (None, 1024)              0         \n",
      "_________________________________________________________________\n",
      "dense_19 (Dense)             (None, 512)               524800    \n",
      "_________________________________________________________________\n",
      "dropout_13 (Dropout)         (None, 512)               0         \n",
      "_________________________________________________________________\n",
      "dense_20 (Dense)             (None, 27)                13851     \n",
      "=================================================================\n",
      "Total params: 56,449,275\n",
      "Trainable params: 6,242,875\n",
      "Non-trainable params: 50,206,400\n",
      "_________________________________________________________________\n"
     ]
    }
   ],
   "source": [
    "model = Sequential()\n",
    "model.add(inceptionResNetV2)\n",
    "# Ajout des couche de classification\n",
    "model.add(GlobalAveragePooling2D()) \n",
    "model.add(Dense(units = 1024,activation='relu'))\n",
    "\n",
    "model.add(Dropout(rate = 0.2))\n",
    "model.add(Dense(units = 512, activation='relu'))\n",
    "\n",
    "model.add(Dropout(rate = 0.2))\n",
    "model.add(Dense(units = 27, activation='softmax'))\n",
    "model.summary()"
   ]
  },
  {
   "cell_type": "code",
   "execution_count": 47,
   "id": "e0a34803",
   "metadata": {},
   "outputs": [
    {
     "name": "stdout",
     "output_type": "stream",
     "text": [
      "Last the last ten layers base model - Xception: \n",
      " \n",
      "                  batch_normalization_808    False\n",
      "                  batch_normalization_811    False\n",
      "                  activation_808    True\n",
      "                  activation_811    True\n",
      "                  block8_10_mixed    True\n",
      "                  block8_10_conv    True\n",
      "                  block8_10    True\n",
      "                  conv_7b    True\n",
      "                  conv_7b_bn    True\n",
      "                  conv_7b_ac    True\n",
      "\n",
      " Layers of built model: \n",
      "\n",
      "                  inception_resnet_v2    True\n",
      "                  global_average_pooling2d_6    True\n",
      "                  dense_18    True\n",
      "                  dropout_12    True\n",
      "                  dense_19    True\n",
      "                  dropout_13    True\n",
      "                  dense_20    True\n"
     ]
    }
   ],
   "source": [
    "#print(len(model.layers))\n",
    "print('Last the last ten layers base model - Xception: \\n ')  \n",
    "for layer in inceptionResNetV2.layers[-10:]:\n",
    "    print(\"                 \", layer.name, \"  \" , layer.trainable)\n",
    "    \n",
    "print('\\n Layers of built model: \\n')  \n",
    "\n",
    "for layer in model.layers:\n",
    "    print(\"                 \", layer.name, \"  \" , layer.trainable)"
   ]
  },
  {
   "cell_type": "markdown",
   "id": "233e26ad",
   "metadata": {},
   "source": [
    " ***Compilation***"
   ]
  },
  {
   "cell_type": "code",
   "execution_count": 48,
   "id": "9caba2fb",
   "metadata": {},
   "outputs": [
    {
     "name": "stdout",
     "output_type": "stream",
     "text": [
      "Wall time: 12.2 ms\n"
     ]
    }
   ],
   "source": [
    "%%time\n",
    "# Compilation\n",
    "model.compile(loss='sparse_categorical_crossentropy',  # fonction de perte\n",
    "              optimizer= Adam(learning_rate= 1e-5) ,   #default lr = 0.001 # algorithme de descente de gradient\n",
    "              metrics=['accuracy'])                    # métrique d'évaluation"
   ]
  },
  {
   "cell_type": "markdown",
   "id": "6266d9a2",
   "metadata": {
    "id": "6266d9a2"
   },
   "source": [
    "***Callbacks***"
   ]
  },
  {
   "cell_type": "code",
   "execution_count": 53,
   "id": "cd04edfd",
   "metadata": {
    "id": "cd04edfd",
    "outputId": "19043533-d360-4dfb-d821-8c8f39ea073b"
   },
   "outputs": [
    {
     "name": "stdout",
     "output_type": "stream",
     "text": [
      "Wall time: 0 ns\n"
     ]
    }
   ],
   "source": [
    "%%time\n",
    "path = './saves/InceptionResNetV2/Iteration_4_2/'\n",
    "file_name = 'checkpoint_InceptionResNetV2_19122021_Shape_299x299_50Epochs.h5'\n",
    "\n",
    "#Sauvegarder les meilleurs poids du modèle au cours de l'entraînement :\n",
    "checkpoint = ModelCheckpoint(filepath = path + file_name , \n",
    "                             monitor ='val_accuracy',\n",
    "                             verbose = 1,\n",
    "                             save_best_only = True, # (pour que le meilleur modèle ne soit pas écrasé)\n",
    "                             save_weights_only = False,\n",
    "                             mode ='max', #(permet de préciser si la métrique doit croître ou décroitre : ici on choisit 'min'\n",
    "                                           #car la métrique est une perte à minimiser)\n",
    "                             save_freq='epoch')\n",
    "#Arrêter l'entraînement si le modèle n'évolue plus (très pratique pour ne pas gérer le\n",
    "#nombre d'epoch) :\n",
    "early = EarlyStopping(monitor='val_loss',\n",
    "                      min_delta = 0,\n",
    "                      patience = 10, #(nombre d'epochs à attendre avant d'arrêter l'entraînement\n",
    "                      restore_best_weights = True,\n",
    "                      verbose = 1,\n",
    "                      mode = 'min')\n",
    "\n",
    "lr_plateau = ReduceLROnPlateau(monitor = 'val_loss',\n",
    "                               patience = 10,\n",
    "                               verbose = 1,\n",
    "                                mode='min'\n",
    "                                )"
   ]
  },
  {
   "cell_type": "markdown",
   "id": "5ab7aa20",
   "metadata": {
    "id": "5ab7aa20"
   },
   "source": [
    " ***Fit - train_generator***"
   ]
  },
  {
   "cell_type": "code",
   "execution_count": 54,
   "id": "95bc66c7",
   "metadata": {},
   "outputs": [
    {
     "name": "stdout",
     "output_type": "stream",
     "text": [
      "step_size_Train :  1061\n",
      "step_size_Valid  :  265\n"
     ]
    }
   ],
   "source": [
    "step_size_Train = train_generator.n//train_generator.batch_size\n",
    "step_size_Valid = valid_generator.n//valid_generator.batch_size\n",
    "print('step_size_Train : ' , step_size_Train)\n",
    "print('step_size_Valid  : ' , step_size_Valid)"
   ]
  },
  {
   "cell_type": "code",
   "execution_count": 55,
   "id": "6099def0",
   "metadata": {
    "id": "6099def0",
    "outputId": "7aa5fc74-d64e-47c2-dde0-0270be09fc24"
   },
   "outputs": [
    {
     "name": "stdout",
     "output_type": "stream",
     "text": [
      "Epoch 1/50\n",
      "1061/1061 [==============================] - 1125s 1s/step - loss: 2.3619 - accuracy: 0.3395 - val_loss: 1.8843 - val_accuracy: 0.4613\n",
      "\n",
      "Epoch 00001: val_accuracy improved from -inf to 0.46132, saving model to ./saves/InceptionResNetV2/Iteration_4_2\\checkpoint_InceptionResNetV2_19122021_Shape_299x299_50Epochs.h5\n",
      "Epoch 2/50\n",
      "1061/1061 [==============================] - 1131s 1s/step - loss: 1.8726 - accuracy: 0.4526 - val_loss: 1.6935 - val_accuracy: 0.5021\n",
      "\n",
      "Epoch 00002: val_accuracy improved from 0.46132 to 0.50206, saving model to ./saves/InceptionResNetV2/Iteration_4_2\\checkpoint_InceptionResNetV2_19122021_Shape_299x299_50Epochs.h5\n",
      "Epoch 3/50\n",
      "1061/1061 [==============================] - 1133s 1s/step - loss: 1.7439 - accuracy: 0.4867 - val_loss: 1.6097 - val_accuracy: 0.5261\n",
      "\n",
      "Epoch 00003: val_accuracy improved from 0.50206 to 0.52606, saving model to ./saves/InceptionResNetV2/Iteration_4_2\\checkpoint_InceptionResNetV2_19122021_Shape_299x299_50Epochs.h5\n",
      "Epoch 4/50\n",
      "1061/1061 [==============================] - 1121s 1s/step - loss: 1.6686 - accuracy: 0.5051 - val_loss: 1.5582 - val_accuracy: 0.5344\n",
      "\n",
      "Epoch 00004: val_accuracy improved from 0.52606 to 0.53443, saving model to ./saves/InceptionResNetV2/Iteration_4_2\\checkpoint_InceptionResNetV2_19122021_Shape_299x299_50Epochs.h5\n",
      "Epoch 5/50\n",
      "1061/1061 [==============================] - 1108s 1s/step - loss: 1.6057 - accuracy: 0.5230 - val_loss: 1.5209 - val_accuracy: 0.5467\n",
      "\n",
      "Epoch 00005: val_accuracy improved from 0.53443 to 0.54670, saving model to ./saves/InceptionResNetV2/Iteration_4_2\\checkpoint_InceptionResNetV2_19122021_Shape_299x299_50Epochs.h5\n",
      "Epoch 6/50\n",
      "1061/1061 [==============================] - 1132s 1s/step - loss: 1.5578 - accuracy: 0.5362 - val_loss: 1.4803 - val_accuracy: 0.5601\n",
      "\n",
      "Epoch 00006: val_accuracy improved from 0.54670 to 0.56008, saving model to ./saves/InceptionResNetV2/Iteration_4_2\\checkpoint_InceptionResNetV2_19122021_Shape_299x299_50Epochs.h5\n",
      "Epoch 7/50\n",
      "1061/1061 [==============================] - 1106s 1s/step - loss: 1.5254 - accuracy: 0.5458 - val_loss: 1.4575 - val_accuracy: 0.5642\n",
      "\n",
      "Epoch 00007: val_accuracy improved from 0.56008 to 0.56421, saving model to ./saves/InceptionResNetV2/Iteration_4_2\\checkpoint_InceptionResNetV2_19122021_Shape_299x299_50Epochs.h5\n",
      "Epoch 8/50\n",
      "1061/1061 [==============================] - 1108s 1s/step - loss: 1.4848 - accuracy: 0.5558 - val_loss: 1.4357 - val_accuracy: 0.5696\n",
      "\n",
      "Epoch 00008: val_accuracy improved from 0.56421 to 0.56958, saving model to ./saves/InceptionResNetV2/Iteration_4_2\\checkpoint_InceptionResNetV2_19122021_Shape_299x299_50Epochs.h5\n",
      "Epoch 9/50\n",
      "1061/1061 [==============================] - 1132s 1s/step - loss: 1.4611 - accuracy: 0.5616 - val_loss: 1.4185 - val_accuracy: 0.5738\n",
      "\n",
      "Epoch 00009: val_accuracy improved from 0.56958 to 0.57382, saving model to ./saves/InceptionResNetV2/Iteration_4_2\\checkpoint_InceptionResNetV2_19122021_Shape_299x299_50Epochs.h5\n",
      "Epoch 10/50\n",
      "1061/1061 [==============================] - 1111s 1s/step - loss: 1.4319 - accuracy: 0.5709 - val_loss: 1.4073 - val_accuracy: 0.5756\n",
      "\n",
      "Epoch 00010: val_accuracy improved from 0.57382 to 0.57559, saving model to ./saves/InceptionResNetV2/Iteration_4_2\\checkpoint_InceptionResNetV2_19122021_Shape_299x299_50Epochs.h5\n",
      "Epoch 11/50\n",
      "1061/1061 [==============================] - 1084s 1s/step - loss: 1.4063 - accuracy: 0.5793 - val_loss: 1.3798 - val_accuracy: 0.5850\n",
      "\n",
      "Epoch 00011: val_accuracy improved from 0.57559 to 0.58496, saving model to ./saves/InceptionResNetV2/Iteration_4_2\\checkpoint_InceptionResNetV2_19122021_Shape_299x299_50Epochs.h5\n",
      "Epoch 12/50\n",
      "1061/1061 [==============================] - 1102s 1s/step - loss: 1.3881 - accuracy: 0.5826 - val_loss: 1.3772 - val_accuracy: 0.5861\n",
      "\n",
      "Epoch 00012: val_accuracy improved from 0.58496 to 0.58608, saving model to ./saves/InceptionResNetV2/Iteration_4_2\\checkpoint_InceptionResNetV2_19122021_Shape_299x299_50Epochs.h5\n",
      "Epoch 13/50\n",
      "1061/1061 [==============================] - 1084s 1s/step - loss: 1.3639 - accuracy: 0.5901 - val_loss: 1.3639 - val_accuracy: 0.5864\n",
      "\n",
      "Epoch 00013: val_accuracy improved from 0.58608 to 0.58638, saving model to ./saves/InceptionResNetV2/Iteration_4_2\\checkpoint_InceptionResNetV2_19122021_Shape_299x299_50Epochs.h5\n",
      "Epoch 14/50\n",
      "1061/1061 [==============================] - 1092s 1s/step - loss: 1.3435 - accuracy: 0.5950 - val_loss: 1.3512 - val_accuracy: 0.5906\n",
      "\n",
      "Epoch 00014: val_accuracy improved from 0.58638 to 0.59062, saving model to ./saves/InceptionResNetV2/Iteration_4_2\\checkpoint_InceptionResNetV2_19122021_Shape_299x299_50Epochs.h5\n",
      "Epoch 15/50\n",
      "1061/1061 [==============================] - 1103s 1s/step - loss: 1.3305 - accuracy: 0.5979 - val_loss: 1.3352 - val_accuracy: 0.5959\n",
      "\n",
      "Epoch 00015: val_accuracy improved from 0.59062 to 0.59593, saving model to ./saves/InceptionResNetV2/Iteration_4_2\\checkpoint_InceptionResNetV2_19122021_Shape_299x299_50Epochs.h5\n",
      "Epoch 16/50\n",
      "1061/1061 [==============================] - 1080s 1s/step - loss: 1.3125 - accuracy: 0.6036 - val_loss: 1.3249 - val_accuracy: 0.5996\n",
      "\n",
      "Epoch 00016: val_accuracy improved from 0.59593 to 0.59959, saving model to ./saves/InceptionResNetV2/Iteration_4_2\\checkpoint_InceptionResNetV2_19122021_Shape_299x299_50Epochs.h5\n",
      "Epoch 17/50\n",
      "1061/1061 [==============================] - 1085s 1s/step - loss: 1.2954 - accuracy: 0.6080 - val_loss: 1.3249 - val_accuracy: 0.5978\n",
      "\n",
      "Epoch 00017: val_accuracy did not improve from 0.59959\n",
      "Epoch 18/50\n",
      "1061/1061 [==============================] - 1102s 1s/step - loss: 1.2781 - accuracy: 0.6134 - val_loss: 1.3148 - val_accuracy: 0.6009\n",
      "\n",
      "Epoch 00018: val_accuracy improved from 0.59959 to 0.60088, saving model to ./saves/InceptionResNetV2/Iteration_4_2\\checkpoint_InceptionResNetV2_19122021_Shape_299x299_50Epochs.h5\n",
      "Epoch 19/50\n",
      "1061/1061 [==============================] - 1085s 1s/step - loss: 1.2642 - accuracy: 0.6160 - val_loss: 1.3112 - val_accuracy: 0.6038\n",
      "\n",
      "Epoch 00019: val_accuracy improved from 0.60088 to 0.60383, saving model to ./saves/InceptionResNetV2/Iteration_4_2\\checkpoint_InceptionResNetV2_19122021_Shape_299x299_50Epochs.h5\n",
      "Epoch 20/50\n",
      "1061/1061 [==============================] - 1086s 1s/step - loss: 1.2508 - accuracy: 0.6205 - val_loss: 1.2944 - val_accuracy: 0.6065\n",
      "\n",
      "Epoch 00020: val_accuracy improved from 0.60383 to 0.60654, saving model to ./saves/InceptionResNetV2/Iteration_4_2\\checkpoint_InceptionResNetV2_19122021_Shape_299x299_50Epochs.h5\n",
      "Epoch 21/50\n",
      "1061/1061 [==============================] - 1104s 1s/step - loss: 1.2404 - accuracy: 0.6237 - val_loss: 1.2913 - val_accuracy: 0.6075\n",
      "\n",
      "Epoch 00021: val_accuracy improved from 0.60654 to 0.60755, saving model to ./saves/InceptionResNetV2/Iteration_4_2\\checkpoint_InceptionResNetV2_19122021_Shape_299x299_50Epochs.h5\n",
      "Epoch 22/50\n",
      "1061/1061 [==============================] - 1084s 1s/step - loss: 1.2245 - accuracy: 0.6280 - val_loss: 1.2856 - val_accuracy: 0.6091\n",
      "\n",
      "Epoch 00022: val_accuracy improved from 0.60755 to 0.60908, saving model to ./saves/InceptionResNetV2/Iteration_4_2\\checkpoint_InceptionResNetV2_19122021_Shape_299x299_50Epochs.h5\n",
      "Epoch 23/50\n",
      "1061/1061 [==============================] - 1087s 1s/step - loss: 1.2155 - accuracy: 0.6294 - val_loss: 1.2778 - val_accuracy: 0.6118\n",
      "\n",
      "Epoch 00023: val_accuracy improved from 0.60908 to 0.61179, saving model to ./saves/InceptionResNetV2/Iteration_4_2\\checkpoint_InceptionResNetV2_19122021_Shape_299x299_50Epochs.h5\n",
      "Epoch 24/50\n",
      "1061/1061 [==============================] - 1106s 1s/step - loss: 1.2008 - accuracy: 0.6340 - val_loss: 1.2744 - val_accuracy: 0.6157\n",
      "\n",
      "Epoch 00024: val_accuracy improved from 0.61179 to 0.61574, saving model to ./saves/InceptionResNetV2/Iteration_4_2\\checkpoint_InceptionResNetV2_19122021_Shape_299x299_50Epochs.h5\n",
      "Epoch 25/50\n",
      "1061/1061 [==============================] - 1096s 1s/step - loss: 1.1902 - accuracy: 0.6364 - val_loss: 1.2688 - val_accuracy: 0.6175\n",
      "\n",
      "Epoch 00025: val_accuracy improved from 0.61574 to 0.61751, saving model to ./saves/InceptionResNetV2/Iteration_4_2\\checkpoint_InceptionResNetV2_19122021_Shape_299x299_50Epochs.h5\n",
      "Epoch 26/50\n",
      "1061/1061 [==============================] - 1088s 1s/step - loss: 1.1751 - accuracy: 0.6398 - val_loss: 1.2620 - val_accuracy: 0.6179\n"
     ]
    },
    {
     "name": "stdout",
     "output_type": "stream",
     "text": [
      "\n",
      "Epoch 00026: val_accuracy improved from 0.61751 to 0.61787, saving model to ./saves/InceptionResNetV2/Iteration_4_2\\checkpoint_InceptionResNetV2_19122021_Shape_299x299_50Epochs.h5\n",
      "Epoch 27/50\n",
      "1061/1061 [==============================] - 1101s 1s/step - loss: 1.1649 - accuracy: 0.6452 - val_loss: 1.2606 - val_accuracy: 0.6178\n",
      "\n",
      "Epoch 00027: val_accuracy did not improve from 0.61787\n",
      "Epoch 28/50\n",
      "1061/1061 [==============================] - 1091s 1s/step - loss: 1.1464 - accuracy: 0.6481 - val_loss: 1.2548 - val_accuracy: 0.6208\n",
      "\n",
      "Epoch 00028: val_accuracy improved from 0.61787 to 0.62081, saving model to ./saves/InceptionResNetV2/Iteration_4_2\\checkpoint_InceptionResNetV2_19122021_Shape_299x299_50Epochs.h5\n",
      "Epoch 29/50\n",
      "1061/1061 [==============================] - 1090s 1s/step - loss: 1.1418 - accuracy: 0.6505 - val_loss: 1.2511 - val_accuracy: 0.6230\n",
      "\n",
      "Epoch 00029: val_accuracy improved from 0.62081 to 0.62300, saving model to ./saves/InceptionResNetV2/Iteration_4_2\\checkpoint_InceptionResNetV2_19122021_Shape_299x299_50Epochs.h5\n",
      "Epoch 30/50\n",
      "1061/1061 [==============================] - 1099s 1s/step - loss: 1.1318 - accuracy: 0.6535 - val_loss: 1.2486 - val_accuracy: 0.6228\n",
      "\n",
      "Epoch 00030: val_accuracy did not improve from 0.62300\n",
      "Epoch 31/50\n",
      "1061/1061 [==============================] - 1087s 1s/step - loss: 1.1187 - accuracy: 0.6567 - val_loss: 1.2408 - val_accuracy: 0.6269\n",
      "\n",
      "Epoch 00031: val_accuracy improved from 0.62300 to 0.62695, saving model to ./saves/InceptionResNetV2/Iteration_4_2\\checkpoint_InceptionResNetV2_19122021_Shape_299x299_50Epochs.h5\n",
      "Epoch 32/50\n",
      "1061/1061 [==============================] - 1090s 1s/step - loss: 1.1124 - accuracy: 0.6593 - val_loss: 1.2428 - val_accuracy: 0.6263\n",
      "\n",
      "Epoch 00032: val_accuracy did not improve from 0.62695\n",
      "Epoch 33/50\n",
      "1061/1061 [==============================] - 1096s 1s/step - loss: 1.1022 - accuracy: 0.6622 - val_loss: 1.2406 - val_accuracy: 0.6275\n",
      "\n",
      "Epoch 00033: val_accuracy improved from 0.62695 to 0.62748, saving model to ./saves/InceptionResNetV2/Iteration_4_2\\checkpoint_InceptionResNetV2_19122021_Shape_299x299_50Epochs.h5\n",
      "Epoch 34/50\n",
      "1061/1061 [==============================] - 1088s 1s/step - loss: 1.0875 - accuracy: 0.6641 - val_loss: 1.2354 - val_accuracy: 0.6274\n",
      "\n",
      "Epoch 00034: val_accuracy did not improve from 0.62748\n",
      "Epoch 35/50\n",
      "1061/1061 [==============================] - 1088s 1s/step - loss: 1.0802 - accuracy: 0.6667 - val_loss: 1.2298 - val_accuracy: 0.6310\n",
      "\n",
      "Epoch 00035: val_accuracy improved from 0.62748 to 0.63101, saving model to ./saves/InceptionResNetV2/Iteration_4_2\\checkpoint_InceptionResNetV2_19122021_Shape_299x299_50Epochs.h5\n",
      "Epoch 36/50\n",
      "1061/1061 [==============================] - 1101s 1s/step - loss: 1.0694 - accuracy: 0.6693 - val_loss: 1.2318 - val_accuracy: 0.6313\n",
      "\n",
      "Epoch 00036: val_accuracy improved from 0.63101 to 0.63131, saving model to ./saves/InceptionResNetV2/Iteration_4_2\\checkpoint_InceptionResNetV2_19122021_Shape_299x299_50Epochs.h5\n",
      "Epoch 37/50\n",
      "1061/1061 [==============================] - 1085s 1s/step - loss: 1.0604 - accuracy: 0.6735 - val_loss: 1.2326 - val_accuracy: 0.6306\n",
      "\n",
      "Epoch 00037: val_accuracy did not improve from 0.63131\n",
      "Epoch 38/50\n",
      "1061/1061 [==============================] - 1087s 1s/step - loss: 1.0539 - accuracy: 0.6738 - val_loss: 1.2279 - val_accuracy: 0.6299\n",
      "\n",
      "Epoch 00038: val_accuracy did not improve from 0.63131\n",
      "Epoch 39/50\n",
      "1061/1061 [==============================] - 1104s 1s/step - loss: 1.0424 - accuracy: 0.6781 - val_loss: 1.2277 - val_accuracy: 0.6311\n",
      "\n",
      "Epoch 00039: val_accuracy did not improve from 0.63131\n",
      "Epoch 40/50\n",
      "1061/1061 [==============================] - 1085s 1s/step - loss: 1.0315 - accuracy: 0.6810 - val_loss: 1.2268 - val_accuracy: 0.6308\n",
      "\n",
      "Epoch 00040: val_accuracy did not improve from 0.63131\n",
      "Epoch 41/50\n",
      "1061/1061 [==============================] - 1089s 1s/step - loss: 1.0248 - accuracy: 0.6830 - val_loss: 1.2229 - val_accuracy: 0.6328\n",
      "\n",
      "Epoch 00041: val_accuracy improved from 0.63131 to 0.63284, saving model to ./saves/InceptionResNetV2/Iteration_4_2\\checkpoint_InceptionResNetV2_19122021_Shape_299x299_50Epochs.h5\n",
      "Epoch 42/50\n",
      "1061/1061 [==============================] - 1087s 1s/step - loss: 1.0161 - accuracy: 0.6842 - val_loss: 1.2202 - val_accuracy: 0.6347\n",
      "\n",
      "Epoch 00042: val_accuracy improved from 0.63284 to 0.63467, saving model to ./saves/InceptionResNetV2/Iteration_4_2\\checkpoint_InceptionResNetV2_19122021_Shape_299x299_50Epochs.h5\n",
      "Epoch 43/50\n",
      "1061/1061 [==============================] - 1085s 1s/step - loss: 1.0117 - accuracy: 0.6865 - val_loss: 1.2198 - val_accuracy: 0.6335\n",
      "\n",
      "Epoch 00043: val_accuracy did not improve from 0.63467\n",
      "Epoch 44/50\n",
      "1061/1061 [==============================] - 1088s 1s/step - loss: 1.0006 - accuracy: 0.6886 - val_loss: 1.2195 - val_accuracy: 0.6340\n",
      "\n",
      "Epoch 00044: val_accuracy did not improve from 0.63467\n",
      "Epoch 45/50\n",
      "1061/1061 [==============================] - 1096s 1s/step - loss: 0.9920 - accuracy: 0.6903 - val_loss: 1.2220 - val_accuracy: 0.6364\n",
      "\n",
      "Epoch 00045: val_accuracy improved from 0.63467 to 0.63644, saving model to ./saves/InceptionResNetV2/Iteration_4_2\\checkpoint_InceptionResNetV2_19122021_Shape_299x299_50Epochs.h5\n",
      "Epoch 46/50\n",
      "1061/1061 [==============================] - 1086s 1s/step - loss: 0.9830 - accuracy: 0.6944 - val_loss: 1.2198 - val_accuracy: 0.6357\n",
      "\n",
      "Epoch 00046: val_accuracy did not improve from 0.63644\n",
      "Epoch 47/50\n",
      "1061/1061 [==============================] - 1100s 1s/step - loss: 0.9728 - accuracy: 0.6980 - val_loss: 1.2196 - val_accuracy: 0.6366\n",
      "\n",
      "Epoch 00047: val_accuracy improved from 0.63644 to 0.63656, saving model to ./saves/InceptionResNetV2/Iteration_4_2\\checkpoint_InceptionResNetV2_19122021_Shape_299x299_50Epochs.h5\n",
      "Epoch 48/50\n",
      "1061/1061 [==============================] - 1097s 1s/step - loss: 0.9682 - accuracy: 0.6975 - val_loss: 1.2195 - val_accuracy: 0.6372\n",
      "\n",
      "Epoch 00048: val_accuracy improved from 0.63656 to 0.63721, saving model to ./saves/InceptionResNetV2/Iteration_4_2\\checkpoint_InceptionResNetV2_19122021_Shape_299x299_50Epochs.h5\n",
      "Epoch 49/50\n",
      "1061/1061 [==============================] - 1083s 1s/step - loss: 0.9576 - accuracy: 0.7017 - val_loss: 1.2194 - val_accuracy: 0.6370\n",
      "\n",
      "Epoch 00049: val_accuracy did not improve from 0.63721\n",
      "Epoch 50/50\n",
      "1061/1061 [==============================] - 1089s 1s/step - loss: 0.9513 - accuracy: 0.7030 - val_loss: 1.2138 - val_accuracy: 0.6382\n",
      "\n",
      "Epoch 00050: val_accuracy improved from 0.63721 to 0.63821, saving model to ./saves/InceptionResNetV2/Iteration_4_2\\checkpoint_InceptionResNetV2_19122021_Shape_299x299_50Epochs.h5\n",
      "Wall time: 15h 15min 7s\n"
     ]
    }
   ],
   "source": [
    "%%time\n",
    "# Fit Train generator\n",
    "history = model.fit(train_generator,                    \n",
    "                    epochs = epochs,                   \n",
    "                    steps_per_epoch = step_size_Train,\n",
    "                    validation_data = valid_generator,\n",
    "                    validation_steps = step_size_Valid,\n",
    "                    callbacks=[checkpoint, early, lr_plateau]                    \n",
    "                    )"
   ]
  },
  {
   "cell_type": "markdown",
   "id": "479d4c18",
   "metadata": {},
   "source": [
    "***Save History results***"
   ]
  },
  {
   "cell_type": "code",
   "execution_count": 56,
   "id": "aa9d47d5",
   "metadata": {},
   "outputs": [],
   "source": [
    "# Save History results\n",
    "path = './saves/InceptionResNetV2/Iteration_4_2/'\n",
    "filename = 'history_InceptionResNetV2_all_train_19122021_Shape_299x299_50Epochs'"
   ]
  },
  {
   "cell_type": "code",
   "execution_count": 57,
   "id": "8944dcc5",
   "metadata": {},
   "outputs": [],
   "source": [
    "#convert the history.history dict to a pandas DataFrame:     \n",
    "hist_df = pd.DataFrame(history.history) \n",
    "\n",
    "# history to json:  \n",
    "hist_json_file = path + filename + '.json'\n",
    "with open(hist_json_file, mode='w') as f:\n",
    "    hist_df.to_json(f)\n",
    "\n",
    "# history to csv: \n",
    "hist_csv_file = path + filename +'.csv'\n",
    "with open(hist_csv_file, mode='w') as f:\n",
    "    hist_df.to_csv(f)\n",
    "\n",
    "# history to pickle file\n",
    "hist_df.to_pickle(path + filename +'.pkl')"
   ]
  },
  {
   "cell_type": "markdown",
   "id": "437e2b15",
   "metadata": {},
   "source": [
    "***Display Model loss , accuracy per epoch***"
   ]
  },
  {
   "cell_type": "code",
   "execution_count": 58,
   "id": "7e148e9a",
   "metadata": {},
   "outputs": [
    {
     "data": {
      "image/png": "[encoded data removed]",
      "text/plain": [
       "<Figure size 864x288 with 2 Axes>"
      ]
     },
     "metadata": {
      "needs_background": "light"
     },
     "output_type": "display_data"
    }
   ],
   "source": [
    "plt.figure(figsize=(12,4))\n",
    "plt.subplot(121)\n",
    "plt.plot(history.history['loss'])\n",
    "plt.plot(history.history['val_loss'])\n",
    "plt.title('Model loss by epoch')\n",
    "plt.ylabel('loss')\n",
    "plt.xlabel('epoch')\n",
    "plt.legend(['train', 'valid'], loc='right')\n",
    "\n",
    "plt.subplot(122)\n",
    "plt.plot(history.history['accuracy'])\n",
    "plt.plot(history.history['val_accuracy'])\n",
    "plt.title('Model acc by epoch')\n",
    "plt.ylabel('acc')\n",
    "plt.xlabel('epoch')\n",
    "plt.legend(['train', 'valid'], loc='right')\n",
    "plt.show()"
   ]
  },
  {
   "cell_type": "markdown",
   "id": "7e64f5a7",
   "metadata": {
    "id": "7e64f5a7"
   },
   "source": [
    " ***Prediction - test_generator***"
   ]
  },
  {
   "cell_type": "code",
   "execution_count": 59,
   "id": "13bf0290",
   "metadata": {
    "id": "13bf0290"
   },
   "outputs": [
    {
     "name": "stdout",
     "output_type": "stream",
     "text": [
      "Wall time: 1min 20s\n"
     ]
    }
   ],
   "source": [
    "%%time\n",
    "#Prediction - Valid set\n",
    "y_pred_proba = model.predict(valid_generator)\n",
    "\n",
    "# l'argmax pour obtenir les classes prédites\n",
    "y_pred_class = np.argmax(y_pred_proba,axis = 1).astype(int)\n",
    "\n",
    "# To get classes from test generator\n",
    "y_true = valid_generator.classes"
   ]
  },
  {
   "cell_type": "markdown",
   "id": "e199b13a",
   "metadata": {
    "id": "e199b13a"
   },
   "source": [
    " ***Evaluation - test_generator***"
   ]
  },
  {
   "cell_type": "code",
   "execution_count": 60,
   "id": "a149ee6a",
   "metadata": {
    "id": "a149ee6a"
   },
   "outputs": [
    {
     "name": "stdout",
     "output_type": "stream",
     "text": [
      "266/266 [==============================] - 80s 298ms/step - loss: 1.2137 - accuracy: 0.6383\n",
      "[INFO] Model metrics names: ['loss', 'accuracy']\n",
      "[INFO] Accuracy: 63.83%\n",
      "[INFO] Loss:  1.213687539100647\n",
      "Wall time: 1min 19s\n"
     ]
    }
   ],
   "source": [
    "%%time\n",
    "#Get the accuracy score\n",
    "valid_score = model.evaluate(valid_generator)\n",
    "print(\"[INFO] Model metrics names:\", model.metrics_names)\n",
    "print(\"[INFO] Accuracy: {:.2f}%\".format(valid_score[1] * 100)) \n",
    "print(\"[INFO] Loss: \",valid_score[0])"
   ]
  },
  {
   "cell_type": "code",
   "execution_count": 61,
   "id": "a67c8f8e",
   "metadata": {},
   "outputs": [
    {
     "name": "stdout",
     "output_type": "stream",
     "text": [
      "[INFO] f1 score macro average:  0.591198070450668\n",
      "[INFO] f1 score micro average:  0.6383066415449835\n",
      "[INFO] f1 score weighted average:  0.633847747201331\n"
     ]
    }
   ],
   "source": [
    "f1_macro = f1_score(y_true, y_pred_class, average='macro')\n",
    "print(\"[INFO] f1 score macro average: \",f1_macro)\n",
    "\n",
    "f1_micro = f1_score(y_true, y_pred_class, average='micro')\n",
    "print(\"[INFO] f1 score micro average: \",f1_micro)\n",
    "\n",
    "f1_weighted = f1_score(y_true, y_pred_class, average='weighted')\n",
    "print(\"[INFO] f1 score weighted average: \",f1_weighted)"
   ]
  },
  {
   "cell_type": "code",
   "execution_count": 62,
   "id": "e956f70d",
   "metadata": {},
   "outputs": [
    {
     "data": {
      "image/png": "[encoded data removed]",
      "text/plain": [
       "<Figure size 1728x1440 with 1 Axes>"
      ]
     },
     "metadata": {
      "needs_background": "light"
     },
     "output_type": "display_data"
    }
   ],
   "source": [
    "#Confusion matrix\n",
    "matrix = confusion_matrix(y_true, y_pred_class)\n",
    "fig , ax = plt.subplots(figsize = (24,20))\n",
    "ax.matshow(matrix, cmap = plt.cm.Oranges , alpha = 0.3)\n",
    "for i in range(matrix.shape[0]):\n",
    "    for j in range (matrix.shape[1]):\n",
    "        ax.text (x = j , y= i, s= matrix[i,j], va = 'center', ha = 'center', size = 'xx-large')\n",
    "        \n",
    "plt.xlabel('predicted', fontsize = 18)\n",
    "plt.ylabel('Acutals', fontsize = 18)\n",
    "plt.title('Confusion Matrix', fontsize = 18)\n",
    "plt.show()\n",
    "#print(matrix)"
   ]
  },
  {
   "cell_type": "code",
   "execution_count": 63,
   "id": "f9af2dc6",
   "metadata": {
    "id": "f9af2dc6"
   },
   "outputs": [
    {
     "name": "stdout",
     "output_type": "stream",
     "text": [
      "              precision    recall  f1-score   support\n",
      "\n",
      "           0       0.55      0.52      0.53       643\n",
      "           1       0.52      0.55      0.54       503\n",
      "           2       0.77      0.58      0.66       162\n",
      "           3       0.51      0.48      0.50       514\n",
      "           4       0.56      0.54      0.55       664\n",
      "           5       0.57      0.59      0.58       993\n",
      "           6       0.80      0.82      0.81       832\n",
      "           7       0.73      0.62      0.67       159\n",
      "           8       0.47      0.59      0.52       970\n",
      "           9       0.63      0.35      0.45       190\n",
      "          10       0.69      0.68      0.69       911\n",
      "          11       0.68      0.60      0.64       961\n",
      "          12       0.44      0.35      0.39       319\n",
      "          13       0.78      0.46      0.58       301\n",
      "          14       0.69      0.70      0.69      1011\n",
      "          15       0.52      0.38      0.44       533\n",
      "          16       0.83      0.86      0.84      2083\n",
      "          17       0.53      0.44      0.48       468\n",
      "          18       0.62      0.84      0.71       557\n",
      "          19       0.55      0.66      0.60       146\n",
      "          20       0.68      0.79      0.73       179\n",
      "          21       0.64      0.64      0.64       545\n",
      "          22       0.90      0.91      0.90       793\n",
      "          23       0.47      0.24      0.31       144\n",
      "          24       0.45      0.46      0.46      1002\n",
      "          25       0.38      0.30      0.34       408\n",
      "          26       0.65      0.78      0.71       993\n",
      "\n",
      "    accuracy                           0.64     16984\n",
      "   macro avg       0.61      0.58      0.59     16984\n",
      "weighted avg       0.64      0.64      0.63     16984\n",
      "\n"
     ]
    }
   ],
   "source": [
    "print(metrics.classification_report(y_true, y_pred_class))"
   ]
  },
  {
   "cell_type": "markdown",
   "id": "9af02844",
   "metadata": {},
   "source": [
    " ***Predict input image using trained model***"
   ]
  },
  {
   "cell_type": "code",
   "execution_count": 64,
   "id": "f7fbf10a",
   "metadata": {},
   "outputs": [
    {
     "data": {
      "image/png": "[encoded data removed]",
      "text/plain": [
       "<Figure size 432x288 with 1 Axes>"
      ]
     },
     "metadata": {},
     "output_type": "display_data"
    }
   ],
   "source": [
    "# Predict With Pre Trained\n",
    "\n",
    "# Load an image\n",
    "im_id = 253\n",
    "#img_path ='./data/images/all/image_train_resized/'+ df_train_im['imagePath'][im_id]\n",
    "img_path ='./data/images/all/image_train/'+ df_train_im['imagePath'][im_id]\n",
    "\n",
    "img = image.load_img(img_path,target_size=(224, 224))\n",
    "plt.figure(figsize=(6,4))\n",
    "plt.imshow(img)\n",
    "plt.title(\"class: \" + str(df_train_im['prdtypecode'][im_id]))\n",
    "plt.xticks([])\n",
    "plt.yticks([])\n",
    "#plt.axis('off')\n",
    "plt.show();"
   ]
  },
  {
   "cell_type": "code",
   "execution_count": 65,
   "id": "d6021667",
   "metadata": {},
   "outputs": [],
   "source": [
    "im = cv2.resize(cv2.imread(img_path), (299, 299))\n",
    "im = np.expand_dims(im, axis=0)"
   ]
  },
  {
   "cell_type": "code",
   "execution_count": 67,
   "id": "2ed5439b",
   "metadata": {},
   "outputs": [
    {
     "name": "stdout",
     "output_type": "stream",
     "text": [
      "------------------Predicted Class and Label ------------------------------\n",
      "target class(used by model) : 15\n",
      "\n",
      "  prdtypecode Label\n",
      "        1940  Food\n",
      "\n",
      "\n",
      "------------------Real Class and Label ------------------------------\n",
      "target class(used by model):  14\n",
      "\n",
      "  prdtypecode                Label\n",
      "        1920 interior accessories\n"
     ]
    }
   ],
   "source": [
    "out = model.predict(im)\n",
    "print(\"------------------Predicted Class and Label ------------------------------\")\n",
    "print(\"target class(used by model) :\", np.argmax(out))\n",
    "print(\"\\n\"  ,df_class[df_class['target_prdtypecode'] == np.argmax(out)][['prdtypecode', 'Label']].to_string(index=False)) \n",
    "\n",
    "prd_code = df_train_im['prdtypecode'][im_id]\n",
    "\n",
    "print(\"\\n\\n------------------Real Class and Label ------------------------------\")\n",
    "print(\"target class(used by model): \" ,  df_class[df_class['target_prdtypecode'] == int(prd_code)]['target_prdtypecode'].to_string(index=False))\n",
    "print(\"\\n\"  ,df_class[df_class['target_prdtypecode'] == int(prd_code)][['prdtypecode', 'Label']].to_string(index=False)) \n"
   ]
  },
  {
   "cell_type": "markdown",
   "id": "ba25e415",
   "metadata": {
    "id": "ba25e415"
   },
   "source": [
    " ***Save InceptionResNetV2 Model***"
   ]
  },
  {
   "cell_type": "code",
   "execution_count": 68,
   "id": "2756f2e9",
   "metadata": {
    "id": "2756f2e9"
   },
   "outputs": [],
   "source": [
    "#Enregistrement du modèle\n",
    "model.save(\"./saves/InceptionResNetV2/Iteration_4_2/Model_InceptionResNetV2_All_train_data_19122021_Shape_299x299_50Epochs.hdf5\")\n",
    "#The SavedModel and HDF5 file contains:\n",
    "#the model's configuration (topology)\n",
    "#the model's weights\n",
    "#the model's optimizer's state (if any)"
   ]
  },
  {
   "cell_type": "markdown",
   "id": "636fb9cf",
   "metadata": {
    "id": "636fb9cf"
   },
   "source": [
    " ***Load InceptionResNetV2 Model***"
   ]
  },
  {
   "cell_type": "code",
   "execution_count": null,
   "id": "9ee47aed",
   "metadata": {
    "id": "9ee47aed"
   },
   "outputs": [],
   "source": [
    "#Rechargement du modèle :\n",
    "model = load_model(\"./saves/InceptionResNetV2/Iteration_4_2/Model_InceptionResNetV2_All_train_data_19122021_Shape_299x299_50Epochs.hdf\"5)"
   ]
  }
 ],
 "metadata": {
  "accelerator": "GPU",
  "colab": {
   "collapsed_sections": [
    "X4gG6_IvrZ10"
   ],
   "name": "Images_&_Iteration_#1_ResNet50_Without_image_Preprocesing.ipynb",
   "provenance": [
    {
     "file_id": "17N2ubF_zjn2M-2g3bJ0lXH7vsD0mgLMb",
     "timestamp": 1629109577507
    }
   ]
  },
  "kernelspec": {
   "display_name": "Python 3 (ipykernel)",
   "language": "python",
   "name": "python3"
  },
  "language_info": {
   "codemirror_mode": {
    "name": "ipython",
    "version": 3
   },
   "file_extension": ".py",
   "mimetype": "text/x-python",
   "name": "python",
   "nbconvert_exporter": "python",
   "pygments_lexer": "ipython3",
   "version": "3.9.7"
  }
 },
 "nbformat": 4,
 "nbformat_minor": 5
}
