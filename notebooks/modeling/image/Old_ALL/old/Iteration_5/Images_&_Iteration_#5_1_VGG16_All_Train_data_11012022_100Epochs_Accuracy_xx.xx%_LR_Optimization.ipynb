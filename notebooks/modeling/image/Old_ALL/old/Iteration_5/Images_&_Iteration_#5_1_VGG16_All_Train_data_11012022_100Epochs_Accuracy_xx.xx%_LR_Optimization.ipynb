{
 "cells": [
  {
   "cell_type": "markdown",
   "id": "52297852",
   "metadata": {
    "id": "52297852"
   },
   "source": [
    "# VGG16 : Images - Iteration #5_1 : Without Data Augementation - LR Optimization "
   ]
  },
  {
   "cell_type": "markdown",
   "id": "3f25fced-8da9-42a5-b5c5-10f3b1bc222a",
   "metadata": {
    "colab": {
     "base_uri": "https://localhost:8080/"
    },
    "executionInfo": {
     "elapsed": 36601,
     "status": "ok",
     "timestamp": 1634378528407,
     "user": {
      "displayName": "Mourad Mecheri",
      "photoUrl": "https://lh3.googleusercontent.com/a/default-user=s64",
      "userId": "08453845245011476141"
     },
     "user_tz": -120
    },
    "id": "1e9b5add",
    "outputId": "d60de11d-99b4-4e1d-8bc9-dcbf79ea2a8a"
   },
   "source": [
    "img_rows = 224 <br>\n",
    "img_cols = 224 <br>\n",
    "batch_size =  64 <br>\n",
    "epochs = 100 <br>\n",
    "Train set size = 67933 <br>\n",
    "Valid set size = 16983 <br>\n",
    "Without Data augmentation <br>\n",
    "Freeze layers of the Base model layers  <br>\n",
    "Optimize LR with LearningRateScheduler <br>\n",
    "Start with small LR: 0,00001 then increase the value evry  epoch until 2.54 <br>\n",
    "then elect a learning rate that achieves the lowest loss <br>"
   ]
  },
  {
   "cell_type": "markdown",
   "id": "34453be7-c813-40bd-acd3-ec8ea4c6b5b9",
   "metadata": {
    "colab": {
     "base_uri": "https://localhost:8080/"
    },
    "executionInfo": {
     "elapsed": 260,
     "status": "ok",
     "timestamp": 1634378530664,
     "user": {
      "displayName": "Mourad Mecheri",
      "photoUrl": "https://lh3.googleusercontent.com/a/default-user=s64",
      "userId": "08453845245011476141"
     },
     "user_tz": -120
    },
    "id": "e73203dd",
    "outputId": "280340aa-ec7d-4a46-957a-2bc8a930dd27"
   },
   "source": [
    "**<u>Results</u>**"
   ]
  },
  {
   "cell_type": "markdown",
   "id": "a927c7d7-4440-4e2a-9cc8-2a9fada2b9b5",
   "metadata": {},
   "source": [
    "Accuracy : 0.?? <br>\n",
    "F1 score weighted : 0.?? <br>"
   ]
  },
  {
   "cell_type": "markdown",
   "id": "27545775",
   "metadata": {
    "id": "27545775"
   },
   "source": [
    "**Import packages**"
   ]
  },
  {
   "cell_type": "code",
   "execution_count": 2,
   "id": "19034d01",
   "metadata": {},
   "outputs": [],
   "source": [
    "import os\n",
    "import glob\n",
    "import pandas as pd\n",
    "import numpy as np\n",
    "import cv2\n",
    "import matplotlib\n",
    "%matplotlib inline\n",
    "import matplotlib.pyplot as plt\n",
    "import seaborn as sns\n",
    "from tqdm import tqdm\n",
    "from tqdm.notebook import tqdm_notebook\n",
    "import re\n",
    "tqdm_notebook.pandas()\n",
    "import tensorflow as tf\n",
    "#from tensorflow import keras\n",
    "from tensorflow.keras.models import load_model\n",
    "from tensorflow.keras.models import Sequential\n",
    "from tensorflow.keras.layers import Dense, Activation\n",
    "from tensorflow.keras.layers import Dropout\n",
    "from tensorflow.keras.layers import Flatten\n",
    "from tensorflow.keras.layers import GlobalAveragePooling2D\n",
    "from tensorflow.keras.layers import Conv2D\n",
    "from tensorflow.keras.layers import MaxPooling2D\n",
    "from tensorflow.keras.callbacks import ModelCheckpoint, EarlyStopping, ReduceLROnPlateau, LearningRateScheduler\n",
    "from tensorflow.keras.applications.vgg16 import VGG16\n",
    "from tensorflow.keras.applications.resnet50 import ResNet50\n",
    "from tensorflow.keras.models import Model\n",
    "from tensorflow.keras.applications.vgg16 import preprocess_input\n",
    "from tensorflow.keras.applications.vgg16 import decode_predictions\n",
    "from tensorflow.keras.preprocessing.image import ImageDataGenerator\n",
    "from tensorflow.keras.preprocessing import image\n",
    "from tensorflow.keras.optimizers import Adam\n",
    "from sklearn.metrics import f1_score , recall_score, accuracy_score, precision_score, confusion_matrix\n",
    "from keras.utils import np_utils\n",
    "from sklearn.model_selection import train_test_split\n",
    "from sklearn import metrics\n",
    "import itertools\n",
    "import pickle\n",
    "from joblib import dump, load"
   ]
  },
  {
   "cell_type": "markdown",
   "id": "d7a3fcab",
   "metadata": {
    "id": "d7a3fcab"
   },
   "source": [
    "# Iteration #5_1 -  VGG16"
   ]
  },
  {
   "cell_type": "markdown",
   "id": "1f1a3dea",
   "metadata": {
    "id": "1f1a3dea"
   },
   "source": [
    "***Read DataFrame from saved pickele file - image Train set***"
   ]
  },
  {
   "cell_type": "code",
   "execution_count": 3,
   "id": "8ef548a9",
   "metadata": {
    "executionInfo": {
     "elapsed": 2626,
     "status": "ok",
     "timestamp": 1634378559079,
     "user": {
      "displayName": "Mourad Mecheri",
      "photoUrl": "https://lh3.googleusercontent.com/a/default-user=s64",
      "userId": "08453845245011476141"
     },
     "user_tz": -120
    },
    "id": "8ef548a9"
   },
   "outputs": [],
   "source": [
    "#Load df of images already resized on 256 x 256 \n",
    "df_train_im = pd.read_pickle(\"./saves/df_save/df_train_combined_19102021.pkl\")\n",
    "\n",
    "#Load df of images with org size 500 x 500\n",
    "#df_train_im = pd.read_pickle(\"./saves/df_save/df_train_combined_ORG_im_size_23112021.pkl\")"
   ]
  },
  {
   "cell_type": "code",
   "execution_count": 4,
   "id": "d271de78",
   "metadata": {
    "colab": {
     "base_uri": "https://localhost:8080/",
     "height": 555
    },
    "executionInfo": {
     "elapsed": 215,
     "status": "ok",
     "timestamp": 1634378561433,
     "user": {
      "displayName": "Mourad Mecheri",
      "photoUrl": "https://lh3.googleusercontent.com/a/default-user=s64",
      "userId": "08453845245011476141"
     },
     "user_tz": -120
    },
    "id": "d271de78",
    "outputId": "b2453020-a8b0-4923-c3d2-d20479365c7a"
   },
   "outputs": [
    {
     "data": {
      "text/html": [
       "<div>\n",
       "<style scoped>\n",
       "    .dataframe tbody tr th:only-of-type {\n",
       "        vertical-align: middle;\n",
       "    }\n",
       "\n",
       "    .dataframe tbody tr th {\n",
       "        vertical-align: top;\n",
       "    }\n",
       "\n",
       "    .dataframe thead th {\n",
       "        text-align: right;\n",
       "    }\n",
       "</style>\n",
       "<table border=\"1\" class=\"dataframe\">\n",
       "  <thead>\n",
       "    <tr style=\"text-align: right;\">\n",
       "      <th></th>\n",
       "      <th>designation</th>\n",
       "      <th>description</th>\n",
       "      <th>productid</th>\n",
       "      <th>imageid</th>\n",
       "      <th>prdtypecode</th>\n",
       "      <th>imagePath</th>\n",
       "    </tr>\n",
       "  </thead>\n",
       "  <tbody>\n",
       "    <tr>\n",
       "      <th>0</th>\n",
       "      <td>Olivia: Personalisiertes Notizbuch / 150 Seite...</td>\n",
       "      <td>NaN</td>\n",
       "      <td>3804725264</td>\n",
       "      <td>1263597046</td>\n",
       "      <td>10</td>\n",
       "      <td>resized_image_1263597046_product_3804725264.jpg</td>\n",
       "    </tr>\n",
       "    <tr>\n",
       "      <th>1</th>\n",
       "      <td>Journal Des Arts (Le) N° 133 Du 28/09/2001 - L...</td>\n",
       "      <td>NaN</td>\n",
       "      <td>436067568</td>\n",
       "      <td>1008141237</td>\n",
       "      <td>2280</td>\n",
       "      <td>resized_image_1008141237_product_436067568.jpg</td>\n",
       "    </tr>\n",
       "    <tr>\n",
       "      <th>2</th>\n",
       "      <td>Grand Stylet Ergonomique Bleu Gamepad Nintendo...</td>\n",
       "      <td>PILOT STYLE Touch Pen de marque Speedlink est ...</td>\n",
       "      <td>201115110</td>\n",
       "      <td>938777978</td>\n",
       "      <td>50</td>\n",
       "      <td>resized_image_938777978_product_201115110.jpg</td>\n",
       "    </tr>\n",
       "    <tr>\n",
       "      <th>3</th>\n",
       "      <td>Peluche Donald - Europe - Disneyland 2000 (Mar...</td>\n",
       "      <td>NaN</td>\n",
       "      <td>50418756</td>\n",
       "      <td>457047496</td>\n",
       "      <td>1280</td>\n",
       "      <td>resized_image_457047496_product_50418756.jpg</td>\n",
       "    </tr>\n",
       "    <tr>\n",
       "      <th>4</th>\n",
       "      <td>La Guerre Des Tuques</td>\n",
       "      <td>Luc a des id&amp;eacute;es de grandeur. Il veut or...</td>\n",
       "      <td>278535884</td>\n",
       "      <td>1077757786</td>\n",
       "      <td>2705</td>\n",
       "      <td>resized_image_1077757786_product_278535884.jpg</td>\n",
       "    </tr>\n",
       "    <tr>\n",
       "      <th>...</th>\n",
       "      <td>...</td>\n",
       "      <td>...</td>\n",
       "      <td>...</td>\n",
       "      <td>...</td>\n",
       "      <td>...</td>\n",
       "      <td>...</td>\n",
       "    </tr>\n",
       "    <tr>\n",
       "      <th>84911</th>\n",
       "      <td>The Sims [ Import Anglais ]</td>\n",
       "      <td>NaN</td>\n",
       "      <td>206719094</td>\n",
       "      <td>941495734</td>\n",
       "      <td>40</td>\n",
       "      <td>resized_image_941495734_product_206719094.jpg</td>\n",
       "    </tr>\n",
       "    <tr>\n",
       "      <th>84912</th>\n",
       "      <td>Kit piscine acier NEVADA déco pierre Ø 3.50m x...</td>\n",
       "      <td>&lt;b&gt;Description complète :&lt;/b&gt;&lt;br /&gt;Kit piscine...</td>\n",
       "      <td>3065095706</td>\n",
       "      <td>1188462883</td>\n",
       "      <td>2583</td>\n",
       "      <td>resized_image_1188462883_product_3065095706.jpg</td>\n",
       "    </tr>\n",
       "    <tr>\n",
       "      <th>84913</th>\n",
       "      <td>Journal Officiel De La Republique Francaise N°...</td>\n",
       "      <td>NaN</td>\n",
       "      <td>440707564</td>\n",
       "      <td>1009325617</td>\n",
       "      <td>2280</td>\n",
       "      <td>resized_image_1009325617_product_440707564.jpg</td>\n",
       "    </tr>\n",
       "    <tr>\n",
       "      <th>84914</th>\n",
       "      <td>Table Basse Bois De Récupération Massif Base B...</td>\n",
       "      <td>&lt;p&gt;Cette table basse a un design unique et con...</td>\n",
       "      <td>3942400296</td>\n",
       "      <td>1267353403</td>\n",
       "      <td>1560</td>\n",
       "      <td>resized_image_1267353403_product_3942400296.jpg</td>\n",
       "    </tr>\n",
       "    <tr>\n",
       "      <th>84915</th>\n",
       "      <td>Gomme De Collection 2 Gommes Pinguin Glace Ver...</td>\n",
       "      <td>NaN</td>\n",
       "      <td>57203227</td>\n",
       "      <td>684671297</td>\n",
       "      <td>2522</td>\n",
       "      <td>resized_image_684671297_product_57203227.jpg</td>\n",
       "    </tr>\n",
       "  </tbody>\n",
       "</table>\n",
       "<p>84916 rows × 6 columns</p>\n",
       "</div>"
      ],
      "text/plain": [
       "                                             designation  \\\n",
       "0      Olivia: Personalisiertes Notizbuch / 150 Seite...   \n",
       "1      Journal Des Arts (Le) N° 133 Du 28/09/2001 - L...   \n",
       "2      Grand Stylet Ergonomique Bleu Gamepad Nintendo...   \n",
       "3      Peluche Donald - Europe - Disneyland 2000 (Mar...   \n",
       "4                                   La Guerre Des Tuques   \n",
       "...                                                  ...   \n",
       "84911                        The Sims [ Import Anglais ]   \n",
       "84912  Kit piscine acier NEVADA déco pierre Ø 3.50m x...   \n",
       "84913  Journal Officiel De La Republique Francaise N°...   \n",
       "84914  Table Basse Bois De Récupération Massif Base B...   \n",
       "84915  Gomme De Collection 2 Gommes Pinguin Glace Ver...   \n",
       "\n",
       "                                             description   productid  \\\n",
       "0                                                    NaN  3804725264   \n",
       "1                                                    NaN   436067568   \n",
       "2      PILOT STYLE Touch Pen de marque Speedlink est ...   201115110   \n",
       "3                                                    NaN    50418756   \n",
       "4      Luc a des id&eacute;es de grandeur. Il veut or...   278535884   \n",
       "...                                                  ...         ...   \n",
       "84911                                                NaN   206719094   \n",
       "84912  <b>Description complète :</b><br />Kit piscine...  3065095706   \n",
       "84913                                                NaN   440707564   \n",
       "84914  <p>Cette table basse a un design unique et con...  3942400296   \n",
       "84915                                                NaN    57203227   \n",
       "\n",
       "          imageid  prdtypecode  \\\n",
       "0      1263597046           10   \n",
       "1      1008141237         2280   \n",
       "2       938777978           50   \n",
       "3       457047496         1280   \n",
       "4      1077757786         2705   \n",
       "...           ...          ...   \n",
       "84911   941495734           40   \n",
       "84912  1188462883         2583   \n",
       "84913  1009325617         2280   \n",
       "84914  1267353403         1560   \n",
       "84915   684671297         2522   \n",
       "\n",
       "                                             imagePath  \n",
       "0      resized_image_1263597046_product_3804725264.jpg  \n",
       "1       resized_image_1008141237_product_436067568.jpg  \n",
       "2        resized_image_938777978_product_201115110.jpg  \n",
       "3         resized_image_457047496_product_50418756.jpg  \n",
       "4       resized_image_1077757786_product_278535884.jpg  \n",
       "...                                                ...  \n",
       "84911    resized_image_941495734_product_206719094.jpg  \n",
       "84912  resized_image_1188462883_product_3065095706.jpg  \n",
       "84913   resized_image_1009325617_product_440707564.jpg  \n",
       "84914  resized_image_1267353403_product_3942400296.jpg  \n",
       "84915     resized_image_684671297_product_57203227.jpg  \n",
       "\n",
       "[84916 rows x 6 columns]"
      ]
     },
     "execution_count": 4,
     "metadata": {},
     "output_type": "execute_result"
    }
   ],
   "source": [
    "df_train_im"
   ]
  },
  {
   "cell_type": "code",
   "execution_count": 5,
   "id": "d43d8189",
   "metadata": {
    "colab": {
     "base_uri": "https://localhost:8080/",
     "height": 34
    },
    "executionInfo": {
     "elapsed": 365,
     "status": "ok",
     "timestamp": 1633375281687,
     "user": {
      "displayName": "Mourad Mecheri",
      "photoUrl": "https://lh3.googleusercontent.com/a/default-user=s64",
      "userId": "08453845245011476141"
     },
     "user_tz": -120
    },
    "id": "d43d8189",
    "outputId": "cd6e3476-38e6-487b-9f0f-e2ed5db1538f"
   },
   "outputs": [
    {
     "data": {
      "text/plain": [
       "(84916, 6)"
      ]
     },
     "metadata": {},
     "output_type": "display_data"
    }
   ],
   "source": [
    "display(df_train_im.shape)"
   ]
  },
  {
   "cell_type": "markdown",
   "id": "5a2a0389-a05a-468c-981f-7bb060e0a018",
   "metadata": {},
   "source": [
    "***Create Dataframe containing  product classes and their associated labels***"
   ]
  },
  {
   "cell_type": "code",
   "execution_count": 6,
   "id": "409045cd",
   "metadata": {},
   "outputs": [
    {
     "data": {
      "text/html": [
       "<div>\n",
       "<style scoped>\n",
       "    .dataframe tbody tr th:only-of-type {\n",
       "        vertical-align: middle;\n",
       "    }\n",
       "\n",
       "    .dataframe tbody tr th {\n",
       "        vertical-align: top;\n",
       "    }\n",
       "\n",
       "    .dataframe thead th {\n",
       "        text-align: right;\n",
       "    }\n",
       "</style>\n",
       "<table border=\"1\" class=\"dataframe\">\n",
       "  <thead>\n",
       "    <tr style=\"text-align: right;\">\n",
       "      <th></th>\n",
       "      <th>prdtypecode</th>\n",
       "      <th>Label</th>\n",
       "    </tr>\n",
       "  </thead>\n",
       "  <tbody>\n",
       "    <tr>\n",
       "      <th>0</th>\n",
       "      <td>50</td>\n",
       "      <td>video games accessories</td>\n",
       "    </tr>\n",
       "    <tr>\n",
       "      <th>1</th>\n",
       "      <td>2705</td>\n",
       "      <td>books</td>\n",
       "    </tr>\n",
       "    <tr>\n",
       "      <th>2</th>\n",
       "      <td>2522</td>\n",
       "      <td>stationery</td>\n",
       "    </tr>\n",
       "    <tr>\n",
       "      <th>3</th>\n",
       "      <td>2582</td>\n",
       "      <td>kitchen and garden</td>\n",
       "    </tr>\n",
       "    <tr>\n",
       "      <th>4</th>\n",
       "      <td>1560</td>\n",
       "      <td>interior furniture and bedding</td>\n",
       "    </tr>\n",
       "    <tr>\n",
       "      <th>5</th>\n",
       "      <td>1281</td>\n",
       "      <td>board games</td>\n",
       "    </tr>\n",
       "    <tr>\n",
       "      <th>6</th>\n",
       "      <td>1920</td>\n",
       "      <td>interior accessories</td>\n",
       "    </tr>\n",
       "    <tr>\n",
       "      <th>7</th>\n",
       "      <td>1280</td>\n",
       "      <td>toys for children</td>\n",
       "    </tr>\n",
       "    <tr>\n",
       "      <th>8</th>\n",
       "      <td>1140</td>\n",
       "      <td>goodies</td>\n",
       "    </tr>\n",
       "    <tr>\n",
       "      <th>9</th>\n",
       "      <td>1300</td>\n",
       "      <td>remote controlled models</td>\n",
       "    </tr>\n",
       "    <tr>\n",
       "      <th>10</th>\n",
       "      <td>2060</td>\n",
       "      <td>decoration interior</td>\n",
       "    </tr>\n",
       "    <tr>\n",
       "      <th>11</th>\n",
       "      <td>2583</td>\n",
       "      <td>piscine spa</td>\n",
       "    </tr>\n",
       "    <tr>\n",
       "      <th>12</th>\n",
       "      <td>60</td>\n",
       "      <td>games and consoles</td>\n",
       "    </tr>\n",
       "    <tr>\n",
       "      <th>13</th>\n",
       "      <td>1320</td>\n",
       "      <td>early childhood</td>\n",
       "    </tr>\n",
       "    <tr>\n",
       "      <th>14</th>\n",
       "      <td>2280</td>\n",
       "      <td>magazines</td>\n",
       "    </tr>\n",
       "    <tr>\n",
       "      <th>15</th>\n",
       "      <td>1302</td>\n",
       "      <td>kids toys</td>\n",
       "    </tr>\n",
       "    <tr>\n",
       "      <th>16</th>\n",
       "      <td>2220</td>\n",
       "      <td>supplies for domestic animals</td>\n",
       "    </tr>\n",
       "    <tr>\n",
       "      <th>17</th>\n",
       "      <td>40</td>\n",
       "      <td>imported video games</td>\n",
       "    </tr>\n",
       "    <tr>\n",
       "      <th>18</th>\n",
       "      <td>2905</td>\n",
       "      <td>online distribution of video games</td>\n",
       "    </tr>\n",
       "    <tr>\n",
       "      <th>19</th>\n",
       "      <td>2585</td>\n",
       "      <td>gardening and DIY</td>\n",
       "    </tr>\n",
       "    <tr>\n",
       "      <th>20</th>\n",
       "      <td>1940</td>\n",
       "      <td>Food</td>\n",
       "    </tr>\n",
       "    <tr>\n",
       "      <th>21</th>\n",
       "      <td>1160</td>\n",
       "      <td>playing cards</td>\n",
       "    </tr>\n",
       "    <tr>\n",
       "      <th>22</th>\n",
       "      <td>1301</td>\n",
       "      <td>accessories children</td>\n",
       "    </tr>\n",
       "    <tr>\n",
       "      <th>23</th>\n",
       "      <td>10</td>\n",
       "      <td>adult books</td>\n",
       "    </tr>\n",
       "    <tr>\n",
       "      <th>24</th>\n",
       "      <td>1180</td>\n",
       "      <td>figurines_wargames</td>\n",
       "    </tr>\n",
       "    <tr>\n",
       "      <th>25</th>\n",
       "      <td>2403</td>\n",
       "      <td>children books</td>\n",
       "    </tr>\n",
       "    <tr>\n",
       "      <th>26</th>\n",
       "      <td>2462</td>\n",
       "      <td>games</td>\n",
       "    </tr>\n",
       "  </tbody>\n",
       "</table>\n",
       "</div>"
      ],
      "text/plain": [
       "    prdtypecode                               Label\n",
       "0            50             video games accessories\n",
       "1          2705                               books\n",
       "2          2522                          stationery\n",
       "3          2582                  kitchen and garden\n",
       "4          1560      interior furniture and bedding\n",
       "5          1281                         board games\n",
       "6          1920                interior accessories\n",
       "7          1280                   toys for children\n",
       "8          1140                             goodies\n",
       "9          1300            remote controlled models\n",
       "10         2060                 decoration interior\n",
       "11         2583                         piscine spa\n",
       "12           60                  games and consoles\n",
       "13         1320                     early childhood\n",
       "14         2280                           magazines\n",
       "15         1302                           kids toys\n",
       "16         2220       supplies for domestic animals\n",
       "17           40                imported video games\n",
       "18         2905  online distribution of video games\n",
       "19         2585                   gardening and DIY\n",
       "20         1940                                Food\n",
       "21         1160                       playing cards\n",
       "22         1301                accessories children\n",
       "23           10                         adult books\n",
       "24         1180                  figurines_wargames\n",
       "25         2403                      children books\n",
       "26         2462                               games"
      ]
     },
     "execution_count": 6,
     "metadata": {},
     "output_type": "execute_result"
    }
   ],
   "source": [
    "#Dictionary of prdtypecode and their corresponding categories\n",
    "dict_prdtypecode = {\"prdtypecode\" : [50, 2705, 2522, 2582, 1560, 1281, 1920, 1280, 1140, 1300, 2060, 2583,\n",
    "                                     60, 1320, 2280, 1302, 2220, 40, 2905, 2585, 1940, 1160, 1301, 10, 1180,\n",
    "                                     2403, 2462],                 \n",
    "            \n",
    "                    \"Label\" : [\"video games accessories\", \"books\", \"stationery\", \"kitchen and garden\", \n",
    "                               \"interior furniture and bedding\", \"board games\", \"interior accessories\",\n",
    "                               \"toys for children\",\"goodies\", \"remote controlled models\", \"decoration interior\",\n",
    "                               \"piscine spa\",\"games and consoles\", \"early childhood\", \"magazines\", \"kids toys\",\n",
    "                               \"supplies for domestic animals\", \"imported video games\", \"online distribution of video games\",\n",
    "                               \"gardening and DIY\",\"Food\",\"playing cards\", \"accessories children\", \"adult books\",\n",
    "                               \"figurines_wargames\", \"children books\",\n",
    "                                \"games\"]\n",
    "                   }\n",
    "df_class = pd.DataFrame(data=dict_prdtypecode)\n",
    "df_class"
   ]
  },
  {
   "cell_type": "code",
   "execution_count": 7,
   "id": "eb145fc7",
   "metadata": {},
   "outputs": [
    {
     "data": {
      "text/html": [
       "<div>\n",
       "<style scoped>\n",
       "    .dataframe tbody tr th:only-of-type {\n",
       "        vertical-align: middle;\n",
       "    }\n",
       "\n",
       "    .dataframe tbody tr th {\n",
       "        vertical-align: top;\n",
       "    }\n",
       "\n",
       "    .dataframe thead th {\n",
       "        text-align: right;\n",
       "    }\n",
       "</style>\n",
       "<table border=\"1\" class=\"dataframe\">\n",
       "  <thead>\n",
       "    <tr style=\"text-align: right;\">\n",
       "      <th></th>\n",
       "      <th>prdtypecode</th>\n",
       "      <th>Label</th>\n",
       "      <th>target_prdtypecode</th>\n",
       "    </tr>\n",
       "  </thead>\n",
       "  <tbody>\n",
       "    <tr>\n",
       "      <th>23</th>\n",
       "      <td>10</td>\n",
       "      <td>adult books</td>\n",
       "      <td>0</td>\n",
       "    </tr>\n",
       "    <tr>\n",
       "      <th>17</th>\n",
       "      <td>40</td>\n",
       "      <td>imported video games</td>\n",
       "      <td>1</td>\n",
       "    </tr>\n",
       "    <tr>\n",
       "      <th>0</th>\n",
       "      <td>50</td>\n",
       "      <td>video games accessories</td>\n",
       "      <td>2</td>\n",
       "    </tr>\n",
       "    <tr>\n",
       "      <th>12</th>\n",
       "      <td>60</td>\n",
       "      <td>games and consoles</td>\n",
       "      <td>3</td>\n",
       "    </tr>\n",
       "    <tr>\n",
       "      <th>8</th>\n",
       "      <td>1140</td>\n",
       "      <td>goodies</td>\n",
       "      <td>4</td>\n",
       "    </tr>\n",
       "    <tr>\n",
       "      <th>21</th>\n",
       "      <td>1160</td>\n",
       "      <td>playing cards</td>\n",
       "      <td>5</td>\n",
       "    </tr>\n",
       "    <tr>\n",
       "      <th>24</th>\n",
       "      <td>1180</td>\n",
       "      <td>figurines_wargames</td>\n",
       "      <td>6</td>\n",
       "    </tr>\n",
       "    <tr>\n",
       "      <th>7</th>\n",
       "      <td>1280</td>\n",
       "      <td>toys for children</td>\n",
       "      <td>7</td>\n",
       "    </tr>\n",
       "    <tr>\n",
       "      <th>5</th>\n",
       "      <td>1281</td>\n",
       "      <td>board games</td>\n",
       "      <td>8</td>\n",
       "    </tr>\n",
       "    <tr>\n",
       "      <th>9</th>\n",
       "      <td>1300</td>\n",
       "      <td>remote controlled models</td>\n",
       "      <td>9</td>\n",
       "    </tr>\n",
       "    <tr>\n",
       "      <th>22</th>\n",
       "      <td>1301</td>\n",
       "      <td>accessories children</td>\n",
       "      <td>10</td>\n",
       "    </tr>\n",
       "    <tr>\n",
       "      <th>15</th>\n",
       "      <td>1302</td>\n",
       "      <td>kids toys</td>\n",
       "      <td>11</td>\n",
       "    </tr>\n",
       "    <tr>\n",
       "      <th>13</th>\n",
       "      <td>1320</td>\n",
       "      <td>early childhood</td>\n",
       "      <td>12</td>\n",
       "    </tr>\n",
       "    <tr>\n",
       "      <th>4</th>\n",
       "      <td>1560</td>\n",
       "      <td>interior furniture and bedding</td>\n",
       "      <td>13</td>\n",
       "    </tr>\n",
       "    <tr>\n",
       "      <th>6</th>\n",
       "      <td>1920</td>\n",
       "      <td>interior accessories</td>\n",
       "      <td>14</td>\n",
       "    </tr>\n",
       "    <tr>\n",
       "      <th>20</th>\n",
       "      <td>1940</td>\n",
       "      <td>Food</td>\n",
       "      <td>15</td>\n",
       "    </tr>\n",
       "    <tr>\n",
       "      <th>10</th>\n",
       "      <td>2060</td>\n",
       "      <td>decoration interior</td>\n",
       "      <td>16</td>\n",
       "    </tr>\n",
       "    <tr>\n",
       "      <th>16</th>\n",
       "      <td>2220</td>\n",
       "      <td>supplies for domestic animals</td>\n",
       "      <td>17</td>\n",
       "    </tr>\n",
       "    <tr>\n",
       "      <th>14</th>\n",
       "      <td>2280</td>\n",
       "      <td>magazines</td>\n",
       "      <td>18</td>\n",
       "    </tr>\n",
       "    <tr>\n",
       "      <th>25</th>\n",
       "      <td>2403</td>\n",
       "      <td>children books</td>\n",
       "      <td>19</td>\n",
       "    </tr>\n",
       "    <tr>\n",
       "      <th>26</th>\n",
       "      <td>2462</td>\n",
       "      <td>games</td>\n",
       "      <td>20</td>\n",
       "    </tr>\n",
       "    <tr>\n",
       "      <th>2</th>\n",
       "      <td>2522</td>\n",
       "      <td>stationery</td>\n",
       "      <td>21</td>\n",
       "    </tr>\n",
       "    <tr>\n",
       "      <th>3</th>\n",
       "      <td>2582</td>\n",
       "      <td>kitchen and garden</td>\n",
       "      <td>22</td>\n",
       "    </tr>\n",
       "    <tr>\n",
       "      <th>11</th>\n",
       "      <td>2583</td>\n",
       "      <td>piscine spa</td>\n",
       "      <td>23</td>\n",
       "    </tr>\n",
       "    <tr>\n",
       "      <th>19</th>\n",
       "      <td>2585</td>\n",
       "      <td>gardening and DIY</td>\n",
       "      <td>24</td>\n",
       "    </tr>\n",
       "    <tr>\n",
       "      <th>1</th>\n",
       "      <td>2705</td>\n",
       "      <td>books</td>\n",
       "      <td>25</td>\n",
       "    </tr>\n",
       "    <tr>\n",
       "      <th>18</th>\n",
       "      <td>2905</td>\n",
       "      <td>online distribution of video games</td>\n",
       "      <td>26</td>\n",
       "    </tr>\n",
       "  </tbody>\n",
       "</table>\n",
       "</div>"
      ],
      "text/plain": [
       "    prdtypecode                               Label  target_prdtypecode\n",
       "23           10                         adult books                   0\n",
       "17           40                imported video games                   1\n",
       "0            50             video games accessories                   2\n",
       "12           60                  games and consoles                   3\n",
       "8          1140                             goodies                   4\n",
       "21         1160                       playing cards                   5\n",
       "24         1180                  figurines_wargames                   6\n",
       "7          1280                   toys for children                   7\n",
       "5          1281                         board games                   8\n",
       "9          1300            remote controlled models                   9\n",
       "22         1301                accessories children                  10\n",
       "15         1302                           kids toys                  11\n",
       "13         1320                     early childhood                  12\n",
       "4          1560      interior furniture and bedding                  13\n",
       "6          1920                interior accessories                  14\n",
       "20         1940                                Food                  15\n",
       "10         2060                 decoration interior                  16\n",
       "16         2220       supplies for domestic animals                  17\n",
       "14         2280                           magazines                  18\n",
       "25         2403                      children books                  19\n",
       "26         2462                               games                  20\n",
       "2          2522                          stationery                  21\n",
       "3          2582                  kitchen and garden                  22\n",
       "11         2583                         piscine spa                  23\n",
       "19         2585                   gardening and DIY                  24\n",
       "1          2705                               books                  25\n",
       "18         2905  online distribution of video games                  26"
      ]
     },
     "execution_count": 7,
     "metadata": {},
     "output_type": "execute_result"
    }
   ],
   "source": [
    "# Crate DF containing prdtypecode , categories and corresponding class used by model\n",
    "df_class = df_class.sort_values(by = 'prdtypecode', ascending = True)\n",
    "df_class['target_prdtypecode'] = [i for i in range(27)]\n",
    "df_class"
   ]
  },
  {
   "cell_type": "markdown",
   "id": "cb4bd64a",
   "metadata": {
    "id": "cb4bd64a"
   },
   "source": [
    "***Change the 27 product codes to 0 to 26***"
   ]
  },
  {
   "cell_type": "code",
   "execution_count": 8,
   "id": "719237a0",
   "metadata": {
    "colab": {
     "base_uri": "https://localhost:8080/"
    },
    "executionInfo": {
     "elapsed": 174,
     "status": "ok",
     "timestamp": 1634378607014,
     "user": {
      "displayName": "Mourad Mecheri",
      "photoUrl": "https://lh3.googleusercontent.com/a/default-user=s64",
      "userId": "08453845245011476141"
     },
     "user_tz": -120
    },
    "id": "719237a0",
    "outputId": "07fdc79a-e32c-400c-9027-0449ef25eb24"
   },
   "outputs": [],
   "source": [
    "df_train_im.replace({'prdtypecode':{10:0,\n",
    "                                    40:1,\n",
    "                                    50:2,\n",
    "                                    60:3,\n",
    "                                    1140:4,\n",
    "                                    1160:5,\n",
    "                                    1180:6,\n",
    "                                    1280:7,\n",
    "                                    1281:8,\n",
    "                                    1300:9                                    \n",
    "                                    }}, inplace = True)\n",
    "\n",
    "df_train_im.replace({'prdtypecode':{1301:10,\n",
    "                                    1302:11,\n",
    "                                    1320:12,\n",
    "                                    1560:13,\n",
    "                                    1920:14,\n",
    "                                    1940:15,\n",
    "                                    2060:16,\n",
    "                                    2220:17,\n",
    "                                    2280:18,\n",
    "                                    2403:19,\n",
    "                                    2462:20,\n",
    "                                    2522:21,\n",
    "                                    2582:22,\n",
    "                                    2583:23,\n",
    "                                    2585:24,\n",
    "                                    2705:25,\n",
    "                                    2905:26\n",
    "                                    }}, inplace = True)"
   ]
  },
  {
   "cell_type": "code",
   "execution_count": 9,
   "id": "87efd019",
   "metadata": {
    "colab": {
     "base_uri": "https://localhost:8080/",
     "height": 51
    },
    "executionInfo": {
     "elapsed": 209,
     "status": "ok",
     "timestamp": 1634378610252,
     "user": {
      "displayName": "Mourad Mecheri",
      "photoUrl": "https://lh3.googleusercontent.com/a/default-user=s64",
      "userId": "08453845245011476141"
     },
     "user_tz": -120
    },
    "id": "87efd019",
    "outputId": "02d9ecb6-3f5d-4aa8-ba98-36c3fb00b61e"
   },
   "outputs": [
    {
     "data": {
      "text/plain": [
       "array([ 0, 18,  2,  7, 25, 21, 22, 13,  8, 14, 19,  4, 23,  6,  9, 20,  5,\n",
       "       16,  1,  3, 12, 11, 17, 26, 24, 15, 10], dtype=int64)"
      ]
     },
     "metadata": {},
     "output_type": "display_data"
    }
   ],
   "source": [
    "display(df_train_im[\"prdtypecode\"].unique())"
   ]
  },
  {
   "cell_type": "markdown",
   "id": "e1f39afc-d5e6-4fc1-a2da-8225a2ab140a",
   "metadata": {},
   "source": [
    " ***Convert product code to string type***"
   ]
  },
  {
   "cell_type": "code",
   "execution_count": 10,
   "id": "c51aaaf0-f4b3-4d71-9806-c72ab7c75657",
   "metadata": {},
   "outputs": [],
   "source": [
    "df_train_im[\"prdtypecode\"] = df_train_im[\"prdtypecode\"].astype(str)"
   ]
  },
  {
   "cell_type": "code",
   "execution_count": 11,
   "id": "55e12af1",
   "metadata": {
    "colab": {
     "base_uri": "https://localhost:8080/",
     "height": 572
    },
    "executionInfo": {
     "elapsed": 199,
     "status": "ok",
     "timestamp": 1634378613548,
     "user": {
      "displayName": "Mourad Mecheri",
      "photoUrl": "https://lh3.googleusercontent.com/a/default-user=s64",
      "userId": "08453845245011476141"
     },
     "user_tz": -120
    },
    "id": "55e12af1",
    "outputId": "99ab9d62-4665-4b85-8e28-97f573ed0ddc"
   },
   "outputs": [
    {
     "data": {
      "text/plain": [
       "{'0': 3116,\n",
       " '1': 2508,\n",
       " '10': 807,\n",
       " '11': 2491,\n",
       " '12': 3241,\n",
       " '13': 5073,\n",
       " '14': 4303,\n",
       " '15': 803,\n",
       " '16': 4993,\n",
       " '17': 824,\n",
       " '18': 4760,\n",
       " '19': 4774,\n",
       " '2': 1681,\n",
       " '20': 1421,\n",
       " '21': 4989,\n",
       " '22': 2589,\n",
       " '23': 10209,\n",
       " '24': 2496,\n",
       " '25': 2761,\n",
       " '26': 872,\n",
       " '3': 832,\n",
       " '4': 2671,\n",
       " '5': 3953,\n",
       " '6': 764,\n",
       " '7': 4870,\n",
       " '8': 2070,\n",
       " '9': 5045}"
      ]
     },
     "execution_count": 11,
     "metadata": {},
     "output_type": "execute_result"
    }
   ],
   "source": [
    "unique, counts = np.unique(df_train_im[\"prdtypecode\"], return_counts=True)\n",
    "dict(zip(unique, counts))"
   ]
  },
  {
   "cell_type": "markdown",
   "id": "b38c105e",
   "metadata": {
    "id": "b38c105e"
   },
   "source": [
    " ***Split Train Set***"
   ]
  },
  {
   "cell_type": "code",
   "execution_count": 12,
   "id": "1874a9b3",
   "metadata": {
    "executionInfo": {
     "elapsed": 195,
     "status": "ok",
     "timestamp": 1634380006273,
     "user": {
      "displayName": "Mourad Mecheri",
      "photoUrl": "https://lh3.googleusercontent.com/a/default-user=s64",
      "userId": "08453845245011476141"
     },
     "user_tz": -120
    },
    "id": "1874a9b3"
   },
   "outputs": [],
   "source": [
    "# Split Train set \n",
    "#X_train_im, X_test_im = train_test_split(df_train_im, train_size=0.8, random_state=1234)"
   ]
  },
  {
   "cell_type": "code",
   "execution_count": 13,
   "id": "6bf6f3cc",
   "metadata": {
    "colab": {
     "base_uri": "https://localhost:8080/",
     "height": 51
    },
    "executionInfo": {
     "elapsed": 178,
     "status": "ok",
     "timestamp": 1634380010322,
     "user": {
      "displayName": "Mourad Mecheri",
      "photoUrl": "https://lh3.googleusercontent.com/a/default-user=s64",
      "userId": "08453845245011476141"
     },
     "user_tz": -120
    },
    "id": "6bf6f3cc",
    "outputId": "817ddff9-4f5b-418e-e9c9-bce75d5c6430"
   },
   "outputs": [],
   "source": [
    "#display(X_train_im.shape)\n",
    "#display(X_test_im.shape)"
   ]
  },
  {
   "cell_type": "markdown",
   "id": "0dc304a2",
   "metadata": {
    "id": "0dc304a2"
   },
   "source": [
    "***Data Generator***"
   ]
  },
  {
   "cell_type": "code",
   "execution_count": 14,
   "id": "3cf7aaf0",
   "metadata": {},
   "outputs": [],
   "source": [
    "img_rows = 224\n",
    "img_cols = 224\n",
    "batch_size = 64\n",
    "epochs = 100\n",
    "images_dir_train = './data/images/all/image_train_resized/'\n",
    "#images_dir_test = './data/images/all/image_test_resized/'"
   ]
  },
  {
   "cell_type": "code",
   "execution_count": 15,
   "id": "37985788",
   "metadata": {},
   "outputs": [
    {
     "name": "stdout",
     "output_type": "stream",
     "text": [
      "Wall time: 0 ns\n"
     ]
    }
   ],
   "source": [
    "%%time\n",
    "#Générateur de données\n",
    "img_gen = ImageDataGenerator(rescale = 1/255, \n",
    "                             validation_split = 0.2)"
   ]
  },
  {
   "cell_type": "code",
   "execution_count": 16,
   "id": "491a5ab9",
   "metadata": {},
   "outputs": [
    {
     "name": "stdout",
     "output_type": "stream",
     "text": [
      "Found 67933 validated image filenames belonging to 27 classes.\n",
      "Wall time: 9.3 s\n"
     ]
    }
   ],
   "source": [
    "%%time\n",
    "\n",
    "#Itérateur \n",
    "train_generator = img_gen.flow_from_dataframe(dataframe = df_train_im,\n",
    "                                              directory = images_dir_train,\n",
    "                                              as_ext = True,\n",
    "                                              x_col = 'imagePath',\n",
    "                                              y_col = 'prdtypecode',  #target data                                            \n",
    "                                              class_mode = 'sparse',                                             \n",
    "                                              target_size = (img_rows , img_cols), # default 256 x 256                                             \n",
    "                                              batch_size = batch_size,                                             \n",
    "                                              shuffle = True, # défault\n",
    "                                              subset = 'training'\n",
    "                                             )"
   ]
  },
  {
   "cell_type": "code",
   "execution_count": 17,
   "id": "54cd2cf6",
   "metadata": {},
   "outputs": [
    {
     "name": "stdout",
     "output_type": "stream",
     "text": [
      "Found 16983 validated image filenames belonging to 27 classes.\n",
      "Wall time: 5.3 s\n"
     ]
    }
   ],
   "source": [
    "%%time\n",
    "# validation_split the validation batches ca be retrieved by specifying the subset as validation.\n",
    "valid_generator = img_gen.flow_from_dataframe(dataframe = df_train_im, \n",
    "                                              directory = images_dir_train,\n",
    "                                              as_ext = True,\n",
    "                                              x_col = 'imagePath',\n",
    "                                              y_col = 'prdtypecode',  #target data                                            \n",
    "                                              class_mode = 'sparse',                                        \n",
    "                                              target_size = (img_rows , img_cols), # default 256 x 256                                         \n",
    "                                              batch_size = batch_size, \n",
    "                                              shuffle = False,\n",
    "                                              subset  = 'validation'\n",
    "                                             )"
   ]
  },
  {
   "cell_type": "markdown",
   "id": "3241b27e",
   "metadata": {
    "id": "3241b27e"
   },
   "source": [
    " ***VGG16 Implementation***"
   ]
  },
  {
   "cell_type": "code",
   "execution_count": 18,
   "id": "1a56928f",
   "metadata": {
    "colab": {
     "base_uri": "https://localhost:8080/"
    },
    "executionInfo": {
     "elapsed": 6752,
     "status": "ok",
     "timestamp": 1634380551756,
     "user": {
      "displayName": "Mourad Mecheri",
      "photoUrl": "https://lh3.googleusercontent.com/a/default-user=s64",
      "userId": "08453845245011476141"
     },
     "user_tz": -120
    },
    "id": "1a56928f",
    "outputId": "fefdf3b7-8985-4a6f-e8c4-c6d8c07edbaa"
   },
   "outputs": [
    {
     "name": "stdout",
     "output_type": "stream",
     "text": [
      "Model: \"sequential\"\n",
      "_________________________________________________________________\n",
      "Layer (type)                 Output Shape              Param #   \n",
      "=================================================================\n",
      "vgg16 (Functional)           (None, 7, 7, 512)         14714688  \n",
      "_________________________________________________________________\n",
      "global_average_pooling2d (Gl (None, 512)               0         \n",
      "_________________________________________________________________\n",
      "dense (Dense)                (None, 1024)              525312    \n",
      "_________________________________________________________________\n",
      "dropout (Dropout)            (None, 1024)              0         \n",
      "_________________________________________________________________\n",
      "dense_1 (Dense)              (None, 512)               524800    \n",
      "_________________________________________________________________\n",
      "dropout_1 (Dropout)          (None, 512)               0         \n",
      "_________________________________________________________________\n",
      "dense_2 (Dense)              (None, 27)                13851     \n",
      "=================================================================\n",
      "Total params: 15,778,651\n",
      "Trainable params: 1,063,963\n",
      "Non-trainable params: 14,714,688\n",
      "_________________________________________________________________\n",
      "Wall time: 1.56 s\n"
     ]
    }
   ],
   "source": [
    "%%time\n",
    "# Freez des chouche pré_entrainées d'Extraction de Features\n",
    "base_model = VGG16(weights='imagenet', include_top = False, input_shape = (img_rows,img_rows,3))\n",
    "for layer in base_model.layers:\n",
    "    layer.trainable = False\n",
    "\n",
    "# Architecture VGG16\n",
    "model = Sequential()\n",
    "\n",
    "# Ajout du modèle VGG16\n",
    "model.add(base_model) \n",
    "\n",
    "# Ajout des couche de classification\n",
    "model.add(GlobalAveragePooling2D()) \n",
    "model.add(Dense(units = 1024,activation='relu'))\n",
    "\n",
    "model.add(Dropout(rate = 0.2))\n",
    "model.add(Dense(units = 512, activation='relu'))\n",
    "\n",
    "model.add(Dropout(rate = 0.2))\n",
    "model.add(Dense(units = 27, activation='softmax'))\n",
    "\n",
    "model.summary()"
   ]
  },
  {
   "cell_type": "markdown",
   "id": "650c8075",
   "metadata": {
    "id": "650c8075"
   },
   "source": [
    "***Callbacks***"
   ]
  },
  {
   "cell_type": "code",
   "execution_count": 19,
   "id": "1d217cfb",
   "metadata": {},
   "outputs": [],
   "source": [
    "def increasinglrUpdate(epoch, learning_rate):\n",
    "    if epoch ==0:\n",
    "        print(\"[INFO] : Starting : epoch: \", epoch , \"learning_rate : \", learning_rate)\n",
    "        return learning_rate\n",
    "    else:\n",
    "        lr_updated = 1e-5 * 100 ** (epoch / 37)\n",
    "        print(\"[INFO] : Learning rate updated from:\", learning_rate, 'to: ',  lr_updated)\n",
    "        return lr_updated"
   ]
  },
  {
   "cell_type": "code",
   "execution_count": 20,
   "id": "cd04edfd",
   "metadata": {
    "colab": {
     "base_uri": "https://localhost:8080/"
    },
    "executionInfo": {
     "elapsed": 180,
     "status": "ok",
     "timestamp": 1634380599536,
     "user": {
      "displayName": "Mourad Mecheri",
      "photoUrl": "https://lh3.googleusercontent.com/a/default-user=s64",
      "userId": "08453845245011476141"
     },
     "user_tz": -120
    },
    "id": "cd04edfd",
    "outputId": "f49f76a3-cc19-496a-faac-b3db9e7a8579"
   },
   "outputs": [
    {
     "name": "stdout",
     "output_type": "stream",
     "text": [
      "Wall time: 0 ns\n"
     ]
    }
   ],
   "source": [
    "%%time\n",
    "path = './saves/VGG16/Iteration_5_1/'\n",
    "file_name = 'checkpoint_VGG16_11012022_100Epochs.h5'\n",
    "\n",
    "#Sauvegarder les meilleurs poids du modèle au cours de l'entraînement :\n",
    "checkpoint = ModelCheckpoint(filepath = path + file_name , \n",
    "                             monitor ='val_accuracy',                            \n",
    "                             save_best_only = True, # (pour que le meilleur modèle ne soit pas écrasé)\n",
    "                             save_weights_only = False,\n",
    "                             mode ='max', #(permet de préciser si la métrique doit croître ou décroitre : ici on choisit 'min'\n",
    "                                           #car la métrique est une perte à minimiser)\n",
    "                             save_freq='epoch',\n",
    "                             verbose = 1\n",
    "                             )\n",
    "#Arrêter l'entraînement si le modèle n'évolue plus (très pratique pour ne pas gérer le\n",
    "#nombre d'epoch) :\n",
    "early = EarlyStopping(monitor='val_loss',\n",
    "                      min_delta = 0.01, # si au bout de 5 epochs la fonction de perte ne varie pas de 1%, \n",
    "                                         # que ce soit à la hausse ou à la baisse, on arrête\n",
    "                      patience = 5, #(nombre d'epochs à attendre avant d'arrêter l'entraînement\n",
    "                      restore_best_weights = True,                     \n",
    "                      mode = 'min',\n",
    "                      verbose = 1,\n",
    "                      )\n",
    "#ReduceLROnPlateau. Lorsque qu'une métrique ne s'améliore plus d'une epoch à l'autre, \n",
    "#on peut diminuer le taux d'apprentissage (*Learning Rate*) pour y remédier. \n",
    "#Pour définir les critères et les conditions de réduction de taux d'apprentissage, \n",
    "#on peut utiliser les paramètres suivants : \n",
    "\n",
    "lr_plateau = ReduceLROnPlateau(monitor = 'val_loss',\n",
    "                               patience = 3,  #si val_loss stagne sur 3 epochs consécutives selon la valeur epsilon                            \n",
    "                               mode='min',\n",
    "                               min_delta = 0.01, # Si val loss n'a pas varié de 1 % on applique \n",
    "                               factor = 0.1,  # On réduit le learning rate d'un facteur 0.1 ( On divise le LR par 10)\n",
    "                               cooldown = 4, # On attend 4 epochs avant de réitérer.\n",
    "                                             #Nombre d'epochs de 'pause' entre deux mesures de suivis du *learning rate*.\n",
    "                               verbose=1\n",
    "                               )\n",
    "\n",
    "\n",
    "lrScheduler = LearningRateScheduler(schedule = increasinglrUpdate, verbose = 1)\n",
    "#lrScheduler = LearningRateScheduler(lambda epoch: 1e-3 * 10 ** (epoch / 37)\n",
    "#We’ll train the model for 100 epochs to test 100 different loss/learning rate combinations.\n",
    "#Here’s the range for the learning rate values: 1e-5 * 100 ** (0 / 37) and 1e-5 * 100 ** (100 / 37)\n",
    "# (1e-05, 2.543345761304648)"
   ]
  },
  {
   "cell_type": "markdown",
   "id": "63ae829d",
   "metadata": {
    "id": "63ae829d"
   },
   "source": [
    " ***Model Compilation***"
   ]
  },
  {
   "cell_type": "code",
   "execution_count": 21,
   "id": "03b94ced",
   "metadata": {
    "colab": {
     "base_uri": "https://localhost:8080/"
    },
    "executionInfo": {
     "elapsed": 197,
     "status": "ok",
     "timestamp": 1634380606266,
     "user": {
      "displayName": "Mourad Mecheri",
      "photoUrl": "https://lh3.googleusercontent.com/a/default-user=s64",
      "userId": "08453845245011476141"
     },
     "user_tz": -120
    },
    "id": "03b94ced",
    "outputId": "3bef4dd4-2c2d-4773-b132-5b9f6d24dfe9"
   },
   "outputs": [
    {
     "name": "stdout",
     "output_type": "stream",
     "text": [
      "Wall time: 10 ms\n"
     ]
    }
   ],
   "source": [
    "%%time\n",
    "# Compilation\n",
    "model.compile(loss='sparse_categorical_crossentropy',  # fonction de perte\n",
    "              optimizer= Adam(learning_rate= 1e-5) ,   #default lr = 0.001 # algorithme de descente de gradient\n",
    "              metrics=['accuracy'])                    # métrique d'évaluation"
   ]
  },
  {
   "cell_type": "markdown",
   "id": "b46ca980",
   "metadata": {
    "id": "b46ca980"
   },
   "source": [
    " ***Fit - train_generator***"
   ]
  },
  {
   "cell_type": "code",
   "execution_count": 22,
   "id": "58f9abb4",
   "metadata": {},
   "outputs": [
    {
     "name": "stdout",
     "output_type": "stream",
     "text": [
      "step_size_Train :  1061\n",
      "step_size_Valid  :  265\n"
     ]
    }
   ],
   "source": [
    "step_size_Train = train_generator.n//train_generator.batch_size\n",
    "step_size_Valid = valid_generator.n//valid_generator.batch_size\n",
    "print('step_size_Train : ' , step_size_Train)\n",
    "print('step_size_Valid  : ' , step_size_Valid)"
   ]
  },
  {
   "cell_type": "code",
   "execution_count": 23,
   "id": "8196cb05",
   "metadata": {
    "colab": {
     "base_uri": "https://localhost:8080/"
    },
    "id": "6099def0",
    "outputId": "2948cbea-6d0a-4cab-cef9-08948c1b7d97"
   },
   "outputs": [
    {
     "name": "stdout",
     "output_type": "stream",
     "text": [
      "Epoch 1/100\n",
      "[INFO] : Starting : epoch:  0 learning_rate :  9.999999747378752e-06\n",
      "\n",
      "Epoch 00001: LearningRateScheduler setting learning rate to 9.999999747378752e-06.\n",
      "1061/1061 [==============================] - 235s 211ms/step - loss: 2.9709 - accuracy: 0.1596 - val_loss: 2.7206 - val_accuracy: 0.2514\n",
      "Epoch 2/100\n",
      "[INFO] : Learning rate updated from: 9.999999747378752e-06 to:  1.132541315152812e-05\n",
      "\n",
      "Epoch 00002: LearningRateScheduler setting learning rate to 1.132541315152812e-05.\n",
      "1061/1061 [==============================] - 143s 135ms/step - loss: 2.6176 - accuracy: 0.2603 - val_loss: 2.4392 - val_accuracy: 0.3143\n",
      "Epoch 3/100\n",
      "[INFO] : Learning rate updated from: 1.1325412742735352e-05 to:  1.2826498305280606e-05\n",
      "\n",
      "Epoch 00003: LearningRateScheduler setting learning rate to 1.2826498305280606e-05.\n",
      "1061/1061 [==============================] - 145s 137ms/step - loss: 2.4134 - accuracy: 0.3081 - val_loss: 2.2885 - val_accuracy: 0.3522\n",
      "Epoch 4/100\n",
      "[INFO] : Learning rate updated from: 1.2826498277718201e-05 to:  1.4526539259467809e-05\n",
      "\n",
      "Epoch 00004: LearningRateScheduler setting learning rate to 1.4526539259467809e-05.\n",
      "1061/1061 [==============================] - 149s 140ms/step - loss: 2.2877 - accuracy: 0.3402 - val_loss: 2.1845 - val_accuracy: 0.3742\n",
      "Epoch 5/100\n",
      "[INFO] : Learning rate updated from: 1.4526539416692685e-05 to:  1.6451905877536628e-05\n",
      "\n",
      "Epoch 00005: LearningRateScheduler setting learning rate to 1.6451905877536628e-05.\n",
      "1061/1061 [==============================] - 151s 142ms/step - loss: 2.1980 - accuracy: 0.3621 - val_loss: 2.1103 - val_accuracy: 0.3919\n",
      "Epoch 6/100\n",
      "[INFO] : Learning rate updated from: 1.645190604904201e-05 to:  1.8632463119315606e-05\n",
      "\n",
      "Epoch 00006: LearningRateScheduler setting learning rate to 1.8632463119315606e-05.\n",
      "1061/1061 [==============================] - 152s 143ms/step - loss: 2.1262 - accuracy: 0.3804 - val_loss: 2.0496 - val_accuracy: 0.4050\n",
      "Epoch 7/100\n",
      "[INFO] : Learning rate updated from: 1.863246325228829e-05 to:  2.1102034285685956e-05\n",
      "\n",
      "Epoch 00007: LearningRateScheduler setting learning rate to 2.1102034285685956e-05.\n",
      "1061/1061 [==============================] - 153s 144ms/step - loss: 2.0624 - accuracy: 0.3991 - val_loss: 1.9984 - val_accuracy: 0.4163\n",
      "Epoch 8/100\n",
      "[INFO] : Learning rate updated from: 2.110203422489576e-05 to:  2.38989256623105e-05\n",
      "\n",
      "Epoch 00008: LearningRateScheduler setting learning rate to 2.38989256623105e-05.\n",
      "1061/1061 [==============================] - 153s 144ms/step - loss: 2.0083 - accuracy: 0.4111 - val_loss: 1.9496 - val_accuracy: 0.4323\n",
      "Epoch 9/100\n",
      "[INFO] : Learning rate updated from: 2.3898925064713694e-05 to:  2.7066520700332418e-05\n",
      "\n",
      "Epoch 00009: LearningRateScheduler setting learning rate to 2.7066520700332418e-05.\n",
      "1061/1061 [==============================] - 153s 144ms/step - loss: 1.9608 - accuracy: 0.4271 - val_loss: 1.9073 - val_accuracy: 0.4424\n",
      "Epoch 10/100\n",
      "[INFO] : Learning rate updated from: 2.7066520488006063e-05 to:  3.065395295056528e-05\n",
      "\n",
      "Epoch 00010: LearningRateScheduler setting learning rate to 3.065395295056528e-05.\n",
      "1061/1061 [==============================] - 150s 142ms/step - loss: 1.9146 - accuracy: 0.4366 - val_loss: 1.8687 - val_accuracy: 0.4521\n",
      "Epoch 11/100\n",
      "[INFO] : Learning rate updated from: 3.065395139856264e-05 to:  3.4716868189265614e-05\n",
      "\n",
      "Epoch 00011: LearningRateScheduler setting learning rate to 3.4716868189265614e-05.\n",
      "1061/1061 [==============================] - 149s 140ms/step - loss: 1.8746 - accuracy: 0.4499 - val_loss: 1.8337 - val_accuracy: 0.4622\n",
      "Epoch 12/100\n",
      "[INFO] : Learning rate updated from: 3.471686795819551e-05 to:  3.93182875570577e-05\n",
      "\n",
      "Epoch 00012: LearningRateScheduler setting learning rate to 3.93182875570577e-05.\n",
      "1061/1061 [==============================] - 148s 139ms/step - loss: 1.8363 - accuracy: 0.4590 - val_loss: 1.8061 - val_accuracy: 0.4745\n",
      "Epoch 13/100\n",
      "[INFO] : Learning rate updated from: 3.931828905479051e-05 to:  4.452958509942655e-05\n",
      "\n",
      "Epoch 00013: LearningRateScheduler setting learning rate to 4.452958509942655e-05.\n",
      "1061/1061 [==============================] - 147s 139ms/step - loss: 1.7998 - accuracy: 0.4693 - val_loss: 1.7738 - val_accuracy: 0.4792\n",
      "Epoch 14/100\n",
      "[INFO] : Learning rate updated from: 4.452958455658518e-05 to:  5.043159487171361e-05\n",
      "\n",
      "Epoch 00014: LearningRateScheduler setting learning rate to 5.043159487171361e-05.\n",
      "1061/1061 [==============================] - 148s 139ms/step - loss: 1.7653 - accuracy: 0.4785 - val_loss: 1.7430 - val_accuracy: 0.4886\n",
      "Epoch 15/100\n",
      "[INFO] : Learning rate updated from: 5.043159399065189e-05 to:  5.711586478126433e-05\n",
      "\n",
      "Epoch 00015: LearningRateScheduler setting learning rate to 5.711586478126433e-05.\n",
      "1061/1061 [==============================] - 150s 141ms/step - loss: 1.7348 - accuracy: 0.4876 - val_loss: 1.7203 - val_accuracy: 0.4932\n",
      "Epoch 16/100\n",
      "[INFO] : Learning rate updated from: 5.7115863455692306e-05 to:  6.468607661546327e-05\n",
      "\n",
      "Epoch 00016: LearningRateScheduler setting learning rate to 6.468607661546327e-05.\n",
      "1061/1061 [==============================] - 151s 142ms/step - loss: 1.7024 - accuracy: 0.4963 - val_loss: 1.6997 - val_accuracy: 0.4994\n",
      "Epoch 17/100\n",
      "[INFO] : Learning rate updated from: 6.468607898568735e-05 to:  7.325965428215231e-05\n",
      "\n",
      "Epoch 00017: LearningRateScheduler setting learning rate to 7.325965428215231e-05.\n",
      "1061/1061 [==============================] - 152s 143ms/step - loss: 1.6706 - accuracy: 0.5046 - val_loss: 1.6659 - val_accuracy: 0.5093\n",
      "Epoch 18/100\n",
      "[INFO] : Learning rate updated from: 7.325965270865709e-05 to:  8.29695852083491e-05\n",
      "\n",
      "Epoch 00018: LearningRateScheduler setting learning rate to 8.29695852083491e-05.\n",
      "1061/1061 [==============================] - 151s 142ms/step - loss: 1.6420 - accuracy: 0.5129 - val_loss: 1.6493 - val_accuracy: 0.5156\n",
      "Epoch 19/100\n",
      "[INFO] : Learning rate updated from: 8.296958549181e-05 to:  9.396648314954697e-05\n",
      "\n",
      "Epoch 00019: LearningRateScheduler setting learning rate to 9.396648314954697e-05.\n",
      "1061/1061 [==============================] - 153s 144ms/step - loss: 1.6153 - accuracy: 0.5195 - val_loss: 1.6344 - val_accuracy: 0.5175\n",
      "Epoch 20/100\n",
      "[INFO] : Learning rate updated from: 9.396648238180205e-05 to:  0.00010642092440647242\n",
      "\n",
      "Epoch 00020: LearningRateScheduler setting learning rate to 0.00010642092440647242.\n",
      "1061/1061 [==============================] - 163s 154ms/step - loss: 1.5868 - accuracy: 0.5267 - val_loss: 1.6044 - val_accuracy: 0.5297\n",
      "Epoch 21/100\n",
      "[INFO] : Learning rate updated from: 0.00010642092092894018 to:  0.00012052609368708427\n",
      "\n",
      "Epoch 00021: LearningRateScheduler setting learning rate to 0.00012052609368708427.\n",
      "1061/1061 [==============================] - 167s 157ms/step - loss: 1.5593 - accuracy: 0.5361 - val_loss: 1.5948 - val_accuracy: 0.5277\n",
      "Epoch 22/100\n",
      "[INFO] : Learning rate updated from: 0.00012052609235979617 to:  0.00013650078065460138\n",
      "\n",
      "Epoch 00022: LearningRateScheduler setting learning rate to 0.00013650078065460138.\n",
      "1061/1061 [==============================] - 161s 151ms/step - loss: 1.5353 - accuracy: 0.5406 - val_loss: 1.5728 - val_accuracy: 0.5356\n",
      "Epoch 23/100\n",
      "[INFO] : Learning rate updated from: 0.0001365007774438709 to:  0.00015459277364194779\n",
      "\n",
      "Epoch 00023: LearningRateScheduler setting learning rate to 0.00015459277364194779.\n",
      "1061/1061 [==============================] - 162s 153ms/step - loss: 1.5112 - accuracy: 0.5484 - val_loss: 1.5535 - val_accuracy: 0.5409\n",
      "Epoch 24/100\n",
      "[INFO] : Learning rate updated from: 0.00015459278074558824 to:  0.00017508270317357244\n",
      "\n",
      "Epoch 00024: LearningRateScheduler setting learning rate to 0.00017508270317357244.\n",
      "1061/1061 [==============================] - 169s 159ms/step - loss: 1.4850 - accuracy: 0.5559 - val_loss: 1.5455 - val_accuracy: 0.5458\n",
      "Epoch 25/100\n",
      "[INFO] : Learning rate updated from: 0.0001750827068462968 to:  0.00019828839491270716\n",
      "\n",
      "Epoch 00025: LearningRateScheduler setting learning rate to 0.00019828839491270716.\n",
      "1061/1061 [==============================] - 164s 155ms/step - loss: 1.4634 - accuracy: 0.5619 - val_loss: 1.5395 - val_accuracy: 0.5462\n",
      "Epoch 26/100\n",
      "[INFO] : Learning rate updated from: 0.00019828839867841452 to:  0.0002245697995539774\n",
      "\n",
      "Epoch 00026: LearningRateScheduler setting learning rate to 0.0002245697995539774.\n",
      "1061/1061 [==============================] - 161s 152ms/step - loss: 1.4396 - accuracy: 0.5686 - val_loss: 1.5102 - val_accuracy: 0.5550\n",
      "Epoch 27/100\n",
      "[INFO] : Learning rate updated from: 0.0002245697978651151 to:  0.000254334576130465\n",
      "\n",
      "Epoch 00027: LearningRateScheduler setting learning rate to 0.000254334576130465.\n",
      "1061/1061 [==============================] - 157s 148ms/step - loss: 1.4166 - accuracy: 0.5735 - val_loss: 1.4999 - val_accuracy: 0.5558\n",
      "Epoch 28/100\n",
      "[INFO] : Learning rate updated from: 0.000254334561759606 to:  0.00028804441533962965\n",
      "\n",
      "Epoch 00028: LearningRateScheduler setting learning rate to 0.00028804441533962965.\n",
      "1061/1061 [==============================] - 157s 148ms/step - loss: 1.3974 - accuracy: 0.5773 - val_loss: 1.5116 - val_accuracy: 0.5571\n",
      "Epoch 29/100\n",
      "[INFO] : Learning rate updated from: 0.0002880444226320833 to:  0.000326222200971167\n",
      "\n",
      "Epoch 00029: LearningRateScheduler setting learning rate to 0.000326222200971167.\n",
      "1061/1061 [==============================] - 156s 147ms/step - loss: 1.3763 - accuracy: 0.5836 - val_loss: 1.5152 - val_accuracy: 0.5515\n",
      "Epoch 30/100\n",
      "[INFO] : Learning rate updated from: 0.0003262221871409565 to:  0.00036946012051993025\n",
      "\n",
      "Epoch 00030: LearningRateScheduler setting learning rate to 0.00036946012051993025.\n",
      "1061/1061 [==============================] - 169s 159ms/step - loss: 1.3596 - accuracy: 0.5875 - val_loss: 1.5221 - val_accuracy: 0.5492\n",
      "Epoch 31/100\n",
      "[INFO] : Learning rate updated from: 0.0003694601182360202 to:  0.00041842885079015825\n",
      "\n",
      "Epoch 00031: LearningRateScheduler setting learning rate to 0.00041842885079015825.\n",
      "1061/1061 [==============================] - 166s 157ms/step - loss: 1.3454 - accuracy: 0.5910 - val_loss: 1.4859 - val_accuracy: 0.5640\n",
      "Epoch 32/100\n",
      "[INFO] : Learning rate updated from: 0.00041842885548248887 to:  0.0004738879609717654\n",
      "\n",
      "Epoch 00032: LearningRateScheduler setting learning rate to 0.0004738879609717654.\n",
      "1061/1061 [==============================] - 161s 152ms/step - loss: 1.3317 - accuracy: 0.5938 - val_loss: 1.5206 - val_accuracy: 0.5499\n",
      "Epoch 33/100\n",
      "[INFO] : Learning rate updated from: 0.00047388795064762235 to:  0.0005366976945540477\n",
      "\n",
      "Epoch 00033: LearningRateScheduler setting learning rate to 0.0005366976945540477.\n",
      "1061/1061 [==============================] - 157s 148ms/step - loss: 1.3236 - accuracy: 0.5942 - val_loss: 1.4877 - val_accuracy: 0.5574\n",
      "Epoch 34/100\n",
      "[INFO] : Learning rate updated from: 0.0005366976838558912 to:  0.000607832312829723\n",
      "\n",
      "Epoch 00034: LearningRateScheduler setting learning rate to 0.000607832312829723.\n",
      "1061/1061 [==============================] - 157s 148ms/step - loss: 1.3137 - accuracy: 0.6002 - val_loss: 1.4809 - val_accuracy: 0.5616\n",
      "Epoch 35/100\n",
      "[INFO] : Learning rate updated from: 0.0006078323349356651 to:  0.0006883952069645501\n",
      "\n",
      "Epoch 00035: LearningRateScheduler setting learning rate to 0.0006883952069645501.\n",
      "1061/1061 [==============================] - 159s 149ms/step - loss: 1.3058 - accuracy: 0.6011 - val_loss: 1.5070 - val_accuracy: 0.5570\n",
      "Epoch 36/100\n",
      "[INFO] : Learning rate updated from: 0.0006883952300995588 to:  0.0007796360130405234\n",
      "\n",
      "Epoch 00036: LearningRateScheduler setting learning rate to 0.0007796360130405234.\n",
      "1061/1061 [==============================] - 172s 162ms/step - loss: 1.3058 - accuracy: 0.5995 - val_loss: 1.5199 - val_accuracy: 0.5557\n",
      "Epoch 37/100\n",
      "[INFO] : Learning rate updated from: 0.0007796360296197236 to:  0.0008829699955494093\n",
      "\n",
      "Epoch 00037: LearningRateScheduler setting learning rate to 0.0008829699955494093.\n",
      "1061/1061 [==============================] - 169s 159ms/step - loss: 1.3131 - accuracy: 0.5960 - val_loss: 1.5212 - val_accuracy: 0.5526\n",
      "Epoch 38/100\n",
      "[INFO] : Learning rate updated from: 0.0008829699945636094 to:  0.001\n",
      "\n",
      "Epoch 00038: LearningRateScheduler setting learning rate to 0.001.\n",
      "1061/1061 [==============================] - 171s 161ms/step - loss: 1.3199 - accuracy: 0.5927 - val_loss: 1.5177 - val_accuracy: 0.5521\n",
      "Epoch 39/100\n",
      "[INFO] : Learning rate updated from: 0.0010000000474974513 to:  0.0011325413151528115\n",
      "\n",
      "Epoch 00039: LearningRateScheduler setting learning rate to 0.0011325413151528115.\n",
      "1061/1061 [==============================] - 171s 161ms/step - loss: 1.3233 - accuracy: 0.5922 - val_loss: 1.5030 - val_accuracy: 0.5588\n",
      "Epoch 40/100\n",
      "[INFO] : Learning rate updated from: 0.001132541336119175 to:  0.00128264983052806\n",
      "\n",
      "Epoch 00040: LearningRateScheduler setting learning rate to 0.00128264983052806.\n",
      "1061/1061 [==============================] - 173s 163ms/step - loss: 1.3439 - accuracy: 0.5845 - val_loss: 1.5156 - val_accuracy: 0.5555\n",
      "Epoch 41/100\n",
      "[INFO] : Learning rate updated from: 0.001282649813219905 to:  0.0014526539259467814\n",
      "\n",
      "Epoch 00041: LearningRateScheduler setting learning rate to 0.0014526539259467814.\n",
      "1061/1061 [==============================] - 173s 163ms/step - loss: 1.3634 - accuracy: 0.5812 - val_loss: 1.5570 - val_accuracy: 0.5400\n",
      "Epoch 42/100\n",
      "[INFO] : Learning rate updated from: 0.0014526539016515017 to:  0.0016451905877536625\n",
      "\n",
      "Epoch 00042: LearningRateScheduler setting learning rate to 0.0016451905877536625.\n",
      "1061/1061 [==============================] - 173s 163ms/step - loss: 1.3792 - accuracy: 0.5753 - val_loss: 1.5143 - val_accuracy: 0.5555\n",
      "Epoch 43/100\n",
      "[INFO] : Learning rate updated from: 0.001645190641283989 to:  0.00186324631193156\n",
      "\n",
      "Epoch 00043: LearningRateScheduler setting learning rate to 0.00186324631193156.\n",
      "1061/1061 [==============================] - 171s 161ms/step - loss: 1.4085 - accuracy: 0.5696 - val_loss: 1.5404 - val_accuracy: 0.5424\n",
      "Epoch 44/100\n",
      "[INFO] : Learning rate updated from: 0.0018632463179528713 to:  0.0021102034285685944\n",
      "\n",
      "Epoch 00044: LearningRateScheduler setting learning rate to 0.0021102034285685944.\n",
      "1061/1061 [==============================] - 162s 153ms/step - loss: 1.4382 - accuracy: 0.5607 - val_loss: 1.5611 - val_accuracy: 0.5361\n",
      "Epoch 45/100\n",
      "[INFO] : Learning rate updated from: 0.002110203495249152 to:  0.0023898925662310506\n",
      "\n",
      "Epoch 00045: LearningRateScheduler setting learning rate to 0.0023898925662310506.\n",
      "1061/1061 [==============================] - 162s 153ms/step - loss: 1.4731 - accuracy: 0.5511 - val_loss: 1.5884 - val_accuracy: 0.5328\n",
      "Epoch 46/100\n",
      "[INFO] : Learning rate updated from: 0.0023898924700915813 to:  0.0027066520700332417\n",
      "\n",
      "Epoch 00046: LearningRateScheduler setting learning rate to 0.0027066520700332417.\n",
      "1061/1061 [==============================] - 163s 154ms/step - loss: 1.5182 - accuracy: 0.5377 - val_loss: 1.5771 - val_accuracy: 0.5338\n",
      "Epoch 47/100\n",
      "[INFO] : Learning rate updated from: 0.0027066520415246487 to:  0.0030653952950565272\n",
      "\n",
      "Epoch 00047: LearningRateScheduler setting learning rate to 0.0030653952950565272.\n",
      "1061/1061 [==============================] - 165s 155ms/step - loss: 1.5588 - accuracy: 0.5294 - val_loss: 1.5837 - val_accuracy: 0.5328\n",
      "Epoch 48/100\n",
      "[INFO] : Learning rate updated from: 0.003065395401790738 to:  0.00347168681892656\n",
      "\n",
      "Epoch 00048: LearningRateScheduler setting learning rate to 0.00347168681892656.\n",
      "1061/1061 [==============================] - 164s 155ms/step - loss: 1.5984 - accuracy: 0.5189 - val_loss: 1.6154 - val_accuracy: 0.5245\n",
      "Epoch 49/100\n",
      "[INFO] : Learning rate updated from: 0.00347168673761189 to:  0.003931828755705771\n",
      "\n",
      "Epoch 00049: LearningRateScheduler setting learning rate to 0.003931828755705771.\n",
      "1061/1061 [==============================] - 167s 157ms/step - loss: 1.6447 - accuracy: 0.5082 - val_loss: 1.6837 - val_accuracy: 0.5117\n",
      "Epoch 50/100\n",
      "[INFO] : Learning rate updated from: 0.003931828774511814 to:  0.004452958509942656\n",
      "\n",
      "Epoch 00050: LearningRateScheduler setting learning rate to 0.004452958509942656.\n",
      "1061/1061 [==============================] - 166s 156ms/step - loss: 1.7065 - accuracy: 0.4932 - val_loss: 1.6856 - val_accuracy: 0.5070\n",
      "Epoch 51/100\n",
      "[INFO] : Learning rate updated from: 0.004452958703041077 to:  0.005043159487171359\n",
      "\n",
      "Epoch 00051: LearningRateScheduler setting learning rate to 0.005043159487171359.\n",
      "1061/1061 [==============================] - 156s 147ms/step - loss: 1.7381 - accuracy: 0.4876 - val_loss: 1.7476 - val_accuracy: 0.4960\n",
      "Epoch 52/100\n",
      "[INFO] : Learning rate updated from: 0.005043159704655409 to:  0.005711586478126429\n",
      "\n",
      "Epoch 00052: LearningRateScheduler setting learning rate to 0.005711586478126429.\n"
     ]
    },
    {
     "name": "stdout",
     "output_type": "stream",
     "text": [
      "1061/1061 [==============================] - 156s 147ms/step - loss: 1.7862 - accuracy: 0.4751 - val_loss: 1.7197 - val_accuracy: 0.4922\n",
      "Epoch 53/100\n",
      "[INFO] : Learning rate updated from: 0.005711586680263281 to:  0.0064686076615463285\n",
      "\n",
      "Epoch 00053: LearningRateScheduler setting learning rate to 0.0064686076615463285.\n",
      "1061/1061 [==============================] - 155s 146ms/step - loss: 1.8211 - accuracy: 0.4650 - val_loss: 1.7546 - val_accuracy: 0.4842\n",
      "Epoch 54/100\n",
      "[INFO] : Learning rate updated from: 0.0064686075784265995 to:  0.007325965428215231\n",
      "\n",
      "Epoch 00054: LearningRateScheduler setting learning rate to 0.007325965428215231.\n",
      "1061/1061 [==============================] - 156s 147ms/step - loss: 1.8835 - accuracy: 0.4537 - val_loss: 1.7903 - val_accuracy: 0.4759\n",
      "Epoch 55/100\n",
      "[INFO] : Learning rate updated from: 0.007325965445488691 to:  0.008296958520834907\n",
      "\n",
      "Epoch 00055: LearningRateScheduler setting learning rate to 0.008296958520834907.\n",
      "1061/1061 [==============================] - 169s 159ms/step - loss: 1.9184 - accuracy: 0.4408 - val_loss: 1.8421 - val_accuracy: 0.4657\n",
      "Epoch 56/100\n",
      "[INFO] : Learning rate updated from: 0.008296958170831203 to:  0.009396648314954691\n",
      "\n",
      "Epoch 00056: LearningRateScheduler setting learning rate to 0.009396648314954691.\n",
      "1061/1061 [==============================] - 172s 162ms/step - loss: 1.9769 - accuracy: 0.4253 - val_loss: 1.8664 - val_accuracy: 0.4581\n",
      "Epoch 57/100\n",
      "[INFO] : Learning rate updated from: 0.009396648034453392 to:  0.010642092440647247\n",
      "\n",
      "Epoch 00057: LearningRateScheduler setting learning rate to 0.010642092440647247.\n",
      "1061/1061 [==============================] - 172s 162ms/step - loss: 2.0314 - accuracy: 0.4122 - val_loss: 1.8990 - val_accuracy: 0.4473\n",
      "Epoch 58/100\n",
      "[INFO] : Learning rate updated from: 0.010642092674970627 to:  0.012052609368708427\n",
      "\n",
      "Epoch 00058: LearningRateScheduler setting learning rate to 0.012052609368708427.\n",
      "1061/1061 [==============================] - 158s 149ms/step - loss: 2.0563 - accuracy: 0.4038 - val_loss: 1.9758 - val_accuracy: 0.4223\n",
      "Epoch 59/100\n",
      "[INFO] : Learning rate updated from: 0.012052609585225582 to:  0.01365007806546014\n",
      "\n",
      "Epoch 00059: LearningRateScheduler setting learning rate to 0.01365007806546014.\n",
      "1061/1061 [==============================] - 156s 147ms/step - loss: 2.1399 - accuracy: 0.3801 - val_loss: 1.9794 - val_accuracy: 0.4348\n",
      "Epoch 60/100\n",
      "[INFO] : Learning rate updated from: 0.0136500783264637 to:  0.015459277364194772\n",
      "\n",
      "Epoch 00060: LearningRateScheduler setting learning rate to 0.015459277364194772.\n",
      "1061/1061 [==============================] - 168s 158ms/step - loss: 2.1688 - accuracy: 0.3729 - val_loss: 2.0152 - val_accuracy: 0.4126\n",
      "Epoch 61/100\n",
      "[INFO] : Learning rate updated from: 0.015459277667105198 to:  0.01750827031735725\n",
      "\n",
      "Epoch 00061: LearningRateScheduler setting learning rate to 0.01750827031735725.\n",
      "1061/1061 [==============================] - 165s 156ms/step - loss: 2.2027 - accuracy: 0.3591 - val_loss: 2.0812 - val_accuracy: 0.4120\n",
      "Epoch 62/100\n",
      "[INFO] : Learning rate updated from: 0.01750827021896839 to:  0.019828839491270716\n",
      "\n",
      "Epoch 00062: LearningRateScheduler setting learning rate to 0.019828839491270716.\n",
      "1061/1061 [==============================] - 171s 161ms/step - loss: 2.2555 - accuracy: 0.3488 - val_loss: 2.0799 - val_accuracy: 0.3848\n",
      "Epoch 63/100\n",
      "[INFO] : Learning rate updated from: 0.019828839227557182 to:  0.022456979955397742\n",
      "\n",
      "Epoch 00063: LearningRateScheduler setting learning rate to 0.022456979955397742.\n",
      "1061/1061 [==============================] - 176s 166ms/step - loss: 2.3058 - accuracy: 0.3347 - val_loss: 2.1305 - val_accuracy: 0.3719\n",
      "Epoch 64/100\n",
      "[INFO] : Learning rate updated from: 0.022456979379057884 to:  0.02543345761304648\n",
      "\n",
      "Epoch 00064: LearningRateScheduler setting learning rate to 0.02543345761304648.\n",
      "1061/1061 [==============================] - 172s 162ms/step - loss: 2.3533 - accuracy: 0.3167 - val_loss: 2.1981 - val_accuracy: 0.3560\n",
      "Epoch 65/100\n",
      "[INFO] : Learning rate updated from: 0.025433458387851715 to:  0.028804441533962978\n",
      "\n",
      "Epoch 00065: LearningRateScheduler setting learning rate to 0.028804441533962978.\n",
      "1061/1061 [==============================] - 176s 166ms/step - loss: 2.4902 - accuracy: 0.2815 - val_loss: 2.4535 - val_accuracy: 0.2898\n",
      "Epoch 66/100\n",
      "[INFO] : Learning rate updated from: 0.028804441913962364 to:  0.0326222200971167\n",
      "\n",
      "Epoch 00066: LearningRateScheduler setting learning rate to 0.0326222200971167.\n",
      "1061/1061 [==============================] - 162s 153ms/step - loss: 2.6153 - accuracy: 0.2375 - val_loss: 2.5493 - val_accuracy: 0.2288\n",
      "Epoch 67/100\n",
      "[INFO] : Learning rate updated from: 0.03262222185730934 to:  0.03694601205199303\n",
      "\n",
      "Epoch 00067: LearningRateScheduler setting learning rate to 0.03694601205199303.\n",
      "1061/1061 [==============================] - 167s 158ms/step - loss: 2.6397 - accuracy: 0.2389 - val_loss: 2.5501 - val_accuracy: 0.2644\n",
      "Epoch 68/100\n",
      "[INFO] : Learning rate updated from: 0.03694601356983185 to:  0.04184288507901581\n",
      "\n",
      "Epoch 00068: LearningRateScheduler setting learning rate to 0.04184288507901581.\n",
      "1061/1061 [==============================] - 163s 154ms/step - loss: 2.7432 - accuracy: 0.2108 - val_loss: 2.6893 - val_accuracy: 0.2179\n",
      "Epoch 69/100\n",
      "[INFO] : Learning rate updated from: 0.04184288531541824 to:  0.04738879609717656\n",
      "\n",
      "Epoch 00069: LearningRateScheduler setting learning rate to 0.04738879609717656.\n",
      "1061/1061 [==============================] - 164s 155ms/step - loss: 2.7901 - accuracy: 0.1907 - val_loss: 2.7157 - val_accuracy: 0.1926\n",
      "Epoch 70/100\n",
      "[INFO] : Learning rate updated from: 0.047388795763254166 to:  0.05366976945540476\n",
      "\n",
      "Epoch 00070: LearningRateScheduler setting learning rate to 0.05366976945540476.\n",
      "1061/1061 [==============================] - 179s 169ms/step - loss: 2.8377 - accuracy: 0.1712 - val_loss: 2.7707 - val_accuracy: 0.1866\n",
      "Epoch 71/100\n",
      "[INFO] : Learning rate updated from: 0.0536697693169117 to:  0.060783231282972305\n",
      "\n",
      "Epoch 00071: LearningRateScheduler setting learning rate to 0.060783231282972305.\n",
      "1061/1061 [==============================] - 165s 155ms/step - loss: 3.0529 - accuracy: 0.1271 - val_loss: 3.0990 - val_accuracy: 0.1214\n",
      "Epoch 72/100\n",
      "[INFO] : Learning rate updated from: 0.060783229768276215 to:  0.06883952069645496\n",
      "\n",
      "Epoch 00072: LearningRateScheduler setting learning rate to 0.06883952069645496.\n",
      "1061/1061 [==============================] - 173s 163ms/step - loss: 3.0826 - accuracy: 0.1203 - val_loss: 3.1047 - val_accuracy: 0.1214\n",
      "Epoch 73/100\n",
      "[INFO] : Learning rate updated from: 0.06883952021598816 to:  0.07796360130405237\n",
      "\n",
      "Epoch 00073: LearningRateScheduler setting learning rate to 0.07796360130405237.\n",
      "1061/1061 [==============================] - 169s 159ms/step - loss: 3.1014 - accuracy: 0.1196 - val_loss: 3.1102 - val_accuracy: 0.1214\n",
      "Epoch 74/100\n",
      "[INFO] : Learning rate updated from: 0.07796359807252884 to:  0.08829699955494093\n",
      "\n",
      "Epoch 00074: LearningRateScheduler setting learning rate to 0.08829699955494093.\n",
      "1061/1061 [==============================] - 167s 157ms/step - loss: 3.1063 - accuracy: 0.1200 - val_loss: 3.1042 - val_accuracy: 0.1214\n",
      "Epoch 75/100\n",
      "[INFO] : Learning rate updated from: 0.08829700201749802 to:  0.1\n",
      "\n",
      "Epoch 00075: LearningRateScheduler setting learning rate to 0.1.\n",
      "1061/1061 [==============================] - 160s 151ms/step - loss: 3.1081 - accuracy: 0.1200 - val_loss: 3.1040 - val_accuracy: 0.1214\n",
      "Epoch 76/100\n",
      "[INFO] : Learning rate updated from: 0.10000000149011612 to:  0.11325413151528127\n",
      "\n",
      "Epoch 00076: LearningRateScheduler setting learning rate to 0.11325413151528127.\n",
      "1061/1061 [==============================] - 167s 158ms/step - loss: 3.1109 - accuracy: 0.1200 - val_loss: 3.1076 - val_accuracy: 0.1214\n",
      "Epoch 77/100\n",
      "[INFO] : Learning rate updated from: 0.1132541298866272 to:  0.12826498305280598\n",
      "\n",
      "Epoch 00077: LearningRateScheduler setting learning rate to 0.12826498305280598.\n",
      "1061/1061 [==============================] - 175s 164ms/step - loss: 3.1126 - accuracy: 0.1194 - val_loss: 3.1060 - val_accuracy: 0.1214\n",
      "Epoch 78/100\n",
      "[INFO] : Learning rate updated from: 0.12826497852802277 to:  0.14526539259467813\n",
      "\n",
      "Epoch 00078: LearningRateScheduler setting learning rate to 0.14526539259467813.\n",
      "1061/1061 [==============================] - 167s 157ms/step - loss: 3.1150 - accuracy: 0.1196 - val_loss: 3.1067 - val_accuracy: 0.1214\n",
      "Epoch 79/100\n",
      "[INFO] : Learning rate updated from: 0.1452653855085373 to:  0.16451905877536607\n",
      "\n",
      "Epoch 00079: LearningRateScheduler setting learning rate to 0.16451905877536607.\n",
      "1061/1061 [==============================] - 165s 155ms/step - loss: 3.1180 - accuracy: 0.1189 - val_loss: 3.1070 - val_accuracy: 0.1214\n",
      "Epoch 80/100\n",
      "[INFO] : Learning rate updated from: 0.1645190566778183 to:  0.186324631193156\n",
      "\n",
      "Epoch 00080: LearningRateScheduler setting learning rate to 0.186324631193156.\n",
      "1061/1061 [==============================] - 174s 164ms/step - loss: 3.1205 - accuracy: 0.1183 - val_loss: 3.1266 - val_accuracy: 0.1214\n",
      "Epoch 81/100\n",
      "[INFO] : Learning rate updated from: 0.18632462620735168 to:  0.21102034285685967\n",
      "\n",
      "Epoch 00081: LearningRateScheduler setting learning rate to 0.21102034285685967.\n",
      "1061/1061 [==============================] - 178s 168ms/step - loss: 3.1244 - accuracy: 0.1187 - val_loss: 3.1352 - val_accuracy: 0.1214\n",
      "Epoch 82/100\n",
      "[INFO] : Learning rate updated from: 0.2110203355550766 to:  0.2389892566231048\n",
      "\n",
      "Epoch 00082: LearningRateScheduler setting learning rate to 0.2389892566231048.\n",
      "1061/1061 [==============================] - 168s 159ms/step - loss: 3.1301 - accuracy: 0.1160 - val_loss: 3.1173 - val_accuracy: 0.1214\n",
      "Epoch 83/100\n",
      "[INFO] : Learning rate updated from: 0.23898926377296448 to:  0.27066520700332414\n",
      "\n",
      "Epoch 00083: LearningRateScheduler setting learning rate to 0.27066520700332414.\n",
      "1061/1061 [==============================] - 159s 150ms/step - loss: 3.1322 - accuracy: 0.1156 - val_loss: 3.1352 - val_accuracy: 0.1214\n",
      "Epoch 84/100\n",
      "[INFO] : Learning rate updated from: 0.2706651985645294 to:  0.306539529505653\n",
      "\n",
      "Epoch 00084: LearningRateScheduler setting learning rate to 0.306539529505653.\n",
      "1061/1061 [==============================] - 175s 164ms/step - loss: 3.2305 - accuracy: 0.1142 - val_loss: 3.1337 - val_accuracy: 0.1214\n",
      "Epoch 85/100\n",
      "[INFO] : Learning rate updated from: 0.30653953552246094 to:  0.347168681892656\n",
      "\n",
      "Epoch 00085: LearningRateScheduler setting learning rate to 0.347168681892656.\n",
      "1061/1061 [==============================] - 175s 165ms/step - loss: 3.1373 - accuracy: 0.1137 - val_loss: 3.1318 - val_accuracy: 0.1214\n",
      "Epoch 86/100\n",
      "[INFO] : Learning rate updated from: 0.3471686840057373 to:  0.3931828755705771\n",
      "\n",
      "Epoch 00086: LearningRateScheduler setting learning rate to 0.3931828755705771.\n",
      "1061/1061 [==============================] - 176s 166ms/step - loss: 3.1487 - accuracy: 0.1103 - val_loss: 3.1638 - val_accuracy: 0.1214\n",
      "Epoch 87/100\n",
      "[INFO] : Learning rate updated from: 0.3931828737258911 to:  0.4452958509942651\n",
      "\n",
      "Epoch 00087: LearningRateScheduler setting learning rate to 0.4452958509942651.\n",
      "1061/1061 [==============================] - 176s 166ms/step - loss: 3.1530 - accuracy: 0.1094 - val_loss: 3.1522 - val_accuracy: 0.1214\n",
      "Epoch 88/100\n",
      "[INFO] : Learning rate updated from: 0.4452958405017853 to:  0.5043159487171359\n",
      "\n",
      "Epoch 00088: LearningRateScheduler setting learning rate to 0.5043159487171359.\n",
      "1061/1061 [==============================] - 176s 165ms/step - loss: 3.1626 - accuracy: 0.1068 - val_loss: 3.1894 - val_accuracy: 0.1214\n",
      "Epoch 89/100\n",
      "[INFO] : Learning rate updated from: 0.504315972328186 to:  0.5711586478126435\n",
      "\n",
      "Epoch 00089: LearningRateScheduler setting learning rate to 0.5711586478126435.\n",
      "1061/1061 [==============================] - 175s 165ms/step - loss: 3.1688 - accuracy: 0.1042 - val_loss: 3.1717 - val_accuracy: 0.1214\n",
      "Epoch 90/100\n",
      "[INFO] : Learning rate updated from: 0.5711586475372314 to:  0.6468607661546322\n",
      "\n",
      "Epoch 00090: LearningRateScheduler setting learning rate to 0.6468607661546322.\n",
      "1061/1061 [==============================] - 175s 165ms/step - loss: 3.1814 - accuracy: 0.1023 - val_loss: 3.1697 - val_accuracy: 0.0559\n",
      "Epoch 91/100\n",
      "[INFO] : Learning rate updated from: 0.6468607783317566 to:  0.7325965428215231\n",
      "\n",
      "Epoch 00091: LearningRateScheduler setting learning rate to 0.7325965428215231.\n",
      "1061/1061 [==============================] - 159s 150ms/step - loss: 3.1895 - accuracy: 0.1010 - val_loss: 3.2154 - val_accuracy: 0.0602\n",
      "Epoch 92/100\n",
      "[INFO] : Learning rate updated from: 0.7325965166091919 to:  0.8296958520834915\n",
      "\n",
      "Epoch 00092: LearningRateScheduler setting learning rate to 0.8296958520834915.\n",
      "1061/1061 [==============================] - 166s 157ms/step - loss: 3.2058 - accuracy: 0.0983 - val_loss: 3.2212 - val_accuracy: 0.0612\n",
      "Epoch 93/100\n",
      "[INFO] : Learning rate updated from: 0.8296958804130554 to:  0.9396648314954692\n",
      "\n",
      "Epoch 00093: LearningRateScheduler setting learning rate to 0.9396648314954692.\n",
      "1061/1061 [==============================] - 160s 151ms/step - loss: 3.2182 - accuracy: 0.0950 - val_loss: 3.1985 - val_accuracy: 0.1214\n",
      "Epoch 94/100\n",
      "[INFO] : Learning rate updated from: 0.9396648406982422 to:  1.0642092440647246\n",
      "\n",
      "Epoch 00094: LearningRateScheduler setting learning rate to 1.0642092440647246.\n",
      "1061/1061 [==============================] - 165s 155ms/step - loss: 3.2347 - accuracy: 0.0918 - val_loss: 3.1611 - val_accuracy: 0.1214\n",
      "Epoch 95/100\n",
      "[INFO] : Learning rate updated from: 1.064209222793579 to:  1.2052609368708416\n",
      "\n",
      "Epoch 00095: LearningRateScheduler setting learning rate to 1.2052609368708416.\n",
      "1061/1061 [==============================] - 174s 164ms/step - loss: 3.2418 - accuracy: 0.0919 - val_loss: 3.2578 - val_accuracy: 0.1214\n",
      "Epoch 96/100\n",
      "[INFO] : Learning rate updated from: 1.205260992050171 to:  1.3650078065460138\n",
      "\n",
      "Epoch 00096: LearningRateScheduler setting learning rate to 1.3650078065460138.\n",
      "1061/1061 [==============================] - 165s 155ms/step - loss: 3.2639 - accuracy: 0.0903 - val_loss: 3.2217 - val_accuracy: 0.0559\n",
      "Epoch 97/100\n",
      "[INFO] : Learning rate updated from: 1.365007758140564 to:  1.5459277364194788\n",
      "\n",
      "Epoch 00097: LearningRateScheduler setting learning rate to 1.5459277364194788.\n",
      "1061/1061 [==============================] - 171s 162ms/step - loss: 3.2882 - accuracy: 0.0898 - val_loss: 3.3070 - val_accuracy: 0.1214\n",
      "Epoch 98/100\n",
      "[INFO] : Learning rate updated from: 1.5459277629852295 to:  1.7508270317357235\n",
      "\n",
      "Epoch 00098: LearningRateScheduler setting learning rate to 1.7508270317357235.\n",
      "1061/1061 [==============================] - 178s 168ms/step - loss: 3.3072 - accuracy: 0.0860 - val_loss: 3.3608 - val_accuracy: 0.0601\n",
      "Epoch 99/100\n",
      "[INFO] : Learning rate updated from: 1.7508270740509033 to:  1.9828839491270713\n",
      "\n",
      "Epoch 00099: LearningRateScheduler setting learning rate to 1.9828839491270713.\n",
      "1061/1061 [==============================] - 165s 156ms/step - loss: 3.3289 - accuracy: 0.0846 - val_loss: 3.4992 - val_accuracy: 0.0499\n",
      "Epoch 100/100\n",
      "[INFO] : Learning rate updated from: 1.9828839302062988 to:  2.2456979955397762\n",
      "\n",
      "Epoch 00100: LearningRateScheduler setting learning rate to 2.2456979955397762.\n",
      "1061/1061 [==============================] - 173s 163ms/step - loss: 3.3606 - accuracy: 0.0807 - val_loss: 3.3902 - val_accuracy: 0.0559\n",
      "Wall time: 4h 34min 5s\n"
     ]
    }
   ],
   "source": [
    "%%time\n",
    "# Fit Train generator\n",
    "history = model.fit(train_generator,                    \n",
    "                    epochs = epochs,                   \n",
    "                    steps_per_epoch = step_size_Train,\n",
    "                    validation_data = valid_generator,\n",
    "                    validation_steps = step_size_Valid,\n",
    "                    #callbacks=[checkpoint, early, lr_plateau]\n",
    "                    callbacks=[lrScheduler] \n",
    "                    )"
   ]
  },
  {
   "cell_type": "markdown",
   "id": "6534acf5",
   "metadata": {},
   "source": [
    "\n",
    "\n",
    "***Save History results***"
   ]
  },
  {
   "cell_type": "code",
   "execution_count": 24,
   "id": "cc9ecbc0",
   "metadata": {},
   "outputs": [],
   "source": [
    "# Save History results\n",
    "path = './saves/VGG16/Iteration_5_1/'\n",
    "filename = 'history_VGG16_all_train_11012022_100Epoch'"
   ]
  },
  {
   "cell_type": "code",
   "execution_count": 25,
   "id": "44bc80f3",
   "metadata": {},
   "outputs": [],
   "source": [
    "#convert the history.history dict to a pandas DataFrame:     \n",
    "hist_df = pd.DataFrame(history.history) \n",
    "\n",
    "# history to json:  \n",
    "hist_json_file = path + filename + '.json'\n",
    "with open(hist_json_file, mode='w') as f:\n",
    "    hist_df.to_json(f)\n",
    "\n",
    "# history to csv: \n",
    "hist_csv_file = path + filename +'.csv'\n",
    "with open(hist_csv_file, mode='w') as f:\n",
    "    hist_df.to_csv(f)\n",
    "\n",
    "# history to pickle file\n",
    "hist_df.to_pickle(path + filename +'.pkl')"
   ]
  },
  {
   "cell_type": "markdown",
   "id": "0c9a39d7",
   "metadata": {},
   "source": [
    "***Display Model loss , accuracy per epoch***"
   ]
  },
  {
   "cell_type": "code",
   "execution_count": 26,
   "id": "ad9193ed",
   "metadata": {},
   "outputs": [
    {
     "data": {
      "image/png": "[encoded data removed]",
      "text/plain": [
       "<Figure size 864x288 with 2 Axes>"
      ]
     },
     "metadata": {
      "needs_background": "light"
     },
     "output_type": "display_data"
    }
   ],
   "source": [
    "plt.figure(figsize=(12,4))\n",
    "plt.subplot(121)\n",
    "plt.plot(history.history['loss'])\n",
    "plt.plot(history.history['val_loss'])\n",
    "plt.title('Model loss by epoch')\n",
    "plt.ylabel('loss')\n",
    "plt.xlabel('epoch')\n",
    "plt.legend(['train', 'valid'], loc='right')\n",
    "\n",
    "plt.subplot(122)\n",
    "plt.plot(history.history['accuracy'])\n",
    "plt.plot(history.history['val_accuracy'])\n",
    "plt.title('Model acc by epoch')\n",
    "plt.ylabel('acc')\n",
    "plt.xlabel('epoch')\n",
    "plt.legend(['train', 'valid'], loc='right')\n",
    "plt.show()"
   ]
  },
  {
   "cell_type": "code",
   "execution_count": 27,
   "id": "de68976c",
   "metadata": {},
   "outputs": [
    {
     "data": {
      "text/plain": [
       "[<matplotlib.lines.Line2D at 0x2222e2b6ee0>]"
      ]
     },
     "execution_count": 27,
     "metadata": {},
     "output_type": "execute_result"
    },
    {
     "data": {
      "image/png": "[encoded data removed]",
      "text/plain": [
       "<Figure size 432x288 with 1 Axes>"
      ]
     },
     "metadata": {
      "needs_background": "light"
     },
     "output_type": "display_data"
    }
   ],
   "source": [
    "plt.plot(\n",
    "    np.arange(1, 101), \n",
    "    history.history['lr'], \n",
    "    label='Learning rate', color='#000', lw=3, linestyle='--')\n",
    "\n",
    "plt.plot(\n",
    "    np.arange(1, 101), \n",
    "    history.history['loss'], \n",
    "    label='Loss', lw=3\n",
    ")"
   ]
  },
  {
   "cell_type": "code",
   "execution_count": 28,
   "id": "61f2a6cf",
   "metadata": {},
   "outputs": [
    {
     "data": {
      "image/png": "[encoded data removed]",
      "text/plain": [
       "<Figure size 1296x576 with 1 Axes>"
      ]
     },
     "metadata": {
      "needs_background": "light"
     },
     "output_type": "display_data"
    }
   ],
   "source": [
    "from matplotlib import rcParams\n",
    "rcParams['figure.figsize'] = (18, 8)\n",
    "rcParams['axes.spines.top'] = False\n",
    "rcParams['axes.spines.right'] = False \n",
    "\n",
    "plt.plot(\n",
    "    np.arange(1, 101), \n",
    "    history.history['loss'], \n",
    "    label='Loss', lw=3\n",
    ")\n",
    "plt.plot(\n",
    "    np.arange(1, 101), \n",
    "    history.history['accuracy'], \n",
    "    label='Accuracy', lw=3\n",
    ")\n",
    "plt.plot(\n",
    "    np.arange(1, 101), \n",
    "    history.history['lr'], \n",
    "    label='Learning rate', color='#000', lw=3, linestyle='--'\n",
    ")\n",
    "plt.title('Evaluation metrics', size=20)\n",
    "plt.xlabel('Epoch', size=14)\n",
    "plt.legend();"
   ]
  },
  {
   "cell_type": "code",
   "execution_count": null,
   "id": "22e47653",
   "metadata": {},
   "outputs": [],
   "source": [
    "\"\"\"\n",
    "L'accuracy augmente lègèrement jusqu'à l'Epoch 34\n",
    "avant de commencer à baisser jusqu'à l'Epoch 71 \n",
    "Ensuite s'est pratiquement aplatie juqu'à la fin de training \n",
    "\n",
    "\n",
    "Comportement opposé pour la Loss jusqu'à l'Epoch 71\n",
    "(Ce qui est logique)\n",
    "Ensuite s'est pratiquemebt aplatie juqu'à la fin de training\n",
    "\n",
    "\"\"\""
   ]
  },
  {
   "cell_type": "code",
   "execution_count": 29,
   "id": "25d5c3a8",
   "metadata": {},
   "outputs": [
    {
     "data": {
      "image/png": "[encoded data removed]",
      "text/plain": [
       "<Figure size 1296x576 with 1 Axes>"
      ]
     },
     "metadata": {
      "needs_background": "light"
     },
     "output_type": "display_data"
    }
   ],
   "source": [
    "#1e-5 * 10 ** (epoch / 37)\n",
    "learning_rates = 1e-5 * (10 ** (np.arange(100) / 37))\n",
    "plt.semilogx(\n",
    "    learning_rates, \n",
    "    history.history['loss'], \n",
    "    lw=3, color='#000'\n",
    ")\n",
    "plt.title('Learning rate vs. loss', size=20)\n",
    "plt.xlabel('Learning rate', size=14)\n",
    "plt.ylabel('Loss', size=14);"
   ]
  },
  {
   "cell_type": "code",
   "execution_count": null,
   "id": "73398885",
   "metadata": {},
   "outputs": [],
   "source": [
    "\"\"\"\n",
    "Nous voulons sélectionner un taux d'apprentissage \n",
    "qui réalise la perte la plus faible, à condition que les valeurs \n",
    "qui l'entourent ne soient pas trop volatiles. \n",
    "Le taux d'apprentissage optimal (avec la plus faible perte) est d'environ 0,0006 :\n",
    "\"\"\""
   ]
  },
  {
   "cell_type": "code",
   "execution_count": 30,
   "id": "9256d3c7",
   "metadata": {},
   "outputs": [
    {
     "data": {
      "text/plain": [
       "<matplotlib.legend.Legend at 0x2222e4cf3a0>"
      ]
     },
     "execution_count": 30,
     "metadata": {},
     "output_type": "execute_result"
    },
    {
     "data": {
      "image/png": "[encoded data removed]",
      "text/plain": [
       "<Figure size 1296x576 with 1 Axes>"
      ]
     },
     "metadata": {
      "needs_background": "light"
     },
     "output_type": "display_data"
    }
   ],
   "source": [
    "plt.plot(\n",
    "    np.arange(1, 101), \n",
    "    history.history['loss'], \n",
    "    label='Loss', lw=3\n",
    ")\n",
    "plt.plot(\n",
    "    np.arange(1, 101), \n",
    "    history.history['accuracy'], \n",
    "    label='Accuracy', lw=3\n",
    ")\n",
    "plt.title('Accuracy vs. Loss per epoch', size=20)\n",
    "plt.xlabel('Epoch', size=14)\n",
    "plt.legend()"
   ]
  },
  {
   "cell_type": "markdown",
   "id": "27887ca1",
   "metadata": {
    "id": "27887ca1"
   },
   "source": [
    " ***Prediction - valid_generator***"
   ]
  },
  {
   "cell_type": "code",
   "execution_count": null,
   "id": "7ce3d3d8",
   "metadata": {
    "id": "7ce3d3d8"
   },
   "outputs": [],
   "source": [
    "%%time\n",
    "#Prediction - Valid set\n",
    "y_pred_proba = model.predict(valid_generator)\n",
    "\n",
    "# l'argmax pour obtenir les classes prédites\n",
    "y_pred_class = np.argmax(y_pred_proba,axis = 1).astype(int)\n",
    "\n",
    "# To get classes from valid generator\n",
    "y_true = valid_generator.classes"
   ]
  },
  {
   "cell_type": "markdown",
   "id": "bfc13084",
   "metadata": {
    "id": "bfc13084"
   },
   "source": [
    " ***Evaluation - valid_generator***"
   ]
  },
  {
   "cell_type": "code",
   "execution_count": null,
   "id": "a1f0707f",
   "metadata": {
    "id": "a1f0707f"
   },
   "outputs": [],
   "source": [
    "%%time\n",
    "#Get the accuracy score\n",
    "valid_score = model.evaluate(valid_generator)\n",
    "\n",
    "print(\"Accuracy: {:.2f}%\".format(valid_score[1] * 100)) \n",
    "print(\"Loss: \",valid_score[0])"
   ]
  },
  {
   "cell_type": "code",
   "execution_count": null,
   "id": "a400ed07",
   "metadata": {},
   "outputs": [],
   "source": [
    "f1_macro = f1_score(y_true, y_pred_class, average='macro')\n",
    "print(\"[INFO] f1 score macro average: \",f1_macro)\n",
    "\n",
    "f1_micro = f1_score(y_true, y_pred_class, average='micro')\n",
    "print(\"[INFO] f1 score micro average: \",f1_micro)\n",
    "\n",
    "f1_weighted = f1_score(y_true, y_pred_class, average='weighted')\n",
    "print(\"[INFO] f1 score weighted average: \",f1_weighted)"
   ]
  },
  {
   "cell_type": "code",
   "execution_count": null,
   "id": "7e2c1b04",
   "metadata": {},
   "outputs": [],
   "source": [
    "#Confusion matrix\n",
    "matrix = confusion_matrix(y_true, y_pred_class)\n",
    "fig , ax = plt.subplots(figsize = (24,20))\n",
    "ax.matshow(matrix, cmap = plt.cm.Oranges , alpha = 0.3)\n",
    "for i in range(matrix.shape[0]):\n",
    "    for j in range (matrix.shape[1]):\n",
    "        ax.text (x = j , y= i, s= matrix[i,j], va = 'center', ha = 'center', size = 'xx-large')\n",
    "        \n",
    "plt.xlabel('predicted', fontsize = 18)\n",
    "plt.ylabel('Acutals', fontsize = 18)\n",
    "plt.title('Confusion Matrix', fontsize = 18)\n",
    "plt.show()\n",
    "#print(matrix)"
   ]
  },
  {
   "cell_type": "code",
   "execution_count": null,
   "id": "03279ddb",
   "metadata": {
    "id": "03279ddb"
   },
   "outputs": [],
   "source": [
    "print(metrics.classification_report(y_true, y_pred_class))"
   ]
  },
  {
   "cell_type": "markdown",
   "id": "90484101",
   "metadata": {},
   "source": [
    " ***Predict input image using trained model***"
   ]
  },
  {
   "cell_type": "code",
   "execution_count": null,
   "id": "906ccc5f",
   "metadata": {},
   "outputs": [],
   "source": [
    "# Predict With Pre Trained\n",
    "\n",
    "# Load an image\n",
    "im_id = 27\n",
    "img_path ='./data/images/all/image_train_resized/'+ df_train_im['imagePath'][im_id]\n",
    "\n",
    "img = image.load_img(img_path,target_size=(128, 128))\n",
    "plt.figure(figsize=(6,4))\n",
    "plt.imshow(img)\n",
    "plt.title(\"class: \" + str(df_train_im['prdtypecode'][im_id]))\n",
    "plt.xticks([])\n",
    "plt.yticks([])\n",
    "#plt.axis('off')\n",
    "plt.show();"
   ]
  },
  {
   "cell_type": "code",
   "execution_count": null,
   "id": "96dd799f",
   "metadata": {},
   "outputs": [],
   "source": [
    "im = cv2.resize(cv2.imread(img_path), (224, 224))\n",
    "im = np.expand_dims(im, axis=0)"
   ]
  },
  {
   "cell_type": "code",
   "execution_count": null,
   "id": "fe5ed456",
   "metadata": {},
   "outputs": [],
   "source": [
    "out = model.predict(im)\n",
    "print(\"------------------Predicted Class and Label ------------------------------\")\n",
    "print(\"target class(used by model) :\", np.argmax(out))\n",
    "print(\"\\n\"  ,df_class[df_class['target_prdtypecode'] == np.argmax(out)][['prdtypecode', 'Label']].to_string(index=False)) \n",
    "\n",
    "prd_code = df_train_im['prdtypecode'][im_id]\n",
    "\n",
    "print(\"\\n\\n------------------Real Class and Label ------------------------------\")\n",
    "print(\"target class(used by model): \" ,  df_class[df_class['target_prdtypecode'] == int(prd_code)]['target_prdtypecode'].to_string(index=False))\n",
    "print(\"\\n\"  ,df_class[df_class['target_prdtypecode'] == int(prd_code)][['prdtypecode', 'Label']].to_string(index=False))\n"
   ]
  },
  {
   "cell_type": "markdown",
   "id": "d6094084",
   "metadata": {
    "id": "d6094084"
   },
   "source": [
    " ***Save VGG16 Model***"
   ]
  },
  {
   "cell_type": "code",
   "execution_count": 31,
   "id": "2756f2e9",
   "metadata": {
    "id": "2756f2e9"
   },
   "outputs": [],
   "source": [
    "#Enregistrement du modèle :\n",
    "model.save(\"./saves/VGG16/Iteration_5_1/Model_VGG16_All_Train_data_11012022_100Epochs.hdf5\")\n",
    "#The SavedModel and HDF5 file contains:\n",
    "#the model's configuration (topology)\n",
    "#the model's weights\n",
    "#the model's optimizer's state (if any)"
   ]
  },
  {
   "cell_type": "markdown",
   "id": "2c39b4e3",
   "metadata": {
    "id": "2c39b4e3"
   },
   "source": [
    " ***Load VGG16 Model***"
   ]
  },
  {
   "cell_type": "code",
   "execution_count": null,
   "id": "9ee47aed",
   "metadata": {
    "id": "9ee47aed"
   },
   "outputs": [],
   "source": [
    "#Rechargement du modèle :\n",
    "model = load_model(\"./saves/VGG16/Iteration_5_1/Model_VGG16_All_Train_data_11012022_100Epochs.hdf5\")"
   ]
  },
  {
   "cell_type": "code",
   "execution_count": null,
   "id": "a5dcdb91",
   "metadata": {},
   "outputs": [],
   "source": []
  }
 ],
 "metadata": {
  "accelerator": "GPU",
  "colab": {
   "collapsed_sections": [],
   "name": "Images_&_Iteration_#1_VGG16_Without_image_Preprocesing.ipynb",
   "provenance": [
    {
     "file_id": "17N2ubF_zjn2M-2g3bJ0lXH7vsD0mgLMb",
     "timestamp": 1629109577507
    }
   ]
  },
  "kernelspec": {
   "display_name": "Python 3 (ipykernel)",
   "language": "python",
   "name": "python3"
  },
  "language_info": {
   "codemirror_mode": {
    "name": "ipython",
    "version": 3
   },
   "file_extension": ".py",
   "mimetype": "text/x-python",
   "name": "python",
   "nbconvert_exporter": "python",
   "pygments_lexer": "ipython3",
   "version": "3.9.7"
  }
 },
 "nbformat": 4,
 "nbformat_minor": 5
}
