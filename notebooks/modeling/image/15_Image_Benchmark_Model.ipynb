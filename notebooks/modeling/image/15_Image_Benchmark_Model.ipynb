{
 "cells": [
  {
   "cell_type": "markdown",
   "id": "40cf8b0b",
   "metadata": {},
   "source": [
    "# 1 Introduction & Objectif"
   ]
  },
  {
   "cell_type": "markdown",
   "id": "38c9d67d",
   "metadata": {},
   "source": [
    "## Benchmarking ResNet50 Model for Image Classification\n",
    "\n",
    "### 📌 Objective:\n",
    "This notebook replicates the benchmark model from Rakuten’s challenge.\n",
    "We implement a **ResNet50** model with:\n",
    "- **Pretrained ImageNet weights**\n",
    "- **27 layers unfrozen (8 convolutional layers)**\n",
    "- **Image preprocessing using ImageDataGenerator**\n",
    "- **Evaluation using Weighted F1-score**  \n",
    "\n",
    "### 🎯 Expected Outcome:\n",
    "- Establish a **baseline** using the benchmark model.\n",
    "- Compare the **F1-score with 0.5534 (Benchmark Score)**.\n",
    "- Prepare for **further improvements** (Data Augmentation, Fine-tuning).\n"
   ]
  },
  {
   "cell_type": "markdown",
   "id": "dacd3410",
   "metadata": {},
   "source": [
    "# 2. Imports & Configuration"
   ]
  },
  {
   "cell_type": "code",
   "execution_count": null,
   "id": "14b118e1",
   "metadata": {},
   "outputs": [],
   "source": [
    "import os\n",
    "import numpy as np\n",
    "import tensorflow as tf\n",
    "import pandas as pd\n",
    "import matplotlib.pyplot as plt\n",
    "\n",
    "from keras.applications.resnet50 import ResNet50\n",
    "from keras.preprocessing.image import ImageDataGenerator\n",
    "from keras.layers import Dense\n",
    "from keras.models import Model\n",
    "from keras.callbacks import Callback\n",
    "from sklearn.metrics import f1_score, precision_score, recall_score\n"
   ]
  },
  {
   "cell_type": "markdown",
   "id": "fda4f603",
   "metadata": {},
   "source": [
    "# 3. Définition du modèle ResNet50\n",
    "\n",
    "## Modèle utilisé dans le benchmark Rakuten\n",
    "Le modèle d’image utilisé dans le benchmark est **ResNet50 pré-entraîné sur ImageNet**.  \n",
    "**Modifications apportées :**\n",
    "- **27 couches décongelées (dont 8 convolutionnelles)**.\n",
    "- **Ajout d’une couche Dense(512, activation='relu')**. ????\n",
    "- **Classification single-label avec Softmax**.\n",
    "\n",
    "\n",
    "**Nombre de paramètres :**\n",
    "- **12,144,667 paramètres entraînables**.\n",
    "- **23,643,035 paramètres non entraînables**.\n",
    "\n",
    "https://challengedata.ens.fr/participants/challenges/35/\n",
    "\n",
    "*For the image data, a version of Residual Networks (ResNet) model (reference) is used. ResNet50 implementation from Keras is used as the base model. The details of the basic benchmark model can be found in this notebook. The model is a pre-trained ResNet50 with ImageNet dataset. 27 different layers from top are unfrozen, which include 8 Convolutional layers for the training. The final network contains 12,144,667 trainable and 23,643,035 non-trainable parameters.*"
   ]
  },
  {
   "cell_type": "code",
   "execution_count": null,
   "id": "2900f2fc",
   "metadata": {},
   "outputs": [],
   "source": [
    "def create_resnet_model(input_shape=(224, 224, 3), num_classes=27):\n",
    "    base_model = ResNet50(weights='imagenet', include_top=False, input_shape=input_shape, pooling='avg')\n",
    "\n",
    "    # : Décongeler 27 couches\n",
    "    for layer in base_model.layers[-27:]:\n",
    "        layer.trainable = True  \n",
    "\n",
    "    x = Dense(512, activation='relu')(base_model.output)\n",
    "    output = Dense(num_classes, activation='softmax')(x)  # Softmax pour single-label classification\n",
    "\n",
    "    model = Model(inputs=base_model.input, outputs=output)\n",
    "    model.compile(optimizer='adam', loss='sparse_categorical_crossentropy', metrics=['accuracy'])\n",
    "    return model\n"
   ]
  },
  {
   "cell_type": "markdown",
   "id": "129efdc7",
   "metadata": {},
   "source": [
    "# 4. Chargement des images avec ImageDataGenerator"
   ]
  },
  {
   "cell_type": "markdown",
   "id": "e6c686ba",
   "metadata": {},
   "source": [
    "We use `ImageDataGenerator` for:\n",
    "- **Rescaling** pixel values (1/255).\n",
    "- **Loading images from directories** (`train` & `test`).\n",
    "- **Setting image size to (224, 224)** (like ResNet50 expects).\n",
    "- **Data split : 80% train / 20% validation** ."
   ]
  },
  {
   "cell_type": "code",
   "execution_count": null,
   "id": "8d4e7834",
   "metadata": {},
   "outputs": [],
   "source": [
    "train_datagen = ImageDataGenerator(rescale=1./255, validation_split=0.2)\n",
    "\n",
    "train_generator = train_datagen.flow_from_directory(\n",
    "    'data/raw_images/image_train',\n",
    "    target_size=(224, 224),\n",
    "    batch_size=32,\n",
    "    class_mode='sparse',  \n",
    "    subset='training'\n",
    ")\n",
    "\n",
    "val_generator = train_datagen.flow_from_directory(\n",
    "    'data/raw_images/image_train',\n",
    "    target_size=(224, 224),\n",
    "    batch_size=32,\n",
    "    class_mode='sparse',\n",
    "    subset='validation'\n",
    ")\n"
   ]
  },
  {
   "cell_type": "markdown",
   "id": "29512063",
   "metadata": {},
   "source": [
    "# 5. Model Training "
   ]
  },
  {
   "cell_type": "markdown",
   "id": "a647b53b",
   "metadata": {},
   "source": [
    "- **Batch size** : 32\n",
    "- **Nombre d’epochs** : 10\n",
    "- **Évaluation** : Sur validation set."
   ]
  },
  {
   "cell_type": "code",
   "execution_count": null,
   "id": "1bbe6afb",
   "metadata": {},
   "outputs": [],
   "source": [
    "history = model.fit(\n",
    "    train_generator,\n",
    "    validation_data=val_generator,\n",
    "    epochs=10,\n",
    "    steps_per_epoch=len(train_generator),\n",
    "    validation_steps=len(val_generator)\n",
    ")\n"
   ]
  },
  {
   "cell_type": "markdown",
   "id": "6726b12d",
   "metadata": {},
   "source": [
    "# 6. Model Evaluation"
   ]
  },
  {
   "cell_type": "markdown",
   "id": "a054fe83",
   "metadata": {},
   "source": [
    "## 6.1 Learning Curves: Accuracy & Loss"
   ]
  },
  {
   "cell_type": "code",
   "execution_count": null,
   "id": "8e451f8c",
   "metadata": {},
   "outputs": [],
   "source": [
    "plt.plot(history.history['accuracy'], label='Train Accuracy')\n",
    "plt.plot(history.history['val_accuracy'], label='Val Accuracy')\n",
    "plt.legend()\n",
    "plt.title(\"Learning Curve - ResNet50 Benchmark Model\")\n",
    "plt.show()\n"
   ]
  },
  {
   "cell_type": "markdown",
   "id": "b095ee53",
   "metadata": {},
   "source": [
    "## 6.2  Evaluation Metrics: Weighted F1-Score, Precision & Recall"
   ]
  },
  {
   "cell_type": "markdown",
   "id": "efa2e1c3",
   "metadata": {},
   "source": [
    "- **F1-score weighted**\n",
    "- **Précision**\n",
    "- **Recal**"
   ]
  },
  {
   "cell_type": "code",
   "execution_count": null,
   "id": "2bc2df34",
   "metadata": {},
   "outputs": [],
   "source": [
    "from sklearn.metrics import classification_report, confusion_matrix\n",
    "\n",
    "# Obtenir les vraies étiquettes\n",
    "y_true = val_generator.classes\n",
    "\n",
    "# Obtenir les prédictions du modèle\n",
    "y_pred = np.argmax(model.predict(val_generator), axis=1)\n",
    "\n",
    "# Calcul des métriques principales\n",
    "f1 = f1_score(y_true, y_pred, average=\"weighted\")\n",
    "precision = precision_score(y_true, y_pred, average=\"weighted\")\n",
    "recall = recall_score(y_true, y_pred, average=\"weighted\")\n",
    "\n",
    "print(f\"🔹 Weighted F1-score: {f1:.4f}\")\n",
    "print(f\"🔹 Precision: {precision:.4f}\")\n",
    "print(f\"🔹 Recall: {recall:.4f}\")\n"
   ]
  },
  {
   "cell_type": "markdown",
   "id": "0cb52ff1",
   "metadata": {},
   "source": [
    "## 6.3 Detailed Classification Report\n"
   ]
  },
  {
   "cell_type": "code",
   "execution_count": null,
   "id": "fa0cdadc",
   "metadata": {},
   "outputs": [],
   "source": [
    "# Générer un rapport détaillé de classification\n",
    "report = classification_report(y_true, y_pred, target_names=val_generator.class_indices.keys())\n",
    "\n",
    "print(\"🔹 Classification Report:\\n\")\n",
    "print(report)\n"
   ]
  },
  {
   "cell_type": "markdown",
   "id": "16ee2309",
   "metadata": {},
   "source": [
    "## 6.4 Confusion Matrix: Error Analysis"
   ]
  },
  {
   "cell_type": "code",
   "execution_count": null,
   "id": "6c9c0c11",
   "metadata": {},
   "outputs": [],
   "source": [
    "import seaborn as sns\n",
    "import matplotlib.pyplot as plt\n",
    "\n",
    "# Calculer la matrice de confusion\n",
    "cm = confusion_matrix(y_true, y_pred)\n",
    "\n",
    "# Affichage sous forme de heatmap\n",
    "plt.figure(figsize=(16, 8))\n",
    "sns.heatmap(cm, annot=True, fmt=\"d\", cmap=\"Blues\", xticklabels=val_generator.class_indices.keys(), yticklabels=val_generator.class_indices.keys())\n",
    "plt.xlabel(\"Predicted Labels\")\n",
    "plt.ylabel(\"True Labels\")\n",
    "plt.title(\"Confusion Matrix - ResNet50 Benchmark\")\n",
    "plt.show()\n"
   ]
  },
  {
   "cell_type": "markdown",
   "id": "e8523690",
   "metadata": {},
   "source": [
    "# 8. Benchmark Results & Next Steps"
   ]
  },
  {
   "cell_type": "markdown",
   "id": "5b93ae29",
   "metadata": {},
   "source": [
    " ### 🔹 Results:\n",
    "- **Benchmark F1-score (given)**: `0.5534`\n",
    "- **Our Model F1-score**: `{f1:.4f}`  \n",
    "- **Precision**: `{precision:.4f}`\n",
    "- **Recall**: `{recall:.4f}`  \n",
    "\n",
    "### 🔹 Next Steps:\n",
    "✅ Compare **baseline** with **Data Augmentation** (`02_Data_Augmentation`).  \n",
    "✅ Perform **Fine-Tuning** on top layers (`03_Augmentation_FineTuning`).  \n",
    "✅ Optimize **Learning Rate (`04_LR_Optimization`)**.  \n",
    "✅ Integrate **Multimodal (Text + Image) classification** (`05_Bimodal_Integration`)..  \n",
    "# 📌 Benchmark Results & Next Steps\n",
    "### 🔹 Results:\n",
    "- **Benchmark F1-score (given)**: `0.5534`\n",
    "- **Our Model F1-score**: `{f1:.4f}`  \n",
    "- **Precision**: `{precision:.4f}`\n",
    "- **Recall**: `{recall:.4f}`  \n",
    "\n",
    "### 🔹 Next Steps:\n",
    "✅ Compare **baseline** with **Data Augmentation** (`02_Data_Augmentation`).  \n",
    "✅ Perform **Fine-Tuning** on top layers (`03_Augmentation_FineTuning`).  \n",
    "✅ Optimize **Learning Rate (`04_LR_Optimization`)**.  \n",
    "✅ Integrate **Multimodal (Text + Image) classification** (`05_Bimodal_Integration`).  \n",
    "\n"
   ]
  },
  {
   "cell_type": "code",
   "execution_count": null,
   "id": "afd21ca3",
   "metadata": {},
   "outputs": [],
   "source": []
  }
 ],
 "metadata": {
  "kernelspec": {
   "display_name": "Python 3 (ipykernel)",
   "language": "python",
   "name": "python3"
  },
  "language_info": {
   "codemirror_mode": {
    "name": "ipython",
    "version": 3
   },
   "file_extension": ".py",
   "mimetype": "text/x-python",
   "name": "python",
   "nbconvert_exporter": "python",
   "pygments_lexer": "ipython3",
   "version": "3.8.13"
  }
 },
 "nbformat": 4,
 "nbformat_minor": 5
}
