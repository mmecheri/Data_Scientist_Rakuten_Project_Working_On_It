{
 "cells": [
  {
   "cell_type": "markdown",
   "id": "9c4df90b",
   "metadata": {},
   "source": [
    "# RETEST  MobileNetV2 - sans augmentation de données ni fine-tuning\n",
    "\n",
    "| **Model**       | **Original Input Shape** | **Training Input Shape** | **Source Image Size** |\n",
    "|---------------|------------------------|-------------------------|----------------------|\n",
    "| **MobileNetV2**  | 224×224 | 224×224 | **500×500** |\n",
    "\n",
    "Pourquoi ? pour confirmer que cas **256×256** n'a **pas eu impact**\n",
    "\n",
    "| **Model**       | **Original Input Shape** | **Training Input Shape** | **Source Image Size** |\n",
    "|---------------|------------------------|-------------------------|----------------------|\n",
    "| **MobileNetV2**  | 224×224 | 224×224 | **256×256** |\n",
    "\n",
    "### Case to Retest:  \n",
    "### **MobileNetV2 without Data Augmentation or Fine-Tuning**\n",
    "\n",
    "- **No Data Augmentation (Only Normalization):**  \n",
    "  ```python\n",
    "  train_datagen = ImageDataGenerator(rescale=1./255)\n",
    "  valid_datagen = ImageDataGenerator(rescale=1./255\n",
    " ```  **\n",
    "- **Without fine-tuning**, you **should** completely **freeze all layers** of the pre-trained model (e.g., MobileNetV2) and **only** train the **newly added** classification layers.\n",
    "- **Original Input Shape**:The input size required by the **pre-trained** model on ****ImageNet 224x224**. This is the size it was originally trained on.                                 \n",
    "\n",
    "- Training Input Shape :**target_size**  used for training (defined by target_size in flow_from_directory). Sometimes different from the original input shape \n",
    "-**Batch Size**: **64**\n",
    "- **Epochs**: **40**\n",
    "- **Earlystopping** :to prevent overfitting\n",
    "                                     \n",
    "***Ancien NB de ce model `notebooks/modeling/image/Old_5Top_models_WOut_data_Aug_or_F-Tunning/Iteration_#3_MobileNetV2_All_Train_data_02122021_40Epochs_Accuracy_59.48%`***\n",
    "\n"
   ]
  },
  {
   "cell_type": "markdown",
   "id": "89ab4475",
   "metadata": {},
   "source": [
    "## 1. Import Required Libraries "
   ]
  },
  {
   "cell_type": "code",
   "execution_count": 1,
   "id": "88ff802b",
   "metadata": {},
   "outputs": [],
   "source": [
    "# Désactiver les avertissements\n",
    "import warnings\n",
    "warnings.filterwarnings(\"ignore\", category=FutureWarning)\n",
    "\n",
    "# Modules système et gestion de fichiers\n",
    "import os\n",
    "import sys\n",
    "import glob\n",
    "import pickle\n",
    "from datetime import datetime\n",
    "from pathlib import Path\n",
    "import importlib\n",
    "import itertools\n",
    "import re\n",
    "\n",
    "# Manipulation des données\n",
    "import numpy as np\n",
    "import pandas as pd\n",
    "\n",
    "# Visualisation\n",
    "import matplotlib.pyplot as plt\n",
    "import seaborn as sns\n",
    "%matplotlib inline  \n",
    "\n",
    "# Barre de progression\n",
    "from tqdm import tqdm\n",
    "from tqdm.notebook import tqdm_notebook\n",
    "tqdm_notebook.pandas()\n",
    "\n",
    "# Machine Learning & Évaluation des modèles\n",
    "from sklearn.model_selection import train_test_split, RandomizedSearchCV\n",
    "from sklearn.metrics import (\n",
    "    accuracy_score, f1_score, recall_score, precision_score, confusion_matrix, \n",
    "    classification_report\n",
    ")\n",
    "from sklearn import metrics\n",
    "from scikeras.wrappers import KerasClassifier\n",
    "\n",
    "# Deep Learning (TensorFlow/Keras)\n",
    "import tensorflow as tf\n",
    "from tensorflow.keras import backend as K, Sequential\n",
    "from tensorflow.keras.models import load_model\n",
    "from tensorflow.keras.layers import (\n",
    "    Embedding, Dense, Dropout, Flatten, Activation, \n",
    "    Conv2D, MaxPooling2D, GlobalAveragePooling2D, \n",
    "    GlobalAveragePooling1D, RNN, GRUCell\n",
    ")\n",
    "from tensorflow.keras.optimizers import Adam, RMSprop, SGD\n",
    "from tensorflow.keras.callbacks import (\n",
    "    EarlyStopping, ModelCheckpoint, ReduceLROnPlateau\n",
    ")\n",
    "\n",
    "# Modèles pré-entraînés Keras\n",
    "from tensorflow.keras.applications import MobileNetV2\n",
    "\n",
    "# from tensorflow.keras.applications.vgg16 import preprocess_input\n",
    "\n",
    "# Prétraitement des images\n",
    "from tensorflow.keras.preprocessing.image import ImageDataGenerator\n",
    "\n",
    "# Sauvegarde et chargement des modèles\n",
    "from joblib import dump, load\n",
    "from keras.utils import np_utils\n"
   ]
  },
  {
   "cell_type": "markdown",
   "id": "cd564672",
   "metadata": {},
   "source": [
    "### Setting Up Project Paths and Configurations"
   ]
  },
  {
   "cell_type": "code",
   "execution_count": 2,
   "id": "bcdd6e05",
   "metadata": {},
   "outputs": [
    {
     "name": "stdout",
     "output_type": "stream",
     "text": [
      "Project Root Directory: Data_Scientist_Rakuten_Project-main\n"
     ]
    },
    {
     "data": {
      "text/plain": [
       "<module 'config' from 'D:\\\\Data_Science\\\\Append_Data_Engineer_AWS_MLOPS\\\\Data_Scientist_Rakuten_Project-main\\\\config.py'>"
      ]
     },
     "execution_count": 2,
     "metadata": {},
     "output_type": "execute_result"
    }
   ],
   "source": [
    "# Get the current notebook directory\n",
    "CURRENT_DIR = Path(os.getcwd()).resolve()\n",
    "\n",
    "# Automatically find the project root (go up 2 level)\n",
    "PROJECT_ROOT = CURRENT_DIR.parents[2]\n",
    "\n",
    "# Add project root to sys.path\n",
    "sys.path.append(str(PROJECT_ROOT))\n",
    "\n",
    "# Function to get relative paths from project root\n",
    "def get_relative_path(absolute_path):\n",
    "    return str(Path(absolute_path).relative_to(PROJECT_ROOT))\n",
    "\n",
    "# Print project root directory\n",
    "print(f\"Project Root Directory: {PROJECT_ROOT.name}\")  # Display only the root folder name\n",
    "\n",
    "import config  # Now Python can find config.py\n",
    "importlib.reload(config)  # Reload config to ensure any updates are applied\n"
   ]
  },
  {
   "cell_type": "markdown",
   "id": "b40cdcd4",
   "metadata": {},
   "source": [
    "## 2. Import Preprocessed Data\n",
    "\n"
   ]
  },
  {
   "cell_type": "code",
   "execution_count": 3,
   "id": "a143cec1",
   "metadata": {},
   "outputs": [
    {
     "name": "stdout",
     "output_type": "stream",
     "text": [
      "[✔] Successfully loaded `X_train_final_encoded.pkl` | Shape: (84916, 9)\n"
     ]
    },
    {
     "data": {
      "text/html": [
       "<div>\n",
       "<style scoped>\n",
       "    .dataframe tbody tr th:only-of-type {\n",
       "        vertical-align: middle;\n",
       "    }\n",
       "\n",
       "    .dataframe tbody tr th {\n",
       "        vertical-align: top;\n",
       "    }\n",
       "\n",
       "    .dataframe thead th {\n",
       "        text-align: right;\n",
       "    }\n",
       "</style>\n",
       "<table border=\"1\" class=\"dataframe\">\n",
       "  <thead>\n",
       "    <tr style=\"text-align: right;\">\n",
       "      <th></th>\n",
       "      <th>designation</th>\n",
       "      <th>description</th>\n",
       "      <th>productid</th>\n",
       "      <th>imageid</th>\n",
       "      <th>prdtypecode</th>\n",
       "      <th>prdtypecode_encoded</th>\n",
       "      <th>Label</th>\n",
       "      <th>image_name</th>\n",
       "      <th>text</th>\n",
       "    </tr>\n",
       "  </thead>\n",
       "  <tbody>\n",
       "    <tr>\n",
       "      <th>0</th>\n",
       "      <td>Olivia: Personalisiertes Notizbuch / 150 Seite...</td>\n",
       "      <td>&lt;NA&gt;</td>\n",
       "      <td>3804725264</td>\n",
       "      <td>1263597046</td>\n",
       "      <td>10</td>\n",
       "      <td>0</td>\n",
       "      <td>Adult Books</td>\n",
       "      <td>image_1263597046_product_3804725264.jpg</td>\n",
       "      <td>olivia personalisiertes notizbuch seiten punkt...</td>\n",
       "    </tr>\n",
       "    <tr>\n",
       "      <th>1</th>\n",
       "      <td>Journal Des Arts (Le) N° 133 Du 28/09/2001 - L...</td>\n",
       "      <td>&lt;NA&gt;</td>\n",
       "      <td>436067568</td>\n",
       "      <td>1008141237</td>\n",
       "      <td>2280</td>\n",
       "      <td>1</td>\n",
       "      <td>Magazines</td>\n",
       "      <td>image_1008141237_product_436067568.jpg</td>\n",
       "      <td>journal arts art marche salon art asiatique pa...</td>\n",
       "    </tr>\n",
       "    <tr>\n",
       "      <th>2</th>\n",
       "      <td>Grand Stylet Ergonomique Bleu Gamepad Nintendo...</td>\n",
       "      <td>PILOT STYLE Touch Pen de marque Speedlink est ...</td>\n",
       "      <td>201115110</td>\n",
       "      <td>938777978</td>\n",
       "      <td>50</td>\n",
       "      <td>2</td>\n",
       "      <td>Video Games Accessories</td>\n",
       "      <td>image_938777978_product_201115110.jpg</td>\n",
       "      <td>grand stylet ergonomique bleu gamepad nintendo...</td>\n",
       "    </tr>\n",
       "    <tr>\n",
       "      <th>3</th>\n",
       "      <td>Peluche Donald - Europe - Disneyland 2000 (Mar...</td>\n",
       "      <td>&lt;NA&gt;</td>\n",
       "      <td>50418756</td>\n",
       "      <td>457047496</td>\n",
       "      <td>1280</td>\n",
       "      <td>3</td>\n",
       "      <td>Toys for Children</td>\n",
       "      <td>image_457047496_product_50418756.jpg</td>\n",
       "      <td>peluche donald europe disneyland marionnette d...</td>\n",
       "    </tr>\n",
       "    <tr>\n",
       "      <th>4</th>\n",
       "      <td>La Guerre Des Tuques</td>\n",
       "      <td>Luc a des id&amp;eacute;es de grandeur. Il veut or...</td>\n",
       "      <td>278535884</td>\n",
       "      <td>1077757786</td>\n",
       "      <td>2705</td>\n",
       "      <td>4</td>\n",
       "      <td>Books</td>\n",
       "      <td>image_1077757786_product_278535884.jpg</td>\n",
       "      <td>guerre tuques luc idees grandeur veut organise...</td>\n",
       "    </tr>\n",
       "  </tbody>\n",
       "</table>\n",
       "</div>"
      ],
      "text/plain": [
       "                                         designation  \\\n",
       "0  Olivia: Personalisiertes Notizbuch / 150 Seite...   \n",
       "1  Journal Des Arts (Le) N° 133 Du 28/09/2001 - L...   \n",
       "2  Grand Stylet Ergonomique Bleu Gamepad Nintendo...   \n",
       "3  Peluche Donald - Europe - Disneyland 2000 (Mar...   \n",
       "4                               La Guerre Des Tuques   \n",
       "\n",
       "                                         description   productid     imageid  \\\n",
       "0                                               <NA>  3804725264  1263597046   \n",
       "1                                               <NA>   436067568  1008141237   \n",
       "2  PILOT STYLE Touch Pen de marque Speedlink est ...   201115110   938777978   \n",
       "3                                               <NA>    50418756   457047496   \n",
       "4  Luc a des id&eacute;es de grandeur. Il veut or...   278535884  1077757786   \n",
       "\n",
       "   prdtypecode  prdtypecode_encoded                    Label  \\\n",
       "0           10                    0              Adult Books   \n",
       "1         2280                    1                Magazines   \n",
       "2           50                    2  Video Games Accessories   \n",
       "3         1280                    3        Toys for Children   \n",
       "4         2705                    4                    Books   \n",
       "\n",
       "                                image_name  \\\n",
       "0  image_1263597046_product_3804725264.jpg   \n",
       "1   image_1008141237_product_436067568.jpg   \n",
       "2    image_938777978_product_201115110.jpg   \n",
       "3     image_457047496_product_50418756.jpg   \n",
       "4   image_1077757786_product_278535884.jpg   \n",
       "\n",
       "                                                text  \n",
       "0  olivia personalisiertes notizbuch seiten punkt...  \n",
       "1  journal arts art marche salon art asiatique pa...  \n",
       "2  grand stylet ergonomique bleu gamepad nintendo...  \n",
       "3  peluche donald europe disneyland marionnette d...  \n",
       "4  guerre tuques luc idees grandeur veut organise...  "
      ]
     },
     "metadata": {},
     "output_type": "display_data"
    }
   ],
   "source": [
    "importlib.reload(config)  # Reload config to ensure any updates are applied\n",
    "\n",
    "#  Define the path for the training dataset\n",
    "train_pickle_path = Path(config.XTRAIN_FINAL_ENCODED_PATH)\n",
    "images_dir_train_path = Path(config.RAW_IMAGE_TRAIN_DIR)\n",
    "\n",
    "#  Function to get relative paths from the project root\n",
    "def get_relative_path(absolute_path: Path):\n",
    "    \"\"\"Returns the relative path from the project root.\"\"\"\n",
    "    return str(absolute_path.relative_to(config.BASE_DIR))\n",
    "\n",
    "#  Function to load a Pickle file safely\n",
    "def load_pickle(file_path: Path, dataset_name: str):\n",
    "    \"\"\"Loads a pickle file with error handling and basic visualization.\"\"\"\n",
    "    if not file_path.exists():\n",
    "        print(f\"[X] Error: `{dataset_name}` file not found at {file_path}\")\n",
    "        return None\n",
    "\n",
    "    try:\n",
    "        data = pd.read_pickle(file_path)\n",
    "        print(f\"[✔] Successfully loaded `{dataset_name}` | Shape: {data.shape}\")\n",
    "        \n",
    "        # Display first rows if dataset is not empty\n",
    "        if not data.empty:\n",
    "            display(data.head(5))\n",
    "\n",
    "        return data\n",
    "    except Exception as e:\n",
    "        print(f\"[X] Error loading `{dataset_name}`: {e}\")\n",
    "        return None\n",
    "\n",
    "#  Check if the required file exists before loading\n",
    "if not train_pickle_path.exists():\n",
    "    raise FileNotFoundError(f\"[X] Error: `Training Dataset` file not found at {get_relative_path(train_pickle_path)}\")\n",
    "\n",
    "#  Load the training dataset\n",
    "X_train_im = load_pickle(train_pickle_path, \"X_train_final_encoded.pkl\")\n"
   ]
  },
  {
   "cell_type": "markdown",
   "id": "1c5051f0",
   "metadata": {},
   "source": [
    "## 2. Data Preparation"
   ]
  },
  {
   "cell_type": "markdown",
   "id": "18fde1ce",
   "metadata": {},
   "source": [
    "### 2.1  Splitting Data into Training and Testing Sets Needed?"
   ]
  },
  {
   "cell_type": "markdown",
   "id": "b42a34be",
   "metadata": {},
   "source": [
    "<span style=\"color:red\"><b>⚠️ Attention : valeur random_state=1234 pour rester conforme aux anciennes implémentations testées il y a 3 ans.</b></span>\n"
   ]
  },
  {
   "cell_type": "code",
   "execution_count": 4,
   "id": "5eb03242",
   "metadata": {},
   "outputs": [],
   "source": [
    "# # #If class_mode=\"sparse\", y_col=\"prdtypecode_encoded\" column values must be strings.\n",
    "# # ImageDataGenerator/flow_from_dataframe\n",
    "# X_train_full[\"prdtypecode_encoded\"] = X_train_full[\"prdtypecode_encoded\"].astype(str) \n",
    "\n",
    "\n",
    "\n",
    "# # Split Train set \n",
    "# X_train_im, X_test_im = train_test_split(X_train_full, train_size=0.8, random_state=1234)\n",
    "\n",
    "# print(f\"Split Completed:\")\n",
    "# print(f\"X_train_im shape: {X_train_im.shape}\")\n",
    "# print(f\"X_test_im shape: {X_test_im.shape}\")\n",
    "\n",
    "# print(f\"Split Samples\")\n",
    "# print(f\"X_train_im :\")\n",
    "# display(X_train_im.head(2))\n",
    "# print(f\"X_test_im :\")\n",
    "# display(X_test_im.head(2))"
   ]
  },
  {
   "cell_type": "markdown",
   "id": "99757278",
   "metadata": {},
   "source": [
    "### 2.2 Data Preprocessing for Image Classification Using ImageDataGenerator"
   ]
  },
  {
   "cell_type": "markdown",
   "id": "8a2b49c2",
   "metadata": {},
   "source": [
    "#### 2.2.1: Initializing Data Generators"
   ]
  },
  {
   "cell_type": "code",
   "execution_count": 5,
   "id": "17042fa7",
   "metadata": {},
   "outputs": [],
   "source": [
    "importlib.reload(config)  # Reload config to ensure any updates are applied\n",
    "images_dir_train_path = Path(config.RAW_IMAGE_TRAIN_DIR)\n",
    "\n",
    "# #If class_mode=\"sparse\", y_col=\"prdtypecode_encoded\" column values must be strings.\n",
    "# ImageDataGenerator/flow_from_dataframe\n",
    "X_train_im[\"prdtypecode_encoded\"] = X_train_im[\"prdtypecode_encoded\"].astype(str) \n",
    "\n",
    "\n",
    "\n",
    "# # Générateur de données pour l'entraînement (Data Augmentation)\n",
    "# # Ce générateur applique des transformations pour augmenter la diversité des images\n",
    "# train_datagen = ImageDataGenerator(\n",
    "#     rescale=1/255,              # Normalisation des pixels entre [0,1]\n",
    "#     shear_range=0.2,            # Transformation en cisaillement\n",
    "#     rotation_range=45,          # Rotation aléatoire entre -45° et +45°\n",
    "#     width_shift_range=0.1,      # Décalage horizontal aléatoire (10% de l'image)\n",
    "#     height_shift_range=0.1,     # Décalage vertical aléatoire (10% de l'image)\n",
    "#     zoom_range=0.2,             # Zoom aléatoire entre -20% et +20%\n",
    "#     horizontal_flip=True,       # Flip horizontal aléatoire\n",
    "#     vertical_flip=True          # Flip vertical aléatoire\n",
    "# )\n",
    "\n",
    "# Générateur de données pour la validation (Pas d'augmentation)\n",
    "# Seule la normalisation est appliquée pour que les images correspondent au modèle\n",
    "# Générateur de données SANS augmentation (uniquement normalisation)\n",
    "train_datagen = ImageDataGenerator(rescale=1./255,\n",
    "                                  validation_split = 0.2)\n",
    "# valid_datagen = ImageDataGenerator(rescale=1./255)\n"
   ]
  },
  {
   "cell_type": "markdown",
   "id": "3175c10e",
   "metadata": {},
   "source": [
    "#### 2.2.2 Creating Data Iterators for Training and Validation"
   ]
  },
  {
   "cell_type": "code",
   "execution_count": 6,
   "id": "82b59cc2",
   "metadata": {},
   "outputs": [],
   "source": [
    "IMG_ROWS = 224\n",
    "IMG_COLS = 224\n",
    "BATCH_SIZE = 64\n",
    "EPOCHS = 40"
   ]
  },
  {
   "cell_type": "markdown",
   "id": "5e65ec0c",
   "metadata": {},
   "source": [
    "#### 2.2.2.1  Itérateur pour l'entraînement (Chargement des images depuis un DataFrame) - Train"
   ]
  },
  {
   "cell_type": "code",
   "execution_count": 7,
   "id": "94a02699",
   "metadata": {},
   "outputs": [
    {
     "name": "stdout",
     "output_type": "stream",
     "text": [
      "Found 67933 validated image filenames belonging to 27 classes.\n",
      "Wall time: 4.21 s\n"
     ]
    }
   ],
   "source": [
    "%%time\n",
    "# Itérateur pour l'entraînement (Chargement des images depuis un DataFrame)\n",
    "train_generator = train_datagen.flow_from_dataframe(\n",
    "    dataframe=X_train_im,             # DataFrame contenant les chemins d'images\n",
    "    directory=images_dir_train_path,       # Dossier où sont stockées les images\n",
    "    as_ext=True,                      # Utilisation des extensions d’image (ex: .jpg, .png)\n",
    "    x_col='image_name',                # Colonne contenant les chemins des images\n",
    "    y_col='prdtypecode_encoded',              # Colonne contenant les labels (cible)\n",
    "    class_mode='sparse',              # Mode sparse (labels sous forme d’entiers)\n",
    "    target_size=(IMG_ROWS, IMG_COLS), # Redimensionnement des images pour correspondre au modèle\n",
    "    batch_size=BATCH_SIZE,            # Nombre d'images par batch\n",
    "    shuffle=True,                      # Mélange des données pour éviter l’apprentissage d’un ordre spécifique\n",
    "    subset = 'training',\n",
    ")"
   ]
  },
  {
   "cell_type": "markdown",
   "id": "e3ef8842",
   "metadata": {},
   "source": [
    "#### 2.2.2.2  Itérateur pour la validation (Chargement des images sans transformation) - Valid"
   ]
  },
  {
   "cell_type": "code",
   "execution_count": 8,
   "id": "e3e126bb",
   "metadata": {},
   "outputs": [
    {
     "name": "stdout",
     "output_type": "stream",
     "text": [
      "Found 16983 validated image filenames belonging to 27 classes.\n"
     ]
    }
   ],
   "source": [
    "valid_generator = train_datagen.flow_from_dataframe(\n",
    "    dataframe=X_train_im,              # DataFrame contenant les chemins d'images de validation\n",
    "    directory=images_dir_train_path,       # Dossier où sont stockées les images\n",
    "    as_ext=True,                      # Utilisation des extensions d’image\n",
    "    x_col='image_name',                # Colonne contenant les chemins des images\n",
    "    y_col='prdtypecode_encoded',              # Colonne contenant les labels (cible)\n",
    "    class_mode='sparse',              # Mode sparse (labels sous forme d’entiers)\n",
    "    target_size=(IMG_ROWS, IMG_COLS), # Redimensionnement des images\n",
    "    batch_size=BATCH_SIZE,            # Nombre d'images par batch\n",
    "    shuffle=False,                     # Pas de mélange pour assurer la cohérence des évaluations\n",
    "    subset  = 'validation'\n",
    ")"
   ]
  },
  {
   "cell_type": "markdown",
   "id": "db18ad44",
   "metadata": {},
   "source": [
    "## 3. MobileNetV2 Implementation"
   ]
  },
  {
   "cell_type": "code",
   "execution_count": 9,
   "id": "734f69cc",
   "metadata": {},
   "outputs": [
    {
     "name": "stdout",
     "output_type": "stream",
     "text": [
      "Model: \"sequential\"\n",
      "_________________________________________________________________\n",
      " Layer (type)                Output Shape              Param #   \n",
      "=================================================================\n",
      " mobilenetv2_1.00_224 (Funct  (None, 7, 7, 1280)       2257984   \n",
      " ional)                                                          \n",
      "                                                                 \n",
      " global_average_pooling2d (G  (None, 1280)             0         \n",
      " lobalAveragePooling2D)                                          \n",
      "                                                                 \n",
      " dense (Dense)               (None, 1024)              1311744   \n",
      "                                                                 \n",
      " dropout (Dropout)           (None, 1024)              0         \n",
      "                                                                 \n",
      " dense_1 (Dense)             (None, 512)               524800    \n",
      "                                                                 \n",
      " dropout_1 (Dropout)         (None, 512)               0         \n",
      "                                                                 \n",
      " dense_2 (Dense)             (None, 27)                13851     \n",
      "                                                                 \n",
      "=================================================================\n",
      "Total params: 4,108,379\n",
      "Trainable params: 1,850,395\n",
      "Non-trainable params: 2,257,984\n",
      "_________________________________________________________________\n",
      "Wall time: 7.03 s\n"
     ]
    }
   ],
   "source": [
    "%%time\n",
    "# Chargement du modèle MobileNetV2\n",
    "mobileNetV2 = MobileNetV2(weights='imagenet', include_top = False, input_shape=(IMG_ROWS,IMG_COLS,3))\n",
    "\n",
    "# Correct for \"without fine-tuning\"\n",
    "for layer in mobileNetV2.layers:\n",
    "    layer.trainable = False\n",
    "    \n",
    "model = Sequential()\n",
    "model.add(mobileNetV2)\n",
    "# Ajout des couche de classification\n",
    "model.add(GlobalAveragePooling2D()) \n",
    "model.add(Dense(units = 1024,activation='relu'))\n",
    "\n",
    "model.add(Dropout(rate = 0.2))\n",
    "model.add(Dense(units = 512, activation='relu'))\n",
    "\n",
    "model.add(Dropout(rate = 0.2))\n",
    "model.add(Dense(units = 27, activation='softmax'))\n",
    "model.summary()"
   ]
  },
  {
   "cell_type": "markdown",
   "id": "14aa9604",
   "metadata": {},
   "source": [
    "## 4. Model Compilation, Training, and Evaluation"
   ]
  },
  {
   "cell_type": "markdown",
   "id": "45121466",
   "metadata": {},
   "source": [
    "### Model Compilation"
   ]
  },
  {
   "cell_type": "code",
   "execution_count": 10,
   "id": "b79c8d2f",
   "metadata": {},
   "outputs": [
    {
     "name": "stdout",
     "output_type": "stream",
     "text": [
      "Wall time: 9.33 ms\n"
     ]
    }
   ],
   "source": [
    "%%time\n",
    "# Compilation du modèle\n",
    "model.compile(loss='sparse_categorical_crossentropy',  # Fonction de perte adaptée aux labels encodés\n",
    "              optimizer='adam',                        # Algorithme de descente de gradient (Adam est souvent efficace par défaut)\n",
    "              metrics=['accuracy'])                    # Suivi de l'accuracy pendant l'entraînement\n",
    "\n"
   ]
  },
  {
   "cell_type": "markdown",
   "id": "69911cb6",
   "metadata": {},
   "source": [
    "###  Callbacks"
   ]
  },
  {
   "cell_type": "code",
   "execution_count": 12,
   "id": "cc836033",
   "metadata": {},
   "outputs": [],
   "source": [
    "import os\n",
    "from tensorflow.keras.callbacks import ModelCheckpoint, EarlyStopping\n",
    "\n",
    "importlib.reload(config) \n",
    "\n",
    "#   Définition du chemin et du nom du fichier modèle\n",
    "model_filename = \"checkpoint_MobileNetV2_{}.h5\".format(pd.Timestamp.now().strftime(\"%Y%m%d-%H%M%S\"))  # Ajout timestamp pour éviter d’écraser d’anciens fichiers\n",
    "model_path = os.path.join(config.IMAGE_MODELS_DIR, model_filename)  # Chemin complet du fichier\n",
    "\n",
    "#  Sauvegarde du meilleur modèle au cours de l'entraînement\n",
    "checkpoint = ModelCheckpoint(filepath=model_path,  \n",
    "                             monitor='val_accuracy',  # Surveiller l'accuracy sur la validation\n",
    "                             verbose=1,\n",
    "                             save_best_only=True,  # Sauvegarde uniquement le meilleur modèle\n",
    "                             save_weights_only=True,  # Sauvegarde uniquement les poids (optimisation espace)\n",
    "                             mode='max',  # 'max' car on veut maximiser l'accuracy\n",
    "                             save_freq='epoch')  # Sauvegarde après chaque epoch\n",
    "\n",
    "#  Arrêt automatique si la validation loss n'évolue plus\n",
    "early = EarlyStopping(monitor='val_loss',\n",
    "                      min_delta=0,  # Seuil minimum d'amélioration avant de considérer un arrêt\n",
    "                      patience=5,  # Arrêt après 5 epochs sans amélioration\n",
    "                      restore_best_weights=True,  # Recharge les meilleurs poids avant arrêt\n",
    "                      verbose=1,\n",
    "                      mode='min')  # 'min' car on veut minimiser la loss"
   ]
  },
  {
   "cell_type": "markdown",
   "id": "95af673e",
   "metadata": {},
   "source": [
    "### Model Training"
   ]
  },
  {
   "cell_type": "code",
   "execution_count": 14,
   "id": "edf1fd56",
   "metadata": {},
   "outputs": [
    {
     "name": "stdout",
     "output_type": "stream",
     "text": [
      "step_size_Train :  1061\n",
      "step_size_Valid  :  265\n"
     ]
    }
   ],
   "source": [
    "step_size_Train = train_generator.n//train_generator.batch_size\n",
    "step_size_Valid = valid_generator.n//valid_generator.batch_size\n",
    "print('step_size_Train : ' , step_size_Train)\n",
    "print('step_size_Valid  : ' , step_size_Valid)"
   ]
  },
  {
   "cell_type": "code",
   "execution_count": 15,
   "id": "9f8583eb",
   "metadata": {},
   "outputs": [
    {
     "name": "stdout",
     "output_type": "stream",
     "text": [
      "Epoch 1/40\n",
      "1061/1061 [==============================] - ETA: 0s - loss: 1.7345 - accuracy: 0.4874\n",
      "Epoch 1: val_accuracy improved from -inf to 0.53703, saving model to D:\\Data_Science\\Append_Data_Engineer_AWS_MLOPS\\Data_Scientist_Rakuten_Project-main\\models\\image\\checkpoint_MobileNetV2_20250226-201521.h5\n",
      "1061/1061 [==============================] - 378s 349ms/step - loss: 1.7345 - accuracy: 0.4874 - val_loss: 1.5391 - val_accuracy: 0.5370\n",
      "Epoch 2/40\n",
      "1061/1061 [==============================] - ETA: 0s - loss: 1.4510 - accuracy: 0.5653\n",
      "Epoch 2: val_accuracy improved from 0.53703 to 0.57158, saving model to D:\\Data_Science\\Append_Data_Engineer_AWS_MLOPS\\Data_Scientist_Rakuten_Project-main\\models\\image\\checkpoint_MobileNetV2_20250226-201521.h5\n",
      "1061/1061 [==============================] - 327s 308ms/step - loss: 1.4510 - accuracy: 0.5653 - val_loss: 1.4268 - val_accuracy: 0.5716\n",
      "Epoch 3/40\n",
      "1061/1061 [==============================] - ETA: 0s - loss: 1.3246 - accuracy: 0.5951\n",
      "Epoch 3: val_accuracy improved from 0.57158 to 0.58945, saving model to D:\\Data_Science\\Append_Data_Engineer_AWS_MLOPS\\Data_Scientist_Rakuten_Project-main\\models\\image\\checkpoint_MobileNetV2_20250226-201521.h5\n",
      "1061/1061 [==============================] - 311s 293ms/step - loss: 1.3246 - accuracy: 0.5951 - val_loss: 1.3700 - val_accuracy: 0.5894\n",
      "Epoch 4/40\n",
      "1061/1061 [==============================] - ETA: 0s - loss: 1.2170 - accuracy: 0.6262\n",
      "Epoch 4: val_accuracy improved from 0.58945 to 0.59098, saving model to D:\\Data_Science\\Append_Data_Engineer_AWS_MLOPS\\Data_Scientist_Rakuten_Project-main\\models\\image\\checkpoint_MobileNetV2_20250226-201521.h5\n",
      "1061/1061 [==============================] - 316s 298ms/step - loss: 1.2170 - accuracy: 0.6262 - val_loss: 1.3897 - val_accuracy: 0.5910\n",
      "Epoch 5/40\n",
      "1061/1061 [==============================] - ETA: 0s - loss: 1.1193 - accuracy: 0.6495\n",
      "Epoch 5: val_accuracy improved from 0.59098 to 0.59522, saving model to D:\\Data_Science\\Append_Data_Engineer_AWS_MLOPS\\Data_Scientist_Rakuten_Project-main\\models\\image\\checkpoint_MobileNetV2_20250226-201521.h5\n",
      "1061/1061 [==============================] - 313s 295ms/step - loss: 1.1193 - accuracy: 0.6495 - val_loss: 1.3749 - val_accuracy: 0.5952\n",
      "Epoch 6/40\n",
      "1061/1061 [==============================] - ETA: 0s - loss: 1.0366 - accuracy: 0.6733\n",
      "Epoch 6: val_accuracy improved from 0.59522 to 0.60324, saving model to D:\\Data_Science\\Append_Data_Engineer_AWS_MLOPS\\Data_Scientist_Rakuten_Project-main\\models\\image\\checkpoint_MobileNetV2_20250226-201521.h5\n",
      "1061/1061 [==============================] - 312s 294ms/step - loss: 1.0366 - accuracy: 0.6733 - val_loss: 1.3929 - val_accuracy: 0.6032\n",
      "Epoch 7/40\n",
      "1061/1061 [==============================] - ETA: 0s - loss: 0.9498 - accuracy: 0.6950\n",
      "Epoch 7: val_accuracy improved from 0.60324 to 0.60348, saving model to D:\\Data_Science\\Append_Data_Engineer_AWS_MLOPS\\Data_Scientist_Rakuten_Project-main\\models\\image\\checkpoint_MobileNetV2_20250226-201521.h5\n",
      "1061/1061 [==============================] - 315s 297ms/step - loss: 0.9498 - accuracy: 0.6950 - val_loss: 1.3822 - val_accuracy: 0.6035\n",
      "Epoch 8/40\n",
      "1061/1061 [==============================] - ETA: 0s - loss: 0.8761 - accuracy: 0.7154\n",
      "Epoch 8: val_accuracy did not improve from 0.60348\n",
      "Restoring model weights from the end of the best epoch: 3.\n",
      "1061/1061 [==============================] - 309s 291ms/step - loss: 0.8761 - accuracy: 0.7154 - val_loss: 1.4422 - val_accuracy: 0.5999\n",
      "Epoch 8: early stopping\n",
      "Wall time: 43min 2s\n"
     ]
    }
   ],
   "source": [
    "%%time\n",
    "#  Entraînement du modèle\n",
    "history = model.fit(train_generator,                    \n",
    "                    epochs=EPOCHS,                   \n",
    "                    steps_per_epoch=step_size_Train,  # Nombre de batchs par epoch pour l'entraînement\n",
    "                    validation_data=valid_generator, # Jeu de validation\n",
    "                    validation_steps=step_size_Valid,  # Nombre de batchs par epoch pour la validation\n",
    "                    callbacks=[checkpoint, early])  # Callbacks pour gérer la sauvegarde et l'arrêt précoce\n"
   ]
  },
  {
   "cell_type": "markdown",
   "id": "458191a3",
   "metadata": {},
   "source": [
    "### 4.3 Saving the Trained Model"
   ]
  },
  {
   "cell_type": "code",
   "execution_count": 16,
   "id": "d3eb634a",
   "metadata": {},
   "outputs": [
    {
     "name": "stdout",
     "output_type": "stream",
     "text": [
      "Saving the model to: D:\\Data_Science\\Append_Data_Engineer_AWS_MLOPS\\Data_Scientist_Rakuten_Project-main\\models\\image\\X_RETEST_MobileNetV2_224x224_500x500_E40-T8_20250226-2250.h5\n",
      "Model saved successfully as X_RETEST_MobileNetV2_224x224_500x500_E40-T8_20250226-2250.h5\n"
     ]
    }
   ],
   "source": [
    "importlib.reload(config)  # Reload config to ensure any updates are applied\n",
    "from datetime import datetime  # Import datetime for timestamp\n",
    "\n",
    "# Define model name prefix (Change this for different architectures)\n",
    "MODEL_NAME = \"X_RETEST_MobileNetV2_224x224_500x500\"  # Example: \"gru_model\", \"lstm_model\", etc.\n",
    "\n",
    "# Ensure the directory exists before saving the model\n",
    "os.makedirs(config.NEURAL_MODELS_DIR, exist_ok=True)\n",
    "\n",
    "# Get current date and time in YYYYMMDD-HHMM format\n",
    "timestamp = datetime.now().strftime(\"%Y%m%d-%H%M\")\n",
    "\n",
    "# Retrieve the number of epochs completed\n",
    "if 'history' in globals():\n",
    "    num_epochs = len(history.epoch)  # Actual trained epochs\n",
    "else:\n",
    "    num_epochs = \"unknown\"\n",
    "\n",
    "# Define a compact filename with model name, epochs, and timestamp\n",
    "model_filename = f\"{MODEL_NAME}_E{EPOCHS}-T{num_epochs}_{timestamp}.h5\"\n",
    "\n",
    "# Full path for saving the model\n",
    "model_path = os.path.join(config.IMAGE_MODELS_DIR, model_filename)\n",
    "\n",
    "# Print the path where the model will be saved\n",
    "print(f\"Saving the model to: {model_path}\")\n",
    "\n",
    "try:\n",
    "    # Save the trained Keras model (in .h5 format)\n",
    "    model.save(model_path)\n",
    "\n",
    "    print(f\"Model saved successfully as {model_filename}\")\n",
    "\n",
    "except Exception as e:\n",
    "    # Print error message if saving fails\n",
    "    print(f\"Error occurred while saving the model: {e}\")\n"
   ]
  },
  {
   "cell_type": "markdown",
   "id": "7a04c23a",
   "metadata": {},
   "source": [
    "### 4.4 Load the saved Trained Model (Optional)"
   ]
  },
  {
   "cell_type": "code",
   "execution_count": null,
   "id": "6ac96fa4",
   "metadata": {},
   "outputs": [],
   "source": [
    "importlib.reload(config)  #Reload config to apply any updates\n",
    "\n",
    "# Ask the user for the model name to load\n",
    "model_name = \"xxxxxx.h5\"  # Change this to the desired model filename\n",
    "\n",
    "# Define the full path to the model\n",
    "model_path = os.path.join(config.IMAGE_MODELS_DIR, model_name)\n",
    "\n",
    "# Check if the model file exists\n",
    "if os.path.exists(model_path):\n",
    "    # Load the trained Keras model\n",
    "    model = tf.keras.models.load_model(model_path)\n",
    "    print(f\"✔ Model loaded successfully from: {model_path}\")\n",
    "else:\n",
    "    print(f\"[X] Model file not found at: {model_path}\")"
   ]
  },
  {
   "cell_type": "markdown",
   "id": "a73fa2d6",
   "metadata": {},
   "source": [
    "### 4.5 Model Evaluation on the Test Set"
   ]
  },
  {
   "cell_type": "markdown",
   "id": "9a69715c",
   "metadata": {},
   "source": [
    "#### 4.5.1 Learning Rate Curve"
   ]
  },
  {
   "cell_type": "code",
   "execution_count": 26,
   "id": "02b87bc5",
   "metadata": {},
   "outputs": [
    {
     "data": {
      "image/png": "[encoded data removed]",
      "text/plain": [
       "<Figure size 1008x360 with 2 Axes>"
      ]
     },
     "metadata": {
      "needs_background": "light"
     },
     "output_type": "display_data"
    }
   ],
   "source": [
    "import matplotlib.pyplot as plt\n",
    "\n",
    "# Définition des couleurs pour harmoniser les courbes\n",
    "train_color = 'royalblue'\n",
    "valid_color = 'orangered'\n",
    "\n",
    "# Création de la figure avec une meilleure disposition\n",
    "plt.figure(figsize=(14, 5))\n",
    "\n",
    "# Courbe de Loss\n",
    "plt.subplot(1, 2, 1)  # (1 ligne, 2 colonnes, premier plot)\n",
    "plt.plot(history.history['loss'], color=train_color, linestyle='-', marker='o', label='Train Loss')\n",
    "plt.plot(history.history['val_loss'], color=valid_color, linestyle='--', marker='s', label='Validation Loss')\n",
    "plt.title('Model Loss per Epoch', fontsize=14)\n",
    "plt.xlabel('Epochs', fontsize=12)\n",
    "plt.ylabel('Loss', fontsize=12)\n",
    "plt.legend()\n",
    "plt.grid(True)\n",
    "\n",
    "#  Courbe d'Accuracy\n",
    "plt.subplot(1, 2, 2)  # (1 ligne, 2 colonnes, deuxième plot)\n",
    "plt.plot(history.history['accuracy'], color=train_color, linestyle='-', marker='o', label='Train Accuracy')\n",
    "plt.plot(history.history['val_accuracy'], color=valid_color, linestyle='--', marker='s', label='Validation Accuracy')\n",
    "plt.title('Model Accuracy per Epoch', fontsize=14)\n",
    "plt.xlabel('Epochs', fontsize=12)\n",
    "plt.ylabel('Accuracy', fontsize=12)\n",
    "plt.legend()\n",
    "plt.grid(True)\n",
    "\n",
    "# Affichage\n",
    "plt.tight_layout()  # Ajuste l'espacement pour éviter les chevauchements\n",
    "plt.show()\n"
   ]
  },
  {
   "cell_type": "markdown",
   "id": "e49a6233",
   "metadata": {},
   "source": [
    " #### 4.5.2  Prédictions sur l’ensemble de validation"
   ]
  },
  {
   "cell_type": "code",
   "execution_count": 22,
   "id": "f81c3161",
   "metadata": {},
   "outputs": [
    {
     "name": "stdout",
     "output_type": "stream",
     "text": [
      "266/266 [==============================] - 64s 241ms/step\n"
     ]
    }
   ],
   "source": [
    "import numpy as np\n",
    "from sklearn.metrics import f1_score, classification_report, confusion_matrix\n",
    "import matplotlib.pyplot as plt\n",
    "import seaborn as sns\n",
    "\n",
    "# Extraire les vraies étiquettes depuis le valid_generator\n",
    "y_true = valid_generator.classes  # Les étiquettes de validation\n",
    "\n",
    "# Faire les prédictions sur l'ensemble de validation\n",
    "y_pred_proba = model.predict(valid_generator)  # Probabilités des classes\n",
    "y_pred_classes = np.argmax(y_pred_proba, axis=1)  # Convertir en classes prédictes\n",
    "\n",
    "# Vérification des dimensions\n",
    "assert len(y_true) == len(y_pred_classes), \"Mismatch in validation labels and predictions!\"\n"
   ]
  },
  {
   "cell_type": "markdown",
   "id": "84094365",
   "metadata": {},
   "source": [
    " #### 4.5.3 Calcul des métriques (F1-score, classification report)"
   ]
  },
  {
   "cell_type": "code",
   "execution_count": 27,
   "id": "2c18b787",
   "metadata": {},
   "outputs": [
    {
     "name": "stdout",
     "output_type": "stream",
     "text": [
      "[✔] Validation Weighted F1-Score: 0.5778\n",
      "\n",
      "[✔] Classification Report:\n",
      "              precision    recall  f1-score   support\n",
      "\n",
      "           0       0.50      0.60      0.54       621\n",
      "           1       0.69      0.65      0.67       956\n",
      "           2       0.59      0.65      0.62       939\n",
      "           3       0.60      0.58      0.59       546\n",
      "           4       0.66      0.89      0.76      2061\n",
      "           5       0.61      0.25      0.36       154\n",
      "           6       0.56      0.74      0.64      1020\n",
      "           7       0.55      0.43      0.48       290\n",
      "           8       0.85      0.88      0.86       791\n",
      "           9       0.48      0.47      0.47      1021\n",
      "          10       0.51      0.44      0.47       483\n",
      "          11       0.60      0.71      0.65       163\n",
      "          12       0.54      0.25      0.34       375\n",
      "          13       0.48      0.38      0.42       656\n",
      "          14       0.45      0.29      0.35       508\n",
      "          15       0.57      0.27      0.37       168\n",
      "          16       0.46      0.68      0.55       173\n",
      "          17       0.37      0.36      0.36       493\n",
      "          18       0.54      0.56      0.55       152\n",
      "          19       0.52      0.68      0.59       154\n",
      "          20       0.39      0.40      0.39       963\n",
      "          21       0.69      0.66      0.68       548\n",
      "          22       0.67      0.66      0.66       949\n",
      "          23       0.47      0.35      0.40       508\n",
      "          24       0.60      0.55      0.58      1038\n",
      "          25       0.32      0.16      0.21       405\n",
      "          26       0.82      0.76      0.79       848\n",
      "\n",
      "    accuracy                           0.59     16983\n",
      "   macro avg       0.56      0.53      0.53     16983\n",
      "weighted avg       0.58      0.59      0.58     16983\n",
      "\n"
     ]
    }
   ],
   "source": [
    "# Calcul du F1-score pondéré (prend en compte les classes déséquilibrées)\n",
    "val_f1 = f1_score(y_true, y_pred_classes, average='weighted', zero_division=0)\n",
    "\n",
    "# Afficher le F1-score\n",
    "print(f\"[✔] Validation Weighted F1-Score: {val_f1:.4f}\")\n",
    "\n",
    "# Afficher le rapport de classification\n",
    "print(\"\\n[✔] Classification Report:\")\n",
    "print(classification_report(y_true, y_pred_classes, zero_division=0))\n",
    "\n"
   ]
  },
  {
   "cell_type": "markdown",
   "id": "45d5b337",
   "metadata": {},
   "source": [
    " #### 4.5.4 Matrice de confusion"
   ]
  },
  {
   "cell_type": "code",
   "execution_count": 29,
   "id": "0eaa23fd",
   "metadata": {},
   "outputs": [
    {
     "data": {
      "image/png": "[encoded data removed]",
      "text/plain": [
       "<Figure size 1152x576 with 2 Axes>"
      ]
     },
     "metadata": {
      "needs_background": "light"
     },
     "output_type": "display_data"
    }
   ],
   "source": [
    "# Calcul de la matrice de confusion\n",
    "cm = confusion_matrix(y_true, y_pred_classes)\n",
    "\n",
    "# Affichage de la matrice de confusion avec heatmap\n",
    "plt.figure(figsize=(16, 8))\n",
    "sns.heatmap(cm, annot=True, fmt='g', cmap='Blues', xticklabels=np.arange(27), yticklabels=np.arange(27))\n",
    "\n",
    "# Ajout des titres et labels\n",
    "plt.title('Confusion Matrix', fontsize=16)\n",
    "plt.xlabel('Predicted Labels', fontsize=12)\n",
    "plt.ylabel('True Labels', fontsize=12)\n",
    "\n",
    "# Affichage de la matrice\n",
    "plt.show()\n"
   ]
  },
  {
   "cell_type": "code",
   "execution_count": null,
   "id": "2f869997",
   "metadata": {},
   "outputs": [],
   "source": []
  },
  {
   "cell_type": "code",
   "execution_count": null,
   "id": "a581dbef",
   "metadata": {},
   "outputs": [],
   "source": []
  },
  {
   "cell_type": "code",
   "execution_count": null,
   "id": "9fdfc554",
   "metadata": {},
   "outputs": [],
   "source": []
  },
  {
   "cell_type": "code",
   "execution_count": null,
   "id": "feab2d18",
   "metadata": {},
   "outputs": [],
   "source": []
  },
  {
   "cell_type": "markdown",
   "id": "bad088fd",
   "metadata": {},
   "source": [
    "## 6. Customized Model Performance Analysis\n",
    "\n",
    "This section outlines our comprehensive evaluation of the model’s classification performance, structured as follows:\n",
    "\n",
    "- **6.1 Customized Classification Report:**  \n",
    "  We start by mapping the training class numbers to the original class numbers and labels, providing clarity on performance metrics across the original categories.\n",
    "\n",
    "- **6.2 Classification Report Generation & Class Categorization:**  \n",
    "  Here, we categorize classes based on their F1-scores using thresholds derived from the Rakuten benchmark (weighted F1-score = 0.8113). This approach helps us distinguish classes that are well-classified, moderately classified, or poorly classified, thereby pinpointing areas for targeted improvement.\n",
    "\n",
    "- **6.3 Consolidated Misclassification Report:**  \n",
    "  We then dive deeper into prediction errors with a multi-layered analysis that includes:  \n",
    "  - **6.3.1 Confusion Matrix Visualization with Mapped Labels:** Visualizing misclassification patterns by aligning training class numbers with the original labels.  \n",
    "  - **6.3.2 Breakdown of Misclassifications:** Identifying common misclassification trends and frequently confused classes.  \n",
    "  - **6.3.3 Detailed Misclassification Statistics:** Providing error counts and misclassification rates to highlight areas where the model underperforms.\n",
    "\n",
    "This structured approach allows us to quickly identify strengths and focus on specific areas for improvement.---\n"
   ]
  },
  {
   "cell_type": "markdown",
   "id": "3f4b3cd8",
   "metadata": {},
   "source": [
    "###  6.1 Customized Classification Report with Mapped Classes and Original Labels"
   ]
  },
  {
   "cell_type": "code",
   "execution_count": null,
   "id": "ffac4cc1",
   "metadata": {},
   "outputs": [],
   "source": [
    "# import importlib\n",
    "# import src.model_evaluation  # Initial import\n",
    "# importlib.reload(config)  # Force reload the module\n",
    "# importlib.reload(src.model_evaluation)  # Force reload the module\n",
    "\n",
    "# from src.model_evaluation import process_classification_report\n",
    "# # import config\n",
    "\n",
    "# # Generate and process the classification report\n",
    "# classification_df, summary_rows, accuracy_value, accuracy_support = process_classification_report(\n",
    "#     y_test, y_pred_classes, config.PRDTYPECODE_MAPPING_PATH\n",
    "# )\n",
    "\n",
    "# # Display accuracy separately\n",
    "# print(f\"\\n[✔] Accuracy: {accuracy_value:.2f} (on {accuracy_support} samples)\\n\")\n",
    "\n",
    "# # Display final classification summary\n",
    "# print(\"\\n[✔] Classification Summary Rows\")\n",
    "# display(summary_rows)\n",
    "\n",
    "# # Display processed classification report\n",
    "# print(\"\\n[✔] Processed Classification Report with Mapped Classes and Original Labels\")\n",
    "# display(classification_df.tail(40))\n",
    "\n",
    "\n"
   ]
  },
  {
   "cell_type": "markdown",
   "id": "4174d048",
   "metadata": {},
   "source": [
    "### 6.2 Customized Classification Report Generation and  Class Categorization\n",
    "\n",
    "To assess performance, classes are categorized based on their **F1-scores** using thresholds defined relative to the **Rakuten benchmark** (RNN on text data, weighted F1-score = **0.8113**). These thresholds are designed to pinpoint areas for improvement and align with industry standards:\n",
    "\n",
    "- **Well-classified:** **F1 ≥ Benchmark (e.g., 0.80)** – Categories that perform on par with or better than the reference model.\n",
    "- **Moderately classified:** **Threshold_lower ≤ F1 < Benchmark** – Categories that may require further refinement.\n",
    "- **Poorly classified:** **F1 < Threshold_lower** – Categories with notable misclassification issues.\n",
    "\n",
    "These thresholds are **customizable** and will be adjusted based on results from baseline models in this challenge.\n"
   ]
  },
  {
   "cell_type": "code",
   "execution_count": null,
   "id": "dacdb840",
   "metadata": {},
   "outputs": [],
   "source": [
    "# import importlib\n",
    "# import src.model_evaluation  # Initial import\n",
    "# import src.display # Initial import\n",
    "\n",
    "# importlib.reload(config)  # Force reload the module\n",
    "# importlib.reload(src.model_evaluation)  # Force reload the module\n",
    "# importlib.reload(src.display)  # Force reload the module\n",
    "# from src.model_evaluation import analyze_classification_performance, process_classification_report\n",
    "# from src.display import display_dataframe_to_user  # Import de la fonction\n",
    "\n",
    "# # Generate and process the classification report\n",
    "# classification_df, summary_rows, accuracy_value, accuracy_support = process_classification_report(\n",
    "#     y_test, y_pred_classes, config.PRDTYPECODE_MAPPING_PATH\n",
    "# )\n",
    "\n",
    "\n",
    "# # Define classification thresholds\n",
    "# WELL_CLASSIFIED_THRESHOLD = 0.80\n",
    "# MODERATELY_CLASSIFIED_THRESHOLD = 0.50\n",
    "\n",
    "# # Run classification performance analysis with dynamic thresholds\n",
    "# category_counts, well_classified, moderately_classified, poorly_classified = analyze_classification_performance(\n",
    "#     classification_df, \n",
    "#     well_classified_threshold=WELL_CLASSIFIED_THRESHOLD, \n",
    "#     moderately_classified_threshold=MODERATELY_CLASSIFIED_THRESHOLD\n",
    "# )\n",
    "\n",
    "# # Display summary based on dynamic thresholds\n",
    "# print(\"\\n[✔] Summary of Classification Performance:\")\n",
    "# print(f\"- {category_counts.get('Well-classified', 0)} classes have an F1-score ≥ {WELL_CLASSIFIED_THRESHOLD:.2f} (Well-classified)\")\n",
    "# print(f\"- {category_counts.get('Moderate', 0)} classes have an F1-score between {MODERATELY_CLASSIFIED_THRESHOLD:.2f} and {WELL_CLASSIFIED_THRESHOLD:.2f} (Moderately classified)\")\n",
    "# print(f\"- {category_counts.get('Poorly classified', 0)} classes have an F1-score < {MODERATELY_CLASSIFIED_THRESHOLD:.2f} (Poorly classified)\")\n",
    "\n",
    "\n",
    "# # Display detailed classification breakdown\n",
    "# # If `display_rows` is None (default), the entire DataFrame is shown; otherwise, it limits to `display_rows`.\n",
    "# display_dataframe_to_user(\n",
    "#     name=f\"Well-Classified Categories (F1 ≥ {WELL_CLASSIFIED_THRESHOLD:.2f})\",\n",
    "#     dataframe=well_classified.sort_values(by=\"f1-score\", ascending=False), display_rows=None\n",
    "# )\n",
    "\n",
    "# display_dataframe_to_user(\n",
    "#     name=f\"Moderately Classified Categories ({MODERATELY_CLASSIFIED_THRESHOLD:.2f} ≤ F1 < {WELL_CLASSIFIED_THRESHOLD:.2f})\",\n",
    "#     dataframe=moderately_classified.sort_values(by=\"f1-score\", ascending=False), display_rows=None\n",
    "# )\n",
    "\n",
    "# display_dataframe_to_user(\n",
    "#     name=f\"Poorly Classified Categories (F1 < {MODERATELY_CLASSIFIED_THRESHOLD:.2f})\",\n",
    "#     dataframe=poorly_classified.sort_values(by=\"f1-score\", ascending=True),display_rows=None\n",
    "# )\n",
    "\n"
   ]
  },
  {
   "cell_type": "markdown",
   "id": "39314706",
   "metadata": {},
   "source": [
    " ### 6.3 Consolidated Misclassification Report: Analyzing Prediction Errors"
   ]
  },
  {
   "cell_type": "markdown",
   "id": "6f59c439",
   "metadata": {},
   "source": [
    "### 6.3.1 Confusion Matrix Visualization with Mapped Labels\n",
    "→ Display the confusion matrix with mapped labels to visualize misclassification patterns."
   ]
  },
  {
   "cell_type": "code",
   "execution_count": null,
   "id": "a1cca761",
   "metadata": {},
   "outputs": [],
   "source": [
    "# import importlib\n",
    "# importlib.reload(config)  # Reload config to ensure any updates are applied\n",
    "# import src.model_evaluation  # Initial import\n",
    "\n",
    "# importlib.reload(src.model_evaluation)  # Force reload the module\n",
    "# from src.model_evaluation import generate_confusion_matrix  \n",
    "\n",
    "# # Generate the confusion matrix with mapped labels\n",
    "# conf_matrix_df_labeled = generate_confusion_matrix(y_test, y_pred_classes, config.PRDTYPECODE_MAPPING_PATH)\n",
    "\n",
    "# # Display the confusion matrix as a heatmap\n",
    "# plt.figure(figsize=(20, 12))\n",
    "# sns.heatmap(conf_matrix_df_labeled, annot=True, fmt=\"d\", cmap=\"Blues\", linewidths=0.5)\n",
    "# plt.xlabel(\"Predicted Labels\")\n",
    "# plt.ylabel(\"True Labels\")\n",
    "# plt.title(\"Confusion Matrix with Mapped Labels\")\n",
    "# plt.show()\n"
   ]
  },
  {
   "cell_type": "markdown",
   "id": "5e67f3ca",
   "metadata": {},
   "source": [
    "### 6.3.2 Breakdown of Misclassifications  \n",
    "→ **Analyze misclassification trends, identify the most frequently misclassified classes, and assess overall model performance.**  \n",
    "\n",
    "In this section, we analyze the model’s misclassification patterns using a structured approach.  \n",
    "We present four breakdowns to understand where the model struggles the most.  \n",
    "\n",
    "#### **Columns in the Misclassification Table:**  \n",
    "- **Encoded target** → The encoded numerical representation of each class.  \n",
    "- **Original prdtypecode** → The original product category code.  \n",
    "- **Class Label** → The human-readable label of the class.  \n",
    "- **Samples** → The total number of instances for each class.  \n",
    "- **Misclassified Count** → The number of misclassified samples for the class.  \n",
    "- **Misclassification Rate (%)** → The percentage of misclassified samples within the class.  \n",
    "- **Global Misclassification Rate (%)** → The percentage of misclassified samples relative to the total dataset.  \n",
    "\n",
    "####  **Key Misclassification Perspectives**  \n",
    "\n",
    "1. **Classes with the highest number of samples**  \n",
    "   - Shows the most **frequent classes** in the dataset.  \n",
    "   - Helps assess whether a class’s misclassification is due to **its high occurrence** or **its inherent difficulty**.  \n",
    "   - Large classes can dominate misclassification counts even if their misclassification rate is low.  \n",
    "\n",
    "2. **Classes with the highest number of misclassifications**  \n",
    "   - Highlights the classes with the **largest absolute number of errors**.  \n",
    "   - Useful for identifying which classes **contribute the most errors**, regardless of their misclassification rate.  \n",
    "   - A class with many misclassifications may indicate **model weakness** or **data imbalance**.  \n",
    "\n",
    "3. **Classes with the highest misclassification rate (%)**  \n",
    "   - Identifies the classes where the model **struggles the most** proportionally.  \n",
    "   - A high rate suggests **systematic confusion** in distinguishing this class from others.  \n",
    "   - Small classes with a **high error rate** might require **better feature representation** or **more training data**.  \n",
    "\n",
    "4. **Classes contributing the most to overall misclassification (%)**  \n",
    "   - Measures **each class’s impact on total model errors**.  \n",
    "   - A class with **many samples and a moderate error rate** can still contribute significantly to overall misclassification.  \n",
    "   - Helps prioritize which classes should be improved to **reduce total model error** the most.  \n",
    "\n",
    "\n",
    "By examining these four aspects, we gain insights into both **systematic classification errors** and **dataset imbalances** that could be influencing the model’s performance.  \n"
   ]
  },
  {
   "cell_type": "code",
   "execution_count": null,
   "id": "3e31e3e7",
   "metadata": {},
   "outputs": [],
   "source": [
    "# import importlib\n",
    "\n",
    "# importlib.reload(config)\n",
    "# import src.model_evaluation  # Initial import\n",
    "# importlib.reload(src.model_evaluation)\n",
    "# from src.model_evaluation import analyze_and_display_misclassification\n",
    "\n",
    "# # Calculs déjà réalisés\n",
    "# misclassified_counts = conf_matrix_df_labeled.sum(axis=1) - np.diag(conf_matrix_df_labeled)\n",
    "# total_samples_per_class = conf_matrix_df_labeled.sum(axis=1)\n",
    "# misclassification_rates = round((misclassified_counts / total_samples_per_class) * 100, 2)\n",
    "\n",
    "# # [✔]Call the function with a custom number of rows to display\n",
    "# # You can set `display_rows` to control how many rows are shown in the notebook.\n",
    "# # By default, it displays 10 rows.\n",
    "# misclassification_analysis_df = analyze_and_display_misclassification(\n",
    "#     y_test, y_pred_classes, misclassified_counts, total_samples_per_class, misclassification_rates, display_rows=10\n",
    "# )\n"
   ]
  },
  {
   "cell_type": "markdown",
   "id": "5cc714a4",
   "metadata": {},
   "source": [
    "### 6.3.3 Detailed Misclassification Statistics  \n",
    "→ **Analyze individual misclassification cases, including total errors, misclassification rates, and overprediction trends.**  \n",
    "\n",
    "####  Meaning of Columns in the Classification Error Analysis Table  \n",
    "\n",
    "| **Column**                | **Description** |\n",
    "|---------------------------|----------------|\n",
    "| **True Label**            | The actual class of the sample in the test set (the correct category). |\n",
    "| **Predicted Label**       | The incorrect class predicted by the model instead of the **True Label**. |\n",
    "| **Count**                 | The number of times samples from **True Label** were misclassified as **Predicted Label**. |\n",
    "| **Percentage**            | The proportion of this specific misclassification relative to **all misclassified instances**. Computed as: `(Count / Total Misclassified) * 100`. |\n",
    "| **Class Sample Size** | The total number of test samples belonging to the **True Label** class (i.e., how many instances of this class exist in the test set). |\n",
    "| **Misclassified Count**   | The total number of **True Label** samples that were misclassified (sum of all errors for this class). |\n",
    "| **Misclassification Rate** | The error rate for the **True Label** class. Computed as: `(Misclassified Count /Class Sample Size) * 100`. |\n",
    "| **Total Predicted**       | The total number of test samples predicted as belonging to the **Predicted Label** class (both correctly and incorrectly). |\n",
    "| **Incorrect Predictions** | The number of test samples **incorrectly predicted** as **Predicted Label** (should have been a different class). |\n",
    "| **Overprediction Rate**   | The proportion of incorrect predictions for the **Predicted Label** class. Computed as: `(Incorrect Predictions / Total Predicted) * 100`. |\n",
    "\n"
   ]
  },
  {
   "cell_type": "code",
   "execution_count": null,
   "id": "3ba650bb",
   "metadata": {
    "scrolled": false
   },
   "outputs": [],
   "source": [
    "# importlib.reload(config) \n",
    "# import src.model_evaluation  # Initial import\n",
    "# importlib.reload(src.model_evaluation)  # Force reload to use updated functions\n",
    "# from src.model_evaluation import generate_display_misclass_report\n",
    "\n",
    "# # Generate the enriched misclassification report\n",
    "# # NOTE: To display only a subset of rows, modify display_rows when calling the function\n",
    "# # Example: Use display_rows=20 to show only the top 20 rows:\n",
    "# misclassification_report = generate_display_misclass_report(\n",
    "#     y_test, y_pred_classes, config.PRDTYPECODE_MAPPING_PATH, display_rows=20 # Set top_n to an integer (e.g., 20) to limit rows\n",
    "# )\n",
    "\n",
    "# # # Display the final enriched report\n",
    "# # print(\"\\n[✔] Consolidated Misclassification Report:\")\n",
    "# # display(misclassification_report)"
   ]
  },
  {
   "cell_type": "markdown",
   "id": "28a26da3",
   "metadata": {},
   "source": [
    "### 6.4 **Exporting Classification Analysis to Excel** \n",
    "\n",
    "This step saves all classification insights into a **single Excel file** with multiple sheets for easy review.  \n",
    "\n",
    "####  Exported Data Includes:\n",
    "- **Well-Classified, Moderately Classified, Poorly Classified** categories (sorted by F1-score).  \n",
    "- **Misclassification Analysis** (error rates, misclassified counts).  \n",
    "- **Consolidated Misclassification Report** (detailed misclassification breakdown per class).  \n",
    "- **Raw Confusion Matrix** (numerical values without labels).  \n",
    "\n",
    "####  Output File Example:  \n",
    "**`classification_analysis_<MODEL_NAME>_<TIMESTAMP>.xlsx`**  \n",
    "\n"
   ]
  },
  {
   "cell_type": "code",
   "execution_count": null,
   "id": "db785437",
   "metadata": {},
   "outputs": [],
   "source": [
    "\n",
    "# # Generate and process the classification report\n",
    "# classification_df, summary_rows, accuracy_value, accuracy_support = process_classification_report(\n",
    "#     y_test, y_pred_classes, config.PRDTYPECODE_MAPPING_PATH\n",
    "# )\n",
    "# print(type(classification_df))\n",
    "# print(type(summary_rows))\n",
    "# print(type(accuracy_value))\n",
    "# print(type(accuracy_support))\n",
    "    \n",
    "# # Display processed classification report\n",
    "# print(\"\\n[✔] Processed Classification Report with Mapped Classes and Original Labels\")\n",
    "# display(classification_df.tail(5))\n",
    "\n",
    "# # Display accuracy separately\n",
    "# print(f\"\\n[✔] Accuracy: {accuracy_value:.2f} (on {accuracy_support} samples)\\n\")\n",
    "\n",
    "# # Display final classification summary\n",
    "# print(\"\\n[✔] Classification Summary Rows\")\n",
    "# display(summary_rows.tail(5))\n"
   ]
  },
  {
   "cell_type": "code",
   "execution_count": null,
   "id": "22b46b14",
   "metadata": {},
   "outputs": [],
   "source": [
    "# import importlib\n",
    "# import src.model_evaluation  # Initial import\n",
    "# import src.export_utils  # # Initial import\n",
    "\n",
    "# importlib.reload(config) # Force reload module\n",
    "# importlib.reload(src.model_evaluation)  # Force reload module\n",
    "# importlib.reload(src.export_utils)  # Force reload module\n",
    "\n",
    "# from src.model_evaluation import analyze_and_display_misclassification, generate_display_misclass_report\n",
    "# from src.export_utils import export_all_analysis\n",
    "\n",
    "\n",
    "# # Define model name and file prefix\n",
    "# model_used = \"GRU_Model\"\n",
    "# file_prefix = \"classification_analysis\"\n",
    "\n",
    "# # Generate and process the classification report\n",
    "# classification_df, summary_rows, accuracy_value, accuracy_support = process_classification_report(\n",
    "#     y_test, y_pred_classes, config.PRDTYPECODE_MAPPING_PATH\n",
    "# )\n",
    "\n",
    "\n",
    "# # Convert conf_matrix_df_raw to Pandas DataFrame\n",
    "# conf_matrix_df = pd.DataFrame(conf_matrix_df_raw, \n",
    "#                               index=[f\"True Class {label}\" for label in set(y_test)],  # Index as True Labels\n",
    "#                               columns=[f\"Pred Class {label}\" for label in set(y_pred_classes)])  # Columns as Predicted Labels\n",
    "\n",
    "\n",
    "\n",
    "# # Generates and displays misclassification analysis\n",
    "# full_misclassification_analysis_df = analyze_and_display_misclassification(y_test,\n",
    "#                                                                            y_pred_classes,\n",
    "#                                                                            misclassified_counts,\n",
    "#                                                                            total_samples_per_class,\n",
    "#                                                                            misclassification_rates,\n",
    "#                                                                            display_rows=None,\n",
    "#                                                                            display_output=False\n",
    "# )\n",
    "\n",
    "# #Generates and displays a comprehensive misclassification report combining multiple analyses\n",
    "# full_misclassification_report = generate_display_misclass_report(y_test,\n",
    "#                                                                  y_pred_classes,\n",
    "#                                                                  config.PRDTYPECODE_MAPPING_PATH,\n",
    "#                                                                  display_rows=None,\n",
    "#                                                                 display_output=False\n",
    "# )\n",
    "\n",
    "\n",
    "\n",
    "# dataframes_to_export = {\n",
    "#     \"Class Categorization\": {\n",
    "#         f\"Well-Classified (F1 ≥ {WELL_CLASSIFIED_THRESHOLD:.2f})\": well_classified.sort_values(by=\"f1-score\", ascending=False),\n",
    "#         f\"Moderately Classified ({MODERATELY_CLASSIFIED_THRESHOLD:.2f} ≤ F1 < {WELL_CLASSIFIED_THRESHOLD:.2f})\": moderately_classified.sort_values(by=\"f1-score\", ascending=False),\n",
    "#         f\"Poorly Classified (F1 < {MODERATELY_CLASSIFIED_THRESHOLD:.2f})\": poorly_classified.sort_values(by=\"f1-score\", ascending=True),\n",
    "#     },\n",
    "#     \"Misclassification Analysis\": full_misclassification_analysis_df,\n",
    "#     \"Consolidated Misclassification Report\": full_misclassification_report,\n",
    "#     \"Raw Confusion Matrix\": conf_matrix_df\n",
    "# }\n",
    "\n",
    "# # Export all the data\n",
    "# export_path = export_all_analysis(\n",
    "#     dataframes_dict=dataframes_to_export,\n",
    "#     model_name=model_used,\n",
    "#     file_prefix=file_prefix,\n",
    "#     mode=\"text\",\n",
    "#     classification_df=classification_df,\n",
    "#     summary_rows=summary_rows,\n",
    "#     accuracy_value=accuracy_value,\n",
    "#     accuracy_support=accuracy_support\n",
    "# )\n",
    "\n",
    "# # Print confirmation\n",
    "# print(f\"\\n[✔] Full classification analysis saved to: {export_path}\")"
   ]
  },
  {
   "cell_type": "markdown",
   "id": "757bb746",
   "metadata": {},
   "source": [
    "## 7. Hyperparameter Tuning (Optional – Depending on Time & Resources) "
   ]
  },
  {
   "cell_type": "markdown",
   "id": "e42f674e",
   "metadata": {},
   "source": [
    "### 7.1 Hyperparameter Search for GRU Cell Model using RandomizedSearchCV  \n",
    "\n",
    "In this section, we perform **hyperparameter tuning** for the GRU-based text classification model using **RandomizedSearchCV**. Given computational constraints, we focus on optimizing only the **dropout rate** and **number of epochs**, while keeping other parameters fixed. This approach ensures an efficient search while maintaining model performance.  \n",
    "\n",
    "#### **Fixed Hyperparameters:**  \n",
    "- **Batch Size = 200**: Initial results showed stable performance with `batch_size=200`, making it a reliable choice.  \n",
    "\n",
    "#### **Limited Hyperparameter Search:**  \n",
    "- **Dropout Rate (0.2, 0.3)**: Helps control overfitting and improve generalization.  \n",
    "- **Epochs (5, 8)**: Ensures training is not too short (underfitting) or too long (wasting resources).  \n",
    "\n",
    "#### **Efficient Computation:**  \n",
    "- **n_jobs=1**: Prevents system overload and excessive parallelization.  \n",
    "- **cv=2**: Balances validation stability and computational cost.  \n",
    "- **n_iter=4**: Covers all possible combinations of `dropout_rate` and `epochs`.  \n",
    "- **Early Stopping**: Automatically stops training if validation accuracy doesn’t improve, optimizing resource usage.  \n"
   ]
  },
  {
   "cell_type": "code",
   "execution_count": null,
   "id": "502ed7df",
   "metadata": {},
   "outputs": [],
   "source": [
    "# %%time\n",
    "\n",
    "# # Function to create the model\n",
    "# def create_model(dropout_rate=0.2, epochs=5):\n",
    "#     model = Sequential()\n",
    "#     model.add(Embedding(10000, 200))  # Embedding layer\n",
    "#     model.add(RNN(GRUCell(128), return_sequences=True))  # GRU Layer (Fixed at 128 units)\n",
    "#     model.add(Dropout(dropout_rate))  # Dropout layer\n",
    "#     model.add(GlobalAveragePooling1D())  # Global Average Pooling\n",
    "#     model.add(Dense(256, activation='relu'))  # Dense Layer\n",
    "#     model.add(Dropout(dropout_rate))  # Dropout layer\n",
    "#     model.add(Dense(27, activation='softmax'))  # Output Layer\n",
    "\n",
    "#     # Use Adam optimizer with fixed learning rate\n",
    "#     optimizer = Adam(learning_rate=0.001)\n",
    "\n",
    "#     model.compile(optimizer=optimizer, loss='sparse_categorical_crossentropy', metrics=['accuracy'])\n",
    "\n",
    "#     return model\n"
   ]
  },
  {
   "cell_type": "markdown",
   "id": "3881b73e",
   "metadata": {},
   "source": [
    "### 7.2 Retraining the GRUCell Model with Optimized Hyperparameters"
   ]
  },
  {
   "cell_type": "code",
   "execution_count": null,
   "id": "f3570327",
   "metadata": {},
   "outputs": [],
   "source": [
    "# %%time\n",
    "\n",
    "# from scikeras.wrappers import KerasClassifier\n",
    "# from sklearn.model_selection import RandomizedSearchCV\n",
    "# from tensorflow.keras.callbacks import EarlyStopping\n",
    "\n",
    "# # Fixed batch size\n",
    "# BATCH_SIZE = 200\n",
    "\n",
    "# # Wrap the Keras model with Sci-Keras KerasClassifier\n",
    "# model = KerasClassifier(model=create_model, verbose=0)\n",
    "\n",
    "# # Define early stopping (stop training if val_accuracy doesn’t improve for 3 epochs)\n",
    "# early_stopping = EarlyStopping(monitor='val_accuracy', patience=3, restore_best_weights=True)\n",
    "\n",
    "# # Hyperparameter grid to search (only dropout rate and epochs)\n",
    "# param_dist = {\n",
    "#     'model__dropout_rate': [0.2, 0.3],  # Pass as model__dropout_rate for KerasClassifier\n",
    "#     'model__epochs': [5, 8],  # Pass as model__epochs\n",
    "# }\n",
    "\n",
    "# # Use RandomizedSearchCV for hyperparameter tuning\n",
    "# random_search = RandomizedSearchCV(\n",
    "#     estimator=model, \n",
    "#     param_distributions=param_dist, \n",
    "#     n_iter=4,  # Cover all possible combinations\n",
    "#     cv=2,  # Reduce cross-validation folds for efficiency\n",
    "#     verbose=2, \n",
    "#     n_jobs=-1  \n",
    "# )\n",
    "\n",
    "# # Fit the RandomizedSearchCV on the training data\n",
    "# random_search.fit(X_train, y_train.values)\n",
    "\n",
    "# # Print the best hyperparameters found\n",
    "# print(f\"Best Hyperparameters: {random_search.best_params_}\")\n"
   ]
  },
  {
   "cell_type": "markdown",
   "id": "1ae065c5",
   "metadata": {},
   "source": [
    " ### 7.3 Evaluating the Performance of the Best Model"
   ]
  },
  {
   "cell_type": "code",
   "execution_count": null,
   "id": "293b01c1",
   "metadata": {},
   "outputs": [],
   "source": [
    "# # ==========================================================================================\n",
    "# # Evaluate the Best Model Performance\n",
    "# # ==========================================================================================\n",
    "\n",
    "# # Make predictions on the test set\n",
    "# y_pred_best = best_model.predict(X_test)\n",
    "# y_pred_best = y_pred_best.argmax(axis=1)  # Convert one-hot or probability outputs to class labels if necessary\n",
    "\n",
    "# # Compute evaluation metrics\n",
    "# accuracy = accuracy_score(y_test, y_pred_best)\n",
    "# weighted_f1 = f1_score(y_test, y_pred_best, average=\"weighted\")\n",
    "\n",
    "# # Print classification report\n",
    "# print(f\"[✔] Accuracy: {accuracy:.4f}\")\n",
    "# print(f\"[✔] Weighted F1-Score: {weighted_f1:.4f}\\n\")\n",
    "# print(\"Classification Report:\\n\", classification_report(y_test, y_pred_best))\n",
    "\n",
    "# # Compute confusion matrix\n",
    "# conf_matrix = confusion_matrix(y_test, y_pred_best)\n",
    "\n",
    "# # Plot the confusion matrix\n",
    "# plt.figure(figsize=(18, 12))\n",
    "# sns.heatmap(conf_matrix, annot=True, fmt=\"d\", cmap=\"Blues\", xticklabels=range(27), yticklabels=range(27))\n",
    "# plt.xlabel(\"Predicted Label\")\n",
    "# plt.ylabel(\"True Label\")\n",
    "# plt.title(\"Confusion Matrix for the Best GRU Cell Model\")\n",
    "# plt.show()\n"
   ]
  },
  {
   "cell_type": "markdown",
   "id": "24d308b1",
   "metadata": {},
   "source": [
    "## 8. Conclusion"
   ]
  },
  {
   "cell_type": "code",
   "execution_count": null,
   "id": "30412f28",
   "metadata": {},
   "outputs": [],
   "source": []
  }
 ],
 "metadata": {
  "kernelspec": {
   "display_name": "Python 3 (ipykernel)",
   "language": "python",
   "name": "python3"
  },
  "language_info": {
   "codemirror_mode": {
    "name": "ipython",
    "version": 3
   },
   "file_extension": ".py",
   "mimetype": "text/x-python",
   "name": "python",
   "nbconvert_exporter": "python",
   "pygments_lexer": "ipython3",
   "version": "3.8.13"
  }
 },
 "nbformat": 4,
 "nbformat_minor": 5
}
