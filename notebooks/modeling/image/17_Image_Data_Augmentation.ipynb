{
 "cells": [
  {
   "cell_type": "markdown",
   "id": "dc64db59",
   "metadata": {},
   "source": [
    "# 1. Introduction & Objectives\n",
    "\n",
    "**Purpose**:\n",
    "\n",
    "Investigate the impact of data augmentation on image classification.\n",
    "Compare results with and without augmentation across different models.\n",
    "Improve model generalization and performance.\n",
    "Selected Models for this Experiment:  \n",
    "\n",
    "✅ InceptionResNetV2   \n",
    "✅ DenseNet121  \n",
    "✅ Xception  \n",
    "✅ MobileNetV2  "
   ]
  },
  {
   "cell_type": "markdown",
   "id": "1bb5c542",
   "metadata": {},
   "source": [
    "# 2. Import Required Libraries & Configuration"
   ]
  },
  {
   "cell_type": "code",
   "execution_count": 7,
   "id": "0116b7c8",
   "metadata": {},
   "outputs": [
    {
     "name": "stdout",
     "output_type": "stream",
     "text": [
      "Project Root Directory: Data_Scientist_Rakuten_Project-main\n",
      "\n",
      "Metadata dataframe Directory: D:\\Data_Science\\Append_Data_Engineer_AWS_MLOPS\\Data_Scientist_Rakuten_Project-main\\data\\processed\\X_train_final_encoded.pkl\n",
      "\n",
      "Image directory: D:\\Data_Science\\Append_Data_Engineer_AWS_MLOPS\\Data_Scientist_Rakuten_Project-main\\data\\processed\\X_train_final_encoded.pkl\n"
     ]
    }
   ],
   "source": [
    "# Standard libraries\n",
    "import os\n",
    "import sys\n",
    "import importlib\n",
    "from pathlib import Path\n",
    "import numpy as np\n",
    "import matplotlib.pyplot as plt\n",
    "# TensorFlow / Keras\n",
    "import tensorflow as tf\n",
    "# Sklearn metrics\n",
    "from sklearn.metrics import classification_report, confusion_matrix\n",
    "\n",
    "\n",
    "#----------------------Setting Up Project Paths and Configurations---------------------------------------#\n",
    "\n",
    "# Get the current notebook directory\n",
    "CURRENT_DIR = Path(os.getcwd()).resolve()\n",
    "# Automatically find the project root (go up 2 level)\n",
    "PROJECT_ROOT = CURRENT_DIR.parents[2]\n",
    "# Add project root to sys.path\n",
    "sys.path.append(str(PROJECT_ROOT))\n",
    "\n",
    "# Function to get relative paths from project root\n",
    "def get_relative_path(absolute_path):\n",
    "    return str(Path(absolute_path).relative_to(PROJECT_ROOT))\n",
    "\n",
    "# Print project root directory\n",
    "print(f\"Project Root Directory: {PROJECT_ROOT.name}\")  # Display only the root folder name\n",
    "\n",
    "# Import project configuration\n",
    "import config  # Now Python can find config.py\n",
    "importlib.reload(config)  # Reload config to ensure any updates are applied\n",
    "#-------------------------------------------------------------------------------------------------#\n",
    "\n",
    "# Define dataset paths using config.py\n",
    "train_pickle_path = Path(config.XTRAIN_FINAL_ENCODED_PATH)  # Metadata dataframe\n",
    "images_dir_train_path = Path(config.RAW_IMAGE_TRAIN_DIR)   # Image directory\n",
    "\n",
    "# Display project root path\n",
    "print(f\"\\nMetadata dataframe Directory: {train_pickle_path}\")\n",
    "print(f\"\\nImage directory: {train_pickle_path}\")"
   ]
  },
  {
   "cell_type": "markdown",
   "id": "c8f33512",
   "metadata": {},
   "source": [
    "# 3. Data Preprocessing with Augmentation"
   ]
  },
  {
   "cell_type": "markdown",
   "id": "8775e559",
   "metadata": {},
   "source": [
    "## 3.1 Load Image Data"
   ]
  },
  {
   "cell_type": "code",
   "execution_count": 10,
   "id": "9f8f11d3",
   "metadata": {},
   "outputs": [
    {
     "ename": "NameError",
     "evalue": "name 'X_train_im' is not defined",
     "output_type": "error",
     "traceback": [
      "\u001b[1;31m---------------------------------------------------------------------------\u001b[0m",
      "\u001b[1;31mNameError\u001b[0m                                 Traceback (most recent call last)",
      "\u001b[1;32m~\\AppData\\Local\\Temp\\ipykernel_9088\\3991740936.py\u001b[0m in \u001b[0;36m<cell line: 17>\u001b[1;34m()\u001b[0m\n\u001b[0;32m     16\u001b[0m \u001b[1;31m# With  augmentation (par default)\u001b[0m\u001b[1;33m\u001b[0m\u001b[1;33m\u001b[0m\u001b[1;33m\u001b[0m\u001b[0m\n\u001b[0;32m     17\u001b[0m train_generator, valid_generator = load_image_generators(\n\u001b[1;32m---> 18\u001b[1;33m     \u001b[0mX_train_im\u001b[0m\u001b[1;33m,\u001b[0m \u001b[0mX_test_im\u001b[0m\u001b[1;33m,\u001b[0m \u001b[0mconfig\u001b[0m\u001b[1;33m.\u001b[0m\u001b[0mRAW_IMAGE_TRAIN_DIR\u001b[0m\u001b[1;33m,\u001b[0m \u001b[0mIMG_SIZE\u001b[0m\u001b[1;33m,\u001b[0m \u001b[0mBATCH_SIZE\u001b[0m\u001b[1;33m\u001b[0m\u001b[1;33m\u001b[0m\u001b[0m\n\u001b[0m\u001b[0;32m     19\u001b[0m )\n\u001b[0;32m     20\u001b[0m \u001b[1;33m\u001b[0m\u001b[0m\n",
      "\u001b[1;31mNameError\u001b[0m: name 'X_train_im' is not defined"
     ]
    }
   ],
   "source": [
    "import importlib\n",
    "import config\n",
    "import src.data_preprocessing.data_loader # Initial import\n",
    "importlib.reload(config)  # Force reload the module\n",
    "importlib.reload(src.data_preprocessing.data_loader)  # Force reload the module\n",
    "from src.data_preprocessing.data_loader import load_image_generators\n",
    "\n",
    "\n",
    "# Load training and validation data with augmentation enabled\n",
    "\n",
    "\n",
    "# Define parameters\n",
    "IMG_SIZE = (224, 224)  \n",
    "BATCH_SIZE = 32\n",
    "\n",
    "# With  augmentation (par default)\n",
    "train_generator, valid_generator = load_image_generators(\n",
    "    X_train_im, X_test_im, config.RAW_IMAGE_TRAIN_DIR, IMG_SIZE, BATCH_SIZE\n",
    ")\n",
    "\n",
    "\n"
   ]
  },
  {
   "cell_type": "markdown",
   "id": "11e73fe1",
   "metadata": {},
   "source": [
    "## 3.2  Apply Data Augmentation"
   ]
  },
  {
   "cell_type": "code",
   "execution_count": null,
   "id": "d744099e",
   "metadata": {},
   "outputs": [],
   "source": [
    "from src.data_preprocessing.preprocessing import apply_augmentation\n",
    "\n",
    "# Apply transformations like flipping, rotation, zoom, etc.\n",
    "augmented_train_generator = apply_augmentation(train_generator)\n"
   ]
  },
  {
   "cell_type": "markdown",
   "id": "26a38f17",
   "metadata": {},
   "source": [
    "## 3.3 Display Sample Augmented Images"
   ]
  },
  {
   "cell_type": "code",
   "execution_count": null,
   "id": "2982ae4a",
   "metadata": {},
   "outputs": [],
   "source": [
    "from src.data_preprocessing.preprocessing import show_augmented_images\n",
    "\n",
    "# Display some randomly augmented images\n",
    "show_augmented_images(augmented_train_generator)\n"
   ]
  },
  {
   "cell_type": "markdown",
   "id": "73bdf1a3",
   "metadata": {},
   "source": [
    "# 4. Model Training with Augmented Data"
   ]
  },
  {
   "cell_type": "markdown",
   "id": "7c903f47",
   "metadata": {},
   "source": [
    "## 4.1 Define Training Hyperparameters"
   ]
  },
  {
   "cell_type": "code",
   "execution_count": null,
   "id": "622054c3",
   "metadata": {},
   "outputs": [],
   "source": [
    "EPOCHS = 20\n",
    "BATCH_SIZE = 32\n",
    "LEARNING_RATE = 0.001"
   ]
  },
  {
   "cell_type": "markdown",
   "id": "c81b7ad9",
   "metadata": {},
   "source": [
    "## 4.2 Load & Compile Models"
   ]
  },
  {
   "cell_type": "code",
   "execution_count": null,
   "id": "fdae3e86",
   "metadata": {},
   "outputs": [],
   "source": [
    "from src.modeling_image.model_builder import build_model\n",
    "\n",
    "# Initialize models\n",
    "models = {\n",
    "    \"InceptionResNetV2\": build_model(\"InceptionResNetV2\", (299, 299, 3), 27),\n",
    "    \"DenseNet121\": build_model(\"DenseNet121\", (224, 224, 3), 27),\n",
    "    \"Xception\": build_model(\"Xception\", (299, 299, 3), 27),\n",
    "    \"MobileNetV2\": build_model(\"MobileNetV2\", (224, 224, 3), 27)\n",
    "}\n"
   ]
  },
  {
   "cell_type": "markdown",
   "id": "e13f6527",
   "metadata": {},
   "source": [
    "## 4.3 Train Models Using Augmented Data"
   ]
  },
  {
   "cell_type": "code",
   "execution_count": null,
   "id": "74586acd",
   "metadata": {},
   "outputs": [],
   "source": [
    "from src.modeling_image.training import train_model\n",
    "\n",
    "# Train each model and store history\n",
    "history_dict = {}\n",
    "for name, model in models.items():\n",
    "    print(f\" Training {name}...\")\n",
    "    history_dict[name] = train_model(model, augmented_train_generator, val_generator, EPOCHS, BATCH_SIZE)\n"
   ]
  },
  {
   "cell_type": "markdown",
   "id": "72bf201c",
   "metadata": {},
   "source": [
    "# 5. Model Evaluation"
   ]
  },
  {
   "cell_type": "markdown",
   "id": "755ebdcb",
   "metadata": {},
   "source": [
    "## 5.1 Learning Curves"
   ]
  },
  {
   "cell_type": "code",
   "execution_count": null,
   "id": "48b9783c",
   "metadata": {},
   "outputs": [],
   "source": [
    "from src.modeling_image.evaluation import plot_learning_curves\n",
    "\n",
    "for name, history in history_dict.items():\n",
    "    plot_learning_curves(history, title=f\"Learning Curve - {name} (Augmented Data)\")\n"
   ]
  },
  {
   "cell_type": "markdown",
   "id": "5428b940",
   "metadata": {},
   "source": [
    "## 5.2 Compute Classification Metrics"
   ]
  },
  {
   "cell_type": "code",
   "execution_count": null,
   "id": "4b202eed",
   "metadata": {},
   "outputs": [],
   "source": [
    "from src.modeling_image.evaluation import evaluate_model\n",
    "\n",
    "# Evaluate each model\n",
    "for name, model in models.items():\n",
    "    print(f\"Evaluating {name}...\")\n",
    "    evaluate_model(model, val_generator)\n"
   ]
  },
  {
   "cell_type": "markdown",
   "id": "98fe169a",
   "metadata": {},
   "source": [
    "## 5.3 Compute Confusion Matrix"
   ]
  },
  {
   "cell_type": "code",
   "execution_count": null,
   "id": "59d091f8",
   "metadata": {},
   "outputs": [],
   "source": [
    "from src.modeling_image.evaluation import plot_confusion_matrix\n",
    "\n",
    "# Generate confusion matrices\n",
    "for name, model in models.items():\n",
    "    print(f\"Confusion Matrix - {name}\")\n",
    "    plot_confusion_matrix(model, val_generator)\n"
   ]
  },
  {
   "cell_type": "markdown",
   "id": "cf48d244",
   "metadata": {},
   "source": [
    "# 6. Saving the Trained Model"
   ]
  },
  {
   "cell_type": "code",
   "execution_count": null,
   "id": "6b82c8ce",
   "metadata": {},
   "outputs": [],
   "source": []
  },
  {
   "cell_type": "markdown",
   "id": "bb9751b3",
   "metadata": {},
   "source": [
    "# 7. Customized Model Performance Analysis"
   ]
  },
  {
   "cell_type": "code",
   "execution_count": null,
   "id": "6cdd68cf",
   "metadata": {},
   "outputs": [],
   "source": []
  },
  {
   "cell_type": "markdown",
   "id": "3aec151c",
   "metadata": {},
   "source": [
    "# 8. Results & Insights"
   ]
  },
  {
   "cell_type": "markdown",
   "id": "8a46205a",
   "metadata": {},
   "source": [
    "🔹 Key Observations\n",
    "Which augmentation techniques improved model performance?\n",
    "Are some models more sensitive to augmentation?\n",
    "What is the performance difference between augmented vs. non-augmented models?\n",
    "Best Performing Models (Based on F1-Score & Accuracy):\n",
    "\n",
    "Model\tAccuracy\tF1 Score (Weighted)\n",
    "InceptionResNetV2\t??\t??\n",
    "DenseNet121\t??\t??\n",
    "Xception\t??\t??\n",
    "MobileNetV2\t??\t??\n"
   ]
  },
  {
   "cell_type": "markdown",
   "id": "bc19b7ca",
   "metadata": {},
   "source": [
    "# 9. Next Steps\n",
    "🔜 Transition to: 18_Image_Fine_Tuning.ipynb\n",
    "\n",
    "Unfreeze top layers for fine-tuning.\n",
    "Adjust learning rates for better convergence.\n",
    "Test advanced optimizations (batch normalization, dropout tuning...)"
   ]
  },
  {
   "cell_type": "code",
   "execution_count": null,
   "id": "35aa8be6",
   "metadata": {},
   "outputs": [],
   "source": []
  }
 ],
 "metadata": {
  "kernelspec": {
   "display_name": "Python 3 (ipykernel)",
   "language": "python",
   "name": "python3"
  },
  "language_info": {
   "codemirror_mode": {
    "name": "ipython",
    "version": 3
   },
   "file_extension": ".py",
   "mimetype": "text/x-python",
   "name": "python",
   "nbconvert_exporter": "python",
   "pygments_lexer": "ipython3",
   "version": "3.8.13"
  }
 },
 "nbformat": 4,
 "nbformat_minor": 5
}
